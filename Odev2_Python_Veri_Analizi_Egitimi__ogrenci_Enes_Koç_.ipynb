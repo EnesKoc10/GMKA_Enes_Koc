{
 "cells": [
  {
   "cell_type": "markdown",
   "id": "68d00dc5",
   "metadata": {
    "id": "68d00dc5"
   },
   "source": [
    "# <center> Güney Marmara ve TRAI\n",
    "# <center> Python Veri Analizi Eğitimi\n",
    "# <center> Ödev 2"
   ]
  },
  {
   "cell_type": "markdown",
   "id": "2fa9e531",
   "metadata": {
    "id": "2fa9e531"
   },
   "source": [
    "### BIST30 Endeksinin incelenmesi"
   ]
  },
  {
   "cell_type": "markdown",
   "id": "f883fa72",
   "metadata": {
    "id": "f883fa72"
   },
   "source": [
    "1. <i> Yahoo Finance</i> sitesinden 2021 yılına ait BIST30 endeks değerlerini indiriniz"
   ]
  },
  {
   "cell_type": "code",
   "execution_count": 15,
   "id": "WiFe-hJnv-D8",
   "metadata": {
    "id": "WiFe-hJnv-D8"
   },
   "outputs": [
    {
     "name": "stdout",
     "output_type": "stream",
     "text": [
      "Requirement already satisfied: yfinance in c:\\users\\seros\\anaconda3\\lib\\site-packages (0.2.18)\n",
      "Requirement already satisfied: pytz>=2022.5 in c:\\users\\seros\\anaconda3\\lib\\site-packages (from yfinance) (2023.3)\n",
      "Requirement already satisfied: numpy>=1.16.5 in c:\\users\\seros\\anaconda3\\lib\\site-packages (from yfinance) (1.24.3)\n",
      "Requirement already satisfied: pandas>=1.3.0 in c:\\users\\seros\\anaconda3\\lib\\site-packages (from yfinance) (2.0.1)\n",
      "Requirement already satisfied: frozendict>=2.3.4 in c:\\users\\seros\\anaconda3\\lib\\site-packages (from yfinance) (2.3.7)\n",
      "Requirement already satisfied: appdirs>=1.4.4 in c:\\users\\seros\\anaconda3\\lib\\site-packages (from yfinance) (1.4.4)\n",
      "Requirement already satisfied: cryptography>=3.3.2 in c:\\users\\seros\\anaconda3\\lib\\site-packages (from yfinance) (3.4.7)\n",
      "Requirement already satisfied: html5lib>=1.1 in c:\\users\\seros\\anaconda3\\lib\\site-packages (from yfinance) (1.1)\n",
      "Requirement already satisfied: beautifulsoup4>=4.11.1 in c:\\users\\seros\\anaconda3\\lib\\site-packages (from yfinance) (4.12.2)\n",
      "Requirement already satisfied: multitasking>=0.0.7 in c:\\users\\seros\\anaconda3\\lib\\site-packages (from yfinance) (0.0.11)\n",
      "Requirement already satisfied: requests>=2.26 in c:\\users\\seros\\anaconda3\\lib\\site-packages (from yfinance) (2.29.0)\n",
      "Requirement already satisfied: lxml>=4.9.1 in c:\\users\\seros\\anaconda3\\lib\\site-packages (from yfinance) (4.9.2)\n",
      "Requirement already satisfied: soupsieve>1.2 in c:\\users\\seros\\anaconda3\\lib\\site-packages (from beautifulsoup4>=4.11.1->yfinance) (2.2.1)\n",
      "Requirement already satisfied: cffi>=1.12 in c:\\users\\seros\\anaconda3\\lib\\site-packages (from cryptography>=3.3.2->yfinance) (1.14.5)\n",
      "Requirement already satisfied: pycparser in c:\\users\\seros\\anaconda3\\lib\\site-packages (from cffi>=1.12->cryptography>=3.3.2->yfinance) (2.20)\n",
      "Requirement already satisfied: six>=1.9 in c:\\users\\seros\\anaconda3\\lib\\site-packages (from html5lib>=1.1->yfinance) (1.15.0)\n",
      "Requirement already satisfied: webencodings in c:\\users\\seros\\anaconda3\\lib\\site-packages (from html5lib>=1.1->yfinance) (0.5.1)\n",
      "Requirement already satisfied: python-dateutil>=2.8.2 in c:\\users\\seros\\anaconda3\\lib\\site-packages (from pandas>=1.3.0->yfinance) (2.8.2)\n",
      "Requirement already satisfied: tzdata>=2022.1 in c:\\users\\seros\\anaconda3\\lib\\site-packages (from pandas>=1.3.0->yfinance) (2023.3)\n",
      "Requirement already satisfied: urllib3<1.27,>=1.21.1 in c:\\users\\seros\\anaconda3\\lib\\site-packages (from requests>=2.26->yfinance) (1.26.4)\n",
      "Requirement already satisfied: certifi>=2017.4.17 in c:\\users\\seros\\anaconda3\\lib\\site-packages (from requests>=2.26->yfinance) (2020.12.5)\n",
      "Requirement already satisfied: idna<4,>=2.5 in c:\\users\\seros\\anaconda3\\lib\\site-packages (from requests>=2.26->yfinance) (2.10)\n",
      "Requirement already satisfied: charset-normalizer<4,>=2 in c:\\users\\seros\\anaconda3\\lib\\site-packages (from requests>=2.26->yfinance) (3.1.0)\n",
      "[*********************100%***********************]  1 of 1 completed\n"
     ]
    },
    {
     "data": {
      "text/html": [
       "<div>\n",
       "<style scoped>\n",
       "    .dataframe tbody tr th:only-of-type {\n",
       "        vertical-align: middle;\n",
       "    }\n",
       "\n",
       "    .dataframe tbody tr th {\n",
       "        vertical-align: top;\n",
       "    }\n",
       "\n",
       "    .dataframe thead th {\n",
       "        text-align: right;\n",
       "    }\n",
       "</style>\n",
       "<table border=\"1\" class=\"dataframe\">\n",
       "  <thead>\n",
       "    <tr style=\"text-align: right;\">\n",
       "      <th></th>\n",
       "      <th>Open</th>\n",
       "      <th>High</th>\n",
       "      <th>Low</th>\n",
       "      <th>Close</th>\n",
       "      <th>Adj Close</th>\n",
       "      <th>Volume</th>\n",
       "    </tr>\n",
       "    <tr>\n",
       "      <th>Date</th>\n",
       "      <th></th>\n",
       "      <th></th>\n",
       "      <th></th>\n",
       "      <th></th>\n",
       "      <th></th>\n",
       "      <th></th>\n",
       "    </tr>\n",
       "  </thead>\n",
       "  <tbody>\n",
       "    <tr>\n",
       "      <th>2021-01-04</th>\n",
       "      <td>1641.800049</td>\n",
       "      <td>1663.000000</td>\n",
       "      <td>1636.199951</td>\n",
       "      <td>1652.900024</td>\n",
       "      <td>1652.900024</td>\n",
       "      <td>2786700</td>\n",
       "    </tr>\n",
       "    <tr>\n",
       "      <th>2021-01-05</th>\n",
       "      <td>1648.599976</td>\n",
       "      <td>1662.099976</td>\n",
       "      <td>1623.900024</td>\n",
       "      <td>1640.400024</td>\n",
       "      <td>1640.400024</td>\n",
       "      <td>4314300</td>\n",
       "    </tr>\n",
       "    <tr>\n",
       "      <th>2021-01-06</th>\n",
       "      <td>1653.599976</td>\n",
       "      <td>1659.699951</td>\n",
       "      <td>1645.400024</td>\n",
       "      <td>1657.699951</td>\n",
       "      <td>1657.699951</td>\n",
       "      <td>3114300</td>\n",
       "    </tr>\n",
       "    <tr>\n",
       "      <th>2021-01-07</th>\n",
       "      <td>1664.699951</td>\n",
       "      <td>1679.199951</td>\n",
       "      <td>1658.000000</td>\n",
       "      <td>1678.199951</td>\n",
       "      <td>1678.199951</td>\n",
       "      <td>3939700</td>\n",
       "    </tr>\n",
       "    <tr>\n",
       "      <th>2021-01-08</th>\n",
       "      <td>1680.900024</td>\n",
       "      <td>1696.599976</td>\n",
       "      <td>1674.900024</td>\n",
       "      <td>1694.400024</td>\n",
       "      <td>1694.400024</td>\n",
       "      <td>3480600</td>\n",
       "    </tr>\n",
       "    <tr>\n",
       "      <th>...</th>\n",
       "      <td>...</td>\n",
       "      <td>...</td>\n",
       "      <td>...</td>\n",
       "      <td>...</td>\n",
       "      <td>...</td>\n",
       "      <td>...</td>\n",
       "    </tr>\n",
       "    <tr>\n",
       "      <th>2021-12-24</th>\n",
       "      <td>2000.300049</td>\n",
       "      <td>2086.800049</td>\n",
       "      <td>1986.800049</td>\n",
       "      <td>2086.800049</td>\n",
       "      <td>2086.800049</td>\n",
       "      <td>1794800</td>\n",
       "    </tr>\n",
       "    <tr>\n",
       "      <th>2021-12-27</th>\n",
       "      <td>2093.500000</td>\n",
       "      <td>2143.500000</td>\n",
       "      <td>2063.399902</td>\n",
       "      <td>2089.399902</td>\n",
       "      <td>2089.399902</td>\n",
       "      <td>2138300</td>\n",
       "    </tr>\n",
       "    <tr>\n",
       "      <th>2021-12-28</th>\n",
       "      <td>2107.399902</td>\n",
       "      <td>2109.800049</td>\n",
       "      <td>2011.300049</td>\n",
       "      <td>2032.900024</td>\n",
       "      <td>2032.900024</td>\n",
       "      <td>1840300</td>\n",
       "    </tr>\n",
       "    <tr>\n",
       "      <th>2021-12-29</th>\n",
       "      <td>2027.500000</td>\n",
       "      <td>2094.600098</td>\n",
       "      <td>2008.199951</td>\n",
       "      <td>2086.300049</td>\n",
       "      <td>2086.300049</td>\n",
       "      <td>1815200</td>\n",
       "    </tr>\n",
       "    <tr>\n",
       "      <th>2021-12-30</th>\n",
       "      <td>2109.300049</td>\n",
       "      <td>2119.100098</td>\n",
       "      <td>2037.900024</td>\n",
       "      <td>2040.199951</td>\n",
       "      <td>2040.199951</td>\n",
       "      <td>1646300</td>\n",
       "    </tr>\n",
       "  </tbody>\n",
       "</table>\n",
       "<p>238 rows × 6 columns</p>\n",
       "</div>"
      ],
      "text/plain": [
       "                   Open         High          Low        Close    Adj Close   \n",
       "Date                                                                          \n",
       "2021-01-04  1641.800049  1663.000000  1636.199951  1652.900024  1652.900024  \\\n",
       "2021-01-05  1648.599976  1662.099976  1623.900024  1640.400024  1640.400024   \n",
       "2021-01-06  1653.599976  1659.699951  1645.400024  1657.699951  1657.699951   \n",
       "2021-01-07  1664.699951  1679.199951  1658.000000  1678.199951  1678.199951   \n",
       "2021-01-08  1680.900024  1696.599976  1674.900024  1694.400024  1694.400024   \n",
       "...                 ...          ...          ...          ...          ...   \n",
       "2021-12-24  2000.300049  2086.800049  1986.800049  2086.800049  2086.800049   \n",
       "2021-12-27  2093.500000  2143.500000  2063.399902  2089.399902  2089.399902   \n",
       "2021-12-28  2107.399902  2109.800049  2011.300049  2032.900024  2032.900024   \n",
       "2021-12-29  2027.500000  2094.600098  2008.199951  2086.300049  2086.300049   \n",
       "2021-12-30  2109.300049  2119.100098  2037.900024  2040.199951  2040.199951   \n",
       "\n",
       "             Volume  \n",
       "Date                 \n",
       "2021-01-04  2786700  \n",
       "2021-01-05  4314300  \n",
       "2021-01-06  3114300  \n",
       "2021-01-07  3939700  \n",
       "2021-01-08  3480600  \n",
       "...             ...  \n",
       "2021-12-24  1794800  \n",
       "2021-12-27  2138300  \n",
       "2021-12-28  1840300  \n",
       "2021-12-29  1815200  \n",
       "2021-12-30  1646300  \n",
       "\n",
       "[238 rows x 6 columns]"
      ]
     },
     "execution_count": 15,
     "metadata": {},
     "output_type": "execute_result"
    }
   ],
   "source": [
    "!pip install yfinance\n",
    "import yfinance as yf\n",
    "B30 = yf.download('XU030.IS', start = '2021-01-01', end = '2021-12-31')\n",
    "B30"
   ]
  },
  {
   "cell_type": "markdown",
   "id": "dc8b286f",
   "metadata": {
    "id": "dc8b286f"
   },
   "source": [
    "2. Veriyi özet metotları ile inceleyiniz (head, info, describe)"
   ]
  },
  {
   "cell_type": "code",
   "execution_count": 16,
   "id": "Ojsk0PBfwAvB",
   "metadata": {
    "id": "Ojsk0PBfwAvB"
   },
   "outputs": [
    {
     "name": "stdout",
     "output_type": "stream",
     "text": [
      "<class 'pandas.core.frame.DataFrame'>\n",
      "DatetimeIndex: 238 entries, 2021-01-04 to 2021-12-30\n",
      "Data columns (total 6 columns):\n",
      " #   Column     Non-Null Count  Dtype  \n",
      "---  ------     --------------  -----  \n",
      " 0   Open       238 non-null    float64\n",
      " 1   High       238 non-null    float64\n",
      " 2   Low        238 non-null    float64\n",
      " 3   Close      238 non-null    float64\n",
      " 4   Adj Close  238 non-null    float64\n",
      " 5   Volume     238 non-null    int64  \n",
      "dtypes: float64(5), int64(1)\n",
      "memory usage: 13.0 KB\n"
     ]
    },
    {
     "data": {
      "text/html": [
       "<div>\n",
       "<style scoped>\n",
       "    .dataframe tbody tr th:only-of-type {\n",
       "        vertical-align: middle;\n",
       "    }\n",
       "\n",
       "    .dataframe tbody tr th {\n",
       "        vertical-align: top;\n",
       "    }\n",
       "\n",
       "    .dataframe thead th {\n",
       "        text-align: right;\n",
       "    }\n",
       "</style>\n",
       "<table border=\"1\" class=\"dataframe\">\n",
       "  <thead>\n",
       "    <tr style=\"text-align: right;\">\n",
       "      <th></th>\n",
       "      <th>Open</th>\n",
       "      <th>High</th>\n",
       "      <th>Low</th>\n",
       "      <th>Close</th>\n",
       "      <th>Adj Close</th>\n",
       "      <th>Volume</th>\n",
       "    </tr>\n",
       "    <tr>\n",
       "      <th>Date</th>\n",
       "      <th></th>\n",
       "      <th></th>\n",
       "      <th></th>\n",
       "      <th></th>\n",
       "      <th></th>\n",
       "      <th></th>\n",
       "    </tr>\n",
       "  </thead>\n",
       "  <tbody>\n",
       "    <tr>\n",
       "      <th>2021-01-04</th>\n",
       "      <td>1641.800049</td>\n",
       "      <td>1663.000000</td>\n",
       "      <td>1636.199951</td>\n",
       "      <td>1652.900024</td>\n",
       "      <td>1652.900024</td>\n",
       "      <td>2786700</td>\n",
       "    </tr>\n",
       "    <tr>\n",
       "      <th>2021-01-05</th>\n",
       "      <td>1648.599976</td>\n",
       "      <td>1662.099976</td>\n",
       "      <td>1623.900024</td>\n",
       "      <td>1640.400024</td>\n",
       "      <td>1640.400024</td>\n",
       "      <td>4314300</td>\n",
       "    </tr>\n",
       "    <tr>\n",
       "      <th>2021-01-06</th>\n",
       "      <td>1653.599976</td>\n",
       "      <td>1659.699951</td>\n",
       "      <td>1645.400024</td>\n",
       "      <td>1657.699951</td>\n",
       "      <td>1657.699951</td>\n",
       "      <td>3114300</td>\n",
       "    </tr>\n",
       "    <tr>\n",
       "      <th>2021-01-07</th>\n",
       "      <td>1664.699951</td>\n",
       "      <td>1679.199951</td>\n",
       "      <td>1658.000000</td>\n",
       "      <td>1678.199951</td>\n",
       "      <td>1678.199951</td>\n",
       "      <td>3939700</td>\n",
       "    </tr>\n",
       "    <tr>\n",
       "      <th>2021-01-08</th>\n",
       "      <td>1680.900024</td>\n",
       "      <td>1696.599976</td>\n",
       "      <td>1674.900024</td>\n",
       "      <td>1694.400024</td>\n",
       "      <td>1694.400024</td>\n",
       "      <td>3480600</td>\n",
       "    </tr>\n",
       "    <tr>\n",
       "      <th>2021-01-11</th>\n",
       "      <td>1693.300049</td>\n",
       "      <td>1705.500000</td>\n",
       "      <td>1663.300049</td>\n",
       "      <td>1679.000000</td>\n",
       "      <td>1679.000000</td>\n",
       "      <td>2873000</td>\n",
       "    </tr>\n",
       "    <tr>\n",
       "      <th>2021-01-12</th>\n",
       "      <td>1690.400024</td>\n",
       "      <td>1695.000000</td>\n",
       "      <td>1677.500000</td>\n",
       "      <td>1686.800049</td>\n",
       "      <td>1686.800049</td>\n",
       "      <td>3314300</td>\n",
       "    </tr>\n",
       "    <tr>\n",
       "      <th>2021-01-13</th>\n",
       "      <td>1697.199951</td>\n",
       "      <td>1702.400024</td>\n",
       "      <td>1678.199951</td>\n",
       "      <td>1697.599976</td>\n",
       "      <td>1697.599976</td>\n",
       "      <td>3162300</td>\n",
       "    </tr>\n",
       "    <tr>\n",
       "      <th>2021-01-14</th>\n",
       "      <td>1705.800049</td>\n",
       "      <td>1705.800049</td>\n",
       "      <td>1675.400024</td>\n",
       "      <td>1681.000000</td>\n",
       "      <td>1681.000000</td>\n",
       "      <td>2710500</td>\n",
       "    </tr>\n",
       "    <tr>\n",
       "      <th>2021-01-15</th>\n",
       "      <td>1669.000000</td>\n",
       "      <td>1679.400024</td>\n",
       "      <td>1645.599976</td>\n",
       "      <td>1653.800049</td>\n",
       "      <td>1653.800049</td>\n",
       "      <td>3162100</td>\n",
       "    </tr>\n",
       "    <tr>\n",
       "      <th>2021-01-18</th>\n",
       "      <td>1654.000000</td>\n",
       "      <td>1685.199951</td>\n",
       "      <td>1633.400024</td>\n",
       "      <td>1682.699951</td>\n",
       "      <td>1682.699951</td>\n",
       "      <td>2839200</td>\n",
       "    </tr>\n",
       "    <tr>\n",
       "      <th>2021-01-19</th>\n",
       "      <td>1694.300049</td>\n",
       "      <td>1704.300049</td>\n",
       "      <td>1684.900024</td>\n",
       "      <td>1690.099976</td>\n",
       "      <td>1690.099976</td>\n",
       "      <td>3198600</td>\n",
       "    </tr>\n",
       "    <tr>\n",
       "      <th>2021-01-20</th>\n",
       "      <td>1697.800049</td>\n",
       "      <td>1698.599976</td>\n",
       "      <td>1667.300049</td>\n",
       "      <td>1691.199951</td>\n",
       "      <td>1691.199951</td>\n",
       "      <td>2793400</td>\n",
       "    </tr>\n",
       "    <tr>\n",
       "      <th>2021-01-21</th>\n",
       "      <td>1698.800049</td>\n",
       "      <td>1703.800049</td>\n",
       "      <td>1665.599976</td>\n",
       "      <td>1665.599976</td>\n",
       "      <td>1665.599976</td>\n",
       "      <td>3155700</td>\n",
       "    </tr>\n",
       "    <tr>\n",
       "      <th>2021-01-25</th>\n",
       "      <td>1663.400024</td>\n",
       "      <td>1667.099976</td>\n",
       "      <td>1635.699951</td>\n",
       "      <td>1637.099976</td>\n",
       "      <td>1637.099976</td>\n",
       "      <td>2368000</td>\n",
       "    </tr>\n",
       "    <tr>\n",
       "      <th>2021-01-26</th>\n",
       "      <td>1632.900024</td>\n",
       "      <td>1649.300049</td>\n",
       "      <td>1612.900024</td>\n",
       "      <td>1636.900024</td>\n",
       "      <td>1636.900024</td>\n",
       "      <td>3026200</td>\n",
       "    </tr>\n",
       "    <tr>\n",
       "      <th>2021-01-27</th>\n",
       "      <td>1635.400024</td>\n",
       "      <td>1640.800049</td>\n",
       "      <td>1575.199951</td>\n",
       "      <td>1575.199951</td>\n",
       "      <td>1575.199951</td>\n",
       "      <td>3096100</td>\n",
       "    </tr>\n",
       "    <tr>\n",
       "      <th>2021-01-28</th>\n",
       "      <td>1562.400024</td>\n",
       "      <td>1601.900024</td>\n",
       "      <td>1545.500000</td>\n",
       "      <td>1601.900024</td>\n",
       "      <td>1601.900024</td>\n",
       "      <td>3638000</td>\n",
       "    </tr>\n",
       "    <tr>\n",
       "      <th>2021-01-29</th>\n",
       "      <td>1586.699951</td>\n",
       "      <td>1594.500000</td>\n",
       "      <td>1568.800049</td>\n",
       "      <td>1572.400024</td>\n",
       "      <td>1572.400024</td>\n",
       "      <td>2892600</td>\n",
       "    </tr>\n",
       "    <tr>\n",
       "      <th>2021-02-01</th>\n",
       "      <td>1583.699951</td>\n",
       "      <td>1594.199951</td>\n",
       "      <td>1568.800049</td>\n",
       "      <td>1584.500000</td>\n",
       "      <td>1584.500000</td>\n",
       "      <td>1896000</td>\n",
       "    </tr>\n",
       "  </tbody>\n",
       "</table>\n",
       "</div>"
      ],
      "text/plain": [
       "                   Open         High          Low        Close    Adj Close   \n",
       "Date                                                                          \n",
       "2021-01-04  1641.800049  1663.000000  1636.199951  1652.900024  1652.900024  \\\n",
       "2021-01-05  1648.599976  1662.099976  1623.900024  1640.400024  1640.400024   \n",
       "2021-01-06  1653.599976  1659.699951  1645.400024  1657.699951  1657.699951   \n",
       "2021-01-07  1664.699951  1679.199951  1658.000000  1678.199951  1678.199951   \n",
       "2021-01-08  1680.900024  1696.599976  1674.900024  1694.400024  1694.400024   \n",
       "2021-01-11  1693.300049  1705.500000  1663.300049  1679.000000  1679.000000   \n",
       "2021-01-12  1690.400024  1695.000000  1677.500000  1686.800049  1686.800049   \n",
       "2021-01-13  1697.199951  1702.400024  1678.199951  1697.599976  1697.599976   \n",
       "2021-01-14  1705.800049  1705.800049  1675.400024  1681.000000  1681.000000   \n",
       "2021-01-15  1669.000000  1679.400024  1645.599976  1653.800049  1653.800049   \n",
       "2021-01-18  1654.000000  1685.199951  1633.400024  1682.699951  1682.699951   \n",
       "2021-01-19  1694.300049  1704.300049  1684.900024  1690.099976  1690.099976   \n",
       "2021-01-20  1697.800049  1698.599976  1667.300049  1691.199951  1691.199951   \n",
       "2021-01-21  1698.800049  1703.800049  1665.599976  1665.599976  1665.599976   \n",
       "2021-01-25  1663.400024  1667.099976  1635.699951  1637.099976  1637.099976   \n",
       "2021-01-26  1632.900024  1649.300049  1612.900024  1636.900024  1636.900024   \n",
       "2021-01-27  1635.400024  1640.800049  1575.199951  1575.199951  1575.199951   \n",
       "2021-01-28  1562.400024  1601.900024  1545.500000  1601.900024  1601.900024   \n",
       "2021-01-29  1586.699951  1594.500000  1568.800049  1572.400024  1572.400024   \n",
       "2021-02-01  1583.699951  1594.199951  1568.800049  1584.500000  1584.500000   \n",
       "\n",
       "             Volume  \n",
       "Date                 \n",
       "2021-01-04  2786700  \n",
       "2021-01-05  4314300  \n",
       "2021-01-06  3114300  \n",
       "2021-01-07  3939700  \n",
       "2021-01-08  3480600  \n",
       "2021-01-11  2873000  \n",
       "2021-01-12  3314300  \n",
       "2021-01-13  3162300  \n",
       "2021-01-14  2710500  \n",
       "2021-01-15  3162100  \n",
       "2021-01-18  2839200  \n",
       "2021-01-19  3198600  \n",
       "2021-01-20  2793400  \n",
       "2021-01-21  3155700  \n",
       "2021-01-25  2368000  \n",
       "2021-01-26  3026200  \n",
       "2021-01-27  3096100  \n",
       "2021-01-28  3638000  \n",
       "2021-01-29  2892600  \n",
       "2021-02-01  1896000  "
      ]
     },
     "execution_count": 16,
     "metadata": {},
     "output_type": "execute_result"
    }
   ],
   "source": [
    "B30.info()\n",
    "B30.describe()\n",
    "B30.head(20)"
   ]
  },
  {
   "cell_type": "markdown",
   "id": "c6add05c",
   "metadata": {
    "id": "c6add05c"
   },
   "source": [
    "3. Veri temizleme:<br>\n",
    "\t• Tabloda sadece \"Adj Close\" (düzeltilmiş kapanış) sütununu bırakınız.<br>\n",
    "\t• \"Adj Close\" sütununu \" Kapanış (TRY)\" olarak yeniden adlandırınız."
   ]
  },
  {
   "cell_type": "code",
   "execution_count": 17,
   "id": "dbf5495d",
   "metadata": {
    "id": "dbf5495d"
   },
   "outputs": [
    {
     "data": {
      "text/html": [
       "<div>\n",
       "<style scoped>\n",
       "    .dataframe tbody tr th:only-of-type {\n",
       "        vertical-align: middle;\n",
       "    }\n",
       "\n",
       "    .dataframe tbody tr th {\n",
       "        vertical-align: top;\n",
       "    }\n",
       "\n",
       "    .dataframe thead th {\n",
       "        text-align: right;\n",
       "    }\n",
       "</style>\n",
       "<table border=\"1\" class=\"dataframe\">\n",
       "  <thead>\n",
       "    <tr style=\"text-align: right;\">\n",
       "      <th></th>\n",
       "      <th>Kapanış (TRY)</th>\n",
       "    </tr>\n",
       "    <tr>\n",
       "      <th>Date</th>\n",
       "      <th></th>\n",
       "    </tr>\n",
       "  </thead>\n",
       "  <tbody>\n",
       "    <tr>\n",
       "      <th>2021-01-04</th>\n",
       "      <td>1652.900024</td>\n",
       "    </tr>\n",
       "    <tr>\n",
       "      <th>2021-01-05</th>\n",
       "      <td>1640.400024</td>\n",
       "    </tr>\n",
       "    <tr>\n",
       "      <th>2021-01-06</th>\n",
       "      <td>1657.699951</td>\n",
       "    </tr>\n",
       "    <tr>\n",
       "      <th>2021-01-07</th>\n",
       "      <td>1678.199951</td>\n",
       "    </tr>\n",
       "    <tr>\n",
       "      <th>2021-01-08</th>\n",
       "      <td>1694.400024</td>\n",
       "    </tr>\n",
       "    <tr>\n",
       "      <th>...</th>\n",
       "      <td>...</td>\n",
       "    </tr>\n",
       "    <tr>\n",
       "      <th>2021-12-24</th>\n",
       "      <td>2086.800049</td>\n",
       "    </tr>\n",
       "    <tr>\n",
       "      <th>2021-12-27</th>\n",
       "      <td>2089.399902</td>\n",
       "    </tr>\n",
       "    <tr>\n",
       "      <th>2021-12-28</th>\n",
       "      <td>2032.900024</td>\n",
       "    </tr>\n",
       "    <tr>\n",
       "      <th>2021-12-29</th>\n",
       "      <td>2086.300049</td>\n",
       "    </tr>\n",
       "    <tr>\n",
       "      <th>2021-12-30</th>\n",
       "      <td>2040.199951</td>\n",
       "    </tr>\n",
       "  </tbody>\n",
       "</table>\n",
       "<p>238 rows × 1 columns</p>\n",
       "</div>"
      ],
      "text/plain": [
       "            Kapanış (TRY)\n",
       "Date                     \n",
       "2021-01-04    1652.900024\n",
       "2021-01-05    1640.400024\n",
       "2021-01-06    1657.699951\n",
       "2021-01-07    1678.199951\n",
       "2021-01-08    1694.400024\n",
       "...                   ...\n",
       "2021-12-24    2086.800049\n",
       "2021-12-27    2089.399902\n",
       "2021-12-28    2032.900024\n",
       "2021-12-29    2086.300049\n",
       "2021-12-30    2040.199951\n",
       "\n",
       "[238 rows x 1 columns]"
      ]
     },
     "execution_count": 17,
     "metadata": {},
     "output_type": "execute_result"
    }
   ],
   "source": [
    "B30 = B30[['Adj Close']]\n",
    "B30.columns = ['Kapanış (TRY)']\n",
    "B30"
   ]
  },
  {
   "cell_type": "markdown",
   "id": "e5790e8d",
   "metadata": {
    "id": "e5790e8d"
   },
   "source": [
    "4. Tabloya yeni sütun ekleme:<br>\n",
    "*   Tabloya yeni bir sütun ekleyerek Kapanış (TRY) değerlerini 1 Ocak 2021 tarihindeki kapanış değerine göre normalize ediniz (yani tüm değerleri 1 Ocak 2021 değerine bölünüz). Bu alana \"Normalize\" alanı diyebilirsiniz.<br>\n",
    "\n"
   ]
  },
  {
   "cell_type": "code",
   "execution_count": 18,
   "id": "gftQYk2_M8fi",
   "metadata": {
    "id": "gftQYk2_M8fi"
   },
   "outputs": [
    {
     "name": "stderr",
     "output_type": "stream",
     "text": [
      "<ipython-input-18-16dda198c66e>:2: SettingWithCopyWarning:\n",
      "\n",
      "\n",
      "A value is trying to be set on a copy of a slice from a DataFrame.\n",
      "Try using .loc[row_indexer,col_indexer] = value instead\n",
      "\n",
      "See the caveats in the documentation: https://pandas.pydata.org/pandas-docs/stable/user_guide/indexing.html#returning-a-view-versus-a-copy\n",
      "\n"
     ]
    },
    {
     "data": {
      "text/html": [
       "<div>\n",
       "<style scoped>\n",
       "    .dataframe tbody tr th:only-of-type {\n",
       "        vertical-align: middle;\n",
       "    }\n",
       "\n",
       "    .dataframe tbody tr th {\n",
       "        vertical-align: top;\n",
       "    }\n",
       "\n",
       "    .dataframe thead th {\n",
       "        text-align: right;\n",
       "    }\n",
       "</style>\n",
       "<table border=\"1\" class=\"dataframe\">\n",
       "  <thead>\n",
       "    <tr style=\"text-align: right;\">\n",
       "      <th></th>\n",
       "      <th>Kapanış (TRY)</th>\n",
       "      <th>Normalize</th>\n",
       "    </tr>\n",
       "    <tr>\n",
       "      <th>Date</th>\n",
       "      <th></th>\n",
       "      <th></th>\n",
       "    </tr>\n",
       "  </thead>\n",
       "  <tbody>\n",
       "    <tr>\n",
       "      <th>2021-01-04</th>\n",
       "      <td>1652.900024</td>\n",
       "      <td>1.000000</td>\n",
       "    </tr>\n",
       "    <tr>\n",
       "      <th>2021-01-05</th>\n",
       "      <td>1640.400024</td>\n",
       "      <td>0.992438</td>\n",
       "    </tr>\n",
       "    <tr>\n",
       "      <th>2021-01-06</th>\n",
       "      <td>1657.699951</td>\n",
       "      <td>1.002904</td>\n",
       "    </tr>\n",
       "    <tr>\n",
       "      <th>2021-01-07</th>\n",
       "      <td>1678.199951</td>\n",
       "      <td>1.015306</td>\n",
       "    </tr>\n",
       "    <tr>\n",
       "      <th>2021-01-08</th>\n",
       "      <td>1694.400024</td>\n",
       "      <td>1.025107</td>\n",
       "    </tr>\n",
       "    <tr>\n",
       "      <th>...</th>\n",
       "      <td>...</td>\n",
       "      <td>...</td>\n",
       "    </tr>\n",
       "    <tr>\n",
       "      <th>2021-12-24</th>\n",
       "      <td>2086.800049</td>\n",
       "      <td>1.262508</td>\n",
       "    </tr>\n",
       "    <tr>\n",
       "      <th>2021-12-27</th>\n",
       "      <td>2089.399902</td>\n",
       "      <td>1.264081</td>\n",
       "    </tr>\n",
       "    <tr>\n",
       "      <th>2021-12-28</th>\n",
       "      <td>2032.900024</td>\n",
       "      <td>1.229899</td>\n",
       "    </tr>\n",
       "    <tr>\n",
       "      <th>2021-12-29</th>\n",
       "      <td>2086.300049</td>\n",
       "      <td>1.262206</td>\n",
       "    </tr>\n",
       "    <tr>\n",
       "      <th>2021-12-30</th>\n",
       "      <td>2040.199951</td>\n",
       "      <td>1.234315</td>\n",
       "    </tr>\n",
       "  </tbody>\n",
       "</table>\n",
       "<p>238 rows × 2 columns</p>\n",
       "</div>"
      ],
      "text/plain": [
       "            Kapanış (TRY)  Normalize\n",
       "Date                                \n",
       "2021-01-04    1652.900024   1.000000\n",
       "2021-01-05    1640.400024   0.992438\n",
       "2021-01-06    1657.699951   1.002904\n",
       "2021-01-07    1678.199951   1.015306\n",
       "2021-01-08    1694.400024   1.025107\n",
       "...                   ...        ...\n",
       "2021-12-24    2086.800049   1.262508\n",
       "2021-12-27    2089.399902   1.264081\n",
       "2021-12-28    2032.900024   1.229899\n",
       "2021-12-29    2086.300049   1.262206\n",
       "2021-12-30    2040.199951   1.234315\n",
       "\n",
       "[238 rows x 2 columns]"
      ]
     },
     "execution_count": 18,
     "metadata": {},
     "output_type": "execute_result"
    }
   ],
   "source": [
    "norm = B30.iloc[0,0]\n",
    "B30['Normalize'] = B30['Kapanış (TRY)']/norm\n",
    "B30"
   ]
  },
  {
   "cell_type": "markdown",
   "id": "0UrXxA7eM743",
   "metadata": {
    "id": "0UrXxA7eM743"
   },
   "source": [
    "5. Grafik çizdirme ve yorumlama:\n",
    "*   Tabloyu px.line grafiği olarak görselleştiriniz.<br>\n",
    "*   BIST30 endeksinin 2021 yılı boyunca değişimini yorumlayınız."
   ]
  },
  {
   "cell_type": "code",
   "execution_count": 19,
   "id": "667d21de",
   "metadata": {
    "id": "667d21de"
   },
   "outputs": [
    {
     "name": "stdout",
     "output_type": "stream",
     "text": [
      "Requirement already satisfied: plotly==5.14.1 in c:\\users\\seros\\anaconda3\\lib\\site-packages (5.14.1)\n",
      "Requirement already satisfied: packaging in c:\\users\\seros\\anaconda3\\lib\\site-packages (from plotly==5.14.1) (23.0)\n",
      "Requirement already satisfied: tenacity>=6.2.0 in c:\\users\\seros\\anaconda3\\lib\\site-packages (from plotly==5.14.1) (8.2.2)\n",
      "Note: you may need to restart the kernel to use updated packages.\n"
     ]
    }
   ],
   "source": [
    "pip install plotly==5.14.1"
   ]
  },
  {
   "cell_type": "code",
   "execution_count": 22,
   "id": "bdca1b4e",
   "metadata": {},
   "outputs": [
    {
     "data": {
      "application/vnd.plotly.v1+json": {
       "config": {
        "plotlyServerURL": "https://plot.ly"
       },
       "data": [
        {
         "customdata": [
          [
           1652.9000244140625
          ],
          [
           1640.4000244140625
          ],
          [
           1657.699951171875
          ],
          [
           1678.199951171875
          ],
          [
           1694.4000244140625
          ],
          [
           1679
          ],
          [
           1686.800048828125
          ],
          [
           1697.5999755859375
          ],
          [
           1681
          ],
          [
           1653.800048828125
          ],
          [
           1682.699951171875
          ],
          [
           1690.0999755859375
          ],
          [
           1691.199951171875
          ],
          [
           1665.5999755859375
          ],
          [
           1637.0999755859375
          ],
          [
           1636.9000244140625
          ],
          [
           1575.199951171875
          ],
          [
           1601.9000244140625
          ],
          [
           1572.4000244140625
          ],
          [
           1584.5
          ],
          [
           1602.800048828125
          ],
          [
           1628.9000244140625
          ],
          [
           1627.699951171875
          ],
          [
           1616.9000244140625
          ],
          [
           1625.300048828125
          ],
          [
           1643.0999755859375
          ],
          [
           1646.4000244140625
          ],
          [
           1640.300048828125
          ],
          [
           1628.4000244140625
          ],
          [
           1622.300048828125
          ],
          [
           1605.9000244140625
          ],
          [
           1622.300048828125
          ],
          [
           1605
          ],
          [
           1589.300048828125
          ],
          [
           1558.0999755859375
          ],
          [
           1574.0999755859375
          ],
          [
           1556
          ],
          [
           1609
          ],
          [
           1614.800048828125
          ],
          [
           1613.300048828125
          ],
          [
           1625
          ],
          [
           1631.0999755859375
          ],
          [
           1615.9000244140625
          ],
          [
           1635.9000244140625
          ],
          [
           1649.300048828125
          ],
          [
           1638.5
          ],
          [
           1639.4000244140625
          ],
          [
           1631
          ],
          [
           1641.9000244140625
          ],
          [
           1628.4000244140625
          ],
          [
           1625.699951171875
          ],
          [
           1591
          ],
          [
           1432.800048828125
          ],
          [
           1420.699951171875
          ],
          [
           1447.699951171875
          ],
          [
           1430.199951171875
          ],
          [
           1421.5999755859375
          ],
          [
           1431.9000244140625
          ],
          [
           1431.9000244140625
          ],
          [
           1430.699951171875
          ],
          [
           1464.4000244140625
          ],
          [
           1472.699951171875
          ],
          [
           1453
          ],
          [
           1454.0999755859375
          ],
          [
           1451.5999755859375
          ],
          [
           1432.5
          ],
          [
           1414.5
          ],
          [
           1422.199951171875
          ],
          [
           1456.199951171875
          ],
          [
           1465.699951171875
          ],
          [
           1459.9000244140625
          ],
          [
           1434
          ],
          [
           1422.699951171875
          ],
          [
           1397.0999755859375
          ],
          [
           1412.699951171875
          ],
          [
           1444.4000244140625
          ],
          [
           1459.199951171875
          ],
          [
           1449.699951171875
          ],
          [
           1465.5999755859375
          ],
          [
           1456.9000244140625
          ],
          [
           1483.4000244140625
          ],
          [
           1478.5
          ],
          [
           1492.800048828125
          ],
          [
           1509.5
          ],
          [
           1534.5999755859375
          ],
          [
           1510.9000244140625
          ],
          [
           1525.699951171875
          ],
          [
           1531.5999755859375
          ],
          [
           1521.4000244140625
          ],
          [
           1526
          ],
          [
           1509
          ],
          [
           1489.199951171875
          ],
          [
           1506.9000244140625
          ],
          [
           1525.5
          ],
          [
           1523.199951171875
          ],
          [
           1522.199951171875
          ],
          [
           1528
          ],
          [
           1546
          ],
          [
           1547.5999755859375
          ],
          [
           1550
          ],
          [
           1559.5
          ],
          [
           1561.800048828125
          ],
          [
           1561.0999755859375
          ],
          [
           1552.4000244140625
          ],
          [
           1542.199951171875
          ],
          [
           1525.300048828125
          ],
          [
           1500.800048828125
          ],
          [
           1514.199951171875
          ],
          [
           1525.300048828125
          ],
          [
           1512.4000244140625
          ],
          [
           1522.5999755859375
          ],
          [
           1502.199951171875
          ],
          [
           1486.699951171875
          ],
          [
           1483
          ],
          [
           1462.9000244140625
          ],
          [
           1479.300048828125
          ],
          [
           1484.0999755859375
          ],
          [
           1488.199951171875
          ],
          [
           1498.699951171875
          ],
          [
           1479.199951171875
          ],
          [
           1488.5999755859375
          ],
          [
           1467.0999755859375
          ],
          [
           1458.0999755859375
          ],
          [
           1479.199951171875
          ],
          [
           1470.199951171875
          ],
          [
           1452.5
          ],
          [
           1446.300048828125
          ],
          [
           1460.199951171875
          ],
          [
           1459.800048828125
          ],
          [
           1499.9000244140625
          ],
          [
           1500.800048828125
          ],
          [
           1503.800048828125
          ],
          [
           1514.800048828125
          ],
          [
           1515.5
          ],
          [
           1539.199951171875
          ],
          [
           1544.300048828125
          ],
          [
           1538.300048828125
          ],
          [
           1546.5999755859375
          ],
          [
           1516.800048828125
          ],
          [
           1559.800048828125
          ],
          [
           1562
          ],
          [
           1570.5999755859375
          ],
          [
           1578.5
          ],
          [
           1562.5999755859375
          ],
          [
           1551.0999755859375
          ],
          [
           1557.5999755859375
          ],
          [
           1576.4000244140625
          ],
          [
           1584.800048828125
          ],
          [
           1571.4000244140625
          ],
          [
           1566
          ],
          [
           1574
          ],
          [
           1588.300048828125
          ],
          [
           1587
          ],
          [
           1591.699951171875
          ],
          [
           1577.800048828125
          ],
          [
           1583.5
          ],
          [
           1558.5999755859375
          ],
          [
           1536.5
          ],
          [
           1554.4000244140625
          ],
          [
           1536.199951171875
          ],
          [
           1537.5999755859375
          ],
          [
           1532.9000244140625
          ],
          [
           1518
          ],
          [
           1514.9000244140625
          ],
          [
           1519.5999755859375
          ],
          [
           1490.9000244140625
          ],
          [
           1484.800048828125
          ],
          [
           1511.699951171875
          ],
          [
           1498.300048828125
          ],
          [
           1478.5
          ],
          [
           1488.9000244140625
          ],
          [
           1478.800048828125
          ],
          [
           1488.9000244140625
          ],
          [
           1505.199951171875
          ],
          [
           1498.800048828125
          ],
          [
           1489.5999755859375
          ],
          [
           1488.800048828125
          ],
          [
           1467.300048828125
          ],
          [
           1499.699951171875
          ],
          [
           1499.5999755859375
          ],
          [
           1522.800048828125
          ],
          [
           1524.5999755859375
          ],
          [
           1520.300048828125
          ],
          [
           1519
          ],
          [
           1515.800048828125
          ],
          [
           1523.4000244140625
          ],
          [
           1535.5999755859375
          ],
          [
           1541.5
          ],
          [
           1567.300048828125
          ],
          [
           1594.4000244140625
          ],
          [
           1607.5999755859375
          ],
          [
           1625.5999755859375
          ],
          [
           1635.300048828125
          ],
          [
           1635.699951171875
          ],
          [
           1653.699951171875
          ],
          [
           1651.699951171875
          ],
          [
           1670.0999755859375
          ],
          [
           1705.9000244140625
          ],
          [
           1717.199951171875
          ],
          [
           1747.5
          ],
          [
           1759
          ],
          [
           1769
          ],
          [
           1767.199951171875
          ],
          [
           1780.300048828125
          ],
          [
           1859.800048828125
          ],
          [
           1843.5
          ],
          [
           1868.4000244140625
          ],
          [
           1907.300048828125
          ],
          [
           1897.4000244140625
          ],
          [
           1910.9000244140625
          ],
          [
           1945
          ],
          [
           1971.199951171875
          ],
          [
           1972.0999755859375
          ],
          [
           1914.4000244140625
          ],
          [
           1951.699951171875
          ],
          [
           1942.800048828125
          ],
          [
           1997.0999755859375
          ],
          [
           2019.9000244140625
          ],
          [
           2048.89990234375
          ],
          [
           2074.39990234375
          ],
          [
           2143.800048828125
          ],
          [
           2171.5
          ],
          [
           2207.800048828125
          ],
          [
           2212.60009765625
          ],
          [
           2294.5
          ],
          [
           2368.89990234375
          ],
          [
           2386.10009765625
          ],
          [
           2528
          ],
          [
           2298.699951171875
          ],
          [
           2279.199951171875
          ],
          [
           2089.5
          ],
          [
           1981.4000244140625
          ],
          [
           1984.5999755859375
          ],
          [
           2086.800048828125
          ],
          [
           2089.39990234375
          ],
          [
           2032.9000244140625
          ],
          [
           2086.300048828125
          ],
          [
           2040.199951171875
          ]
         ],
         "hovertemplate": "Tarih=%{x}<br>BIST30 Endeksi (TRY)=%{y:.2f}<br>Kapanış (TRY)=%{customdata[0]:.0f}<extra></extra>",
         "legendgroup": "",
         "line": {
          "color": "#636efa",
          "dash": "solid"
         },
         "marker": {
          "symbol": "circle"
         },
         "mode": "lines",
         "name": "",
         "orientation": "v",
         "showlegend": false,
         "type": "scatter",
         "x": [
          "2021-01-04T00:00:00",
          "2021-01-05T00:00:00",
          "2021-01-06T00:00:00",
          "2021-01-07T00:00:00",
          "2021-01-08T00:00:00",
          "2021-01-11T00:00:00",
          "2021-01-12T00:00:00",
          "2021-01-13T00:00:00",
          "2021-01-14T00:00:00",
          "2021-01-15T00:00:00",
          "2021-01-18T00:00:00",
          "2021-01-19T00:00:00",
          "2021-01-20T00:00:00",
          "2021-01-21T00:00:00",
          "2021-01-25T00:00:00",
          "2021-01-26T00:00:00",
          "2021-01-27T00:00:00",
          "2021-01-28T00:00:00",
          "2021-01-29T00:00:00",
          "2021-02-01T00:00:00",
          "2021-02-02T00:00:00",
          "2021-02-03T00:00:00",
          "2021-02-04T00:00:00",
          "2021-02-05T00:00:00",
          "2021-02-08T00:00:00",
          "2021-02-09T00:00:00",
          "2021-02-10T00:00:00",
          "2021-02-11T00:00:00",
          "2021-02-12T00:00:00",
          "2021-02-16T00:00:00",
          "2021-02-18T00:00:00",
          "2021-02-19T00:00:00",
          "2021-02-22T00:00:00",
          "2021-02-23T00:00:00",
          "2021-02-24T00:00:00",
          "2021-02-25T00:00:00",
          "2021-02-26T00:00:00",
          "2021-03-01T00:00:00",
          "2021-03-02T00:00:00",
          "2021-03-03T00:00:00",
          "2021-03-04T00:00:00",
          "2021-03-05T00:00:00",
          "2021-03-08T00:00:00",
          "2021-03-09T00:00:00",
          "2021-03-10T00:00:00",
          "2021-03-11T00:00:00",
          "2021-03-12T00:00:00",
          "2021-03-15T00:00:00",
          "2021-03-16T00:00:00",
          "2021-03-17T00:00:00",
          "2021-03-18T00:00:00",
          "2021-03-19T00:00:00",
          "2021-03-22T00:00:00",
          "2021-03-23T00:00:00",
          "2021-03-24T00:00:00",
          "2021-03-25T00:00:00",
          "2021-03-26T00:00:00",
          "2021-03-29T00:00:00",
          "2021-03-30T00:00:00",
          "2021-03-31T00:00:00",
          "2021-04-01T00:00:00",
          "2021-04-05T00:00:00",
          "2021-04-06T00:00:00",
          "2021-04-07T00:00:00",
          "2021-04-08T00:00:00",
          "2021-04-09T00:00:00",
          "2021-04-12T00:00:00",
          "2021-04-13T00:00:00",
          "2021-04-14T00:00:00",
          "2021-04-15T00:00:00",
          "2021-04-16T00:00:00",
          "2021-04-19T00:00:00",
          "2021-04-20T00:00:00",
          "2021-04-21T00:00:00",
          "2021-04-22T00:00:00",
          "2021-04-26T00:00:00",
          "2021-04-27T00:00:00",
          "2021-04-28T00:00:00",
          "2021-04-29T00:00:00",
          "2021-04-30T00:00:00",
          "2021-05-03T00:00:00",
          "2021-05-04T00:00:00",
          "2021-05-06T00:00:00",
          "2021-05-07T00:00:00",
          "2021-05-10T00:00:00",
          "2021-05-12T00:00:00",
          "2021-05-17T00:00:00",
          "2021-05-18T00:00:00",
          "2021-05-21T00:00:00",
          "2021-05-24T00:00:00",
          "2021-05-26T00:00:00",
          "2021-05-27T00:00:00",
          "2021-05-28T00:00:00",
          "2021-06-01T00:00:00",
          "2021-06-02T00:00:00",
          "2021-06-03T00:00:00",
          "2021-06-04T00:00:00",
          "2021-06-07T00:00:00",
          "2021-06-08T00:00:00",
          "2021-06-09T00:00:00",
          "2021-06-10T00:00:00",
          "2021-06-11T00:00:00",
          "2021-06-14T00:00:00",
          "2021-06-15T00:00:00",
          "2021-06-16T00:00:00",
          "2021-06-17T00:00:00",
          "2021-06-18T00:00:00",
          "2021-06-21T00:00:00",
          "2021-06-22T00:00:00",
          "2021-06-23T00:00:00",
          "2021-06-24T00:00:00",
          "2021-06-25T00:00:00",
          "2021-06-28T00:00:00",
          "2021-06-29T00:00:00",
          "2021-06-30T00:00:00",
          "2021-07-01T00:00:00",
          "2021-07-02T00:00:00",
          "2021-07-06T00:00:00",
          "2021-07-07T00:00:00",
          "2021-07-08T00:00:00",
          "2021-07-09T00:00:00",
          "2021-07-12T00:00:00",
          "2021-07-13T00:00:00",
          "2021-07-14T00:00:00",
          "2021-07-16T00:00:00",
          "2021-07-19T00:00:00",
          "2021-07-26T00:00:00",
          "2021-07-27T00:00:00",
          "2021-07-28T00:00:00",
          "2021-07-29T00:00:00",
          "2021-07-30T00:00:00",
          "2021-08-02T00:00:00",
          "2021-08-03T00:00:00",
          "2021-08-04T00:00:00",
          "2021-08-05T00:00:00",
          "2021-08-06T00:00:00",
          "2021-08-09T00:00:00",
          "2021-08-10T00:00:00",
          "2021-08-11T00:00:00",
          "2021-08-12T00:00:00",
          "2021-08-13T00:00:00",
          "2021-08-16T00:00:00",
          "2021-08-17T00:00:00",
          "2021-08-18T00:00:00",
          "2021-08-19T00:00:00",
          "2021-08-20T00:00:00",
          "2021-08-23T00:00:00",
          "2021-08-24T00:00:00",
          "2021-08-25T00:00:00",
          "2021-08-26T00:00:00",
          "2021-08-27T00:00:00",
          "2021-08-31T00:00:00",
          "2021-09-01T00:00:00",
          "2021-09-02T00:00:00",
          "2021-09-03T00:00:00",
          "2021-09-06T00:00:00",
          "2021-09-07T00:00:00",
          "2021-09-08T00:00:00",
          "2021-09-09T00:00:00",
          "2021-09-10T00:00:00",
          "2021-09-13T00:00:00",
          "2021-09-14T00:00:00",
          "2021-09-15T00:00:00",
          "2021-09-16T00:00:00",
          "2021-09-17T00:00:00",
          "2021-09-20T00:00:00",
          "2021-09-21T00:00:00",
          "2021-09-22T00:00:00",
          "2021-09-23T00:00:00",
          "2021-09-24T00:00:00",
          "2021-09-27T00:00:00",
          "2021-09-28T00:00:00",
          "2021-09-29T00:00:00",
          "2021-09-30T00:00:00",
          "2021-10-01T00:00:00",
          "2021-10-04T00:00:00",
          "2021-10-05T00:00:00",
          "2021-10-06T00:00:00",
          "2021-10-07T00:00:00",
          "2021-10-08T00:00:00",
          "2021-10-11T00:00:00",
          "2021-10-12T00:00:00",
          "2021-10-13T00:00:00",
          "2021-10-14T00:00:00",
          "2021-10-15T00:00:00",
          "2021-10-18T00:00:00",
          "2021-10-19T00:00:00",
          "2021-10-20T00:00:00",
          "2021-10-21T00:00:00",
          "2021-10-22T00:00:00",
          "2021-10-25T00:00:00",
          "2021-10-26T00:00:00",
          "2021-10-27T00:00:00",
          "2021-10-28T00:00:00",
          "2021-11-01T00:00:00",
          "2021-11-02T00:00:00",
          "2021-11-03T00:00:00",
          "2021-11-04T00:00:00",
          "2021-11-05T00:00:00",
          "2021-11-08T00:00:00",
          "2021-11-09T00:00:00",
          "2021-11-10T00:00:00",
          "2021-11-11T00:00:00",
          "2021-11-12T00:00:00",
          "2021-11-15T00:00:00",
          "2021-11-16T00:00:00",
          "2021-11-17T00:00:00",
          "2021-11-18T00:00:00",
          "2021-11-19T00:00:00",
          "2021-11-22T00:00:00",
          "2021-11-23T00:00:00",
          "2021-11-24T00:00:00",
          "2021-11-25T00:00:00",
          "2021-11-26T00:00:00",
          "2021-11-29T00:00:00",
          "2021-11-30T00:00:00",
          "2021-12-01T00:00:00",
          "2021-12-02T00:00:00",
          "2021-12-03T00:00:00",
          "2021-12-06T00:00:00",
          "2021-12-07T00:00:00",
          "2021-12-08T00:00:00",
          "2021-12-09T00:00:00",
          "2021-12-10T00:00:00",
          "2021-12-13T00:00:00",
          "2021-12-14T00:00:00",
          "2021-12-15T00:00:00",
          "2021-12-16T00:00:00",
          "2021-12-17T00:00:00",
          "2021-12-20T00:00:00",
          "2021-12-21T00:00:00",
          "2021-12-22T00:00:00",
          "2021-12-23T00:00:00",
          "2021-12-24T00:00:00",
          "2021-12-27T00:00:00",
          "2021-12-28T00:00:00",
          "2021-12-29T00:00:00",
          "2021-12-30T00:00:00"
         ],
         "xaxis": "x",
         "y": [
          1,
          0.9924375341427978,
          1.0029039425778423,
          1.0153063865836538,
          1.0251073866459113,
          1.015790413939397,
          1.0205094221751734,
          1.0270433483644728,
          1.0170004084765494,
          1.0005445123121597,
          1.0180288742922465,
          1.0225058688501514,
          1.0231713510751441,
          1.007683435770035,
          0.9904410136156142,
          0.9903200437027813,
          0.9529916679203079,
          0.9691451393026151,
          0.951297719879618,
          0.9586181720589485,
          0.9696896516147748,
          0.9854800655541718,
          0.984754024520557,
          0.9782200983312577,
          0.9833020901577387,
          0.9940709972270713,
          0.9960675177542548,
          0.9923770491863814,
          0.9851775669198837,
          0.9814870983520102,
          0.9715651283769198,
          0.9814870983520102,
          0.9710206160647601,
          0.9615221884889964,
          0.9426462293980964,
          0.9523261856953152,
          0.9413757499045275,
          0.9734406051390648,
          0.9769496188376888,
          0.9760421229348246,
          0.9831205614362836,
          0.9868110300041572,
          0.9776151010626816,
          0.989715046434205,
          0.997822024603567,
          0.991288024562062,
          0.9918325368742217,
          0.9867505450477406,
          0.9933450300456621,
          0.9851775669198837,
          0.9835440299834046,
          0.9625506543046937,
          0.8668401159568251,
          0.8595195899252889,
          0.8758545161768456,
          0.8652670639767626,
          0.8600641022374486,
          0.8662956036446654,
          0.8662956036446654,
          0.8655695626110507,
          0.8859580148733911,
          0.8909794478912499,
          0.8790610312411816,
          0.8797265134661743,
          0.8782140202947338,
          0.86665858723537,
          0.8557686364009989,
          0.8604270858281532,
          0.8809969929597431,
          0.8867444670112168,
          0.8832355271647984,
          0.8675660831382342,
          0.8607295844624412,
          0.8452416691573323,
          0.8546796117766795,
          0.8738580695018676,
          0.8828119847654716,
          0.8770645107139979,
          0.8866839820548003,
          0.8814205353590698,
          0.8974529629763384,
          0.894488461589874,
          0.9031399520713956,
          0.9132433769157354,
          0.9284287935865563,
          0.9140903878621832,
          0.9230443031257872,
          0.9266138017808278,
          0.920442859182233,
          0.9232258318472423,
          0.9129408782814473,
          0.9009619028227569,
          0.9116703987878785,
          0.9229233332129543,
          0.9215318099543468,
          0.9209268126857706,
          0.9244358263843947,
          0.9353257772187659,
          0.9362937580780466,
          0.9377457662930705,
          0.9434932403445442,
          0.9448847636031517,
          0.9444612212038249,
          0.9391977745080945,
          0.9330267580572941,
          0.9228023633001212,
          0.907979930220005,
          0.9160868345371612,
          0.9228023633001212,
          0.9149978837650474,
          0.9211688263636422,
          0.9088268673142471,
          0.8994494096513164,
          0.8972109492984668,
          0.8850505189705269,
          0.8949724889456172,
          0.8978764315234595,
          0.9003569055541807,
          0.9067093768742305,
          0.8949119301369951,
          0.9005989192320523,
          0.8875914779576645,
          0.882146502540479,
          0.8949119301369951,
          0.8894669547198095,
          0.8787585326068935,
          0.8750075790826035,
          0.8834169820340478,
          0.8831750422083818,
          0.9074354179078453,
          0.907979930220005,
          0.9097949220257335,
          0.9164498919800714,
          0.9168733605271925,
          0.9312117662515655,
          0.9342973114030686,
          0.9306673277916115,
          0.9356887608094704,
          0.9176598865172237,
          0.9436747690659992,
          0.9450057335159846,
          0.9502086952552986,
          0.9549881884474914,
          0.9453687171066892,
          0.9384112485180631,
          0.9423437307638083,
          0.9537177089539226,
          0.9587997007804037,
          0.9506927226110418,
          0.9474257225902893,
          0.9522657007388987,
          0.9609171912204203,
          0.9601306652303889,
          0.9629741228518147,
          0.9545647199003704,
          0.9580131747903724,
          0.9429487280323845,
          0.9295783031672922,
          0.9404077690452468,
          0.929396774445837,
          0.9302437853922848,
          0.927400327770859,
          0.9183858536986329,
          0.916510376936488,
          0.9193538345579136,
          0.9019904424906597,
          0.8982999739227862,
          0.9145743413657208,
          0.9064674370485646,
          0.894488461589874,
          0.9007804479535074,
          0.8946699903113291,
          0.9007804479535074,
          0.9106418591199756,
          0.9067699356828526,
          0.9012039165006285,
          0.9007199629970909,
          0.8877125217227031,
          0.9073143741428067,
          0.9072538891863902,
          0.9212898701286808,
          0.9223788209007946,
          0.9197773769572404,
          0.9189908509672091,
          0.9170548892486476,
          0.9216528537193854,
          0.9290337908551325,
          0.932603289510173,
          0.9482122485803206,
          0.9646076597882938,
          0.972593594192617,
          0.9834835450269882,
          0.9893520628435004,
          0.9895940026691664,
          1.0004839535035375,
          0.9992739589663852,
          1.010405923478628,
          1.0320648552345373,
          1.0389012800581245,
          1.057232726836865,
          1.064190195425491,
          1.0702401681112528,
          1.0691511434869334,
          1.0770766667870457,
          1.1251739496388515,
          1.1153124646201777,
          1.1303769113781656,
          1.1539113198962199,
          1.1479218321668747,
          1.156089295292653,
          1.1767196873806594,
          1.192570586276473,
          1.1931150985886327,
          1.1582067857326697,
          1.1807731395392376,
          1.175388722930674,
          1.208240030303037,
          1.2220339975674561,
          1.2395788445039595,
          1.2550062748526518,
          1.296993173914485,
          1.313751568713163,
          1.3357129991033603,
          1.3386170155334083,
          1.3881662327480324,
          1.4331779704483354,
          1.4435840416313745,
          1.5294330949605692,
          1.39070719173517,
          1.3789097449979346,
          1.2641417926899168,
          1.1987416027272733,
          1.2006775644458347,
          1.2625083296056432,
          1.2640812338812946,
          1.2298989620589462,
          1.262205830971355,
          1.234315397808229
         ],
         "yaxis": "y"
        }
       ],
       "layout": {
        "height": 500,
        "legend": {
         "tracegroupgap": 0
        },
        "template": {
         "data": {
          "bar": [
           {
            "error_x": {
             "color": "#2a3f5f"
            },
            "error_y": {
             "color": "#2a3f5f"
            },
            "marker": {
             "line": {
              "color": "#E5ECF6",
              "width": 0.5
             },
             "pattern": {
              "fillmode": "overlay",
              "size": 10,
              "solidity": 0.2
             }
            },
            "type": "bar"
           }
          ],
          "barpolar": [
           {
            "marker": {
             "line": {
              "color": "#E5ECF6",
              "width": 0.5
             },
             "pattern": {
              "fillmode": "overlay",
              "size": 10,
              "solidity": 0.2
             }
            },
            "type": "barpolar"
           }
          ],
          "carpet": [
           {
            "aaxis": {
             "endlinecolor": "#2a3f5f",
             "gridcolor": "white",
             "linecolor": "white",
             "minorgridcolor": "white",
             "startlinecolor": "#2a3f5f"
            },
            "baxis": {
             "endlinecolor": "#2a3f5f",
             "gridcolor": "white",
             "linecolor": "white",
             "minorgridcolor": "white",
             "startlinecolor": "#2a3f5f"
            },
            "type": "carpet"
           }
          ],
          "choropleth": [
           {
            "colorbar": {
             "outlinewidth": 0,
             "ticks": ""
            },
            "type": "choropleth"
           }
          ],
          "contour": [
           {
            "colorbar": {
             "outlinewidth": 0,
             "ticks": ""
            },
            "colorscale": [
             [
              0,
              "#0d0887"
             ],
             [
              0.1111111111111111,
              "#46039f"
             ],
             [
              0.2222222222222222,
              "#7201a8"
             ],
             [
              0.3333333333333333,
              "#9c179e"
             ],
             [
              0.4444444444444444,
              "#bd3786"
             ],
             [
              0.5555555555555556,
              "#d8576b"
             ],
             [
              0.6666666666666666,
              "#ed7953"
             ],
             [
              0.7777777777777778,
              "#fb9f3a"
             ],
             [
              0.8888888888888888,
              "#fdca26"
             ],
             [
              1,
              "#f0f921"
             ]
            ],
            "type": "contour"
           }
          ],
          "contourcarpet": [
           {
            "colorbar": {
             "outlinewidth": 0,
             "ticks": ""
            },
            "type": "contourcarpet"
           }
          ],
          "heatmap": [
           {
            "colorbar": {
             "outlinewidth": 0,
             "ticks": ""
            },
            "colorscale": [
             [
              0,
              "#0d0887"
             ],
             [
              0.1111111111111111,
              "#46039f"
             ],
             [
              0.2222222222222222,
              "#7201a8"
             ],
             [
              0.3333333333333333,
              "#9c179e"
             ],
             [
              0.4444444444444444,
              "#bd3786"
             ],
             [
              0.5555555555555556,
              "#d8576b"
             ],
             [
              0.6666666666666666,
              "#ed7953"
             ],
             [
              0.7777777777777778,
              "#fb9f3a"
             ],
             [
              0.8888888888888888,
              "#fdca26"
             ],
             [
              1,
              "#f0f921"
             ]
            ],
            "type": "heatmap"
           }
          ],
          "heatmapgl": [
           {
            "colorbar": {
             "outlinewidth": 0,
             "ticks": ""
            },
            "colorscale": [
             [
              0,
              "#0d0887"
             ],
             [
              0.1111111111111111,
              "#46039f"
             ],
             [
              0.2222222222222222,
              "#7201a8"
             ],
             [
              0.3333333333333333,
              "#9c179e"
             ],
             [
              0.4444444444444444,
              "#bd3786"
             ],
             [
              0.5555555555555556,
              "#d8576b"
             ],
             [
              0.6666666666666666,
              "#ed7953"
             ],
             [
              0.7777777777777778,
              "#fb9f3a"
             ],
             [
              0.8888888888888888,
              "#fdca26"
             ],
             [
              1,
              "#f0f921"
             ]
            ],
            "type": "heatmapgl"
           }
          ],
          "histogram": [
           {
            "marker": {
             "pattern": {
              "fillmode": "overlay",
              "size": 10,
              "solidity": 0.2
             }
            },
            "type": "histogram"
           }
          ],
          "histogram2d": [
           {
            "colorbar": {
             "outlinewidth": 0,
             "ticks": ""
            },
            "colorscale": [
             [
              0,
              "#0d0887"
             ],
             [
              0.1111111111111111,
              "#46039f"
             ],
             [
              0.2222222222222222,
              "#7201a8"
             ],
             [
              0.3333333333333333,
              "#9c179e"
             ],
             [
              0.4444444444444444,
              "#bd3786"
             ],
             [
              0.5555555555555556,
              "#d8576b"
             ],
             [
              0.6666666666666666,
              "#ed7953"
             ],
             [
              0.7777777777777778,
              "#fb9f3a"
             ],
             [
              0.8888888888888888,
              "#fdca26"
             ],
             [
              1,
              "#f0f921"
             ]
            ],
            "type": "histogram2d"
           }
          ],
          "histogram2dcontour": [
           {
            "colorbar": {
             "outlinewidth": 0,
             "ticks": ""
            },
            "colorscale": [
             [
              0,
              "#0d0887"
             ],
             [
              0.1111111111111111,
              "#46039f"
             ],
             [
              0.2222222222222222,
              "#7201a8"
             ],
             [
              0.3333333333333333,
              "#9c179e"
             ],
             [
              0.4444444444444444,
              "#bd3786"
             ],
             [
              0.5555555555555556,
              "#d8576b"
             ],
             [
              0.6666666666666666,
              "#ed7953"
             ],
             [
              0.7777777777777778,
              "#fb9f3a"
             ],
             [
              0.8888888888888888,
              "#fdca26"
             ],
             [
              1,
              "#f0f921"
             ]
            ],
            "type": "histogram2dcontour"
           }
          ],
          "mesh3d": [
           {
            "colorbar": {
             "outlinewidth": 0,
             "ticks": ""
            },
            "type": "mesh3d"
           }
          ],
          "parcoords": [
           {
            "line": {
             "colorbar": {
              "outlinewidth": 0,
              "ticks": ""
             }
            },
            "type": "parcoords"
           }
          ],
          "pie": [
           {
            "automargin": true,
            "type": "pie"
           }
          ],
          "scatter": [
           {
            "fillpattern": {
             "fillmode": "overlay",
             "size": 10,
             "solidity": 0.2
            },
            "type": "scatter"
           }
          ],
          "scatter3d": [
           {
            "line": {
             "colorbar": {
              "outlinewidth": 0,
              "ticks": ""
             }
            },
            "marker": {
             "colorbar": {
              "outlinewidth": 0,
              "ticks": ""
             }
            },
            "type": "scatter3d"
           }
          ],
          "scattercarpet": [
           {
            "marker": {
             "colorbar": {
              "outlinewidth": 0,
              "ticks": ""
             }
            },
            "type": "scattercarpet"
           }
          ],
          "scattergeo": [
           {
            "marker": {
             "colorbar": {
              "outlinewidth": 0,
              "ticks": ""
             }
            },
            "type": "scattergeo"
           }
          ],
          "scattergl": [
           {
            "marker": {
             "colorbar": {
              "outlinewidth": 0,
              "ticks": ""
             }
            },
            "type": "scattergl"
           }
          ],
          "scattermapbox": [
           {
            "marker": {
             "colorbar": {
              "outlinewidth": 0,
              "ticks": ""
             }
            },
            "type": "scattermapbox"
           }
          ],
          "scatterpolar": [
           {
            "marker": {
             "colorbar": {
              "outlinewidth": 0,
              "ticks": ""
             }
            },
            "type": "scatterpolar"
           }
          ],
          "scatterpolargl": [
           {
            "marker": {
             "colorbar": {
              "outlinewidth": 0,
              "ticks": ""
             }
            },
            "type": "scatterpolargl"
           }
          ],
          "scatterternary": [
           {
            "marker": {
             "colorbar": {
              "outlinewidth": 0,
              "ticks": ""
             }
            },
            "type": "scatterternary"
           }
          ],
          "surface": [
           {
            "colorbar": {
             "outlinewidth": 0,
             "ticks": ""
            },
            "colorscale": [
             [
              0,
              "#0d0887"
             ],
             [
              0.1111111111111111,
              "#46039f"
             ],
             [
              0.2222222222222222,
              "#7201a8"
             ],
             [
              0.3333333333333333,
              "#9c179e"
             ],
             [
              0.4444444444444444,
              "#bd3786"
             ],
             [
              0.5555555555555556,
              "#d8576b"
             ],
             [
              0.6666666666666666,
              "#ed7953"
             ],
             [
              0.7777777777777778,
              "#fb9f3a"
             ],
             [
              0.8888888888888888,
              "#fdca26"
             ],
             [
              1,
              "#f0f921"
             ]
            ],
            "type": "surface"
           }
          ],
          "table": [
           {
            "cells": {
             "fill": {
              "color": "#EBF0F8"
             },
             "line": {
              "color": "white"
             }
            },
            "header": {
             "fill": {
              "color": "#C8D4E3"
             },
             "line": {
              "color": "white"
             }
            },
            "type": "table"
           }
          ]
         },
         "layout": {
          "annotationdefaults": {
           "arrowcolor": "#2a3f5f",
           "arrowhead": 0,
           "arrowwidth": 1
          },
          "autotypenumbers": "strict",
          "coloraxis": {
           "colorbar": {
            "outlinewidth": 0,
            "ticks": ""
           }
          },
          "colorscale": {
           "diverging": [
            [
             0,
             "#8e0152"
            ],
            [
             0.1,
             "#c51b7d"
            ],
            [
             0.2,
             "#de77ae"
            ],
            [
             0.3,
             "#f1b6da"
            ],
            [
             0.4,
             "#fde0ef"
            ],
            [
             0.5,
             "#f7f7f7"
            ],
            [
             0.6,
             "#e6f5d0"
            ],
            [
             0.7,
             "#b8e186"
            ],
            [
             0.8,
             "#7fbc41"
            ],
            [
             0.9,
             "#4d9221"
            ],
            [
             1,
             "#276419"
            ]
           ],
           "sequential": [
            [
             0,
             "#0d0887"
            ],
            [
             0.1111111111111111,
             "#46039f"
            ],
            [
             0.2222222222222222,
             "#7201a8"
            ],
            [
             0.3333333333333333,
             "#9c179e"
            ],
            [
             0.4444444444444444,
             "#bd3786"
            ],
            [
             0.5555555555555556,
             "#d8576b"
            ],
            [
             0.6666666666666666,
             "#ed7953"
            ],
            [
             0.7777777777777778,
             "#fb9f3a"
            ],
            [
             0.8888888888888888,
             "#fdca26"
            ],
            [
             1,
             "#f0f921"
            ]
           ],
           "sequentialminus": [
            [
             0,
             "#0d0887"
            ],
            [
             0.1111111111111111,
             "#46039f"
            ],
            [
             0.2222222222222222,
             "#7201a8"
            ],
            [
             0.3333333333333333,
             "#9c179e"
            ],
            [
             0.4444444444444444,
             "#bd3786"
            ],
            [
             0.5555555555555556,
             "#d8576b"
            ],
            [
             0.6666666666666666,
             "#ed7953"
            ],
            [
             0.7777777777777778,
             "#fb9f3a"
            ],
            [
             0.8888888888888888,
             "#fdca26"
            ],
            [
             1,
             "#f0f921"
            ]
           ]
          },
          "colorway": [
           "#636efa",
           "#EF553B",
           "#00cc96",
           "#ab63fa",
           "#FFA15A",
           "#19d3f3",
           "#FF6692",
           "#B6E880",
           "#FF97FF",
           "#FECB52"
          ],
          "font": {
           "color": "#2a3f5f"
          },
          "geo": {
           "bgcolor": "white",
           "lakecolor": "white",
           "landcolor": "#E5ECF6",
           "showlakes": true,
           "showland": true,
           "subunitcolor": "white"
          },
          "hoverlabel": {
           "align": "left"
          },
          "hovermode": "closest",
          "mapbox": {
           "style": "light"
          },
          "paper_bgcolor": "white",
          "plot_bgcolor": "#E5ECF6",
          "polar": {
           "angularaxis": {
            "gridcolor": "white",
            "linecolor": "white",
            "ticks": ""
           },
           "bgcolor": "#E5ECF6",
           "radialaxis": {
            "gridcolor": "white",
            "linecolor": "white",
            "ticks": ""
           }
          },
          "scene": {
           "xaxis": {
            "backgroundcolor": "#E5ECF6",
            "gridcolor": "white",
            "gridwidth": 2,
            "linecolor": "white",
            "showbackground": true,
            "ticks": "",
            "zerolinecolor": "white"
           },
           "yaxis": {
            "backgroundcolor": "#E5ECF6",
            "gridcolor": "white",
            "gridwidth": 2,
            "linecolor": "white",
            "showbackground": true,
            "ticks": "",
            "zerolinecolor": "white"
           },
           "zaxis": {
            "backgroundcolor": "#E5ECF6",
            "gridcolor": "white",
            "gridwidth": 2,
            "linecolor": "white",
            "showbackground": true,
            "ticks": "",
            "zerolinecolor": "white"
           }
          },
          "shapedefaults": {
           "line": {
            "color": "#2a3f5f"
           }
          },
          "ternary": {
           "aaxis": {
            "gridcolor": "white",
            "linecolor": "white",
            "ticks": ""
           },
           "baxis": {
            "gridcolor": "white",
            "linecolor": "white",
            "ticks": ""
           },
           "bgcolor": "#E5ECF6",
           "caxis": {
            "gridcolor": "white",
            "linecolor": "white",
            "ticks": ""
           }
          },
          "title": {
           "x": 0.05
          },
          "xaxis": {
           "automargin": true,
           "gridcolor": "white",
           "linecolor": "white",
           "ticks": "",
           "title": {
            "standoff": 15
           },
           "zerolinecolor": "white",
           "zerolinewidth": 2
          },
          "yaxis": {
           "automargin": true,
           "gridcolor": "white",
           "linecolor": "white",
           "ticks": "",
           "title": {
            "standoff": 15
           },
           "zerolinecolor": "white",
           "zerolinewidth": 2
          }
         }
        },
        "title": {
         "text": "BIST30 Endeksi 2021 - Normalize (1 Ocak 2021)"
        },
        "width": 1000,
        "xaxis": {
         "anchor": "y",
         "domain": [
          0,
          1
         ],
         "title": {
          "text": "Tarih"
         }
        },
        "yaxis": {
         "anchor": "x",
         "domain": [
          0,
          1
         ],
         "title": {
          "text": "BIST30 Endeksi (TRY)"
         }
        }
       }
      },
      "text/html": [
       "<div>                            <div id=\"4bc225c1-69dc-415e-ad0e-65f1e11b425c\" class=\"plotly-graph-div\" style=\"height:500px; width:1000px;\"></div>            <script type=\"text/javascript\">                require([\"plotly\"], function(Plotly) {                    window.PLOTLYENV=window.PLOTLYENV || {};                                    if (document.getElementById(\"4bc225c1-69dc-415e-ad0e-65f1e11b425c\")) {                    Plotly.newPlot(                        \"4bc225c1-69dc-415e-ad0e-65f1e11b425c\",                        [{\"customdata\":[[1652.9000244140625],[1640.4000244140625],[1657.699951171875],[1678.199951171875],[1694.4000244140625],[1679.0],[1686.800048828125],[1697.5999755859375],[1681.0],[1653.800048828125],[1682.699951171875],[1690.0999755859375],[1691.199951171875],[1665.5999755859375],[1637.0999755859375],[1636.9000244140625],[1575.199951171875],[1601.9000244140625],[1572.4000244140625],[1584.5],[1602.800048828125],[1628.9000244140625],[1627.699951171875],[1616.9000244140625],[1625.300048828125],[1643.0999755859375],[1646.4000244140625],[1640.300048828125],[1628.4000244140625],[1622.300048828125],[1605.9000244140625],[1622.300048828125],[1605.0],[1589.300048828125],[1558.0999755859375],[1574.0999755859375],[1556.0],[1609.0],[1614.800048828125],[1613.300048828125],[1625.0],[1631.0999755859375],[1615.9000244140625],[1635.9000244140625],[1649.300048828125],[1638.5],[1639.4000244140625],[1631.0],[1641.9000244140625],[1628.4000244140625],[1625.699951171875],[1591.0],[1432.800048828125],[1420.699951171875],[1447.699951171875],[1430.199951171875],[1421.5999755859375],[1431.9000244140625],[1431.9000244140625],[1430.699951171875],[1464.4000244140625],[1472.699951171875],[1453.0],[1454.0999755859375],[1451.5999755859375],[1432.5],[1414.5],[1422.199951171875],[1456.199951171875],[1465.699951171875],[1459.9000244140625],[1434.0],[1422.699951171875],[1397.0999755859375],[1412.699951171875],[1444.4000244140625],[1459.199951171875],[1449.699951171875],[1465.5999755859375],[1456.9000244140625],[1483.4000244140625],[1478.5],[1492.800048828125],[1509.5],[1534.5999755859375],[1510.9000244140625],[1525.699951171875],[1531.5999755859375],[1521.4000244140625],[1526.0],[1509.0],[1489.199951171875],[1506.9000244140625],[1525.5],[1523.199951171875],[1522.199951171875],[1528.0],[1546.0],[1547.5999755859375],[1550.0],[1559.5],[1561.800048828125],[1561.0999755859375],[1552.4000244140625],[1542.199951171875],[1525.300048828125],[1500.800048828125],[1514.199951171875],[1525.300048828125],[1512.4000244140625],[1522.5999755859375],[1502.199951171875],[1486.699951171875],[1483.0],[1462.9000244140625],[1479.300048828125],[1484.0999755859375],[1488.199951171875],[1498.699951171875],[1479.199951171875],[1488.5999755859375],[1467.0999755859375],[1458.0999755859375],[1479.199951171875],[1470.199951171875],[1452.5],[1446.300048828125],[1460.199951171875],[1459.800048828125],[1499.9000244140625],[1500.800048828125],[1503.800048828125],[1514.800048828125],[1515.5],[1539.199951171875],[1544.300048828125],[1538.300048828125],[1546.5999755859375],[1516.800048828125],[1559.800048828125],[1562.0],[1570.5999755859375],[1578.5],[1562.5999755859375],[1551.0999755859375],[1557.5999755859375],[1576.4000244140625],[1584.800048828125],[1571.4000244140625],[1566.0],[1574.0],[1588.300048828125],[1587.0],[1591.699951171875],[1577.800048828125],[1583.5],[1558.5999755859375],[1536.5],[1554.4000244140625],[1536.199951171875],[1537.5999755859375],[1532.9000244140625],[1518.0],[1514.9000244140625],[1519.5999755859375],[1490.9000244140625],[1484.800048828125],[1511.699951171875],[1498.300048828125],[1478.5],[1488.9000244140625],[1478.800048828125],[1488.9000244140625],[1505.199951171875],[1498.800048828125],[1489.5999755859375],[1488.800048828125],[1467.300048828125],[1499.699951171875],[1499.5999755859375],[1522.800048828125],[1524.5999755859375],[1520.300048828125],[1519.0],[1515.800048828125],[1523.4000244140625],[1535.5999755859375],[1541.5],[1567.300048828125],[1594.4000244140625],[1607.5999755859375],[1625.5999755859375],[1635.300048828125],[1635.699951171875],[1653.699951171875],[1651.699951171875],[1670.0999755859375],[1705.9000244140625],[1717.199951171875],[1747.5],[1759.0],[1769.0],[1767.199951171875],[1780.300048828125],[1859.800048828125],[1843.5],[1868.4000244140625],[1907.300048828125],[1897.4000244140625],[1910.9000244140625],[1945.0],[1971.199951171875],[1972.0999755859375],[1914.4000244140625],[1951.699951171875],[1942.800048828125],[1997.0999755859375],[2019.9000244140625],[2048.89990234375],[2074.39990234375],[2143.800048828125],[2171.5],[2207.800048828125],[2212.60009765625],[2294.5],[2368.89990234375],[2386.10009765625],[2528.0],[2298.699951171875],[2279.199951171875],[2089.5],[1981.4000244140625],[1984.5999755859375],[2086.800048828125],[2089.39990234375],[2032.9000244140625],[2086.300048828125],[2040.199951171875]],\"hovertemplate\":\"Tarih=%{x}<br>BIST30 Endeksi (TRY)=%{y:.2f}<br>Kapan\\u0131\\u015f (TRY)=%{customdata[0]:.0f}<extra></extra>\",\"legendgroup\":\"\",\"line\":{\"color\":\"#636efa\",\"dash\":\"solid\"},\"marker\":{\"symbol\":\"circle\"},\"mode\":\"lines\",\"name\":\"\",\"orientation\":\"v\",\"showlegend\":false,\"x\":[\"2021-01-04T00:00:00\",\"2021-01-05T00:00:00\",\"2021-01-06T00:00:00\",\"2021-01-07T00:00:00\",\"2021-01-08T00:00:00\",\"2021-01-11T00:00:00\",\"2021-01-12T00:00:00\",\"2021-01-13T00:00:00\",\"2021-01-14T00:00:00\",\"2021-01-15T00:00:00\",\"2021-01-18T00:00:00\",\"2021-01-19T00:00:00\",\"2021-01-20T00:00:00\",\"2021-01-21T00:00:00\",\"2021-01-25T00:00:00\",\"2021-01-26T00:00:00\",\"2021-01-27T00:00:00\",\"2021-01-28T00:00:00\",\"2021-01-29T00:00:00\",\"2021-02-01T00:00:00\",\"2021-02-02T00:00:00\",\"2021-02-03T00:00:00\",\"2021-02-04T00:00:00\",\"2021-02-05T00:00:00\",\"2021-02-08T00:00:00\",\"2021-02-09T00:00:00\",\"2021-02-10T00:00:00\",\"2021-02-11T00:00:00\",\"2021-02-12T00:00:00\",\"2021-02-16T00:00:00\",\"2021-02-18T00:00:00\",\"2021-02-19T00:00:00\",\"2021-02-22T00:00:00\",\"2021-02-23T00:00:00\",\"2021-02-24T00:00:00\",\"2021-02-25T00:00:00\",\"2021-02-26T00:00:00\",\"2021-03-01T00:00:00\",\"2021-03-02T00:00:00\",\"2021-03-03T00:00:00\",\"2021-03-04T00:00:00\",\"2021-03-05T00:00:00\",\"2021-03-08T00:00:00\",\"2021-03-09T00:00:00\",\"2021-03-10T00:00:00\",\"2021-03-11T00:00:00\",\"2021-03-12T00:00:00\",\"2021-03-15T00:00:00\",\"2021-03-16T00:00:00\",\"2021-03-17T00:00:00\",\"2021-03-18T00:00:00\",\"2021-03-19T00:00:00\",\"2021-03-22T00:00:00\",\"2021-03-23T00:00:00\",\"2021-03-24T00:00:00\",\"2021-03-25T00:00:00\",\"2021-03-26T00:00:00\",\"2021-03-29T00:00:00\",\"2021-03-30T00:00:00\",\"2021-03-31T00:00:00\",\"2021-04-01T00:00:00\",\"2021-04-05T00:00:00\",\"2021-04-06T00:00:00\",\"2021-04-07T00:00:00\",\"2021-04-08T00:00:00\",\"2021-04-09T00:00:00\",\"2021-04-12T00:00:00\",\"2021-04-13T00:00:00\",\"2021-04-14T00:00:00\",\"2021-04-15T00:00:00\",\"2021-04-16T00:00:00\",\"2021-04-19T00:00:00\",\"2021-04-20T00:00:00\",\"2021-04-21T00:00:00\",\"2021-04-22T00:00:00\",\"2021-04-26T00:00:00\",\"2021-04-27T00:00:00\",\"2021-04-28T00:00:00\",\"2021-04-29T00:00:00\",\"2021-04-30T00:00:00\",\"2021-05-03T00:00:00\",\"2021-05-04T00:00:00\",\"2021-05-06T00:00:00\",\"2021-05-07T00:00:00\",\"2021-05-10T00:00:00\",\"2021-05-12T00:00:00\",\"2021-05-17T00:00:00\",\"2021-05-18T00:00:00\",\"2021-05-21T00:00:00\",\"2021-05-24T00:00:00\",\"2021-05-26T00:00:00\",\"2021-05-27T00:00:00\",\"2021-05-28T00:00:00\",\"2021-06-01T00:00:00\",\"2021-06-02T00:00:00\",\"2021-06-03T00:00:00\",\"2021-06-04T00:00:00\",\"2021-06-07T00:00:00\",\"2021-06-08T00:00:00\",\"2021-06-09T00:00:00\",\"2021-06-10T00:00:00\",\"2021-06-11T00:00:00\",\"2021-06-14T00:00:00\",\"2021-06-15T00:00:00\",\"2021-06-16T00:00:00\",\"2021-06-17T00:00:00\",\"2021-06-18T00:00:00\",\"2021-06-21T00:00:00\",\"2021-06-22T00:00:00\",\"2021-06-23T00:00:00\",\"2021-06-24T00:00:00\",\"2021-06-25T00:00:00\",\"2021-06-28T00:00:00\",\"2021-06-29T00:00:00\",\"2021-06-30T00:00:00\",\"2021-07-01T00:00:00\",\"2021-07-02T00:00:00\",\"2021-07-06T00:00:00\",\"2021-07-07T00:00:00\",\"2021-07-08T00:00:00\",\"2021-07-09T00:00:00\",\"2021-07-12T00:00:00\",\"2021-07-13T00:00:00\",\"2021-07-14T00:00:00\",\"2021-07-16T00:00:00\",\"2021-07-19T00:00:00\",\"2021-07-26T00:00:00\",\"2021-07-27T00:00:00\",\"2021-07-28T00:00:00\",\"2021-07-29T00:00:00\",\"2021-07-30T00:00:00\",\"2021-08-02T00:00:00\",\"2021-08-03T00:00:00\",\"2021-08-04T00:00:00\",\"2021-08-05T00:00:00\",\"2021-08-06T00:00:00\",\"2021-08-09T00:00:00\",\"2021-08-10T00:00:00\",\"2021-08-11T00:00:00\",\"2021-08-12T00:00:00\",\"2021-08-13T00:00:00\",\"2021-08-16T00:00:00\",\"2021-08-17T00:00:00\",\"2021-08-18T00:00:00\",\"2021-08-19T00:00:00\",\"2021-08-20T00:00:00\",\"2021-08-23T00:00:00\",\"2021-08-24T00:00:00\",\"2021-08-25T00:00:00\",\"2021-08-26T00:00:00\",\"2021-08-27T00:00:00\",\"2021-08-31T00:00:00\",\"2021-09-01T00:00:00\",\"2021-09-02T00:00:00\",\"2021-09-03T00:00:00\",\"2021-09-06T00:00:00\",\"2021-09-07T00:00:00\",\"2021-09-08T00:00:00\",\"2021-09-09T00:00:00\",\"2021-09-10T00:00:00\",\"2021-09-13T00:00:00\",\"2021-09-14T00:00:00\",\"2021-09-15T00:00:00\",\"2021-09-16T00:00:00\",\"2021-09-17T00:00:00\",\"2021-09-20T00:00:00\",\"2021-09-21T00:00:00\",\"2021-09-22T00:00:00\",\"2021-09-23T00:00:00\",\"2021-09-24T00:00:00\",\"2021-09-27T00:00:00\",\"2021-09-28T00:00:00\",\"2021-09-29T00:00:00\",\"2021-09-30T00:00:00\",\"2021-10-01T00:00:00\",\"2021-10-04T00:00:00\",\"2021-10-05T00:00:00\",\"2021-10-06T00:00:00\",\"2021-10-07T00:00:00\",\"2021-10-08T00:00:00\",\"2021-10-11T00:00:00\",\"2021-10-12T00:00:00\",\"2021-10-13T00:00:00\",\"2021-10-14T00:00:00\",\"2021-10-15T00:00:00\",\"2021-10-18T00:00:00\",\"2021-10-19T00:00:00\",\"2021-10-20T00:00:00\",\"2021-10-21T00:00:00\",\"2021-10-22T00:00:00\",\"2021-10-25T00:00:00\",\"2021-10-26T00:00:00\",\"2021-10-27T00:00:00\",\"2021-10-28T00:00:00\",\"2021-11-01T00:00:00\",\"2021-11-02T00:00:00\",\"2021-11-03T00:00:00\",\"2021-11-04T00:00:00\",\"2021-11-05T00:00:00\",\"2021-11-08T00:00:00\",\"2021-11-09T00:00:00\",\"2021-11-10T00:00:00\",\"2021-11-11T00:00:00\",\"2021-11-12T00:00:00\",\"2021-11-15T00:00:00\",\"2021-11-16T00:00:00\",\"2021-11-17T00:00:00\",\"2021-11-18T00:00:00\",\"2021-11-19T00:00:00\",\"2021-11-22T00:00:00\",\"2021-11-23T00:00:00\",\"2021-11-24T00:00:00\",\"2021-11-25T00:00:00\",\"2021-11-26T00:00:00\",\"2021-11-29T00:00:00\",\"2021-11-30T00:00:00\",\"2021-12-01T00:00:00\",\"2021-12-02T00:00:00\",\"2021-12-03T00:00:00\",\"2021-12-06T00:00:00\",\"2021-12-07T00:00:00\",\"2021-12-08T00:00:00\",\"2021-12-09T00:00:00\",\"2021-12-10T00:00:00\",\"2021-12-13T00:00:00\",\"2021-12-14T00:00:00\",\"2021-12-15T00:00:00\",\"2021-12-16T00:00:00\",\"2021-12-17T00:00:00\",\"2021-12-20T00:00:00\",\"2021-12-21T00:00:00\",\"2021-12-22T00:00:00\",\"2021-12-23T00:00:00\",\"2021-12-24T00:00:00\",\"2021-12-27T00:00:00\",\"2021-12-28T00:00:00\",\"2021-12-29T00:00:00\",\"2021-12-30T00:00:00\"],\"xaxis\":\"x\",\"y\":[1.0,0.9924375341427978,1.0029039425778423,1.0153063865836538,1.0251073866459113,1.015790413939397,1.0205094221751734,1.0270433483644728,1.0170004084765494,1.0005445123121597,1.0180288742922465,1.0225058688501514,1.0231713510751441,1.007683435770035,0.9904410136156142,0.9903200437027813,0.9529916679203079,0.9691451393026151,0.951297719879618,0.9586181720589485,0.9696896516147748,0.9854800655541718,0.984754024520557,0.9782200983312577,0.9833020901577387,0.9940709972270713,0.9960675177542548,0.9923770491863814,0.9851775669198837,0.9814870983520102,0.9715651283769198,0.9814870983520102,0.9710206160647601,0.9615221884889964,0.9426462293980964,0.9523261856953152,0.9413757499045275,0.9734406051390648,0.9769496188376888,0.9760421229348246,0.9831205614362836,0.9868110300041572,0.9776151010626816,0.989715046434205,0.997822024603567,0.991288024562062,0.9918325368742217,0.9867505450477406,0.9933450300456621,0.9851775669198837,0.9835440299834046,0.9625506543046937,0.8668401159568251,0.8595195899252889,0.8758545161768456,0.8652670639767626,0.8600641022374486,0.8662956036446654,0.8662956036446654,0.8655695626110507,0.8859580148733911,0.8909794478912499,0.8790610312411816,0.8797265134661743,0.8782140202947338,0.86665858723537,0.8557686364009989,0.8604270858281532,0.8809969929597431,0.8867444670112168,0.8832355271647984,0.8675660831382342,0.8607295844624412,0.8452416691573323,0.8546796117766795,0.8738580695018676,0.8828119847654716,0.8770645107139979,0.8866839820548003,0.8814205353590698,0.8974529629763384,0.894488461589874,0.9031399520713956,0.9132433769157354,0.9284287935865563,0.9140903878621832,0.9230443031257872,0.9266138017808278,0.920442859182233,0.9232258318472423,0.9129408782814473,0.9009619028227569,0.9116703987878785,0.9229233332129543,0.9215318099543468,0.9209268126857706,0.9244358263843947,0.9353257772187659,0.9362937580780466,0.9377457662930705,0.9434932403445442,0.9448847636031517,0.9444612212038249,0.9391977745080945,0.9330267580572941,0.9228023633001212,0.907979930220005,0.9160868345371612,0.9228023633001212,0.9149978837650474,0.9211688263636422,0.9088268673142471,0.8994494096513164,0.8972109492984668,0.8850505189705269,0.8949724889456172,0.8978764315234595,0.9003569055541807,0.9067093768742305,0.8949119301369951,0.9005989192320523,0.8875914779576645,0.882146502540479,0.8949119301369951,0.8894669547198095,0.8787585326068935,0.8750075790826035,0.8834169820340478,0.8831750422083818,0.9074354179078453,0.907979930220005,0.9097949220257335,0.9164498919800714,0.9168733605271925,0.9312117662515655,0.9342973114030686,0.9306673277916115,0.9356887608094704,0.9176598865172237,0.9436747690659992,0.9450057335159846,0.9502086952552986,0.9549881884474914,0.9453687171066892,0.9384112485180631,0.9423437307638083,0.9537177089539226,0.9587997007804037,0.9506927226110418,0.9474257225902893,0.9522657007388987,0.9609171912204203,0.9601306652303889,0.9629741228518147,0.9545647199003704,0.9580131747903724,0.9429487280323845,0.9295783031672922,0.9404077690452468,0.929396774445837,0.9302437853922848,0.927400327770859,0.9183858536986329,0.916510376936488,0.9193538345579136,0.9019904424906597,0.8982999739227862,0.9145743413657208,0.9064674370485646,0.894488461589874,0.9007804479535074,0.8946699903113291,0.9007804479535074,0.9106418591199756,0.9067699356828526,0.9012039165006285,0.9007199629970909,0.8877125217227031,0.9073143741428067,0.9072538891863902,0.9212898701286808,0.9223788209007946,0.9197773769572404,0.9189908509672091,0.9170548892486476,0.9216528537193854,0.9290337908551325,0.932603289510173,0.9482122485803206,0.9646076597882938,0.972593594192617,0.9834835450269882,0.9893520628435004,0.9895940026691664,1.0004839535035375,0.9992739589663852,1.010405923478628,1.0320648552345373,1.0389012800581245,1.057232726836865,1.064190195425491,1.0702401681112528,1.0691511434869334,1.0770766667870457,1.1251739496388515,1.1153124646201777,1.1303769113781656,1.1539113198962199,1.1479218321668747,1.156089295292653,1.1767196873806594,1.192570586276473,1.1931150985886327,1.1582067857326697,1.1807731395392376,1.175388722930674,1.208240030303037,1.2220339975674561,1.2395788445039595,1.2550062748526518,1.296993173914485,1.313751568713163,1.3357129991033603,1.3386170155334083,1.3881662327480324,1.4331779704483354,1.4435840416313745,1.5294330949605692,1.39070719173517,1.3789097449979346,1.2641417926899168,1.1987416027272733,1.2006775644458347,1.2625083296056432,1.2640812338812946,1.2298989620589462,1.262205830971355,1.234315397808229],\"yaxis\":\"y\",\"type\":\"scatter\"}],                        {\"template\":{\"data\":{\"histogram2dcontour\":[{\"type\":\"histogram2dcontour\",\"colorbar\":{\"outlinewidth\":0,\"ticks\":\"\"},\"colorscale\":[[0.0,\"#0d0887\"],[0.1111111111111111,\"#46039f\"],[0.2222222222222222,\"#7201a8\"],[0.3333333333333333,\"#9c179e\"],[0.4444444444444444,\"#bd3786\"],[0.5555555555555556,\"#d8576b\"],[0.6666666666666666,\"#ed7953\"],[0.7777777777777778,\"#fb9f3a\"],[0.8888888888888888,\"#fdca26\"],[1.0,\"#f0f921\"]]}],\"choropleth\":[{\"type\":\"choropleth\",\"colorbar\":{\"outlinewidth\":0,\"ticks\":\"\"}}],\"histogram2d\":[{\"type\":\"histogram2d\",\"colorbar\":{\"outlinewidth\":0,\"ticks\":\"\"},\"colorscale\":[[0.0,\"#0d0887\"],[0.1111111111111111,\"#46039f\"],[0.2222222222222222,\"#7201a8\"],[0.3333333333333333,\"#9c179e\"],[0.4444444444444444,\"#bd3786\"],[0.5555555555555556,\"#d8576b\"],[0.6666666666666666,\"#ed7953\"],[0.7777777777777778,\"#fb9f3a\"],[0.8888888888888888,\"#fdca26\"],[1.0,\"#f0f921\"]]}],\"heatmap\":[{\"type\":\"heatmap\",\"colorbar\":{\"outlinewidth\":0,\"ticks\":\"\"},\"colorscale\":[[0.0,\"#0d0887\"],[0.1111111111111111,\"#46039f\"],[0.2222222222222222,\"#7201a8\"],[0.3333333333333333,\"#9c179e\"],[0.4444444444444444,\"#bd3786\"],[0.5555555555555556,\"#d8576b\"],[0.6666666666666666,\"#ed7953\"],[0.7777777777777778,\"#fb9f3a\"],[0.8888888888888888,\"#fdca26\"],[1.0,\"#f0f921\"]]}],\"heatmapgl\":[{\"type\":\"heatmapgl\",\"colorbar\":{\"outlinewidth\":0,\"ticks\":\"\"},\"colorscale\":[[0.0,\"#0d0887\"],[0.1111111111111111,\"#46039f\"],[0.2222222222222222,\"#7201a8\"],[0.3333333333333333,\"#9c179e\"],[0.4444444444444444,\"#bd3786\"],[0.5555555555555556,\"#d8576b\"],[0.6666666666666666,\"#ed7953\"],[0.7777777777777778,\"#fb9f3a\"],[0.8888888888888888,\"#fdca26\"],[1.0,\"#f0f921\"]]}],\"contourcarpet\":[{\"type\":\"contourcarpet\",\"colorbar\":{\"outlinewidth\":0,\"ticks\":\"\"}}],\"contour\":[{\"type\":\"contour\",\"colorbar\":{\"outlinewidth\":0,\"ticks\":\"\"},\"colorscale\":[[0.0,\"#0d0887\"],[0.1111111111111111,\"#46039f\"],[0.2222222222222222,\"#7201a8\"],[0.3333333333333333,\"#9c179e\"],[0.4444444444444444,\"#bd3786\"],[0.5555555555555556,\"#d8576b\"],[0.6666666666666666,\"#ed7953\"],[0.7777777777777778,\"#fb9f3a\"],[0.8888888888888888,\"#fdca26\"],[1.0,\"#f0f921\"]]}],\"surface\":[{\"type\":\"surface\",\"colorbar\":{\"outlinewidth\":0,\"ticks\":\"\"},\"colorscale\":[[0.0,\"#0d0887\"],[0.1111111111111111,\"#46039f\"],[0.2222222222222222,\"#7201a8\"],[0.3333333333333333,\"#9c179e\"],[0.4444444444444444,\"#bd3786\"],[0.5555555555555556,\"#d8576b\"],[0.6666666666666666,\"#ed7953\"],[0.7777777777777778,\"#fb9f3a\"],[0.8888888888888888,\"#fdca26\"],[1.0,\"#f0f921\"]]}],\"mesh3d\":[{\"type\":\"mesh3d\",\"colorbar\":{\"outlinewidth\":0,\"ticks\":\"\"}}],\"scatter\":[{\"fillpattern\":{\"fillmode\":\"overlay\",\"size\":10,\"solidity\":0.2},\"type\":\"scatter\"}],\"parcoords\":[{\"type\":\"parcoords\",\"line\":{\"colorbar\":{\"outlinewidth\":0,\"ticks\":\"\"}}}],\"scatterpolargl\":[{\"type\":\"scatterpolargl\",\"marker\":{\"colorbar\":{\"outlinewidth\":0,\"ticks\":\"\"}}}],\"bar\":[{\"error_x\":{\"color\":\"#2a3f5f\"},\"error_y\":{\"color\":\"#2a3f5f\"},\"marker\":{\"line\":{\"color\":\"#E5ECF6\",\"width\":0.5},\"pattern\":{\"fillmode\":\"overlay\",\"size\":10,\"solidity\":0.2}},\"type\":\"bar\"}],\"scattergeo\":[{\"type\":\"scattergeo\",\"marker\":{\"colorbar\":{\"outlinewidth\":0,\"ticks\":\"\"}}}],\"scatterpolar\":[{\"type\":\"scatterpolar\",\"marker\":{\"colorbar\":{\"outlinewidth\":0,\"ticks\":\"\"}}}],\"histogram\":[{\"marker\":{\"pattern\":{\"fillmode\":\"overlay\",\"size\":10,\"solidity\":0.2}},\"type\":\"histogram\"}],\"scattergl\":[{\"type\":\"scattergl\",\"marker\":{\"colorbar\":{\"outlinewidth\":0,\"ticks\":\"\"}}}],\"scatter3d\":[{\"type\":\"scatter3d\",\"line\":{\"colorbar\":{\"outlinewidth\":0,\"ticks\":\"\"}},\"marker\":{\"colorbar\":{\"outlinewidth\":0,\"ticks\":\"\"}}}],\"scattermapbox\":[{\"type\":\"scattermapbox\",\"marker\":{\"colorbar\":{\"outlinewidth\":0,\"ticks\":\"\"}}}],\"scatterternary\":[{\"type\":\"scatterternary\",\"marker\":{\"colorbar\":{\"outlinewidth\":0,\"ticks\":\"\"}}}],\"scattercarpet\":[{\"type\":\"scattercarpet\",\"marker\":{\"colorbar\":{\"outlinewidth\":0,\"ticks\":\"\"}}}],\"carpet\":[{\"aaxis\":{\"endlinecolor\":\"#2a3f5f\",\"gridcolor\":\"white\",\"linecolor\":\"white\",\"minorgridcolor\":\"white\",\"startlinecolor\":\"#2a3f5f\"},\"baxis\":{\"endlinecolor\":\"#2a3f5f\",\"gridcolor\":\"white\",\"linecolor\":\"white\",\"minorgridcolor\":\"white\",\"startlinecolor\":\"#2a3f5f\"},\"type\":\"carpet\"}],\"table\":[{\"cells\":{\"fill\":{\"color\":\"#EBF0F8\"},\"line\":{\"color\":\"white\"}},\"header\":{\"fill\":{\"color\":\"#C8D4E3\"},\"line\":{\"color\":\"white\"}},\"type\":\"table\"}],\"barpolar\":[{\"marker\":{\"line\":{\"color\":\"#E5ECF6\",\"width\":0.5},\"pattern\":{\"fillmode\":\"overlay\",\"size\":10,\"solidity\":0.2}},\"type\":\"barpolar\"}],\"pie\":[{\"automargin\":true,\"type\":\"pie\"}]},\"layout\":{\"autotypenumbers\":\"strict\",\"colorway\":[\"#636efa\",\"#EF553B\",\"#00cc96\",\"#ab63fa\",\"#FFA15A\",\"#19d3f3\",\"#FF6692\",\"#B6E880\",\"#FF97FF\",\"#FECB52\"],\"font\":{\"color\":\"#2a3f5f\"},\"hovermode\":\"closest\",\"hoverlabel\":{\"align\":\"left\"},\"paper_bgcolor\":\"white\",\"plot_bgcolor\":\"#E5ECF6\",\"polar\":{\"bgcolor\":\"#E5ECF6\",\"angularaxis\":{\"gridcolor\":\"white\",\"linecolor\":\"white\",\"ticks\":\"\"},\"radialaxis\":{\"gridcolor\":\"white\",\"linecolor\":\"white\",\"ticks\":\"\"}},\"ternary\":{\"bgcolor\":\"#E5ECF6\",\"aaxis\":{\"gridcolor\":\"white\",\"linecolor\":\"white\",\"ticks\":\"\"},\"baxis\":{\"gridcolor\":\"white\",\"linecolor\":\"white\",\"ticks\":\"\"},\"caxis\":{\"gridcolor\":\"white\",\"linecolor\":\"white\",\"ticks\":\"\"}},\"coloraxis\":{\"colorbar\":{\"outlinewidth\":0,\"ticks\":\"\"}},\"colorscale\":{\"sequential\":[[0.0,\"#0d0887\"],[0.1111111111111111,\"#46039f\"],[0.2222222222222222,\"#7201a8\"],[0.3333333333333333,\"#9c179e\"],[0.4444444444444444,\"#bd3786\"],[0.5555555555555556,\"#d8576b\"],[0.6666666666666666,\"#ed7953\"],[0.7777777777777778,\"#fb9f3a\"],[0.8888888888888888,\"#fdca26\"],[1.0,\"#f0f921\"]],\"sequentialminus\":[[0.0,\"#0d0887\"],[0.1111111111111111,\"#46039f\"],[0.2222222222222222,\"#7201a8\"],[0.3333333333333333,\"#9c179e\"],[0.4444444444444444,\"#bd3786\"],[0.5555555555555556,\"#d8576b\"],[0.6666666666666666,\"#ed7953\"],[0.7777777777777778,\"#fb9f3a\"],[0.8888888888888888,\"#fdca26\"],[1.0,\"#f0f921\"]],\"diverging\":[[0,\"#8e0152\"],[0.1,\"#c51b7d\"],[0.2,\"#de77ae\"],[0.3,\"#f1b6da\"],[0.4,\"#fde0ef\"],[0.5,\"#f7f7f7\"],[0.6,\"#e6f5d0\"],[0.7,\"#b8e186\"],[0.8,\"#7fbc41\"],[0.9,\"#4d9221\"],[1,\"#276419\"]]},\"xaxis\":{\"gridcolor\":\"white\",\"linecolor\":\"white\",\"ticks\":\"\",\"title\":{\"standoff\":15},\"zerolinecolor\":\"white\",\"automargin\":true,\"zerolinewidth\":2},\"yaxis\":{\"gridcolor\":\"white\",\"linecolor\":\"white\",\"ticks\":\"\",\"title\":{\"standoff\":15},\"zerolinecolor\":\"white\",\"automargin\":true,\"zerolinewidth\":2},\"scene\":{\"xaxis\":{\"backgroundcolor\":\"#E5ECF6\",\"gridcolor\":\"white\",\"linecolor\":\"white\",\"showbackground\":true,\"ticks\":\"\",\"zerolinecolor\":\"white\",\"gridwidth\":2},\"yaxis\":{\"backgroundcolor\":\"#E5ECF6\",\"gridcolor\":\"white\",\"linecolor\":\"white\",\"showbackground\":true,\"ticks\":\"\",\"zerolinecolor\":\"white\",\"gridwidth\":2},\"zaxis\":{\"backgroundcolor\":\"#E5ECF6\",\"gridcolor\":\"white\",\"linecolor\":\"white\",\"showbackground\":true,\"ticks\":\"\",\"zerolinecolor\":\"white\",\"gridwidth\":2}},\"shapedefaults\":{\"line\":{\"color\":\"#2a3f5f\"}},\"annotationdefaults\":{\"arrowcolor\":\"#2a3f5f\",\"arrowhead\":0,\"arrowwidth\":1},\"geo\":{\"bgcolor\":\"white\",\"landcolor\":\"#E5ECF6\",\"subunitcolor\":\"white\",\"showland\":true,\"showlakes\":true,\"lakecolor\":\"white\"},\"title\":{\"x\":0.05},\"mapbox\":{\"style\":\"light\"}}},\"xaxis\":{\"anchor\":\"y\",\"domain\":[0.0,1.0],\"title\":{\"text\":\"Tarih\"}},\"yaxis\":{\"anchor\":\"x\",\"domain\":[0.0,1.0],\"title\":{\"text\":\"BIST30 Endeksi (TRY)\"}},\"legend\":{\"tracegroupgap\":0},\"title\":{\"text\":\"BIST30 Endeksi 2021 - Normalize (1 Ocak 2021)\"},\"height\":500,\"width\":1000},                        {\"responsive\": true}                    ).then(function(){\n",
       "                            \n",
       "var gd = document.getElementById('4bc225c1-69dc-415e-ad0e-65f1e11b425c');\n",
       "var x = new MutationObserver(function (mutations, observer) {{\n",
       "        var display = window.getComputedStyle(gd).display;\n",
       "        if (!display || display === 'none') {{\n",
       "            console.log([gd, 'removed!']);\n",
       "            Plotly.purge(gd);\n",
       "            observer.disconnect();\n",
       "        }}\n",
       "}});\n",
       "\n",
       "// Listen for the removal of the full notebook cells\n",
       "var notebookContainer = gd.closest('#notebook-container');\n",
       "if (notebookContainer) {{\n",
       "    x.observe(notebookContainer, {childList: true});\n",
       "}}\n",
       "\n",
       "// Listen for the clearing of the current output cell\n",
       "var outputEl = gd.closest('.output');\n",
       "if (outputEl) {{\n",
       "    x.observe(outputEl, {childList: true});\n",
       "}}\n",
       "\n",
       "                        })                };                });            </script>        </div>"
      ]
     },
     "metadata": {},
     "output_type": "display_data"
    }
   ],
   "source": [
    "import plotly.express as px\n",
    "from plotly.graph_objs import XAxis\n",
    "px.line(B30, y='Normalize', width = 1000, height=500, title = 'BIST30 Endeksi 2021 - Normalize (1 Ocak 2021)', hover_data={'Normalize': ':.2f','Kapanış (TRY)':':.0f'}, labels = {'Date':'Tarih', 'Normalize':'BIST30 Endeksi (TRY)'})\n",
    "#Gittikçe yükselen bir grafik vardır "
   ]
  },
  {
   "cell_type": "markdown",
   "id": "15c1f5f3",
   "metadata": {
    "id": "15c1f5f3"
   },
   "source": [
    "6. Değişim alanlarını ekleme ve grafikte koşullu renklendirme:<br>\n",
    "\t• Normalize etiğiniz alan için her satırda bir önceki satırdaki Normalize değeri ile olan farkını hesaplattırınız (bu sütunu \"degisim\" olarak isimlendirebilirsiniz).\n",
    "\t• Tabloyu px.bar grafiği olarak görselleştiriniz.<br>\n",
    "\t• px.bar grafiğinde endeksin yükseldiği günleri \"yeşil\", düştüğü günleri \"kırmızı\" olarak görselleştiriniz."
   ]
  },
  {
   "cell_type": "code",
   "execution_count": 21,
   "id": "f580be7c",
   "metadata": {
    "id": "f580be7c"
   },
   "outputs": [
    {
     "name": "stderr",
     "output_type": "stream",
     "text": [
      "<ipython-input-21-186ab97251e8>:1: SettingWithCopyWarning:\n",
      "\n",
      "\n",
      "A value is trying to be set on a copy of a slice from a DataFrame.\n",
      "Try using .loc[row_indexer,col_indexer] = value instead\n",
      "\n",
      "See the caveats in the documentation: https://pandas.pydata.org/pandas-docs/stable/user_guide/indexing.html#returning-a-view-versus-a-copy\n",
      "\n",
      "<ipython-input-21-186ab97251e8>:2: SettingWithCopyWarning:\n",
      "\n",
      "\n",
      "A value is trying to be set on a copy of a slice from a DataFrame.\n",
      "Try using .loc[row_indexer,col_indexer] = value instead\n",
      "\n",
      "See the caveats in the documentation: https://pandas.pydata.org/pandas-docs/stable/user_guide/indexing.html#returning-a-view-versus-a-copy\n",
      "\n"
     ]
    },
    {
     "data": {
      "application/vnd.plotly.v1+json": {
       "config": {
        "plotlyServerURL": "https://plot.ly"
       },
       "data": [
        {
         "alignmentgroup": "True",
         "hovertemplate": "d_yon=yukselen gun<br>Date=%{x}<br>Degisim=%{y}<extra></extra>",
         "legendgroup": "yukselen gun",
         "marker": {
          "color": "green",
          "pattern": {
           "shape": ""
          }
         },
         "name": "yukselen gun",
         "offsetgroup": "yukselen gun",
         "orientation": "v",
         "showlegend": true,
         "textposition": "auto",
         "type": "bar",
         "x": [
          "2021-01-04T00:00:00",
          "2021-01-06T00:00:00",
          "2021-01-07T00:00:00",
          "2021-01-08T00:00:00",
          "2021-01-12T00:00:00",
          "2021-01-13T00:00:00",
          "2021-01-18T00:00:00",
          "2021-01-19T00:00:00",
          "2021-01-20T00:00:00",
          "2021-01-28T00:00:00",
          "2021-02-01T00:00:00",
          "2021-02-02T00:00:00",
          "2021-02-03T00:00:00",
          "2021-02-08T00:00:00",
          "2021-02-09T00:00:00",
          "2021-02-10T00:00:00",
          "2021-02-19T00:00:00",
          "2021-02-25T00:00:00",
          "2021-03-01T00:00:00",
          "2021-03-02T00:00:00",
          "2021-03-04T00:00:00",
          "2021-03-05T00:00:00",
          "2021-03-09T00:00:00",
          "2021-03-10T00:00:00",
          "2021-03-12T00:00:00",
          "2021-03-16T00:00:00",
          "2021-03-24T00:00:00",
          "2021-03-29T00:00:00",
          "2021-03-30T00:00:00",
          "2021-04-01T00:00:00",
          "2021-04-05T00:00:00",
          "2021-04-07T00:00:00",
          "2021-04-13T00:00:00",
          "2021-04-14T00:00:00",
          "2021-04-15T00:00:00",
          "2021-04-22T00:00:00",
          "2021-04-26T00:00:00",
          "2021-04-27T00:00:00",
          "2021-04-29T00:00:00",
          "2021-05-03T00:00:00",
          "2021-05-06T00:00:00",
          "2021-05-07T00:00:00",
          "2021-05-10T00:00:00",
          "2021-05-17T00:00:00",
          "2021-05-18T00:00:00",
          "2021-05-24T00:00:00",
          "2021-05-28T00:00:00",
          "2021-06-01T00:00:00",
          "2021-06-04T00:00:00",
          "2021-06-07T00:00:00",
          "2021-06-08T00:00:00",
          "2021-06-09T00:00:00",
          "2021-06-10T00:00:00",
          "2021-06-11T00:00:00",
          "2021-06-21T00:00:00",
          "2021-06-22T00:00:00",
          "2021-06-24T00:00:00",
          "2021-07-01T00:00:00",
          "2021-07-02T00:00:00",
          "2021-07-06T00:00:00",
          "2021-07-07T00:00:00",
          "2021-07-09T00:00:00",
          "2021-07-14T00:00:00",
          "2021-07-27T00:00:00",
          "2021-07-29T00:00:00",
          "2021-07-30T00:00:00",
          "2021-08-02T00:00:00",
          "2021-08-03T00:00:00",
          "2021-08-04T00:00:00",
          "2021-08-05T00:00:00",
          "2021-08-06T00:00:00",
          "2021-08-10T00:00:00",
          "2021-08-12T00:00:00",
          "2021-08-13T00:00:00",
          "2021-08-16T00:00:00",
          "2021-08-17T00:00:00",
          "2021-08-20T00:00:00",
          "2021-08-23T00:00:00",
          "2021-08-24T00:00:00",
          "2021-08-27T00:00:00",
          "2021-08-31T00:00:00",
          "2021-09-02T00:00:00",
          "2021-09-06T00:00:00",
          "2021-09-09T00:00:00",
          "2021-09-13T00:00:00",
          "2021-09-17T00:00:00",
          "2021-09-22T00:00:00",
          "2021-09-27T00:00:00",
          "2021-09-29T00:00:00",
          "2021-09-30T00:00:00",
          "2021-10-07T00:00:00",
          "2021-10-11T00:00:00",
          "2021-10-12T00:00:00",
          "2021-10-18T00:00:00",
          "2021-10-19T00:00:00",
          "2021-10-20T00:00:00",
          "2021-10-21T00:00:00",
          "2021-10-22T00:00:00",
          "2021-10-25T00:00:00",
          "2021-10-26T00:00:00",
          "2021-10-27T00:00:00",
          "2021-10-28T00:00:00",
          "2021-11-01T00:00:00",
          "2021-11-03T00:00:00",
          "2021-11-04T00:00:00",
          "2021-11-05T00:00:00",
          "2021-11-08T00:00:00",
          "2021-11-09T00:00:00",
          "2021-11-10T00:00:00",
          "2021-11-12T00:00:00",
          "2021-11-15T00:00:00",
          "2021-11-17T00:00:00",
          "2021-11-18T00:00:00",
          "2021-11-22T00:00:00",
          "2021-11-23T00:00:00",
          "2021-11-24T00:00:00",
          "2021-11-25T00:00:00",
          "2021-11-29T00:00:00",
          "2021-12-01T00:00:00",
          "2021-12-02T00:00:00",
          "2021-12-03T00:00:00",
          "2021-12-06T00:00:00",
          "2021-12-07T00:00:00",
          "2021-12-08T00:00:00",
          "2021-12-09T00:00:00",
          "2021-12-10T00:00:00",
          "2021-12-13T00:00:00",
          "2021-12-14T00:00:00",
          "2021-12-15T00:00:00",
          "2021-12-16T00:00:00",
          "2021-12-23T00:00:00",
          "2021-12-24T00:00:00",
          "2021-12-27T00:00:00",
          "2021-12-29T00:00:00"
         ],
         "xaxis": "x",
         "y": [
          null,
          0.010466408435044539,
          0.012402444005811475,
          0.009801000062257481,
          0.004719008235776423,
          0.006533926189299377,
          0.01748436198008685,
          0.004476994557904845,
          0.0006654822249927417,
          0.016153471382307272,
          0.007320452179330528,
          0.011071479555826325,
          0.015790413939396952,
          0.005081991826481058,
          0.010768907069332534,
          0.001996520527183576,
          0.009921969975090428,
          0.00967995629721885,
          0.03206485523453728,
          0.0035090136986239973,
          0.00707843850145895,
          0.003690468567873584,
          0.01209994537152348,
          0.0081069781693619,
          0.000544512312159684,
          0.006594484997921479,
          0.016334926251556747,
          0.006231501407216844,
          0,
          0.02038845226234043,
          0.005021433017858845,
          0.0006654822249926307,
          0.004658449427154321,
          0.020569907131589904,
          0.005747474051473689,
          0.009437942619347162,
          0.019178457725188114,
          0.008953915263604006,
          0.009619471340802321,
          0.01603242761726853,
          0.008651490481521584,
          0.010103424844339792,
          0.01518541667082085,
          0.008953915263604006,
          0.003569498655040526,
          0.0027829726650092645,
          0.010708495965121578,
          0.0112529344250758,
          0.0035090136986241083,
          0.010889950834371165,
          0.0009679808592807371,
          0.0014520082150238922,
          0.005747474051473689,
          0.0013915232586074744,
          0.008106904317156216,
          0.006715528762959999,
          0.006170942598594742,
          0.009921969975090317,
          0.0029039425778423222,
          0.002480474030721158,
          0.006352471320049791,
          0.00568698909505716,
          0.01276542759651611,
          0.008409402951444322,
          0.024260375699463488,
          0.000544512312159684,
          0.0018149918057285275,
          0.006654969954337897,
          0.0004234685471210531,
          0.01433840572437306,
          0.003085545151503055,
          0.005021433017858845,
          0.026014882548775486,
          0.0013309644499853723,
          0.005202961739314005,
          0.004779493192192841,
          0.003932482245745161,
          0.01137397819011432,
          0.005081991826481058,
          0.00483997814860937,
          0.008651490481521584,
          0.0028434576214257934,
          0.0034484548900020062,
          0.010829465877954636,
          0.0008470109464477904,
          0.0028434576214256824,
          0.016274367442934645,
          0.006291986363633373,
          0.006110457642178324,
          0.009861411166468215,
          0.019601852420103594,
          0.014035980942290638,
          0.0010889507721137948,
          0.004597964470737792,
          0.0073809371357470566,
          0.003569498655040526,
          0.015608959070147588,
          0.016395411207973165,
          0.00798593440432327,
          0.010889950834371165,
          0.005868517816512209,
          0.00024193982566600436,
          0.010889950834371054,
          0.011131964512242853,
          0.021658931755909272,
          0.0068364248235872616,
          0.018331446778740546,
          0.0069574685886260035,
          0.006049972685761684,
          0.007925523300112314,
          0.04809728285180581,
          0.015064446757987904,
          0.023534408518054217,
          0.008167463125778207,
          0.020630392088006433,
          0.015850898895813703,
          0.000544512312159684,
          0.022566353806567907,
          0.03285130737236286,
          0.013793967264419171,
          0.017544846936503378,
          0.015427430348692317,
          0.04198689906183328,
          0.0167583947986778,
          0.02196143039019738,
          0.0029040164300480065,
          0.04954921721462413,
          0.04501173770030298,
          0.010406071183039156,
          0.08584905332919468,
          0.0019359617185614741,
          0.061830765159808454,
          0.0015729042756513767,
          0.03230686891240886
         ],
         "yaxis": "y"
        },
        {
         "alignmentgroup": "True",
         "hovertemplate": "d_yon=dusen gun<br>Date=%{x}<br>Degisim=%{y}<extra></extra>",
         "legendgroup": "dusen gun",
         "marker": {
          "color": "red",
          "pattern": {
           "shape": ""
          }
         },
         "name": "dusen gun",
         "offsetgroup": "dusen gun",
         "orientation": "v",
         "showlegend": true,
         "textposition": "auto",
         "type": "bar",
         "x": [
          "2021-01-05T00:00:00",
          "2021-01-11T00:00:00",
          "2021-01-14T00:00:00",
          "2021-01-15T00:00:00",
          "2021-01-21T00:00:00",
          "2021-01-25T00:00:00",
          "2021-01-26T00:00:00",
          "2021-01-27T00:00:00",
          "2021-01-29T00:00:00",
          "2021-02-04T00:00:00",
          "2021-02-05T00:00:00",
          "2021-02-11T00:00:00",
          "2021-02-12T00:00:00",
          "2021-02-16T00:00:00",
          "2021-02-18T00:00:00",
          "2021-02-22T00:00:00",
          "2021-02-23T00:00:00",
          "2021-02-24T00:00:00",
          "2021-02-26T00:00:00",
          "2021-03-03T00:00:00",
          "2021-03-08T00:00:00",
          "2021-03-11T00:00:00",
          "2021-03-15T00:00:00",
          "2021-03-17T00:00:00",
          "2021-03-18T00:00:00",
          "2021-03-19T00:00:00",
          "2021-03-22T00:00:00",
          "2021-03-23T00:00:00",
          "2021-03-25T00:00:00",
          "2021-03-26T00:00:00",
          "2021-03-31T00:00:00",
          "2021-04-06T00:00:00",
          "2021-04-08T00:00:00",
          "2021-04-09T00:00:00",
          "2021-04-12T00:00:00",
          "2021-04-16T00:00:00",
          "2021-04-19T00:00:00",
          "2021-04-20T00:00:00",
          "2021-04-21T00:00:00",
          "2021-04-28T00:00:00",
          "2021-04-30T00:00:00",
          "2021-05-04T00:00:00",
          "2021-05-12T00:00:00",
          "2021-05-21T00:00:00",
          "2021-05-26T00:00:00",
          "2021-05-27T00:00:00",
          "2021-06-02T00:00:00",
          "2021-06-03T00:00:00",
          "2021-06-14T00:00:00",
          "2021-06-15T00:00:00",
          "2021-06-16T00:00:00",
          "2021-06-17T00:00:00",
          "2021-06-18T00:00:00",
          "2021-06-23T00:00:00",
          "2021-06-25T00:00:00",
          "2021-06-28T00:00:00",
          "2021-06-29T00:00:00",
          "2021-06-30T00:00:00",
          "2021-07-08T00:00:00",
          "2021-07-12T00:00:00",
          "2021-07-13T00:00:00",
          "2021-07-16T00:00:00",
          "2021-07-19T00:00:00",
          "2021-07-26T00:00:00",
          "2021-07-28T00:00:00",
          "2021-08-09T00:00:00",
          "2021-08-11T00:00:00",
          "2021-08-18T00:00:00",
          "2021-08-19T00:00:00",
          "2021-08-25T00:00:00",
          "2021-08-26T00:00:00",
          "2021-09-01T00:00:00",
          "2021-09-03T00:00:00",
          "2021-09-07T00:00:00",
          "2021-09-08T00:00:00",
          "2021-09-10T00:00:00",
          "2021-09-14T00:00:00",
          "2021-09-15T00:00:00",
          "2021-09-16T00:00:00",
          "2021-09-20T00:00:00",
          "2021-09-21T00:00:00",
          "2021-09-23T00:00:00",
          "2021-09-24T00:00:00",
          "2021-09-28T00:00:00",
          "2021-10-01T00:00:00",
          "2021-10-04T00:00:00",
          "2021-10-05T00:00:00",
          "2021-10-06T00:00:00",
          "2021-10-08T00:00:00",
          "2021-10-13T00:00:00",
          "2021-10-14T00:00:00",
          "2021-10-15T00:00:00",
          "2021-11-02T00:00:00",
          "2021-11-11T00:00:00",
          "2021-11-16T00:00:00",
          "2021-11-19T00:00:00",
          "2021-11-26T00:00:00",
          "2021-11-30T00:00:00",
          "2021-12-17T00:00:00",
          "2021-12-20T00:00:00",
          "2021-12-21T00:00:00",
          "2021-12-22T00:00:00",
          "2021-12-28T00:00:00",
          "2021-12-30T00:00:00"
         ],
         "xaxis": "x",
         "y": [
          -0.007562465857202216,
          -0.009316972706514326,
          -0.010042939887923374,
          -0.016455896164389694,
          -0.015487915305109068,
          -0.017242422154420844,
          -0.00012096991283294667,
          -0.03732837578247339,
          -0.01784741942299717,
          -0.0007260410336147327,
          -0.006533926189299377,
          -0.0036904685678734728,
          -0.007199482266497692,
          -0.0036904685678734728,
          -0.009921969975090428,
          -0.010466482287250112,
          -0.00949842757576369,
          -0.018875959090900007,
          -0.010950435790787694,
          -0.0009074959028642082,
          -0.009195928941475584,
          -0.00653400004150495,
          -0.005081991826481058,
          -0.00816746312577843,
          -0.001633536936479052,
          -0.020993375678710957,
          -0.09571053834786858,
          -0.007320526031536212,
          -0.010587452200083058,
          -0.005202961739314005,
          -0.0007260410336147327,
          -0.01191841665006832,
          -0.001512493171440421,
          -0.011555433059363796,
          -0.010889950834371165,
          -0.003508939846418424,
          -0.015669444026564117,
          -0.006836498675793057,
          -0.015487915305108846,
          -0.005747474051473689,
          -0.005263446695730423,
          -0.0029645013864643133,
          -0.01433840572437306,
          -0.006170942598594742,
          -0.010284953565794952,
          -0.011978975458690422,
          -0.0013915232586074744,
          -0.0006049972685762128,
          -0.0004235423993267373,
          -0.005263446695730423,
          -0.006171016450800426,
          -0.01022439475717285,
          -0.014822433080116215,
          -0.007804479535073794,
          -0.012341959049395057,
          -0.009377457662930744,
          -0.0022384603528495806,
          -0.012160430327939897,
          -0.011797446737235373,
          -0.013007441274387799,
          -0.005444975417185471,
          -0.005444975417185582,
          -0.010708422112916005,
          -0.0037509535242900016,
          -0.00024193982566600436,
          -0.003629983611457055,
          -0.018028874292246644,
          -0.00961947134080221,
          -0.0069574685886261145,
          -0.0081069781693619,
          -0.0032670000207524197,
          -0.0007865259900313726,
          -0.008409402951444322,
          -0.015064446757987904,
          -0.013370424865092323,
          -0.011010994599409796,
          -0.0028434576214257934,
          -0.009014474072226109,
          -0.0018754767621449453,
          -0.017363392067253902,
          -0.003690468567873584,
          -0.008106904317156216,
          -0.011978975458690533,
          -0.006110457642178324,
          -0.0038719234371230593,
          -0.005566019182224102,
          -0.00048395350353758193,
          -0.013007441274387799,
          -6.0484956416528846e-05,
          -0.002601443943554216,
          -0.0007865259900312616,
          -0.0019359617185614741,
          -0.0012099945371523146,
          -0.001089024624319368,
          -0.009861485018673788,
          -0.005989487729345155,
          -0.034908312855963075,
          -0.00538441660856348,
          -0.13872590322539913,
          -0.011797446737235484,
          -0.11476795230801784,
          -0.06540018996264352,
          -0.03418227182234834,
          -0.027890433163126005
         ],
         "yaxis": "y"
        }
       ],
       "layout": {
        "barmode": "relative",
        "legend": {
         "title": {
          "text": "d_yon"
         },
         "tracegroupgap": 0
        },
        "margin": {
         "t": 60
        },
        "template": {
         "data": {
          "bar": [
           {
            "error_x": {
             "color": "#2a3f5f"
            },
            "error_y": {
             "color": "#2a3f5f"
            },
            "marker": {
             "line": {
              "color": "#E5ECF6",
              "width": 0.5
             },
             "pattern": {
              "fillmode": "overlay",
              "size": 10,
              "solidity": 0.2
             }
            },
            "type": "bar"
           }
          ],
          "barpolar": [
           {
            "marker": {
             "line": {
              "color": "#E5ECF6",
              "width": 0.5
             },
             "pattern": {
              "fillmode": "overlay",
              "size": 10,
              "solidity": 0.2
             }
            },
            "type": "barpolar"
           }
          ],
          "carpet": [
           {
            "aaxis": {
             "endlinecolor": "#2a3f5f",
             "gridcolor": "white",
             "linecolor": "white",
             "minorgridcolor": "white",
             "startlinecolor": "#2a3f5f"
            },
            "baxis": {
             "endlinecolor": "#2a3f5f",
             "gridcolor": "white",
             "linecolor": "white",
             "minorgridcolor": "white",
             "startlinecolor": "#2a3f5f"
            },
            "type": "carpet"
           }
          ],
          "choropleth": [
           {
            "colorbar": {
             "outlinewidth": 0,
             "ticks": ""
            },
            "type": "choropleth"
           }
          ],
          "contour": [
           {
            "colorbar": {
             "outlinewidth": 0,
             "ticks": ""
            },
            "colorscale": [
             [
              0,
              "#0d0887"
             ],
             [
              0.1111111111111111,
              "#46039f"
             ],
             [
              0.2222222222222222,
              "#7201a8"
             ],
             [
              0.3333333333333333,
              "#9c179e"
             ],
             [
              0.4444444444444444,
              "#bd3786"
             ],
             [
              0.5555555555555556,
              "#d8576b"
             ],
             [
              0.6666666666666666,
              "#ed7953"
             ],
             [
              0.7777777777777778,
              "#fb9f3a"
             ],
             [
              0.8888888888888888,
              "#fdca26"
             ],
             [
              1,
              "#f0f921"
             ]
            ],
            "type": "contour"
           }
          ],
          "contourcarpet": [
           {
            "colorbar": {
             "outlinewidth": 0,
             "ticks": ""
            },
            "type": "contourcarpet"
           }
          ],
          "heatmap": [
           {
            "colorbar": {
             "outlinewidth": 0,
             "ticks": ""
            },
            "colorscale": [
             [
              0,
              "#0d0887"
             ],
             [
              0.1111111111111111,
              "#46039f"
             ],
             [
              0.2222222222222222,
              "#7201a8"
             ],
             [
              0.3333333333333333,
              "#9c179e"
             ],
             [
              0.4444444444444444,
              "#bd3786"
             ],
             [
              0.5555555555555556,
              "#d8576b"
             ],
             [
              0.6666666666666666,
              "#ed7953"
             ],
             [
              0.7777777777777778,
              "#fb9f3a"
             ],
             [
              0.8888888888888888,
              "#fdca26"
             ],
             [
              1,
              "#f0f921"
             ]
            ],
            "type": "heatmap"
           }
          ],
          "heatmapgl": [
           {
            "colorbar": {
             "outlinewidth": 0,
             "ticks": ""
            },
            "colorscale": [
             [
              0,
              "#0d0887"
             ],
             [
              0.1111111111111111,
              "#46039f"
             ],
             [
              0.2222222222222222,
              "#7201a8"
             ],
             [
              0.3333333333333333,
              "#9c179e"
             ],
             [
              0.4444444444444444,
              "#bd3786"
             ],
             [
              0.5555555555555556,
              "#d8576b"
             ],
             [
              0.6666666666666666,
              "#ed7953"
             ],
             [
              0.7777777777777778,
              "#fb9f3a"
             ],
             [
              0.8888888888888888,
              "#fdca26"
             ],
             [
              1,
              "#f0f921"
             ]
            ],
            "type": "heatmapgl"
           }
          ],
          "histogram": [
           {
            "marker": {
             "pattern": {
              "fillmode": "overlay",
              "size": 10,
              "solidity": 0.2
             }
            },
            "type": "histogram"
           }
          ],
          "histogram2d": [
           {
            "colorbar": {
             "outlinewidth": 0,
             "ticks": ""
            },
            "colorscale": [
             [
              0,
              "#0d0887"
             ],
             [
              0.1111111111111111,
              "#46039f"
             ],
             [
              0.2222222222222222,
              "#7201a8"
             ],
             [
              0.3333333333333333,
              "#9c179e"
             ],
             [
              0.4444444444444444,
              "#bd3786"
             ],
             [
              0.5555555555555556,
              "#d8576b"
             ],
             [
              0.6666666666666666,
              "#ed7953"
             ],
             [
              0.7777777777777778,
              "#fb9f3a"
             ],
             [
              0.8888888888888888,
              "#fdca26"
             ],
             [
              1,
              "#f0f921"
             ]
            ],
            "type": "histogram2d"
           }
          ],
          "histogram2dcontour": [
           {
            "colorbar": {
             "outlinewidth": 0,
             "ticks": ""
            },
            "colorscale": [
             [
              0,
              "#0d0887"
             ],
             [
              0.1111111111111111,
              "#46039f"
             ],
             [
              0.2222222222222222,
              "#7201a8"
             ],
             [
              0.3333333333333333,
              "#9c179e"
             ],
             [
              0.4444444444444444,
              "#bd3786"
             ],
             [
              0.5555555555555556,
              "#d8576b"
             ],
             [
              0.6666666666666666,
              "#ed7953"
             ],
             [
              0.7777777777777778,
              "#fb9f3a"
             ],
             [
              0.8888888888888888,
              "#fdca26"
             ],
             [
              1,
              "#f0f921"
             ]
            ],
            "type": "histogram2dcontour"
           }
          ],
          "mesh3d": [
           {
            "colorbar": {
             "outlinewidth": 0,
             "ticks": ""
            },
            "type": "mesh3d"
           }
          ],
          "parcoords": [
           {
            "line": {
             "colorbar": {
              "outlinewidth": 0,
              "ticks": ""
             }
            },
            "type": "parcoords"
           }
          ],
          "pie": [
           {
            "automargin": true,
            "type": "pie"
           }
          ],
          "scatter": [
           {
            "fillpattern": {
             "fillmode": "overlay",
             "size": 10,
             "solidity": 0.2
            },
            "type": "scatter"
           }
          ],
          "scatter3d": [
           {
            "line": {
             "colorbar": {
              "outlinewidth": 0,
              "ticks": ""
             }
            },
            "marker": {
             "colorbar": {
              "outlinewidth": 0,
              "ticks": ""
             }
            },
            "type": "scatter3d"
           }
          ],
          "scattercarpet": [
           {
            "marker": {
             "colorbar": {
              "outlinewidth": 0,
              "ticks": ""
             }
            },
            "type": "scattercarpet"
           }
          ],
          "scattergeo": [
           {
            "marker": {
             "colorbar": {
              "outlinewidth": 0,
              "ticks": ""
             }
            },
            "type": "scattergeo"
           }
          ],
          "scattergl": [
           {
            "marker": {
             "colorbar": {
              "outlinewidth": 0,
              "ticks": ""
             }
            },
            "type": "scattergl"
           }
          ],
          "scattermapbox": [
           {
            "marker": {
             "colorbar": {
              "outlinewidth": 0,
              "ticks": ""
             }
            },
            "type": "scattermapbox"
           }
          ],
          "scatterpolar": [
           {
            "marker": {
             "colorbar": {
              "outlinewidth": 0,
              "ticks": ""
             }
            },
            "type": "scatterpolar"
           }
          ],
          "scatterpolargl": [
           {
            "marker": {
             "colorbar": {
              "outlinewidth": 0,
              "ticks": ""
             }
            },
            "type": "scatterpolargl"
           }
          ],
          "scatterternary": [
           {
            "marker": {
             "colorbar": {
              "outlinewidth": 0,
              "ticks": ""
             }
            },
            "type": "scatterternary"
           }
          ],
          "surface": [
           {
            "colorbar": {
             "outlinewidth": 0,
             "ticks": ""
            },
            "colorscale": [
             [
              0,
              "#0d0887"
             ],
             [
              0.1111111111111111,
              "#46039f"
             ],
             [
              0.2222222222222222,
              "#7201a8"
             ],
             [
              0.3333333333333333,
              "#9c179e"
             ],
             [
              0.4444444444444444,
              "#bd3786"
             ],
             [
              0.5555555555555556,
              "#d8576b"
             ],
             [
              0.6666666666666666,
              "#ed7953"
             ],
             [
              0.7777777777777778,
              "#fb9f3a"
             ],
             [
              0.8888888888888888,
              "#fdca26"
             ],
             [
              1,
              "#f0f921"
             ]
            ],
            "type": "surface"
           }
          ],
          "table": [
           {
            "cells": {
             "fill": {
              "color": "#EBF0F8"
             },
             "line": {
              "color": "white"
             }
            },
            "header": {
             "fill": {
              "color": "#C8D4E3"
             },
             "line": {
              "color": "white"
             }
            },
            "type": "table"
           }
          ]
         },
         "layout": {
          "annotationdefaults": {
           "arrowcolor": "#2a3f5f",
           "arrowhead": 0,
           "arrowwidth": 1
          },
          "autotypenumbers": "strict",
          "coloraxis": {
           "colorbar": {
            "outlinewidth": 0,
            "ticks": ""
           }
          },
          "colorscale": {
           "diverging": [
            [
             0,
             "#8e0152"
            ],
            [
             0.1,
             "#c51b7d"
            ],
            [
             0.2,
             "#de77ae"
            ],
            [
             0.3,
             "#f1b6da"
            ],
            [
             0.4,
             "#fde0ef"
            ],
            [
             0.5,
             "#f7f7f7"
            ],
            [
             0.6,
             "#e6f5d0"
            ],
            [
             0.7,
             "#b8e186"
            ],
            [
             0.8,
             "#7fbc41"
            ],
            [
             0.9,
             "#4d9221"
            ],
            [
             1,
             "#276419"
            ]
           ],
           "sequential": [
            [
             0,
             "#0d0887"
            ],
            [
             0.1111111111111111,
             "#46039f"
            ],
            [
             0.2222222222222222,
             "#7201a8"
            ],
            [
             0.3333333333333333,
             "#9c179e"
            ],
            [
             0.4444444444444444,
             "#bd3786"
            ],
            [
             0.5555555555555556,
             "#d8576b"
            ],
            [
             0.6666666666666666,
             "#ed7953"
            ],
            [
             0.7777777777777778,
             "#fb9f3a"
            ],
            [
             0.8888888888888888,
             "#fdca26"
            ],
            [
             1,
             "#f0f921"
            ]
           ],
           "sequentialminus": [
            [
             0,
             "#0d0887"
            ],
            [
             0.1111111111111111,
             "#46039f"
            ],
            [
             0.2222222222222222,
             "#7201a8"
            ],
            [
             0.3333333333333333,
             "#9c179e"
            ],
            [
             0.4444444444444444,
             "#bd3786"
            ],
            [
             0.5555555555555556,
             "#d8576b"
            ],
            [
             0.6666666666666666,
             "#ed7953"
            ],
            [
             0.7777777777777778,
             "#fb9f3a"
            ],
            [
             0.8888888888888888,
             "#fdca26"
            ],
            [
             1,
             "#f0f921"
            ]
           ]
          },
          "colorway": [
           "#636efa",
           "#EF553B",
           "#00cc96",
           "#ab63fa",
           "#FFA15A",
           "#19d3f3",
           "#FF6692",
           "#B6E880",
           "#FF97FF",
           "#FECB52"
          ],
          "font": {
           "color": "#2a3f5f"
          },
          "geo": {
           "bgcolor": "white",
           "lakecolor": "white",
           "landcolor": "#E5ECF6",
           "showlakes": true,
           "showland": true,
           "subunitcolor": "white"
          },
          "hoverlabel": {
           "align": "left"
          },
          "hovermode": "closest",
          "mapbox": {
           "style": "light"
          },
          "paper_bgcolor": "white",
          "plot_bgcolor": "#E5ECF6",
          "polar": {
           "angularaxis": {
            "gridcolor": "white",
            "linecolor": "white",
            "ticks": ""
           },
           "bgcolor": "#E5ECF6",
           "radialaxis": {
            "gridcolor": "white",
            "linecolor": "white",
            "ticks": ""
           }
          },
          "scene": {
           "xaxis": {
            "backgroundcolor": "#E5ECF6",
            "gridcolor": "white",
            "gridwidth": 2,
            "linecolor": "white",
            "showbackground": true,
            "ticks": "",
            "zerolinecolor": "white"
           },
           "yaxis": {
            "backgroundcolor": "#E5ECF6",
            "gridcolor": "white",
            "gridwidth": 2,
            "linecolor": "white",
            "showbackground": true,
            "ticks": "",
            "zerolinecolor": "white"
           },
           "zaxis": {
            "backgroundcolor": "#E5ECF6",
            "gridcolor": "white",
            "gridwidth": 2,
            "linecolor": "white",
            "showbackground": true,
            "ticks": "",
            "zerolinecolor": "white"
           }
          },
          "shapedefaults": {
           "line": {
            "color": "#2a3f5f"
           }
          },
          "ternary": {
           "aaxis": {
            "gridcolor": "white",
            "linecolor": "white",
            "ticks": ""
           },
           "baxis": {
            "gridcolor": "white",
            "linecolor": "white",
            "ticks": ""
           },
           "bgcolor": "#E5ECF6",
           "caxis": {
            "gridcolor": "white",
            "linecolor": "white",
            "ticks": ""
           }
          },
          "title": {
           "x": 0.05
          },
          "xaxis": {
           "automargin": true,
           "gridcolor": "white",
           "linecolor": "white",
           "ticks": "",
           "title": {
            "standoff": 15
           },
           "zerolinecolor": "white",
           "zerolinewidth": 2
          },
          "yaxis": {
           "automargin": true,
           "gridcolor": "white",
           "linecolor": "white",
           "ticks": "",
           "title": {
            "standoff": 15
           },
           "zerolinecolor": "white",
           "zerolinewidth": 2
          }
         }
        },
        "xaxis": {
         "anchor": "y",
         "domain": [
          0,
          1
         ],
         "title": {
          "text": "Date"
         }
        },
        "yaxis": {
         "anchor": "x",
         "domain": [
          0,
          1
         ],
         "title": {
          "text": "Degisim"
         }
        }
       }
      },
      "text/html": [
       "<div>                            <div id=\"75d2c3be-0ea7-4490-974a-0e9ca08e46dc\" class=\"plotly-graph-div\" style=\"height:525px; width:100%;\"></div>            <script type=\"text/javascript\">                require([\"plotly\"], function(Plotly) {                    window.PLOTLYENV=window.PLOTLYENV || {};                                    if (document.getElementById(\"75d2c3be-0ea7-4490-974a-0e9ca08e46dc\")) {                    Plotly.newPlot(                        \"75d2c3be-0ea7-4490-974a-0e9ca08e46dc\",                        [{\"alignmentgroup\":\"True\",\"hovertemplate\":\"d_yon=yukselen gun<br>Date=%{x}<br>Degisim=%{y}<extra></extra>\",\"legendgroup\":\"yukselen gun\",\"marker\":{\"color\":\"green\",\"pattern\":{\"shape\":\"\"}},\"name\":\"yukselen gun\",\"offsetgroup\":\"yukselen gun\",\"orientation\":\"v\",\"showlegend\":true,\"textposition\":\"auto\",\"x\":[\"2021-01-04T00:00:00\",\"2021-01-06T00:00:00\",\"2021-01-07T00:00:00\",\"2021-01-08T00:00:00\",\"2021-01-12T00:00:00\",\"2021-01-13T00:00:00\",\"2021-01-18T00:00:00\",\"2021-01-19T00:00:00\",\"2021-01-20T00:00:00\",\"2021-01-28T00:00:00\",\"2021-02-01T00:00:00\",\"2021-02-02T00:00:00\",\"2021-02-03T00:00:00\",\"2021-02-08T00:00:00\",\"2021-02-09T00:00:00\",\"2021-02-10T00:00:00\",\"2021-02-19T00:00:00\",\"2021-02-25T00:00:00\",\"2021-03-01T00:00:00\",\"2021-03-02T00:00:00\",\"2021-03-04T00:00:00\",\"2021-03-05T00:00:00\",\"2021-03-09T00:00:00\",\"2021-03-10T00:00:00\",\"2021-03-12T00:00:00\",\"2021-03-16T00:00:00\",\"2021-03-24T00:00:00\",\"2021-03-29T00:00:00\",\"2021-03-30T00:00:00\",\"2021-04-01T00:00:00\",\"2021-04-05T00:00:00\",\"2021-04-07T00:00:00\",\"2021-04-13T00:00:00\",\"2021-04-14T00:00:00\",\"2021-04-15T00:00:00\",\"2021-04-22T00:00:00\",\"2021-04-26T00:00:00\",\"2021-04-27T00:00:00\",\"2021-04-29T00:00:00\",\"2021-05-03T00:00:00\",\"2021-05-06T00:00:00\",\"2021-05-07T00:00:00\",\"2021-05-10T00:00:00\",\"2021-05-17T00:00:00\",\"2021-05-18T00:00:00\",\"2021-05-24T00:00:00\",\"2021-05-28T00:00:00\",\"2021-06-01T00:00:00\",\"2021-06-04T00:00:00\",\"2021-06-07T00:00:00\",\"2021-06-08T00:00:00\",\"2021-06-09T00:00:00\",\"2021-06-10T00:00:00\",\"2021-06-11T00:00:00\",\"2021-06-21T00:00:00\",\"2021-06-22T00:00:00\",\"2021-06-24T00:00:00\",\"2021-07-01T00:00:00\",\"2021-07-02T00:00:00\",\"2021-07-06T00:00:00\",\"2021-07-07T00:00:00\",\"2021-07-09T00:00:00\",\"2021-07-14T00:00:00\",\"2021-07-27T00:00:00\",\"2021-07-29T00:00:00\",\"2021-07-30T00:00:00\",\"2021-08-02T00:00:00\",\"2021-08-03T00:00:00\",\"2021-08-04T00:00:00\",\"2021-08-05T00:00:00\",\"2021-08-06T00:00:00\",\"2021-08-10T00:00:00\",\"2021-08-12T00:00:00\",\"2021-08-13T00:00:00\",\"2021-08-16T00:00:00\",\"2021-08-17T00:00:00\",\"2021-08-20T00:00:00\",\"2021-08-23T00:00:00\",\"2021-08-24T00:00:00\",\"2021-08-27T00:00:00\",\"2021-08-31T00:00:00\",\"2021-09-02T00:00:00\",\"2021-09-06T00:00:00\",\"2021-09-09T00:00:00\",\"2021-09-13T00:00:00\",\"2021-09-17T00:00:00\",\"2021-09-22T00:00:00\",\"2021-09-27T00:00:00\",\"2021-09-29T00:00:00\",\"2021-09-30T00:00:00\",\"2021-10-07T00:00:00\",\"2021-10-11T00:00:00\",\"2021-10-12T00:00:00\",\"2021-10-18T00:00:00\",\"2021-10-19T00:00:00\",\"2021-10-20T00:00:00\",\"2021-10-21T00:00:00\",\"2021-10-22T00:00:00\",\"2021-10-25T00:00:00\",\"2021-10-26T00:00:00\",\"2021-10-27T00:00:00\",\"2021-10-28T00:00:00\",\"2021-11-01T00:00:00\",\"2021-11-03T00:00:00\",\"2021-11-04T00:00:00\",\"2021-11-05T00:00:00\",\"2021-11-08T00:00:00\",\"2021-11-09T00:00:00\",\"2021-11-10T00:00:00\",\"2021-11-12T00:00:00\",\"2021-11-15T00:00:00\",\"2021-11-17T00:00:00\",\"2021-11-18T00:00:00\",\"2021-11-22T00:00:00\",\"2021-11-23T00:00:00\",\"2021-11-24T00:00:00\",\"2021-11-25T00:00:00\",\"2021-11-29T00:00:00\",\"2021-12-01T00:00:00\",\"2021-12-02T00:00:00\",\"2021-12-03T00:00:00\",\"2021-12-06T00:00:00\",\"2021-12-07T00:00:00\",\"2021-12-08T00:00:00\",\"2021-12-09T00:00:00\",\"2021-12-10T00:00:00\",\"2021-12-13T00:00:00\",\"2021-12-14T00:00:00\",\"2021-12-15T00:00:00\",\"2021-12-16T00:00:00\",\"2021-12-23T00:00:00\",\"2021-12-24T00:00:00\",\"2021-12-27T00:00:00\",\"2021-12-29T00:00:00\"],\"xaxis\":\"x\",\"y\":[null,0.010466408435044539,0.012402444005811475,0.009801000062257481,0.004719008235776423,0.006533926189299377,0.01748436198008685,0.004476994557904845,0.0006654822249927417,0.016153471382307272,0.007320452179330528,0.011071479555826325,0.015790413939396952,0.005081991826481058,0.010768907069332534,0.001996520527183576,0.009921969975090428,0.00967995629721885,0.03206485523453728,0.0035090136986239973,0.00707843850145895,0.003690468567873584,0.01209994537152348,0.0081069781693619,0.000544512312159684,0.006594484997921479,0.016334926251556747,0.006231501407216844,0.0,0.02038845226234043,0.005021433017858845,0.0006654822249926307,0.004658449427154321,0.020569907131589904,0.005747474051473689,0.009437942619347162,0.019178457725188114,0.008953915263604006,0.009619471340802321,0.01603242761726853,0.008651490481521584,0.010103424844339792,0.01518541667082085,0.008953915263604006,0.003569498655040526,0.0027829726650092645,0.010708495965121578,0.0112529344250758,0.0035090136986241083,0.010889950834371165,0.0009679808592807371,0.0014520082150238922,0.005747474051473689,0.0013915232586074744,0.008106904317156216,0.006715528762959999,0.006170942598594742,0.009921969975090317,0.0029039425778423222,0.002480474030721158,0.006352471320049791,0.00568698909505716,0.01276542759651611,0.008409402951444322,0.024260375699463488,0.000544512312159684,0.0018149918057285275,0.006654969954337897,0.0004234685471210531,0.01433840572437306,0.003085545151503055,0.005021433017858845,0.026014882548775486,0.0013309644499853723,0.005202961739314005,0.004779493192192841,0.003932482245745161,0.01137397819011432,0.005081991826481058,0.00483997814860937,0.008651490481521584,0.0028434576214257934,0.0034484548900020062,0.010829465877954636,0.0008470109464477904,0.0028434576214256824,0.016274367442934645,0.006291986363633373,0.006110457642178324,0.009861411166468215,0.019601852420103594,0.014035980942290638,0.0010889507721137948,0.004597964470737792,0.0073809371357470566,0.003569498655040526,0.015608959070147588,0.016395411207973165,0.00798593440432327,0.010889950834371165,0.005868517816512209,0.00024193982566600436,0.010889950834371054,0.011131964512242853,0.021658931755909272,0.0068364248235872616,0.018331446778740546,0.0069574685886260035,0.006049972685761684,0.007925523300112314,0.04809728285180581,0.015064446757987904,0.023534408518054217,0.008167463125778207,0.020630392088006433,0.015850898895813703,0.000544512312159684,0.022566353806567907,0.03285130737236286,0.013793967264419171,0.017544846936503378,0.015427430348692317,0.04198689906183328,0.0167583947986778,0.02196143039019738,0.0029040164300480065,0.04954921721462413,0.04501173770030298,0.010406071183039156,0.08584905332919468,0.0019359617185614741,0.061830765159808454,0.0015729042756513767,0.03230686891240886],\"yaxis\":\"y\",\"type\":\"bar\"},{\"alignmentgroup\":\"True\",\"hovertemplate\":\"d_yon=dusen gun<br>Date=%{x}<br>Degisim=%{y}<extra></extra>\",\"legendgroup\":\"dusen gun\",\"marker\":{\"color\":\"red\",\"pattern\":{\"shape\":\"\"}},\"name\":\"dusen gun\",\"offsetgroup\":\"dusen gun\",\"orientation\":\"v\",\"showlegend\":true,\"textposition\":\"auto\",\"x\":[\"2021-01-05T00:00:00\",\"2021-01-11T00:00:00\",\"2021-01-14T00:00:00\",\"2021-01-15T00:00:00\",\"2021-01-21T00:00:00\",\"2021-01-25T00:00:00\",\"2021-01-26T00:00:00\",\"2021-01-27T00:00:00\",\"2021-01-29T00:00:00\",\"2021-02-04T00:00:00\",\"2021-02-05T00:00:00\",\"2021-02-11T00:00:00\",\"2021-02-12T00:00:00\",\"2021-02-16T00:00:00\",\"2021-02-18T00:00:00\",\"2021-02-22T00:00:00\",\"2021-02-23T00:00:00\",\"2021-02-24T00:00:00\",\"2021-02-26T00:00:00\",\"2021-03-03T00:00:00\",\"2021-03-08T00:00:00\",\"2021-03-11T00:00:00\",\"2021-03-15T00:00:00\",\"2021-03-17T00:00:00\",\"2021-03-18T00:00:00\",\"2021-03-19T00:00:00\",\"2021-03-22T00:00:00\",\"2021-03-23T00:00:00\",\"2021-03-25T00:00:00\",\"2021-03-26T00:00:00\",\"2021-03-31T00:00:00\",\"2021-04-06T00:00:00\",\"2021-04-08T00:00:00\",\"2021-04-09T00:00:00\",\"2021-04-12T00:00:00\",\"2021-04-16T00:00:00\",\"2021-04-19T00:00:00\",\"2021-04-20T00:00:00\",\"2021-04-21T00:00:00\",\"2021-04-28T00:00:00\",\"2021-04-30T00:00:00\",\"2021-05-04T00:00:00\",\"2021-05-12T00:00:00\",\"2021-05-21T00:00:00\",\"2021-05-26T00:00:00\",\"2021-05-27T00:00:00\",\"2021-06-02T00:00:00\",\"2021-06-03T00:00:00\",\"2021-06-14T00:00:00\",\"2021-06-15T00:00:00\",\"2021-06-16T00:00:00\",\"2021-06-17T00:00:00\",\"2021-06-18T00:00:00\",\"2021-06-23T00:00:00\",\"2021-06-25T00:00:00\",\"2021-06-28T00:00:00\",\"2021-06-29T00:00:00\",\"2021-06-30T00:00:00\",\"2021-07-08T00:00:00\",\"2021-07-12T00:00:00\",\"2021-07-13T00:00:00\",\"2021-07-16T00:00:00\",\"2021-07-19T00:00:00\",\"2021-07-26T00:00:00\",\"2021-07-28T00:00:00\",\"2021-08-09T00:00:00\",\"2021-08-11T00:00:00\",\"2021-08-18T00:00:00\",\"2021-08-19T00:00:00\",\"2021-08-25T00:00:00\",\"2021-08-26T00:00:00\",\"2021-09-01T00:00:00\",\"2021-09-03T00:00:00\",\"2021-09-07T00:00:00\",\"2021-09-08T00:00:00\",\"2021-09-10T00:00:00\",\"2021-09-14T00:00:00\",\"2021-09-15T00:00:00\",\"2021-09-16T00:00:00\",\"2021-09-20T00:00:00\",\"2021-09-21T00:00:00\",\"2021-09-23T00:00:00\",\"2021-09-24T00:00:00\",\"2021-09-28T00:00:00\",\"2021-10-01T00:00:00\",\"2021-10-04T00:00:00\",\"2021-10-05T00:00:00\",\"2021-10-06T00:00:00\",\"2021-10-08T00:00:00\",\"2021-10-13T00:00:00\",\"2021-10-14T00:00:00\",\"2021-10-15T00:00:00\",\"2021-11-02T00:00:00\",\"2021-11-11T00:00:00\",\"2021-11-16T00:00:00\",\"2021-11-19T00:00:00\",\"2021-11-26T00:00:00\",\"2021-11-30T00:00:00\",\"2021-12-17T00:00:00\",\"2021-12-20T00:00:00\",\"2021-12-21T00:00:00\",\"2021-12-22T00:00:00\",\"2021-12-28T00:00:00\",\"2021-12-30T00:00:00\"],\"xaxis\":\"x\",\"y\":[-0.007562465857202216,-0.009316972706514326,-0.010042939887923374,-0.016455896164389694,-0.015487915305109068,-0.017242422154420844,-0.00012096991283294667,-0.03732837578247339,-0.01784741942299717,-0.0007260410336147327,-0.006533926189299377,-0.0036904685678734728,-0.007199482266497692,-0.0036904685678734728,-0.009921969975090428,-0.010466482287250112,-0.00949842757576369,-0.018875959090900007,-0.010950435790787694,-0.0009074959028642082,-0.009195928941475584,-0.00653400004150495,-0.005081991826481058,-0.00816746312577843,-0.001633536936479052,-0.020993375678710957,-0.09571053834786858,-0.007320526031536212,-0.010587452200083058,-0.005202961739314005,-0.0007260410336147327,-0.01191841665006832,-0.001512493171440421,-0.011555433059363796,-0.010889950834371165,-0.003508939846418424,-0.015669444026564117,-0.006836498675793057,-0.015487915305108846,-0.005747474051473689,-0.005263446695730423,-0.0029645013864643133,-0.01433840572437306,-0.006170942598594742,-0.010284953565794952,-0.011978975458690422,-0.0013915232586074744,-0.0006049972685762128,-0.0004235423993267373,-0.005263446695730423,-0.006171016450800426,-0.01022439475717285,-0.014822433080116215,-0.007804479535073794,-0.012341959049395057,-0.009377457662930744,-0.0022384603528495806,-0.012160430327939897,-0.011797446737235373,-0.013007441274387799,-0.005444975417185471,-0.005444975417185582,-0.010708422112916005,-0.0037509535242900016,-0.00024193982566600436,-0.003629983611457055,-0.018028874292246644,-0.00961947134080221,-0.0069574685886261145,-0.0081069781693619,-0.0032670000207524197,-0.0007865259900313726,-0.008409402951444322,-0.015064446757987904,-0.013370424865092323,-0.011010994599409796,-0.0028434576214257934,-0.009014474072226109,-0.0018754767621449453,-0.017363392067253902,-0.003690468567873584,-0.008106904317156216,-0.011978975458690533,-0.006110457642178324,-0.0038719234371230593,-0.005566019182224102,-0.00048395350353758193,-0.013007441274387799,-6.0484956416528846e-05,-0.002601443943554216,-0.0007865259900312616,-0.0019359617185614741,-0.0012099945371523146,-0.001089024624319368,-0.009861485018673788,-0.005989487729345155,-0.034908312855963075,-0.00538441660856348,-0.13872590322539913,-0.011797446737235484,-0.11476795230801784,-0.06540018996264352,-0.03418227182234834,-0.027890433163126005],\"yaxis\":\"y\",\"type\":\"bar\"}],                        {\"template\":{\"data\":{\"histogram2dcontour\":[{\"type\":\"histogram2dcontour\",\"colorbar\":{\"outlinewidth\":0,\"ticks\":\"\"},\"colorscale\":[[0.0,\"#0d0887\"],[0.1111111111111111,\"#46039f\"],[0.2222222222222222,\"#7201a8\"],[0.3333333333333333,\"#9c179e\"],[0.4444444444444444,\"#bd3786\"],[0.5555555555555556,\"#d8576b\"],[0.6666666666666666,\"#ed7953\"],[0.7777777777777778,\"#fb9f3a\"],[0.8888888888888888,\"#fdca26\"],[1.0,\"#f0f921\"]]}],\"choropleth\":[{\"type\":\"choropleth\",\"colorbar\":{\"outlinewidth\":0,\"ticks\":\"\"}}],\"histogram2d\":[{\"type\":\"histogram2d\",\"colorbar\":{\"outlinewidth\":0,\"ticks\":\"\"},\"colorscale\":[[0.0,\"#0d0887\"],[0.1111111111111111,\"#46039f\"],[0.2222222222222222,\"#7201a8\"],[0.3333333333333333,\"#9c179e\"],[0.4444444444444444,\"#bd3786\"],[0.5555555555555556,\"#d8576b\"],[0.6666666666666666,\"#ed7953\"],[0.7777777777777778,\"#fb9f3a\"],[0.8888888888888888,\"#fdca26\"],[1.0,\"#f0f921\"]]}],\"heatmap\":[{\"type\":\"heatmap\",\"colorbar\":{\"outlinewidth\":0,\"ticks\":\"\"},\"colorscale\":[[0.0,\"#0d0887\"],[0.1111111111111111,\"#46039f\"],[0.2222222222222222,\"#7201a8\"],[0.3333333333333333,\"#9c179e\"],[0.4444444444444444,\"#bd3786\"],[0.5555555555555556,\"#d8576b\"],[0.6666666666666666,\"#ed7953\"],[0.7777777777777778,\"#fb9f3a\"],[0.8888888888888888,\"#fdca26\"],[1.0,\"#f0f921\"]]}],\"heatmapgl\":[{\"type\":\"heatmapgl\",\"colorbar\":{\"outlinewidth\":0,\"ticks\":\"\"},\"colorscale\":[[0.0,\"#0d0887\"],[0.1111111111111111,\"#46039f\"],[0.2222222222222222,\"#7201a8\"],[0.3333333333333333,\"#9c179e\"],[0.4444444444444444,\"#bd3786\"],[0.5555555555555556,\"#d8576b\"],[0.6666666666666666,\"#ed7953\"],[0.7777777777777778,\"#fb9f3a\"],[0.8888888888888888,\"#fdca26\"],[1.0,\"#f0f921\"]]}],\"contourcarpet\":[{\"type\":\"contourcarpet\",\"colorbar\":{\"outlinewidth\":0,\"ticks\":\"\"}}],\"contour\":[{\"type\":\"contour\",\"colorbar\":{\"outlinewidth\":0,\"ticks\":\"\"},\"colorscale\":[[0.0,\"#0d0887\"],[0.1111111111111111,\"#46039f\"],[0.2222222222222222,\"#7201a8\"],[0.3333333333333333,\"#9c179e\"],[0.4444444444444444,\"#bd3786\"],[0.5555555555555556,\"#d8576b\"],[0.6666666666666666,\"#ed7953\"],[0.7777777777777778,\"#fb9f3a\"],[0.8888888888888888,\"#fdca26\"],[1.0,\"#f0f921\"]]}],\"surface\":[{\"type\":\"surface\",\"colorbar\":{\"outlinewidth\":0,\"ticks\":\"\"},\"colorscale\":[[0.0,\"#0d0887\"],[0.1111111111111111,\"#46039f\"],[0.2222222222222222,\"#7201a8\"],[0.3333333333333333,\"#9c179e\"],[0.4444444444444444,\"#bd3786\"],[0.5555555555555556,\"#d8576b\"],[0.6666666666666666,\"#ed7953\"],[0.7777777777777778,\"#fb9f3a\"],[0.8888888888888888,\"#fdca26\"],[1.0,\"#f0f921\"]]}],\"mesh3d\":[{\"type\":\"mesh3d\",\"colorbar\":{\"outlinewidth\":0,\"ticks\":\"\"}}],\"scatter\":[{\"fillpattern\":{\"fillmode\":\"overlay\",\"size\":10,\"solidity\":0.2},\"type\":\"scatter\"}],\"parcoords\":[{\"type\":\"parcoords\",\"line\":{\"colorbar\":{\"outlinewidth\":0,\"ticks\":\"\"}}}],\"scatterpolargl\":[{\"type\":\"scatterpolargl\",\"marker\":{\"colorbar\":{\"outlinewidth\":0,\"ticks\":\"\"}}}],\"bar\":[{\"error_x\":{\"color\":\"#2a3f5f\"},\"error_y\":{\"color\":\"#2a3f5f\"},\"marker\":{\"line\":{\"color\":\"#E5ECF6\",\"width\":0.5},\"pattern\":{\"fillmode\":\"overlay\",\"size\":10,\"solidity\":0.2}},\"type\":\"bar\"}],\"scattergeo\":[{\"type\":\"scattergeo\",\"marker\":{\"colorbar\":{\"outlinewidth\":0,\"ticks\":\"\"}}}],\"scatterpolar\":[{\"type\":\"scatterpolar\",\"marker\":{\"colorbar\":{\"outlinewidth\":0,\"ticks\":\"\"}}}],\"histogram\":[{\"marker\":{\"pattern\":{\"fillmode\":\"overlay\",\"size\":10,\"solidity\":0.2}},\"type\":\"histogram\"}],\"scattergl\":[{\"type\":\"scattergl\",\"marker\":{\"colorbar\":{\"outlinewidth\":0,\"ticks\":\"\"}}}],\"scatter3d\":[{\"type\":\"scatter3d\",\"line\":{\"colorbar\":{\"outlinewidth\":0,\"ticks\":\"\"}},\"marker\":{\"colorbar\":{\"outlinewidth\":0,\"ticks\":\"\"}}}],\"scattermapbox\":[{\"type\":\"scattermapbox\",\"marker\":{\"colorbar\":{\"outlinewidth\":0,\"ticks\":\"\"}}}],\"scatterternary\":[{\"type\":\"scatterternary\",\"marker\":{\"colorbar\":{\"outlinewidth\":0,\"ticks\":\"\"}}}],\"scattercarpet\":[{\"type\":\"scattercarpet\",\"marker\":{\"colorbar\":{\"outlinewidth\":0,\"ticks\":\"\"}}}],\"carpet\":[{\"aaxis\":{\"endlinecolor\":\"#2a3f5f\",\"gridcolor\":\"white\",\"linecolor\":\"white\",\"minorgridcolor\":\"white\",\"startlinecolor\":\"#2a3f5f\"},\"baxis\":{\"endlinecolor\":\"#2a3f5f\",\"gridcolor\":\"white\",\"linecolor\":\"white\",\"minorgridcolor\":\"white\",\"startlinecolor\":\"#2a3f5f\"},\"type\":\"carpet\"}],\"table\":[{\"cells\":{\"fill\":{\"color\":\"#EBF0F8\"},\"line\":{\"color\":\"white\"}},\"header\":{\"fill\":{\"color\":\"#C8D4E3\"},\"line\":{\"color\":\"white\"}},\"type\":\"table\"}],\"barpolar\":[{\"marker\":{\"line\":{\"color\":\"#E5ECF6\",\"width\":0.5},\"pattern\":{\"fillmode\":\"overlay\",\"size\":10,\"solidity\":0.2}},\"type\":\"barpolar\"}],\"pie\":[{\"automargin\":true,\"type\":\"pie\"}]},\"layout\":{\"autotypenumbers\":\"strict\",\"colorway\":[\"#636efa\",\"#EF553B\",\"#00cc96\",\"#ab63fa\",\"#FFA15A\",\"#19d3f3\",\"#FF6692\",\"#B6E880\",\"#FF97FF\",\"#FECB52\"],\"font\":{\"color\":\"#2a3f5f\"},\"hovermode\":\"closest\",\"hoverlabel\":{\"align\":\"left\"},\"paper_bgcolor\":\"white\",\"plot_bgcolor\":\"#E5ECF6\",\"polar\":{\"bgcolor\":\"#E5ECF6\",\"angularaxis\":{\"gridcolor\":\"white\",\"linecolor\":\"white\",\"ticks\":\"\"},\"radialaxis\":{\"gridcolor\":\"white\",\"linecolor\":\"white\",\"ticks\":\"\"}},\"ternary\":{\"bgcolor\":\"#E5ECF6\",\"aaxis\":{\"gridcolor\":\"white\",\"linecolor\":\"white\",\"ticks\":\"\"},\"baxis\":{\"gridcolor\":\"white\",\"linecolor\":\"white\",\"ticks\":\"\"},\"caxis\":{\"gridcolor\":\"white\",\"linecolor\":\"white\",\"ticks\":\"\"}},\"coloraxis\":{\"colorbar\":{\"outlinewidth\":0,\"ticks\":\"\"}},\"colorscale\":{\"sequential\":[[0.0,\"#0d0887\"],[0.1111111111111111,\"#46039f\"],[0.2222222222222222,\"#7201a8\"],[0.3333333333333333,\"#9c179e\"],[0.4444444444444444,\"#bd3786\"],[0.5555555555555556,\"#d8576b\"],[0.6666666666666666,\"#ed7953\"],[0.7777777777777778,\"#fb9f3a\"],[0.8888888888888888,\"#fdca26\"],[1.0,\"#f0f921\"]],\"sequentialminus\":[[0.0,\"#0d0887\"],[0.1111111111111111,\"#46039f\"],[0.2222222222222222,\"#7201a8\"],[0.3333333333333333,\"#9c179e\"],[0.4444444444444444,\"#bd3786\"],[0.5555555555555556,\"#d8576b\"],[0.6666666666666666,\"#ed7953\"],[0.7777777777777778,\"#fb9f3a\"],[0.8888888888888888,\"#fdca26\"],[1.0,\"#f0f921\"]],\"diverging\":[[0,\"#8e0152\"],[0.1,\"#c51b7d\"],[0.2,\"#de77ae\"],[0.3,\"#f1b6da\"],[0.4,\"#fde0ef\"],[0.5,\"#f7f7f7\"],[0.6,\"#e6f5d0\"],[0.7,\"#b8e186\"],[0.8,\"#7fbc41\"],[0.9,\"#4d9221\"],[1,\"#276419\"]]},\"xaxis\":{\"gridcolor\":\"white\",\"linecolor\":\"white\",\"ticks\":\"\",\"title\":{\"standoff\":15},\"zerolinecolor\":\"white\",\"automargin\":true,\"zerolinewidth\":2},\"yaxis\":{\"gridcolor\":\"white\",\"linecolor\":\"white\",\"ticks\":\"\",\"title\":{\"standoff\":15},\"zerolinecolor\":\"white\",\"automargin\":true,\"zerolinewidth\":2},\"scene\":{\"xaxis\":{\"backgroundcolor\":\"#E5ECF6\",\"gridcolor\":\"white\",\"linecolor\":\"white\",\"showbackground\":true,\"ticks\":\"\",\"zerolinecolor\":\"white\",\"gridwidth\":2},\"yaxis\":{\"backgroundcolor\":\"#E5ECF6\",\"gridcolor\":\"white\",\"linecolor\":\"white\",\"showbackground\":true,\"ticks\":\"\",\"zerolinecolor\":\"white\",\"gridwidth\":2},\"zaxis\":{\"backgroundcolor\":\"#E5ECF6\",\"gridcolor\":\"white\",\"linecolor\":\"white\",\"showbackground\":true,\"ticks\":\"\",\"zerolinecolor\":\"white\",\"gridwidth\":2}},\"shapedefaults\":{\"line\":{\"color\":\"#2a3f5f\"}},\"annotationdefaults\":{\"arrowcolor\":\"#2a3f5f\",\"arrowhead\":0,\"arrowwidth\":1},\"geo\":{\"bgcolor\":\"white\",\"landcolor\":\"#E5ECF6\",\"subunitcolor\":\"white\",\"showland\":true,\"showlakes\":true,\"lakecolor\":\"white\"},\"title\":{\"x\":0.05},\"mapbox\":{\"style\":\"light\"}}},\"xaxis\":{\"anchor\":\"y\",\"domain\":[0.0,1.0],\"title\":{\"text\":\"Date\"}},\"yaxis\":{\"anchor\":\"x\",\"domain\":[0.0,1.0],\"title\":{\"text\":\"Degisim\"}},\"legend\":{\"title\":{\"text\":\"d_yon\"},\"tracegroupgap\":0},\"margin\":{\"t\":60},\"barmode\":\"relative\"},                        {\"responsive\": true}                    ).then(function(){\n",
       "                            \n",
       "var gd = document.getElementById('75d2c3be-0ea7-4490-974a-0e9ca08e46dc');\n",
       "var x = new MutationObserver(function (mutations, observer) {{\n",
       "        var display = window.getComputedStyle(gd).display;\n",
       "        if (!display || display === 'none') {{\n",
       "            console.log([gd, 'removed!']);\n",
       "            Plotly.purge(gd);\n",
       "            observer.disconnect();\n",
       "        }}\n",
       "}});\n",
       "\n",
       "// Listen for the removal of the full notebook cells\n",
       "var notebookContainer = gd.closest('#notebook-container');\n",
       "if (notebookContainer) {{\n",
       "    x.observe(notebookContainer, {childList: true});\n",
       "}}\n",
       "\n",
       "// Listen for the clearing of the current output cell\n",
       "var outputEl = gd.closest('.output');\n",
       "if (outputEl) {{\n",
       "    x.observe(outputEl, {childList: true});\n",
       "}}\n",
       "\n",
       "                        })                };                });            </script>        </div>"
      ]
     },
     "metadata": {},
     "output_type": "display_data"
    }
   ],
   "source": [
    "B30['Degisim'] = B30['Normalize'].diff(1)\n",
    "B30['d_yon'] = B30['Degisim'].map(lambda x: 'dusen gun' if x<0 else 'yukselen gun')\n",
    "px.bar(B30, y= 'Degisim', color = 'd_yon', color_discrete_map={'dusen gun':'red','yukselen gun':'green'})"
   ]
  },
  {
   "cell_type": "markdown",
   "id": "dORv1i8lNoGf",
   "metadata": {
    "id": "dORv1i8lNoGf"
   },
   "source": [
    "7. Histogram çizmek:\n",
    "\n",
    "*   px.histogram grafiğini çizdiriniz.\n",
    "*   Bölüm sayısını (nbins) nasıl belirlediniz,açıklayınız.\n",
    "*   Elde ettiğiniz grafiği yorumlayınız.\n",
    "\n"
   ]
  },
  {
   "cell_type": "code",
   "execution_count": 27,
   "id": "nXqFaxUYl_U0",
   "metadata": {
    "id": "nXqFaxUYl_U0"
   },
   "outputs": [
    {
     "data": {
      "application/vnd.plotly.v1+json": {
       "config": {
        "plotlyServerURL": "https://plot.ly"
       },
       "data": [
        {
         "alignmentgroup": "True",
         "bingroup": "x",
         "hovertemplate": "variable=Degisim<br>value=%{x}<br>count=%{y}<extra></extra>",
         "legendgroup": "Degisim",
         "marker": {
          "color": "#636efa",
          "pattern": {
           "shape": ""
          }
         },
         "name": "Degisim",
         "nbinsx": 10,
         "offsetgroup": "Degisim",
         "orientation": "v",
         "showlegend": true,
         "type": "histogram",
         "x": [
          null,
          -0.007562465857202216,
          0.010466408435044539,
          0.012402444005811475,
          0.009801000062257481,
          -0.009316972706514326,
          0.004719008235776423,
          0.006533926189299377,
          -0.010042939887923374,
          -0.016455896164389694,
          0.01748436198008685,
          0.004476994557904845,
          0.0006654822249927417,
          -0.015487915305109068,
          -0.017242422154420844,
          -0.00012096991283294667,
          -0.03732837578247339,
          0.016153471382307272,
          -0.01784741942299717,
          0.007320452179330528,
          0.011071479555826325,
          0.015790413939396952,
          -0.0007260410336147327,
          -0.006533926189299377,
          0.005081991826481058,
          0.010768907069332534,
          0.001996520527183576,
          -0.0036904685678734728,
          -0.007199482266497692,
          -0.0036904685678734728,
          -0.009921969975090428,
          0.009921969975090428,
          -0.010466482287250112,
          -0.00949842757576369,
          -0.018875959090900007,
          0.00967995629721885,
          -0.010950435790787694,
          0.03206485523453728,
          0.0035090136986239973,
          -0.0009074959028642082,
          0.00707843850145895,
          0.003690468567873584,
          -0.009195928941475584,
          0.01209994537152348,
          0.0081069781693619,
          -0.00653400004150495,
          0.000544512312159684,
          -0.005081991826481058,
          0.006594484997921479,
          -0.00816746312577843,
          -0.001633536936479052,
          -0.020993375678710957,
          -0.09571053834786858,
          -0.007320526031536212,
          0.016334926251556747,
          -0.010587452200083058,
          -0.005202961739314005,
          0.006231501407216844,
          0,
          -0.0007260410336147327,
          0.02038845226234043,
          0.005021433017858845,
          -0.01191841665006832,
          0.0006654822249926307,
          -0.001512493171440421,
          -0.011555433059363796,
          -0.010889950834371165,
          0.004658449427154321,
          0.020569907131589904,
          0.005747474051473689,
          -0.003508939846418424,
          -0.015669444026564117,
          -0.006836498675793057,
          -0.015487915305108846,
          0.009437942619347162,
          0.019178457725188114,
          0.008953915263604006,
          -0.005747474051473689,
          0.009619471340802321,
          -0.005263446695730423,
          0.01603242761726853,
          -0.0029645013864643133,
          0.008651490481521584,
          0.010103424844339792,
          0.01518541667082085,
          -0.01433840572437306,
          0.008953915263604006,
          0.003569498655040526,
          -0.006170942598594742,
          0.0027829726650092645,
          -0.010284953565794952,
          -0.011978975458690422,
          0.010708495965121578,
          0.0112529344250758,
          -0.0013915232586074744,
          -0.0006049972685762128,
          0.0035090136986241083,
          0.010889950834371165,
          0.0009679808592807371,
          0.0014520082150238922,
          0.005747474051473689,
          0.0013915232586074744,
          -0.0004235423993267373,
          -0.005263446695730423,
          -0.006171016450800426,
          -0.01022439475717285,
          -0.014822433080116215,
          0.008106904317156216,
          0.006715528762959999,
          -0.007804479535073794,
          0.006170942598594742,
          -0.012341959049395057,
          -0.009377457662930744,
          -0.0022384603528495806,
          -0.012160430327939897,
          0.009921969975090317,
          0.0029039425778423222,
          0.002480474030721158,
          0.006352471320049791,
          -0.011797446737235373,
          0.00568698909505716,
          -0.013007441274387799,
          -0.005444975417185471,
          0.01276542759651611,
          -0.005444975417185582,
          -0.010708422112916005,
          -0.0037509535242900016,
          0.008409402951444322,
          -0.00024193982566600436,
          0.024260375699463488,
          0.000544512312159684,
          0.0018149918057285275,
          0.006654969954337897,
          0.0004234685471210531,
          0.01433840572437306,
          0.003085545151503055,
          -0.003629983611457055,
          0.005021433017858845,
          -0.018028874292246644,
          0.026014882548775486,
          0.0013309644499853723,
          0.005202961739314005,
          0.004779493192192841,
          -0.00961947134080221,
          -0.0069574685886261145,
          0.003932482245745161,
          0.01137397819011432,
          0.005081991826481058,
          -0.0081069781693619,
          -0.0032670000207524197,
          0.00483997814860937,
          0.008651490481521584,
          -0.0007865259900313726,
          0.0028434576214257934,
          -0.008409402951444322,
          0.0034484548900020062,
          -0.015064446757987904,
          -0.013370424865092323,
          0.010829465877954636,
          -0.011010994599409796,
          0.0008470109464477904,
          -0.0028434576214257934,
          -0.009014474072226109,
          -0.0018754767621449453,
          0.0028434576214256824,
          -0.017363392067253902,
          -0.003690468567873584,
          0.016274367442934645,
          -0.008106904317156216,
          -0.011978975458690533,
          0.006291986363633373,
          -0.006110457642178324,
          0.006110457642178324,
          0.009861411166468215,
          -0.0038719234371230593,
          -0.005566019182224102,
          -0.00048395350353758193,
          -0.013007441274387799,
          0.019601852420103594,
          -6.0484956416528846e-05,
          0.014035980942290638,
          0.0010889507721137948,
          -0.002601443943554216,
          -0.0007865259900312616,
          -0.0019359617185614741,
          0.004597964470737792,
          0.0073809371357470566,
          0.003569498655040526,
          0.015608959070147588,
          0.016395411207973165,
          0.00798593440432327,
          0.010889950834371165,
          0.005868517816512209,
          0.00024193982566600436,
          0.010889950834371054,
          -0.0012099945371523146,
          0.011131964512242853,
          0.021658931755909272,
          0.0068364248235872616,
          0.018331446778740546,
          0.0069574685886260035,
          0.006049972685761684,
          -0.001089024624319368,
          0.007925523300112314,
          0.04809728285180581,
          -0.009861485018673788,
          0.015064446757987904,
          0.023534408518054217,
          -0.005989487729345155,
          0.008167463125778207,
          0.020630392088006433,
          0.015850898895813703,
          0.000544512312159684,
          -0.034908312855963075,
          0.022566353806567907,
          -0.00538441660856348,
          0.03285130737236286,
          0.013793967264419171,
          0.017544846936503378,
          0.015427430348692317,
          0.04198689906183328,
          0.0167583947986778,
          0.02196143039019738,
          0.0029040164300480065,
          0.04954921721462413,
          0.04501173770030298,
          0.010406071183039156,
          0.08584905332919468,
          -0.13872590322539913,
          -0.011797446737235484,
          -0.11476795230801784,
          -0.06540018996264352,
          0.0019359617185614741,
          0.061830765159808454,
          0.0015729042756513767,
          -0.03418227182234834,
          0.03230686891240886,
          -0.027890433163126005
         ],
         "xaxis": "x",
         "yaxis": "y"
        }
       ],
       "layout": {
        "barmode": "relative",
        "legend": {
         "title": {
          "text": "variable"
         },
         "tracegroupgap": 0
        },
        "margin": {
         "t": 60
        },
        "template": {
         "data": {
          "bar": [
           {
            "error_x": {
             "color": "#2a3f5f"
            },
            "error_y": {
             "color": "#2a3f5f"
            },
            "marker": {
             "line": {
              "color": "#E5ECF6",
              "width": 0.5
             },
             "pattern": {
              "fillmode": "overlay",
              "size": 10,
              "solidity": 0.2
             }
            },
            "type": "bar"
           }
          ],
          "barpolar": [
           {
            "marker": {
             "line": {
              "color": "#E5ECF6",
              "width": 0.5
             },
             "pattern": {
              "fillmode": "overlay",
              "size": 10,
              "solidity": 0.2
             }
            },
            "type": "barpolar"
           }
          ],
          "carpet": [
           {
            "aaxis": {
             "endlinecolor": "#2a3f5f",
             "gridcolor": "white",
             "linecolor": "white",
             "minorgridcolor": "white",
             "startlinecolor": "#2a3f5f"
            },
            "baxis": {
             "endlinecolor": "#2a3f5f",
             "gridcolor": "white",
             "linecolor": "white",
             "minorgridcolor": "white",
             "startlinecolor": "#2a3f5f"
            },
            "type": "carpet"
           }
          ],
          "choropleth": [
           {
            "colorbar": {
             "outlinewidth": 0,
             "ticks": ""
            },
            "type": "choropleth"
           }
          ],
          "contour": [
           {
            "colorbar": {
             "outlinewidth": 0,
             "ticks": ""
            },
            "colorscale": [
             [
              0,
              "#0d0887"
             ],
             [
              0.1111111111111111,
              "#46039f"
             ],
             [
              0.2222222222222222,
              "#7201a8"
             ],
             [
              0.3333333333333333,
              "#9c179e"
             ],
             [
              0.4444444444444444,
              "#bd3786"
             ],
             [
              0.5555555555555556,
              "#d8576b"
             ],
             [
              0.6666666666666666,
              "#ed7953"
             ],
             [
              0.7777777777777778,
              "#fb9f3a"
             ],
             [
              0.8888888888888888,
              "#fdca26"
             ],
             [
              1,
              "#f0f921"
             ]
            ],
            "type": "contour"
           }
          ],
          "contourcarpet": [
           {
            "colorbar": {
             "outlinewidth": 0,
             "ticks": ""
            },
            "type": "contourcarpet"
           }
          ],
          "heatmap": [
           {
            "colorbar": {
             "outlinewidth": 0,
             "ticks": ""
            },
            "colorscale": [
             [
              0,
              "#0d0887"
             ],
             [
              0.1111111111111111,
              "#46039f"
             ],
             [
              0.2222222222222222,
              "#7201a8"
             ],
             [
              0.3333333333333333,
              "#9c179e"
             ],
             [
              0.4444444444444444,
              "#bd3786"
             ],
             [
              0.5555555555555556,
              "#d8576b"
             ],
             [
              0.6666666666666666,
              "#ed7953"
             ],
             [
              0.7777777777777778,
              "#fb9f3a"
             ],
             [
              0.8888888888888888,
              "#fdca26"
             ],
             [
              1,
              "#f0f921"
             ]
            ],
            "type": "heatmap"
           }
          ],
          "heatmapgl": [
           {
            "colorbar": {
             "outlinewidth": 0,
             "ticks": ""
            },
            "colorscale": [
             [
              0,
              "#0d0887"
             ],
             [
              0.1111111111111111,
              "#46039f"
             ],
             [
              0.2222222222222222,
              "#7201a8"
             ],
             [
              0.3333333333333333,
              "#9c179e"
             ],
             [
              0.4444444444444444,
              "#bd3786"
             ],
             [
              0.5555555555555556,
              "#d8576b"
             ],
             [
              0.6666666666666666,
              "#ed7953"
             ],
             [
              0.7777777777777778,
              "#fb9f3a"
             ],
             [
              0.8888888888888888,
              "#fdca26"
             ],
             [
              1,
              "#f0f921"
             ]
            ],
            "type": "heatmapgl"
           }
          ],
          "histogram": [
           {
            "marker": {
             "pattern": {
              "fillmode": "overlay",
              "size": 10,
              "solidity": 0.2
             }
            },
            "type": "histogram"
           }
          ],
          "histogram2d": [
           {
            "colorbar": {
             "outlinewidth": 0,
             "ticks": ""
            },
            "colorscale": [
             [
              0,
              "#0d0887"
             ],
             [
              0.1111111111111111,
              "#46039f"
             ],
             [
              0.2222222222222222,
              "#7201a8"
             ],
             [
              0.3333333333333333,
              "#9c179e"
             ],
             [
              0.4444444444444444,
              "#bd3786"
             ],
             [
              0.5555555555555556,
              "#d8576b"
             ],
             [
              0.6666666666666666,
              "#ed7953"
             ],
             [
              0.7777777777777778,
              "#fb9f3a"
             ],
             [
              0.8888888888888888,
              "#fdca26"
             ],
             [
              1,
              "#f0f921"
             ]
            ],
            "type": "histogram2d"
           }
          ],
          "histogram2dcontour": [
           {
            "colorbar": {
             "outlinewidth": 0,
             "ticks": ""
            },
            "colorscale": [
             [
              0,
              "#0d0887"
             ],
             [
              0.1111111111111111,
              "#46039f"
             ],
             [
              0.2222222222222222,
              "#7201a8"
             ],
             [
              0.3333333333333333,
              "#9c179e"
             ],
             [
              0.4444444444444444,
              "#bd3786"
             ],
             [
              0.5555555555555556,
              "#d8576b"
             ],
             [
              0.6666666666666666,
              "#ed7953"
             ],
             [
              0.7777777777777778,
              "#fb9f3a"
             ],
             [
              0.8888888888888888,
              "#fdca26"
             ],
             [
              1,
              "#f0f921"
             ]
            ],
            "type": "histogram2dcontour"
           }
          ],
          "mesh3d": [
           {
            "colorbar": {
             "outlinewidth": 0,
             "ticks": ""
            },
            "type": "mesh3d"
           }
          ],
          "parcoords": [
           {
            "line": {
             "colorbar": {
              "outlinewidth": 0,
              "ticks": ""
             }
            },
            "type": "parcoords"
           }
          ],
          "pie": [
           {
            "automargin": true,
            "type": "pie"
           }
          ],
          "scatter": [
           {
            "fillpattern": {
             "fillmode": "overlay",
             "size": 10,
             "solidity": 0.2
            },
            "type": "scatter"
           }
          ],
          "scatter3d": [
           {
            "line": {
             "colorbar": {
              "outlinewidth": 0,
              "ticks": ""
             }
            },
            "marker": {
             "colorbar": {
              "outlinewidth": 0,
              "ticks": ""
             }
            },
            "type": "scatter3d"
           }
          ],
          "scattercarpet": [
           {
            "marker": {
             "colorbar": {
              "outlinewidth": 0,
              "ticks": ""
             }
            },
            "type": "scattercarpet"
           }
          ],
          "scattergeo": [
           {
            "marker": {
             "colorbar": {
              "outlinewidth": 0,
              "ticks": ""
             }
            },
            "type": "scattergeo"
           }
          ],
          "scattergl": [
           {
            "marker": {
             "colorbar": {
              "outlinewidth": 0,
              "ticks": ""
             }
            },
            "type": "scattergl"
           }
          ],
          "scattermapbox": [
           {
            "marker": {
             "colorbar": {
              "outlinewidth": 0,
              "ticks": ""
             }
            },
            "type": "scattermapbox"
           }
          ],
          "scatterpolar": [
           {
            "marker": {
             "colorbar": {
              "outlinewidth": 0,
              "ticks": ""
             }
            },
            "type": "scatterpolar"
           }
          ],
          "scatterpolargl": [
           {
            "marker": {
             "colorbar": {
              "outlinewidth": 0,
              "ticks": ""
             }
            },
            "type": "scatterpolargl"
           }
          ],
          "scatterternary": [
           {
            "marker": {
             "colorbar": {
              "outlinewidth": 0,
              "ticks": ""
             }
            },
            "type": "scatterternary"
           }
          ],
          "surface": [
           {
            "colorbar": {
             "outlinewidth": 0,
             "ticks": ""
            },
            "colorscale": [
             [
              0,
              "#0d0887"
             ],
             [
              0.1111111111111111,
              "#46039f"
             ],
             [
              0.2222222222222222,
              "#7201a8"
             ],
             [
              0.3333333333333333,
              "#9c179e"
             ],
             [
              0.4444444444444444,
              "#bd3786"
             ],
             [
              0.5555555555555556,
              "#d8576b"
             ],
             [
              0.6666666666666666,
              "#ed7953"
             ],
             [
              0.7777777777777778,
              "#fb9f3a"
             ],
             [
              0.8888888888888888,
              "#fdca26"
             ],
             [
              1,
              "#f0f921"
             ]
            ],
            "type": "surface"
           }
          ],
          "table": [
           {
            "cells": {
             "fill": {
              "color": "#EBF0F8"
             },
             "line": {
              "color": "white"
             }
            },
            "header": {
             "fill": {
              "color": "#C8D4E3"
             },
             "line": {
              "color": "white"
             }
            },
            "type": "table"
           }
          ]
         },
         "layout": {
          "annotationdefaults": {
           "arrowcolor": "#2a3f5f",
           "arrowhead": 0,
           "arrowwidth": 1
          },
          "autotypenumbers": "strict",
          "coloraxis": {
           "colorbar": {
            "outlinewidth": 0,
            "ticks": ""
           }
          },
          "colorscale": {
           "diverging": [
            [
             0,
             "#8e0152"
            ],
            [
             0.1,
             "#c51b7d"
            ],
            [
             0.2,
             "#de77ae"
            ],
            [
             0.3,
             "#f1b6da"
            ],
            [
             0.4,
             "#fde0ef"
            ],
            [
             0.5,
             "#f7f7f7"
            ],
            [
             0.6,
             "#e6f5d0"
            ],
            [
             0.7,
             "#b8e186"
            ],
            [
             0.8,
             "#7fbc41"
            ],
            [
             0.9,
             "#4d9221"
            ],
            [
             1,
             "#276419"
            ]
           ],
           "sequential": [
            [
             0,
             "#0d0887"
            ],
            [
             0.1111111111111111,
             "#46039f"
            ],
            [
             0.2222222222222222,
             "#7201a8"
            ],
            [
             0.3333333333333333,
             "#9c179e"
            ],
            [
             0.4444444444444444,
             "#bd3786"
            ],
            [
             0.5555555555555556,
             "#d8576b"
            ],
            [
             0.6666666666666666,
             "#ed7953"
            ],
            [
             0.7777777777777778,
             "#fb9f3a"
            ],
            [
             0.8888888888888888,
             "#fdca26"
            ],
            [
             1,
             "#f0f921"
            ]
           ],
           "sequentialminus": [
            [
             0,
             "#0d0887"
            ],
            [
             0.1111111111111111,
             "#46039f"
            ],
            [
             0.2222222222222222,
             "#7201a8"
            ],
            [
             0.3333333333333333,
             "#9c179e"
            ],
            [
             0.4444444444444444,
             "#bd3786"
            ],
            [
             0.5555555555555556,
             "#d8576b"
            ],
            [
             0.6666666666666666,
             "#ed7953"
            ],
            [
             0.7777777777777778,
             "#fb9f3a"
            ],
            [
             0.8888888888888888,
             "#fdca26"
            ],
            [
             1,
             "#f0f921"
            ]
           ]
          },
          "colorway": [
           "#636efa",
           "#EF553B",
           "#00cc96",
           "#ab63fa",
           "#FFA15A",
           "#19d3f3",
           "#FF6692",
           "#B6E880",
           "#FF97FF",
           "#FECB52"
          ],
          "font": {
           "color": "#2a3f5f"
          },
          "geo": {
           "bgcolor": "white",
           "lakecolor": "white",
           "landcolor": "#E5ECF6",
           "showlakes": true,
           "showland": true,
           "subunitcolor": "white"
          },
          "hoverlabel": {
           "align": "left"
          },
          "hovermode": "closest",
          "mapbox": {
           "style": "light"
          },
          "paper_bgcolor": "white",
          "plot_bgcolor": "#E5ECF6",
          "polar": {
           "angularaxis": {
            "gridcolor": "white",
            "linecolor": "white",
            "ticks": ""
           },
           "bgcolor": "#E5ECF6",
           "radialaxis": {
            "gridcolor": "white",
            "linecolor": "white",
            "ticks": ""
           }
          },
          "scene": {
           "xaxis": {
            "backgroundcolor": "#E5ECF6",
            "gridcolor": "white",
            "gridwidth": 2,
            "linecolor": "white",
            "showbackground": true,
            "ticks": "",
            "zerolinecolor": "white"
           },
           "yaxis": {
            "backgroundcolor": "#E5ECF6",
            "gridcolor": "white",
            "gridwidth": 2,
            "linecolor": "white",
            "showbackground": true,
            "ticks": "",
            "zerolinecolor": "white"
           },
           "zaxis": {
            "backgroundcolor": "#E5ECF6",
            "gridcolor": "white",
            "gridwidth": 2,
            "linecolor": "white",
            "showbackground": true,
            "ticks": "",
            "zerolinecolor": "white"
           }
          },
          "shapedefaults": {
           "line": {
            "color": "#2a3f5f"
           }
          },
          "ternary": {
           "aaxis": {
            "gridcolor": "white",
            "linecolor": "white",
            "ticks": ""
           },
           "baxis": {
            "gridcolor": "white",
            "linecolor": "white",
            "ticks": ""
           },
           "bgcolor": "#E5ECF6",
           "caxis": {
            "gridcolor": "white",
            "linecolor": "white",
            "ticks": ""
           }
          },
          "title": {
           "x": 0.05
          },
          "xaxis": {
           "automargin": true,
           "gridcolor": "white",
           "linecolor": "white",
           "ticks": "",
           "title": {
            "standoff": 15
           },
           "zerolinecolor": "white",
           "zerolinewidth": 2
          },
          "yaxis": {
           "automargin": true,
           "gridcolor": "white",
           "linecolor": "white",
           "ticks": "",
           "title": {
            "standoff": 15
           },
           "zerolinecolor": "white",
           "zerolinewidth": 2
          }
         }
        },
        "xaxis": {
         "anchor": "y",
         "domain": [
          0,
          1
         ],
         "title": {
          "text": "value"
         }
        },
        "yaxis": {
         "anchor": "x",
         "domain": [
          0,
          1
         ],
         "title": {
          "text": "count"
         }
        }
       }
      },
      "text/html": [
       "<div>                            <div id=\"0ff7d168-0628-41e8-9d17-aece2f4b28a4\" class=\"plotly-graph-div\" style=\"height:525px; width:100%;\"></div>            <script type=\"text/javascript\">                require([\"plotly\"], function(Plotly) {                    window.PLOTLYENV=window.PLOTLYENV || {};                                    if (document.getElementById(\"0ff7d168-0628-41e8-9d17-aece2f4b28a4\")) {                    Plotly.newPlot(                        \"0ff7d168-0628-41e8-9d17-aece2f4b28a4\",                        [{\"alignmentgroup\":\"True\",\"bingroup\":\"x\",\"hovertemplate\":\"variable=Degisim<br>value=%{x}<br>count=%{y}<extra></extra>\",\"legendgroup\":\"Degisim\",\"marker\":{\"color\":\"#636efa\",\"pattern\":{\"shape\":\"\"}},\"name\":\"Degisim\",\"nbinsx\":10,\"offsetgroup\":\"Degisim\",\"orientation\":\"v\",\"showlegend\":true,\"x\":[null,-0.007562465857202216,0.010466408435044539,0.012402444005811475,0.009801000062257481,-0.009316972706514326,0.004719008235776423,0.006533926189299377,-0.010042939887923374,-0.016455896164389694,0.01748436198008685,0.004476994557904845,0.0006654822249927417,-0.015487915305109068,-0.017242422154420844,-0.00012096991283294667,-0.03732837578247339,0.016153471382307272,-0.01784741942299717,0.007320452179330528,0.011071479555826325,0.015790413939396952,-0.0007260410336147327,-0.006533926189299377,0.005081991826481058,0.010768907069332534,0.001996520527183576,-0.0036904685678734728,-0.007199482266497692,-0.0036904685678734728,-0.009921969975090428,0.009921969975090428,-0.010466482287250112,-0.00949842757576369,-0.018875959090900007,0.00967995629721885,-0.010950435790787694,0.03206485523453728,0.0035090136986239973,-0.0009074959028642082,0.00707843850145895,0.003690468567873584,-0.009195928941475584,0.01209994537152348,0.0081069781693619,-0.00653400004150495,0.000544512312159684,-0.005081991826481058,0.006594484997921479,-0.00816746312577843,-0.001633536936479052,-0.020993375678710957,-0.09571053834786858,-0.007320526031536212,0.016334926251556747,-0.010587452200083058,-0.005202961739314005,0.006231501407216844,0.0,-0.0007260410336147327,0.02038845226234043,0.005021433017858845,-0.01191841665006832,0.0006654822249926307,-0.001512493171440421,-0.011555433059363796,-0.010889950834371165,0.004658449427154321,0.020569907131589904,0.005747474051473689,-0.003508939846418424,-0.015669444026564117,-0.006836498675793057,-0.015487915305108846,0.009437942619347162,0.019178457725188114,0.008953915263604006,-0.005747474051473689,0.009619471340802321,-0.005263446695730423,0.01603242761726853,-0.0029645013864643133,0.008651490481521584,0.010103424844339792,0.01518541667082085,-0.01433840572437306,0.008953915263604006,0.003569498655040526,-0.006170942598594742,0.0027829726650092645,-0.010284953565794952,-0.011978975458690422,0.010708495965121578,0.0112529344250758,-0.0013915232586074744,-0.0006049972685762128,0.0035090136986241083,0.010889950834371165,0.0009679808592807371,0.0014520082150238922,0.005747474051473689,0.0013915232586074744,-0.0004235423993267373,-0.005263446695730423,-0.006171016450800426,-0.01022439475717285,-0.014822433080116215,0.008106904317156216,0.006715528762959999,-0.007804479535073794,0.006170942598594742,-0.012341959049395057,-0.009377457662930744,-0.0022384603528495806,-0.012160430327939897,0.009921969975090317,0.0029039425778423222,0.002480474030721158,0.006352471320049791,-0.011797446737235373,0.00568698909505716,-0.013007441274387799,-0.005444975417185471,0.01276542759651611,-0.005444975417185582,-0.010708422112916005,-0.0037509535242900016,0.008409402951444322,-0.00024193982566600436,0.024260375699463488,0.000544512312159684,0.0018149918057285275,0.006654969954337897,0.0004234685471210531,0.01433840572437306,0.003085545151503055,-0.003629983611457055,0.005021433017858845,-0.018028874292246644,0.026014882548775486,0.0013309644499853723,0.005202961739314005,0.004779493192192841,-0.00961947134080221,-0.0069574685886261145,0.003932482245745161,0.01137397819011432,0.005081991826481058,-0.0081069781693619,-0.0032670000207524197,0.00483997814860937,0.008651490481521584,-0.0007865259900313726,0.0028434576214257934,-0.008409402951444322,0.0034484548900020062,-0.015064446757987904,-0.013370424865092323,0.010829465877954636,-0.011010994599409796,0.0008470109464477904,-0.0028434576214257934,-0.009014474072226109,-0.0018754767621449453,0.0028434576214256824,-0.017363392067253902,-0.003690468567873584,0.016274367442934645,-0.008106904317156216,-0.011978975458690533,0.006291986363633373,-0.006110457642178324,0.006110457642178324,0.009861411166468215,-0.0038719234371230593,-0.005566019182224102,-0.00048395350353758193,-0.013007441274387799,0.019601852420103594,-6.0484956416528846e-05,0.014035980942290638,0.0010889507721137948,-0.002601443943554216,-0.0007865259900312616,-0.0019359617185614741,0.004597964470737792,0.0073809371357470566,0.003569498655040526,0.015608959070147588,0.016395411207973165,0.00798593440432327,0.010889950834371165,0.005868517816512209,0.00024193982566600436,0.010889950834371054,-0.0012099945371523146,0.011131964512242853,0.021658931755909272,0.0068364248235872616,0.018331446778740546,0.0069574685886260035,0.006049972685761684,-0.001089024624319368,0.007925523300112314,0.04809728285180581,-0.009861485018673788,0.015064446757987904,0.023534408518054217,-0.005989487729345155,0.008167463125778207,0.020630392088006433,0.015850898895813703,0.000544512312159684,-0.034908312855963075,0.022566353806567907,-0.00538441660856348,0.03285130737236286,0.013793967264419171,0.017544846936503378,0.015427430348692317,0.04198689906183328,0.0167583947986778,0.02196143039019738,0.0029040164300480065,0.04954921721462413,0.04501173770030298,0.010406071183039156,0.08584905332919468,-0.13872590322539913,-0.011797446737235484,-0.11476795230801784,-0.06540018996264352,0.0019359617185614741,0.061830765159808454,0.0015729042756513767,-0.03418227182234834,0.03230686891240886,-0.027890433163126005],\"xaxis\":\"x\",\"yaxis\":\"y\",\"type\":\"histogram\"}],                        {\"template\":{\"data\":{\"histogram2dcontour\":[{\"type\":\"histogram2dcontour\",\"colorbar\":{\"outlinewidth\":0,\"ticks\":\"\"},\"colorscale\":[[0.0,\"#0d0887\"],[0.1111111111111111,\"#46039f\"],[0.2222222222222222,\"#7201a8\"],[0.3333333333333333,\"#9c179e\"],[0.4444444444444444,\"#bd3786\"],[0.5555555555555556,\"#d8576b\"],[0.6666666666666666,\"#ed7953\"],[0.7777777777777778,\"#fb9f3a\"],[0.8888888888888888,\"#fdca26\"],[1.0,\"#f0f921\"]]}],\"choropleth\":[{\"type\":\"choropleth\",\"colorbar\":{\"outlinewidth\":0,\"ticks\":\"\"}}],\"histogram2d\":[{\"type\":\"histogram2d\",\"colorbar\":{\"outlinewidth\":0,\"ticks\":\"\"},\"colorscale\":[[0.0,\"#0d0887\"],[0.1111111111111111,\"#46039f\"],[0.2222222222222222,\"#7201a8\"],[0.3333333333333333,\"#9c179e\"],[0.4444444444444444,\"#bd3786\"],[0.5555555555555556,\"#d8576b\"],[0.6666666666666666,\"#ed7953\"],[0.7777777777777778,\"#fb9f3a\"],[0.8888888888888888,\"#fdca26\"],[1.0,\"#f0f921\"]]}],\"heatmap\":[{\"type\":\"heatmap\",\"colorbar\":{\"outlinewidth\":0,\"ticks\":\"\"},\"colorscale\":[[0.0,\"#0d0887\"],[0.1111111111111111,\"#46039f\"],[0.2222222222222222,\"#7201a8\"],[0.3333333333333333,\"#9c179e\"],[0.4444444444444444,\"#bd3786\"],[0.5555555555555556,\"#d8576b\"],[0.6666666666666666,\"#ed7953\"],[0.7777777777777778,\"#fb9f3a\"],[0.8888888888888888,\"#fdca26\"],[1.0,\"#f0f921\"]]}],\"heatmapgl\":[{\"type\":\"heatmapgl\",\"colorbar\":{\"outlinewidth\":0,\"ticks\":\"\"},\"colorscale\":[[0.0,\"#0d0887\"],[0.1111111111111111,\"#46039f\"],[0.2222222222222222,\"#7201a8\"],[0.3333333333333333,\"#9c179e\"],[0.4444444444444444,\"#bd3786\"],[0.5555555555555556,\"#d8576b\"],[0.6666666666666666,\"#ed7953\"],[0.7777777777777778,\"#fb9f3a\"],[0.8888888888888888,\"#fdca26\"],[1.0,\"#f0f921\"]]}],\"contourcarpet\":[{\"type\":\"contourcarpet\",\"colorbar\":{\"outlinewidth\":0,\"ticks\":\"\"}}],\"contour\":[{\"type\":\"contour\",\"colorbar\":{\"outlinewidth\":0,\"ticks\":\"\"},\"colorscale\":[[0.0,\"#0d0887\"],[0.1111111111111111,\"#46039f\"],[0.2222222222222222,\"#7201a8\"],[0.3333333333333333,\"#9c179e\"],[0.4444444444444444,\"#bd3786\"],[0.5555555555555556,\"#d8576b\"],[0.6666666666666666,\"#ed7953\"],[0.7777777777777778,\"#fb9f3a\"],[0.8888888888888888,\"#fdca26\"],[1.0,\"#f0f921\"]]}],\"surface\":[{\"type\":\"surface\",\"colorbar\":{\"outlinewidth\":0,\"ticks\":\"\"},\"colorscale\":[[0.0,\"#0d0887\"],[0.1111111111111111,\"#46039f\"],[0.2222222222222222,\"#7201a8\"],[0.3333333333333333,\"#9c179e\"],[0.4444444444444444,\"#bd3786\"],[0.5555555555555556,\"#d8576b\"],[0.6666666666666666,\"#ed7953\"],[0.7777777777777778,\"#fb9f3a\"],[0.8888888888888888,\"#fdca26\"],[1.0,\"#f0f921\"]]}],\"mesh3d\":[{\"type\":\"mesh3d\",\"colorbar\":{\"outlinewidth\":0,\"ticks\":\"\"}}],\"scatter\":[{\"fillpattern\":{\"fillmode\":\"overlay\",\"size\":10,\"solidity\":0.2},\"type\":\"scatter\"}],\"parcoords\":[{\"type\":\"parcoords\",\"line\":{\"colorbar\":{\"outlinewidth\":0,\"ticks\":\"\"}}}],\"scatterpolargl\":[{\"type\":\"scatterpolargl\",\"marker\":{\"colorbar\":{\"outlinewidth\":0,\"ticks\":\"\"}}}],\"bar\":[{\"error_x\":{\"color\":\"#2a3f5f\"},\"error_y\":{\"color\":\"#2a3f5f\"},\"marker\":{\"line\":{\"color\":\"#E5ECF6\",\"width\":0.5},\"pattern\":{\"fillmode\":\"overlay\",\"size\":10,\"solidity\":0.2}},\"type\":\"bar\"}],\"scattergeo\":[{\"type\":\"scattergeo\",\"marker\":{\"colorbar\":{\"outlinewidth\":0,\"ticks\":\"\"}}}],\"scatterpolar\":[{\"type\":\"scatterpolar\",\"marker\":{\"colorbar\":{\"outlinewidth\":0,\"ticks\":\"\"}}}],\"histogram\":[{\"marker\":{\"pattern\":{\"fillmode\":\"overlay\",\"size\":10,\"solidity\":0.2}},\"type\":\"histogram\"}],\"scattergl\":[{\"type\":\"scattergl\",\"marker\":{\"colorbar\":{\"outlinewidth\":0,\"ticks\":\"\"}}}],\"scatter3d\":[{\"type\":\"scatter3d\",\"line\":{\"colorbar\":{\"outlinewidth\":0,\"ticks\":\"\"}},\"marker\":{\"colorbar\":{\"outlinewidth\":0,\"ticks\":\"\"}}}],\"scattermapbox\":[{\"type\":\"scattermapbox\",\"marker\":{\"colorbar\":{\"outlinewidth\":0,\"ticks\":\"\"}}}],\"scatterternary\":[{\"type\":\"scatterternary\",\"marker\":{\"colorbar\":{\"outlinewidth\":0,\"ticks\":\"\"}}}],\"scattercarpet\":[{\"type\":\"scattercarpet\",\"marker\":{\"colorbar\":{\"outlinewidth\":0,\"ticks\":\"\"}}}],\"carpet\":[{\"aaxis\":{\"endlinecolor\":\"#2a3f5f\",\"gridcolor\":\"white\",\"linecolor\":\"white\",\"minorgridcolor\":\"white\",\"startlinecolor\":\"#2a3f5f\"},\"baxis\":{\"endlinecolor\":\"#2a3f5f\",\"gridcolor\":\"white\",\"linecolor\":\"white\",\"minorgridcolor\":\"white\",\"startlinecolor\":\"#2a3f5f\"},\"type\":\"carpet\"}],\"table\":[{\"cells\":{\"fill\":{\"color\":\"#EBF0F8\"},\"line\":{\"color\":\"white\"}},\"header\":{\"fill\":{\"color\":\"#C8D4E3\"},\"line\":{\"color\":\"white\"}},\"type\":\"table\"}],\"barpolar\":[{\"marker\":{\"line\":{\"color\":\"#E5ECF6\",\"width\":0.5},\"pattern\":{\"fillmode\":\"overlay\",\"size\":10,\"solidity\":0.2}},\"type\":\"barpolar\"}],\"pie\":[{\"automargin\":true,\"type\":\"pie\"}]},\"layout\":{\"autotypenumbers\":\"strict\",\"colorway\":[\"#636efa\",\"#EF553B\",\"#00cc96\",\"#ab63fa\",\"#FFA15A\",\"#19d3f3\",\"#FF6692\",\"#B6E880\",\"#FF97FF\",\"#FECB52\"],\"font\":{\"color\":\"#2a3f5f\"},\"hovermode\":\"closest\",\"hoverlabel\":{\"align\":\"left\"},\"paper_bgcolor\":\"white\",\"plot_bgcolor\":\"#E5ECF6\",\"polar\":{\"bgcolor\":\"#E5ECF6\",\"angularaxis\":{\"gridcolor\":\"white\",\"linecolor\":\"white\",\"ticks\":\"\"},\"radialaxis\":{\"gridcolor\":\"white\",\"linecolor\":\"white\",\"ticks\":\"\"}},\"ternary\":{\"bgcolor\":\"#E5ECF6\",\"aaxis\":{\"gridcolor\":\"white\",\"linecolor\":\"white\",\"ticks\":\"\"},\"baxis\":{\"gridcolor\":\"white\",\"linecolor\":\"white\",\"ticks\":\"\"},\"caxis\":{\"gridcolor\":\"white\",\"linecolor\":\"white\",\"ticks\":\"\"}},\"coloraxis\":{\"colorbar\":{\"outlinewidth\":0,\"ticks\":\"\"}},\"colorscale\":{\"sequential\":[[0.0,\"#0d0887\"],[0.1111111111111111,\"#46039f\"],[0.2222222222222222,\"#7201a8\"],[0.3333333333333333,\"#9c179e\"],[0.4444444444444444,\"#bd3786\"],[0.5555555555555556,\"#d8576b\"],[0.6666666666666666,\"#ed7953\"],[0.7777777777777778,\"#fb9f3a\"],[0.8888888888888888,\"#fdca26\"],[1.0,\"#f0f921\"]],\"sequentialminus\":[[0.0,\"#0d0887\"],[0.1111111111111111,\"#46039f\"],[0.2222222222222222,\"#7201a8\"],[0.3333333333333333,\"#9c179e\"],[0.4444444444444444,\"#bd3786\"],[0.5555555555555556,\"#d8576b\"],[0.6666666666666666,\"#ed7953\"],[0.7777777777777778,\"#fb9f3a\"],[0.8888888888888888,\"#fdca26\"],[1.0,\"#f0f921\"]],\"diverging\":[[0,\"#8e0152\"],[0.1,\"#c51b7d\"],[0.2,\"#de77ae\"],[0.3,\"#f1b6da\"],[0.4,\"#fde0ef\"],[0.5,\"#f7f7f7\"],[0.6,\"#e6f5d0\"],[0.7,\"#b8e186\"],[0.8,\"#7fbc41\"],[0.9,\"#4d9221\"],[1,\"#276419\"]]},\"xaxis\":{\"gridcolor\":\"white\",\"linecolor\":\"white\",\"ticks\":\"\",\"title\":{\"standoff\":15},\"zerolinecolor\":\"white\",\"automargin\":true,\"zerolinewidth\":2},\"yaxis\":{\"gridcolor\":\"white\",\"linecolor\":\"white\",\"ticks\":\"\",\"title\":{\"standoff\":15},\"zerolinecolor\":\"white\",\"automargin\":true,\"zerolinewidth\":2},\"scene\":{\"xaxis\":{\"backgroundcolor\":\"#E5ECF6\",\"gridcolor\":\"white\",\"linecolor\":\"white\",\"showbackground\":true,\"ticks\":\"\",\"zerolinecolor\":\"white\",\"gridwidth\":2},\"yaxis\":{\"backgroundcolor\":\"#E5ECF6\",\"gridcolor\":\"white\",\"linecolor\":\"white\",\"showbackground\":true,\"ticks\":\"\",\"zerolinecolor\":\"white\",\"gridwidth\":2},\"zaxis\":{\"backgroundcolor\":\"#E5ECF6\",\"gridcolor\":\"white\",\"linecolor\":\"white\",\"showbackground\":true,\"ticks\":\"\",\"zerolinecolor\":\"white\",\"gridwidth\":2}},\"shapedefaults\":{\"line\":{\"color\":\"#2a3f5f\"}},\"annotationdefaults\":{\"arrowcolor\":\"#2a3f5f\",\"arrowhead\":0,\"arrowwidth\":1},\"geo\":{\"bgcolor\":\"white\",\"landcolor\":\"#E5ECF6\",\"subunitcolor\":\"white\",\"showland\":true,\"showlakes\":true,\"lakecolor\":\"white\"},\"title\":{\"x\":0.05},\"mapbox\":{\"style\":\"light\"}}},\"xaxis\":{\"anchor\":\"y\",\"domain\":[0.0,1.0],\"title\":{\"text\":\"value\"}},\"yaxis\":{\"anchor\":\"x\",\"domain\":[0.0,1.0],\"title\":{\"text\":\"count\"}},\"legend\":{\"title\":{\"text\":\"variable\"},\"tracegroupgap\":0},\"margin\":{\"t\":60},\"barmode\":\"relative\"},                        {\"responsive\": true}                    ).then(function(){\n",
       "                            \n",
       "var gd = document.getElementById('0ff7d168-0628-41e8-9d17-aece2f4b28a4');\n",
       "var x = new MutationObserver(function (mutations, observer) {{\n",
       "        var display = window.getComputedStyle(gd).display;\n",
       "        if (!display || display === 'none') {{\n",
       "            console.log([gd, 'removed!']);\n",
       "            Plotly.purge(gd);\n",
       "            observer.disconnect();\n",
       "        }}\n",
       "}});\n",
       "\n",
       "// Listen for the removal of the full notebook cells\n",
       "var notebookContainer = gd.closest('#notebook-container');\n",
       "if (notebookContainer) {{\n",
       "    x.observe(notebookContainer, {childList: true});\n",
       "}}\n",
       "\n",
       "// Listen for the clearing of the current output cell\n",
       "var outputEl = gd.closest('.output');\n",
       "if (outputEl) {{\n",
       "    x.observe(outputEl, {childList: true});\n",
       "}}\n",
       "\n",
       "                        })                };                });            </script>        </div>"
      ]
     },
     "metadata": {},
     "output_type": "display_data"
    }
   ],
   "source": [
    "px.histogram(B30['Degisim'], nbins=10)"
   ]
  },
  {
   "cell_type": "code",
   "execution_count": null,
   "id": "86dc2f40",
   "metadata": {},
   "outputs": [],
   "source": [
    "#BIST30 endeksi 2021 yılında artan bir ivmeyle yükselmiş\n",
    "#Nbinsi verilerimizin dağılımına ve ne kadar ayrıntı görmek istediğimize en uygun olan sayıya göre karar verdik"
   ]
  }
 ],
 "metadata": {
  "colab": {
   "provenance": [
    {
     "file_id": "1cIWfbzGQtXIYSysm0cc-XrV97NfF9xSi",
     "timestamp": 1681819627582
    },
    {
     "file_id": "1La-A7uvc4wU7-KLcD0-bOJa30iXZzDuf",
     "timestamp": 1681818485898
    }
   ]
  },
  "kernelspec": {
   "display_name": "Python 3",
   "language": "python",
   "name": "python3"
  },
  "language_info": {
   "codemirror_mode": {
    "name": "ipython",
    "version": 3
   },
   "file_extension": ".py",
   "mimetype": "text/x-python",
   "name": "python",
   "nbconvert_exporter": "python",
   "pygments_lexer": "ipython3",
   "version": "3.8.8"
  }
 },
 "nbformat": 4,
 "nbformat_minor": 5
}
