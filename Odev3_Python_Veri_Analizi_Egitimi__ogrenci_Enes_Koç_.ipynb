{
 "cells": [
  {
   "cell_type": "markdown",
   "id": "68d00dc5",
   "metadata": {
    "id": "68d00dc5"
   },
   "source": [
    "# <center> Güney Marmara ve TRAI\n",
    "# <center> Python Veri Analizi Eğitimi\n",
    "# <center> Ödev 3"
   ]
  },
  {
   "cell_type": "code",
   "execution_count": 1,
   "id": "_rzQJ54imbs1",
   "metadata": {
    "id": "_rzQJ54imbs1"
   },
   "outputs": [
    {
     "name": "stdout",
     "output_type": "stream",
     "text": [
      "Requirement already satisfied: yfinance in c:\\users\\seros\\anaconda3\\lib\\site-packages (0.2.18)\n",
      "Requirement already satisfied: beautifulsoup4>=4.11.1 in c:\\users\\seros\\anaconda3\\lib\\site-packages (from yfinance) (4.12.2)\n",
      "Requirement already satisfied: pandas>=1.3.0 in c:\\users\\seros\\anaconda3\\lib\\site-packages (from yfinance) (2.0.1)\n",
      "Requirement already satisfied: html5lib>=1.1 in c:\\users\\seros\\anaconda3\\lib\\site-packages (from yfinance) (1.1)\n",
      "Requirement already satisfied: frozendict>=2.3.4 in c:\\users\\seros\\anaconda3\\lib\\site-packages (from yfinance) (2.3.7)\n",
      "Requirement already satisfied: appdirs>=1.4.4 in c:\\users\\seros\\anaconda3\\lib\\site-packages (from yfinance) (1.4.4)\n",
      "Requirement already satisfied: lxml>=4.9.1 in c:\\users\\seros\\anaconda3\\lib\\site-packages (from yfinance) (4.9.2)\n",
      "Requirement already satisfied: numpy>=1.16.5 in c:\\users\\seros\\anaconda3\\lib\\site-packages (from yfinance) (1.24.3)\n",
      "Requirement already satisfied: cryptography>=3.3.2 in c:\\users\\seros\\anaconda3\\lib\\site-packages (from yfinance) (3.4.7)\n",
      "Requirement already satisfied: pytz>=2022.5 in c:\\users\\seros\\anaconda3\\lib\\site-packages (from yfinance) (2023.3)\n",
      "Requirement already satisfied: requests>=2.26 in c:\\users\\seros\\anaconda3\\lib\\site-packages (from yfinance) (2.29.0)\n",
      "Requirement already satisfied: multitasking>=0.0.7 in c:\\users\\seros\\anaconda3\\lib\\site-packages (from yfinance) (0.0.11)\n",
      "Requirement already satisfied: soupsieve>1.2 in c:\\users\\seros\\anaconda3\\lib\\site-packages (from beautifulsoup4>=4.11.1->yfinance) (2.2.1)\n",
      "Requirement already satisfied: cffi>=1.12 in c:\\users\\seros\\anaconda3\\lib\\site-packages (from cryptography>=3.3.2->yfinance) (1.14.5)\n",
      "Requirement already satisfied: pycparser in c:\\users\\seros\\anaconda3\\lib\\site-packages (from cffi>=1.12->cryptography>=3.3.2->yfinance) (2.20)\n",
      "Requirement already satisfied: webencodings in c:\\users\\seros\\anaconda3\\lib\\site-packages (from html5lib>=1.1->yfinance) (0.5.1)\n",
      "Requirement already satisfied: six>=1.9 in c:\\users\\seros\\anaconda3\\lib\\site-packages (from html5lib>=1.1->yfinance) (1.15.0)\n",
      "Requirement already satisfied: tzdata>=2022.1 in c:\\users\\seros\\anaconda3\\lib\\site-packages (from pandas>=1.3.0->yfinance) (2023.3)\n",
      "Requirement already satisfied: python-dateutil>=2.8.2 in c:\\users\\seros\\anaconda3\\lib\\site-packages (from pandas>=1.3.0->yfinance) (2.8.2)\n",
      "Requirement already satisfied: idna<4,>=2.5 in c:\\users\\seros\\anaconda3\\lib\\site-packages (from requests>=2.26->yfinance) (2.10)\n",
      "Requirement already satisfied: certifi>=2017.4.17 in c:\\users\\seros\\anaconda3\\lib\\site-packages (from requests>=2.26->yfinance) (2020.12.5)\n",
      "Requirement already satisfied: urllib3<1.27,>=1.21.1 in c:\\users\\seros\\anaconda3\\lib\\site-packages (from requests>=2.26->yfinance) (1.26.4)\n",
      "Requirement already satisfied: charset-normalizer<4,>=2 in c:\\users\\seros\\anaconda3\\lib\\site-packages (from requests>=2.26->yfinance) (3.1.0)\n"
     ]
    }
   ],
   "source": [
    "!pip install yfinance"
   ]
  },
  {
   "cell_type": "markdown",
   "id": "5401ebd0",
   "metadata": {
    "id": "5401ebd0"
   },
   "source": [
    "### 2021 EUR/TRY kur tablosunun incelenmesi"
   ]
  },
  {
   "cell_type": "markdown",
   "id": "b10b510c",
   "metadata": {
    "id": "b10b510c"
   },
   "source": [
    "1. <i> Yahoo Finance</i> sitesinden 2021 yılına ait EUR/TRY kur değerlerini indiriniz"
   ]
  },
  {
   "cell_type": "code",
   "execution_count": 48,
   "id": "420cc30a",
   "metadata": {
    "id": "420cc30a"
   },
   "outputs": [
    {
     "name": "stdout",
     "output_type": "stream",
     "text": [
      "[*********************100%***********************]  1 of 1 completed\n",
      "[*********************100%***********************]  1 of 1 completed\n"
     ]
    },
    {
     "data": {
      "text/html": [
       "<div>\n",
       "<style scoped>\n",
       "    .dataframe tbody tr th:only-of-type {\n",
       "        vertical-align: middle;\n",
       "    }\n",
       "\n",
       "    .dataframe tbody tr th {\n",
       "        vertical-align: top;\n",
       "    }\n",
       "\n",
       "    .dataframe thead th {\n",
       "        text-align: right;\n",
       "    }\n",
       "</style>\n",
       "<table border=\"1\" class=\"dataframe\">\n",
       "  <thead>\n",
       "    <tr style=\"text-align: right;\">\n",
       "      <th></th>\n",
       "      <th>Open</th>\n",
       "      <th>High</th>\n",
       "      <th>Low</th>\n",
       "      <th>Close</th>\n",
       "      <th>Adj Close</th>\n",
       "      <th>Volume</th>\n",
       "    </tr>\n",
       "    <tr>\n",
       "      <th>Date</th>\n",
       "      <th></th>\n",
       "      <th></th>\n",
       "      <th></th>\n",
       "      <th></th>\n",
       "      <th></th>\n",
       "      <th></th>\n",
       "    </tr>\n",
       "  </thead>\n",
       "  <tbody>\n",
       "    <tr>\n",
       "      <th>2021-01-01</th>\n",
       "      <td>9.08470</td>\n",
       "      <td>9.08470</td>\n",
       "      <td>9.08470</td>\n",
       "      <td>9.08470</td>\n",
       "      <td>9.08470</td>\n",
       "      <td>0</td>\n",
       "    </tr>\n",
       "    <tr>\n",
       "      <th>2021-01-04</th>\n",
       "      <td>9.11047</td>\n",
       "      <td>9.11154</td>\n",
       "      <td>8.99617</td>\n",
       "      <td>9.10568</td>\n",
       "      <td>9.10568</td>\n",
       "      <td>0</td>\n",
       "    </tr>\n",
       "    <tr>\n",
       "      <th>2021-01-05</th>\n",
       "      <td>9.09273</td>\n",
       "      <td>9.11239</td>\n",
       "      <td>9.04298</td>\n",
       "      <td>9.08882</td>\n",
       "      <td>9.08882</td>\n",
       "      <td>0</td>\n",
       "    </tr>\n",
       "    <tr>\n",
       "      <th>2021-01-06</th>\n",
       "      <td>9.08044</td>\n",
       "      <td>9.09500</td>\n",
       "      <td>8.92864</td>\n",
       "      <td>9.08177</td>\n",
       "      <td>9.08177</td>\n",
       "      <td>0</td>\n",
       "    </tr>\n",
       "    <tr>\n",
       "      <th>2021-01-07</th>\n",
       "      <td>9.00475</td>\n",
       "      <td>9.07176</td>\n",
       "      <td>8.88154</td>\n",
       "      <td>9.00614</td>\n",
       "      <td>9.00614</td>\n",
       "      <td>0</td>\n",
       "    </tr>\n",
       "    <tr>\n",
       "      <th>...</th>\n",
       "      <td>...</td>\n",
       "      <td>...</td>\n",
       "      <td>...</td>\n",
       "      <td>...</td>\n",
       "      <td>...</td>\n",
       "      <td>...</td>\n",
       "    </tr>\n",
       "    <tr>\n",
       "      <th>2021-12-24</th>\n",
       "      <td>12.79533</td>\n",
       "      <td>13.67650</td>\n",
       "      <td>12.51641</td>\n",
       "      <td>12.79752</td>\n",
       "      <td>12.79752</td>\n",
       "      <td>0</td>\n",
       "    </tr>\n",
       "    <tr>\n",
       "      <th>2021-12-27</th>\n",
       "      <td>12.28318</td>\n",
       "      <td>13.03196</td>\n",
       "      <td>12.16917</td>\n",
       "      <td>12.23056</td>\n",
       "      <td>12.23056</td>\n",
       "      <td>0</td>\n",
       "    </tr>\n",
       "    <tr>\n",
       "      <th>2021-12-28</th>\n",
       "      <td>12.96156</td>\n",
       "      <td>13.47629</td>\n",
       "      <td>12.88283</td>\n",
       "      <td>13.05254</td>\n",
       "      <td>13.05254</td>\n",
       "      <td>0</td>\n",
       "    </tr>\n",
       "    <tr>\n",
       "      <th>2021-12-29</th>\n",
       "      <td>13.35232</td>\n",
       "      <td>14.37038</td>\n",
       "      <td>13.31566</td>\n",
       "      <td>13.35252</td>\n",
       "      <td>13.35252</td>\n",
       "      <td>0</td>\n",
       "    </tr>\n",
       "    <tr>\n",
       "      <th>2021-12-30</th>\n",
       "      <td>14.32090</td>\n",
       "      <td>15.11444</td>\n",
       "      <td>14.05750</td>\n",
       "      <td>14.31055</td>\n",
       "      <td>14.31055</td>\n",
       "      <td>0</td>\n",
       "    </tr>\n",
       "  </tbody>\n",
       "</table>\n",
       "<p>260 rows × 6 columns</p>\n",
       "</div>"
      ],
      "text/plain": [
       "                Open      High       Low     Close  Adj Close  Volume\n",
       "Date                                                                 \n",
       "2021-01-01   9.08470   9.08470   9.08470   9.08470    9.08470       0\n",
       "2021-01-04   9.11047   9.11154   8.99617   9.10568    9.10568       0\n",
       "2021-01-05   9.09273   9.11239   9.04298   9.08882    9.08882       0\n",
       "2021-01-06   9.08044   9.09500   8.92864   9.08177    9.08177       0\n",
       "2021-01-07   9.00475   9.07176   8.88154   9.00614    9.00614       0\n",
       "...              ...       ...       ...       ...        ...     ...\n",
       "2021-12-24  12.79533  13.67650  12.51641  12.79752   12.79752       0\n",
       "2021-12-27  12.28318  13.03196  12.16917  12.23056   12.23056       0\n",
       "2021-12-28  12.96156  13.47629  12.88283  13.05254   13.05254       0\n",
       "2021-12-29  13.35232  14.37038  13.31566  13.35252   13.35252       0\n",
       "2021-12-30  14.32090  15.11444  14.05750  14.31055   14.31055       0\n",
       "\n",
       "[260 rows x 6 columns]"
      ]
     },
     "execution_count": 48,
     "metadata": {},
     "output_type": "execute_result"
    }
   ],
   "source": [
    "import yfinance as yf\n",
    "kur = yf.download('EURTRY=X', start = '2021-01-01', end = '2021-12-31')\n",
    "B30_2021 = yf.download('XU030.IS', start = '2021-01-01', end = '2021-12-31')\n",
    "kur"
   ]
  },
  {
   "cell_type": "markdown",
   "id": "2241fd34",
   "metadata": {
    "id": "2241fd34"
   },
   "source": [
    "2. Veriyi özet metodları ile inceleyiniz"
   ]
  },
  {
   "cell_type": "code",
   "execution_count": 3,
   "id": "72d75817",
   "metadata": {
    "id": "72d75817"
   },
   "outputs": [
    {
     "name": "stdout",
     "output_type": "stream",
     "text": [
      "<class 'pandas.core.frame.DataFrame'>\n",
      "DatetimeIndex: 260 entries, 2021-01-01 to 2021-12-30\n",
      "Data columns (total 6 columns):\n",
      " #   Column     Non-Null Count  Dtype  \n",
      "---  ------     --------------  -----  \n",
      " 0   Open       260 non-null    float64\n",
      " 1   High       260 non-null    float64\n",
      " 2   Low        260 non-null    float64\n",
      " 3   Close      260 non-null    float64\n",
      " 4   Adj Close  260 non-null    float64\n",
      " 5   Volume     260 non-null    int64  \n",
      "dtypes: float64(5), int64(1)\n",
      "memory usage: 14.2 KB\n"
     ]
    }
   ],
   "source": [
    "kur.head(10)\n",
    "kur.describe()\n",
    "kur.info()"
   ]
  },
  {
   "cell_type": "markdown",
   "id": "2a9f8156",
   "metadata": {
    "id": "2a9f8156"
   },
   "source": [
    "3. Veri temizleme: <br>\n",
    "\t• Tabloda sadece \"Adj Close\" (düzeltilmiş kapanış) sütununu bırakınız.<br>\n",
    "\t• \"Adj Close\" sütununu \" Kapanış (TRY)\" olarak yeniden adlandırınız."
   ]
  },
  {
   "cell_type": "code",
   "execution_count": 49,
   "id": "751997e8",
   "metadata": {
    "id": "751997e8"
   },
   "outputs": [
    {
     "name": "stderr",
     "output_type": "stream",
     "text": [
      "<ipython-input-49-16bb29f1de95>:5: SettingWithCopyWarning:\n",
      "\n",
      "\n",
      "A value is trying to be set on a copy of a slice from a DataFrame.\n",
      "Try using .loc[row_indexer,col_indexer] = value instead\n",
      "\n",
      "See the caveats in the documentation: https://pandas.pydata.org/pandas-docs/stable/user_guide/indexing.html#returning-a-view-versus-a-copy\n",
      "\n"
     ]
    }
   ],
   "source": [
    "kur = kur[['Adj Close']]\n",
    "kur.columns = ['Kapanış(EUR/TRY)']\n",
    "B30_2021 = B30_2021[[\"Adj Close\"]]\n",
    "B30_2021.columns = [\"Kapanış (TRY)\"]\n",
    "B30_2021[\"Normalize (TRY)\"] = B30_2021[\"Kapanış (TRY)\"]/B30_2021.iloc[0,0]"
   ]
  },
  {
   "cell_type": "markdown",
   "id": "e52ee64f",
   "metadata": {
    "id": "e52ee64f"
   },
   "source": [
    "4. Tabloya yeni sütun ekleme:<br>\n",
    "\t• Tabloya yeni bir sütun ekleyerek Kapanış (TRY) değerlerini 1 Ocak 2021 tarihindeki kapanış değerine göre normalize ediniz.<br>\n",
    "\t• BIST30 endeksinin 2021 yılı boyunca değişimini yorumlayınız."
   ]
  },
  {
   "cell_type": "code",
   "execution_count": 50,
   "id": "ab1605e1",
   "metadata": {
    "id": "ab1605e1"
   },
   "outputs": [
    {
     "name": "stderr",
     "output_type": "stream",
     "text": [
      "<ipython-input-50-6a45ab889eb2>:1: SettingWithCopyWarning:\n",
      "\n",
      "\n",
      "A value is trying to be set on a copy of a slice from a DataFrame.\n",
      "Try using .loc[row_indexer,col_indexer] = value instead\n",
      "\n",
      "See the caveats in the documentation: https://pandas.pydata.org/pandas-docs/stable/user_guide/indexing.html#returning-a-view-versus-a-copy\n",
      "\n"
     ]
    },
    {
     "data": {
      "text/html": [
       "<div>\n",
       "<style scoped>\n",
       "    .dataframe tbody tr th:only-of-type {\n",
       "        vertical-align: middle;\n",
       "    }\n",
       "\n",
       "    .dataframe tbody tr th {\n",
       "        vertical-align: top;\n",
       "    }\n",
       "\n",
       "    .dataframe thead th {\n",
       "        text-align: right;\n",
       "    }\n",
       "</style>\n",
       "<table border=\"1\" class=\"dataframe\">\n",
       "  <thead>\n",
       "    <tr style=\"text-align: right;\">\n",
       "      <th></th>\n",
       "      <th>Kapanış (TRY)</th>\n",
       "      <th>Normalize (TRY)</th>\n",
       "      <th>Kapanış(EUR/TRY)</th>\n",
       "      <th>Normalize(EUR/TRY)</th>\n",
       "    </tr>\n",
       "    <tr>\n",
       "      <th>Date</th>\n",
       "      <th></th>\n",
       "      <th></th>\n",
       "      <th></th>\n",
       "      <th></th>\n",
       "    </tr>\n",
       "  </thead>\n",
       "  <tbody>\n",
       "    <tr>\n",
       "      <th>2021-01-04</th>\n",
       "      <td>1652.900024</td>\n",
       "      <td>1.000000</td>\n",
       "      <td>9.10568</td>\n",
       "      <td>1.002309</td>\n",
       "    </tr>\n",
       "    <tr>\n",
       "      <th>2021-01-05</th>\n",
       "      <td>1640.400024</td>\n",
       "      <td>0.992438</td>\n",
       "      <td>9.08882</td>\n",
       "      <td>1.000454</td>\n",
       "    </tr>\n",
       "    <tr>\n",
       "      <th>2021-01-06</th>\n",
       "      <td>1657.699951</td>\n",
       "      <td>1.002904</td>\n",
       "      <td>9.08177</td>\n",
       "      <td>0.999678</td>\n",
       "    </tr>\n",
       "    <tr>\n",
       "      <th>2021-01-07</th>\n",
       "      <td>1678.199951</td>\n",
       "      <td>1.015306</td>\n",
       "      <td>9.00614</td>\n",
       "      <td>0.991353</td>\n",
       "    </tr>\n",
       "    <tr>\n",
       "      <th>2021-01-08</th>\n",
       "      <td>1694.400024</td>\n",
       "      <td>1.025107</td>\n",
       "      <td>8.99850</td>\n",
       "      <td>0.990512</td>\n",
       "    </tr>\n",
       "    <tr>\n",
       "      <th>...</th>\n",
       "      <td>...</td>\n",
       "      <td>...</td>\n",
       "      <td>...</td>\n",
       "      <td>...</td>\n",
       "    </tr>\n",
       "    <tr>\n",
       "      <th>2021-12-24</th>\n",
       "      <td>2086.800049</td>\n",
       "      <td>1.262508</td>\n",
       "      <td>12.79752</td>\n",
       "      <td>1.408689</td>\n",
       "    </tr>\n",
       "    <tr>\n",
       "      <th>2021-12-27</th>\n",
       "      <td>2089.399902</td>\n",
       "      <td>1.264081</td>\n",
       "      <td>12.23056</td>\n",
       "      <td>1.346281</td>\n",
       "    </tr>\n",
       "    <tr>\n",
       "      <th>2021-12-28</th>\n",
       "      <td>2032.900024</td>\n",
       "      <td>1.229899</td>\n",
       "      <td>13.05254</td>\n",
       "      <td>1.436761</td>\n",
       "    </tr>\n",
       "    <tr>\n",
       "      <th>2021-12-29</th>\n",
       "      <td>2086.300049</td>\n",
       "      <td>1.262206</td>\n",
       "      <td>13.35252</td>\n",
       "      <td>1.469781</td>\n",
       "    </tr>\n",
       "    <tr>\n",
       "      <th>2021-12-30</th>\n",
       "      <td>2040.199951</td>\n",
       "      <td>1.234315</td>\n",
       "      <td>14.31055</td>\n",
       "      <td>1.575236</td>\n",
       "    </tr>\n",
       "  </tbody>\n",
       "</table>\n",
       "<p>238 rows × 4 columns</p>\n",
       "</div>"
      ],
      "text/plain": [
       "            Kapanış (TRY)  Normalize (TRY)  Kapanış(EUR/TRY)   \n",
       "Date                                                           \n",
       "2021-01-04    1652.900024         1.000000           9.10568  \\\n",
       "2021-01-05    1640.400024         0.992438           9.08882   \n",
       "2021-01-06    1657.699951         1.002904           9.08177   \n",
       "2021-01-07    1678.199951         1.015306           9.00614   \n",
       "2021-01-08    1694.400024         1.025107           8.99850   \n",
       "...                   ...              ...               ...   \n",
       "2021-12-24    2086.800049         1.262508          12.79752   \n",
       "2021-12-27    2089.399902         1.264081          12.23056   \n",
       "2021-12-28    2032.900024         1.229899          13.05254   \n",
       "2021-12-29    2086.300049         1.262206          13.35252   \n",
       "2021-12-30    2040.199951         1.234315          14.31055   \n",
       "\n",
       "            Normalize(EUR/TRY)  \n",
       "Date                            \n",
       "2021-01-04            1.002309  \n",
       "2021-01-05            1.000454  \n",
       "2021-01-06            0.999678  \n",
       "2021-01-07            0.991353  \n",
       "2021-01-08            0.990512  \n",
       "...                        ...  \n",
       "2021-12-24            1.408689  \n",
       "2021-12-27            1.346281  \n",
       "2021-12-28            1.436761  \n",
       "2021-12-29            1.469781  \n",
       "2021-12-30            1.575236  \n",
       "\n",
       "[238 rows x 4 columns]"
      ]
     },
     "execution_count": 50,
     "metadata": {},
     "output_type": "execute_result"
    }
   ],
   "source": [
    "kur['Normalize(EUR/TRY)'] = kur['Kapanış(EUR/TRY)']/kur.iloc[0,0]\n",
    "kur\n",
    "B30K_2021 = B30_2021.merge(kur, left_index=True, right_index=True)\n",
    "B30K_2021\n",
    "#Başlangıçtaki değerden 2 katına çıkmış"
   ]
  },
  {
   "cell_type": "markdown",
   "id": "51139a81",
   "metadata": {
    "id": "51139a81"
   },
   "source": [
    "5. Veriyi grafik olarak inceleyiniz:<br>\n",
    "\t• Tabloyu px grafiği olarak görselleştiriniz.<br>\n",
    "\t• Tabloyu go. grafiği olarak görselleştiriniz."
   ]
  },
  {
   "cell_type": "code",
   "execution_count": 6,
   "id": "46413b1c",
   "metadata": {
    "id": "46413b1c"
   },
   "outputs": [
    {
     "name": "stdout",
     "output_type": "stream",
     "text": [
      "Requirement already satisfied: plotly==5.14.1 in c:\\users\\seros\\anaconda3\\lib\\site-packages (5.14.1)\n",
      "Requirement already satisfied: tenacity>=6.2.0 in c:\\users\\seros\\anaconda3\\lib\\site-packages (from plotly==5.14.1) (8.2.2)\n",
      "Requirement already satisfied: packaging in c:\\users\\seros\\anaconda3\\lib\\site-packages (from plotly==5.14.1) (23.0)\n",
      "Note: you may need to restart the kernel to use updated packages.\n"
     ]
    }
   ],
   "source": [
    "pip install plotly==5.14.1"
   ]
  },
  {
   "cell_type": "code",
   "execution_count": 54,
   "id": "9194833e",
   "metadata": {},
   "outputs": [
    {
     "data": {
      "application/vnd.plotly.v1+json": {
       "config": {
        "plotlyServerURL": "https://plot.ly"
       },
       "data": [
        {
         "customdata": [
          [
           9.084699630737305
          ],
          [
           9.105680465698242
          ],
          [
           9.088820457458496
          ],
          [
           9.081769943237305
          ],
          [
           9.006139755249023
          ],
          [
           8.998499870300293
          ],
          [
           8.963089942932129
          ],
          [
           9.091500282287598
          ],
          [
           9.091400146484375
          ],
          [
           9.00059986114502
          ],
          [
           8.948639869689941
          ],
          [
           8.98705005645752
          ],
          [
           9.02791976928711
          ],
          [
           9.061829566955566
          ],
          [
           8.981459617614746
          ],
          [
           8.962420463562012
          ],
          [
           9.025979995727539
          ],
          [
           8.994020462036133
          ],
          [
           8.93513011932373
          ],
          [
           8.955249786376953
          ],
          [
           8.902569770812988
          ],
          [
           8.824990272521973
          ],
          [
           8.678030014038086
          ],
          [
           8.658780097961426
          ],
          [
           8.611419677734375
          ],
          [
           8.537210464477539
          ],
          [
           8.500100135803223
          ],
          [
           8.530200004577637
          ],
          [
           8.559000015258789
          ],
          [
           8.543990135192871
          ],
          [
           8.52593994140625
          ],
          [
           8.52046012878418
          ],
          [
           8.441969871520996
          ],
          [
           8.441590309143066
          ],
          [
           8.387260437011719
          ],
          [
           8.421699523925781
          ],
          [
           8.461910247802734
          ],
          [
           8.53573989868164
          ],
          [
           8.640850067138672
          ],
          [
           8.720800399780273
          ],
          [
           8.904669761657715
          ],
          [
           8.9612398147583
          ],
          [
           8.757920265197754
          ],
          [
           8.878450393676758
          ],
          [
           8.9824800491333
          ],
          [
           8.985899925231934
          ],
          [
           8.952899932861328
          ],
          [
           9.191349983215332
          ],
          [
           9.045289993286133
          ],
          [
           8.93101978302002
          ],
          [
           8.943429946899414
          ],
          [
           9.028590202331543
          ],
          [
           8.980460166931152
          ],
          [
           8.904580116271973
          ],
          [
           8.971779823303223
          ],
          [
           8.722789764404297
          ],
          [
           9.629449844360352
          ],
          [
           9.323619842529297
          ],
          [
           9.391130447387695
          ],
          [
           9.351699829101562
          ],
          [
           9.327679634094238
          ],
          [
           9.5595703125
          ],
          [
           9.711270332336426
          ],
          [
           9.748299598693848
          ],
          [
           9.686530113220215
          ],
          [
           9.547579765319824
          ],
          [
           9.628640174865723
          ],
          [
           9.586359977722168
          ],
          [
           9.65641975402832
          ],
          [
           9.667570114135742
          ],
          [
           9.702859878540039
          ],
          [
           9.707460403442383
          ],
          [
           9.703940391540527
          ],
          [
           9.68908977508545
          ],
          [
           9.674360275268555
          ],
          [
           9.610150337219238
          ],
          [
           9.668660163879395
          ],
          [
           9.732749938964844
          ],
          [
           9.75037956237793
          ],
          [
           9.859210014343262
          ],
          [
           9.977120399475098
          ],
          [
           10.164250373840332
          ],
          [
           10.000069618225098
          ],
          [
           9.92018985748291
          ],
          [
           9.930899620056152
          ],
          [
           9.923589706420898
          ],
          [
           9.951720237731934
          ],
          [
           9.948659896850586
          ],
          [
           9.986169815063477
          ],
          [
           9.98639965057373
          ],
          [
           9.985819816589355
          ],
          [
           10.01593017578125
          ],
          [
           10.028730392456055
          ],
          [
           10.072979927062988
          ],
          [
           10.183890342712402
          ],
          [
           10.267800331115723
          ],
          [
           10.260649681091309
          ],
          [
           10.092100143432617
          ],
          [
           10.216259956359863
          ],
          [
           10.22620964050293
          ],
          [
           10.231940269470215
          ],
          [
           10.259599685668945
          ],
          [
           10.23071002960205
          ],
          [
           10.354100227355957
          ],
          [
           10.305500030517578
          ],
          [
           10.347559928894043
          ],
          [
           10.441610336303711
          ],
          [
           10.377360343933105
          ],
          [
           10.531259536743164
          ],
          [
           10.476090431213379
          ],
          [
           10.554800033569336
          ],
          [
           10.554590225219727
          ],
          [
           10.48036003112793
          ],
          [
           10.468629837036133
          ],
          [
           10.449799537658691
          ],
          [
           10.252229690551758
          ],
          [
           10.146430015563965
          ],
          [
           10.249879837036133
          ],
          [
           10.362469673156738
          ],
          [
           10.329859733581543
          ],
          [
           10.380069732666016
          ],
          [
           10.389389991760254
          ],
          [
           10.451530456542969
          ],
          [
           10.311690330505371
          ],
          [
           10.293140411376953
          ],
          [
           10.37483024597168
          ],
          [
           10.445099830627441
          ],
          [
           10.363100051879883
          ],
          [
           10.38403034210205
          ],
          [
           10.309849739074707
          ],
          [
           10.267620086669922
          ],
          [
           10.297900199890137
          ],
          [
           10.273480415344238
          ],
          [
           10.267319679260254
          ],
          [
           10.23429012298584
          ],
          [
           10.2806396484375
          ],
          [
           10.273550033569336
          ],
          [
           10.251859664916992
          ],
          [
           10.147850036621094
          ],
          [
           10.174750328063965
          ],
          [
           10.111289978027344
          ],
          [
           10.077500343322754
          ],
          [
           10.113510131835938
          ],
          [
           10.096790313720703
          ],
          [
           10.086640357971191
          ],
          [
           10.078240394592285
          ],
          [
           10.06270980834961
          ],
          [
           10.097579956054688
          ],
          [
           10.113240242004395
          ],
          [
           10.129220008850098
          ],
          [
           10.050559997558594
          ],
          [
           10.009289741516113
          ],
          [
           9.910849571228027
          ],
          [
           9.967430114746094
          ],
          [
           10.027950286865234
          ],
          [
           10.085869789123535
          ],
          [
           10.12539005279541
          ],
          [
           10.150629997253418
          ],
          [
           10.078200340270996
          ],
          [
           10.127559661865234
          ],
          [
           10.046730041503906
          ],
          [
           10.03462028503418
          ],
          [
           9.959890365600586
          ],
          [
           9.866789817810059
          ],
          [
           9.892820358276367
          ],
          [
           9.951189994812012
          ],
          [
           9.923060417175293
          ],
          [
           9.895999908447266
          ],
          [
           9.884320259094238
          ],
          [
           9.856809616088867
          ],
          [
           9.845049858093262
          ],
          [
           9.849459648132324
          ],
          [
           9.86913013458252
          ],
          [
           9.807279586791992
          ],
          [
           9.808480262756348
          ],
          [
           9.829170227050781
          ],
          [
           9.878809928894043
          ],
          [
           9.827019691467285
          ],
          [
           9.884690284729004
          ],
          [
           10.022439956665039
          ],
          [
           9.98490047454834
          ],
          [
           9.991009712219238
          ],
          [
           9.950750350952148
          ],
          [
           9.949959754943848
          ],
          [
           9.960140228271484
          ],
          [
           10.034119606018066
          ],
          [
           10.132869720458984
          ],
          [
           10.160090446472168
          ],
          [
           10.106789588928223
          ],
          [
           10.11633014678955
          ],
          [
           10.27970027923584
          ],
          [
           10.390159606933594
          ],
          [
           10.312219619750977
          ],
          [
           10.360340118408203
          ],
          [
           10.343790054321289
          ],
          [
           10.281330108642578
          ],
          [
           10.27001953125
          ],
          [
           10.281740188598633
          ],
          [
           10.275799751281738
          ],
          [
           10.245739936828613
          ],
          [
           10.253870010375977
          ],
          [
           10.357609748840332
          ],
          [
           10.391770362854004
          ],
          [
           10.421799659729004
          ],
          [
           10.605690002441406
          ],
          [
           10.649100303649902
          ],
          [
           10.711170196533203
          ],
          [
           10.84708023071289
          ],
          [
           10.822750091552734
          ],
          [
           10.737460136413574
          ],
          [
           11.081089973449707
          ],
          [
           11.2837495803833
          ],
          [
           11.125009536743164
          ],
          [
           11.057860374450684
          ],
          [
           11.003230094909668
          ],
          [
           11.12714958190918
          ],
          [
           11.07334041595459
          ],
          [
           11.06544017791748
          ],
          [
           11.115610122680664
          ],
          [
           11.193920135498047
          ],
          [
           11.19791030883789
          ],
          [
           11.210180282592773
          ],
          [
           11.220459938049316
          ],
          [
           11.2752103805542
          ],
          [
           11.298100471496582
          ],
          [
           11.354840278625488
          ],
          [
           11.47488021850586
          ],
          [
           11.426609992980957
          ],
          [
           11.698539733886719
          ],
          [
           12.144669532775879
          ],
          [
           12.546449661254883
          ],
          [
           12.52748966217041
          ],
          [
           12.774709701538086
          ],
          [
           14.37086009979248
          ],
          [
           13.302319526672363
          ],
          [
           13.390170097351074
          ],
          [
           13.929229736328125
          ],
          [
           14.347000122070312
          ],
          [
           15.297340393066406
          ],
          [
           15.21780014038086
          ],
          [
           15.47776985168457
          ],
          [
           15.455060005187988
          ],
          [
           15.551799774169922
          ],
          [
           15.246600151062012
          ],
          [
           15.492899894714355
          ],
          [
           15.556090354919434
          ],
          [
           15.667590141296387
          ],
          [
           15.574390411376953
          ],
          [
           16.1677303314209
          ],
          [
           16.693090438842773
          ],
          [
           17.73232078552246
          ],
          [
           18.655109405517578
          ],
          [
           15.332039833068848
          ],
          [
           13.84982967376709
          ],
          [
           13.57863998413086
          ],
          [
           12.79751968383789
          ],
          [
           12.230560302734375
          ],
          [
           13.052539825439453
          ],
          [
           13.352519989013672
          ],
          [
           14.31054973602295
          ]
         ],
         "hovertemplate": "Tarih=%{x}<br>Normalize(EUR/TRY)=%{y}<br>Kapanış(EUR/TRY)=%{customdata[0]:.0f}<extra></extra>",
         "legendgroup": "",
         "line": {
          "color": "#636efa",
          "dash": "solid"
         },
         "marker": {
          "symbol": "circle"
         },
         "mode": "lines",
         "name": "",
         "orientation": "v",
         "showlegend": false,
         "type": "scatter",
         "x": [
          "2021-01-01T00:00:00",
          "2021-01-04T00:00:00",
          "2021-01-05T00:00:00",
          "2021-01-06T00:00:00",
          "2021-01-07T00:00:00",
          "2021-01-08T00:00:00",
          "2021-01-11T00:00:00",
          "2021-01-12T00:00:00",
          "2021-01-13T00:00:00",
          "2021-01-14T00:00:00",
          "2021-01-15T00:00:00",
          "2021-01-18T00:00:00",
          "2021-01-19T00:00:00",
          "2021-01-20T00:00:00",
          "2021-01-21T00:00:00",
          "2021-01-22T00:00:00",
          "2021-01-25T00:00:00",
          "2021-01-26T00:00:00",
          "2021-01-27T00:00:00",
          "2021-01-28T00:00:00",
          "2021-01-29T00:00:00",
          "2021-02-01T00:00:00",
          "2021-02-02T00:00:00",
          "2021-02-03T00:00:00",
          "2021-02-04T00:00:00",
          "2021-02-05T00:00:00",
          "2021-02-08T00:00:00",
          "2021-02-09T00:00:00",
          "2021-02-10T00:00:00",
          "2021-02-11T00:00:00",
          "2021-02-12T00:00:00",
          "2021-02-15T00:00:00",
          "2021-02-16T00:00:00",
          "2021-02-17T00:00:00",
          "2021-02-18T00:00:00",
          "2021-02-19T00:00:00",
          "2021-02-22T00:00:00",
          "2021-02-23T00:00:00",
          "2021-02-24T00:00:00",
          "2021-02-25T00:00:00",
          "2021-02-26T00:00:00",
          "2021-03-01T00:00:00",
          "2021-03-02T00:00:00",
          "2021-03-03T00:00:00",
          "2021-03-04T00:00:00",
          "2021-03-05T00:00:00",
          "2021-03-08T00:00:00",
          "2021-03-09T00:00:00",
          "2021-03-10T00:00:00",
          "2021-03-11T00:00:00",
          "2021-03-12T00:00:00",
          "2021-03-15T00:00:00",
          "2021-03-16T00:00:00",
          "2021-03-17T00:00:00",
          "2021-03-18T00:00:00",
          "2021-03-19T00:00:00",
          "2021-03-22T00:00:00",
          "2021-03-23T00:00:00",
          "2021-03-24T00:00:00",
          "2021-03-25T00:00:00",
          "2021-03-26T00:00:00",
          "2021-03-29T00:00:00",
          "2021-03-30T00:00:00",
          "2021-03-31T00:00:00",
          "2021-04-01T00:00:00",
          "2021-04-02T00:00:00",
          "2021-04-05T00:00:00",
          "2021-04-06T00:00:00",
          "2021-04-07T00:00:00",
          "2021-04-08T00:00:00",
          "2021-04-09T00:00:00",
          "2021-04-12T00:00:00",
          "2021-04-13T00:00:00",
          "2021-04-14T00:00:00",
          "2021-04-15T00:00:00",
          "2021-04-16T00:00:00",
          "2021-04-19T00:00:00",
          "2021-04-20T00:00:00",
          "2021-04-21T00:00:00",
          "2021-04-22T00:00:00",
          "2021-04-23T00:00:00",
          "2021-04-26T00:00:00",
          "2021-04-27T00:00:00",
          "2021-04-28T00:00:00",
          "2021-04-29T00:00:00",
          "2021-04-30T00:00:00",
          "2021-05-03T00:00:00",
          "2021-05-04T00:00:00",
          "2021-05-05T00:00:00",
          "2021-05-06T00:00:00",
          "2021-05-07T00:00:00",
          "2021-05-10T00:00:00",
          "2021-05-11T00:00:00",
          "2021-05-12T00:00:00",
          "2021-05-13T00:00:00",
          "2021-05-14T00:00:00",
          "2021-05-17T00:00:00",
          "2021-05-18T00:00:00",
          "2021-05-19T00:00:00",
          "2021-05-20T00:00:00",
          "2021-05-21T00:00:00",
          "2021-05-24T00:00:00",
          "2021-05-25T00:00:00",
          "2021-05-26T00:00:00",
          "2021-05-27T00:00:00",
          "2021-05-28T00:00:00",
          "2021-05-31T00:00:00",
          "2021-06-01T00:00:00",
          "2021-06-02T00:00:00",
          "2021-06-03T00:00:00",
          "2021-06-04T00:00:00",
          "2021-06-07T00:00:00",
          "2021-06-08T00:00:00",
          "2021-06-09T00:00:00",
          "2021-06-10T00:00:00",
          "2021-06-11T00:00:00",
          "2021-06-14T00:00:00",
          "2021-06-15T00:00:00",
          "2021-06-16T00:00:00",
          "2021-06-17T00:00:00",
          "2021-06-18T00:00:00",
          "2021-06-21T00:00:00",
          "2021-06-22T00:00:00",
          "2021-06-23T00:00:00",
          "2021-06-24T00:00:00",
          "2021-06-25T00:00:00",
          "2021-06-28T00:00:00",
          "2021-06-29T00:00:00",
          "2021-06-30T00:00:00",
          "2021-07-01T00:00:00",
          "2021-07-02T00:00:00",
          "2021-07-05T00:00:00",
          "2021-07-06T00:00:00",
          "2021-07-07T00:00:00",
          "2021-07-08T00:00:00",
          "2021-07-09T00:00:00",
          "2021-07-12T00:00:00",
          "2021-07-13T00:00:00",
          "2021-07-14T00:00:00",
          "2021-07-15T00:00:00",
          "2021-07-16T00:00:00",
          "2021-07-19T00:00:00",
          "2021-07-20T00:00:00",
          "2021-07-21T00:00:00",
          "2021-07-22T00:00:00",
          "2021-07-23T00:00:00",
          "2021-07-26T00:00:00",
          "2021-07-27T00:00:00",
          "2021-07-28T00:00:00",
          "2021-07-29T00:00:00",
          "2021-07-30T00:00:00",
          "2021-08-02T00:00:00",
          "2021-08-03T00:00:00",
          "2021-08-04T00:00:00",
          "2021-08-05T00:00:00",
          "2021-08-06T00:00:00",
          "2021-08-09T00:00:00",
          "2021-08-10T00:00:00",
          "2021-08-11T00:00:00",
          "2021-08-12T00:00:00",
          "2021-08-13T00:00:00",
          "2021-08-16T00:00:00",
          "2021-08-17T00:00:00",
          "2021-08-18T00:00:00",
          "2021-08-19T00:00:00",
          "2021-08-20T00:00:00",
          "2021-08-23T00:00:00",
          "2021-08-24T00:00:00",
          "2021-08-25T00:00:00",
          "2021-08-26T00:00:00",
          "2021-08-27T00:00:00",
          "2021-08-30T00:00:00",
          "2021-08-31T00:00:00",
          "2021-09-01T00:00:00",
          "2021-09-02T00:00:00",
          "2021-09-03T00:00:00",
          "2021-09-06T00:00:00",
          "2021-09-07T00:00:00",
          "2021-09-08T00:00:00",
          "2021-09-09T00:00:00",
          "2021-09-10T00:00:00",
          "2021-09-13T00:00:00",
          "2021-09-14T00:00:00",
          "2021-09-15T00:00:00",
          "2021-09-16T00:00:00",
          "2021-09-17T00:00:00",
          "2021-09-20T00:00:00",
          "2021-09-21T00:00:00",
          "2021-09-22T00:00:00",
          "2021-09-23T00:00:00",
          "2021-09-24T00:00:00",
          "2021-09-27T00:00:00",
          "2021-09-28T00:00:00",
          "2021-09-29T00:00:00",
          "2021-09-30T00:00:00",
          "2021-10-01T00:00:00",
          "2021-10-04T00:00:00",
          "2021-10-05T00:00:00",
          "2021-10-06T00:00:00",
          "2021-10-07T00:00:00",
          "2021-10-08T00:00:00",
          "2021-10-11T00:00:00",
          "2021-10-12T00:00:00",
          "2021-10-13T00:00:00",
          "2021-10-14T00:00:00",
          "2021-10-15T00:00:00",
          "2021-10-18T00:00:00",
          "2021-10-19T00:00:00",
          "2021-10-20T00:00:00",
          "2021-10-21T00:00:00",
          "2021-10-22T00:00:00",
          "2021-10-25T00:00:00",
          "2021-10-26T00:00:00",
          "2021-10-27T00:00:00",
          "2021-10-28T00:00:00",
          "2021-10-29T00:00:00",
          "2021-11-01T00:00:00",
          "2021-11-02T00:00:00",
          "2021-11-03T00:00:00",
          "2021-11-04T00:00:00",
          "2021-11-05T00:00:00",
          "2021-11-08T00:00:00",
          "2021-11-09T00:00:00",
          "2021-11-10T00:00:00",
          "2021-11-11T00:00:00",
          "2021-11-12T00:00:00",
          "2021-11-15T00:00:00",
          "2021-11-16T00:00:00",
          "2021-11-17T00:00:00",
          "2021-11-18T00:00:00",
          "2021-11-19T00:00:00",
          "2021-11-22T00:00:00",
          "2021-11-23T00:00:00",
          "2021-11-24T00:00:00",
          "2021-11-25T00:00:00",
          "2021-11-26T00:00:00",
          "2021-11-29T00:00:00",
          "2021-11-30T00:00:00",
          "2021-12-01T00:00:00",
          "2021-12-02T00:00:00",
          "2021-12-03T00:00:00",
          "2021-12-06T00:00:00",
          "2021-12-07T00:00:00",
          "2021-12-08T00:00:00",
          "2021-12-09T00:00:00",
          "2021-12-10T00:00:00",
          "2021-12-13T00:00:00",
          "2021-12-14T00:00:00",
          "2021-12-15T00:00:00",
          "2021-12-16T00:00:00",
          "2021-12-17T00:00:00",
          "2021-12-20T00:00:00",
          "2021-12-21T00:00:00",
          "2021-12-22T00:00:00",
          "2021-12-23T00:00:00",
          "2021-12-24T00:00:00",
          "2021-12-27T00:00:00",
          "2021-12-28T00:00:00",
          "2021-12-29T00:00:00",
          "2021-12-30T00:00:00"
         ],
         "xaxis": "x",
         "y": [
          1,
          1.002309469307048,
          1.0004536007670797,
          0.999677514104034,
          0.9913525071073918,
          0.9905115453519936,
          0.9866137910169622,
          1.0007485829831164,
          1.000737560515969,
          0.9907427022344536,
          0.9850231965196717,
          0.9892512049656109,
          0.9937499461998628,
          0.9974825734794401,
          0.9886358363711603,
          0.9865400979508918,
          0.9935364252648384,
          0.9900184736549388,
          0.9835361082376881,
          0.9857507843272695,
          0.9799520218249048,
          0.9714124441344624,
          0.9552357663732451,
          0.9531168282840287,
          0.9479036212268783,
          0.9397350282878497,
          0.9356501019630699,
          0.9389633506116629,
          0.9421335171390967,
          0.940481301801659,
          0.9384944233664546,
          0.9378912319738048,
          0.9292514023202608,
          0.9292096219209788,
          0.9232292511503781,
          0.9270201400420197,
          0.9314463429448547,
          0.9395731554846012,
          0.951143176809401,
          0.9599437245315399,
          0.9801831787073648,
          0.9864101378144317,
          0.9640297006150956,
          0.977297076904698,
          0.9887481605601849,
          0.9891246040572337,
          0.98549212376488,
          1.0117395573671126,
          0.9956619768343432,
          0.9830836622052619,
          0.9844497133003807,
          0.9938237442418106,
          0.9885258216514428,
          0.980173310974871,
          0.9875703312135904,
          0.9601627042121991,
          1.059963480991703,
          1.0262991867098858,
          1.0337304290847007,
          1.029390096449737,
          1.0267460690207997,
          1.052271478536947,
          1.0689698864098018,
          1.0730458897849864,
          1.066246602193282,
          1.0509516168279691,
          1.0598743564716264,
          1.0552203559144144,
          1.0629321988100355,
          1.0641595767708538,
          1.0680441041453084,
          1.0685505077788175,
          1.0681630418146215,
          1.0665283574487419,
          1.0649070050193166,
          1.0578390841568517,
          1.0642795641989427,
          1.071334258100831,
          1.0732748421740168,
          1.0852543743973073,
          1.0982333819511614,
          1.1188317486524773,
          1.1007595214695616,
          1.0919667419623644,
          1.0931456210677348,
          1.0923409809659839,
          1.095437454427347,
          1.095100586836151,
          1.0992294980536423,
          1.099254797240142,
          1.0991909719065656,
          1.1025053752898122,
          1.1039143615188667,
          1.1087851372633082,
          1.1209936218756291,
          1.1302300294415346,
          1.1294429203113416,
          1.110889798633172,
          1.1245567131128937,
          1.1256519264438225,
          1.1262827264922792,
          1.1293273418701117,
          1.1261473076101842,
          1.1397295065566884,
          1.134379830858667,
          1.139009581988155,
          1.1493621980605078,
          1.1422898682111837,
          1.1592303504577683,
          1.1531576009148858,
          1.161821575020276,
          1.1617984803272057,
          1.15362757791887,
          1.152336374624475,
          1.1502636259213994,
          1.1285160882880723,
          1.1168701694037728,
          1.128257427725683,
          1.1406507748584453,
          1.1370612297000273,
          1.1425881046794257,
          1.143614033931143,
          1.150454157139231,
          1.1350612292801237,
          1.1330193434850606,
          1.1420113672079293,
          1.1497463047966208,
          1.1407201639135343,
          1.1430240694990699,
          1.134858625836369,
          1.1302101890006695,
          1.1335432780901276,
          1.1308552657684792,
          1.1301771215992278,
          1.1265413870546688,
          1.1316433196815703,
          1.1308629290075434,
          1.1284753576475661,
          1.1170264784855088,
          1.119987533064777,
          1.1130021232421001,
          1.1092827229230995,
          1.113246507085137,
          1.1114060699991748,
          1.1102888117339516,
          1.1093641842041118,
          1.1076546520375083,
          1.111492990025822,
          1.113216798911778,
          1.114975774716728,
          1.1063172593569723,
          1.1017744282541315,
          1.0909386082172177,
          1.097166722058938,
          1.1038284912509955,
          1.1102039912248565,
          1.114554191592314,
          1.1173324831686926,
          1.1093597752172528,
          1.1147930117138383,
          1.1058956762325585,
          1.1045626925388814,
          1.0963367827706871,
          1.0860887226724172,
          1.0889540392513204,
          1.0953790878394054,
          1.0922827193539197,
          1.0893040288272158,
          1.0880183892543331,
          1.0849901501134054,
          1.083695692566805,
          1.0841811010247955,
          1.0863463334760306,
          1.0795381229347307,
          1.0796702875646205,
          1.0819477392290027,
          1.0874118386336005,
          1.08171101862503,
          1.0880591198948393,
          1.1032219406302626,
          1.099089775160566,
          1.0997622506324272,
          1.095330693959835,
          1.0952436689573104,
          1.0963642864506165,
          1.1045075802031452,
          1.1153775174002767,
          1.1183738438744162,
          1.1125067420757384,
          1.1135569207551796,
          1.131539918442141,
          1.1436987494643607,
          1.1351194908921878,
          1.1404163637237799,
          1.1385946123440294,
          1.1317193222169477,
          1.1304743083086937,
          1.1317644618443128,
          1.1311105671027855,
          1.1278017274410512,
          1.1286966467975323,
          1.140115817786231,
          1.1438760537216153,
          1.1471815341552665,
          1.1674232978003984,
          1.1722016947725582,
          1.1790340497657044,
          1.1939943720332504,
          1.1913162274440956,
          1.181927919783313,
          1.2197530379494097,
          1.2420608318414512,
          1.224587492040204,
          1.2171960355229972,
          1.2111825973509547,
          1.224823057909523,
          1.2189000039680882,
          1.218030383798107,
          1.2235528497906467,
          1.2321728390033255,
          1.232612058075175,
          1.2339626777162875,
          1.2350942127008635,
          1.2411208778334826,
          1.243640508847472,
          1.2498861536607504,
          1.26309957234927,
          1.2577862183048958,
          1.2877189350659113,
          1.3368267555798352,
          1.3810527778821704,
          1.3789657524597423,
          1.406178544232321,
          1.581875095921708,
          1.4642552937760431,
          1.4739254616681632,
          1.5332625515982683,
          1.5792487044402066,
          1.6838575863652292,
          1.6751021782704552,
          1.7037183925505759,
          1.7012186019774516,
          1.7118672500246168,
          1.678272344797889,
          1.7053838348485901,
          1.7123395364979082,
          1.7246128962025815,
          1.7143539186130419,
          1.7796659205681127,
          1.8374950320165928,
          1.951888505540312,
          2.05346463436167,
          1.6876771336714536,
          1.5245225749575004,
          1.4946713194774972,
          1.4086893572725923,
          1.3462811980435017,
          1.4367607467480048,
          1.4697811189966659,
          1.5752364214227212
         ],
         "yaxis": "y"
        }
       ],
       "layout": {
        "height": 500,
        "legend": {
         "tracegroupgap": 0
        },
        "template": {
         "data": {
          "bar": [
           {
            "error_x": {
             "color": "#2a3f5f"
            },
            "error_y": {
             "color": "#2a3f5f"
            },
            "marker": {
             "line": {
              "color": "#E5ECF6",
              "width": 0.5
             },
             "pattern": {
              "fillmode": "overlay",
              "size": 10,
              "solidity": 0.2
             }
            },
            "type": "bar"
           }
          ],
          "barpolar": [
           {
            "marker": {
             "line": {
              "color": "#E5ECF6",
              "width": 0.5
             },
             "pattern": {
              "fillmode": "overlay",
              "size": 10,
              "solidity": 0.2
             }
            },
            "type": "barpolar"
           }
          ],
          "carpet": [
           {
            "aaxis": {
             "endlinecolor": "#2a3f5f",
             "gridcolor": "white",
             "linecolor": "white",
             "minorgridcolor": "white",
             "startlinecolor": "#2a3f5f"
            },
            "baxis": {
             "endlinecolor": "#2a3f5f",
             "gridcolor": "white",
             "linecolor": "white",
             "minorgridcolor": "white",
             "startlinecolor": "#2a3f5f"
            },
            "type": "carpet"
           }
          ],
          "choropleth": [
           {
            "colorbar": {
             "outlinewidth": 0,
             "ticks": ""
            },
            "type": "choropleth"
           }
          ],
          "contour": [
           {
            "colorbar": {
             "outlinewidth": 0,
             "ticks": ""
            },
            "colorscale": [
             [
              0,
              "#0d0887"
             ],
             [
              0.1111111111111111,
              "#46039f"
             ],
             [
              0.2222222222222222,
              "#7201a8"
             ],
             [
              0.3333333333333333,
              "#9c179e"
             ],
             [
              0.4444444444444444,
              "#bd3786"
             ],
             [
              0.5555555555555556,
              "#d8576b"
             ],
             [
              0.6666666666666666,
              "#ed7953"
             ],
             [
              0.7777777777777778,
              "#fb9f3a"
             ],
             [
              0.8888888888888888,
              "#fdca26"
             ],
             [
              1,
              "#f0f921"
             ]
            ],
            "type": "contour"
           }
          ],
          "contourcarpet": [
           {
            "colorbar": {
             "outlinewidth": 0,
             "ticks": ""
            },
            "type": "contourcarpet"
           }
          ],
          "heatmap": [
           {
            "colorbar": {
             "outlinewidth": 0,
             "ticks": ""
            },
            "colorscale": [
             [
              0,
              "#0d0887"
             ],
             [
              0.1111111111111111,
              "#46039f"
             ],
             [
              0.2222222222222222,
              "#7201a8"
             ],
             [
              0.3333333333333333,
              "#9c179e"
             ],
             [
              0.4444444444444444,
              "#bd3786"
             ],
             [
              0.5555555555555556,
              "#d8576b"
             ],
             [
              0.6666666666666666,
              "#ed7953"
             ],
             [
              0.7777777777777778,
              "#fb9f3a"
             ],
             [
              0.8888888888888888,
              "#fdca26"
             ],
             [
              1,
              "#f0f921"
             ]
            ],
            "type": "heatmap"
           }
          ],
          "heatmapgl": [
           {
            "colorbar": {
             "outlinewidth": 0,
             "ticks": ""
            },
            "colorscale": [
             [
              0,
              "#0d0887"
             ],
             [
              0.1111111111111111,
              "#46039f"
             ],
             [
              0.2222222222222222,
              "#7201a8"
             ],
             [
              0.3333333333333333,
              "#9c179e"
             ],
             [
              0.4444444444444444,
              "#bd3786"
             ],
             [
              0.5555555555555556,
              "#d8576b"
             ],
             [
              0.6666666666666666,
              "#ed7953"
             ],
             [
              0.7777777777777778,
              "#fb9f3a"
             ],
             [
              0.8888888888888888,
              "#fdca26"
             ],
             [
              1,
              "#f0f921"
             ]
            ],
            "type": "heatmapgl"
           }
          ],
          "histogram": [
           {
            "marker": {
             "pattern": {
              "fillmode": "overlay",
              "size": 10,
              "solidity": 0.2
             }
            },
            "type": "histogram"
           }
          ],
          "histogram2d": [
           {
            "colorbar": {
             "outlinewidth": 0,
             "ticks": ""
            },
            "colorscale": [
             [
              0,
              "#0d0887"
             ],
             [
              0.1111111111111111,
              "#46039f"
             ],
             [
              0.2222222222222222,
              "#7201a8"
             ],
             [
              0.3333333333333333,
              "#9c179e"
             ],
             [
              0.4444444444444444,
              "#bd3786"
             ],
             [
              0.5555555555555556,
              "#d8576b"
             ],
             [
              0.6666666666666666,
              "#ed7953"
             ],
             [
              0.7777777777777778,
              "#fb9f3a"
             ],
             [
              0.8888888888888888,
              "#fdca26"
             ],
             [
              1,
              "#f0f921"
             ]
            ],
            "type": "histogram2d"
           }
          ],
          "histogram2dcontour": [
           {
            "colorbar": {
             "outlinewidth": 0,
             "ticks": ""
            },
            "colorscale": [
             [
              0,
              "#0d0887"
             ],
             [
              0.1111111111111111,
              "#46039f"
             ],
             [
              0.2222222222222222,
              "#7201a8"
             ],
             [
              0.3333333333333333,
              "#9c179e"
             ],
             [
              0.4444444444444444,
              "#bd3786"
             ],
             [
              0.5555555555555556,
              "#d8576b"
             ],
             [
              0.6666666666666666,
              "#ed7953"
             ],
             [
              0.7777777777777778,
              "#fb9f3a"
             ],
             [
              0.8888888888888888,
              "#fdca26"
             ],
             [
              1,
              "#f0f921"
             ]
            ],
            "type": "histogram2dcontour"
           }
          ],
          "mesh3d": [
           {
            "colorbar": {
             "outlinewidth": 0,
             "ticks": ""
            },
            "type": "mesh3d"
           }
          ],
          "parcoords": [
           {
            "line": {
             "colorbar": {
              "outlinewidth": 0,
              "ticks": ""
             }
            },
            "type": "parcoords"
           }
          ],
          "pie": [
           {
            "automargin": true,
            "type": "pie"
           }
          ],
          "scatter": [
           {
            "fillpattern": {
             "fillmode": "overlay",
             "size": 10,
             "solidity": 0.2
            },
            "type": "scatter"
           }
          ],
          "scatter3d": [
           {
            "line": {
             "colorbar": {
              "outlinewidth": 0,
              "ticks": ""
             }
            },
            "marker": {
             "colorbar": {
              "outlinewidth": 0,
              "ticks": ""
             }
            },
            "type": "scatter3d"
           }
          ],
          "scattercarpet": [
           {
            "marker": {
             "colorbar": {
              "outlinewidth": 0,
              "ticks": ""
             }
            },
            "type": "scattercarpet"
           }
          ],
          "scattergeo": [
           {
            "marker": {
             "colorbar": {
              "outlinewidth": 0,
              "ticks": ""
             }
            },
            "type": "scattergeo"
           }
          ],
          "scattergl": [
           {
            "marker": {
             "colorbar": {
              "outlinewidth": 0,
              "ticks": ""
             }
            },
            "type": "scattergl"
           }
          ],
          "scattermapbox": [
           {
            "marker": {
             "colorbar": {
              "outlinewidth": 0,
              "ticks": ""
             }
            },
            "type": "scattermapbox"
           }
          ],
          "scatterpolar": [
           {
            "marker": {
             "colorbar": {
              "outlinewidth": 0,
              "ticks": ""
             }
            },
            "type": "scatterpolar"
           }
          ],
          "scatterpolargl": [
           {
            "marker": {
             "colorbar": {
              "outlinewidth": 0,
              "ticks": ""
             }
            },
            "type": "scatterpolargl"
           }
          ],
          "scatterternary": [
           {
            "marker": {
             "colorbar": {
              "outlinewidth": 0,
              "ticks": ""
             }
            },
            "type": "scatterternary"
           }
          ],
          "surface": [
           {
            "colorbar": {
             "outlinewidth": 0,
             "ticks": ""
            },
            "colorscale": [
             [
              0,
              "#0d0887"
             ],
             [
              0.1111111111111111,
              "#46039f"
             ],
             [
              0.2222222222222222,
              "#7201a8"
             ],
             [
              0.3333333333333333,
              "#9c179e"
             ],
             [
              0.4444444444444444,
              "#bd3786"
             ],
             [
              0.5555555555555556,
              "#d8576b"
             ],
             [
              0.6666666666666666,
              "#ed7953"
             ],
             [
              0.7777777777777778,
              "#fb9f3a"
             ],
             [
              0.8888888888888888,
              "#fdca26"
             ],
             [
              1,
              "#f0f921"
             ]
            ],
            "type": "surface"
           }
          ],
          "table": [
           {
            "cells": {
             "fill": {
              "color": "#EBF0F8"
             },
             "line": {
              "color": "white"
             }
            },
            "header": {
             "fill": {
              "color": "#C8D4E3"
             },
             "line": {
              "color": "white"
             }
            },
            "type": "table"
           }
          ]
         },
         "layout": {
          "annotationdefaults": {
           "arrowcolor": "#2a3f5f",
           "arrowhead": 0,
           "arrowwidth": 1
          },
          "autotypenumbers": "strict",
          "coloraxis": {
           "colorbar": {
            "outlinewidth": 0,
            "ticks": ""
           }
          },
          "colorscale": {
           "diverging": [
            [
             0,
             "#8e0152"
            ],
            [
             0.1,
             "#c51b7d"
            ],
            [
             0.2,
             "#de77ae"
            ],
            [
             0.3,
             "#f1b6da"
            ],
            [
             0.4,
             "#fde0ef"
            ],
            [
             0.5,
             "#f7f7f7"
            ],
            [
             0.6,
             "#e6f5d0"
            ],
            [
             0.7,
             "#b8e186"
            ],
            [
             0.8,
             "#7fbc41"
            ],
            [
             0.9,
             "#4d9221"
            ],
            [
             1,
             "#276419"
            ]
           ],
           "sequential": [
            [
             0,
             "#0d0887"
            ],
            [
             0.1111111111111111,
             "#46039f"
            ],
            [
             0.2222222222222222,
             "#7201a8"
            ],
            [
             0.3333333333333333,
             "#9c179e"
            ],
            [
             0.4444444444444444,
             "#bd3786"
            ],
            [
             0.5555555555555556,
             "#d8576b"
            ],
            [
             0.6666666666666666,
             "#ed7953"
            ],
            [
             0.7777777777777778,
             "#fb9f3a"
            ],
            [
             0.8888888888888888,
             "#fdca26"
            ],
            [
             1,
             "#f0f921"
            ]
           ],
           "sequentialminus": [
            [
             0,
             "#0d0887"
            ],
            [
             0.1111111111111111,
             "#46039f"
            ],
            [
             0.2222222222222222,
             "#7201a8"
            ],
            [
             0.3333333333333333,
             "#9c179e"
            ],
            [
             0.4444444444444444,
             "#bd3786"
            ],
            [
             0.5555555555555556,
             "#d8576b"
            ],
            [
             0.6666666666666666,
             "#ed7953"
            ],
            [
             0.7777777777777778,
             "#fb9f3a"
            ],
            [
             0.8888888888888888,
             "#fdca26"
            ],
            [
             1,
             "#f0f921"
            ]
           ]
          },
          "colorway": [
           "#636efa",
           "#EF553B",
           "#00cc96",
           "#ab63fa",
           "#FFA15A",
           "#19d3f3",
           "#FF6692",
           "#B6E880",
           "#FF97FF",
           "#FECB52"
          ],
          "font": {
           "color": "#2a3f5f"
          },
          "geo": {
           "bgcolor": "white",
           "lakecolor": "white",
           "landcolor": "#E5ECF6",
           "showlakes": true,
           "showland": true,
           "subunitcolor": "white"
          },
          "hoverlabel": {
           "align": "left"
          },
          "hovermode": "closest",
          "mapbox": {
           "style": "light"
          },
          "paper_bgcolor": "white",
          "plot_bgcolor": "#E5ECF6",
          "polar": {
           "angularaxis": {
            "gridcolor": "white",
            "linecolor": "white",
            "ticks": ""
           },
           "bgcolor": "#E5ECF6",
           "radialaxis": {
            "gridcolor": "white",
            "linecolor": "white",
            "ticks": ""
           }
          },
          "scene": {
           "xaxis": {
            "backgroundcolor": "#E5ECF6",
            "gridcolor": "white",
            "gridwidth": 2,
            "linecolor": "white",
            "showbackground": true,
            "ticks": "",
            "zerolinecolor": "white"
           },
           "yaxis": {
            "backgroundcolor": "#E5ECF6",
            "gridcolor": "white",
            "gridwidth": 2,
            "linecolor": "white",
            "showbackground": true,
            "ticks": "",
            "zerolinecolor": "white"
           },
           "zaxis": {
            "backgroundcolor": "#E5ECF6",
            "gridcolor": "white",
            "gridwidth": 2,
            "linecolor": "white",
            "showbackground": true,
            "ticks": "",
            "zerolinecolor": "white"
           }
          },
          "shapedefaults": {
           "line": {
            "color": "#2a3f5f"
           }
          },
          "ternary": {
           "aaxis": {
            "gridcolor": "white",
            "linecolor": "white",
            "ticks": ""
           },
           "baxis": {
            "gridcolor": "white",
            "linecolor": "white",
            "ticks": ""
           },
           "bgcolor": "#E5ECF6",
           "caxis": {
            "gridcolor": "white",
            "linecolor": "white",
            "ticks": ""
           }
          },
          "title": {
           "x": 0.05
          },
          "xaxis": {
           "automargin": true,
           "gridcolor": "white",
           "linecolor": "white",
           "ticks": "",
           "title": {
            "standoff": 15
           },
           "zerolinecolor": "white",
           "zerolinewidth": 2
          },
          "yaxis": {
           "automargin": true,
           "gridcolor": "white",
           "linecolor": "white",
           "ticks": "",
           "title": {
            "standoff": 15
           },
           "zerolinecolor": "white",
           "zerolinewidth": 2
          }
         }
        },
        "title": {
         "text": "EUR/TRY 2021 - Normalize (1 Ocak 2021)"
        },
        "width": 1000,
        "xaxis": {
         "anchor": "y",
         "domain": [
          0,
          1
         ],
         "title": {
          "text": "Tarih"
         }
        },
        "yaxis": {
         "anchor": "x",
         "domain": [
          0,
          1
         ],
         "title": {
          "text": "Normalize(EUR/TRY)"
         }
        }
       }
      },
      "text/html": [
       "<div>                            <div id=\"495b5f2b-0e08-467c-a0e4-df1ff10b4bf1\" class=\"plotly-graph-div\" style=\"height:500px; width:1000px;\"></div>            <script type=\"text/javascript\">                require([\"plotly\"], function(Plotly) {                    window.PLOTLYENV=window.PLOTLYENV || {};                                    if (document.getElementById(\"495b5f2b-0e08-467c-a0e4-df1ff10b4bf1\")) {                    Plotly.newPlot(                        \"495b5f2b-0e08-467c-a0e4-df1ff10b4bf1\",                        [{\"customdata\":[[9.084699630737305],[9.105680465698242],[9.088820457458496],[9.081769943237305],[9.006139755249023],[8.998499870300293],[8.963089942932129],[9.091500282287598],[9.091400146484375],[9.00059986114502],[8.948639869689941],[8.98705005645752],[9.02791976928711],[9.061829566955566],[8.981459617614746],[8.962420463562012],[9.025979995727539],[8.994020462036133],[8.93513011932373],[8.955249786376953],[8.902569770812988],[8.824990272521973],[8.678030014038086],[8.658780097961426],[8.611419677734375],[8.537210464477539],[8.500100135803223],[8.530200004577637],[8.559000015258789],[8.543990135192871],[8.52593994140625],[8.52046012878418],[8.441969871520996],[8.441590309143066],[8.387260437011719],[8.421699523925781],[8.461910247802734],[8.53573989868164],[8.640850067138672],[8.720800399780273],[8.904669761657715],[8.9612398147583],[8.757920265197754],[8.878450393676758],[8.9824800491333],[8.985899925231934],[8.952899932861328],[9.191349983215332],[9.045289993286133],[8.93101978302002],[8.943429946899414],[9.028590202331543],[8.980460166931152],[8.904580116271973],[8.971779823303223],[8.722789764404297],[9.629449844360352],[9.323619842529297],[9.391130447387695],[9.351699829101562],[9.327679634094238],[9.5595703125],[9.711270332336426],[9.748299598693848],[9.686530113220215],[9.547579765319824],[9.628640174865723],[9.586359977722168],[9.65641975402832],[9.667570114135742],[9.702859878540039],[9.707460403442383],[9.703940391540527],[9.68908977508545],[9.674360275268555],[9.610150337219238],[9.668660163879395],[9.732749938964844],[9.75037956237793],[9.859210014343262],[9.977120399475098],[10.164250373840332],[10.000069618225098],[9.92018985748291],[9.930899620056152],[9.923589706420898],[9.951720237731934],[9.948659896850586],[9.986169815063477],[9.98639965057373],[9.985819816589355],[10.01593017578125],[10.028730392456055],[10.072979927062988],[10.183890342712402],[10.267800331115723],[10.260649681091309],[10.092100143432617],[10.216259956359863],[10.22620964050293],[10.231940269470215],[10.259599685668945],[10.23071002960205],[10.354100227355957],[10.305500030517578],[10.347559928894043],[10.441610336303711],[10.377360343933105],[10.531259536743164],[10.476090431213379],[10.554800033569336],[10.554590225219727],[10.48036003112793],[10.468629837036133],[10.449799537658691],[10.252229690551758],[10.146430015563965],[10.249879837036133],[10.362469673156738],[10.329859733581543],[10.380069732666016],[10.389389991760254],[10.451530456542969],[10.311690330505371],[10.293140411376953],[10.37483024597168],[10.445099830627441],[10.363100051879883],[10.38403034210205],[10.309849739074707],[10.267620086669922],[10.297900199890137],[10.273480415344238],[10.267319679260254],[10.23429012298584],[10.2806396484375],[10.273550033569336],[10.251859664916992],[10.147850036621094],[10.174750328063965],[10.111289978027344],[10.077500343322754],[10.113510131835938],[10.096790313720703],[10.086640357971191],[10.078240394592285],[10.06270980834961],[10.097579956054688],[10.113240242004395],[10.129220008850098],[10.050559997558594],[10.009289741516113],[9.910849571228027],[9.967430114746094],[10.027950286865234],[10.085869789123535],[10.12539005279541],[10.150629997253418],[10.078200340270996],[10.127559661865234],[10.046730041503906],[10.03462028503418],[9.959890365600586],[9.866789817810059],[9.892820358276367],[9.951189994812012],[9.923060417175293],[9.895999908447266],[9.884320259094238],[9.856809616088867],[9.845049858093262],[9.849459648132324],[9.86913013458252],[9.807279586791992],[9.808480262756348],[9.829170227050781],[9.878809928894043],[9.827019691467285],[9.884690284729004],[10.022439956665039],[9.98490047454834],[9.991009712219238],[9.950750350952148],[9.949959754943848],[9.960140228271484],[10.034119606018066],[10.132869720458984],[10.160090446472168],[10.106789588928223],[10.11633014678955],[10.27970027923584],[10.390159606933594],[10.312219619750977],[10.360340118408203],[10.343790054321289],[10.281330108642578],[10.27001953125],[10.281740188598633],[10.275799751281738],[10.245739936828613],[10.253870010375977],[10.357609748840332],[10.391770362854004],[10.421799659729004],[10.605690002441406],[10.649100303649902],[10.711170196533203],[10.84708023071289],[10.822750091552734],[10.737460136413574],[11.081089973449707],[11.2837495803833],[11.125009536743164],[11.057860374450684],[11.003230094909668],[11.12714958190918],[11.07334041595459],[11.06544017791748],[11.115610122680664],[11.193920135498047],[11.19791030883789],[11.210180282592773],[11.220459938049316],[11.2752103805542],[11.298100471496582],[11.354840278625488],[11.47488021850586],[11.426609992980957],[11.698539733886719],[12.144669532775879],[12.546449661254883],[12.52748966217041],[12.774709701538086],[14.37086009979248],[13.302319526672363],[13.390170097351074],[13.929229736328125],[14.347000122070312],[15.297340393066406],[15.21780014038086],[15.47776985168457],[15.455060005187988],[15.551799774169922],[15.246600151062012],[15.492899894714355],[15.556090354919434],[15.667590141296387],[15.574390411376953],[16.1677303314209],[16.693090438842773],[17.73232078552246],[18.655109405517578],[15.332039833068848],[13.84982967376709],[13.57863998413086],[12.79751968383789],[12.230560302734375],[13.052539825439453],[13.352519989013672],[14.31054973602295]],\"hovertemplate\":\"Tarih=%{x}<br>Normalize(EUR/TRY)=%{y}<br>Kapan\\u0131\\u015f(EUR/TRY)=%{customdata[0]:.0f}<extra></extra>\",\"legendgroup\":\"\",\"line\":{\"color\":\"#636efa\",\"dash\":\"solid\"},\"marker\":{\"symbol\":\"circle\"},\"mode\":\"lines\",\"name\":\"\",\"orientation\":\"v\",\"showlegend\":false,\"x\":[\"2021-01-01T00:00:00\",\"2021-01-04T00:00:00\",\"2021-01-05T00:00:00\",\"2021-01-06T00:00:00\",\"2021-01-07T00:00:00\",\"2021-01-08T00:00:00\",\"2021-01-11T00:00:00\",\"2021-01-12T00:00:00\",\"2021-01-13T00:00:00\",\"2021-01-14T00:00:00\",\"2021-01-15T00:00:00\",\"2021-01-18T00:00:00\",\"2021-01-19T00:00:00\",\"2021-01-20T00:00:00\",\"2021-01-21T00:00:00\",\"2021-01-22T00:00:00\",\"2021-01-25T00:00:00\",\"2021-01-26T00:00:00\",\"2021-01-27T00:00:00\",\"2021-01-28T00:00:00\",\"2021-01-29T00:00:00\",\"2021-02-01T00:00:00\",\"2021-02-02T00:00:00\",\"2021-02-03T00:00:00\",\"2021-02-04T00:00:00\",\"2021-02-05T00:00:00\",\"2021-02-08T00:00:00\",\"2021-02-09T00:00:00\",\"2021-02-10T00:00:00\",\"2021-02-11T00:00:00\",\"2021-02-12T00:00:00\",\"2021-02-15T00:00:00\",\"2021-02-16T00:00:00\",\"2021-02-17T00:00:00\",\"2021-02-18T00:00:00\",\"2021-02-19T00:00:00\",\"2021-02-22T00:00:00\",\"2021-02-23T00:00:00\",\"2021-02-24T00:00:00\",\"2021-02-25T00:00:00\",\"2021-02-26T00:00:00\",\"2021-03-01T00:00:00\",\"2021-03-02T00:00:00\",\"2021-03-03T00:00:00\",\"2021-03-04T00:00:00\",\"2021-03-05T00:00:00\",\"2021-03-08T00:00:00\",\"2021-03-09T00:00:00\",\"2021-03-10T00:00:00\",\"2021-03-11T00:00:00\",\"2021-03-12T00:00:00\",\"2021-03-15T00:00:00\",\"2021-03-16T00:00:00\",\"2021-03-17T00:00:00\",\"2021-03-18T00:00:00\",\"2021-03-19T00:00:00\",\"2021-03-22T00:00:00\",\"2021-03-23T00:00:00\",\"2021-03-24T00:00:00\",\"2021-03-25T00:00:00\",\"2021-03-26T00:00:00\",\"2021-03-29T00:00:00\",\"2021-03-30T00:00:00\",\"2021-03-31T00:00:00\",\"2021-04-01T00:00:00\",\"2021-04-02T00:00:00\",\"2021-04-05T00:00:00\",\"2021-04-06T00:00:00\",\"2021-04-07T00:00:00\",\"2021-04-08T00:00:00\",\"2021-04-09T00:00:00\",\"2021-04-12T00:00:00\",\"2021-04-13T00:00:00\",\"2021-04-14T00:00:00\",\"2021-04-15T00:00:00\",\"2021-04-16T00:00:00\",\"2021-04-19T00:00:00\",\"2021-04-20T00:00:00\",\"2021-04-21T00:00:00\",\"2021-04-22T00:00:00\",\"2021-04-23T00:00:00\",\"2021-04-26T00:00:00\",\"2021-04-27T00:00:00\",\"2021-04-28T00:00:00\",\"2021-04-29T00:00:00\",\"2021-04-30T00:00:00\",\"2021-05-03T00:00:00\",\"2021-05-04T00:00:00\",\"2021-05-05T00:00:00\",\"2021-05-06T00:00:00\",\"2021-05-07T00:00:00\",\"2021-05-10T00:00:00\",\"2021-05-11T00:00:00\",\"2021-05-12T00:00:00\",\"2021-05-13T00:00:00\",\"2021-05-14T00:00:00\",\"2021-05-17T00:00:00\",\"2021-05-18T00:00:00\",\"2021-05-19T00:00:00\",\"2021-05-20T00:00:00\",\"2021-05-21T00:00:00\",\"2021-05-24T00:00:00\",\"2021-05-25T00:00:00\",\"2021-05-26T00:00:00\",\"2021-05-27T00:00:00\",\"2021-05-28T00:00:00\",\"2021-05-31T00:00:00\",\"2021-06-01T00:00:00\",\"2021-06-02T00:00:00\",\"2021-06-03T00:00:00\",\"2021-06-04T00:00:00\",\"2021-06-07T00:00:00\",\"2021-06-08T00:00:00\",\"2021-06-09T00:00:00\",\"2021-06-10T00:00:00\",\"2021-06-11T00:00:00\",\"2021-06-14T00:00:00\",\"2021-06-15T00:00:00\",\"2021-06-16T00:00:00\",\"2021-06-17T00:00:00\",\"2021-06-18T00:00:00\",\"2021-06-21T00:00:00\",\"2021-06-22T00:00:00\",\"2021-06-23T00:00:00\",\"2021-06-24T00:00:00\",\"2021-06-25T00:00:00\",\"2021-06-28T00:00:00\",\"2021-06-29T00:00:00\",\"2021-06-30T00:00:00\",\"2021-07-01T00:00:00\",\"2021-07-02T00:00:00\",\"2021-07-05T00:00:00\",\"2021-07-06T00:00:00\",\"2021-07-07T00:00:00\",\"2021-07-08T00:00:00\",\"2021-07-09T00:00:00\",\"2021-07-12T00:00:00\",\"2021-07-13T00:00:00\",\"2021-07-14T00:00:00\",\"2021-07-15T00:00:00\",\"2021-07-16T00:00:00\",\"2021-07-19T00:00:00\",\"2021-07-20T00:00:00\",\"2021-07-21T00:00:00\",\"2021-07-22T00:00:00\",\"2021-07-23T00:00:00\",\"2021-07-26T00:00:00\",\"2021-07-27T00:00:00\",\"2021-07-28T00:00:00\",\"2021-07-29T00:00:00\",\"2021-07-30T00:00:00\",\"2021-08-02T00:00:00\",\"2021-08-03T00:00:00\",\"2021-08-04T00:00:00\",\"2021-08-05T00:00:00\",\"2021-08-06T00:00:00\",\"2021-08-09T00:00:00\",\"2021-08-10T00:00:00\",\"2021-08-11T00:00:00\",\"2021-08-12T00:00:00\",\"2021-08-13T00:00:00\",\"2021-08-16T00:00:00\",\"2021-08-17T00:00:00\",\"2021-08-18T00:00:00\",\"2021-08-19T00:00:00\",\"2021-08-20T00:00:00\",\"2021-08-23T00:00:00\",\"2021-08-24T00:00:00\",\"2021-08-25T00:00:00\",\"2021-08-26T00:00:00\",\"2021-08-27T00:00:00\",\"2021-08-30T00:00:00\",\"2021-08-31T00:00:00\",\"2021-09-01T00:00:00\",\"2021-09-02T00:00:00\",\"2021-09-03T00:00:00\",\"2021-09-06T00:00:00\",\"2021-09-07T00:00:00\",\"2021-09-08T00:00:00\",\"2021-09-09T00:00:00\",\"2021-09-10T00:00:00\",\"2021-09-13T00:00:00\",\"2021-09-14T00:00:00\",\"2021-09-15T00:00:00\",\"2021-09-16T00:00:00\",\"2021-09-17T00:00:00\",\"2021-09-20T00:00:00\",\"2021-09-21T00:00:00\",\"2021-09-22T00:00:00\",\"2021-09-23T00:00:00\",\"2021-09-24T00:00:00\",\"2021-09-27T00:00:00\",\"2021-09-28T00:00:00\",\"2021-09-29T00:00:00\",\"2021-09-30T00:00:00\",\"2021-10-01T00:00:00\",\"2021-10-04T00:00:00\",\"2021-10-05T00:00:00\",\"2021-10-06T00:00:00\",\"2021-10-07T00:00:00\",\"2021-10-08T00:00:00\",\"2021-10-11T00:00:00\",\"2021-10-12T00:00:00\",\"2021-10-13T00:00:00\",\"2021-10-14T00:00:00\",\"2021-10-15T00:00:00\",\"2021-10-18T00:00:00\",\"2021-10-19T00:00:00\",\"2021-10-20T00:00:00\",\"2021-10-21T00:00:00\",\"2021-10-22T00:00:00\",\"2021-10-25T00:00:00\",\"2021-10-26T00:00:00\",\"2021-10-27T00:00:00\",\"2021-10-28T00:00:00\",\"2021-10-29T00:00:00\",\"2021-11-01T00:00:00\",\"2021-11-02T00:00:00\",\"2021-11-03T00:00:00\",\"2021-11-04T00:00:00\",\"2021-11-05T00:00:00\",\"2021-11-08T00:00:00\",\"2021-11-09T00:00:00\",\"2021-11-10T00:00:00\",\"2021-11-11T00:00:00\",\"2021-11-12T00:00:00\",\"2021-11-15T00:00:00\",\"2021-11-16T00:00:00\",\"2021-11-17T00:00:00\",\"2021-11-18T00:00:00\",\"2021-11-19T00:00:00\",\"2021-11-22T00:00:00\",\"2021-11-23T00:00:00\",\"2021-11-24T00:00:00\",\"2021-11-25T00:00:00\",\"2021-11-26T00:00:00\",\"2021-11-29T00:00:00\",\"2021-11-30T00:00:00\",\"2021-12-01T00:00:00\",\"2021-12-02T00:00:00\",\"2021-12-03T00:00:00\",\"2021-12-06T00:00:00\",\"2021-12-07T00:00:00\",\"2021-12-08T00:00:00\",\"2021-12-09T00:00:00\",\"2021-12-10T00:00:00\",\"2021-12-13T00:00:00\",\"2021-12-14T00:00:00\",\"2021-12-15T00:00:00\",\"2021-12-16T00:00:00\",\"2021-12-17T00:00:00\",\"2021-12-20T00:00:00\",\"2021-12-21T00:00:00\",\"2021-12-22T00:00:00\",\"2021-12-23T00:00:00\",\"2021-12-24T00:00:00\",\"2021-12-27T00:00:00\",\"2021-12-28T00:00:00\",\"2021-12-29T00:00:00\",\"2021-12-30T00:00:00\"],\"xaxis\":\"x\",\"y\":[1.0,1.002309469307048,1.0004536007670797,0.999677514104034,0.9913525071073918,0.9905115453519936,0.9866137910169622,1.0007485829831164,1.000737560515969,0.9907427022344536,0.9850231965196717,0.9892512049656109,0.9937499461998628,0.9974825734794401,0.9886358363711603,0.9865400979508918,0.9935364252648384,0.9900184736549388,0.9835361082376881,0.9857507843272695,0.9799520218249048,0.9714124441344624,0.9552357663732451,0.9531168282840287,0.9479036212268783,0.9397350282878497,0.9356501019630699,0.9389633506116629,0.9421335171390967,0.940481301801659,0.9384944233664546,0.9378912319738048,0.9292514023202608,0.9292096219209788,0.9232292511503781,0.9270201400420197,0.9314463429448547,0.9395731554846012,0.951143176809401,0.9599437245315399,0.9801831787073648,0.9864101378144317,0.9640297006150956,0.977297076904698,0.9887481605601849,0.9891246040572337,0.98549212376488,1.0117395573671126,0.9956619768343432,0.9830836622052619,0.9844497133003807,0.9938237442418106,0.9885258216514428,0.980173310974871,0.9875703312135904,0.9601627042121991,1.059963480991703,1.0262991867098858,1.0337304290847007,1.029390096449737,1.0267460690207997,1.052271478536947,1.0689698864098018,1.0730458897849864,1.066246602193282,1.0509516168279691,1.0598743564716264,1.0552203559144144,1.0629321988100355,1.0641595767708538,1.0680441041453084,1.0685505077788175,1.0681630418146215,1.0665283574487419,1.0649070050193166,1.0578390841568517,1.0642795641989427,1.071334258100831,1.0732748421740168,1.0852543743973073,1.0982333819511614,1.1188317486524773,1.1007595214695616,1.0919667419623644,1.0931456210677348,1.0923409809659839,1.095437454427347,1.095100586836151,1.0992294980536423,1.099254797240142,1.0991909719065656,1.1025053752898122,1.1039143615188667,1.1087851372633082,1.1209936218756291,1.1302300294415346,1.1294429203113416,1.110889798633172,1.1245567131128937,1.1256519264438225,1.1262827264922792,1.1293273418701117,1.1261473076101842,1.1397295065566884,1.134379830858667,1.139009581988155,1.1493621980605078,1.1422898682111837,1.1592303504577683,1.1531576009148858,1.161821575020276,1.1617984803272057,1.15362757791887,1.152336374624475,1.1502636259213994,1.1285160882880723,1.1168701694037728,1.128257427725683,1.1406507748584453,1.1370612297000273,1.1425881046794257,1.143614033931143,1.150454157139231,1.1350612292801237,1.1330193434850606,1.1420113672079293,1.1497463047966208,1.1407201639135343,1.1430240694990699,1.134858625836369,1.1302101890006695,1.1335432780901276,1.1308552657684792,1.1301771215992278,1.1265413870546688,1.1316433196815703,1.1308629290075434,1.1284753576475661,1.1170264784855088,1.119987533064777,1.1130021232421001,1.1092827229230995,1.113246507085137,1.1114060699991748,1.1102888117339516,1.1093641842041118,1.1076546520375083,1.111492990025822,1.113216798911778,1.114975774716728,1.1063172593569723,1.1017744282541315,1.0909386082172177,1.097166722058938,1.1038284912509955,1.1102039912248565,1.114554191592314,1.1173324831686926,1.1093597752172528,1.1147930117138383,1.1058956762325585,1.1045626925388814,1.0963367827706871,1.0860887226724172,1.0889540392513204,1.0953790878394054,1.0922827193539197,1.0893040288272158,1.0880183892543331,1.0849901501134054,1.083695692566805,1.0841811010247955,1.0863463334760306,1.0795381229347307,1.0796702875646205,1.0819477392290027,1.0874118386336005,1.08171101862503,1.0880591198948393,1.1032219406302626,1.099089775160566,1.0997622506324272,1.095330693959835,1.0952436689573104,1.0963642864506165,1.1045075802031452,1.1153775174002767,1.1183738438744162,1.1125067420757384,1.1135569207551796,1.131539918442141,1.1436987494643607,1.1351194908921878,1.1404163637237799,1.1385946123440294,1.1317193222169477,1.1304743083086937,1.1317644618443128,1.1311105671027855,1.1278017274410512,1.1286966467975323,1.140115817786231,1.1438760537216153,1.1471815341552665,1.1674232978003984,1.1722016947725582,1.1790340497657044,1.1939943720332504,1.1913162274440956,1.181927919783313,1.2197530379494097,1.2420608318414512,1.224587492040204,1.2171960355229972,1.2111825973509547,1.224823057909523,1.2189000039680882,1.218030383798107,1.2235528497906467,1.2321728390033255,1.232612058075175,1.2339626777162875,1.2350942127008635,1.2411208778334826,1.243640508847472,1.2498861536607504,1.26309957234927,1.2577862183048958,1.2877189350659113,1.3368267555798352,1.3810527778821704,1.3789657524597423,1.406178544232321,1.581875095921708,1.4642552937760431,1.4739254616681632,1.5332625515982683,1.5792487044402066,1.6838575863652292,1.6751021782704552,1.7037183925505759,1.7012186019774516,1.7118672500246168,1.678272344797889,1.7053838348485901,1.7123395364979082,1.7246128962025815,1.7143539186130419,1.7796659205681127,1.8374950320165928,1.951888505540312,2.05346463436167,1.6876771336714536,1.5245225749575004,1.4946713194774972,1.4086893572725923,1.3462811980435017,1.4367607467480048,1.4697811189966659,1.5752364214227212],\"yaxis\":\"y\",\"type\":\"scatter\"}],                        {\"template\":{\"data\":{\"histogram2dcontour\":[{\"type\":\"histogram2dcontour\",\"colorbar\":{\"outlinewidth\":0,\"ticks\":\"\"},\"colorscale\":[[0.0,\"#0d0887\"],[0.1111111111111111,\"#46039f\"],[0.2222222222222222,\"#7201a8\"],[0.3333333333333333,\"#9c179e\"],[0.4444444444444444,\"#bd3786\"],[0.5555555555555556,\"#d8576b\"],[0.6666666666666666,\"#ed7953\"],[0.7777777777777778,\"#fb9f3a\"],[0.8888888888888888,\"#fdca26\"],[1.0,\"#f0f921\"]]}],\"choropleth\":[{\"type\":\"choropleth\",\"colorbar\":{\"outlinewidth\":0,\"ticks\":\"\"}}],\"histogram2d\":[{\"type\":\"histogram2d\",\"colorbar\":{\"outlinewidth\":0,\"ticks\":\"\"},\"colorscale\":[[0.0,\"#0d0887\"],[0.1111111111111111,\"#46039f\"],[0.2222222222222222,\"#7201a8\"],[0.3333333333333333,\"#9c179e\"],[0.4444444444444444,\"#bd3786\"],[0.5555555555555556,\"#d8576b\"],[0.6666666666666666,\"#ed7953\"],[0.7777777777777778,\"#fb9f3a\"],[0.8888888888888888,\"#fdca26\"],[1.0,\"#f0f921\"]]}],\"heatmap\":[{\"type\":\"heatmap\",\"colorbar\":{\"outlinewidth\":0,\"ticks\":\"\"},\"colorscale\":[[0.0,\"#0d0887\"],[0.1111111111111111,\"#46039f\"],[0.2222222222222222,\"#7201a8\"],[0.3333333333333333,\"#9c179e\"],[0.4444444444444444,\"#bd3786\"],[0.5555555555555556,\"#d8576b\"],[0.6666666666666666,\"#ed7953\"],[0.7777777777777778,\"#fb9f3a\"],[0.8888888888888888,\"#fdca26\"],[1.0,\"#f0f921\"]]}],\"heatmapgl\":[{\"type\":\"heatmapgl\",\"colorbar\":{\"outlinewidth\":0,\"ticks\":\"\"},\"colorscale\":[[0.0,\"#0d0887\"],[0.1111111111111111,\"#46039f\"],[0.2222222222222222,\"#7201a8\"],[0.3333333333333333,\"#9c179e\"],[0.4444444444444444,\"#bd3786\"],[0.5555555555555556,\"#d8576b\"],[0.6666666666666666,\"#ed7953\"],[0.7777777777777778,\"#fb9f3a\"],[0.8888888888888888,\"#fdca26\"],[1.0,\"#f0f921\"]]}],\"contourcarpet\":[{\"type\":\"contourcarpet\",\"colorbar\":{\"outlinewidth\":0,\"ticks\":\"\"}}],\"contour\":[{\"type\":\"contour\",\"colorbar\":{\"outlinewidth\":0,\"ticks\":\"\"},\"colorscale\":[[0.0,\"#0d0887\"],[0.1111111111111111,\"#46039f\"],[0.2222222222222222,\"#7201a8\"],[0.3333333333333333,\"#9c179e\"],[0.4444444444444444,\"#bd3786\"],[0.5555555555555556,\"#d8576b\"],[0.6666666666666666,\"#ed7953\"],[0.7777777777777778,\"#fb9f3a\"],[0.8888888888888888,\"#fdca26\"],[1.0,\"#f0f921\"]]}],\"surface\":[{\"type\":\"surface\",\"colorbar\":{\"outlinewidth\":0,\"ticks\":\"\"},\"colorscale\":[[0.0,\"#0d0887\"],[0.1111111111111111,\"#46039f\"],[0.2222222222222222,\"#7201a8\"],[0.3333333333333333,\"#9c179e\"],[0.4444444444444444,\"#bd3786\"],[0.5555555555555556,\"#d8576b\"],[0.6666666666666666,\"#ed7953\"],[0.7777777777777778,\"#fb9f3a\"],[0.8888888888888888,\"#fdca26\"],[1.0,\"#f0f921\"]]}],\"mesh3d\":[{\"type\":\"mesh3d\",\"colorbar\":{\"outlinewidth\":0,\"ticks\":\"\"}}],\"scatter\":[{\"fillpattern\":{\"fillmode\":\"overlay\",\"size\":10,\"solidity\":0.2},\"type\":\"scatter\"}],\"parcoords\":[{\"type\":\"parcoords\",\"line\":{\"colorbar\":{\"outlinewidth\":0,\"ticks\":\"\"}}}],\"scatterpolargl\":[{\"type\":\"scatterpolargl\",\"marker\":{\"colorbar\":{\"outlinewidth\":0,\"ticks\":\"\"}}}],\"bar\":[{\"error_x\":{\"color\":\"#2a3f5f\"},\"error_y\":{\"color\":\"#2a3f5f\"},\"marker\":{\"line\":{\"color\":\"#E5ECF6\",\"width\":0.5},\"pattern\":{\"fillmode\":\"overlay\",\"size\":10,\"solidity\":0.2}},\"type\":\"bar\"}],\"scattergeo\":[{\"type\":\"scattergeo\",\"marker\":{\"colorbar\":{\"outlinewidth\":0,\"ticks\":\"\"}}}],\"scatterpolar\":[{\"type\":\"scatterpolar\",\"marker\":{\"colorbar\":{\"outlinewidth\":0,\"ticks\":\"\"}}}],\"histogram\":[{\"marker\":{\"pattern\":{\"fillmode\":\"overlay\",\"size\":10,\"solidity\":0.2}},\"type\":\"histogram\"}],\"scattergl\":[{\"type\":\"scattergl\",\"marker\":{\"colorbar\":{\"outlinewidth\":0,\"ticks\":\"\"}}}],\"scatter3d\":[{\"type\":\"scatter3d\",\"line\":{\"colorbar\":{\"outlinewidth\":0,\"ticks\":\"\"}},\"marker\":{\"colorbar\":{\"outlinewidth\":0,\"ticks\":\"\"}}}],\"scattermapbox\":[{\"type\":\"scattermapbox\",\"marker\":{\"colorbar\":{\"outlinewidth\":0,\"ticks\":\"\"}}}],\"scatterternary\":[{\"type\":\"scatterternary\",\"marker\":{\"colorbar\":{\"outlinewidth\":0,\"ticks\":\"\"}}}],\"scattercarpet\":[{\"type\":\"scattercarpet\",\"marker\":{\"colorbar\":{\"outlinewidth\":0,\"ticks\":\"\"}}}],\"carpet\":[{\"aaxis\":{\"endlinecolor\":\"#2a3f5f\",\"gridcolor\":\"white\",\"linecolor\":\"white\",\"minorgridcolor\":\"white\",\"startlinecolor\":\"#2a3f5f\"},\"baxis\":{\"endlinecolor\":\"#2a3f5f\",\"gridcolor\":\"white\",\"linecolor\":\"white\",\"minorgridcolor\":\"white\",\"startlinecolor\":\"#2a3f5f\"},\"type\":\"carpet\"}],\"table\":[{\"cells\":{\"fill\":{\"color\":\"#EBF0F8\"},\"line\":{\"color\":\"white\"}},\"header\":{\"fill\":{\"color\":\"#C8D4E3\"},\"line\":{\"color\":\"white\"}},\"type\":\"table\"}],\"barpolar\":[{\"marker\":{\"line\":{\"color\":\"#E5ECF6\",\"width\":0.5},\"pattern\":{\"fillmode\":\"overlay\",\"size\":10,\"solidity\":0.2}},\"type\":\"barpolar\"}],\"pie\":[{\"automargin\":true,\"type\":\"pie\"}]},\"layout\":{\"autotypenumbers\":\"strict\",\"colorway\":[\"#636efa\",\"#EF553B\",\"#00cc96\",\"#ab63fa\",\"#FFA15A\",\"#19d3f3\",\"#FF6692\",\"#B6E880\",\"#FF97FF\",\"#FECB52\"],\"font\":{\"color\":\"#2a3f5f\"},\"hovermode\":\"closest\",\"hoverlabel\":{\"align\":\"left\"},\"paper_bgcolor\":\"white\",\"plot_bgcolor\":\"#E5ECF6\",\"polar\":{\"bgcolor\":\"#E5ECF6\",\"angularaxis\":{\"gridcolor\":\"white\",\"linecolor\":\"white\",\"ticks\":\"\"},\"radialaxis\":{\"gridcolor\":\"white\",\"linecolor\":\"white\",\"ticks\":\"\"}},\"ternary\":{\"bgcolor\":\"#E5ECF6\",\"aaxis\":{\"gridcolor\":\"white\",\"linecolor\":\"white\",\"ticks\":\"\"},\"baxis\":{\"gridcolor\":\"white\",\"linecolor\":\"white\",\"ticks\":\"\"},\"caxis\":{\"gridcolor\":\"white\",\"linecolor\":\"white\",\"ticks\":\"\"}},\"coloraxis\":{\"colorbar\":{\"outlinewidth\":0,\"ticks\":\"\"}},\"colorscale\":{\"sequential\":[[0.0,\"#0d0887\"],[0.1111111111111111,\"#46039f\"],[0.2222222222222222,\"#7201a8\"],[0.3333333333333333,\"#9c179e\"],[0.4444444444444444,\"#bd3786\"],[0.5555555555555556,\"#d8576b\"],[0.6666666666666666,\"#ed7953\"],[0.7777777777777778,\"#fb9f3a\"],[0.8888888888888888,\"#fdca26\"],[1.0,\"#f0f921\"]],\"sequentialminus\":[[0.0,\"#0d0887\"],[0.1111111111111111,\"#46039f\"],[0.2222222222222222,\"#7201a8\"],[0.3333333333333333,\"#9c179e\"],[0.4444444444444444,\"#bd3786\"],[0.5555555555555556,\"#d8576b\"],[0.6666666666666666,\"#ed7953\"],[0.7777777777777778,\"#fb9f3a\"],[0.8888888888888888,\"#fdca26\"],[1.0,\"#f0f921\"]],\"diverging\":[[0,\"#8e0152\"],[0.1,\"#c51b7d\"],[0.2,\"#de77ae\"],[0.3,\"#f1b6da\"],[0.4,\"#fde0ef\"],[0.5,\"#f7f7f7\"],[0.6,\"#e6f5d0\"],[0.7,\"#b8e186\"],[0.8,\"#7fbc41\"],[0.9,\"#4d9221\"],[1,\"#276419\"]]},\"xaxis\":{\"gridcolor\":\"white\",\"linecolor\":\"white\",\"ticks\":\"\",\"title\":{\"standoff\":15},\"zerolinecolor\":\"white\",\"automargin\":true,\"zerolinewidth\":2},\"yaxis\":{\"gridcolor\":\"white\",\"linecolor\":\"white\",\"ticks\":\"\",\"title\":{\"standoff\":15},\"zerolinecolor\":\"white\",\"automargin\":true,\"zerolinewidth\":2},\"scene\":{\"xaxis\":{\"backgroundcolor\":\"#E5ECF6\",\"gridcolor\":\"white\",\"linecolor\":\"white\",\"showbackground\":true,\"ticks\":\"\",\"zerolinecolor\":\"white\",\"gridwidth\":2},\"yaxis\":{\"backgroundcolor\":\"#E5ECF6\",\"gridcolor\":\"white\",\"linecolor\":\"white\",\"showbackground\":true,\"ticks\":\"\",\"zerolinecolor\":\"white\",\"gridwidth\":2},\"zaxis\":{\"backgroundcolor\":\"#E5ECF6\",\"gridcolor\":\"white\",\"linecolor\":\"white\",\"showbackground\":true,\"ticks\":\"\",\"zerolinecolor\":\"white\",\"gridwidth\":2}},\"shapedefaults\":{\"line\":{\"color\":\"#2a3f5f\"}},\"annotationdefaults\":{\"arrowcolor\":\"#2a3f5f\",\"arrowhead\":0,\"arrowwidth\":1},\"geo\":{\"bgcolor\":\"white\",\"landcolor\":\"#E5ECF6\",\"subunitcolor\":\"white\",\"showland\":true,\"showlakes\":true,\"lakecolor\":\"white\"},\"title\":{\"x\":0.05},\"mapbox\":{\"style\":\"light\"}}},\"xaxis\":{\"anchor\":\"y\",\"domain\":[0.0,1.0],\"title\":{\"text\":\"Tarih\"}},\"yaxis\":{\"anchor\":\"x\",\"domain\":[0.0,1.0],\"title\":{\"text\":\"Normalize(EUR/TRY)\"}},\"legend\":{\"tracegroupgap\":0},\"title\":{\"text\":\"EUR/TRY 2021 - Normalize (1 Ocak 2021)\"},\"height\":500,\"width\":1000},                        {\"responsive\": true}                    ).then(function(){\n",
       "                            \n",
       "var gd = document.getElementById('495b5f2b-0e08-467c-a0e4-df1ff10b4bf1');\n",
       "var x = new MutationObserver(function (mutations, observer) {{\n",
       "        var display = window.getComputedStyle(gd).display;\n",
       "        if (!display || display === 'none') {{\n",
       "            console.log([gd, 'removed!']);\n",
       "            Plotly.purge(gd);\n",
       "            observer.disconnect();\n",
       "        }}\n",
       "}});\n",
       "\n",
       "// Listen for the removal of the full notebook cells\n",
       "var notebookContainer = gd.closest('#notebook-container');\n",
       "if (notebookContainer) {{\n",
       "    x.observe(notebookContainer, {childList: true});\n",
       "}}\n",
       "\n",
       "// Listen for the clearing of the current output cell\n",
       "var outputEl = gd.closest('.output');\n",
       "if (outputEl) {{\n",
       "    x.observe(outputEl, {childList: true});\n",
       "}}\n",
       "\n",
       "                        })                };                });            </script>        </div>"
      ]
     },
     "metadata": {},
     "output_type": "display_data"
    }
   ],
   "source": [
    "import plotly.express as px\n",
    "from plotly.graph_objs import XAxis\n",
    "import plotly.graph_objects as go\n",
    "px.line(kur, y='Normalize(EUR/TRY)', width = 1000, height=500, title = 'EUR/TRY 2021 - Normalize (1 Ocak 2021)', hover_data={'Normalize(EUR/TRY)': ':.2f','Kapanış(EUR/TRY)':':.0f'}, labels = {'Date':'Tarih', 'Normalize':'Normalize(EUR/TRY)'})"
   ]
  },
  {
   "cell_type": "code",
   "execution_count": 55,
   "id": "b16a6e0a",
   "metadata": {},
   "outputs": [
    {
     "data": {
      "application/vnd.plotly.v1+json": {
       "config": {
        "plotlyServerURL": "https://plot.ly"
       },
       "data": [
        {
         "type": "bar",
         "x": [
          "2021-01-01T00:00:00",
          "2021-01-04T00:00:00",
          "2021-01-05T00:00:00",
          "2021-01-06T00:00:00",
          "2021-01-07T00:00:00",
          "2021-01-08T00:00:00",
          "2021-01-11T00:00:00",
          "2021-01-12T00:00:00",
          "2021-01-13T00:00:00",
          "2021-01-14T00:00:00",
          "2021-01-15T00:00:00",
          "2021-01-18T00:00:00",
          "2021-01-19T00:00:00",
          "2021-01-20T00:00:00",
          "2021-01-21T00:00:00",
          "2021-01-22T00:00:00",
          "2021-01-25T00:00:00",
          "2021-01-26T00:00:00",
          "2021-01-27T00:00:00",
          "2021-01-28T00:00:00",
          "2021-01-29T00:00:00",
          "2021-02-01T00:00:00",
          "2021-02-02T00:00:00",
          "2021-02-03T00:00:00",
          "2021-02-04T00:00:00",
          "2021-02-05T00:00:00",
          "2021-02-08T00:00:00",
          "2021-02-09T00:00:00",
          "2021-02-10T00:00:00",
          "2021-02-11T00:00:00",
          "2021-02-12T00:00:00",
          "2021-02-15T00:00:00",
          "2021-02-16T00:00:00",
          "2021-02-17T00:00:00",
          "2021-02-18T00:00:00",
          "2021-02-19T00:00:00",
          "2021-02-22T00:00:00",
          "2021-02-23T00:00:00",
          "2021-02-24T00:00:00",
          "2021-02-25T00:00:00",
          "2021-02-26T00:00:00",
          "2021-03-01T00:00:00",
          "2021-03-02T00:00:00",
          "2021-03-03T00:00:00",
          "2021-03-04T00:00:00",
          "2021-03-05T00:00:00",
          "2021-03-08T00:00:00",
          "2021-03-09T00:00:00",
          "2021-03-10T00:00:00",
          "2021-03-11T00:00:00",
          "2021-03-12T00:00:00",
          "2021-03-15T00:00:00",
          "2021-03-16T00:00:00",
          "2021-03-17T00:00:00",
          "2021-03-18T00:00:00",
          "2021-03-19T00:00:00",
          "2021-03-22T00:00:00",
          "2021-03-23T00:00:00",
          "2021-03-24T00:00:00",
          "2021-03-25T00:00:00",
          "2021-03-26T00:00:00",
          "2021-03-29T00:00:00",
          "2021-03-30T00:00:00",
          "2021-03-31T00:00:00",
          "2021-04-01T00:00:00",
          "2021-04-02T00:00:00",
          "2021-04-05T00:00:00",
          "2021-04-06T00:00:00",
          "2021-04-07T00:00:00",
          "2021-04-08T00:00:00",
          "2021-04-09T00:00:00",
          "2021-04-12T00:00:00",
          "2021-04-13T00:00:00",
          "2021-04-14T00:00:00",
          "2021-04-15T00:00:00",
          "2021-04-16T00:00:00",
          "2021-04-19T00:00:00",
          "2021-04-20T00:00:00",
          "2021-04-21T00:00:00",
          "2021-04-22T00:00:00",
          "2021-04-23T00:00:00",
          "2021-04-26T00:00:00",
          "2021-04-27T00:00:00",
          "2021-04-28T00:00:00",
          "2021-04-29T00:00:00",
          "2021-04-30T00:00:00",
          "2021-05-03T00:00:00",
          "2021-05-04T00:00:00",
          "2021-05-05T00:00:00",
          "2021-05-06T00:00:00",
          "2021-05-07T00:00:00",
          "2021-05-10T00:00:00",
          "2021-05-11T00:00:00",
          "2021-05-12T00:00:00",
          "2021-05-13T00:00:00",
          "2021-05-14T00:00:00",
          "2021-05-17T00:00:00",
          "2021-05-18T00:00:00",
          "2021-05-19T00:00:00",
          "2021-05-20T00:00:00",
          "2021-05-21T00:00:00",
          "2021-05-24T00:00:00",
          "2021-05-25T00:00:00",
          "2021-05-26T00:00:00",
          "2021-05-27T00:00:00",
          "2021-05-28T00:00:00",
          "2021-05-31T00:00:00",
          "2021-06-01T00:00:00",
          "2021-06-02T00:00:00",
          "2021-06-03T00:00:00",
          "2021-06-04T00:00:00",
          "2021-06-07T00:00:00",
          "2021-06-08T00:00:00",
          "2021-06-09T00:00:00",
          "2021-06-10T00:00:00",
          "2021-06-11T00:00:00",
          "2021-06-14T00:00:00",
          "2021-06-15T00:00:00",
          "2021-06-16T00:00:00",
          "2021-06-17T00:00:00",
          "2021-06-18T00:00:00",
          "2021-06-21T00:00:00",
          "2021-06-22T00:00:00",
          "2021-06-23T00:00:00",
          "2021-06-24T00:00:00",
          "2021-06-25T00:00:00",
          "2021-06-28T00:00:00",
          "2021-06-29T00:00:00",
          "2021-06-30T00:00:00",
          "2021-07-01T00:00:00",
          "2021-07-02T00:00:00",
          "2021-07-05T00:00:00",
          "2021-07-06T00:00:00",
          "2021-07-07T00:00:00",
          "2021-07-08T00:00:00",
          "2021-07-09T00:00:00",
          "2021-07-12T00:00:00",
          "2021-07-13T00:00:00",
          "2021-07-14T00:00:00",
          "2021-07-15T00:00:00",
          "2021-07-16T00:00:00",
          "2021-07-19T00:00:00",
          "2021-07-20T00:00:00",
          "2021-07-21T00:00:00",
          "2021-07-22T00:00:00",
          "2021-07-23T00:00:00",
          "2021-07-26T00:00:00",
          "2021-07-27T00:00:00",
          "2021-07-28T00:00:00",
          "2021-07-29T00:00:00",
          "2021-07-30T00:00:00",
          "2021-08-02T00:00:00",
          "2021-08-03T00:00:00",
          "2021-08-04T00:00:00",
          "2021-08-05T00:00:00",
          "2021-08-06T00:00:00",
          "2021-08-09T00:00:00",
          "2021-08-10T00:00:00",
          "2021-08-11T00:00:00",
          "2021-08-12T00:00:00",
          "2021-08-13T00:00:00",
          "2021-08-16T00:00:00",
          "2021-08-17T00:00:00",
          "2021-08-18T00:00:00",
          "2021-08-19T00:00:00",
          "2021-08-20T00:00:00",
          "2021-08-23T00:00:00",
          "2021-08-24T00:00:00",
          "2021-08-25T00:00:00",
          "2021-08-26T00:00:00",
          "2021-08-27T00:00:00",
          "2021-08-30T00:00:00",
          "2021-08-31T00:00:00",
          "2021-09-01T00:00:00",
          "2021-09-02T00:00:00",
          "2021-09-03T00:00:00",
          "2021-09-06T00:00:00",
          "2021-09-07T00:00:00",
          "2021-09-08T00:00:00",
          "2021-09-09T00:00:00",
          "2021-09-10T00:00:00",
          "2021-09-13T00:00:00",
          "2021-09-14T00:00:00",
          "2021-09-15T00:00:00",
          "2021-09-16T00:00:00",
          "2021-09-17T00:00:00",
          "2021-09-20T00:00:00",
          "2021-09-21T00:00:00",
          "2021-09-22T00:00:00",
          "2021-09-23T00:00:00",
          "2021-09-24T00:00:00",
          "2021-09-27T00:00:00",
          "2021-09-28T00:00:00",
          "2021-09-29T00:00:00",
          "2021-09-30T00:00:00",
          "2021-10-01T00:00:00",
          "2021-10-04T00:00:00",
          "2021-10-05T00:00:00",
          "2021-10-06T00:00:00",
          "2021-10-07T00:00:00",
          "2021-10-08T00:00:00",
          "2021-10-11T00:00:00",
          "2021-10-12T00:00:00",
          "2021-10-13T00:00:00",
          "2021-10-14T00:00:00",
          "2021-10-15T00:00:00",
          "2021-10-18T00:00:00",
          "2021-10-19T00:00:00",
          "2021-10-20T00:00:00",
          "2021-10-21T00:00:00",
          "2021-10-22T00:00:00",
          "2021-10-25T00:00:00",
          "2021-10-26T00:00:00",
          "2021-10-27T00:00:00",
          "2021-10-28T00:00:00",
          "2021-10-29T00:00:00",
          "2021-11-01T00:00:00",
          "2021-11-02T00:00:00",
          "2021-11-03T00:00:00",
          "2021-11-04T00:00:00",
          "2021-11-05T00:00:00",
          "2021-11-08T00:00:00",
          "2021-11-09T00:00:00",
          "2021-11-10T00:00:00",
          "2021-11-11T00:00:00",
          "2021-11-12T00:00:00",
          "2021-11-15T00:00:00",
          "2021-11-16T00:00:00",
          "2021-11-17T00:00:00",
          "2021-11-18T00:00:00",
          "2021-11-19T00:00:00",
          "2021-11-22T00:00:00",
          "2021-11-23T00:00:00",
          "2021-11-24T00:00:00",
          "2021-11-25T00:00:00",
          "2021-11-26T00:00:00",
          "2021-11-29T00:00:00",
          "2021-11-30T00:00:00",
          "2021-12-01T00:00:00",
          "2021-12-02T00:00:00",
          "2021-12-03T00:00:00",
          "2021-12-06T00:00:00",
          "2021-12-07T00:00:00",
          "2021-12-08T00:00:00",
          "2021-12-09T00:00:00",
          "2021-12-10T00:00:00",
          "2021-12-13T00:00:00",
          "2021-12-14T00:00:00",
          "2021-12-15T00:00:00",
          "2021-12-16T00:00:00",
          "2021-12-17T00:00:00",
          "2021-12-20T00:00:00",
          "2021-12-21T00:00:00",
          "2021-12-22T00:00:00",
          "2021-12-23T00:00:00",
          "2021-12-24T00:00:00",
          "2021-12-27T00:00:00",
          "2021-12-28T00:00:00",
          "2021-12-29T00:00:00",
          "2021-12-30T00:00:00"
         ],
         "y": [
          1,
          1.002309469307048,
          1.0004536007670797,
          0.999677514104034,
          0.9913525071073918,
          0.9905115453519936,
          0.9866137910169622,
          1.0007485829831164,
          1.000737560515969,
          0.9907427022344536,
          0.9850231965196717,
          0.9892512049656109,
          0.9937499461998628,
          0.9974825734794401,
          0.9886358363711603,
          0.9865400979508918,
          0.9935364252648384,
          0.9900184736549388,
          0.9835361082376881,
          0.9857507843272695,
          0.9799520218249048,
          0.9714124441344624,
          0.9552357663732451,
          0.9531168282840287,
          0.9479036212268783,
          0.9397350282878497,
          0.9356501019630699,
          0.9389633506116629,
          0.9421335171390967,
          0.940481301801659,
          0.9384944233664546,
          0.9378912319738048,
          0.9292514023202608,
          0.9292096219209788,
          0.9232292511503781,
          0.9270201400420197,
          0.9314463429448547,
          0.9395731554846012,
          0.951143176809401,
          0.9599437245315399,
          0.9801831787073648,
          0.9864101378144317,
          0.9640297006150956,
          0.977297076904698,
          0.9887481605601849,
          0.9891246040572337,
          0.98549212376488,
          1.0117395573671126,
          0.9956619768343432,
          0.9830836622052619,
          0.9844497133003807,
          0.9938237442418106,
          0.9885258216514428,
          0.980173310974871,
          0.9875703312135904,
          0.9601627042121991,
          1.059963480991703,
          1.0262991867098858,
          1.0337304290847007,
          1.029390096449737,
          1.0267460690207997,
          1.052271478536947,
          1.0689698864098018,
          1.0730458897849864,
          1.066246602193282,
          1.0509516168279691,
          1.0598743564716264,
          1.0552203559144144,
          1.0629321988100355,
          1.0641595767708538,
          1.0680441041453084,
          1.0685505077788175,
          1.0681630418146215,
          1.0665283574487419,
          1.0649070050193166,
          1.0578390841568517,
          1.0642795641989427,
          1.071334258100831,
          1.0732748421740168,
          1.0852543743973073,
          1.0982333819511614,
          1.1188317486524773,
          1.1007595214695616,
          1.0919667419623644,
          1.0931456210677348,
          1.0923409809659839,
          1.095437454427347,
          1.095100586836151,
          1.0992294980536423,
          1.099254797240142,
          1.0991909719065656,
          1.1025053752898122,
          1.1039143615188667,
          1.1087851372633082,
          1.1209936218756291,
          1.1302300294415346,
          1.1294429203113416,
          1.110889798633172,
          1.1245567131128937,
          1.1256519264438225,
          1.1262827264922792,
          1.1293273418701117,
          1.1261473076101842,
          1.1397295065566884,
          1.134379830858667,
          1.139009581988155,
          1.1493621980605078,
          1.1422898682111837,
          1.1592303504577683,
          1.1531576009148858,
          1.161821575020276,
          1.1617984803272057,
          1.15362757791887,
          1.152336374624475,
          1.1502636259213994,
          1.1285160882880723,
          1.1168701694037728,
          1.128257427725683,
          1.1406507748584453,
          1.1370612297000273,
          1.1425881046794257,
          1.143614033931143,
          1.150454157139231,
          1.1350612292801237,
          1.1330193434850606,
          1.1420113672079293,
          1.1497463047966208,
          1.1407201639135343,
          1.1430240694990699,
          1.134858625836369,
          1.1302101890006695,
          1.1335432780901276,
          1.1308552657684792,
          1.1301771215992278,
          1.1265413870546688,
          1.1316433196815703,
          1.1308629290075434,
          1.1284753576475661,
          1.1170264784855088,
          1.119987533064777,
          1.1130021232421001,
          1.1092827229230995,
          1.113246507085137,
          1.1114060699991748,
          1.1102888117339516,
          1.1093641842041118,
          1.1076546520375083,
          1.111492990025822,
          1.113216798911778,
          1.114975774716728,
          1.1063172593569723,
          1.1017744282541315,
          1.0909386082172177,
          1.097166722058938,
          1.1038284912509955,
          1.1102039912248565,
          1.114554191592314,
          1.1173324831686926,
          1.1093597752172528,
          1.1147930117138383,
          1.1058956762325585,
          1.1045626925388814,
          1.0963367827706871,
          1.0860887226724172,
          1.0889540392513204,
          1.0953790878394054,
          1.0922827193539197,
          1.0893040288272158,
          1.0880183892543331,
          1.0849901501134054,
          1.083695692566805,
          1.0841811010247955,
          1.0863463334760306,
          1.0795381229347307,
          1.0796702875646205,
          1.0819477392290027,
          1.0874118386336005,
          1.08171101862503,
          1.0880591198948393,
          1.1032219406302626,
          1.099089775160566,
          1.0997622506324272,
          1.095330693959835,
          1.0952436689573104,
          1.0963642864506165,
          1.1045075802031452,
          1.1153775174002767,
          1.1183738438744162,
          1.1125067420757384,
          1.1135569207551796,
          1.131539918442141,
          1.1436987494643607,
          1.1351194908921878,
          1.1404163637237799,
          1.1385946123440294,
          1.1317193222169477,
          1.1304743083086937,
          1.1317644618443128,
          1.1311105671027855,
          1.1278017274410512,
          1.1286966467975323,
          1.140115817786231,
          1.1438760537216153,
          1.1471815341552665,
          1.1674232978003984,
          1.1722016947725582,
          1.1790340497657044,
          1.1939943720332504,
          1.1913162274440956,
          1.181927919783313,
          1.2197530379494097,
          1.2420608318414512,
          1.224587492040204,
          1.2171960355229972,
          1.2111825973509547,
          1.224823057909523,
          1.2189000039680882,
          1.218030383798107,
          1.2235528497906467,
          1.2321728390033255,
          1.232612058075175,
          1.2339626777162875,
          1.2350942127008635,
          1.2411208778334826,
          1.243640508847472,
          1.2498861536607504,
          1.26309957234927,
          1.2577862183048958,
          1.2877189350659113,
          1.3368267555798352,
          1.3810527778821704,
          1.3789657524597423,
          1.406178544232321,
          1.581875095921708,
          1.4642552937760431,
          1.4739254616681632,
          1.5332625515982683,
          1.5792487044402066,
          1.6838575863652292,
          1.6751021782704552,
          1.7037183925505759,
          1.7012186019774516,
          1.7118672500246168,
          1.678272344797889,
          1.7053838348485901,
          1.7123395364979082,
          1.7246128962025815,
          1.7143539186130419,
          1.7796659205681127,
          1.8374950320165928,
          1.951888505540312,
          2.05346463436167,
          1.6876771336714536,
          1.5245225749575004,
          1.4946713194774972,
          1.4086893572725923,
          1.3462811980435017,
          1.4367607467480048,
          1.4697811189966659,
          1.5752364214227212
         ]
        }
       ],
       "layout": {
        "template": {
         "data": {
          "bar": [
           {
            "error_x": {
             "color": "#2a3f5f"
            },
            "error_y": {
             "color": "#2a3f5f"
            },
            "marker": {
             "line": {
              "color": "#E5ECF6",
              "width": 0.5
             },
             "pattern": {
              "fillmode": "overlay",
              "size": 10,
              "solidity": 0.2
             }
            },
            "type": "bar"
           }
          ],
          "barpolar": [
           {
            "marker": {
             "line": {
              "color": "#E5ECF6",
              "width": 0.5
             },
             "pattern": {
              "fillmode": "overlay",
              "size": 10,
              "solidity": 0.2
             }
            },
            "type": "barpolar"
           }
          ],
          "carpet": [
           {
            "aaxis": {
             "endlinecolor": "#2a3f5f",
             "gridcolor": "white",
             "linecolor": "white",
             "minorgridcolor": "white",
             "startlinecolor": "#2a3f5f"
            },
            "baxis": {
             "endlinecolor": "#2a3f5f",
             "gridcolor": "white",
             "linecolor": "white",
             "minorgridcolor": "white",
             "startlinecolor": "#2a3f5f"
            },
            "type": "carpet"
           }
          ],
          "choropleth": [
           {
            "colorbar": {
             "outlinewidth": 0,
             "ticks": ""
            },
            "type": "choropleth"
           }
          ],
          "contour": [
           {
            "colorbar": {
             "outlinewidth": 0,
             "ticks": ""
            },
            "colorscale": [
             [
              0,
              "#0d0887"
             ],
             [
              0.1111111111111111,
              "#46039f"
             ],
             [
              0.2222222222222222,
              "#7201a8"
             ],
             [
              0.3333333333333333,
              "#9c179e"
             ],
             [
              0.4444444444444444,
              "#bd3786"
             ],
             [
              0.5555555555555556,
              "#d8576b"
             ],
             [
              0.6666666666666666,
              "#ed7953"
             ],
             [
              0.7777777777777778,
              "#fb9f3a"
             ],
             [
              0.8888888888888888,
              "#fdca26"
             ],
             [
              1,
              "#f0f921"
             ]
            ],
            "type": "contour"
           }
          ],
          "contourcarpet": [
           {
            "colorbar": {
             "outlinewidth": 0,
             "ticks": ""
            },
            "type": "contourcarpet"
           }
          ],
          "heatmap": [
           {
            "colorbar": {
             "outlinewidth": 0,
             "ticks": ""
            },
            "colorscale": [
             [
              0,
              "#0d0887"
             ],
             [
              0.1111111111111111,
              "#46039f"
             ],
             [
              0.2222222222222222,
              "#7201a8"
             ],
             [
              0.3333333333333333,
              "#9c179e"
             ],
             [
              0.4444444444444444,
              "#bd3786"
             ],
             [
              0.5555555555555556,
              "#d8576b"
             ],
             [
              0.6666666666666666,
              "#ed7953"
             ],
             [
              0.7777777777777778,
              "#fb9f3a"
             ],
             [
              0.8888888888888888,
              "#fdca26"
             ],
             [
              1,
              "#f0f921"
             ]
            ],
            "type": "heatmap"
           }
          ],
          "heatmapgl": [
           {
            "colorbar": {
             "outlinewidth": 0,
             "ticks": ""
            },
            "colorscale": [
             [
              0,
              "#0d0887"
             ],
             [
              0.1111111111111111,
              "#46039f"
             ],
             [
              0.2222222222222222,
              "#7201a8"
             ],
             [
              0.3333333333333333,
              "#9c179e"
             ],
             [
              0.4444444444444444,
              "#bd3786"
             ],
             [
              0.5555555555555556,
              "#d8576b"
             ],
             [
              0.6666666666666666,
              "#ed7953"
             ],
             [
              0.7777777777777778,
              "#fb9f3a"
             ],
             [
              0.8888888888888888,
              "#fdca26"
             ],
             [
              1,
              "#f0f921"
             ]
            ],
            "type": "heatmapgl"
           }
          ],
          "histogram": [
           {
            "marker": {
             "pattern": {
              "fillmode": "overlay",
              "size": 10,
              "solidity": 0.2
             }
            },
            "type": "histogram"
           }
          ],
          "histogram2d": [
           {
            "colorbar": {
             "outlinewidth": 0,
             "ticks": ""
            },
            "colorscale": [
             [
              0,
              "#0d0887"
             ],
             [
              0.1111111111111111,
              "#46039f"
             ],
             [
              0.2222222222222222,
              "#7201a8"
             ],
             [
              0.3333333333333333,
              "#9c179e"
             ],
             [
              0.4444444444444444,
              "#bd3786"
             ],
             [
              0.5555555555555556,
              "#d8576b"
             ],
             [
              0.6666666666666666,
              "#ed7953"
             ],
             [
              0.7777777777777778,
              "#fb9f3a"
             ],
             [
              0.8888888888888888,
              "#fdca26"
             ],
             [
              1,
              "#f0f921"
             ]
            ],
            "type": "histogram2d"
           }
          ],
          "histogram2dcontour": [
           {
            "colorbar": {
             "outlinewidth": 0,
             "ticks": ""
            },
            "colorscale": [
             [
              0,
              "#0d0887"
             ],
             [
              0.1111111111111111,
              "#46039f"
             ],
             [
              0.2222222222222222,
              "#7201a8"
             ],
             [
              0.3333333333333333,
              "#9c179e"
             ],
             [
              0.4444444444444444,
              "#bd3786"
             ],
             [
              0.5555555555555556,
              "#d8576b"
             ],
             [
              0.6666666666666666,
              "#ed7953"
             ],
             [
              0.7777777777777778,
              "#fb9f3a"
             ],
             [
              0.8888888888888888,
              "#fdca26"
             ],
             [
              1,
              "#f0f921"
             ]
            ],
            "type": "histogram2dcontour"
           }
          ],
          "mesh3d": [
           {
            "colorbar": {
             "outlinewidth": 0,
             "ticks": ""
            },
            "type": "mesh3d"
           }
          ],
          "parcoords": [
           {
            "line": {
             "colorbar": {
              "outlinewidth": 0,
              "ticks": ""
             }
            },
            "type": "parcoords"
           }
          ],
          "pie": [
           {
            "automargin": true,
            "type": "pie"
           }
          ],
          "scatter": [
           {
            "fillpattern": {
             "fillmode": "overlay",
             "size": 10,
             "solidity": 0.2
            },
            "type": "scatter"
           }
          ],
          "scatter3d": [
           {
            "line": {
             "colorbar": {
              "outlinewidth": 0,
              "ticks": ""
             }
            },
            "marker": {
             "colorbar": {
              "outlinewidth": 0,
              "ticks": ""
             }
            },
            "type": "scatter3d"
           }
          ],
          "scattercarpet": [
           {
            "marker": {
             "colorbar": {
              "outlinewidth": 0,
              "ticks": ""
             }
            },
            "type": "scattercarpet"
           }
          ],
          "scattergeo": [
           {
            "marker": {
             "colorbar": {
              "outlinewidth": 0,
              "ticks": ""
             }
            },
            "type": "scattergeo"
           }
          ],
          "scattergl": [
           {
            "marker": {
             "colorbar": {
              "outlinewidth": 0,
              "ticks": ""
             }
            },
            "type": "scattergl"
           }
          ],
          "scattermapbox": [
           {
            "marker": {
             "colorbar": {
              "outlinewidth": 0,
              "ticks": ""
             }
            },
            "type": "scattermapbox"
           }
          ],
          "scatterpolar": [
           {
            "marker": {
             "colorbar": {
              "outlinewidth": 0,
              "ticks": ""
             }
            },
            "type": "scatterpolar"
           }
          ],
          "scatterpolargl": [
           {
            "marker": {
             "colorbar": {
              "outlinewidth": 0,
              "ticks": ""
             }
            },
            "type": "scatterpolargl"
           }
          ],
          "scatterternary": [
           {
            "marker": {
             "colorbar": {
              "outlinewidth": 0,
              "ticks": ""
             }
            },
            "type": "scatterternary"
           }
          ],
          "surface": [
           {
            "colorbar": {
             "outlinewidth": 0,
             "ticks": ""
            },
            "colorscale": [
             [
              0,
              "#0d0887"
             ],
             [
              0.1111111111111111,
              "#46039f"
             ],
             [
              0.2222222222222222,
              "#7201a8"
             ],
             [
              0.3333333333333333,
              "#9c179e"
             ],
             [
              0.4444444444444444,
              "#bd3786"
             ],
             [
              0.5555555555555556,
              "#d8576b"
             ],
             [
              0.6666666666666666,
              "#ed7953"
             ],
             [
              0.7777777777777778,
              "#fb9f3a"
             ],
             [
              0.8888888888888888,
              "#fdca26"
             ],
             [
              1,
              "#f0f921"
             ]
            ],
            "type": "surface"
           }
          ],
          "table": [
           {
            "cells": {
             "fill": {
              "color": "#EBF0F8"
             },
             "line": {
              "color": "white"
             }
            },
            "header": {
             "fill": {
              "color": "#C8D4E3"
             },
             "line": {
              "color": "white"
             }
            },
            "type": "table"
           }
          ]
         },
         "layout": {
          "annotationdefaults": {
           "arrowcolor": "#2a3f5f",
           "arrowhead": 0,
           "arrowwidth": 1
          },
          "autotypenumbers": "strict",
          "coloraxis": {
           "colorbar": {
            "outlinewidth": 0,
            "ticks": ""
           }
          },
          "colorscale": {
           "diverging": [
            [
             0,
             "#8e0152"
            ],
            [
             0.1,
             "#c51b7d"
            ],
            [
             0.2,
             "#de77ae"
            ],
            [
             0.3,
             "#f1b6da"
            ],
            [
             0.4,
             "#fde0ef"
            ],
            [
             0.5,
             "#f7f7f7"
            ],
            [
             0.6,
             "#e6f5d0"
            ],
            [
             0.7,
             "#b8e186"
            ],
            [
             0.8,
             "#7fbc41"
            ],
            [
             0.9,
             "#4d9221"
            ],
            [
             1,
             "#276419"
            ]
           ],
           "sequential": [
            [
             0,
             "#0d0887"
            ],
            [
             0.1111111111111111,
             "#46039f"
            ],
            [
             0.2222222222222222,
             "#7201a8"
            ],
            [
             0.3333333333333333,
             "#9c179e"
            ],
            [
             0.4444444444444444,
             "#bd3786"
            ],
            [
             0.5555555555555556,
             "#d8576b"
            ],
            [
             0.6666666666666666,
             "#ed7953"
            ],
            [
             0.7777777777777778,
             "#fb9f3a"
            ],
            [
             0.8888888888888888,
             "#fdca26"
            ],
            [
             1,
             "#f0f921"
            ]
           ],
           "sequentialminus": [
            [
             0,
             "#0d0887"
            ],
            [
             0.1111111111111111,
             "#46039f"
            ],
            [
             0.2222222222222222,
             "#7201a8"
            ],
            [
             0.3333333333333333,
             "#9c179e"
            ],
            [
             0.4444444444444444,
             "#bd3786"
            ],
            [
             0.5555555555555556,
             "#d8576b"
            ],
            [
             0.6666666666666666,
             "#ed7953"
            ],
            [
             0.7777777777777778,
             "#fb9f3a"
            ],
            [
             0.8888888888888888,
             "#fdca26"
            ],
            [
             1,
             "#f0f921"
            ]
           ]
          },
          "colorway": [
           "#636efa",
           "#EF553B",
           "#00cc96",
           "#ab63fa",
           "#FFA15A",
           "#19d3f3",
           "#FF6692",
           "#B6E880",
           "#FF97FF",
           "#FECB52"
          ],
          "font": {
           "color": "#2a3f5f"
          },
          "geo": {
           "bgcolor": "white",
           "lakecolor": "white",
           "landcolor": "#E5ECF6",
           "showlakes": true,
           "showland": true,
           "subunitcolor": "white"
          },
          "hoverlabel": {
           "align": "left"
          },
          "hovermode": "closest",
          "mapbox": {
           "style": "light"
          },
          "paper_bgcolor": "white",
          "plot_bgcolor": "#E5ECF6",
          "polar": {
           "angularaxis": {
            "gridcolor": "white",
            "linecolor": "white",
            "ticks": ""
           },
           "bgcolor": "#E5ECF6",
           "radialaxis": {
            "gridcolor": "white",
            "linecolor": "white",
            "ticks": ""
           }
          },
          "scene": {
           "xaxis": {
            "backgroundcolor": "#E5ECF6",
            "gridcolor": "white",
            "gridwidth": 2,
            "linecolor": "white",
            "showbackground": true,
            "ticks": "",
            "zerolinecolor": "white"
           },
           "yaxis": {
            "backgroundcolor": "#E5ECF6",
            "gridcolor": "white",
            "gridwidth": 2,
            "linecolor": "white",
            "showbackground": true,
            "ticks": "",
            "zerolinecolor": "white"
           },
           "zaxis": {
            "backgroundcolor": "#E5ECF6",
            "gridcolor": "white",
            "gridwidth": 2,
            "linecolor": "white",
            "showbackground": true,
            "ticks": "",
            "zerolinecolor": "white"
           }
          },
          "shapedefaults": {
           "line": {
            "color": "#2a3f5f"
           }
          },
          "ternary": {
           "aaxis": {
            "gridcolor": "white",
            "linecolor": "white",
            "ticks": ""
           },
           "baxis": {
            "gridcolor": "white",
            "linecolor": "white",
            "ticks": ""
           },
           "bgcolor": "#E5ECF6",
           "caxis": {
            "gridcolor": "white",
            "linecolor": "white",
            "ticks": ""
           }
          },
          "title": {
           "x": 0.05
          },
          "xaxis": {
           "automargin": true,
           "gridcolor": "white",
           "linecolor": "white",
           "ticks": "",
           "title": {
            "standoff": 15
           },
           "zerolinecolor": "white",
           "zerolinewidth": 2
          },
          "yaxis": {
           "automargin": true,
           "gridcolor": "white",
           "linecolor": "white",
           "ticks": "",
           "title": {
            "standoff": 15
           },
           "zerolinecolor": "white",
           "zerolinewidth": 2
          }
         }
        }
       }
      },
      "text/html": [
       "<div>                            <div id=\"b58a8acf-b711-4ae8-8962-8028d6401e95\" class=\"plotly-graph-div\" style=\"height:525px; width:100%;\"></div>            <script type=\"text/javascript\">                require([\"plotly\"], function(Plotly) {                    window.PLOTLYENV=window.PLOTLYENV || {};                                    if (document.getElementById(\"b58a8acf-b711-4ae8-8962-8028d6401e95\")) {                    Plotly.newPlot(                        \"b58a8acf-b711-4ae8-8962-8028d6401e95\",                        [{\"x\":[\"2021-01-01T00:00:00\",\"2021-01-04T00:00:00\",\"2021-01-05T00:00:00\",\"2021-01-06T00:00:00\",\"2021-01-07T00:00:00\",\"2021-01-08T00:00:00\",\"2021-01-11T00:00:00\",\"2021-01-12T00:00:00\",\"2021-01-13T00:00:00\",\"2021-01-14T00:00:00\",\"2021-01-15T00:00:00\",\"2021-01-18T00:00:00\",\"2021-01-19T00:00:00\",\"2021-01-20T00:00:00\",\"2021-01-21T00:00:00\",\"2021-01-22T00:00:00\",\"2021-01-25T00:00:00\",\"2021-01-26T00:00:00\",\"2021-01-27T00:00:00\",\"2021-01-28T00:00:00\",\"2021-01-29T00:00:00\",\"2021-02-01T00:00:00\",\"2021-02-02T00:00:00\",\"2021-02-03T00:00:00\",\"2021-02-04T00:00:00\",\"2021-02-05T00:00:00\",\"2021-02-08T00:00:00\",\"2021-02-09T00:00:00\",\"2021-02-10T00:00:00\",\"2021-02-11T00:00:00\",\"2021-02-12T00:00:00\",\"2021-02-15T00:00:00\",\"2021-02-16T00:00:00\",\"2021-02-17T00:00:00\",\"2021-02-18T00:00:00\",\"2021-02-19T00:00:00\",\"2021-02-22T00:00:00\",\"2021-02-23T00:00:00\",\"2021-02-24T00:00:00\",\"2021-02-25T00:00:00\",\"2021-02-26T00:00:00\",\"2021-03-01T00:00:00\",\"2021-03-02T00:00:00\",\"2021-03-03T00:00:00\",\"2021-03-04T00:00:00\",\"2021-03-05T00:00:00\",\"2021-03-08T00:00:00\",\"2021-03-09T00:00:00\",\"2021-03-10T00:00:00\",\"2021-03-11T00:00:00\",\"2021-03-12T00:00:00\",\"2021-03-15T00:00:00\",\"2021-03-16T00:00:00\",\"2021-03-17T00:00:00\",\"2021-03-18T00:00:00\",\"2021-03-19T00:00:00\",\"2021-03-22T00:00:00\",\"2021-03-23T00:00:00\",\"2021-03-24T00:00:00\",\"2021-03-25T00:00:00\",\"2021-03-26T00:00:00\",\"2021-03-29T00:00:00\",\"2021-03-30T00:00:00\",\"2021-03-31T00:00:00\",\"2021-04-01T00:00:00\",\"2021-04-02T00:00:00\",\"2021-04-05T00:00:00\",\"2021-04-06T00:00:00\",\"2021-04-07T00:00:00\",\"2021-04-08T00:00:00\",\"2021-04-09T00:00:00\",\"2021-04-12T00:00:00\",\"2021-04-13T00:00:00\",\"2021-04-14T00:00:00\",\"2021-04-15T00:00:00\",\"2021-04-16T00:00:00\",\"2021-04-19T00:00:00\",\"2021-04-20T00:00:00\",\"2021-04-21T00:00:00\",\"2021-04-22T00:00:00\",\"2021-04-23T00:00:00\",\"2021-04-26T00:00:00\",\"2021-04-27T00:00:00\",\"2021-04-28T00:00:00\",\"2021-04-29T00:00:00\",\"2021-04-30T00:00:00\",\"2021-05-03T00:00:00\",\"2021-05-04T00:00:00\",\"2021-05-05T00:00:00\",\"2021-05-06T00:00:00\",\"2021-05-07T00:00:00\",\"2021-05-10T00:00:00\",\"2021-05-11T00:00:00\",\"2021-05-12T00:00:00\",\"2021-05-13T00:00:00\",\"2021-05-14T00:00:00\",\"2021-05-17T00:00:00\",\"2021-05-18T00:00:00\",\"2021-05-19T00:00:00\",\"2021-05-20T00:00:00\",\"2021-05-21T00:00:00\",\"2021-05-24T00:00:00\",\"2021-05-25T00:00:00\",\"2021-05-26T00:00:00\",\"2021-05-27T00:00:00\",\"2021-05-28T00:00:00\",\"2021-05-31T00:00:00\",\"2021-06-01T00:00:00\",\"2021-06-02T00:00:00\",\"2021-06-03T00:00:00\",\"2021-06-04T00:00:00\",\"2021-06-07T00:00:00\",\"2021-06-08T00:00:00\",\"2021-06-09T00:00:00\",\"2021-06-10T00:00:00\",\"2021-06-11T00:00:00\",\"2021-06-14T00:00:00\",\"2021-06-15T00:00:00\",\"2021-06-16T00:00:00\",\"2021-06-17T00:00:00\",\"2021-06-18T00:00:00\",\"2021-06-21T00:00:00\",\"2021-06-22T00:00:00\",\"2021-06-23T00:00:00\",\"2021-06-24T00:00:00\",\"2021-06-25T00:00:00\",\"2021-06-28T00:00:00\",\"2021-06-29T00:00:00\",\"2021-06-30T00:00:00\",\"2021-07-01T00:00:00\",\"2021-07-02T00:00:00\",\"2021-07-05T00:00:00\",\"2021-07-06T00:00:00\",\"2021-07-07T00:00:00\",\"2021-07-08T00:00:00\",\"2021-07-09T00:00:00\",\"2021-07-12T00:00:00\",\"2021-07-13T00:00:00\",\"2021-07-14T00:00:00\",\"2021-07-15T00:00:00\",\"2021-07-16T00:00:00\",\"2021-07-19T00:00:00\",\"2021-07-20T00:00:00\",\"2021-07-21T00:00:00\",\"2021-07-22T00:00:00\",\"2021-07-23T00:00:00\",\"2021-07-26T00:00:00\",\"2021-07-27T00:00:00\",\"2021-07-28T00:00:00\",\"2021-07-29T00:00:00\",\"2021-07-30T00:00:00\",\"2021-08-02T00:00:00\",\"2021-08-03T00:00:00\",\"2021-08-04T00:00:00\",\"2021-08-05T00:00:00\",\"2021-08-06T00:00:00\",\"2021-08-09T00:00:00\",\"2021-08-10T00:00:00\",\"2021-08-11T00:00:00\",\"2021-08-12T00:00:00\",\"2021-08-13T00:00:00\",\"2021-08-16T00:00:00\",\"2021-08-17T00:00:00\",\"2021-08-18T00:00:00\",\"2021-08-19T00:00:00\",\"2021-08-20T00:00:00\",\"2021-08-23T00:00:00\",\"2021-08-24T00:00:00\",\"2021-08-25T00:00:00\",\"2021-08-26T00:00:00\",\"2021-08-27T00:00:00\",\"2021-08-30T00:00:00\",\"2021-08-31T00:00:00\",\"2021-09-01T00:00:00\",\"2021-09-02T00:00:00\",\"2021-09-03T00:00:00\",\"2021-09-06T00:00:00\",\"2021-09-07T00:00:00\",\"2021-09-08T00:00:00\",\"2021-09-09T00:00:00\",\"2021-09-10T00:00:00\",\"2021-09-13T00:00:00\",\"2021-09-14T00:00:00\",\"2021-09-15T00:00:00\",\"2021-09-16T00:00:00\",\"2021-09-17T00:00:00\",\"2021-09-20T00:00:00\",\"2021-09-21T00:00:00\",\"2021-09-22T00:00:00\",\"2021-09-23T00:00:00\",\"2021-09-24T00:00:00\",\"2021-09-27T00:00:00\",\"2021-09-28T00:00:00\",\"2021-09-29T00:00:00\",\"2021-09-30T00:00:00\",\"2021-10-01T00:00:00\",\"2021-10-04T00:00:00\",\"2021-10-05T00:00:00\",\"2021-10-06T00:00:00\",\"2021-10-07T00:00:00\",\"2021-10-08T00:00:00\",\"2021-10-11T00:00:00\",\"2021-10-12T00:00:00\",\"2021-10-13T00:00:00\",\"2021-10-14T00:00:00\",\"2021-10-15T00:00:00\",\"2021-10-18T00:00:00\",\"2021-10-19T00:00:00\",\"2021-10-20T00:00:00\",\"2021-10-21T00:00:00\",\"2021-10-22T00:00:00\",\"2021-10-25T00:00:00\",\"2021-10-26T00:00:00\",\"2021-10-27T00:00:00\",\"2021-10-28T00:00:00\",\"2021-10-29T00:00:00\",\"2021-11-01T00:00:00\",\"2021-11-02T00:00:00\",\"2021-11-03T00:00:00\",\"2021-11-04T00:00:00\",\"2021-11-05T00:00:00\",\"2021-11-08T00:00:00\",\"2021-11-09T00:00:00\",\"2021-11-10T00:00:00\",\"2021-11-11T00:00:00\",\"2021-11-12T00:00:00\",\"2021-11-15T00:00:00\",\"2021-11-16T00:00:00\",\"2021-11-17T00:00:00\",\"2021-11-18T00:00:00\",\"2021-11-19T00:00:00\",\"2021-11-22T00:00:00\",\"2021-11-23T00:00:00\",\"2021-11-24T00:00:00\",\"2021-11-25T00:00:00\",\"2021-11-26T00:00:00\",\"2021-11-29T00:00:00\",\"2021-11-30T00:00:00\",\"2021-12-01T00:00:00\",\"2021-12-02T00:00:00\",\"2021-12-03T00:00:00\",\"2021-12-06T00:00:00\",\"2021-12-07T00:00:00\",\"2021-12-08T00:00:00\",\"2021-12-09T00:00:00\",\"2021-12-10T00:00:00\",\"2021-12-13T00:00:00\",\"2021-12-14T00:00:00\",\"2021-12-15T00:00:00\",\"2021-12-16T00:00:00\",\"2021-12-17T00:00:00\",\"2021-12-20T00:00:00\",\"2021-12-21T00:00:00\",\"2021-12-22T00:00:00\",\"2021-12-23T00:00:00\",\"2021-12-24T00:00:00\",\"2021-12-27T00:00:00\",\"2021-12-28T00:00:00\",\"2021-12-29T00:00:00\",\"2021-12-30T00:00:00\"],\"y\":[1.0,1.002309469307048,1.0004536007670797,0.999677514104034,0.9913525071073918,0.9905115453519936,0.9866137910169622,1.0007485829831164,1.000737560515969,0.9907427022344536,0.9850231965196717,0.9892512049656109,0.9937499461998628,0.9974825734794401,0.9886358363711603,0.9865400979508918,0.9935364252648384,0.9900184736549388,0.9835361082376881,0.9857507843272695,0.9799520218249048,0.9714124441344624,0.9552357663732451,0.9531168282840287,0.9479036212268783,0.9397350282878497,0.9356501019630699,0.9389633506116629,0.9421335171390967,0.940481301801659,0.9384944233664546,0.9378912319738048,0.9292514023202608,0.9292096219209788,0.9232292511503781,0.9270201400420197,0.9314463429448547,0.9395731554846012,0.951143176809401,0.9599437245315399,0.9801831787073648,0.9864101378144317,0.9640297006150956,0.977297076904698,0.9887481605601849,0.9891246040572337,0.98549212376488,1.0117395573671126,0.9956619768343432,0.9830836622052619,0.9844497133003807,0.9938237442418106,0.9885258216514428,0.980173310974871,0.9875703312135904,0.9601627042121991,1.059963480991703,1.0262991867098858,1.0337304290847007,1.029390096449737,1.0267460690207997,1.052271478536947,1.0689698864098018,1.0730458897849864,1.066246602193282,1.0509516168279691,1.0598743564716264,1.0552203559144144,1.0629321988100355,1.0641595767708538,1.0680441041453084,1.0685505077788175,1.0681630418146215,1.0665283574487419,1.0649070050193166,1.0578390841568517,1.0642795641989427,1.071334258100831,1.0732748421740168,1.0852543743973073,1.0982333819511614,1.1188317486524773,1.1007595214695616,1.0919667419623644,1.0931456210677348,1.0923409809659839,1.095437454427347,1.095100586836151,1.0992294980536423,1.099254797240142,1.0991909719065656,1.1025053752898122,1.1039143615188667,1.1087851372633082,1.1209936218756291,1.1302300294415346,1.1294429203113416,1.110889798633172,1.1245567131128937,1.1256519264438225,1.1262827264922792,1.1293273418701117,1.1261473076101842,1.1397295065566884,1.134379830858667,1.139009581988155,1.1493621980605078,1.1422898682111837,1.1592303504577683,1.1531576009148858,1.161821575020276,1.1617984803272057,1.15362757791887,1.152336374624475,1.1502636259213994,1.1285160882880723,1.1168701694037728,1.128257427725683,1.1406507748584453,1.1370612297000273,1.1425881046794257,1.143614033931143,1.150454157139231,1.1350612292801237,1.1330193434850606,1.1420113672079293,1.1497463047966208,1.1407201639135343,1.1430240694990699,1.134858625836369,1.1302101890006695,1.1335432780901276,1.1308552657684792,1.1301771215992278,1.1265413870546688,1.1316433196815703,1.1308629290075434,1.1284753576475661,1.1170264784855088,1.119987533064777,1.1130021232421001,1.1092827229230995,1.113246507085137,1.1114060699991748,1.1102888117339516,1.1093641842041118,1.1076546520375083,1.111492990025822,1.113216798911778,1.114975774716728,1.1063172593569723,1.1017744282541315,1.0909386082172177,1.097166722058938,1.1038284912509955,1.1102039912248565,1.114554191592314,1.1173324831686926,1.1093597752172528,1.1147930117138383,1.1058956762325585,1.1045626925388814,1.0963367827706871,1.0860887226724172,1.0889540392513204,1.0953790878394054,1.0922827193539197,1.0893040288272158,1.0880183892543331,1.0849901501134054,1.083695692566805,1.0841811010247955,1.0863463334760306,1.0795381229347307,1.0796702875646205,1.0819477392290027,1.0874118386336005,1.08171101862503,1.0880591198948393,1.1032219406302626,1.099089775160566,1.0997622506324272,1.095330693959835,1.0952436689573104,1.0963642864506165,1.1045075802031452,1.1153775174002767,1.1183738438744162,1.1125067420757384,1.1135569207551796,1.131539918442141,1.1436987494643607,1.1351194908921878,1.1404163637237799,1.1385946123440294,1.1317193222169477,1.1304743083086937,1.1317644618443128,1.1311105671027855,1.1278017274410512,1.1286966467975323,1.140115817786231,1.1438760537216153,1.1471815341552665,1.1674232978003984,1.1722016947725582,1.1790340497657044,1.1939943720332504,1.1913162274440956,1.181927919783313,1.2197530379494097,1.2420608318414512,1.224587492040204,1.2171960355229972,1.2111825973509547,1.224823057909523,1.2189000039680882,1.218030383798107,1.2235528497906467,1.2321728390033255,1.232612058075175,1.2339626777162875,1.2350942127008635,1.2411208778334826,1.243640508847472,1.2498861536607504,1.26309957234927,1.2577862183048958,1.2877189350659113,1.3368267555798352,1.3810527778821704,1.3789657524597423,1.406178544232321,1.581875095921708,1.4642552937760431,1.4739254616681632,1.5332625515982683,1.5792487044402066,1.6838575863652292,1.6751021782704552,1.7037183925505759,1.7012186019774516,1.7118672500246168,1.678272344797889,1.7053838348485901,1.7123395364979082,1.7246128962025815,1.7143539186130419,1.7796659205681127,1.8374950320165928,1.951888505540312,2.05346463436167,1.6876771336714536,1.5245225749575004,1.4946713194774972,1.4086893572725923,1.3462811980435017,1.4367607467480048,1.4697811189966659,1.5752364214227212],\"type\":\"bar\"}],                        {\"template\":{\"data\":{\"histogram2dcontour\":[{\"type\":\"histogram2dcontour\",\"colorbar\":{\"outlinewidth\":0,\"ticks\":\"\"},\"colorscale\":[[0.0,\"#0d0887\"],[0.1111111111111111,\"#46039f\"],[0.2222222222222222,\"#7201a8\"],[0.3333333333333333,\"#9c179e\"],[0.4444444444444444,\"#bd3786\"],[0.5555555555555556,\"#d8576b\"],[0.6666666666666666,\"#ed7953\"],[0.7777777777777778,\"#fb9f3a\"],[0.8888888888888888,\"#fdca26\"],[1.0,\"#f0f921\"]]}],\"choropleth\":[{\"type\":\"choropleth\",\"colorbar\":{\"outlinewidth\":0,\"ticks\":\"\"}}],\"histogram2d\":[{\"type\":\"histogram2d\",\"colorbar\":{\"outlinewidth\":0,\"ticks\":\"\"},\"colorscale\":[[0.0,\"#0d0887\"],[0.1111111111111111,\"#46039f\"],[0.2222222222222222,\"#7201a8\"],[0.3333333333333333,\"#9c179e\"],[0.4444444444444444,\"#bd3786\"],[0.5555555555555556,\"#d8576b\"],[0.6666666666666666,\"#ed7953\"],[0.7777777777777778,\"#fb9f3a\"],[0.8888888888888888,\"#fdca26\"],[1.0,\"#f0f921\"]]}],\"heatmap\":[{\"type\":\"heatmap\",\"colorbar\":{\"outlinewidth\":0,\"ticks\":\"\"},\"colorscale\":[[0.0,\"#0d0887\"],[0.1111111111111111,\"#46039f\"],[0.2222222222222222,\"#7201a8\"],[0.3333333333333333,\"#9c179e\"],[0.4444444444444444,\"#bd3786\"],[0.5555555555555556,\"#d8576b\"],[0.6666666666666666,\"#ed7953\"],[0.7777777777777778,\"#fb9f3a\"],[0.8888888888888888,\"#fdca26\"],[1.0,\"#f0f921\"]]}],\"heatmapgl\":[{\"type\":\"heatmapgl\",\"colorbar\":{\"outlinewidth\":0,\"ticks\":\"\"},\"colorscale\":[[0.0,\"#0d0887\"],[0.1111111111111111,\"#46039f\"],[0.2222222222222222,\"#7201a8\"],[0.3333333333333333,\"#9c179e\"],[0.4444444444444444,\"#bd3786\"],[0.5555555555555556,\"#d8576b\"],[0.6666666666666666,\"#ed7953\"],[0.7777777777777778,\"#fb9f3a\"],[0.8888888888888888,\"#fdca26\"],[1.0,\"#f0f921\"]]}],\"contourcarpet\":[{\"type\":\"contourcarpet\",\"colorbar\":{\"outlinewidth\":0,\"ticks\":\"\"}}],\"contour\":[{\"type\":\"contour\",\"colorbar\":{\"outlinewidth\":0,\"ticks\":\"\"},\"colorscale\":[[0.0,\"#0d0887\"],[0.1111111111111111,\"#46039f\"],[0.2222222222222222,\"#7201a8\"],[0.3333333333333333,\"#9c179e\"],[0.4444444444444444,\"#bd3786\"],[0.5555555555555556,\"#d8576b\"],[0.6666666666666666,\"#ed7953\"],[0.7777777777777778,\"#fb9f3a\"],[0.8888888888888888,\"#fdca26\"],[1.0,\"#f0f921\"]]}],\"surface\":[{\"type\":\"surface\",\"colorbar\":{\"outlinewidth\":0,\"ticks\":\"\"},\"colorscale\":[[0.0,\"#0d0887\"],[0.1111111111111111,\"#46039f\"],[0.2222222222222222,\"#7201a8\"],[0.3333333333333333,\"#9c179e\"],[0.4444444444444444,\"#bd3786\"],[0.5555555555555556,\"#d8576b\"],[0.6666666666666666,\"#ed7953\"],[0.7777777777777778,\"#fb9f3a\"],[0.8888888888888888,\"#fdca26\"],[1.0,\"#f0f921\"]]}],\"mesh3d\":[{\"type\":\"mesh3d\",\"colorbar\":{\"outlinewidth\":0,\"ticks\":\"\"}}],\"scatter\":[{\"fillpattern\":{\"fillmode\":\"overlay\",\"size\":10,\"solidity\":0.2},\"type\":\"scatter\"}],\"parcoords\":[{\"type\":\"parcoords\",\"line\":{\"colorbar\":{\"outlinewidth\":0,\"ticks\":\"\"}}}],\"scatterpolargl\":[{\"type\":\"scatterpolargl\",\"marker\":{\"colorbar\":{\"outlinewidth\":0,\"ticks\":\"\"}}}],\"bar\":[{\"error_x\":{\"color\":\"#2a3f5f\"},\"error_y\":{\"color\":\"#2a3f5f\"},\"marker\":{\"line\":{\"color\":\"#E5ECF6\",\"width\":0.5},\"pattern\":{\"fillmode\":\"overlay\",\"size\":10,\"solidity\":0.2}},\"type\":\"bar\"}],\"scattergeo\":[{\"type\":\"scattergeo\",\"marker\":{\"colorbar\":{\"outlinewidth\":0,\"ticks\":\"\"}}}],\"scatterpolar\":[{\"type\":\"scatterpolar\",\"marker\":{\"colorbar\":{\"outlinewidth\":0,\"ticks\":\"\"}}}],\"histogram\":[{\"marker\":{\"pattern\":{\"fillmode\":\"overlay\",\"size\":10,\"solidity\":0.2}},\"type\":\"histogram\"}],\"scattergl\":[{\"type\":\"scattergl\",\"marker\":{\"colorbar\":{\"outlinewidth\":0,\"ticks\":\"\"}}}],\"scatter3d\":[{\"type\":\"scatter3d\",\"line\":{\"colorbar\":{\"outlinewidth\":0,\"ticks\":\"\"}},\"marker\":{\"colorbar\":{\"outlinewidth\":0,\"ticks\":\"\"}}}],\"scattermapbox\":[{\"type\":\"scattermapbox\",\"marker\":{\"colorbar\":{\"outlinewidth\":0,\"ticks\":\"\"}}}],\"scatterternary\":[{\"type\":\"scatterternary\",\"marker\":{\"colorbar\":{\"outlinewidth\":0,\"ticks\":\"\"}}}],\"scattercarpet\":[{\"type\":\"scattercarpet\",\"marker\":{\"colorbar\":{\"outlinewidth\":0,\"ticks\":\"\"}}}],\"carpet\":[{\"aaxis\":{\"endlinecolor\":\"#2a3f5f\",\"gridcolor\":\"white\",\"linecolor\":\"white\",\"minorgridcolor\":\"white\",\"startlinecolor\":\"#2a3f5f\"},\"baxis\":{\"endlinecolor\":\"#2a3f5f\",\"gridcolor\":\"white\",\"linecolor\":\"white\",\"minorgridcolor\":\"white\",\"startlinecolor\":\"#2a3f5f\"},\"type\":\"carpet\"}],\"table\":[{\"cells\":{\"fill\":{\"color\":\"#EBF0F8\"},\"line\":{\"color\":\"white\"}},\"header\":{\"fill\":{\"color\":\"#C8D4E3\"},\"line\":{\"color\":\"white\"}},\"type\":\"table\"}],\"barpolar\":[{\"marker\":{\"line\":{\"color\":\"#E5ECF6\",\"width\":0.5},\"pattern\":{\"fillmode\":\"overlay\",\"size\":10,\"solidity\":0.2}},\"type\":\"barpolar\"}],\"pie\":[{\"automargin\":true,\"type\":\"pie\"}]},\"layout\":{\"autotypenumbers\":\"strict\",\"colorway\":[\"#636efa\",\"#EF553B\",\"#00cc96\",\"#ab63fa\",\"#FFA15A\",\"#19d3f3\",\"#FF6692\",\"#B6E880\",\"#FF97FF\",\"#FECB52\"],\"font\":{\"color\":\"#2a3f5f\"},\"hovermode\":\"closest\",\"hoverlabel\":{\"align\":\"left\"},\"paper_bgcolor\":\"white\",\"plot_bgcolor\":\"#E5ECF6\",\"polar\":{\"bgcolor\":\"#E5ECF6\",\"angularaxis\":{\"gridcolor\":\"white\",\"linecolor\":\"white\",\"ticks\":\"\"},\"radialaxis\":{\"gridcolor\":\"white\",\"linecolor\":\"white\",\"ticks\":\"\"}},\"ternary\":{\"bgcolor\":\"#E5ECF6\",\"aaxis\":{\"gridcolor\":\"white\",\"linecolor\":\"white\",\"ticks\":\"\"},\"baxis\":{\"gridcolor\":\"white\",\"linecolor\":\"white\",\"ticks\":\"\"},\"caxis\":{\"gridcolor\":\"white\",\"linecolor\":\"white\",\"ticks\":\"\"}},\"coloraxis\":{\"colorbar\":{\"outlinewidth\":0,\"ticks\":\"\"}},\"colorscale\":{\"sequential\":[[0.0,\"#0d0887\"],[0.1111111111111111,\"#46039f\"],[0.2222222222222222,\"#7201a8\"],[0.3333333333333333,\"#9c179e\"],[0.4444444444444444,\"#bd3786\"],[0.5555555555555556,\"#d8576b\"],[0.6666666666666666,\"#ed7953\"],[0.7777777777777778,\"#fb9f3a\"],[0.8888888888888888,\"#fdca26\"],[1.0,\"#f0f921\"]],\"sequentialminus\":[[0.0,\"#0d0887\"],[0.1111111111111111,\"#46039f\"],[0.2222222222222222,\"#7201a8\"],[0.3333333333333333,\"#9c179e\"],[0.4444444444444444,\"#bd3786\"],[0.5555555555555556,\"#d8576b\"],[0.6666666666666666,\"#ed7953\"],[0.7777777777777778,\"#fb9f3a\"],[0.8888888888888888,\"#fdca26\"],[1.0,\"#f0f921\"]],\"diverging\":[[0,\"#8e0152\"],[0.1,\"#c51b7d\"],[0.2,\"#de77ae\"],[0.3,\"#f1b6da\"],[0.4,\"#fde0ef\"],[0.5,\"#f7f7f7\"],[0.6,\"#e6f5d0\"],[0.7,\"#b8e186\"],[0.8,\"#7fbc41\"],[0.9,\"#4d9221\"],[1,\"#276419\"]]},\"xaxis\":{\"gridcolor\":\"white\",\"linecolor\":\"white\",\"ticks\":\"\",\"title\":{\"standoff\":15},\"zerolinecolor\":\"white\",\"automargin\":true,\"zerolinewidth\":2},\"yaxis\":{\"gridcolor\":\"white\",\"linecolor\":\"white\",\"ticks\":\"\",\"title\":{\"standoff\":15},\"zerolinecolor\":\"white\",\"automargin\":true,\"zerolinewidth\":2},\"scene\":{\"xaxis\":{\"backgroundcolor\":\"#E5ECF6\",\"gridcolor\":\"white\",\"linecolor\":\"white\",\"showbackground\":true,\"ticks\":\"\",\"zerolinecolor\":\"white\",\"gridwidth\":2},\"yaxis\":{\"backgroundcolor\":\"#E5ECF6\",\"gridcolor\":\"white\",\"linecolor\":\"white\",\"showbackground\":true,\"ticks\":\"\",\"zerolinecolor\":\"white\",\"gridwidth\":2},\"zaxis\":{\"backgroundcolor\":\"#E5ECF6\",\"gridcolor\":\"white\",\"linecolor\":\"white\",\"showbackground\":true,\"ticks\":\"\",\"zerolinecolor\":\"white\",\"gridwidth\":2}},\"shapedefaults\":{\"line\":{\"color\":\"#2a3f5f\"}},\"annotationdefaults\":{\"arrowcolor\":\"#2a3f5f\",\"arrowhead\":0,\"arrowwidth\":1},\"geo\":{\"bgcolor\":\"white\",\"landcolor\":\"#E5ECF6\",\"subunitcolor\":\"white\",\"showland\":true,\"showlakes\":true,\"lakecolor\":\"white\"},\"title\":{\"x\":0.05},\"mapbox\":{\"style\":\"light\"}}}},                        {\"responsive\": true}                    ).then(function(){\n",
       "                            \n",
       "var gd = document.getElementById('b58a8acf-b711-4ae8-8962-8028d6401e95');\n",
       "var x = new MutationObserver(function (mutations, observer) {{\n",
       "        var display = window.getComputedStyle(gd).display;\n",
       "        if (!display || display === 'none') {{\n",
       "            console.log([gd, 'removed!']);\n",
       "            Plotly.purge(gd);\n",
       "            observer.disconnect();\n",
       "        }}\n",
       "}});\n",
       "\n",
       "// Listen for the removal of the full notebook cells\n",
       "var notebookContainer = gd.closest('#notebook-container');\n",
       "if (notebookContainer) {{\n",
       "    x.observe(notebookContainer, {childList: true});\n",
       "}}\n",
       "\n",
       "// Listen for the clearing of the current output cell\n",
       "var outputEl = gd.closest('.output');\n",
       "if (outputEl) {{\n",
       "    x.observe(outputEl, {childList: true});\n",
       "}}\n",
       "\n",
       "                        })                };                });            </script>        </div>"
      ]
     },
     "metadata": {},
     "output_type": "display_data"
    }
   ],
   "source": [
    "fig = go.Figure([go.Bar(x=kur.index, y=kur['Normalize(EUR/TRY)'])])\n",
    "fig.show()"
   ]
  },
  {
   "cell_type": "markdown",
   "id": "3cad3bec",
   "metadata": {
    "id": "3cad3bec"
   },
   "source": [
    "### 2021 ve 2022 değerlerini birlikte inceleme"
   ]
  },
  {
   "cell_type": "markdown",
   "id": "2efc24a4",
   "metadata": {
    "id": "2efc24a4"
   },
   "source": [
    "1. <i> Yahoo Finance</i> sitesinden 2022 BIST30 ve EUR/TRY kur değerlerini indiriniz"
   ]
  },
  {
   "cell_type": "code",
   "execution_count": 64,
   "id": "71f5973a",
   "metadata": {
    "id": "71f5973a"
   },
   "outputs": [
    {
     "name": "stdout",
     "output_type": "stream",
     "text": [
      "[*********************100%***********************]  1 of 1 completed\n",
      "[*********************100%***********************]  1 of 1 completed\n"
     ]
    }
   ],
   "source": [
    "B30_2022 = yf.download('XU030.IS', start = '2022-01-01', end = '2022-12-31')\n",
    "kur2022 = yf.download('EURTRY=X', start = '2022-01-01', end = '2022-12-31')"
   ]
  },
  {
   "cell_type": "markdown",
   "id": "b97f2305",
   "metadata": {
    "id": "b97f2305"
   },
   "source": [
    "2. Indirdiğiniz verileri 2021 verilerini temizleyip düzenlediğiniz üzere hazırlayınız."
   ]
  },
  {
   "cell_type": "code",
   "execution_count": 65,
   "id": "e56a797a",
   "metadata": {
    "id": "e56a797a"
   },
   "outputs": [
    {
     "name": "stderr",
     "output_type": "stream",
     "text": [
      "<ipython-input-65-b0b4d2b26507>:6: SettingWithCopyWarning:\n",
      "\n",
      "\n",
      "A value is trying to be set on a copy of a slice from a DataFrame.\n",
      "Try using .loc[row_indexer,col_indexer] = value instead\n",
      "\n",
      "See the caveats in the documentation: https://pandas.pydata.org/pandas-docs/stable/user_guide/indexing.html#returning-a-view-versus-a-copy\n",
      "\n"
     ]
    }
   ],
   "source": [
    "B30_2022 = B30_2022[[\"Adj Close\"]]\n",
    "B30_2022.columns = [\"Kapanış (TRY)\"]\n",
    "B30_2022[\"Normalize (TRY)\"] = B30_2022[\"Kapanış (TRY)\"]/B30_2022.iloc[0,0]\n",
    "kur2022 = kur2022[[\"Adj Close\"]]\n",
    "kur2022.columns = [\"Kapanış(EUR/TRY)\"]\n",
    "kur2022[\"Normalize(EUR/TRY)\"] = kur2022[\"Kapanış(EUR/TRY)\"]/kur2022.iloc[0,0]"
   ]
  },
  {
   "cell_type": "markdown",
   "id": "84760651",
   "metadata": {
    "id": "84760651"
   },
   "source": [
    "3. 2021 ve 2022 veri tablolarını tek bir tablo haline getiriniz."
   ]
  },
  {
   "cell_type": "code",
   "execution_count": 66,
   "id": "3aa86e49",
   "metadata": {
    "id": "3aa86e49"
   },
   "outputs": [
    {
     "data": {
      "text/html": [
       "<div>\n",
       "<style scoped>\n",
       "    .dataframe tbody tr th:only-of-type {\n",
       "        vertical-align: middle;\n",
       "    }\n",
       "\n",
       "    .dataframe tbody tr th {\n",
       "        vertical-align: top;\n",
       "    }\n",
       "\n",
       "    .dataframe thead th {\n",
       "        text-align: right;\n",
       "    }\n",
       "</style>\n",
       "<table border=\"1\" class=\"dataframe\">\n",
       "  <thead>\n",
       "    <tr style=\"text-align: right;\">\n",
       "      <th></th>\n",
       "      <th>Kapanış (TRY)</th>\n",
       "      <th>Normalize (TRY)</th>\n",
       "      <th>Kapanış(EUR/TRY)</th>\n",
       "      <th>Normalize(EUR/TRY)</th>\n",
       "    </tr>\n",
       "    <tr>\n",
       "      <th>Date</th>\n",
       "      <th></th>\n",
       "      <th></th>\n",
       "      <th></th>\n",
       "      <th></th>\n",
       "    </tr>\n",
       "  </thead>\n",
       "  <tbody>\n",
       "    <tr>\n",
       "      <th>2022-01-03</th>\n",
       "      <td>2109.500000</td>\n",
       "      <td>1.000000</td>\n",
       "      <td>15.189530</td>\n",
       "      <td>1.000000</td>\n",
       "    </tr>\n",
       "    <tr>\n",
       "      <th>2022-01-04</th>\n",
       "      <td>2157.000000</td>\n",
       "      <td>1.022517</td>\n",
       "      <td>14.763000</td>\n",
       "      <td>0.971919</td>\n",
       "    </tr>\n",
       "    <tr>\n",
       "      <th>2022-01-05</th>\n",
       "      <td>2212.300049</td>\n",
       "      <td>1.048732</td>\n",
       "      <td>15.071520</td>\n",
       "      <td>0.992231</td>\n",
       "    </tr>\n",
       "    <tr>\n",
       "      <th>2022-01-06</th>\n",
       "      <td>2219.600098</td>\n",
       "      <td>1.052193</td>\n",
       "      <td>15.445910</td>\n",
       "      <td>1.016879</td>\n",
       "    </tr>\n",
       "    <tr>\n",
       "      <th>2022-01-07</th>\n",
       "      <td>2256.600098</td>\n",
       "      <td>1.069732</td>\n",
       "      <td>15.434040</td>\n",
       "      <td>1.016097</td>\n",
       "    </tr>\n",
       "    <tr>\n",
       "      <th>...</th>\n",
       "      <td>...</td>\n",
       "      <td>...</td>\n",
       "      <td>...</td>\n",
       "      <td>...</td>\n",
       "    </tr>\n",
       "    <tr>\n",
       "      <th>2022-12-23</th>\n",
       "      <td>5885.200195</td>\n",
       "      <td>2.789856</td>\n",
       "      <td>19.791670</td>\n",
       "      <td>1.302981</td>\n",
       "    </tr>\n",
       "    <tr>\n",
       "      <th>2022-12-27</th>\n",
       "      <td>5876.700195</td>\n",
       "      <td>2.785826</td>\n",
       "      <td>19.815269</td>\n",
       "      <td>1.304535</td>\n",
       "    </tr>\n",
       "    <tr>\n",
       "      <th>2022-12-28</th>\n",
       "      <td>5789.399902</td>\n",
       "      <td>2.744442</td>\n",
       "      <td>19.805389</td>\n",
       "      <td>1.303884</td>\n",
       "    </tr>\n",
       "    <tr>\n",
       "      <th>2022-12-29</th>\n",
       "      <td>5915.200195</td>\n",
       "      <td>2.804077</td>\n",
       "      <td>19.867519</td>\n",
       "      <td>1.307975</td>\n",
       "    </tr>\n",
       "    <tr>\n",
       "      <th>2022-12-30</th>\n",
       "      <td>5944.799805</td>\n",
       "      <td>2.818108</td>\n",
       "      <td>19.937571</td>\n",
       "      <td>1.312586</td>\n",
       "    </tr>\n",
       "  </tbody>\n",
       "</table>\n",
       "<p>251 rows × 4 columns</p>\n",
       "</div>"
      ],
      "text/plain": [
       "            Kapanış (TRY)  Normalize (TRY)  Kapanış(EUR/TRY)   \n",
       "Date                                                           \n",
       "2022-01-03    2109.500000         1.000000         15.189530  \\\n",
       "2022-01-04    2157.000000         1.022517         14.763000   \n",
       "2022-01-05    2212.300049         1.048732         15.071520   \n",
       "2022-01-06    2219.600098         1.052193         15.445910   \n",
       "2022-01-07    2256.600098         1.069732         15.434040   \n",
       "...                   ...              ...               ...   \n",
       "2022-12-23    5885.200195         2.789856         19.791670   \n",
       "2022-12-27    5876.700195         2.785826         19.815269   \n",
       "2022-12-28    5789.399902         2.744442         19.805389   \n",
       "2022-12-29    5915.200195         2.804077         19.867519   \n",
       "2022-12-30    5944.799805         2.818108         19.937571   \n",
       "\n",
       "            Normalize(EUR/TRY)  \n",
       "Date                            \n",
       "2022-01-03            1.000000  \n",
       "2022-01-04            0.971919  \n",
       "2022-01-05            0.992231  \n",
       "2022-01-06            1.016879  \n",
       "2022-01-07            1.016097  \n",
       "...                        ...  \n",
       "2022-12-23            1.302981  \n",
       "2022-12-27            1.304535  \n",
       "2022-12-28            1.303884  \n",
       "2022-12-29            1.307975  \n",
       "2022-12-30            1.312586  \n",
       "\n",
       "[251 rows x 4 columns]"
      ]
     },
     "execution_count": 66,
     "metadata": {},
     "output_type": "execute_result"
    }
   ],
   "source": [
    "B30K_2022 = B30_2022.merge(kur2022, left_index=True, right_index=True)\n",
    "B30K_2022"
   ]
  },
  {
   "cell_type": "code",
   "execution_count": 37,
   "id": "9905ea8d",
   "metadata": {},
   "outputs": [
    {
     "name": "stdout",
     "output_type": "stream",
     "text": [
      "Requirement already satisfied: pandas in c:\\users\\seros\\anaconda3\\lib\\site-packages (2.0.1)\n",
      "Requirement already satisfied: python-dateutil>=2.8.2 in c:\\users\\seros\\anaconda3\\lib\\site-packages (from pandas) (2.8.2)\n",
      "Requirement already satisfied: numpy>=1.20.3 in c:\\users\\seros\\anaconda3\\lib\\site-packages (from pandas) (1.24.3)\n",
      "Requirement already satisfied: tzdata>=2022.1 in c:\\users\\seros\\anaconda3\\lib\\site-packages (from pandas) (2023.3)\n",
      "Requirement already satisfied: pytz>=2020.1 in c:\\users\\seros\\anaconda3\\lib\\site-packages (from pandas) (2023.3)\n",
      "Requirement already satisfied: six>=1.5 in c:\\users\\seros\\anaconda3\\lib\\site-packages (from python-dateutil>=2.8.2->pandas) (1.15.0)\n"
     ]
    }
   ],
   "source": [
    "!pip install pandas"
   ]
  },
  {
   "cell_type": "code",
   "execution_count": 67,
   "id": "fed9a69b",
   "metadata": {},
   "outputs": [
    {
     "data": {
      "text/html": [
       "<div>\n",
       "<style scoped>\n",
       "    .dataframe tbody tr th:only-of-type {\n",
       "        vertical-align: middle;\n",
       "    }\n",
       "\n",
       "    .dataframe tbody tr th {\n",
       "        vertical-align: top;\n",
       "    }\n",
       "\n",
       "    .dataframe thead th {\n",
       "        text-align: right;\n",
       "    }\n",
       "</style>\n",
       "<table border=\"1\" class=\"dataframe\">\n",
       "  <thead>\n",
       "    <tr style=\"text-align: right;\">\n",
       "      <th></th>\n",
       "      <th>Kapanış (TRY)</th>\n",
       "      <th>Normalize (TRY)</th>\n",
       "      <th>Kapanış(EUR/TRY)</th>\n",
       "      <th>Normalize(EUR/TRY)</th>\n",
       "    </tr>\n",
       "    <tr>\n",
       "      <th>Date</th>\n",
       "      <th></th>\n",
       "      <th></th>\n",
       "      <th></th>\n",
       "      <th></th>\n",
       "    </tr>\n",
       "  </thead>\n",
       "  <tbody>\n",
       "    <tr>\n",
       "      <th>2021-01-04</th>\n",
       "      <td>1652.900024</td>\n",
       "      <td>1.000000</td>\n",
       "      <td>9.105680</td>\n",
       "      <td>1.002309</td>\n",
       "    </tr>\n",
       "    <tr>\n",
       "      <th>2021-01-05</th>\n",
       "      <td>1640.400024</td>\n",
       "      <td>0.992438</td>\n",
       "      <td>9.088820</td>\n",
       "      <td>1.000454</td>\n",
       "    </tr>\n",
       "    <tr>\n",
       "      <th>2021-01-06</th>\n",
       "      <td>1657.699951</td>\n",
       "      <td>1.002904</td>\n",
       "      <td>9.081770</td>\n",
       "      <td>0.999678</td>\n",
       "    </tr>\n",
       "    <tr>\n",
       "      <th>2021-01-07</th>\n",
       "      <td>1678.199951</td>\n",
       "      <td>1.015306</td>\n",
       "      <td>9.006140</td>\n",
       "      <td>0.991353</td>\n",
       "    </tr>\n",
       "    <tr>\n",
       "      <th>2021-01-08</th>\n",
       "      <td>1694.400024</td>\n",
       "      <td>1.025107</td>\n",
       "      <td>8.998500</td>\n",
       "      <td>0.990512</td>\n",
       "    </tr>\n",
       "    <tr>\n",
       "      <th>...</th>\n",
       "      <td>...</td>\n",
       "      <td>...</td>\n",
       "      <td>...</td>\n",
       "      <td>...</td>\n",
       "    </tr>\n",
       "    <tr>\n",
       "      <th>2022-12-23</th>\n",
       "      <td>5885.200195</td>\n",
       "      <td>2.789856</td>\n",
       "      <td>19.791670</td>\n",
       "      <td>1.302981</td>\n",
       "    </tr>\n",
       "    <tr>\n",
       "      <th>2022-12-27</th>\n",
       "      <td>5876.700195</td>\n",
       "      <td>2.785826</td>\n",
       "      <td>19.815269</td>\n",
       "      <td>1.304535</td>\n",
       "    </tr>\n",
       "    <tr>\n",
       "      <th>2022-12-28</th>\n",
       "      <td>5789.399902</td>\n",
       "      <td>2.744442</td>\n",
       "      <td>19.805389</td>\n",
       "      <td>1.303884</td>\n",
       "    </tr>\n",
       "    <tr>\n",
       "      <th>2022-12-29</th>\n",
       "      <td>5915.200195</td>\n",
       "      <td>2.804077</td>\n",
       "      <td>19.867519</td>\n",
       "      <td>1.307975</td>\n",
       "    </tr>\n",
       "    <tr>\n",
       "      <th>2022-12-30</th>\n",
       "      <td>5944.799805</td>\n",
       "      <td>2.818108</td>\n",
       "      <td>19.937571</td>\n",
       "      <td>1.312586</td>\n",
       "    </tr>\n",
       "  </tbody>\n",
       "</table>\n",
       "<p>489 rows × 4 columns</p>\n",
       "</div>"
      ],
      "text/plain": [
       "            Kapanış (TRY)  Normalize (TRY)  Kapanış(EUR/TRY)   \n",
       "Date                                                           \n",
       "2021-01-04    1652.900024         1.000000          9.105680  \\\n",
       "2021-01-05    1640.400024         0.992438          9.088820   \n",
       "2021-01-06    1657.699951         1.002904          9.081770   \n",
       "2021-01-07    1678.199951         1.015306          9.006140   \n",
       "2021-01-08    1694.400024         1.025107          8.998500   \n",
       "...                   ...              ...               ...   \n",
       "2022-12-23    5885.200195         2.789856         19.791670   \n",
       "2022-12-27    5876.700195         2.785826         19.815269   \n",
       "2022-12-28    5789.399902         2.744442         19.805389   \n",
       "2022-12-29    5915.200195         2.804077         19.867519   \n",
       "2022-12-30    5944.799805         2.818108         19.937571   \n",
       "\n",
       "            Normalize(EUR/TRY)  \n",
       "Date                            \n",
       "2021-01-04            1.002309  \n",
       "2021-01-05            1.000454  \n",
       "2021-01-06            0.999678  \n",
       "2021-01-07            0.991353  \n",
       "2021-01-08            0.990512  \n",
       "...                        ...  \n",
       "2022-12-23            1.302981  \n",
       "2022-12-27            1.304535  \n",
       "2022-12-28            1.303884  \n",
       "2022-12-29            1.307975  \n",
       "2022-12-30            1.312586  \n",
       "\n",
       "[489 rows x 4 columns]"
      ]
     },
     "execution_count": 67,
     "metadata": {},
     "output_type": "execute_result"
    }
   ],
   "source": [
    "import pandas as pd\n",
    "B30K = pd.concat([B30K_2021, B30K_2022], axis=0)\n",
    "B30K"
   ]
  },
  {
   "cell_type": "markdown",
   "id": "f16a0e10",
   "metadata": {
    "id": "f16a0e10"
   },
   "source": [
    "4. Veriyi grafik olarak inceleyiniz:<br>\n",
    "\t• Tabloları px grafiği olarak görselleştiriniz.<br>\n",
    "\t• Tabloları go. grafiği olarak görselleştiriniz.<br>\n",
    "\t• Tabloları subplots grafiği olarak görselleştiriniz."
   ]
  },
  {
   "cell_type": "code",
   "execution_count": 69,
   "id": "541bba0b",
   "metadata": {
    "id": "541bba0b"
   },
   "outputs": [
    {
     "data": {
      "application/vnd.plotly.v1+json": {
       "config": {
        "plotlyServerURL": "https://plot.ly"
       },
       "data": [
        {
         "hovertemplate": "variable=Normalize (TRY)<br>Date=%{x}<br>value=%{y}<extra></extra>",
         "legendgroup": "Normalize (TRY)",
         "line": {
          "color": "#636efa",
          "dash": "solid"
         },
         "marker": {
          "symbol": "circle"
         },
         "mode": "lines",
         "name": "Normalize (TRY)",
         "orientation": "v",
         "showlegend": true,
         "type": "scatter",
         "x": [
          "2021-01-04T00:00:00",
          "2021-01-05T00:00:00",
          "2021-01-06T00:00:00",
          "2021-01-07T00:00:00",
          "2021-01-08T00:00:00",
          "2021-01-11T00:00:00",
          "2021-01-12T00:00:00",
          "2021-01-13T00:00:00",
          "2021-01-14T00:00:00",
          "2021-01-15T00:00:00",
          "2021-01-18T00:00:00",
          "2021-01-19T00:00:00",
          "2021-01-20T00:00:00",
          "2021-01-21T00:00:00",
          "2021-01-25T00:00:00",
          "2021-01-26T00:00:00",
          "2021-01-27T00:00:00",
          "2021-01-28T00:00:00",
          "2021-01-29T00:00:00",
          "2021-02-01T00:00:00",
          "2021-02-02T00:00:00",
          "2021-02-03T00:00:00",
          "2021-02-04T00:00:00",
          "2021-02-05T00:00:00",
          "2021-02-08T00:00:00",
          "2021-02-09T00:00:00",
          "2021-02-10T00:00:00",
          "2021-02-11T00:00:00",
          "2021-02-12T00:00:00",
          "2021-02-16T00:00:00",
          "2021-02-18T00:00:00",
          "2021-02-19T00:00:00",
          "2021-02-22T00:00:00",
          "2021-02-23T00:00:00",
          "2021-02-24T00:00:00",
          "2021-02-25T00:00:00",
          "2021-02-26T00:00:00",
          "2021-03-01T00:00:00",
          "2021-03-02T00:00:00",
          "2021-03-03T00:00:00",
          "2021-03-04T00:00:00",
          "2021-03-05T00:00:00",
          "2021-03-08T00:00:00",
          "2021-03-09T00:00:00",
          "2021-03-10T00:00:00",
          "2021-03-11T00:00:00",
          "2021-03-12T00:00:00",
          "2021-03-15T00:00:00",
          "2021-03-16T00:00:00",
          "2021-03-17T00:00:00",
          "2021-03-18T00:00:00",
          "2021-03-19T00:00:00",
          "2021-03-22T00:00:00",
          "2021-03-23T00:00:00",
          "2021-03-24T00:00:00",
          "2021-03-25T00:00:00",
          "2021-03-26T00:00:00",
          "2021-03-29T00:00:00",
          "2021-03-30T00:00:00",
          "2021-03-31T00:00:00",
          "2021-04-01T00:00:00",
          "2021-04-05T00:00:00",
          "2021-04-06T00:00:00",
          "2021-04-07T00:00:00",
          "2021-04-08T00:00:00",
          "2021-04-09T00:00:00",
          "2021-04-12T00:00:00",
          "2021-04-13T00:00:00",
          "2021-04-14T00:00:00",
          "2021-04-15T00:00:00",
          "2021-04-16T00:00:00",
          "2021-04-19T00:00:00",
          "2021-04-20T00:00:00",
          "2021-04-21T00:00:00",
          "2021-04-22T00:00:00",
          "2021-04-26T00:00:00",
          "2021-04-27T00:00:00",
          "2021-04-28T00:00:00",
          "2021-04-29T00:00:00",
          "2021-04-30T00:00:00",
          "2021-05-03T00:00:00",
          "2021-05-04T00:00:00",
          "2021-05-06T00:00:00",
          "2021-05-07T00:00:00",
          "2021-05-10T00:00:00",
          "2021-05-12T00:00:00",
          "2021-05-17T00:00:00",
          "2021-05-18T00:00:00",
          "2021-05-21T00:00:00",
          "2021-05-24T00:00:00",
          "2021-05-26T00:00:00",
          "2021-05-27T00:00:00",
          "2021-05-28T00:00:00",
          "2021-06-01T00:00:00",
          "2021-06-02T00:00:00",
          "2021-06-03T00:00:00",
          "2021-06-04T00:00:00",
          "2021-06-07T00:00:00",
          "2021-06-08T00:00:00",
          "2021-06-09T00:00:00",
          "2021-06-10T00:00:00",
          "2021-06-11T00:00:00",
          "2021-06-14T00:00:00",
          "2021-06-15T00:00:00",
          "2021-06-16T00:00:00",
          "2021-06-17T00:00:00",
          "2021-06-18T00:00:00",
          "2021-06-21T00:00:00",
          "2021-06-22T00:00:00",
          "2021-06-23T00:00:00",
          "2021-06-24T00:00:00",
          "2021-06-25T00:00:00",
          "2021-06-28T00:00:00",
          "2021-06-29T00:00:00",
          "2021-06-30T00:00:00",
          "2021-07-01T00:00:00",
          "2021-07-02T00:00:00",
          "2021-07-06T00:00:00",
          "2021-07-07T00:00:00",
          "2021-07-08T00:00:00",
          "2021-07-09T00:00:00",
          "2021-07-12T00:00:00",
          "2021-07-13T00:00:00",
          "2021-07-14T00:00:00",
          "2021-07-16T00:00:00",
          "2021-07-19T00:00:00",
          "2021-07-26T00:00:00",
          "2021-07-27T00:00:00",
          "2021-07-28T00:00:00",
          "2021-07-29T00:00:00",
          "2021-07-30T00:00:00",
          "2021-08-02T00:00:00",
          "2021-08-03T00:00:00",
          "2021-08-04T00:00:00",
          "2021-08-05T00:00:00",
          "2021-08-06T00:00:00",
          "2021-08-09T00:00:00",
          "2021-08-10T00:00:00",
          "2021-08-11T00:00:00",
          "2021-08-12T00:00:00",
          "2021-08-13T00:00:00",
          "2021-08-16T00:00:00",
          "2021-08-17T00:00:00",
          "2021-08-18T00:00:00",
          "2021-08-19T00:00:00",
          "2021-08-20T00:00:00",
          "2021-08-23T00:00:00",
          "2021-08-24T00:00:00",
          "2021-08-25T00:00:00",
          "2021-08-26T00:00:00",
          "2021-08-27T00:00:00",
          "2021-08-31T00:00:00",
          "2021-09-01T00:00:00",
          "2021-09-02T00:00:00",
          "2021-09-03T00:00:00",
          "2021-09-06T00:00:00",
          "2021-09-07T00:00:00",
          "2021-09-08T00:00:00",
          "2021-09-09T00:00:00",
          "2021-09-10T00:00:00",
          "2021-09-13T00:00:00",
          "2021-09-14T00:00:00",
          "2021-09-15T00:00:00",
          "2021-09-16T00:00:00",
          "2021-09-17T00:00:00",
          "2021-09-20T00:00:00",
          "2021-09-21T00:00:00",
          "2021-09-22T00:00:00",
          "2021-09-23T00:00:00",
          "2021-09-24T00:00:00",
          "2021-09-27T00:00:00",
          "2021-09-28T00:00:00",
          "2021-09-29T00:00:00",
          "2021-09-30T00:00:00",
          "2021-10-01T00:00:00",
          "2021-10-04T00:00:00",
          "2021-10-05T00:00:00",
          "2021-10-06T00:00:00",
          "2021-10-07T00:00:00",
          "2021-10-08T00:00:00",
          "2021-10-11T00:00:00",
          "2021-10-12T00:00:00",
          "2021-10-13T00:00:00",
          "2021-10-14T00:00:00",
          "2021-10-15T00:00:00",
          "2021-10-18T00:00:00",
          "2021-10-19T00:00:00",
          "2021-10-20T00:00:00",
          "2021-10-21T00:00:00",
          "2021-10-22T00:00:00",
          "2021-10-25T00:00:00",
          "2021-10-26T00:00:00",
          "2021-10-27T00:00:00",
          "2021-10-28T00:00:00",
          "2021-11-01T00:00:00",
          "2021-11-02T00:00:00",
          "2021-11-03T00:00:00",
          "2021-11-04T00:00:00",
          "2021-11-05T00:00:00",
          "2021-11-08T00:00:00",
          "2021-11-09T00:00:00",
          "2021-11-10T00:00:00",
          "2021-11-11T00:00:00",
          "2021-11-12T00:00:00",
          "2021-11-15T00:00:00",
          "2021-11-16T00:00:00",
          "2021-11-17T00:00:00",
          "2021-11-18T00:00:00",
          "2021-11-19T00:00:00",
          "2021-11-22T00:00:00",
          "2021-11-23T00:00:00",
          "2021-11-24T00:00:00",
          "2021-11-25T00:00:00",
          "2021-11-26T00:00:00",
          "2021-11-29T00:00:00",
          "2021-11-30T00:00:00",
          "2021-12-01T00:00:00",
          "2021-12-02T00:00:00",
          "2021-12-03T00:00:00",
          "2021-12-06T00:00:00",
          "2021-12-07T00:00:00",
          "2021-12-08T00:00:00",
          "2021-12-09T00:00:00",
          "2021-12-10T00:00:00",
          "2021-12-13T00:00:00",
          "2021-12-14T00:00:00",
          "2021-12-15T00:00:00",
          "2021-12-16T00:00:00",
          "2021-12-17T00:00:00",
          "2021-12-20T00:00:00",
          "2021-12-21T00:00:00",
          "2021-12-22T00:00:00",
          "2021-12-23T00:00:00",
          "2021-12-24T00:00:00",
          "2021-12-27T00:00:00",
          "2021-12-28T00:00:00",
          "2021-12-29T00:00:00",
          "2021-12-30T00:00:00",
          "2022-01-03T00:00:00",
          "2022-01-04T00:00:00",
          "2022-01-05T00:00:00",
          "2022-01-06T00:00:00",
          "2022-01-07T00:00:00",
          "2022-01-10T00:00:00",
          "2022-01-11T00:00:00",
          "2022-01-12T00:00:00",
          "2022-01-13T00:00:00",
          "2022-01-14T00:00:00",
          "2022-01-17T00:00:00",
          "2022-01-18T00:00:00",
          "2022-01-19T00:00:00",
          "2022-01-20T00:00:00",
          "2022-01-21T00:00:00",
          "2022-01-24T00:00:00",
          "2022-01-25T00:00:00",
          "2022-01-26T00:00:00",
          "2022-01-27T00:00:00",
          "2022-01-28T00:00:00",
          "2022-01-31T00:00:00",
          "2022-02-01T00:00:00",
          "2022-02-02T00:00:00",
          "2022-02-03T00:00:00",
          "2022-02-04T00:00:00",
          "2022-02-07T00:00:00",
          "2022-02-08T00:00:00",
          "2022-02-09T00:00:00",
          "2022-02-10T00:00:00",
          "2022-02-11T00:00:00",
          "2022-02-14T00:00:00",
          "2022-02-15T00:00:00",
          "2022-02-16T00:00:00",
          "2022-02-17T00:00:00",
          "2022-02-18T00:00:00",
          "2022-02-21T00:00:00",
          "2022-02-22T00:00:00",
          "2022-02-23T00:00:00",
          "2022-02-24T00:00:00",
          "2022-02-25T00:00:00",
          "2022-02-28T00:00:00",
          "2022-03-01T00:00:00",
          "2022-03-02T00:00:00",
          "2022-03-03T00:00:00",
          "2022-03-04T00:00:00",
          "2022-03-07T00:00:00",
          "2022-03-08T00:00:00",
          "2022-03-09T00:00:00",
          "2022-03-10T00:00:00",
          "2022-03-11T00:00:00",
          "2022-03-14T00:00:00",
          "2022-03-15T00:00:00",
          "2022-03-16T00:00:00",
          "2022-03-17T00:00:00",
          "2022-03-18T00:00:00",
          "2022-03-21T00:00:00",
          "2022-03-22T00:00:00",
          "2022-03-23T00:00:00",
          "2022-03-24T00:00:00",
          "2022-03-25T00:00:00",
          "2022-03-28T00:00:00",
          "2022-03-29T00:00:00",
          "2022-03-30T00:00:00",
          "2022-03-31T00:00:00",
          "2022-04-01T00:00:00",
          "2022-04-04T00:00:00",
          "2022-04-05T00:00:00",
          "2022-04-06T00:00:00",
          "2022-04-07T00:00:00",
          "2022-04-08T00:00:00",
          "2022-04-11T00:00:00",
          "2022-04-12T00:00:00",
          "2022-04-13T00:00:00",
          "2022-04-14T00:00:00",
          "2022-04-15T00:00:00",
          "2022-04-18T00:00:00",
          "2022-04-19T00:00:00",
          "2022-04-20T00:00:00",
          "2022-04-21T00:00:00",
          "2022-04-22T00:00:00",
          "2022-04-25T00:00:00",
          "2022-04-26T00:00:00",
          "2022-04-27T00:00:00",
          "2022-04-28T00:00:00",
          "2022-04-29T00:00:00",
          "2022-05-05T00:00:00",
          "2022-05-06T00:00:00",
          "2022-05-09T00:00:00",
          "2022-05-10T00:00:00",
          "2022-05-11T00:00:00",
          "2022-05-12T00:00:00",
          "2022-05-13T00:00:00",
          "2022-05-16T00:00:00",
          "2022-05-17T00:00:00",
          "2022-05-18T00:00:00",
          "2022-05-20T00:00:00",
          "2022-05-23T00:00:00",
          "2022-05-24T00:00:00",
          "2022-05-25T00:00:00",
          "2022-05-26T00:00:00",
          "2022-05-27T00:00:00",
          "2022-05-30T00:00:00",
          "2022-05-31T00:00:00",
          "2022-06-01T00:00:00",
          "2022-06-02T00:00:00",
          "2022-06-03T00:00:00",
          "2022-06-06T00:00:00",
          "2022-06-07T00:00:00",
          "2022-06-08T00:00:00",
          "2022-06-09T00:00:00",
          "2022-06-10T00:00:00",
          "2022-06-13T00:00:00",
          "2022-06-14T00:00:00",
          "2022-06-15T00:00:00",
          "2022-06-16T00:00:00",
          "2022-06-17T00:00:00",
          "2022-06-20T00:00:00",
          "2022-06-21T00:00:00",
          "2022-06-22T00:00:00",
          "2022-06-23T00:00:00",
          "2022-06-24T00:00:00",
          "2022-06-27T00:00:00",
          "2022-06-28T00:00:00",
          "2022-06-29T00:00:00",
          "2022-06-30T00:00:00",
          "2022-07-01T00:00:00",
          "2022-07-04T00:00:00",
          "2022-07-05T00:00:00",
          "2022-07-06T00:00:00",
          "2022-07-07T00:00:00",
          "2022-07-08T00:00:00",
          "2022-07-13T00:00:00",
          "2022-07-14T00:00:00",
          "2022-07-18T00:00:00",
          "2022-07-19T00:00:00",
          "2022-07-20T00:00:00",
          "2022-07-21T00:00:00",
          "2022-07-22T00:00:00",
          "2022-07-25T00:00:00",
          "2022-07-26T00:00:00",
          "2022-07-27T00:00:00",
          "2022-07-28T00:00:00",
          "2022-07-29T00:00:00",
          "2022-08-01T00:00:00",
          "2022-08-02T00:00:00",
          "2022-08-03T00:00:00",
          "2022-08-04T00:00:00",
          "2022-08-05T00:00:00",
          "2022-08-08T00:00:00",
          "2022-08-09T00:00:00",
          "2022-08-10T00:00:00",
          "2022-08-11T00:00:00",
          "2022-08-12T00:00:00",
          "2022-08-15T00:00:00",
          "2022-08-16T00:00:00",
          "2022-08-17T00:00:00",
          "2022-08-18T00:00:00",
          "2022-08-19T00:00:00",
          "2022-08-22T00:00:00",
          "2022-08-23T00:00:00",
          "2022-08-24T00:00:00",
          "2022-08-25T00:00:00",
          "2022-08-26T00:00:00",
          "2022-08-29T00:00:00",
          "2022-08-31T00:00:00",
          "2022-09-01T00:00:00",
          "2022-09-02T00:00:00",
          "2022-09-05T00:00:00",
          "2022-09-06T00:00:00",
          "2022-09-07T00:00:00",
          "2022-09-08T00:00:00",
          "2022-09-09T00:00:00",
          "2022-09-12T00:00:00",
          "2022-09-13T00:00:00",
          "2022-09-14T00:00:00",
          "2022-09-15T00:00:00",
          "2022-09-16T00:00:00",
          "2022-09-19T00:00:00",
          "2022-09-20T00:00:00",
          "2022-09-21T00:00:00",
          "2022-09-22T00:00:00",
          "2022-09-23T00:00:00",
          "2022-09-26T00:00:00",
          "2022-09-27T00:00:00",
          "2022-09-28T00:00:00",
          "2022-09-29T00:00:00",
          "2022-09-30T00:00:00",
          "2022-10-03T00:00:00",
          "2022-10-04T00:00:00",
          "2022-10-05T00:00:00",
          "2022-10-06T00:00:00",
          "2022-10-07T00:00:00",
          "2022-10-10T00:00:00",
          "2022-10-11T00:00:00",
          "2022-10-12T00:00:00",
          "2022-10-13T00:00:00",
          "2022-10-14T00:00:00",
          "2022-10-17T00:00:00",
          "2022-10-18T00:00:00",
          "2022-10-19T00:00:00",
          "2022-10-20T00:00:00",
          "2022-10-21T00:00:00",
          "2022-10-24T00:00:00",
          "2022-10-25T00:00:00",
          "2022-10-26T00:00:00",
          "2022-10-27T00:00:00",
          "2022-10-28T00:00:00",
          "2022-10-31T00:00:00",
          "2022-11-01T00:00:00",
          "2022-11-02T00:00:00",
          "2022-11-03T00:00:00",
          "2022-11-04T00:00:00",
          "2022-11-07T00:00:00",
          "2022-11-08T00:00:00",
          "2022-11-09T00:00:00",
          "2022-11-10T00:00:00",
          "2022-11-11T00:00:00",
          "2022-11-14T00:00:00",
          "2022-11-15T00:00:00",
          "2022-11-16T00:00:00",
          "2022-11-17T00:00:00",
          "2022-11-18T00:00:00",
          "2022-11-21T00:00:00",
          "2022-11-22T00:00:00",
          "2022-11-23T00:00:00",
          "2022-11-24T00:00:00",
          "2022-11-25T00:00:00",
          "2022-11-28T00:00:00",
          "2022-11-29T00:00:00",
          "2022-11-30T00:00:00",
          "2022-12-01T00:00:00",
          "2022-12-02T00:00:00",
          "2022-12-05T00:00:00",
          "2022-12-06T00:00:00",
          "2022-12-07T00:00:00",
          "2022-12-08T00:00:00",
          "2022-12-09T00:00:00",
          "2022-12-12T00:00:00",
          "2022-12-13T00:00:00",
          "2022-12-14T00:00:00",
          "2022-12-15T00:00:00",
          "2022-12-16T00:00:00",
          "2022-12-19T00:00:00",
          "2022-12-20T00:00:00",
          "2022-12-21T00:00:00",
          "2022-12-22T00:00:00",
          "2022-12-23T00:00:00",
          "2022-12-27T00:00:00",
          "2022-12-28T00:00:00",
          "2022-12-29T00:00:00",
          "2022-12-30T00:00:00"
         ],
         "xaxis": "x",
         "y": [
          1,
          0.9924375341427978,
          1.0029039425778423,
          1.0153063865836538,
          1.0251073866459113,
          1.015790413939397,
          1.0205094221751734,
          1.0270433483644728,
          1.0170004084765494,
          1.0005445123121597,
          1.0180288742922465,
          1.0225058688501514,
          1.0231713510751441,
          1.007683435770035,
          0.9904410136156142,
          0.9903200437027813,
          0.9529916679203079,
          0.9691451393026151,
          0.951297719879618,
          0.9586181720589485,
          0.9696896516147748,
          0.9854800655541718,
          0.984754024520557,
          0.9782200983312577,
          0.9833020901577387,
          0.9940709972270713,
          0.9960675177542548,
          0.9923770491863814,
          0.9851775669198837,
          0.9814870983520102,
          0.9715651283769198,
          0.9814870983520102,
          0.9710206160647601,
          0.9615221884889964,
          0.9426462293980964,
          0.9523261856953152,
          0.9413757499045275,
          0.9734406051390648,
          0.9769496188376888,
          0.9760421229348246,
          0.9831205614362836,
          0.9868110300041572,
          0.9776151010626816,
          0.989715046434205,
          0.997822024603567,
          0.991288024562062,
          0.9918325368742217,
          0.9867505450477406,
          0.9933450300456621,
          0.9851775669198837,
          0.9835440299834046,
          0.9625506543046937,
          0.8668401159568251,
          0.8595195899252889,
          0.8758545161768456,
          0.8652670639767626,
          0.8600641022374486,
          0.8662956036446654,
          0.8662956036446654,
          0.8655695626110507,
          0.8859580148733911,
          0.8909794478912499,
          0.8790610312411816,
          0.8797265134661743,
          0.8782140202947338,
          0.86665858723537,
          0.8557686364009989,
          0.8604270858281532,
          0.8809969929597431,
          0.8867444670112168,
          0.8832355271647984,
          0.8675660831382342,
          0.8607295844624412,
          0.8452416691573323,
          0.8546796117766795,
          0.8738580695018676,
          0.8828119847654716,
          0.8770645107139979,
          0.8866839820548003,
          0.8814205353590698,
          0.8974529629763384,
          0.894488461589874,
          0.9031399520713956,
          0.9132433769157354,
          0.9284287935865563,
          0.9140903878621832,
          0.9230443031257872,
          0.9266138017808278,
          0.920442859182233,
          0.9232258318472423,
          0.9129408782814473,
          0.9009619028227569,
          0.9116703987878785,
          0.9229233332129543,
          0.9215318099543468,
          0.9209268126857706,
          0.9244358263843947,
          0.9353257772187659,
          0.9362937580780466,
          0.9377457662930705,
          0.9434932403445442,
          0.9448847636031517,
          0.9444612212038249,
          0.9391977745080945,
          0.9330267580572941,
          0.9228023633001212,
          0.907979930220005,
          0.9160868345371612,
          0.9228023633001212,
          0.9149978837650474,
          0.9211688263636422,
          0.9088268673142471,
          0.8994494096513164,
          0.8972109492984668,
          0.8850505189705269,
          0.8949724889456172,
          0.8978764315234595,
          0.9003569055541807,
          0.9067093768742305,
          0.8949119301369951,
          0.9005989192320523,
          0.8875914779576645,
          0.882146502540479,
          0.8949119301369951,
          0.8894669547198095,
          0.8787585326068935,
          0.8750075790826035,
          0.8834169820340478,
          0.8831750422083818,
          0.9074354179078453,
          0.907979930220005,
          0.9097949220257335,
          0.9164498919800714,
          0.9168733605271925,
          0.9312117662515655,
          0.9342973114030686,
          0.9306673277916115,
          0.9356887608094704,
          0.9176598865172237,
          0.9436747690659992,
          0.9450057335159846,
          0.9502086952552986,
          0.9549881884474914,
          0.9453687171066892,
          0.9384112485180631,
          0.9423437307638083,
          0.9537177089539226,
          0.9587997007804037,
          0.9506927226110418,
          0.9474257225902893,
          0.9522657007388987,
          0.9609171912204203,
          0.9601306652303889,
          0.9629741228518147,
          0.9545647199003704,
          0.9580131747903724,
          0.9429487280323845,
          0.9295783031672922,
          0.9404077690452468,
          0.929396774445837,
          0.9302437853922848,
          0.927400327770859,
          0.9183858536986329,
          0.916510376936488,
          0.9193538345579136,
          0.9019904424906597,
          0.8982999739227862,
          0.9145743413657208,
          0.9064674370485646,
          0.894488461589874,
          0.9007804479535074,
          0.8946699903113291,
          0.9007804479535074,
          0.9106418591199756,
          0.9067699356828526,
          0.9012039165006285,
          0.9007199629970909,
          0.8877125217227031,
          0.9073143741428067,
          0.9072538891863902,
          0.9212898701286808,
          0.9223788209007946,
          0.9197773769572404,
          0.9189908509672091,
          0.9170548892486476,
          0.9216528537193854,
          0.9290337908551325,
          0.932603289510173,
          0.9482122485803206,
          0.9646076597882938,
          0.972593594192617,
          0.9834835450269882,
          0.9893520628435004,
          0.9895940026691664,
          1.0004839535035375,
          0.9992739589663852,
          1.010405923478628,
          1.0320648552345373,
          1.0389012800581245,
          1.057232726836865,
          1.064190195425491,
          1.0702401681112528,
          1.0691511434869334,
          1.0770766667870457,
          1.1251739496388515,
          1.1153124646201777,
          1.1303769113781656,
          1.1539113198962199,
          1.1479218321668747,
          1.156089295292653,
          1.1767196873806594,
          1.192570586276473,
          1.1931150985886327,
          1.1582067857326697,
          1.1807731395392376,
          1.175388722930674,
          1.208240030303037,
          1.2220339975674561,
          1.2395788445039595,
          1.2550062748526518,
          1.296993173914485,
          1.313751568713163,
          1.3357129991033603,
          1.3386170155334083,
          1.3881662327480324,
          1.4331779704483354,
          1.4435840416313745,
          1.5294330949605692,
          1.39070719173517,
          1.3789097449979346,
          1.2641417926899168,
          1.1987416027272733,
          1.2006775644458347,
          1.2625083296056432,
          1.2640812338812946,
          1.2298989620589462,
          1.262205830971355,
          1.234315397808229,
          1,
          1.022517184166864,
          1.0487319501436951,
          1.0521925089624318,
          1.069732210313463,
          1.0754207621029865,
          1.0799241989363593,
          1.0894051185855653,
          1.0945721735008296,
          1.0913013025154066,
          1.0958047393487793,
          1.0380184646465396,
          1.073240104290116,
          1.0569329687870348,
          1.053756768117445,
          0.996871250222209,
          1.019009290190211,
          1.0217586643013747,
          1.0475468351875445,
          1.0367385636406732,
          1.0441337272606068,
          1.050959943114482,
          1.0457928881992178,
          1.0210950462194832,
          1.0129888136258591,
          1.04617203239808,
          1.054041242000474,
          1.0748518143369281,
          1.0720075384421663,
          1.080777389117682,
          1.0552738078484238,
          1.0759421432433633,
          1.0753733112111874,
          1.058497227942048,
          1.0707276374363002,
          1.0752785251614718,
          1.0654183455795212,
          1.0651813225882911,
          0.9813226345846172,
          1.0340838598453426,
          1.0364067545997275,
          1.0502488741407916,
          1.060488313655487,
          1.081915168915916,
          1.0605830997052026,
          1.0639014215824247,
          1.0705854004947855,
          1.085517848942285,
          1.0858971088750295,
          1.0913013025154066,
          1.1107845229541953,
          1.1050959711646717,
          1.1090780268576677,
          1.1371888610304575,
          1.139606541834558,
          1.1550130362645177,
          1.1580468842587106,
          1.1525005694107016,
          1.1471912775539228,
          1.143778169626985,
          1.1377103579047168,
          1.1594216870481748,
          1.1740696616126451,
          1.1743066846038752,
          1.1854467651916925,
          1.2216164968001897,
          1.2278738806218892,
          1.2196728619785495,
          1.2339891432359564,
          1.2622422143502607,
          1.2948091501985068,
          1.3035790008740222,
          1.3063284907190684,
          1.3140080124881488,
          1.3215927482075136,
          1.3297937668508533,
          1.335719341631607,
          1.3374732886199336,
          1.3569566247926048,
          1.3108793784442403,
          1.3187484723127518,
          1.281915122622363,
          1.3013510079032353,
          1.2831476884703128,
          1.2820099086720786,
          1.3008296267628585,
          1.2924863711780044,
          1.2961365020961721,
          1.3131548223068263,
          1.2968950219616615,
          1.2616733823180848,
          1.271391324958521,
          1.2545152416893814,
          1.2568854716016828,
          1.258592083432093,
          1.2475942397857904,
          1.2537093866659754,
          1.2479260488267363,
          1.2753732649176346,
          1.295378097964565,
          1.2844275894761792,
          1.3346764636169708,
          1.3451529261228965,
          1.3533538290323537,
          1.3750178230178953,
          1.3698506523687486,
          1.3947855173397132,
          1.3910879355297463,
          1.3303625988830292,
          1.3454372842720432,
          1.324863734926819,
          1.310120858578751,
          1.3068973227512444,
          1.3171367622659398,
          1.2891680493007822,
          1.3162361211928182,
          1.3203128472016472,
          1.34216641328662,
          1.3374732886199336,
          1.315145792286383,
          1.3192699691870111,
          1.3055700865874615,
          1.283337260569744,
          1.2342735013851032,
          1.2368807542886346,
          1.2589238924730386,
          1.2359326623237141,
          1.2177766780487083,
          1.2346053104260488,
          1.2386821521687603,
          1.241336855964091,
          1.2156909220194358,
          1.1978667467853756,
          1.2392509842009363,
          1.2653235132362526,
          1.2798293665930909,
          1.2716757988415501,
          1.2729082489556174,
          1.2910642332306235,
          1.2804929846749822,
          1.2827684285375682,
          1.2789760606778857,
          1.3086039345816545,
          1.3434937651842853,
          1.3427826962105949,
          1.3640198636377103,
          1.3849253377577626,
          1.4013747102023584,
          1.4276369270709883,
          1.420478786442285,
          1.4464090785360868,
          1.4704431867000474,
          1.4633799478549419,
          1.4538042421560204,
          1.4909220657294382,
          1.5308840494637355,
          1.5592320223616378,
          1.5544442273791184,
          1.573927447817907,
          1.6116615543153,
          1.5762976777302087,
          1.6210002370229912,
          1.6255984599060795,
          1.640578359245378,
          1.6375443955173026,
          1.6120408142480445,
          1.656411448765999,
          1.7393694956965513,
          1.7553922730504858,
          1.767385659553508,
          1.7853046208372838,
          1.8327092190833136,
          1.908082530294501,
          1.7767243422611994,
          1.785778666819744,
          1.7314055000444417,
          1.7387532127725764,
          1.631049988704373,
          1.689073286397843,
          1.6684996213187366,
          1.6977956861815595,
          1.6855652766873075,
          1.674567433041005,
          1.687556246666864,
          1.653946432803982,
          1.6309077517628585,
          1.6390614352482815,
          1.76349850564411,
          1.7964447014251008,
          1.8122777909457217,
          1.851765844431441,
          1.8560322582735838,
          1.8585920602853163,
          1.8535197914197676,
          1.8218061614867267,
          1.8410998098260845,
          1.873761531724046,
          1.99976297700877,
          1.9996208558011377,
          2.018866937514814,
          2.026214650242949,
          2.037876227705025,
          2.0621000237022993,
          2.0625740696847594,
          2.058260204950818,
          2.0308129888599193,
          1.9969187011140082,
          2.0528561270443233,
          2.093292156761081,
          2.0945247226090307,
          2.1056173523050488,
          2.1732638065892393,
          2.246029864896895,
          2.260156342587106,
          2.255747807537331,
          2.3152405783360988,
          2.292533822069803,
          2.347286133043968,
          2.4019435422345343,
          2.415738326617682,
          2.3314055926315476,
          2.3315951647309787,
          2.3443469553656078,
          2.457549274857786,
          2.496705287834795,
          2.490542690062811,
          2.4959469994370704,
          2.522493574454847,
          2.5481392769317375,
          2.542972222016473,
          2.5757762965898316,
          2.5189382295863947,
          2.5214031298145296,
          2.5439203139813937,
          2.4557952121355773,
          2.465418252992415,
          2.5388953802737615,
          2.6464091479764162,
          2.677790853134629,
          2.576345012888125,
          2.6407205961868927,
          2.646456598868215,
          2.7516948069744016,
          2.7730740956091493,
          2.7783835031998105,
          2.788907416597535,
          2.7898555085624555,
          2.785826117711543,
          2.7444417645621,
          2.8040768880362643,
          2.8181084639428775
         ],
         "yaxis": "y"
        },
        {
         "hovertemplate": "variable=Normalize(EUR/TRY)<br>Date=%{x}<br>value=%{y}<extra></extra>",
         "legendgroup": "Normalize(EUR/TRY)",
         "line": {
          "color": "#EF553B",
          "dash": "solid"
         },
         "marker": {
          "symbol": "circle"
         },
         "mode": "lines",
         "name": "Normalize(EUR/TRY)",
         "orientation": "v",
         "showlegend": true,
         "type": "scatter",
         "x": [
          "2021-01-04T00:00:00",
          "2021-01-05T00:00:00",
          "2021-01-06T00:00:00",
          "2021-01-07T00:00:00",
          "2021-01-08T00:00:00",
          "2021-01-11T00:00:00",
          "2021-01-12T00:00:00",
          "2021-01-13T00:00:00",
          "2021-01-14T00:00:00",
          "2021-01-15T00:00:00",
          "2021-01-18T00:00:00",
          "2021-01-19T00:00:00",
          "2021-01-20T00:00:00",
          "2021-01-21T00:00:00",
          "2021-01-25T00:00:00",
          "2021-01-26T00:00:00",
          "2021-01-27T00:00:00",
          "2021-01-28T00:00:00",
          "2021-01-29T00:00:00",
          "2021-02-01T00:00:00",
          "2021-02-02T00:00:00",
          "2021-02-03T00:00:00",
          "2021-02-04T00:00:00",
          "2021-02-05T00:00:00",
          "2021-02-08T00:00:00",
          "2021-02-09T00:00:00",
          "2021-02-10T00:00:00",
          "2021-02-11T00:00:00",
          "2021-02-12T00:00:00",
          "2021-02-16T00:00:00",
          "2021-02-18T00:00:00",
          "2021-02-19T00:00:00",
          "2021-02-22T00:00:00",
          "2021-02-23T00:00:00",
          "2021-02-24T00:00:00",
          "2021-02-25T00:00:00",
          "2021-02-26T00:00:00",
          "2021-03-01T00:00:00",
          "2021-03-02T00:00:00",
          "2021-03-03T00:00:00",
          "2021-03-04T00:00:00",
          "2021-03-05T00:00:00",
          "2021-03-08T00:00:00",
          "2021-03-09T00:00:00",
          "2021-03-10T00:00:00",
          "2021-03-11T00:00:00",
          "2021-03-12T00:00:00",
          "2021-03-15T00:00:00",
          "2021-03-16T00:00:00",
          "2021-03-17T00:00:00",
          "2021-03-18T00:00:00",
          "2021-03-19T00:00:00",
          "2021-03-22T00:00:00",
          "2021-03-23T00:00:00",
          "2021-03-24T00:00:00",
          "2021-03-25T00:00:00",
          "2021-03-26T00:00:00",
          "2021-03-29T00:00:00",
          "2021-03-30T00:00:00",
          "2021-03-31T00:00:00",
          "2021-04-01T00:00:00",
          "2021-04-05T00:00:00",
          "2021-04-06T00:00:00",
          "2021-04-07T00:00:00",
          "2021-04-08T00:00:00",
          "2021-04-09T00:00:00",
          "2021-04-12T00:00:00",
          "2021-04-13T00:00:00",
          "2021-04-14T00:00:00",
          "2021-04-15T00:00:00",
          "2021-04-16T00:00:00",
          "2021-04-19T00:00:00",
          "2021-04-20T00:00:00",
          "2021-04-21T00:00:00",
          "2021-04-22T00:00:00",
          "2021-04-26T00:00:00",
          "2021-04-27T00:00:00",
          "2021-04-28T00:00:00",
          "2021-04-29T00:00:00",
          "2021-04-30T00:00:00",
          "2021-05-03T00:00:00",
          "2021-05-04T00:00:00",
          "2021-05-06T00:00:00",
          "2021-05-07T00:00:00",
          "2021-05-10T00:00:00",
          "2021-05-12T00:00:00",
          "2021-05-17T00:00:00",
          "2021-05-18T00:00:00",
          "2021-05-21T00:00:00",
          "2021-05-24T00:00:00",
          "2021-05-26T00:00:00",
          "2021-05-27T00:00:00",
          "2021-05-28T00:00:00",
          "2021-06-01T00:00:00",
          "2021-06-02T00:00:00",
          "2021-06-03T00:00:00",
          "2021-06-04T00:00:00",
          "2021-06-07T00:00:00",
          "2021-06-08T00:00:00",
          "2021-06-09T00:00:00",
          "2021-06-10T00:00:00",
          "2021-06-11T00:00:00",
          "2021-06-14T00:00:00",
          "2021-06-15T00:00:00",
          "2021-06-16T00:00:00",
          "2021-06-17T00:00:00",
          "2021-06-18T00:00:00",
          "2021-06-21T00:00:00",
          "2021-06-22T00:00:00",
          "2021-06-23T00:00:00",
          "2021-06-24T00:00:00",
          "2021-06-25T00:00:00",
          "2021-06-28T00:00:00",
          "2021-06-29T00:00:00",
          "2021-06-30T00:00:00",
          "2021-07-01T00:00:00",
          "2021-07-02T00:00:00",
          "2021-07-06T00:00:00",
          "2021-07-07T00:00:00",
          "2021-07-08T00:00:00",
          "2021-07-09T00:00:00",
          "2021-07-12T00:00:00",
          "2021-07-13T00:00:00",
          "2021-07-14T00:00:00",
          "2021-07-16T00:00:00",
          "2021-07-19T00:00:00",
          "2021-07-26T00:00:00",
          "2021-07-27T00:00:00",
          "2021-07-28T00:00:00",
          "2021-07-29T00:00:00",
          "2021-07-30T00:00:00",
          "2021-08-02T00:00:00",
          "2021-08-03T00:00:00",
          "2021-08-04T00:00:00",
          "2021-08-05T00:00:00",
          "2021-08-06T00:00:00",
          "2021-08-09T00:00:00",
          "2021-08-10T00:00:00",
          "2021-08-11T00:00:00",
          "2021-08-12T00:00:00",
          "2021-08-13T00:00:00",
          "2021-08-16T00:00:00",
          "2021-08-17T00:00:00",
          "2021-08-18T00:00:00",
          "2021-08-19T00:00:00",
          "2021-08-20T00:00:00",
          "2021-08-23T00:00:00",
          "2021-08-24T00:00:00",
          "2021-08-25T00:00:00",
          "2021-08-26T00:00:00",
          "2021-08-27T00:00:00",
          "2021-08-31T00:00:00",
          "2021-09-01T00:00:00",
          "2021-09-02T00:00:00",
          "2021-09-03T00:00:00",
          "2021-09-06T00:00:00",
          "2021-09-07T00:00:00",
          "2021-09-08T00:00:00",
          "2021-09-09T00:00:00",
          "2021-09-10T00:00:00",
          "2021-09-13T00:00:00",
          "2021-09-14T00:00:00",
          "2021-09-15T00:00:00",
          "2021-09-16T00:00:00",
          "2021-09-17T00:00:00",
          "2021-09-20T00:00:00",
          "2021-09-21T00:00:00",
          "2021-09-22T00:00:00",
          "2021-09-23T00:00:00",
          "2021-09-24T00:00:00",
          "2021-09-27T00:00:00",
          "2021-09-28T00:00:00",
          "2021-09-29T00:00:00",
          "2021-09-30T00:00:00",
          "2021-10-01T00:00:00",
          "2021-10-04T00:00:00",
          "2021-10-05T00:00:00",
          "2021-10-06T00:00:00",
          "2021-10-07T00:00:00",
          "2021-10-08T00:00:00",
          "2021-10-11T00:00:00",
          "2021-10-12T00:00:00",
          "2021-10-13T00:00:00",
          "2021-10-14T00:00:00",
          "2021-10-15T00:00:00",
          "2021-10-18T00:00:00",
          "2021-10-19T00:00:00",
          "2021-10-20T00:00:00",
          "2021-10-21T00:00:00",
          "2021-10-22T00:00:00",
          "2021-10-25T00:00:00",
          "2021-10-26T00:00:00",
          "2021-10-27T00:00:00",
          "2021-10-28T00:00:00",
          "2021-11-01T00:00:00",
          "2021-11-02T00:00:00",
          "2021-11-03T00:00:00",
          "2021-11-04T00:00:00",
          "2021-11-05T00:00:00",
          "2021-11-08T00:00:00",
          "2021-11-09T00:00:00",
          "2021-11-10T00:00:00",
          "2021-11-11T00:00:00",
          "2021-11-12T00:00:00",
          "2021-11-15T00:00:00",
          "2021-11-16T00:00:00",
          "2021-11-17T00:00:00",
          "2021-11-18T00:00:00",
          "2021-11-19T00:00:00",
          "2021-11-22T00:00:00",
          "2021-11-23T00:00:00",
          "2021-11-24T00:00:00",
          "2021-11-25T00:00:00",
          "2021-11-26T00:00:00",
          "2021-11-29T00:00:00",
          "2021-11-30T00:00:00",
          "2021-12-01T00:00:00",
          "2021-12-02T00:00:00",
          "2021-12-03T00:00:00",
          "2021-12-06T00:00:00",
          "2021-12-07T00:00:00",
          "2021-12-08T00:00:00",
          "2021-12-09T00:00:00",
          "2021-12-10T00:00:00",
          "2021-12-13T00:00:00",
          "2021-12-14T00:00:00",
          "2021-12-15T00:00:00",
          "2021-12-16T00:00:00",
          "2021-12-17T00:00:00",
          "2021-12-20T00:00:00",
          "2021-12-21T00:00:00",
          "2021-12-22T00:00:00",
          "2021-12-23T00:00:00",
          "2021-12-24T00:00:00",
          "2021-12-27T00:00:00",
          "2021-12-28T00:00:00",
          "2021-12-29T00:00:00",
          "2021-12-30T00:00:00",
          "2022-01-03T00:00:00",
          "2022-01-04T00:00:00",
          "2022-01-05T00:00:00",
          "2022-01-06T00:00:00",
          "2022-01-07T00:00:00",
          "2022-01-10T00:00:00",
          "2022-01-11T00:00:00",
          "2022-01-12T00:00:00",
          "2022-01-13T00:00:00",
          "2022-01-14T00:00:00",
          "2022-01-17T00:00:00",
          "2022-01-18T00:00:00",
          "2022-01-19T00:00:00",
          "2022-01-20T00:00:00",
          "2022-01-21T00:00:00",
          "2022-01-24T00:00:00",
          "2022-01-25T00:00:00",
          "2022-01-26T00:00:00",
          "2022-01-27T00:00:00",
          "2022-01-28T00:00:00",
          "2022-01-31T00:00:00",
          "2022-02-01T00:00:00",
          "2022-02-02T00:00:00",
          "2022-02-03T00:00:00",
          "2022-02-04T00:00:00",
          "2022-02-07T00:00:00",
          "2022-02-08T00:00:00",
          "2022-02-09T00:00:00",
          "2022-02-10T00:00:00",
          "2022-02-11T00:00:00",
          "2022-02-14T00:00:00",
          "2022-02-15T00:00:00",
          "2022-02-16T00:00:00",
          "2022-02-17T00:00:00",
          "2022-02-18T00:00:00",
          "2022-02-21T00:00:00",
          "2022-02-22T00:00:00",
          "2022-02-23T00:00:00",
          "2022-02-24T00:00:00",
          "2022-02-25T00:00:00",
          "2022-02-28T00:00:00",
          "2022-03-01T00:00:00",
          "2022-03-02T00:00:00",
          "2022-03-03T00:00:00",
          "2022-03-04T00:00:00",
          "2022-03-07T00:00:00",
          "2022-03-08T00:00:00",
          "2022-03-09T00:00:00",
          "2022-03-10T00:00:00",
          "2022-03-11T00:00:00",
          "2022-03-14T00:00:00",
          "2022-03-15T00:00:00",
          "2022-03-16T00:00:00",
          "2022-03-17T00:00:00",
          "2022-03-18T00:00:00",
          "2022-03-21T00:00:00",
          "2022-03-22T00:00:00",
          "2022-03-23T00:00:00",
          "2022-03-24T00:00:00",
          "2022-03-25T00:00:00",
          "2022-03-28T00:00:00",
          "2022-03-29T00:00:00",
          "2022-03-30T00:00:00",
          "2022-03-31T00:00:00",
          "2022-04-01T00:00:00",
          "2022-04-04T00:00:00",
          "2022-04-05T00:00:00",
          "2022-04-06T00:00:00",
          "2022-04-07T00:00:00",
          "2022-04-08T00:00:00",
          "2022-04-11T00:00:00",
          "2022-04-12T00:00:00",
          "2022-04-13T00:00:00",
          "2022-04-14T00:00:00",
          "2022-04-15T00:00:00",
          "2022-04-18T00:00:00",
          "2022-04-19T00:00:00",
          "2022-04-20T00:00:00",
          "2022-04-21T00:00:00",
          "2022-04-22T00:00:00",
          "2022-04-25T00:00:00",
          "2022-04-26T00:00:00",
          "2022-04-27T00:00:00",
          "2022-04-28T00:00:00",
          "2022-04-29T00:00:00",
          "2022-05-05T00:00:00",
          "2022-05-06T00:00:00",
          "2022-05-09T00:00:00",
          "2022-05-10T00:00:00",
          "2022-05-11T00:00:00",
          "2022-05-12T00:00:00",
          "2022-05-13T00:00:00",
          "2022-05-16T00:00:00",
          "2022-05-17T00:00:00",
          "2022-05-18T00:00:00",
          "2022-05-20T00:00:00",
          "2022-05-23T00:00:00",
          "2022-05-24T00:00:00",
          "2022-05-25T00:00:00",
          "2022-05-26T00:00:00",
          "2022-05-27T00:00:00",
          "2022-05-30T00:00:00",
          "2022-05-31T00:00:00",
          "2022-06-01T00:00:00",
          "2022-06-02T00:00:00",
          "2022-06-03T00:00:00",
          "2022-06-06T00:00:00",
          "2022-06-07T00:00:00",
          "2022-06-08T00:00:00",
          "2022-06-09T00:00:00",
          "2022-06-10T00:00:00",
          "2022-06-13T00:00:00",
          "2022-06-14T00:00:00",
          "2022-06-15T00:00:00",
          "2022-06-16T00:00:00",
          "2022-06-17T00:00:00",
          "2022-06-20T00:00:00",
          "2022-06-21T00:00:00",
          "2022-06-22T00:00:00",
          "2022-06-23T00:00:00",
          "2022-06-24T00:00:00",
          "2022-06-27T00:00:00",
          "2022-06-28T00:00:00",
          "2022-06-29T00:00:00",
          "2022-06-30T00:00:00",
          "2022-07-01T00:00:00",
          "2022-07-04T00:00:00",
          "2022-07-05T00:00:00",
          "2022-07-06T00:00:00",
          "2022-07-07T00:00:00",
          "2022-07-08T00:00:00",
          "2022-07-13T00:00:00",
          "2022-07-14T00:00:00",
          "2022-07-18T00:00:00",
          "2022-07-19T00:00:00",
          "2022-07-20T00:00:00",
          "2022-07-21T00:00:00",
          "2022-07-22T00:00:00",
          "2022-07-25T00:00:00",
          "2022-07-26T00:00:00",
          "2022-07-27T00:00:00",
          "2022-07-28T00:00:00",
          "2022-07-29T00:00:00",
          "2022-08-01T00:00:00",
          "2022-08-02T00:00:00",
          "2022-08-03T00:00:00",
          "2022-08-04T00:00:00",
          "2022-08-05T00:00:00",
          "2022-08-08T00:00:00",
          "2022-08-09T00:00:00",
          "2022-08-10T00:00:00",
          "2022-08-11T00:00:00",
          "2022-08-12T00:00:00",
          "2022-08-15T00:00:00",
          "2022-08-16T00:00:00",
          "2022-08-17T00:00:00",
          "2022-08-18T00:00:00",
          "2022-08-19T00:00:00",
          "2022-08-22T00:00:00",
          "2022-08-23T00:00:00",
          "2022-08-24T00:00:00",
          "2022-08-25T00:00:00",
          "2022-08-26T00:00:00",
          "2022-08-29T00:00:00",
          "2022-08-31T00:00:00",
          "2022-09-01T00:00:00",
          "2022-09-02T00:00:00",
          "2022-09-05T00:00:00",
          "2022-09-06T00:00:00",
          "2022-09-07T00:00:00",
          "2022-09-08T00:00:00",
          "2022-09-09T00:00:00",
          "2022-09-12T00:00:00",
          "2022-09-13T00:00:00",
          "2022-09-14T00:00:00",
          "2022-09-15T00:00:00",
          "2022-09-16T00:00:00",
          "2022-09-19T00:00:00",
          "2022-09-20T00:00:00",
          "2022-09-21T00:00:00",
          "2022-09-22T00:00:00",
          "2022-09-23T00:00:00",
          "2022-09-26T00:00:00",
          "2022-09-27T00:00:00",
          "2022-09-28T00:00:00",
          "2022-09-29T00:00:00",
          "2022-09-30T00:00:00",
          "2022-10-03T00:00:00",
          "2022-10-04T00:00:00",
          "2022-10-05T00:00:00",
          "2022-10-06T00:00:00",
          "2022-10-07T00:00:00",
          "2022-10-10T00:00:00",
          "2022-10-11T00:00:00",
          "2022-10-12T00:00:00",
          "2022-10-13T00:00:00",
          "2022-10-14T00:00:00",
          "2022-10-17T00:00:00",
          "2022-10-18T00:00:00",
          "2022-10-19T00:00:00",
          "2022-10-20T00:00:00",
          "2022-10-21T00:00:00",
          "2022-10-24T00:00:00",
          "2022-10-25T00:00:00",
          "2022-10-26T00:00:00",
          "2022-10-27T00:00:00",
          "2022-10-28T00:00:00",
          "2022-10-31T00:00:00",
          "2022-11-01T00:00:00",
          "2022-11-02T00:00:00",
          "2022-11-03T00:00:00",
          "2022-11-04T00:00:00",
          "2022-11-07T00:00:00",
          "2022-11-08T00:00:00",
          "2022-11-09T00:00:00",
          "2022-11-10T00:00:00",
          "2022-11-11T00:00:00",
          "2022-11-14T00:00:00",
          "2022-11-15T00:00:00",
          "2022-11-16T00:00:00",
          "2022-11-17T00:00:00",
          "2022-11-18T00:00:00",
          "2022-11-21T00:00:00",
          "2022-11-22T00:00:00",
          "2022-11-23T00:00:00",
          "2022-11-24T00:00:00",
          "2022-11-25T00:00:00",
          "2022-11-28T00:00:00",
          "2022-11-29T00:00:00",
          "2022-11-30T00:00:00",
          "2022-12-01T00:00:00",
          "2022-12-02T00:00:00",
          "2022-12-05T00:00:00",
          "2022-12-06T00:00:00",
          "2022-12-07T00:00:00",
          "2022-12-08T00:00:00",
          "2022-12-09T00:00:00",
          "2022-12-12T00:00:00",
          "2022-12-13T00:00:00",
          "2022-12-14T00:00:00",
          "2022-12-15T00:00:00",
          "2022-12-16T00:00:00",
          "2022-12-19T00:00:00",
          "2022-12-20T00:00:00",
          "2022-12-21T00:00:00",
          "2022-12-22T00:00:00",
          "2022-12-23T00:00:00",
          "2022-12-27T00:00:00",
          "2022-12-28T00:00:00",
          "2022-12-29T00:00:00",
          "2022-12-30T00:00:00"
         ],
         "xaxis": "x",
         "y": [
          1.002309469307048,
          1.0004536007670797,
          0.999677514104034,
          0.9913525071073918,
          0.9905115453519936,
          0.9866137910169622,
          1.0007485829831164,
          1.000737560515969,
          0.9907427022344536,
          0.9850231965196717,
          0.9892512049656109,
          0.9937499461998628,
          0.9974825734794401,
          0.9886358363711603,
          0.9935364252648384,
          0.9900184736549388,
          0.9835361082376881,
          0.9857507843272695,
          0.9799520218249048,
          0.9714124441344624,
          0.9552357663732451,
          0.9531168282840287,
          0.9479036212268783,
          0.9397350282878497,
          0.9356501019630699,
          0.9389633506116629,
          0.9421335171390967,
          0.940481301801659,
          0.9384944233664546,
          0.9292514023202608,
          0.9232292511503781,
          0.9270201400420197,
          0.9314463429448547,
          0.9395731554846012,
          0.951143176809401,
          0.9599437245315399,
          0.9801831787073648,
          0.9864101378144317,
          0.9640297006150956,
          0.977297076904698,
          0.9887481605601849,
          0.9891246040572337,
          0.98549212376488,
          1.0117395573671126,
          0.9956619768343432,
          0.9830836622052619,
          0.9844497133003807,
          0.9938237442418106,
          0.9885258216514428,
          0.980173310974871,
          0.9875703312135904,
          0.9601627042121991,
          1.059963480991703,
          1.0262991867098858,
          1.0337304290847007,
          1.029390096449737,
          1.0267460690207997,
          1.052271478536947,
          1.0689698864098018,
          1.0730458897849864,
          1.066246602193282,
          1.0598743564716264,
          1.0552203559144144,
          1.0629321988100355,
          1.0641595767708538,
          1.0680441041453084,
          1.0685505077788175,
          1.0681630418146215,
          1.0665283574487419,
          1.0649070050193166,
          1.0578390841568517,
          1.0642795641989427,
          1.071334258100831,
          1.0732748421740168,
          1.0852543743973073,
          1.1188317486524773,
          1.1007595214695616,
          1.0919667419623644,
          1.0931456210677348,
          1.0923409809659839,
          1.095437454427347,
          1.095100586836151,
          1.099254797240142,
          1.0991909719065656,
          1.1025053752898122,
          1.1087851372633082,
          1.1294429203113416,
          1.110889798633172,
          1.1262827264922792,
          1.1293273418701117,
          1.1397295065566884,
          1.134379830858667,
          1.139009581988155,
          1.1422898682111837,
          1.1592303504577683,
          1.1531576009148858,
          1.161821575020276,
          1.1617984803272057,
          1.15362757791887,
          1.152336374624475,
          1.1502636259213994,
          1.1285160882880723,
          1.1168701694037728,
          1.128257427725683,
          1.1406507748584453,
          1.1370612297000273,
          1.1425881046794257,
          1.143614033931143,
          1.150454157139231,
          1.1350612292801237,
          1.1330193434850606,
          1.1420113672079293,
          1.1497463047966208,
          1.1407201639135343,
          1.1430240694990699,
          1.134858625836369,
          1.1302101890006695,
          1.1308552657684792,
          1.1301771215992278,
          1.1265413870546688,
          1.1316433196815703,
          1.1308629290075434,
          1.1284753576475661,
          1.1170264784855088,
          1.1130021232421001,
          1.1092827229230995,
          1.1076546520375083,
          1.111492990025822,
          1.113216798911778,
          1.114975774716728,
          1.1063172593569723,
          1.1017744282541315,
          1.0909386082172177,
          1.097166722058938,
          1.1038284912509955,
          1.1102039912248565,
          1.114554191592314,
          1.1173324831686926,
          1.1093597752172528,
          1.1147930117138383,
          1.1058956762325585,
          1.1045626925388814,
          1.0963367827706871,
          1.0860887226724172,
          1.0889540392513204,
          1.0953790878394054,
          1.0922827193539197,
          1.0893040288272158,
          1.0880183892543331,
          1.0849901501134054,
          1.083695692566805,
          1.0863463334760306,
          1.0795381229347307,
          1.0796702875646205,
          1.0819477392290027,
          1.0874118386336005,
          1.08171101862503,
          1.0880591198948393,
          1.1032219406302626,
          1.099089775160566,
          1.0997622506324272,
          1.095330693959835,
          1.0952436689573104,
          1.0963642864506165,
          1.1045075802031452,
          1.1153775174002767,
          1.1183738438744162,
          1.1125067420757384,
          1.1135569207551796,
          1.131539918442141,
          1.1436987494643607,
          1.1351194908921878,
          1.1404163637237799,
          1.1385946123440294,
          1.1317193222169477,
          1.1304743083086937,
          1.1317644618443128,
          1.1311105671027855,
          1.1278017274410512,
          1.1286966467975323,
          1.140115817786231,
          1.1438760537216153,
          1.1471815341552665,
          1.1674232978003984,
          1.1722016947725582,
          1.1790340497657044,
          1.1939943720332504,
          1.1913162274440956,
          1.181927919783313,
          1.2197530379494097,
          1.2420608318414512,
          1.224587492040204,
          1.2171960355229972,
          1.2111825973509547,
          1.2189000039680882,
          1.218030383798107,
          1.2235528497906467,
          1.2321728390033255,
          1.232612058075175,
          1.2339626777162875,
          1.2350942127008635,
          1.2411208778334826,
          1.243640508847472,
          1.2498861536607504,
          1.26309957234927,
          1.2577862183048958,
          1.2877189350659113,
          1.3368267555798352,
          1.3810527778821704,
          1.3789657524597423,
          1.406178544232321,
          1.581875095921708,
          1.4642552937760431,
          1.4739254616681632,
          1.5332625515982683,
          1.5792487044402066,
          1.6838575863652292,
          1.6751021782704552,
          1.7037183925505759,
          1.7012186019774516,
          1.7118672500246168,
          1.678272344797889,
          1.7053838348485901,
          1.7123395364979082,
          1.7246128962025815,
          1.7143539186130419,
          1.7796659205681127,
          1.8374950320165928,
          1.951888505540312,
          2.05346463436167,
          1.6876771336714536,
          1.5245225749575004,
          1.4946713194774972,
          1.4086893572725923,
          1.3462811980435017,
          1.4367607467480048,
          1.4697811189966659,
          1.5752364214227212,
          1,
          0.9719194189978676,
          0.9922307985803313,
          1.0168787365301895,
          1.0160972519203884,
          1.0264339821930504,
          1.02852095483142,
          1.029459087959053,
          0.990392705591134,
          1.0181532715650543,
          1.009031870093864,
          1.0088462149166182,
          1.0072372243088112,
          0.9991928363345703,
          0.9903834761995023,
          1.002814399382899,
          1.0030612699128048,
          1.0043694576953883,
          1.0028842162774196,
          0.9943974453546243,
          0.989812007338057,
          0.9817288182479764,
          0.9907462477971106,
          0.9994054890519638,
          1.0206629126691733,
          1.0221415616645477,
          1.0221066532172873,
          1.0207754861330902,
          1.0175350906806564,
          1.0136672849521926,
          1.0103906625679797,
          1.0118305104475143,
          1.0168234229653759,
          1.0173533909569668,
          1.0120662052514988,
          1.013783813869666,
          1.0166265292772312,
          1.0264089309871927,
          1.0273352605391333,
          1.0306869109709653,
          1.0328581410485858,
          1.0179136213075135,
          1.0146909940035953,
          1.0229539364830758,
          1.0270811069518855,
          1.0192915631996404,
          1.027963298664934,
          1.038888575312809,
          1.0662884415933647,
          1.0779820180058524,
          1.0615087468576905,
          1.0654930815036274,
          1.0615779359024402,
          1.05630588137645,
          1.0744195984059397,
          1.0770004376740754,
          1.074984537629768,
          1.0761484455350054,
          1.0743038229081914,
          1.0737672624940064,
          1.0718567156412508,
          1.072823102008573,
          1.0637972592725091,
          1.0766606453780807,
          1.069137121573753,
          1.0674576234366777,
          1.0607266971830955,
          1.0565468501185098,
          1.05496680338514,
          1.0537284324970773,
          1.0562360644819295,
          1.0500759164550446,
          1.0387075662238672,
          1.04649780061086,
          1.0414956587013668,
          1.0412237369656032,
          1.0393771052195224,
          1.040697724427569,
          1.04772826059181,
          1.0488171404494286,
          1.0488474655933617,
          1.0419315120123043,
          1.036959632461767,
          1.0287862213596124,
          1.022489829932449,
          1.0294130037858713,
          1.031389349294614,
          1.0358483383673283,
          1.0497493717892155,
          1.0624021770816374,
          1.0578562936006348,
          1.0528962804107669,
          1.0599597159030014,
          1.0710548259138966,
          1.1030795591766303,
          1.1074930919259336,
          1.1068334729566582,
          1.1200419252962996,
          1.1326288063627803,
          1.1479920391160452,
          1.1553721620327064,
          1.1517611468605282,
          1.1617752251359406,
          1.1573017955184963,
          1.1491638579283958,
          1.1660636902108865,
          1.1613295773685774,
          1.168359987962864,
          1.1858648162845646,
          1.2119256045738103,
          1.2061070696072556,
          1.1878003515582007,
          1.1833624582377877,
          1.185446166057349,
          1.185243998431129,
          1.2008659052899922,
          1.1972417052726259,
          1.1991061679521995,
          1.2026152203215885,
          1.205991168539553,
          1.2002550074629363,
          1.1477707848567908,
          1.1504483129896403,
          1.1479071538270238,
          1.1350554457271904,
          1.151569527110459,
          1.149373308611958,
          1.1524595669456434,
          1.1446634307708043,
          1.1525202172335094,
          1.1542976599348405,
          1.1371787080823164,
          1.1474989259060044,
          1.1430399368332902,
          1.164571165735576,
          1.1811273130534927,
          1.1798192508408636,
          1.1926411988615577,
          1.1916122786570569,
          1.1992997968215358,
          1.1917676086903701,
          1.199006842118448,
          1.203853591209651,
          1.2027719316243974,
          1.2069385938437949,
          1.1993234039729204,
          1.1986051438350458,
          1.2100611418942366,
          1.1981193136823471,
          1.203401288234717,
          1.2020944817216295,
          1.2104482740629545,
          1.2192121778746117,
          1.2104133656156943,
          1.2009324573657043,
          1.1987914896470397,
          1.201903489821331,
          1.199199717568059,
          1.1940777191373069,
          1.1832794564980786,
          1.187449509106239,
          1.1904870462977049,
          1.1917946062305174,
          1.1886391588520822,
          1.1978348977361433,
          1.2016316308705444,
          1.1922896029898709,
          1.188140771703966,
          1.1931034218628718,
          1.187745728628135,
          1.1989528470381532,
          1.2021371755060486,
          1.2070090385880865,
          1.214830791033577,
          1.1983570176055982,
          1.1981424185539151,
          1.2011450472981207,
          1.2043762133589229,
          1.2077910882626812,
          1.2018785014004503,
          1.1867253471805181,
          1.1872980717415051,
          1.1748072516899675,
          1.1674172087469268,
          1.1619161146245236,
          1.1832696620416532,
          1.194626083127184,
          1.1892368718339499,
          1.1967625303274985,
          1.2185932435704887,
          1.2101730247234055,
          1.1968638652805166,
          1.1849425049711575,
          1.18720916821395,
          1.1864533626597775,
          1.183099765893656,
          1.191812311594056,
          1.1914462751776391,
          1.202016126070225,
          1.2060715333102243,
          1.1956452088752592,
          1.1962410383078144,
          1.2042972298577475,
          1.2065244641349295,
          1.2205413358395423,
          1.2350105105190892,
          1.220847475387818,
          1.2166617265353863,
          1.2116095449991546,
          1.2072098249448104,
          1.2026836559466132,
          1.1944082192566925,
          1.2157281139261034,
          1.216455038390816,
          1.2305712359291803,
          1.2263038666065353,
          1.2401548604016845,
          1.258172516416231,
          1.2611482731902435,
          1.2683144249049922,
          1.2730617225924896,
          1.2677594057075436,
          1.2655875477801524,
          1.2528234875083324,
          1.2627644840704153,
          1.2754383851151385,
          1.2754996632527753,
          1.2694876249868388,
          1.26538801712297,
          1.266028549459211,
          1.2777537695001506,
          1.2908529759796608,
          1.2929892976100208,
          1.2869898163395015,
          1.283447864642119,
          1.2891643112359303,
          1.2953869303150167,
          1.2908286154085509,
          1.2920807989915728,
          1.299743328735171,
          1.3081062876831508,
          1.3042884587964485,
          1.297076348478472,
          1.30181975349739,
          1.3035163291482332,
          1.3025189270022302,
          1.30298102443359,
          1.3045347014765833,
          1.3038842491139626,
          1.3079745648012224,
          1.3125863725081663
         ],
         "yaxis": "y"
        }
       ],
       "layout": {
        "legend": {
         "title": {
          "text": "variable"
         },
         "tracegroupgap": 0
        },
        "margin": {
         "t": 60
        },
        "template": {
         "data": {
          "bar": [
           {
            "error_x": {
             "color": "#2a3f5f"
            },
            "error_y": {
             "color": "#2a3f5f"
            },
            "marker": {
             "line": {
              "color": "#E5ECF6",
              "width": 0.5
             },
             "pattern": {
              "fillmode": "overlay",
              "size": 10,
              "solidity": 0.2
             }
            },
            "type": "bar"
           }
          ],
          "barpolar": [
           {
            "marker": {
             "line": {
              "color": "#E5ECF6",
              "width": 0.5
             },
             "pattern": {
              "fillmode": "overlay",
              "size": 10,
              "solidity": 0.2
             }
            },
            "type": "barpolar"
           }
          ],
          "carpet": [
           {
            "aaxis": {
             "endlinecolor": "#2a3f5f",
             "gridcolor": "white",
             "linecolor": "white",
             "minorgridcolor": "white",
             "startlinecolor": "#2a3f5f"
            },
            "baxis": {
             "endlinecolor": "#2a3f5f",
             "gridcolor": "white",
             "linecolor": "white",
             "minorgridcolor": "white",
             "startlinecolor": "#2a3f5f"
            },
            "type": "carpet"
           }
          ],
          "choropleth": [
           {
            "colorbar": {
             "outlinewidth": 0,
             "ticks": ""
            },
            "type": "choropleth"
           }
          ],
          "contour": [
           {
            "colorbar": {
             "outlinewidth": 0,
             "ticks": ""
            },
            "colorscale": [
             [
              0,
              "#0d0887"
             ],
             [
              0.1111111111111111,
              "#46039f"
             ],
             [
              0.2222222222222222,
              "#7201a8"
             ],
             [
              0.3333333333333333,
              "#9c179e"
             ],
             [
              0.4444444444444444,
              "#bd3786"
             ],
             [
              0.5555555555555556,
              "#d8576b"
             ],
             [
              0.6666666666666666,
              "#ed7953"
             ],
             [
              0.7777777777777778,
              "#fb9f3a"
             ],
             [
              0.8888888888888888,
              "#fdca26"
             ],
             [
              1,
              "#f0f921"
             ]
            ],
            "type": "contour"
           }
          ],
          "contourcarpet": [
           {
            "colorbar": {
             "outlinewidth": 0,
             "ticks": ""
            },
            "type": "contourcarpet"
           }
          ],
          "heatmap": [
           {
            "colorbar": {
             "outlinewidth": 0,
             "ticks": ""
            },
            "colorscale": [
             [
              0,
              "#0d0887"
             ],
             [
              0.1111111111111111,
              "#46039f"
             ],
             [
              0.2222222222222222,
              "#7201a8"
             ],
             [
              0.3333333333333333,
              "#9c179e"
             ],
             [
              0.4444444444444444,
              "#bd3786"
             ],
             [
              0.5555555555555556,
              "#d8576b"
             ],
             [
              0.6666666666666666,
              "#ed7953"
             ],
             [
              0.7777777777777778,
              "#fb9f3a"
             ],
             [
              0.8888888888888888,
              "#fdca26"
             ],
             [
              1,
              "#f0f921"
             ]
            ],
            "type": "heatmap"
           }
          ],
          "heatmapgl": [
           {
            "colorbar": {
             "outlinewidth": 0,
             "ticks": ""
            },
            "colorscale": [
             [
              0,
              "#0d0887"
             ],
             [
              0.1111111111111111,
              "#46039f"
             ],
             [
              0.2222222222222222,
              "#7201a8"
             ],
             [
              0.3333333333333333,
              "#9c179e"
             ],
             [
              0.4444444444444444,
              "#bd3786"
             ],
             [
              0.5555555555555556,
              "#d8576b"
             ],
             [
              0.6666666666666666,
              "#ed7953"
             ],
             [
              0.7777777777777778,
              "#fb9f3a"
             ],
             [
              0.8888888888888888,
              "#fdca26"
             ],
             [
              1,
              "#f0f921"
             ]
            ],
            "type": "heatmapgl"
           }
          ],
          "histogram": [
           {
            "marker": {
             "pattern": {
              "fillmode": "overlay",
              "size": 10,
              "solidity": 0.2
             }
            },
            "type": "histogram"
           }
          ],
          "histogram2d": [
           {
            "colorbar": {
             "outlinewidth": 0,
             "ticks": ""
            },
            "colorscale": [
             [
              0,
              "#0d0887"
             ],
             [
              0.1111111111111111,
              "#46039f"
             ],
             [
              0.2222222222222222,
              "#7201a8"
             ],
             [
              0.3333333333333333,
              "#9c179e"
             ],
             [
              0.4444444444444444,
              "#bd3786"
             ],
             [
              0.5555555555555556,
              "#d8576b"
             ],
             [
              0.6666666666666666,
              "#ed7953"
             ],
             [
              0.7777777777777778,
              "#fb9f3a"
             ],
             [
              0.8888888888888888,
              "#fdca26"
             ],
             [
              1,
              "#f0f921"
             ]
            ],
            "type": "histogram2d"
           }
          ],
          "histogram2dcontour": [
           {
            "colorbar": {
             "outlinewidth": 0,
             "ticks": ""
            },
            "colorscale": [
             [
              0,
              "#0d0887"
             ],
             [
              0.1111111111111111,
              "#46039f"
             ],
             [
              0.2222222222222222,
              "#7201a8"
             ],
             [
              0.3333333333333333,
              "#9c179e"
             ],
             [
              0.4444444444444444,
              "#bd3786"
             ],
             [
              0.5555555555555556,
              "#d8576b"
             ],
             [
              0.6666666666666666,
              "#ed7953"
             ],
             [
              0.7777777777777778,
              "#fb9f3a"
             ],
             [
              0.8888888888888888,
              "#fdca26"
             ],
             [
              1,
              "#f0f921"
             ]
            ],
            "type": "histogram2dcontour"
           }
          ],
          "mesh3d": [
           {
            "colorbar": {
             "outlinewidth": 0,
             "ticks": ""
            },
            "type": "mesh3d"
           }
          ],
          "parcoords": [
           {
            "line": {
             "colorbar": {
              "outlinewidth": 0,
              "ticks": ""
             }
            },
            "type": "parcoords"
           }
          ],
          "pie": [
           {
            "automargin": true,
            "type": "pie"
           }
          ],
          "scatter": [
           {
            "fillpattern": {
             "fillmode": "overlay",
             "size": 10,
             "solidity": 0.2
            },
            "type": "scatter"
           }
          ],
          "scatter3d": [
           {
            "line": {
             "colorbar": {
              "outlinewidth": 0,
              "ticks": ""
             }
            },
            "marker": {
             "colorbar": {
              "outlinewidth": 0,
              "ticks": ""
             }
            },
            "type": "scatter3d"
           }
          ],
          "scattercarpet": [
           {
            "marker": {
             "colorbar": {
              "outlinewidth": 0,
              "ticks": ""
             }
            },
            "type": "scattercarpet"
           }
          ],
          "scattergeo": [
           {
            "marker": {
             "colorbar": {
              "outlinewidth": 0,
              "ticks": ""
             }
            },
            "type": "scattergeo"
           }
          ],
          "scattergl": [
           {
            "marker": {
             "colorbar": {
              "outlinewidth": 0,
              "ticks": ""
             }
            },
            "type": "scattergl"
           }
          ],
          "scattermapbox": [
           {
            "marker": {
             "colorbar": {
              "outlinewidth": 0,
              "ticks": ""
             }
            },
            "type": "scattermapbox"
           }
          ],
          "scatterpolar": [
           {
            "marker": {
             "colorbar": {
              "outlinewidth": 0,
              "ticks": ""
             }
            },
            "type": "scatterpolar"
           }
          ],
          "scatterpolargl": [
           {
            "marker": {
             "colorbar": {
              "outlinewidth": 0,
              "ticks": ""
             }
            },
            "type": "scatterpolargl"
           }
          ],
          "scatterternary": [
           {
            "marker": {
             "colorbar": {
              "outlinewidth": 0,
              "ticks": ""
             }
            },
            "type": "scatterternary"
           }
          ],
          "surface": [
           {
            "colorbar": {
             "outlinewidth": 0,
             "ticks": ""
            },
            "colorscale": [
             [
              0,
              "#0d0887"
             ],
             [
              0.1111111111111111,
              "#46039f"
             ],
             [
              0.2222222222222222,
              "#7201a8"
             ],
             [
              0.3333333333333333,
              "#9c179e"
             ],
             [
              0.4444444444444444,
              "#bd3786"
             ],
             [
              0.5555555555555556,
              "#d8576b"
             ],
             [
              0.6666666666666666,
              "#ed7953"
             ],
             [
              0.7777777777777778,
              "#fb9f3a"
             ],
             [
              0.8888888888888888,
              "#fdca26"
             ],
             [
              1,
              "#f0f921"
             ]
            ],
            "type": "surface"
           }
          ],
          "table": [
           {
            "cells": {
             "fill": {
              "color": "#EBF0F8"
             },
             "line": {
              "color": "white"
             }
            },
            "header": {
             "fill": {
              "color": "#C8D4E3"
             },
             "line": {
              "color": "white"
             }
            },
            "type": "table"
           }
          ]
         },
         "layout": {
          "annotationdefaults": {
           "arrowcolor": "#2a3f5f",
           "arrowhead": 0,
           "arrowwidth": 1
          },
          "autotypenumbers": "strict",
          "coloraxis": {
           "colorbar": {
            "outlinewidth": 0,
            "ticks": ""
           }
          },
          "colorscale": {
           "diverging": [
            [
             0,
             "#8e0152"
            ],
            [
             0.1,
             "#c51b7d"
            ],
            [
             0.2,
             "#de77ae"
            ],
            [
             0.3,
             "#f1b6da"
            ],
            [
             0.4,
             "#fde0ef"
            ],
            [
             0.5,
             "#f7f7f7"
            ],
            [
             0.6,
             "#e6f5d0"
            ],
            [
             0.7,
             "#b8e186"
            ],
            [
             0.8,
             "#7fbc41"
            ],
            [
             0.9,
             "#4d9221"
            ],
            [
             1,
             "#276419"
            ]
           ],
           "sequential": [
            [
             0,
             "#0d0887"
            ],
            [
             0.1111111111111111,
             "#46039f"
            ],
            [
             0.2222222222222222,
             "#7201a8"
            ],
            [
             0.3333333333333333,
             "#9c179e"
            ],
            [
             0.4444444444444444,
             "#bd3786"
            ],
            [
             0.5555555555555556,
             "#d8576b"
            ],
            [
             0.6666666666666666,
             "#ed7953"
            ],
            [
             0.7777777777777778,
             "#fb9f3a"
            ],
            [
             0.8888888888888888,
             "#fdca26"
            ],
            [
             1,
             "#f0f921"
            ]
           ],
           "sequentialminus": [
            [
             0,
             "#0d0887"
            ],
            [
             0.1111111111111111,
             "#46039f"
            ],
            [
             0.2222222222222222,
             "#7201a8"
            ],
            [
             0.3333333333333333,
             "#9c179e"
            ],
            [
             0.4444444444444444,
             "#bd3786"
            ],
            [
             0.5555555555555556,
             "#d8576b"
            ],
            [
             0.6666666666666666,
             "#ed7953"
            ],
            [
             0.7777777777777778,
             "#fb9f3a"
            ],
            [
             0.8888888888888888,
             "#fdca26"
            ],
            [
             1,
             "#f0f921"
            ]
           ]
          },
          "colorway": [
           "#636efa",
           "#EF553B",
           "#00cc96",
           "#ab63fa",
           "#FFA15A",
           "#19d3f3",
           "#FF6692",
           "#B6E880",
           "#FF97FF",
           "#FECB52"
          ],
          "font": {
           "color": "#2a3f5f"
          },
          "geo": {
           "bgcolor": "white",
           "lakecolor": "white",
           "landcolor": "#E5ECF6",
           "showlakes": true,
           "showland": true,
           "subunitcolor": "white"
          },
          "hoverlabel": {
           "align": "left"
          },
          "hovermode": "closest",
          "mapbox": {
           "style": "light"
          },
          "paper_bgcolor": "white",
          "plot_bgcolor": "#E5ECF6",
          "polar": {
           "angularaxis": {
            "gridcolor": "white",
            "linecolor": "white",
            "ticks": ""
           },
           "bgcolor": "#E5ECF6",
           "radialaxis": {
            "gridcolor": "white",
            "linecolor": "white",
            "ticks": ""
           }
          },
          "scene": {
           "xaxis": {
            "backgroundcolor": "#E5ECF6",
            "gridcolor": "white",
            "gridwidth": 2,
            "linecolor": "white",
            "showbackground": true,
            "ticks": "",
            "zerolinecolor": "white"
           },
           "yaxis": {
            "backgroundcolor": "#E5ECF6",
            "gridcolor": "white",
            "gridwidth": 2,
            "linecolor": "white",
            "showbackground": true,
            "ticks": "",
            "zerolinecolor": "white"
           },
           "zaxis": {
            "backgroundcolor": "#E5ECF6",
            "gridcolor": "white",
            "gridwidth": 2,
            "linecolor": "white",
            "showbackground": true,
            "ticks": "",
            "zerolinecolor": "white"
           }
          },
          "shapedefaults": {
           "line": {
            "color": "#2a3f5f"
           }
          },
          "ternary": {
           "aaxis": {
            "gridcolor": "white",
            "linecolor": "white",
            "ticks": ""
           },
           "baxis": {
            "gridcolor": "white",
            "linecolor": "white",
            "ticks": ""
           },
           "bgcolor": "#E5ECF6",
           "caxis": {
            "gridcolor": "white",
            "linecolor": "white",
            "ticks": ""
           }
          },
          "title": {
           "x": 0.05
          },
          "xaxis": {
           "automargin": true,
           "gridcolor": "white",
           "linecolor": "white",
           "ticks": "",
           "title": {
            "standoff": 15
           },
           "zerolinecolor": "white",
           "zerolinewidth": 2
          },
          "yaxis": {
           "automargin": true,
           "gridcolor": "white",
           "linecolor": "white",
           "ticks": "",
           "title": {
            "standoff": 15
           },
           "zerolinecolor": "white",
           "zerolinewidth": 2
          }
         }
        },
        "xaxis": {
         "anchor": "y",
         "domain": [
          0,
          1
         ],
         "title": {
          "text": "Date"
         }
        },
        "yaxis": {
         "anchor": "x",
         "domain": [
          0,
          1
         ],
         "title": {
          "text": "value"
         }
        }
       }
      },
      "text/html": [
       "<div>                            <div id=\"252d8739-8511-4290-9d79-db0164d7068c\" class=\"plotly-graph-div\" style=\"height:525px; width:100%;\"></div>            <script type=\"text/javascript\">                require([\"plotly\"], function(Plotly) {                    window.PLOTLYENV=window.PLOTLYENV || {};                                    if (document.getElementById(\"252d8739-8511-4290-9d79-db0164d7068c\")) {                    Plotly.newPlot(                        \"252d8739-8511-4290-9d79-db0164d7068c\",                        [{\"hovertemplate\":\"variable=Normalize (TRY)<br>Date=%{x}<br>value=%{y}<extra></extra>\",\"legendgroup\":\"Normalize (TRY)\",\"line\":{\"color\":\"#636efa\",\"dash\":\"solid\"},\"marker\":{\"symbol\":\"circle\"},\"mode\":\"lines\",\"name\":\"Normalize (TRY)\",\"orientation\":\"v\",\"showlegend\":true,\"x\":[\"2021-01-04T00:00:00\",\"2021-01-05T00:00:00\",\"2021-01-06T00:00:00\",\"2021-01-07T00:00:00\",\"2021-01-08T00:00:00\",\"2021-01-11T00:00:00\",\"2021-01-12T00:00:00\",\"2021-01-13T00:00:00\",\"2021-01-14T00:00:00\",\"2021-01-15T00:00:00\",\"2021-01-18T00:00:00\",\"2021-01-19T00:00:00\",\"2021-01-20T00:00:00\",\"2021-01-21T00:00:00\",\"2021-01-25T00:00:00\",\"2021-01-26T00:00:00\",\"2021-01-27T00:00:00\",\"2021-01-28T00:00:00\",\"2021-01-29T00:00:00\",\"2021-02-01T00:00:00\",\"2021-02-02T00:00:00\",\"2021-02-03T00:00:00\",\"2021-02-04T00:00:00\",\"2021-02-05T00:00:00\",\"2021-02-08T00:00:00\",\"2021-02-09T00:00:00\",\"2021-02-10T00:00:00\",\"2021-02-11T00:00:00\",\"2021-02-12T00:00:00\",\"2021-02-16T00:00:00\",\"2021-02-18T00:00:00\",\"2021-02-19T00:00:00\",\"2021-02-22T00:00:00\",\"2021-02-23T00:00:00\",\"2021-02-24T00:00:00\",\"2021-02-25T00:00:00\",\"2021-02-26T00:00:00\",\"2021-03-01T00:00:00\",\"2021-03-02T00:00:00\",\"2021-03-03T00:00:00\",\"2021-03-04T00:00:00\",\"2021-03-05T00:00:00\",\"2021-03-08T00:00:00\",\"2021-03-09T00:00:00\",\"2021-03-10T00:00:00\",\"2021-03-11T00:00:00\",\"2021-03-12T00:00:00\",\"2021-03-15T00:00:00\",\"2021-03-16T00:00:00\",\"2021-03-17T00:00:00\",\"2021-03-18T00:00:00\",\"2021-03-19T00:00:00\",\"2021-03-22T00:00:00\",\"2021-03-23T00:00:00\",\"2021-03-24T00:00:00\",\"2021-03-25T00:00:00\",\"2021-03-26T00:00:00\",\"2021-03-29T00:00:00\",\"2021-03-30T00:00:00\",\"2021-03-31T00:00:00\",\"2021-04-01T00:00:00\",\"2021-04-05T00:00:00\",\"2021-04-06T00:00:00\",\"2021-04-07T00:00:00\",\"2021-04-08T00:00:00\",\"2021-04-09T00:00:00\",\"2021-04-12T00:00:00\",\"2021-04-13T00:00:00\",\"2021-04-14T00:00:00\",\"2021-04-15T00:00:00\",\"2021-04-16T00:00:00\",\"2021-04-19T00:00:00\",\"2021-04-20T00:00:00\",\"2021-04-21T00:00:00\",\"2021-04-22T00:00:00\",\"2021-04-26T00:00:00\",\"2021-04-27T00:00:00\",\"2021-04-28T00:00:00\",\"2021-04-29T00:00:00\",\"2021-04-30T00:00:00\",\"2021-05-03T00:00:00\",\"2021-05-04T00:00:00\",\"2021-05-06T00:00:00\",\"2021-05-07T00:00:00\",\"2021-05-10T00:00:00\",\"2021-05-12T00:00:00\",\"2021-05-17T00:00:00\",\"2021-05-18T00:00:00\",\"2021-05-21T00:00:00\",\"2021-05-24T00:00:00\",\"2021-05-26T00:00:00\",\"2021-05-27T00:00:00\",\"2021-05-28T00:00:00\",\"2021-06-01T00:00:00\",\"2021-06-02T00:00:00\",\"2021-06-03T00:00:00\",\"2021-06-04T00:00:00\",\"2021-06-07T00:00:00\",\"2021-06-08T00:00:00\",\"2021-06-09T00:00:00\",\"2021-06-10T00:00:00\",\"2021-06-11T00:00:00\",\"2021-06-14T00:00:00\",\"2021-06-15T00:00:00\",\"2021-06-16T00:00:00\",\"2021-06-17T00:00:00\",\"2021-06-18T00:00:00\",\"2021-06-21T00:00:00\",\"2021-06-22T00:00:00\",\"2021-06-23T00:00:00\",\"2021-06-24T00:00:00\",\"2021-06-25T00:00:00\",\"2021-06-28T00:00:00\",\"2021-06-29T00:00:00\",\"2021-06-30T00:00:00\",\"2021-07-01T00:00:00\",\"2021-07-02T00:00:00\",\"2021-07-06T00:00:00\",\"2021-07-07T00:00:00\",\"2021-07-08T00:00:00\",\"2021-07-09T00:00:00\",\"2021-07-12T00:00:00\",\"2021-07-13T00:00:00\",\"2021-07-14T00:00:00\",\"2021-07-16T00:00:00\",\"2021-07-19T00:00:00\",\"2021-07-26T00:00:00\",\"2021-07-27T00:00:00\",\"2021-07-28T00:00:00\",\"2021-07-29T00:00:00\",\"2021-07-30T00:00:00\",\"2021-08-02T00:00:00\",\"2021-08-03T00:00:00\",\"2021-08-04T00:00:00\",\"2021-08-05T00:00:00\",\"2021-08-06T00:00:00\",\"2021-08-09T00:00:00\",\"2021-08-10T00:00:00\",\"2021-08-11T00:00:00\",\"2021-08-12T00:00:00\",\"2021-08-13T00:00:00\",\"2021-08-16T00:00:00\",\"2021-08-17T00:00:00\",\"2021-08-18T00:00:00\",\"2021-08-19T00:00:00\",\"2021-08-20T00:00:00\",\"2021-08-23T00:00:00\",\"2021-08-24T00:00:00\",\"2021-08-25T00:00:00\",\"2021-08-26T00:00:00\",\"2021-08-27T00:00:00\",\"2021-08-31T00:00:00\",\"2021-09-01T00:00:00\",\"2021-09-02T00:00:00\",\"2021-09-03T00:00:00\",\"2021-09-06T00:00:00\",\"2021-09-07T00:00:00\",\"2021-09-08T00:00:00\",\"2021-09-09T00:00:00\",\"2021-09-10T00:00:00\",\"2021-09-13T00:00:00\",\"2021-09-14T00:00:00\",\"2021-09-15T00:00:00\",\"2021-09-16T00:00:00\",\"2021-09-17T00:00:00\",\"2021-09-20T00:00:00\",\"2021-09-21T00:00:00\",\"2021-09-22T00:00:00\",\"2021-09-23T00:00:00\",\"2021-09-24T00:00:00\",\"2021-09-27T00:00:00\",\"2021-09-28T00:00:00\",\"2021-09-29T00:00:00\",\"2021-09-30T00:00:00\",\"2021-10-01T00:00:00\",\"2021-10-04T00:00:00\",\"2021-10-05T00:00:00\",\"2021-10-06T00:00:00\",\"2021-10-07T00:00:00\",\"2021-10-08T00:00:00\",\"2021-10-11T00:00:00\",\"2021-10-12T00:00:00\",\"2021-10-13T00:00:00\",\"2021-10-14T00:00:00\",\"2021-10-15T00:00:00\",\"2021-10-18T00:00:00\",\"2021-10-19T00:00:00\",\"2021-10-20T00:00:00\",\"2021-10-21T00:00:00\",\"2021-10-22T00:00:00\",\"2021-10-25T00:00:00\",\"2021-10-26T00:00:00\",\"2021-10-27T00:00:00\",\"2021-10-28T00:00:00\",\"2021-11-01T00:00:00\",\"2021-11-02T00:00:00\",\"2021-11-03T00:00:00\",\"2021-11-04T00:00:00\",\"2021-11-05T00:00:00\",\"2021-11-08T00:00:00\",\"2021-11-09T00:00:00\",\"2021-11-10T00:00:00\",\"2021-11-11T00:00:00\",\"2021-11-12T00:00:00\",\"2021-11-15T00:00:00\",\"2021-11-16T00:00:00\",\"2021-11-17T00:00:00\",\"2021-11-18T00:00:00\",\"2021-11-19T00:00:00\",\"2021-11-22T00:00:00\",\"2021-11-23T00:00:00\",\"2021-11-24T00:00:00\",\"2021-11-25T00:00:00\",\"2021-11-26T00:00:00\",\"2021-11-29T00:00:00\",\"2021-11-30T00:00:00\",\"2021-12-01T00:00:00\",\"2021-12-02T00:00:00\",\"2021-12-03T00:00:00\",\"2021-12-06T00:00:00\",\"2021-12-07T00:00:00\",\"2021-12-08T00:00:00\",\"2021-12-09T00:00:00\",\"2021-12-10T00:00:00\",\"2021-12-13T00:00:00\",\"2021-12-14T00:00:00\",\"2021-12-15T00:00:00\",\"2021-12-16T00:00:00\",\"2021-12-17T00:00:00\",\"2021-12-20T00:00:00\",\"2021-12-21T00:00:00\",\"2021-12-22T00:00:00\",\"2021-12-23T00:00:00\",\"2021-12-24T00:00:00\",\"2021-12-27T00:00:00\",\"2021-12-28T00:00:00\",\"2021-12-29T00:00:00\",\"2021-12-30T00:00:00\",\"2022-01-03T00:00:00\",\"2022-01-04T00:00:00\",\"2022-01-05T00:00:00\",\"2022-01-06T00:00:00\",\"2022-01-07T00:00:00\",\"2022-01-10T00:00:00\",\"2022-01-11T00:00:00\",\"2022-01-12T00:00:00\",\"2022-01-13T00:00:00\",\"2022-01-14T00:00:00\",\"2022-01-17T00:00:00\",\"2022-01-18T00:00:00\",\"2022-01-19T00:00:00\",\"2022-01-20T00:00:00\",\"2022-01-21T00:00:00\",\"2022-01-24T00:00:00\",\"2022-01-25T00:00:00\",\"2022-01-26T00:00:00\",\"2022-01-27T00:00:00\",\"2022-01-28T00:00:00\",\"2022-01-31T00:00:00\",\"2022-02-01T00:00:00\",\"2022-02-02T00:00:00\",\"2022-02-03T00:00:00\",\"2022-02-04T00:00:00\",\"2022-02-07T00:00:00\",\"2022-02-08T00:00:00\",\"2022-02-09T00:00:00\",\"2022-02-10T00:00:00\",\"2022-02-11T00:00:00\",\"2022-02-14T00:00:00\",\"2022-02-15T00:00:00\",\"2022-02-16T00:00:00\",\"2022-02-17T00:00:00\",\"2022-02-18T00:00:00\",\"2022-02-21T00:00:00\",\"2022-02-22T00:00:00\",\"2022-02-23T00:00:00\",\"2022-02-24T00:00:00\",\"2022-02-25T00:00:00\",\"2022-02-28T00:00:00\",\"2022-03-01T00:00:00\",\"2022-03-02T00:00:00\",\"2022-03-03T00:00:00\",\"2022-03-04T00:00:00\",\"2022-03-07T00:00:00\",\"2022-03-08T00:00:00\",\"2022-03-09T00:00:00\",\"2022-03-10T00:00:00\",\"2022-03-11T00:00:00\",\"2022-03-14T00:00:00\",\"2022-03-15T00:00:00\",\"2022-03-16T00:00:00\",\"2022-03-17T00:00:00\",\"2022-03-18T00:00:00\",\"2022-03-21T00:00:00\",\"2022-03-22T00:00:00\",\"2022-03-23T00:00:00\",\"2022-03-24T00:00:00\",\"2022-03-25T00:00:00\",\"2022-03-28T00:00:00\",\"2022-03-29T00:00:00\",\"2022-03-30T00:00:00\",\"2022-03-31T00:00:00\",\"2022-04-01T00:00:00\",\"2022-04-04T00:00:00\",\"2022-04-05T00:00:00\",\"2022-04-06T00:00:00\",\"2022-04-07T00:00:00\",\"2022-04-08T00:00:00\",\"2022-04-11T00:00:00\",\"2022-04-12T00:00:00\",\"2022-04-13T00:00:00\",\"2022-04-14T00:00:00\",\"2022-04-15T00:00:00\",\"2022-04-18T00:00:00\",\"2022-04-19T00:00:00\",\"2022-04-20T00:00:00\",\"2022-04-21T00:00:00\",\"2022-04-22T00:00:00\",\"2022-04-25T00:00:00\",\"2022-04-26T00:00:00\",\"2022-04-27T00:00:00\",\"2022-04-28T00:00:00\",\"2022-04-29T00:00:00\",\"2022-05-05T00:00:00\",\"2022-05-06T00:00:00\",\"2022-05-09T00:00:00\",\"2022-05-10T00:00:00\",\"2022-05-11T00:00:00\",\"2022-05-12T00:00:00\",\"2022-05-13T00:00:00\",\"2022-05-16T00:00:00\",\"2022-05-17T00:00:00\",\"2022-05-18T00:00:00\",\"2022-05-20T00:00:00\",\"2022-05-23T00:00:00\",\"2022-05-24T00:00:00\",\"2022-05-25T00:00:00\",\"2022-05-26T00:00:00\",\"2022-05-27T00:00:00\",\"2022-05-30T00:00:00\",\"2022-05-31T00:00:00\",\"2022-06-01T00:00:00\",\"2022-06-02T00:00:00\",\"2022-06-03T00:00:00\",\"2022-06-06T00:00:00\",\"2022-06-07T00:00:00\",\"2022-06-08T00:00:00\",\"2022-06-09T00:00:00\",\"2022-06-10T00:00:00\",\"2022-06-13T00:00:00\",\"2022-06-14T00:00:00\",\"2022-06-15T00:00:00\",\"2022-06-16T00:00:00\",\"2022-06-17T00:00:00\",\"2022-06-20T00:00:00\",\"2022-06-21T00:00:00\",\"2022-06-22T00:00:00\",\"2022-06-23T00:00:00\",\"2022-06-24T00:00:00\",\"2022-06-27T00:00:00\",\"2022-06-28T00:00:00\",\"2022-06-29T00:00:00\",\"2022-06-30T00:00:00\",\"2022-07-01T00:00:00\",\"2022-07-04T00:00:00\",\"2022-07-05T00:00:00\",\"2022-07-06T00:00:00\",\"2022-07-07T00:00:00\",\"2022-07-08T00:00:00\",\"2022-07-13T00:00:00\",\"2022-07-14T00:00:00\",\"2022-07-18T00:00:00\",\"2022-07-19T00:00:00\",\"2022-07-20T00:00:00\",\"2022-07-21T00:00:00\",\"2022-07-22T00:00:00\",\"2022-07-25T00:00:00\",\"2022-07-26T00:00:00\",\"2022-07-27T00:00:00\",\"2022-07-28T00:00:00\",\"2022-07-29T00:00:00\",\"2022-08-01T00:00:00\",\"2022-08-02T00:00:00\",\"2022-08-03T00:00:00\",\"2022-08-04T00:00:00\",\"2022-08-05T00:00:00\",\"2022-08-08T00:00:00\",\"2022-08-09T00:00:00\",\"2022-08-10T00:00:00\",\"2022-08-11T00:00:00\",\"2022-08-12T00:00:00\",\"2022-08-15T00:00:00\",\"2022-08-16T00:00:00\",\"2022-08-17T00:00:00\",\"2022-08-18T00:00:00\",\"2022-08-19T00:00:00\",\"2022-08-22T00:00:00\",\"2022-08-23T00:00:00\",\"2022-08-24T00:00:00\",\"2022-08-25T00:00:00\",\"2022-08-26T00:00:00\",\"2022-08-29T00:00:00\",\"2022-08-31T00:00:00\",\"2022-09-01T00:00:00\",\"2022-09-02T00:00:00\",\"2022-09-05T00:00:00\",\"2022-09-06T00:00:00\",\"2022-09-07T00:00:00\",\"2022-09-08T00:00:00\",\"2022-09-09T00:00:00\",\"2022-09-12T00:00:00\",\"2022-09-13T00:00:00\",\"2022-09-14T00:00:00\",\"2022-09-15T00:00:00\",\"2022-09-16T00:00:00\",\"2022-09-19T00:00:00\",\"2022-09-20T00:00:00\",\"2022-09-21T00:00:00\",\"2022-09-22T00:00:00\",\"2022-09-23T00:00:00\",\"2022-09-26T00:00:00\",\"2022-09-27T00:00:00\",\"2022-09-28T00:00:00\",\"2022-09-29T00:00:00\",\"2022-09-30T00:00:00\",\"2022-10-03T00:00:00\",\"2022-10-04T00:00:00\",\"2022-10-05T00:00:00\",\"2022-10-06T00:00:00\",\"2022-10-07T00:00:00\",\"2022-10-10T00:00:00\",\"2022-10-11T00:00:00\",\"2022-10-12T00:00:00\",\"2022-10-13T00:00:00\",\"2022-10-14T00:00:00\",\"2022-10-17T00:00:00\",\"2022-10-18T00:00:00\",\"2022-10-19T00:00:00\",\"2022-10-20T00:00:00\",\"2022-10-21T00:00:00\",\"2022-10-24T00:00:00\",\"2022-10-25T00:00:00\",\"2022-10-26T00:00:00\",\"2022-10-27T00:00:00\",\"2022-10-28T00:00:00\",\"2022-10-31T00:00:00\",\"2022-11-01T00:00:00\",\"2022-11-02T00:00:00\",\"2022-11-03T00:00:00\",\"2022-11-04T00:00:00\",\"2022-11-07T00:00:00\",\"2022-11-08T00:00:00\",\"2022-11-09T00:00:00\",\"2022-11-10T00:00:00\",\"2022-11-11T00:00:00\",\"2022-11-14T00:00:00\",\"2022-11-15T00:00:00\",\"2022-11-16T00:00:00\",\"2022-11-17T00:00:00\",\"2022-11-18T00:00:00\",\"2022-11-21T00:00:00\",\"2022-11-22T00:00:00\",\"2022-11-23T00:00:00\",\"2022-11-24T00:00:00\",\"2022-11-25T00:00:00\",\"2022-11-28T00:00:00\",\"2022-11-29T00:00:00\",\"2022-11-30T00:00:00\",\"2022-12-01T00:00:00\",\"2022-12-02T00:00:00\",\"2022-12-05T00:00:00\",\"2022-12-06T00:00:00\",\"2022-12-07T00:00:00\",\"2022-12-08T00:00:00\",\"2022-12-09T00:00:00\",\"2022-12-12T00:00:00\",\"2022-12-13T00:00:00\",\"2022-12-14T00:00:00\",\"2022-12-15T00:00:00\",\"2022-12-16T00:00:00\",\"2022-12-19T00:00:00\",\"2022-12-20T00:00:00\",\"2022-12-21T00:00:00\",\"2022-12-22T00:00:00\",\"2022-12-23T00:00:00\",\"2022-12-27T00:00:00\",\"2022-12-28T00:00:00\",\"2022-12-29T00:00:00\",\"2022-12-30T00:00:00\"],\"xaxis\":\"x\",\"y\":[1.0,0.9924375341427978,1.0029039425778423,1.0153063865836538,1.0251073866459113,1.015790413939397,1.0205094221751734,1.0270433483644728,1.0170004084765494,1.0005445123121597,1.0180288742922465,1.0225058688501514,1.0231713510751441,1.007683435770035,0.9904410136156142,0.9903200437027813,0.9529916679203079,0.9691451393026151,0.951297719879618,0.9586181720589485,0.9696896516147748,0.9854800655541718,0.984754024520557,0.9782200983312577,0.9833020901577387,0.9940709972270713,0.9960675177542548,0.9923770491863814,0.9851775669198837,0.9814870983520102,0.9715651283769198,0.9814870983520102,0.9710206160647601,0.9615221884889964,0.9426462293980964,0.9523261856953152,0.9413757499045275,0.9734406051390648,0.9769496188376888,0.9760421229348246,0.9831205614362836,0.9868110300041572,0.9776151010626816,0.989715046434205,0.997822024603567,0.991288024562062,0.9918325368742217,0.9867505450477406,0.9933450300456621,0.9851775669198837,0.9835440299834046,0.9625506543046937,0.8668401159568251,0.8595195899252889,0.8758545161768456,0.8652670639767626,0.8600641022374486,0.8662956036446654,0.8662956036446654,0.8655695626110507,0.8859580148733911,0.8909794478912499,0.8790610312411816,0.8797265134661743,0.8782140202947338,0.86665858723537,0.8557686364009989,0.8604270858281532,0.8809969929597431,0.8867444670112168,0.8832355271647984,0.8675660831382342,0.8607295844624412,0.8452416691573323,0.8546796117766795,0.8738580695018676,0.8828119847654716,0.8770645107139979,0.8866839820548003,0.8814205353590698,0.8974529629763384,0.894488461589874,0.9031399520713956,0.9132433769157354,0.9284287935865563,0.9140903878621832,0.9230443031257872,0.9266138017808278,0.920442859182233,0.9232258318472423,0.9129408782814473,0.9009619028227569,0.9116703987878785,0.9229233332129543,0.9215318099543468,0.9209268126857706,0.9244358263843947,0.9353257772187659,0.9362937580780466,0.9377457662930705,0.9434932403445442,0.9448847636031517,0.9444612212038249,0.9391977745080945,0.9330267580572941,0.9228023633001212,0.907979930220005,0.9160868345371612,0.9228023633001212,0.9149978837650474,0.9211688263636422,0.9088268673142471,0.8994494096513164,0.8972109492984668,0.8850505189705269,0.8949724889456172,0.8978764315234595,0.9003569055541807,0.9067093768742305,0.8949119301369951,0.9005989192320523,0.8875914779576645,0.882146502540479,0.8949119301369951,0.8894669547198095,0.8787585326068935,0.8750075790826035,0.8834169820340478,0.8831750422083818,0.9074354179078453,0.907979930220005,0.9097949220257335,0.9164498919800714,0.9168733605271925,0.9312117662515655,0.9342973114030686,0.9306673277916115,0.9356887608094704,0.9176598865172237,0.9436747690659992,0.9450057335159846,0.9502086952552986,0.9549881884474914,0.9453687171066892,0.9384112485180631,0.9423437307638083,0.9537177089539226,0.9587997007804037,0.9506927226110418,0.9474257225902893,0.9522657007388987,0.9609171912204203,0.9601306652303889,0.9629741228518147,0.9545647199003704,0.9580131747903724,0.9429487280323845,0.9295783031672922,0.9404077690452468,0.929396774445837,0.9302437853922848,0.927400327770859,0.9183858536986329,0.916510376936488,0.9193538345579136,0.9019904424906597,0.8982999739227862,0.9145743413657208,0.9064674370485646,0.894488461589874,0.9007804479535074,0.8946699903113291,0.9007804479535074,0.9106418591199756,0.9067699356828526,0.9012039165006285,0.9007199629970909,0.8877125217227031,0.9073143741428067,0.9072538891863902,0.9212898701286808,0.9223788209007946,0.9197773769572404,0.9189908509672091,0.9170548892486476,0.9216528537193854,0.9290337908551325,0.932603289510173,0.9482122485803206,0.9646076597882938,0.972593594192617,0.9834835450269882,0.9893520628435004,0.9895940026691664,1.0004839535035375,0.9992739589663852,1.010405923478628,1.0320648552345373,1.0389012800581245,1.057232726836865,1.064190195425491,1.0702401681112528,1.0691511434869334,1.0770766667870457,1.1251739496388515,1.1153124646201777,1.1303769113781656,1.1539113198962199,1.1479218321668747,1.156089295292653,1.1767196873806594,1.192570586276473,1.1931150985886327,1.1582067857326697,1.1807731395392376,1.175388722930674,1.208240030303037,1.2220339975674561,1.2395788445039595,1.2550062748526518,1.296993173914485,1.313751568713163,1.3357129991033603,1.3386170155334083,1.3881662327480324,1.4331779704483354,1.4435840416313745,1.5294330949605692,1.39070719173517,1.3789097449979346,1.2641417926899168,1.1987416027272733,1.2006775644458347,1.2625083296056432,1.2640812338812946,1.2298989620589462,1.262205830971355,1.234315397808229,1.0,1.022517184166864,1.0487319501436951,1.0521925089624318,1.069732210313463,1.0754207621029865,1.0799241989363593,1.0894051185855653,1.0945721735008296,1.0913013025154066,1.0958047393487793,1.0380184646465396,1.073240104290116,1.0569329687870348,1.053756768117445,0.996871250222209,1.019009290190211,1.0217586643013747,1.0475468351875445,1.0367385636406732,1.0441337272606068,1.050959943114482,1.0457928881992178,1.0210950462194832,1.0129888136258591,1.04617203239808,1.054041242000474,1.0748518143369281,1.0720075384421663,1.080777389117682,1.0552738078484238,1.0759421432433633,1.0753733112111874,1.058497227942048,1.0707276374363002,1.0752785251614718,1.0654183455795212,1.0651813225882911,0.9813226345846172,1.0340838598453426,1.0364067545997275,1.0502488741407916,1.060488313655487,1.081915168915916,1.0605830997052026,1.0639014215824247,1.0705854004947855,1.085517848942285,1.0858971088750295,1.0913013025154066,1.1107845229541953,1.1050959711646717,1.1090780268576677,1.1371888610304575,1.139606541834558,1.1550130362645177,1.1580468842587106,1.1525005694107016,1.1471912775539228,1.143778169626985,1.1377103579047168,1.1594216870481748,1.1740696616126451,1.1743066846038752,1.1854467651916925,1.2216164968001897,1.2278738806218892,1.2196728619785495,1.2339891432359564,1.2622422143502607,1.2948091501985068,1.3035790008740222,1.3063284907190684,1.3140080124881488,1.3215927482075136,1.3297937668508533,1.335719341631607,1.3374732886199336,1.3569566247926048,1.3108793784442403,1.3187484723127518,1.281915122622363,1.3013510079032353,1.2831476884703128,1.2820099086720786,1.3008296267628585,1.2924863711780044,1.2961365020961721,1.3131548223068263,1.2968950219616615,1.2616733823180848,1.271391324958521,1.2545152416893814,1.2568854716016828,1.258592083432093,1.2475942397857904,1.2537093866659754,1.2479260488267363,1.2753732649176346,1.295378097964565,1.2844275894761792,1.3346764636169708,1.3451529261228965,1.3533538290323537,1.3750178230178953,1.3698506523687486,1.3947855173397132,1.3910879355297463,1.3303625988830292,1.3454372842720432,1.324863734926819,1.310120858578751,1.3068973227512444,1.3171367622659398,1.2891680493007822,1.3162361211928182,1.3203128472016472,1.34216641328662,1.3374732886199336,1.315145792286383,1.3192699691870111,1.3055700865874615,1.283337260569744,1.2342735013851032,1.2368807542886346,1.2589238924730386,1.2359326623237141,1.2177766780487083,1.2346053104260488,1.2386821521687603,1.241336855964091,1.2156909220194358,1.1978667467853756,1.2392509842009363,1.2653235132362526,1.2798293665930909,1.2716757988415501,1.2729082489556174,1.2910642332306235,1.2804929846749822,1.2827684285375682,1.2789760606778857,1.3086039345816545,1.3434937651842853,1.3427826962105949,1.3640198636377103,1.3849253377577626,1.4013747102023584,1.4276369270709883,1.420478786442285,1.4464090785360868,1.4704431867000474,1.4633799478549419,1.4538042421560204,1.4909220657294382,1.5308840494637355,1.5592320223616378,1.5544442273791184,1.573927447817907,1.6116615543153,1.5762976777302087,1.6210002370229912,1.6255984599060795,1.640578359245378,1.6375443955173026,1.6120408142480445,1.656411448765999,1.7393694956965513,1.7553922730504858,1.767385659553508,1.7853046208372838,1.8327092190833136,1.908082530294501,1.7767243422611994,1.785778666819744,1.7314055000444417,1.7387532127725764,1.631049988704373,1.689073286397843,1.6684996213187366,1.6977956861815595,1.6855652766873075,1.674567433041005,1.687556246666864,1.653946432803982,1.6309077517628585,1.6390614352482815,1.76349850564411,1.7964447014251008,1.8122777909457217,1.851765844431441,1.8560322582735838,1.8585920602853163,1.8535197914197676,1.8218061614867267,1.8410998098260845,1.873761531724046,1.99976297700877,1.9996208558011377,2.018866937514814,2.026214650242949,2.037876227705025,2.0621000237022993,2.0625740696847594,2.058260204950818,2.0308129888599193,1.9969187011140082,2.0528561270443233,2.093292156761081,2.0945247226090307,2.1056173523050488,2.1732638065892393,2.246029864896895,2.260156342587106,2.255747807537331,2.3152405783360988,2.292533822069803,2.347286133043968,2.4019435422345343,2.415738326617682,2.3314055926315476,2.3315951647309787,2.3443469553656078,2.457549274857786,2.496705287834795,2.490542690062811,2.4959469994370704,2.522493574454847,2.5481392769317375,2.542972222016473,2.5757762965898316,2.5189382295863947,2.5214031298145296,2.5439203139813937,2.4557952121355773,2.465418252992415,2.5388953802737615,2.6464091479764162,2.677790853134629,2.576345012888125,2.6407205961868927,2.646456598868215,2.7516948069744016,2.7730740956091493,2.7783835031998105,2.788907416597535,2.7898555085624555,2.785826117711543,2.7444417645621,2.8040768880362643,2.8181084639428775],\"yaxis\":\"y\",\"type\":\"scatter\"},{\"hovertemplate\":\"variable=Normalize(EUR/TRY)<br>Date=%{x}<br>value=%{y}<extra></extra>\",\"legendgroup\":\"Normalize(EUR/TRY)\",\"line\":{\"color\":\"#EF553B\",\"dash\":\"solid\"},\"marker\":{\"symbol\":\"circle\"},\"mode\":\"lines\",\"name\":\"Normalize(EUR/TRY)\",\"orientation\":\"v\",\"showlegend\":true,\"x\":[\"2021-01-04T00:00:00\",\"2021-01-05T00:00:00\",\"2021-01-06T00:00:00\",\"2021-01-07T00:00:00\",\"2021-01-08T00:00:00\",\"2021-01-11T00:00:00\",\"2021-01-12T00:00:00\",\"2021-01-13T00:00:00\",\"2021-01-14T00:00:00\",\"2021-01-15T00:00:00\",\"2021-01-18T00:00:00\",\"2021-01-19T00:00:00\",\"2021-01-20T00:00:00\",\"2021-01-21T00:00:00\",\"2021-01-25T00:00:00\",\"2021-01-26T00:00:00\",\"2021-01-27T00:00:00\",\"2021-01-28T00:00:00\",\"2021-01-29T00:00:00\",\"2021-02-01T00:00:00\",\"2021-02-02T00:00:00\",\"2021-02-03T00:00:00\",\"2021-02-04T00:00:00\",\"2021-02-05T00:00:00\",\"2021-02-08T00:00:00\",\"2021-02-09T00:00:00\",\"2021-02-10T00:00:00\",\"2021-02-11T00:00:00\",\"2021-02-12T00:00:00\",\"2021-02-16T00:00:00\",\"2021-02-18T00:00:00\",\"2021-02-19T00:00:00\",\"2021-02-22T00:00:00\",\"2021-02-23T00:00:00\",\"2021-02-24T00:00:00\",\"2021-02-25T00:00:00\",\"2021-02-26T00:00:00\",\"2021-03-01T00:00:00\",\"2021-03-02T00:00:00\",\"2021-03-03T00:00:00\",\"2021-03-04T00:00:00\",\"2021-03-05T00:00:00\",\"2021-03-08T00:00:00\",\"2021-03-09T00:00:00\",\"2021-03-10T00:00:00\",\"2021-03-11T00:00:00\",\"2021-03-12T00:00:00\",\"2021-03-15T00:00:00\",\"2021-03-16T00:00:00\",\"2021-03-17T00:00:00\",\"2021-03-18T00:00:00\",\"2021-03-19T00:00:00\",\"2021-03-22T00:00:00\",\"2021-03-23T00:00:00\",\"2021-03-24T00:00:00\",\"2021-03-25T00:00:00\",\"2021-03-26T00:00:00\",\"2021-03-29T00:00:00\",\"2021-03-30T00:00:00\",\"2021-03-31T00:00:00\",\"2021-04-01T00:00:00\",\"2021-04-05T00:00:00\",\"2021-04-06T00:00:00\",\"2021-04-07T00:00:00\",\"2021-04-08T00:00:00\",\"2021-04-09T00:00:00\",\"2021-04-12T00:00:00\",\"2021-04-13T00:00:00\",\"2021-04-14T00:00:00\",\"2021-04-15T00:00:00\",\"2021-04-16T00:00:00\",\"2021-04-19T00:00:00\",\"2021-04-20T00:00:00\",\"2021-04-21T00:00:00\",\"2021-04-22T00:00:00\",\"2021-04-26T00:00:00\",\"2021-04-27T00:00:00\",\"2021-04-28T00:00:00\",\"2021-04-29T00:00:00\",\"2021-04-30T00:00:00\",\"2021-05-03T00:00:00\",\"2021-05-04T00:00:00\",\"2021-05-06T00:00:00\",\"2021-05-07T00:00:00\",\"2021-05-10T00:00:00\",\"2021-05-12T00:00:00\",\"2021-05-17T00:00:00\",\"2021-05-18T00:00:00\",\"2021-05-21T00:00:00\",\"2021-05-24T00:00:00\",\"2021-05-26T00:00:00\",\"2021-05-27T00:00:00\",\"2021-05-28T00:00:00\",\"2021-06-01T00:00:00\",\"2021-06-02T00:00:00\",\"2021-06-03T00:00:00\",\"2021-06-04T00:00:00\",\"2021-06-07T00:00:00\",\"2021-06-08T00:00:00\",\"2021-06-09T00:00:00\",\"2021-06-10T00:00:00\",\"2021-06-11T00:00:00\",\"2021-06-14T00:00:00\",\"2021-06-15T00:00:00\",\"2021-06-16T00:00:00\",\"2021-06-17T00:00:00\",\"2021-06-18T00:00:00\",\"2021-06-21T00:00:00\",\"2021-06-22T00:00:00\",\"2021-06-23T00:00:00\",\"2021-06-24T00:00:00\",\"2021-06-25T00:00:00\",\"2021-06-28T00:00:00\",\"2021-06-29T00:00:00\",\"2021-06-30T00:00:00\",\"2021-07-01T00:00:00\",\"2021-07-02T00:00:00\",\"2021-07-06T00:00:00\",\"2021-07-07T00:00:00\",\"2021-07-08T00:00:00\",\"2021-07-09T00:00:00\",\"2021-07-12T00:00:00\",\"2021-07-13T00:00:00\",\"2021-07-14T00:00:00\",\"2021-07-16T00:00:00\",\"2021-07-19T00:00:00\",\"2021-07-26T00:00:00\",\"2021-07-27T00:00:00\",\"2021-07-28T00:00:00\",\"2021-07-29T00:00:00\",\"2021-07-30T00:00:00\",\"2021-08-02T00:00:00\",\"2021-08-03T00:00:00\",\"2021-08-04T00:00:00\",\"2021-08-05T00:00:00\",\"2021-08-06T00:00:00\",\"2021-08-09T00:00:00\",\"2021-08-10T00:00:00\",\"2021-08-11T00:00:00\",\"2021-08-12T00:00:00\",\"2021-08-13T00:00:00\",\"2021-08-16T00:00:00\",\"2021-08-17T00:00:00\",\"2021-08-18T00:00:00\",\"2021-08-19T00:00:00\",\"2021-08-20T00:00:00\",\"2021-08-23T00:00:00\",\"2021-08-24T00:00:00\",\"2021-08-25T00:00:00\",\"2021-08-26T00:00:00\",\"2021-08-27T00:00:00\",\"2021-08-31T00:00:00\",\"2021-09-01T00:00:00\",\"2021-09-02T00:00:00\",\"2021-09-03T00:00:00\",\"2021-09-06T00:00:00\",\"2021-09-07T00:00:00\",\"2021-09-08T00:00:00\",\"2021-09-09T00:00:00\",\"2021-09-10T00:00:00\",\"2021-09-13T00:00:00\",\"2021-09-14T00:00:00\",\"2021-09-15T00:00:00\",\"2021-09-16T00:00:00\",\"2021-09-17T00:00:00\",\"2021-09-20T00:00:00\",\"2021-09-21T00:00:00\",\"2021-09-22T00:00:00\",\"2021-09-23T00:00:00\",\"2021-09-24T00:00:00\",\"2021-09-27T00:00:00\",\"2021-09-28T00:00:00\",\"2021-09-29T00:00:00\",\"2021-09-30T00:00:00\",\"2021-10-01T00:00:00\",\"2021-10-04T00:00:00\",\"2021-10-05T00:00:00\",\"2021-10-06T00:00:00\",\"2021-10-07T00:00:00\",\"2021-10-08T00:00:00\",\"2021-10-11T00:00:00\",\"2021-10-12T00:00:00\",\"2021-10-13T00:00:00\",\"2021-10-14T00:00:00\",\"2021-10-15T00:00:00\",\"2021-10-18T00:00:00\",\"2021-10-19T00:00:00\",\"2021-10-20T00:00:00\",\"2021-10-21T00:00:00\",\"2021-10-22T00:00:00\",\"2021-10-25T00:00:00\",\"2021-10-26T00:00:00\",\"2021-10-27T00:00:00\",\"2021-10-28T00:00:00\",\"2021-11-01T00:00:00\",\"2021-11-02T00:00:00\",\"2021-11-03T00:00:00\",\"2021-11-04T00:00:00\",\"2021-11-05T00:00:00\",\"2021-11-08T00:00:00\",\"2021-11-09T00:00:00\",\"2021-11-10T00:00:00\",\"2021-11-11T00:00:00\",\"2021-11-12T00:00:00\",\"2021-11-15T00:00:00\",\"2021-11-16T00:00:00\",\"2021-11-17T00:00:00\",\"2021-11-18T00:00:00\",\"2021-11-19T00:00:00\",\"2021-11-22T00:00:00\",\"2021-11-23T00:00:00\",\"2021-11-24T00:00:00\",\"2021-11-25T00:00:00\",\"2021-11-26T00:00:00\",\"2021-11-29T00:00:00\",\"2021-11-30T00:00:00\",\"2021-12-01T00:00:00\",\"2021-12-02T00:00:00\",\"2021-12-03T00:00:00\",\"2021-12-06T00:00:00\",\"2021-12-07T00:00:00\",\"2021-12-08T00:00:00\",\"2021-12-09T00:00:00\",\"2021-12-10T00:00:00\",\"2021-12-13T00:00:00\",\"2021-12-14T00:00:00\",\"2021-12-15T00:00:00\",\"2021-12-16T00:00:00\",\"2021-12-17T00:00:00\",\"2021-12-20T00:00:00\",\"2021-12-21T00:00:00\",\"2021-12-22T00:00:00\",\"2021-12-23T00:00:00\",\"2021-12-24T00:00:00\",\"2021-12-27T00:00:00\",\"2021-12-28T00:00:00\",\"2021-12-29T00:00:00\",\"2021-12-30T00:00:00\",\"2022-01-03T00:00:00\",\"2022-01-04T00:00:00\",\"2022-01-05T00:00:00\",\"2022-01-06T00:00:00\",\"2022-01-07T00:00:00\",\"2022-01-10T00:00:00\",\"2022-01-11T00:00:00\",\"2022-01-12T00:00:00\",\"2022-01-13T00:00:00\",\"2022-01-14T00:00:00\",\"2022-01-17T00:00:00\",\"2022-01-18T00:00:00\",\"2022-01-19T00:00:00\",\"2022-01-20T00:00:00\",\"2022-01-21T00:00:00\",\"2022-01-24T00:00:00\",\"2022-01-25T00:00:00\",\"2022-01-26T00:00:00\",\"2022-01-27T00:00:00\",\"2022-01-28T00:00:00\",\"2022-01-31T00:00:00\",\"2022-02-01T00:00:00\",\"2022-02-02T00:00:00\",\"2022-02-03T00:00:00\",\"2022-02-04T00:00:00\",\"2022-02-07T00:00:00\",\"2022-02-08T00:00:00\",\"2022-02-09T00:00:00\",\"2022-02-10T00:00:00\",\"2022-02-11T00:00:00\",\"2022-02-14T00:00:00\",\"2022-02-15T00:00:00\",\"2022-02-16T00:00:00\",\"2022-02-17T00:00:00\",\"2022-02-18T00:00:00\",\"2022-02-21T00:00:00\",\"2022-02-22T00:00:00\",\"2022-02-23T00:00:00\",\"2022-02-24T00:00:00\",\"2022-02-25T00:00:00\",\"2022-02-28T00:00:00\",\"2022-03-01T00:00:00\",\"2022-03-02T00:00:00\",\"2022-03-03T00:00:00\",\"2022-03-04T00:00:00\",\"2022-03-07T00:00:00\",\"2022-03-08T00:00:00\",\"2022-03-09T00:00:00\",\"2022-03-10T00:00:00\",\"2022-03-11T00:00:00\",\"2022-03-14T00:00:00\",\"2022-03-15T00:00:00\",\"2022-03-16T00:00:00\",\"2022-03-17T00:00:00\",\"2022-03-18T00:00:00\",\"2022-03-21T00:00:00\",\"2022-03-22T00:00:00\",\"2022-03-23T00:00:00\",\"2022-03-24T00:00:00\",\"2022-03-25T00:00:00\",\"2022-03-28T00:00:00\",\"2022-03-29T00:00:00\",\"2022-03-30T00:00:00\",\"2022-03-31T00:00:00\",\"2022-04-01T00:00:00\",\"2022-04-04T00:00:00\",\"2022-04-05T00:00:00\",\"2022-04-06T00:00:00\",\"2022-04-07T00:00:00\",\"2022-04-08T00:00:00\",\"2022-04-11T00:00:00\",\"2022-04-12T00:00:00\",\"2022-04-13T00:00:00\",\"2022-04-14T00:00:00\",\"2022-04-15T00:00:00\",\"2022-04-18T00:00:00\",\"2022-04-19T00:00:00\",\"2022-04-20T00:00:00\",\"2022-04-21T00:00:00\",\"2022-04-22T00:00:00\",\"2022-04-25T00:00:00\",\"2022-04-26T00:00:00\",\"2022-04-27T00:00:00\",\"2022-04-28T00:00:00\",\"2022-04-29T00:00:00\",\"2022-05-05T00:00:00\",\"2022-05-06T00:00:00\",\"2022-05-09T00:00:00\",\"2022-05-10T00:00:00\",\"2022-05-11T00:00:00\",\"2022-05-12T00:00:00\",\"2022-05-13T00:00:00\",\"2022-05-16T00:00:00\",\"2022-05-17T00:00:00\",\"2022-05-18T00:00:00\",\"2022-05-20T00:00:00\",\"2022-05-23T00:00:00\",\"2022-05-24T00:00:00\",\"2022-05-25T00:00:00\",\"2022-05-26T00:00:00\",\"2022-05-27T00:00:00\",\"2022-05-30T00:00:00\",\"2022-05-31T00:00:00\",\"2022-06-01T00:00:00\",\"2022-06-02T00:00:00\",\"2022-06-03T00:00:00\",\"2022-06-06T00:00:00\",\"2022-06-07T00:00:00\",\"2022-06-08T00:00:00\",\"2022-06-09T00:00:00\",\"2022-06-10T00:00:00\",\"2022-06-13T00:00:00\",\"2022-06-14T00:00:00\",\"2022-06-15T00:00:00\",\"2022-06-16T00:00:00\",\"2022-06-17T00:00:00\",\"2022-06-20T00:00:00\",\"2022-06-21T00:00:00\",\"2022-06-22T00:00:00\",\"2022-06-23T00:00:00\",\"2022-06-24T00:00:00\",\"2022-06-27T00:00:00\",\"2022-06-28T00:00:00\",\"2022-06-29T00:00:00\",\"2022-06-30T00:00:00\",\"2022-07-01T00:00:00\",\"2022-07-04T00:00:00\",\"2022-07-05T00:00:00\",\"2022-07-06T00:00:00\",\"2022-07-07T00:00:00\",\"2022-07-08T00:00:00\",\"2022-07-13T00:00:00\",\"2022-07-14T00:00:00\",\"2022-07-18T00:00:00\",\"2022-07-19T00:00:00\",\"2022-07-20T00:00:00\",\"2022-07-21T00:00:00\",\"2022-07-22T00:00:00\",\"2022-07-25T00:00:00\",\"2022-07-26T00:00:00\",\"2022-07-27T00:00:00\",\"2022-07-28T00:00:00\",\"2022-07-29T00:00:00\",\"2022-08-01T00:00:00\",\"2022-08-02T00:00:00\",\"2022-08-03T00:00:00\",\"2022-08-04T00:00:00\",\"2022-08-05T00:00:00\",\"2022-08-08T00:00:00\",\"2022-08-09T00:00:00\",\"2022-08-10T00:00:00\",\"2022-08-11T00:00:00\",\"2022-08-12T00:00:00\",\"2022-08-15T00:00:00\",\"2022-08-16T00:00:00\",\"2022-08-17T00:00:00\",\"2022-08-18T00:00:00\",\"2022-08-19T00:00:00\",\"2022-08-22T00:00:00\",\"2022-08-23T00:00:00\",\"2022-08-24T00:00:00\",\"2022-08-25T00:00:00\",\"2022-08-26T00:00:00\",\"2022-08-29T00:00:00\",\"2022-08-31T00:00:00\",\"2022-09-01T00:00:00\",\"2022-09-02T00:00:00\",\"2022-09-05T00:00:00\",\"2022-09-06T00:00:00\",\"2022-09-07T00:00:00\",\"2022-09-08T00:00:00\",\"2022-09-09T00:00:00\",\"2022-09-12T00:00:00\",\"2022-09-13T00:00:00\",\"2022-09-14T00:00:00\",\"2022-09-15T00:00:00\",\"2022-09-16T00:00:00\",\"2022-09-19T00:00:00\",\"2022-09-20T00:00:00\",\"2022-09-21T00:00:00\",\"2022-09-22T00:00:00\",\"2022-09-23T00:00:00\",\"2022-09-26T00:00:00\",\"2022-09-27T00:00:00\",\"2022-09-28T00:00:00\",\"2022-09-29T00:00:00\",\"2022-09-30T00:00:00\",\"2022-10-03T00:00:00\",\"2022-10-04T00:00:00\",\"2022-10-05T00:00:00\",\"2022-10-06T00:00:00\",\"2022-10-07T00:00:00\",\"2022-10-10T00:00:00\",\"2022-10-11T00:00:00\",\"2022-10-12T00:00:00\",\"2022-10-13T00:00:00\",\"2022-10-14T00:00:00\",\"2022-10-17T00:00:00\",\"2022-10-18T00:00:00\",\"2022-10-19T00:00:00\",\"2022-10-20T00:00:00\",\"2022-10-21T00:00:00\",\"2022-10-24T00:00:00\",\"2022-10-25T00:00:00\",\"2022-10-26T00:00:00\",\"2022-10-27T00:00:00\",\"2022-10-28T00:00:00\",\"2022-10-31T00:00:00\",\"2022-11-01T00:00:00\",\"2022-11-02T00:00:00\",\"2022-11-03T00:00:00\",\"2022-11-04T00:00:00\",\"2022-11-07T00:00:00\",\"2022-11-08T00:00:00\",\"2022-11-09T00:00:00\",\"2022-11-10T00:00:00\",\"2022-11-11T00:00:00\",\"2022-11-14T00:00:00\",\"2022-11-15T00:00:00\",\"2022-11-16T00:00:00\",\"2022-11-17T00:00:00\",\"2022-11-18T00:00:00\",\"2022-11-21T00:00:00\",\"2022-11-22T00:00:00\",\"2022-11-23T00:00:00\",\"2022-11-24T00:00:00\",\"2022-11-25T00:00:00\",\"2022-11-28T00:00:00\",\"2022-11-29T00:00:00\",\"2022-11-30T00:00:00\",\"2022-12-01T00:00:00\",\"2022-12-02T00:00:00\",\"2022-12-05T00:00:00\",\"2022-12-06T00:00:00\",\"2022-12-07T00:00:00\",\"2022-12-08T00:00:00\",\"2022-12-09T00:00:00\",\"2022-12-12T00:00:00\",\"2022-12-13T00:00:00\",\"2022-12-14T00:00:00\",\"2022-12-15T00:00:00\",\"2022-12-16T00:00:00\",\"2022-12-19T00:00:00\",\"2022-12-20T00:00:00\",\"2022-12-21T00:00:00\",\"2022-12-22T00:00:00\",\"2022-12-23T00:00:00\",\"2022-12-27T00:00:00\",\"2022-12-28T00:00:00\",\"2022-12-29T00:00:00\",\"2022-12-30T00:00:00\"],\"xaxis\":\"x\",\"y\":[1.002309469307048,1.0004536007670797,0.999677514104034,0.9913525071073918,0.9905115453519936,0.9866137910169622,1.0007485829831164,1.000737560515969,0.9907427022344536,0.9850231965196717,0.9892512049656109,0.9937499461998628,0.9974825734794401,0.9886358363711603,0.9935364252648384,0.9900184736549388,0.9835361082376881,0.9857507843272695,0.9799520218249048,0.9714124441344624,0.9552357663732451,0.9531168282840287,0.9479036212268783,0.9397350282878497,0.9356501019630699,0.9389633506116629,0.9421335171390967,0.940481301801659,0.9384944233664546,0.9292514023202608,0.9232292511503781,0.9270201400420197,0.9314463429448547,0.9395731554846012,0.951143176809401,0.9599437245315399,0.9801831787073648,0.9864101378144317,0.9640297006150956,0.977297076904698,0.9887481605601849,0.9891246040572337,0.98549212376488,1.0117395573671126,0.9956619768343432,0.9830836622052619,0.9844497133003807,0.9938237442418106,0.9885258216514428,0.980173310974871,0.9875703312135904,0.9601627042121991,1.059963480991703,1.0262991867098858,1.0337304290847007,1.029390096449737,1.0267460690207997,1.052271478536947,1.0689698864098018,1.0730458897849864,1.066246602193282,1.0598743564716264,1.0552203559144144,1.0629321988100355,1.0641595767708538,1.0680441041453084,1.0685505077788175,1.0681630418146215,1.0665283574487419,1.0649070050193166,1.0578390841568517,1.0642795641989427,1.071334258100831,1.0732748421740168,1.0852543743973073,1.1188317486524773,1.1007595214695616,1.0919667419623644,1.0931456210677348,1.0923409809659839,1.095437454427347,1.095100586836151,1.099254797240142,1.0991909719065656,1.1025053752898122,1.1087851372633082,1.1294429203113416,1.110889798633172,1.1262827264922792,1.1293273418701117,1.1397295065566884,1.134379830858667,1.139009581988155,1.1422898682111837,1.1592303504577683,1.1531576009148858,1.161821575020276,1.1617984803272057,1.15362757791887,1.152336374624475,1.1502636259213994,1.1285160882880723,1.1168701694037728,1.128257427725683,1.1406507748584453,1.1370612297000273,1.1425881046794257,1.143614033931143,1.150454157139231,1.1350612292801237,1.1330193434850606,1.1420113672079293,1.1497463047966208,1.1407201639135343,1.1430240694990699,1.134858625836369,1.1302101890006695,1.1308552657684792,1.1301771215992278,1.1265413870546688,1.1316433196815703,1.1308629290075434,1.1284753576475661,1.1170264784855088,1.1130021232421001,1.1092827229230995,1.1076546520375083,1.111492990025822,1.113216798911778,1.114975774716728,1.1063172593569723,1.1017744282541315,1.0909386082172177,1.097166722058938,1.1038284912509955,1.1102039912248565,1.114554191592314,1.1173324831686926,1.1093597752172528,1.1147930117138383,1.1058956762325585,1.1045626925388814,1.0963367827706871,1.0860887226724172,1.0889540392513204,1.0953790878394054,1.0922827193539197,1.0893040288272158,1.0880183892543331,1.0849901501134054,1.083695692566805,1.0863463334760306,1.0795381229347307,1.0796702875646205,1.0819477392290027,1.0874118386336005,1.08171101862503,1.0880591198948393,1.1032219406302626,1.099089775160566,1.0997622506324272,1.095330693959835,1.0952436689573104,1.0963642864506165,1.1045075802031452,1.1153775174002767,1.1183738438744162,1.1125067420757384,1.1135569207551796,1.131539918442141,1.1436987494643607,1.1351194908921878,1.1404163637237799,1.1385946123440294,1.1317193222169477,1.1304743083086937,1.1317644618443128,1.1311105671027855,1.1278017274410512,1.1286966467975323,1.140115817786231,1.1438760537216153,1.1471815341552665,1.1674232978003984,1.1722016947725582,1.1790340497657044,1.1939943720332504,1.1913162274440956,1.181927919783313,1.2197530379494097,1.2420608318414512,1.224587492040204,1.2171960355229972,1.2111825973509547,1.2189000039680882,1.218030383798107,1.2235528497906467,1.2321728390033255,1.232612058075175,1.2339626777162875,1.2350942127008635,1.2411208778334826,1.243640508847472,1.2498861536607504,1.26309957234927,1.2577862183048958,1.2877189350659113,1.3368267555798352,1.3810527778821704,1.3789657524597423,1.406178544232321,1.581875095921708,1.4642552937760431,1.4739254616681632,1.5332625515982683,1.5792487044402066,1.6838575863652292,1.6751021782704552,1.7037183925505759,1.7012186019774516,1.7118672500246168,1.678272344797889,1.7053838348485901,1.7123395364979082,1.7246128962025815,1.7143539186130419,1.7796659205681127,1.8374950320165928,1.951888505540312,2.05346463436167,1.6876771336714536,1.5245225749575004,1.4946713194774972,1.4086893572725923,1.3462811980435017,1.4367607467480048,1.4697811189966659,1.5752364214227212,1.0,0.9719194189978676,0.9922307985803313,1.0168787365301895,1.0160972519203884,1.0264339821930504,1.02852095483142,1.029459087959053,0.990392705591134,1.0181532715650543,1.009031870093864,1.0088462149166182,1.0072372243088112,0.9991928363345703,0.9903834761995023,1.002814399382899,1.0030612699128048,1.0043694576953883,1.0028842162774196,0.9943974453546243,0.989812007338057,0.9817288182479764,0.9907462477971106,0.9994054890519638,1.0206629126691733,1.0221415616645477,1.0221066532172873,1.0207754861330902,1.0175350906806564,1.0136672849521926,1.0103906625679797,1.0118305104475143,1.0168234229653759,1.0173533909569668,1.0120662052514988,1.013783813869666,1.0166265292772312,1.0264089309871927,1.0273352605391333,1.0306869109709653,1.0328581410485858,1.0179136213075135,1.0146909940035953,1.0229539364830758,1.0270811069518855,1.0192915631996404,1.027963298664934,1.038888575312809,1.0662884415933647,1.0779820180058524,1.0615087468576905,1.0654930815036274,1.0615779359024402,1.05630588137645,1.0744195984059397,1.0770004376740754,1.074984537629768,1.0761484455350054,1.0743038229081914,1.0737672624940064,1.0718567156412508,1.072823102008573,1.0637972592725091,1.0766606453780807,1.069137121573753,1.0674576234366777,1.0607266971830955,1.0565468501185098,1.05496680338514,1.0537284324970773,1.0562360644819295,1.0500759164550446,1.0387075662238672,1.04649780061086,1.0414956587013668,1.0412237369656032,1.0393771052195224,1.040697724427569,1.04772826059181,1.0488171404494286,1.0488474655933617,1.0419315120123043,1.036959632461767,1.0287862213596124,1.022489829932449,1.0294130037858713,1.031389349294614,1.0358483383673283,1.0497493717892155,1.0624021770816374,1.0578562936006348,1.0528962804107669,1.0599597159030014,1.0710548259138966,1.1030795591766303,1.1074930919259336,1.1068334729566582,1.1200419252962996,1.1326288063627803,1.1479920391160452,1.1553721620327064,1.1517611468605282,1.1617752251359406,1.1573017955184963,1.1491638579283958,1.1660636902108865,1.1613295773685774,1.168359987962864,1.1858648162845646,1.2119256045738103,1.2061070696072556,1.1878003515582007,1.1833624582377877,1.185446166057349,1.185243998431129,1.2008659052899922,1.1972417052726259,1.1991061679521995,1.2026152203215885,1.205991168539553,1.2002550074629363,1.1477707848567908,1.1504483129896403,1.1479071538270238,1.1350554457271904,1.151569527110459,1.149373308611958,1.1524595669456434,1.1446634307708043,1.1525202172335094,1.1542976599348405,1.1371787080823164,1.1474989259060044,1.1430399368332902,1.164571165735576,1.1811273130534927,1.1798192508408636,1.1926411988615577,1.1916122786570569,1.1992997968215358,1.1917676086903701,1.199006842118448,1.203853591209651,1.2027719316243974,1.2069385938437949,1.1993234039729204,1.1986051438350458,1.2100611418942366,1.1981193136823471,1.203401288234717,1.2020944817216295,1.2104482740629545,1.2192121778746117,1.2104133656156943,1.2009324573657043,1.1987914896470397,1.201903489821331,1.199199717568059,1.1940777191373069,1.1832794564980786,1.187449509106239,1.1904870462977049,1.1917946062305174,1.1886391588520822,1.1978348977361433,1.2016316308705444,1.1922896029898709,1.188140771703966,1.1931034218628718,1.187745728628135,1.1989528470381532,1.2021371755060486,1.2070090385880865,1.214830791033577,1.1983570176055982,1.1981424185539151,1.2011450472981207,1.2043762133589229,1.2077910882626812,1.2018785014004503,1.1867253471805181,1.1872980717415051,1.1748072516899675,1.1674172087469268,1.1619161146245236,1.1832696620416532,1.194626083127184,1.1892368718339499,1.1967625303274985,1.2185932435704887,1.2101730247234055,1.1968638652805166,1.1849425049711575,1.18720916821395,1.1864533626597775,1.183099765893656,1.191812311594056,1.1914462751776391,1.202016126070225,1.2060715333102243,1.1956452088752592,1.1962410383078144,1.2042972298577475,1.2065244641349295,1.2205413358395423,1.2350105105190892,1.220847475387818,1.2166617265353863,1.2116095449991546,1.2072098249448104,1.2026836559466132,1.1944082192566925,1.2157281139261034,1.216455038390816,1.2305712359291803,1.2263038666065353,1.2401548604016845,1.258172516416231,1.2611482731902435,1.2683144249049922,1.2730617225924896,1.2677594057075436,1.2655875477801524,1.2528234875083324,1.2627644840704153,1.2754383851151385,1.2754996632527753,1.2694876249868388,1.26538801712297,1.266028549459211,1.2777537695001506,1.2908529759796608,1.2929892976100208,1.2869898163395015,1.283447864642119,1.2891643112359303,1.2953869303150167,1.2908286154085509,1.2920807989915728,1.299743328735171,1.3081062876831508,1.3042884587964485,1.297076348478472,1.30181975349739,1.3035163291482332,1.3025189270022302,1.30298102443359,1.3045347014765833,1.3038842491139626,1.3079745648012224,1.3125863725081663],\"yaxis\":\"y\",\"type\":\"scatter\"}],                        {\"template\":{\"data\":{\"histogram2dcontour\":[{\"type\":\"histogram2dcontour\",\"colorbar\":{\"outlinewidth\":0,\"ticks\":\"\"},\"colorscale\":[[0.0,\"#0d0887\"],[0.1111111111111111,\"#46039f\"],[0.2222222222222222,\"#7201a8\"],[0.3333333333333333,\"#9c179e\"],[0.4444444444444444,\"#bd3786\"],[0.5555555555555556,\"#d8576b\"],[0.6666666666666666,\"#ed7953\"],[0.7777777777777778,\"#fb9f3a\"],[0.8888888888888888,\"#fdca26\"],[1.0,\"#f0f921\"]]}],\"choropleth\":[{\"type\":\"choropleth\",\"colorbar\":{\"outlinewidth\":0,\"ticks\":\"\"}}],\"histogram2d\":[{\"type\":\"histogram2d\",\"colorbar\":{\"outlinewidth\":0,\"ticks\":\"\"},\"colorscale\":[[0.0,\"#0d0887\"],[0.1111111111111111,\"#46039f\"],[0.2222222222222222,\"#7201a8\"],[0.3333333333333333,\"#9c179e\"],[0.4444444444444444,\"#bd3786\"],[0.5555555555555556,\"#d8576b\"],[0.6666666666666666,\"#ed7953\"],[0.7777777777777778,\"#fb9f3a\"],[0.8888888888888888,\"#fdca26\"],[1.0,\"#f0f921\"]]}],\"heatmap\":[{\"type\":\"heatmap\",\"colorbar\":{\"outlinewidth\":0,\"ticks\":\"\"},\"colorscale\":[[0.0,\"#0d0887\"],[0.1111111111111111,\"#46039f\"],[0.2222222222222222,\"#7201a8\"],[0.3333333333333333,\"#9c179e\"],[0.4444444444444444,\"#bd3786\"],[0.5555555555555556,\"#d8576b\"],[0.6666666666666666,\"#ed7953\"],[0.7777777777777778,\"#fb9f3a\"],[0.8888888888888888,\"#fdca26\"],[1.0,\"#f0f921\"]]}],\"heatmapgl\":[{\"type\":\"heatmapgl\",\"colorbar\":{\"outlinewidth\":0,\"ticks\":\"\"},\"colorscale\":[[0.0,\"#0d0887\"],[0.1111111111111111,\"#46039f\"],[0.2222222222222222,\"#7201a8\"],[0.3333333333333333,\"#9c179e\"],[0.4444444444444444,\"#bd3786\"],[0.5555555555555556,\"#d8576b\"],[0.6666666666666666,\"#ed7953\"],[0.7777777777777778,\"#fb9f3a\"],[0.8888888888888888,\"#fdca26\"],[1.0,\"#f0f921\"]]}],\"contourcarpet\":[{\"type\":\"contourcarpet\",\"colorbar\":{\"outlinewidth\":0,\"ticks\":\"\"}}],\"contour\":[{\"type\":\"contour\",\"colorbar\":{\"outlinewidth\":0,\"ticks\":\"\"},\"colorscale\":[[0.0,\"#0d0887\"],[0.1111111111111111,\"#46039f\"],[0.2222222222222222,\"#7201a8\"],[0.3333333333333333,\"#9c179e\"],[0.4444444444444444,\"#bd3786\"],[0.5555555555555556,\"#d8576b\"],[0.6666666666666666,\"#ed7953\"],[0.7777777777777778,\"#fb9f3a\"],[0.8888888888888888,\"#fdca26\"],[1.0,\"#f0f921\"]]}],\"surface\":[{\"type\":\"surface\",\"colorbar\":{\"outlinewidth\":0,\"ticks\":\"\"},\"colorscale\":[[0.0,\"#0d0887\"],[0.1111111111111111,\"#46039f\"],[0.2222222222222222,\"#7201a8\"],[0.3333333333333333,\"#9c179e\"],[0.4444444444444444,\"#bd3786\"],[0.5555555555555556,\"#d8576b\"],[0.6666666666666666,\"#ed7953\"],[0.7777777777777778,\"#fb9f3a\"],[0.8888888888888888,\"#fdca26\"],[1.0,\"#f0f921\"]]}],\"mesh3d\":[{\"type\":\"mesh3d\",\"colorbar\":{\"outlinewidth\":0,\"ticks\":\"\"}}],\"scatter\":[{\"fillpattern\":{\"fillmode\":\"overlay\",\"size\":10,\"solidity\":0.2},\"type\":\"scatter\"}],\"parcoords\":[{\"type\":\"parcoords\",\"line\":{\"colorbar\":{\"outlinewidth\":0,\"ticks\":\"\"}}}],\"scatterpolargl\":[{\"type\":\"scatterpolargl\",\"marker\":{\"colorbar\":{\"outlinewidth\":0,\"ticks\":\"\"}}}],\"bar\":[{\"error_x\":{\"color\":\"#2a3f5f\"},\"error_y\":{\"color\":\"#2a3f5f\"},\"marker\":{\"line\":{\"color\":\"#E5ECF6\",\"width\":0.5},\"pattern\":{\"fillmode\":\"overlay\",\"size\":10,\"solidity\":0.2}},\"type\":\"bar\"}],\"scattergeo\":[{\"type\":\"scattergeo\",\"marker\":{\"colorbar\":{\"outlinewidth\":0,\"ticks\":\"\"}}}],\"scatterpolar\":[{\"type\":\"scatterpolar\",\"marker\":{\"colorbar\":{\"outlinewidth\":0,\"ticks\":\"\"}}}],\"histogram\":[{\"marker\":{\"pattern\":{\"fillmode\":\"overlay\",\"size\":10,\"solidity\":0.2}},\"type\":\"histogram\"}],\"scattergl\":[{\"type\":\"scattergl\",\"marker\":{\"colorbar\":{\"outlinewidth\":0,\"ticks\":\"\"}}}],\"scatter3d\":[{\"type\":\"scatter3d\",\"line\":{\"colorbar\":{\"outlinewidth\":0,\"ticks\":\"\"}},\"marker\":{\"colorbar\":{\"outlinewidth\":0,\"ticks\":\"\"}}}],\"scattermapbox\":[{\"type\":\"scattermapbox\",\"marker\":{\"colorbar\":{\"outlinewidth\":0,\"ticks\":\"\"}}}],\"scatterternary\":[{\"type\":\"scatterternary\",\"marker\":{\"colorbar\":{\"outlinewidth\":0,\"ticks\":\"\"}}}],\"scattercarpet\":[{\"type\":\"scattercarpet\",\"marker\":{\"colorbar\":{\"outlinewidth\":0,\"ticks\":\"\"}}}],\"carpet\":[{\"aaxis\":{\"endlinecolor\":\"#2a3f5f\",\"gridcolor\":\"white\",\"linecolor\":\"white\",\"minorgridcolor\":\"white\",\"startlinecolor\":\"#2a3f5f\"},\"baxis\":{\"endlinecolor\":\"#2a3f5f\",\"gridcolor\":\"white\",\"linecolor\":\"white\",\"minorgridcolor\":\"white\",\"startlinecolor\":\"#2a3f5f\"},\"type\":\"carpet\"}],\"table\":[{\"cells\":{\"fill\":{\"color\":\"#EBF0F8\"},\"line\":{\"color\":\"white\"}},\"header\":{\"fill\":{\"color\":\"#C8D4E3\"},\"line\":{\"color\":\"white\"}},\"type\":\"table\"}],\"barpolar\":[{\"marker\":{\"line\":{\"color\":\"#E5ECF6\",\"width\":0.5},\"pattern\":{\"fillmode\":\"overlay\",\"size\":10,\"solidity\":0.2}},\"type\":\"barpolar\"}],\"pie\":[{\"automargin\":true,\"type\":\"pie\"}]},\"layout\":{\"autotypenumbers\":\"strict\",\"colorway\":[\"#636efa\",\"#EF553B\",\"#00cc96\",\"#ab63fa\",\"#FFA15A\",\"#19d3f3\",\"#FF6692\",\"#B6E880\",\"#FF97FF\",\"#FECB52\"],\"font\":{\"color\":\"#2a3f5f\"},\"hovermode\":\"closest\",\"hoverlabel\":{\"align\":\"left\"},\"paper_bgcolor\":\"white\",\"plot_bgcolor\":\"#E5ECF6\",\"polar\":{\"bgcolor\":\"#E5ECF6\",\"angularaxis\":{\"gridcolor\":\"white\",\"linecolor\":\"white\",\"ticks\":\"\"},\"radialaxis\":{\"gridcolor\":\"white\",\"linecolor\":\"white\",\"ticks\":\"\"}},\"ternary\":{\"bgcolor\":\"#E5ECF6\",\"aaxis\":{\"gridcolor\":\"white\",\"linecolor\":\"white\",\"ticks\":\"\"},\"baxis\":{\"gridcolor\":\"white\",\"linecolor\":\"white\",\"ticks\":\"\"},\"caxis\":{\"gridcolor\":\"white\",\"linecolor\":\"white\",\"ticks\":\"\"}},\"coloraxis\":{\"colorbar\":{\"outlinewidth\":0,\"ticks\":\"\"}},\"colorscale\":{\"sequential\":[[0.0,\"#0d0887\"],[0.1111111111111111,\"#46039f\"],[0.2222222222222222,\"#7201a8\"],[0.3333333333333333,\"#9c179e\"],[0.4444444444444444,\"#bd3786\"],[0.5555555555555556,\"#d8576b\"],[0.6666666666666666,\"#ed7953\"],[0.7777777777777778,\"#fb9f3a\"],[0.8888888888888888,\"#fdca26\"],[1.0,\"#f0f921\"]],\"sequentialminus\":[[0.0,\"#0d0887\"],[0.1111111111111111,\"#46039f\"],[0.2222222222222222,\"#7201a8\"],[0.3333333333333333,\"#9c179e\"],[0.4444444444444444,\"#bd3786\"],[0.5555555555555556,\"#d8576b\"],[0.6666666666666666,\"#ed7953\"],[0.7777777777777778,\"#fb9f3a\"],[0.8888888888888888,\"#fdca26\"],[1.0,\"#f0f921\"]],\"diverging\":[[0,\"#8e0152\"],[0.1,\"#c51b7d\"],[0.2,\"#de77ae\"],[0.3,\"#f1b6da\"],[0.4,\"#fde0ef\"],[0.5,\"#f7f7f7\"],[0.6,\"#e6f5d0\"],[0.7,\"#b8e186\"],[0.8,\"#7fbc41\"],[0.9,\"#4d9221\"],[1,\"#276419\"]]},\"xaxis\":{\"gridcolor\":\"white\",\"linecolor\":\"white\",\"ticks\":\"\",\"title\":{\"standoff\":15},\"zerolinecolor\":\"white\",\"automargin\":true,\"zerolinewidth\":2},\"yaxis\":{\"gridcolor\":\"white\",\"linecolor\":\"white\",\"ticks\":\"\",\"title\":{\"standoff\":15},\"zerolinecolor\":\"white\",\"automargin\":true,\"zerolinewidth\":2},\"scene\":{\"xaxis\":{\"backgroundcolor\":\"#E5ECF6\",\"gridcolor\":\"white\",\"linecolor\":\"white\",\"showbackground\":true,\"ticks\":\"\",\"zerolinecolor\":\"white\",\"gridwidth\":2},\"yaxis\":{\"backgroundcolor\":\"#E5ECF6\",\"gridcolor\":\"white\",\"linecolor\":\"white\",\"showbackground\":true,\"ticks\":\"\",\"zerolinecolor\":\"white\",\"gridwidth\":2},\"zaxis\":{\"backgroundcolor\":\"#E5ECF6\",\"gridcolor\":\"white\",\"linecolor\":\"white\",\"showbackground\":true,\"ticks\":\"\",\"zerolinecolor\":\"white\",\"gridwidth\":2}},\"shapedefaults\":{\"line\":{\"color\":\"#2a3f5f\"}},\"annotationdefaults\":{\"arrowcolor\":\"#2a3f5f\",\"arrowhead\":0,\"arrowwidth\":1},\"geo\":{\"bgcolor\":\"white\",\"landcolor\":\"#E5ECF6\",\"subunitcolor\":\"white\",\"showland\":true,\"showlakes\":true,\"lakecolor\":\"white\"},\"title\":{\"x\":0.05},\"mapbox\":{\"style\":\"light\"}}},\"xaxis\":{\"anchor\":\"y\",\"domain\":[0.0,1.0],\"title\":{\"text\":\"Date\"}},\"yaxis\":{\"anchor\":\"x\",\"domain\":[0.0,1.0],\"title\":{\"text\":\"value\"}},\"legend\":{\"title\":{\"text\":\"variable\"},\"tracegroupgap\":0},\"margin\":{\"t\":60}},                        {\"responsive\": true}                    ).then(function(){\n",
       "                            \n",
       "var gd = document.getElementById('252d8739-8511-4290-9d79-db0164d7068c');\n",
       "var x = new MutationObserver(function (mutations, observer) {{\n",
       "        var display = window.getComputedStyle(gd).display;\n",
       "        if (!display || display === 'none') {{\n",
       "            console.log([gd, 'removed!']);\n",
       "            Plotly.purge(gd);\n",
       "            observer.disconnect();\n",
       "        }}\n",
       "}});\n",
       "\n",
       "// Listen for the removal of the full notebook cells\n",
       "var notebookContainer = gd.closest('#notebook-container');\n",
       "if (notebookContainer) {{\n",
       "    x.observe(notebookContainer, {childList: true});\n",
       "}}\n",
       "\n",
       "// Listen for the clearing of the current output cell\n",
       "var outputEl = gd.closest('.output');\n",
       "if (outputEl) {{\n",
       "    x.observe(outputEl, {childList: true});\n",
       "}}\n",
       "\n",
       "                        })                };                });            </script>        </div>"
      ]
     },
     "metadata": {},
     "output_type": "display_data"
    }
   ],
   "source": [
    "px.line(B30K, y=[\"Normalize (TRY)\",\"Normalize(EUR/TRY)\"])"
   ]
  },
  {
   "cell_type": "code",
   "execution_count": 72,
   "id": "d395245d",
   "metadata": {},
   "outputs": [
    {
     "data": {
      "application/vnd.plotly.v1+json": {
       "config": {
        "plotlyServerURL": "https://plot.ly"
       },
       "data": [
        {
         "name": "Normalize BIST30",
         "type": "bar",
         "x": [
          "2021-01-04T00:00:00",
          "2021-01-05T00:00:00",
          "2021-01-06T00:00:00",
          "2021-01-07T00:00:00",
          "2021-01-08T00:00:00",
          "2021-01-11T00:00:00",
          "2021-01-12T00:00:00",
          "2021-01-13T00:00:00",
          "2021-01-14T00:00:00",
          "2021-01-15T00:00:00",
          "2021-01-18T00:00:00",
          "2021-01-19T00:00:00",
          "2021-01-20T00:00:00",
          "2021-01-21T00:00:00",
          "2021-01-25T00:00:00",
          "2021-01-26T00:00:00",
          "2021-01-27T00:00:00",
          "2021-01-28T00:00:00",
          "2021-01-29T00:00:00",
          "2021-02-01T00:00:00",
          "2021-02-02T00:00:00",
          "2021-02-03T00:00:00",
          "2021-02-04T00:00:00",
          "2021-02-05T00:00:00",
          "2021-02-08T00:00:00",
          "2021-02-09T00:00:00",
          "2021-02-10T00:00:00",
          "2021-02-11T00:00:00",
          "2021-02-12T00:00:00",
          "2021-02-16T00:00:00",
          "2021-02-18T00:00:00",
          "2021-02-19T00:00:00",
          "2021-02-22T00:00:00",
          "2021-02-23T00:00:00",
          "2021-02-24T00:00:00",
          "2021-02-25T00:00:00",
          "2021-02-26T00:00:00",
          "2021-03-01T00:00:00",
          "2021-03-02T00:00:00",
          "2021-03-03T00:00:00",
          "2021-03-04T00:00:00",
          "2021-03-05T00:00:00",
          "2021-03-08T00:00:00",
          "2021-03-09T00:00:00",
          "2021-03-10T00:00:00",
          "2021-03-11T00:00:00",
          "2021-03-12T00:00:00",
          "2021-03-15T00:00:00",
          "2021-03-16T00:00:00",
          "2021-03-17T00:00:00",
          "2021-03-18T00:00:00",
          "2021-03-19T00:00:00",
          "2021-03-22T00:00:00",
          "2021-03-23T00:00:00",
          "2021-03-24T00:00:00",
          "2021-03-25T00:00:00",
          "2021-03-26T00:00:00",
          "2021-03-29T00:00:00",
          "2021-03-30T00:00:00",
          "2021-03-31T00:00:00",
          "2021-04-01T00:00:00",
          "2021-04-05T00:00:00",
          "2021-04-06T00:00:00",
          "2021-04-07T00:00:00",
          "2021-04-08T00:00:00",
          "2021-04-09T00:00:00",
          "2021-04-12T00:00:00",
          "2021-04-13T00:00:00",
          "2021-04-14T00:00:00",
          "2021-04-15T00:00:00",
          "2021-04-16T00:00:00",
          "2021-04-19T00:00:00",
          "2021-04-20T00:00:00",
          "2021-04-21T00:00:00",
          "2021-04-22T00:00:00",
          "2021-04-26T00:00:00",
          "2021-04-27T00:00:00",
          "2021-04-28T00:00:00",
          "2021-04-29T00:00:00",
          "2021-04-30T00:00:00",
          "2021-05-03T00:00:00",
          "2021-05-04T00:00:00",
          "2021-05-06T00:00:00",
          "2021-05-07T00:00:00",
          "2021-05-10T00:00:00",
          "2021-05-12T00:00:00",
          "2021-05-17T00:00:00",
          "2021-05-18T00:00:00",
          "2021-05-21T00:00:00",
          "2021-05-24T00:00:00",
          "2021-05-26T00:00:00",
          "2021-05-27T00:00:00",
          "2021-05-28T00:00:00",
          "2021-06-01T00:00:00",
          "2021-06-02T00:00:00",
          "2021-06-03T00:00:00",
          "2021-06-04T00:00:00",
          "2021-06-07T00:00:00",
          "2021-06-08T00:00:00",
          "2021-06-09T00:00:00",
          "2021-06-10T00:00:00",
          "2021-06-11T00:00:00",
          "2021-06-14T00:00:00",
          "2021-06-15T00:00:00",
          "2021-06-16T00:00:00",
          "2021-06-17T00:00:00",
          "2021-06-18T00:00:00",
          "2021-06-21T00:00:00",
          "2021-06-22T00:00:00",
          "2021-06-23T00:00:00",
          "2021-06-24T00:00:00",
          "2021-06-25T00:00:00",
          "2021-06-28T00:00:00",
          "2021-06-29T00:00:00",
          "2021-06-30T00:00:00",
          "2021-07-01T00:00:00",
          "2021-07-02T00:00:00",
          "2021-07-06T00:00:00",
          "2021-07-07T00:00:00",
          "2021-07-08T00:00:00",
          "2021-07-09T00:00:00",
          "2021-07-12T00:00:00",
          "2021-07-13T00:00:00",
          "2021-07-14T00:00:00",
          "2021-07-16T00:00:00",
          "2021-07-19T00:00:00",
          "2021-07-26T00:00:00",
          "2021-07-27T00:00:00",
          "2021-07-28T00:00:00",
          "2021-07-29T00:00:00",
          "2021-07-30T00:00:00",
          "2021-08-02T00:00:00",
          "2021-08-03T00:00:00",
          "2021-08-04T00:00:00",
          "2021-08-05T00:00:00",
          "2021-08-06T00:00:00",
          "2021-08-09T00:00:00",
          "2021-08-10T00:00:00",
          "2021-08-11T00:00:00",
          "2021-08-12T00:00:00",
          "2021-08-13T00:00:00",
          "2021-08-16T00:00:00",
          "2021-08-17T00:00:00",
          "2021-08-18T00:00:00",
          "2021-08-19T00:00:00",
          "2021-08-20T00:00:00",
          "2021-08-23T00:00:00",
          "2021-08-24T00:00:00",
          "2021-08-25T00:00:00",
          "2021-08-26T00:00:00",
          "2021-08-27T00:00:00",
          "2021-08-31T00:00:00",
          "2021-09-01T00:00:00",
          "2021-09-02T00:00:00",
          "2021-09-03T00:00:00",
          "2021-09-06T00:00:00",
          "2021-09-07T00:00:00",
          "2021-09-08T00:00:00",
          "2021-09-09T00:00:00",
          "2021-09-10T00:00:00",
          "2021-09-13T00:00:00",
          "2021-09-14T00:00:00",
          "2021-09-15T00:00:00",
          "2021-09-16T00:00:00",
          "2021-09-17T00:00:00",
          "2021-09-20T00:00:00",
          "2021-09-21T00:00:00",
          "2021-09-22T00:00:00",
          "2021-09-23T00:00:00",
          "2021-09-24T00:00:00",
          "2021-09-27T00:00:00",
          "2021-09-28T00:00:00",
          "2021-09-29T00:00:00",
          "2021-09-30T00:00:00",
          "2021-10-01T00:00:00",
          "2021-10-04T00:00:00",
          "2021-10-05T00:00:00",
          "2021-10-06T00:00:00",
          "2021-10-07T00:00:00",
          "2021-10-08T00:00:00",
          "2021-10-11T00:00:00",
          "2021-10-12T00:00:00",
          "2021-10-13T00:00:00",
          "2021-10-14T00:00:00",
          "2021-10-15T00:00:00",
          "2021-10-18T00:00:00",
          "2021-10-19T00:00:00",
          "2021-10-20T00:00:00",
          "2021-10-21T00:00:00",
          "2021-10-22T00:00:00",
          "2021-10-25T00:00:00",
          "2021-10-26T00:00:00",
          "2021-10-27T00:00:00",
          "2021-10-28T00:00:00",
          "2021-11-01T00:00:00",
          "2021-11-02T00:00:00",
          "2021-11-03T00:00:00",
          "2021-11-04T00:00:00",
          "2021-11-05T00:00:00",
          "2021-11-08T00:00:00",
          "2021-11-09T00:00:00",
          "2021-11-10T00:00:00",
          "2021-11-11T00:00:00",
          "2021-11-12T00:00:00",
          "2021-11-15T00:00:00",
          "2021-11-16T00:00:00",
          "2021-11-17T00:00:00",
          "2021-11-18T00:00:00",
          "2021-11-19T00:00:00",
          "2021-11-22T00:00:00",
          "2021-11-23T00:00:00",
          "2021-11-24T00:00:00",
          "2021-11-25T00:00:00",
          "2021-11-26T00:00:00",
          "2021-11-29T00:00:00",
          "2021-11-30T00:00:00",
          "2021-12-01T00:00:00",
          "2021-12-02T00:00:00",
          "2021-12-03T00:00:00",
          "2021-12-06T00:00:00",
          "2021-12-07T00:00:00",
          "2021-12-08T00:00:00",
          "2021-12-09T00:00:00",
          "2021-12-10T00:00:00",
          "2021-12-13T00:00:00",
          "2021-12-14T00:00:00",
          "2021-12-15T00:00:00",
          "2021-12-16T00:00:00",
          "2021-12-17T00:00:00",
          "2021-12-20T00:00:00",
          "2021-12-21T00:00:00",
          "2021-12-22T00:00:00",
          "2021-12-23T00:00:00",
          "2021-12-24T00:00:00",
          "2021-12-27T00:00:00",
          "2021-12-28T00:00:00",
          "2021-12-29T00:00:00",
          "2021-12-30T00:00:00",
          "2022-01-03T00:00:00",
          "2022-01-04T00:00:00",
          "2022-01-05T00:00:00",
          "2022-01-06T00:00:00",
          "2022-01-07T00:00:00",
          "2022-01-10T00:00:00",
          "2022-01-11T00:00:00",
          "2022-01-12T00:00:00",
          "2022-01-13T00:00:00",
          "2022-01-14T00:00:00",
          "2022-01-17T00:00:00",
          "2022-01-18T00:00:00",
          "2022-01-19T00:00:00",
          "2022-01-20T00:00:00",
          "2022-01-21T00:00:00",
          "2022-01-24T00:00:00",
          "2022-01-25T00:00:00",
          "2022-01-26T00:00:00",
          "2022-01-27T00:00:00",
          "2022-01-28T00:00:00",
          "2022-01-31T00:00:00",
          "2022-02-01T00:00:00",
          "2022-02-02T00:00:00",
          "2022-02-03T00:00:00",
          "2022-02-04T00:00:00",
          "2022-02-07T00:00:00",
          "2022-02-08T00:00:00",
          "2022-02-09T00:00:00",
          "2022-02-10T00:00:00",
          "2022-02-11T00:00:00",
          "2022-02-14T00:00:00",
          "2022-02-15T00:00:00",
          "2022-02-16T00:00:00",
          "2022-02-17T00:00:00",
          "2022-02-18T00:00:00",
          "2022-02-21T00:00:00",
          "2022-02-22T00:00:00",
          "2022-02-23T00:00:00",
          "2022-02-24T00:00:00",
          "2022-02-25T00:00:00",
          "2022-02-28T00:00:00",
          "2022-03-01T00:00:00",
          "2022-03-02T00:00:00",
          "2022-03-03T00:00:00",
          "2022-03-04T00:00:00",
          "2022-03-07T00:00:00",
          "2022-03-08T00:00:00",
          "2022-03-09T00:00:00",
          "2022-03-10T00:00:00",
          "2022-03-11T00:00:00",
          "2022-03-14T00:00:00",
          "2022-03-15T00:00:00",
          "2022-03-16T00:00:00",
          "2022-03-17T00:00:00",
          "2022-03-18T00:00:00",
          "2022-03-21T00:00:00",
          "2022-03-22T00:00:00",
          "2022-03-23T00:00:00",
          "2022-03-24T00:00:00",
          "2022-03-25T00:00:00",
          "2022-03-28T00:00:00",
          "2022-03-29T00:00:00",
          "2022-03-30T00:00:00",
          "2022-03-31T00:00:00",
          "2022-04-01T00:00:00",
          "2022-04-04T00:00:00",
          "2022-04-05T00:00:00",
          "2022-04-06T00:00:00",
          "2022-04-07T00:00:00",
          "2022-04-08T00:00:00",
          "2022-04-11T00:00:00",
          "2022-04-12T00:00:00",
          "2022-04-13T00:00:00",
          "2022-04-14T00:00:00",
          "2022-04-15T00:00:00",
          "2022-04-18T00:00:00",
          "2022-04-19T00:00:00",
          "2022-04-20T00:00:00",
          "2022-04-21T00:00:00",
          "2022-04-22T00:00:00",
          "2022-04-25T00:00:00",
          "2022-04-26T00:00:00",
          "2022-04-27T00:00:00",
          "2022-04-28T00:00:00",
          "2022-04-29T00:00:00",
          "2022-05-05T00:00:00",
          "2022-05-06T00:00:00",
          "2022-05-09T00:00:00",
          "2022-05-10T00:00:00",
          "2022-05-11T00:00:00",
          "2022-05-12T00:00:00",
          "2022-05-13T00:00:00",
          "2022-05-16T00:00:00",
          "2022-05-17T00:00:00",
          "2022-05-18T00:00:00",
          "2022-05-20T00:00:00",
          "2022-05-23T00:00:00",
          "2022-05-24T00:00:00",
          "2022-05-25T00:00:00",
          "2022-05-26T00:00:00",
          "2022-05-27T00:00:00",
          "2022-05-30T00:00:00",
          "2022-05-31T00:00:00",
          "2022-06-01T00:00:00",
          "2022-06-02T00:00:00",
          "2022-06-03T00:00:00",
          "2022-06-06T00:00:00",
          "2022-06-07T00:00:00",
          "2022-06-08T00:00:00",
          "2022-06-09T00:00:00",
          "2022-06-10T00:00:00",
          "2022-06-13T00:00:00",
          "2022-06-14T00:00:00",
          "2022-06-15T00:00:00",
          "2022-06-16T00:00:00",
          "2022-06-17T00:00:00",
          "2022-06-20T00:00:00",
          "2022-06-21T00:00:00",
          "2022-06-22T00:00:00",
          "2022-06-23T00:00:00",
          "2022-06-24T00:00:00",
          "2022-06-27T00:00:00",
          "2022-06-28T00:00:00",
          "2022-06-29T00:00:00",
          "2022-06-30T00:00:00",
          "2022-07-01T00:00:00",
          "2022-07-04T00:00:00",
          "2022-07-05T00:00:00",
          "2022-07-06T00:00:00",
          "2022-07-07T00:00:00",
          "2022-07-08T00:00:00",
          "2022-07-13T00:00:00",
          "2022-07-14T00:00:00",
          "2022-07-18T00:00:00",
          "2022-07-19T00:00:00",
          "2022-07-20T00:00:00",
          "2022-07-21T00:00:00",
          "2022-07-22T00:00:00",
          "2022-07-25T00:00:00",
          "2022-07-26T00:00:00",
          "2022-07-27T00:00:00",
          "2022-07-28T00:00:00",
          "2022-07-29T00:00:00",
          "2022-08-01T00:00:00",
          "2022-08-02T00:00:00",
          "2022-08-03T00:00:00",
          "2022-08-04T00:00:00",
          "2022-08-05T00:00:00",
          "2022-08-08T00:00:00",
          "2022-08-09T00:00:00",
          "2022-08-10T00:00:00",
          "2022-08-11T00:00:00",
          "2022-08-12T00:00:00",
          "2022-08-15T00:00:00",
          "2022-08-16T00:00:00",
          "2022-08-17T00:00:00",
          "2022-08-18T00:00:00",
          "2022-08-19T00:00:00",
          "2022-08-22T00:00:00",
          "2022-08-23T00:00:00",
          "2022-08-24T00:00:00",
          "2022-08-25T00:00:00",
          "2022-08-26T00:00:00",
          "2022-08-29T00:00:00",
          "2022-08-31T00:00:00",
          "2022-09-01T00:00:00",
          "2022-09-02T00:00:00",
          "2022-09-05T00:00:00",
          "2022-09-06T00:00:00",
          "2022-09-07T00:00:00",
          "2022-09-08T00:00:00",
          "2022-09-09T00:00:00",
          "2022-09-12T00:00:00",
          "2022-09-13T00:00:00",
          "2022-09-14T00:00:00",
          "2022-09-15T00:00:00",
          "2022-09-16T00:00:00",
          "2022-09-19T00:00:00",
          "2022-09-20T00:00:00",
          "2022-09-21T00:00:00",
          "2022-09-22T00:00:00",
          "2022-09-23T00:00:00",
          "2022-09-26T00:00:00",
          "2022-09-27T00:00:00",
          "2022-09-28T00:00:00",
          "2022-09-29T00:00:00",
          "2022-09-30T00:00:00",
          "2022-10-03T00:00:00",
          "2022-10-04T00:00:00",
          "2022-10-05T00:00:00",
          "2022-10-06T00:00:00",
          "2022-10-07T00:00:00",
          "2022-10-10T00:00:00",
          "2022-10-11T00:00:00",
          "2022-10-12T00:00:00",
          "2022-10-13T00:00:00",
          "2022-10-14T00:00:00",
          "2022-10-17T00:00:00",
          "2022-10-18T00:00:00",
          "2022-10-19T00:00:00",
          "2022-10-20T00:00:00",
          "2022-10-21T00:00:00",
          "2022-10-24T00:00:00",
          "2022-10-25T00:00:00",
          "2022-10-26T00:00:00",
          "2022-10-27T00:00:00",
          "2022-10-28T00:00:00",
          "2022-10-31T00:00:00",
          "2022-11-01T00:00:00",
          "2022-11-02T00:00:00",
          "2022-11-03T00:00:00",
          "2022-11-04T00:00:00",
          "2022-11-07T00:00:00",
          "2022-11-08T00:00:00",
          "2022-11-09T00:00:00",
          "2022-11-10T00:00:00",
          "2022-11-11T00:00:00",
          "2022-11-14T00:00:00",
          "2022-11-15T00:00:00",
          "2022-11-16T00:00:00",
          "2022-11-17T00:00:00",
          "2022-11-18T00:00:00",
          "2022-11-21T00:00:00",
          "2022-11-22T00:00:00",
          "2022-11-23T00:00:00",
          "2022-11-24T00:00:00",
          "2022-11-25T00:00:00",
          "2022-11-28T00:00:00",
          "2022-11-29T00:00:00",
          "2022-11-30T00:00:00",
          "2022-12-01T00:00:00",
          "2022-12-02T00:00:00",
          "2022-12-05T00:00:00",
          "2022-12-06T00:00:00",
          "2022-12-07T00:00:00",
          "2022-12-08T00:00:00",
          "2022-12-09T00:00:00",
          "2022-12-12T00:00:00",
          "2022-12-13T00:00:00",
          "2022-12-14T00:00:00",
          "2022-12-15T00:00:00",
          "2022-12-16T00:00:00",
          "2022-12-19T00:00:00",
          "2022-12-20T00:00:00",
          "2022-12-21T00:00:00",
          "2022-12-22T00:00:00",
          "2022-12-23T00:00:00",
          "2022-12-27T00:00:00",
          "2022-12-28T00:00:00",
          "2022-12-29T00:00:00",
          "2022-12-30T00:00:00"
         ],
         "y": [
          1,
          0.9924375341427978,
          1.0029039425778423,
          1.0153063865836538,
          1.0251073866459113,
          1.015790413939397,
          1.0205094221751734,
          1.0270433483644728,
          1.0170004084765494,
          1.0005445123121597,
          1.0180288742922465,
          1.0225058688501514,
          1.0231713510751441,
          1.007683435770035,
          0.9904410136156142,
          0.9903200437027813,
          0.9529916679203079,
          0.9691451393026151,
          0.951297719879618,
          0.9586181720589485,
          0.9696896516147748,
          0.9854800655541718,
          0.984754024520557,
          0.9782200983312577,
          0.9833020901577387,
          0.9940709972270713,
          0.9960675177542548,
          0.9923770491863814,
          0.9851775669198837,
          0.9814870983520102,
          0.9715651283769198,
          0.9814870983520102,
          0.9710206160647601,
          0.9615221884889964,
          0.9426462293980964,
          0.9523261856953152,
          0.9413757499045275,
          0.9734406051390648,
          0.9769496188376888,
          0.9760421229348246,
          0.9831205614362836,
          0.9868110300041572,
          0.9776151010626816,
          0.989715046434205,
          0.997822024603567,
          0.991288024562062,
          0.9918325368742217,
          0.9867505450477406,
          0.9933450300456621,
          0.9851775669198837,
          0.9835440299834046,
          0.9625506543046937,
          0.8668401159568251,
          0.8595195899252889,
          0.8758545161768456,
          0.8652670639767626,
          0.8600641022374486,
          0.8662956036446654,
          0.8662956036446654,
          0.8655695626110507,
          0.8859580148733911,
          0.8909794478912499,
          0.8790610312411816,
          0.8797265134661743,
          0.8782140202947338,
          0.86665858723537,
          0.8557686364009989,
          0.8604270858281532,
          0.8809969929597431,
          0.8867444670112168,
          0.8832355271647984,
          0.8675660831382342,
          0.8607295844624412,
          0.8452416691573323,
          0.8546796117766795,
          0.8738580695018676,
          0.8828119847654716,
          0.8770645107139979,
          0.8866839820548003,
          0.8814205353590698,
          0.8974529629763384,
          0.894488461589874,
          0.9031399520713956,
          0.9132433769157354,
          0.9284287935865563,
          0.9140903878621832,
          0.9230443031257872,
          0.9266138017808278,
          0.920442859182233,
          0.9232258318472423,
          0.9129408782814473,
          0.9009619028227569,
          0.9116703987878785,
          0.9229233332129543,
          0.9215318099543468,
          0.9209268126857706,
          0.9244358263843947,
          0.9353257772187659,
          0.9362937580780466,
          0.9377457662930705,
          0.9434932403445442,
          0.9448847636031517,
          0.9444612212038249,
          0.9391977745080945,
          0.9330267580572941,
          0.9228023633001212,
          0.907979930220005,
          0.9160868345371612,
          0.9228023633001212,
          0.9149978837650474,
          0.9211688263636422,
          0.9088268673142471,
          0.8994494096513164,
          0.8972109492984668,
          0.8850505189705269,
          0.8949724889456172,
          0.8978764315234595,
          0.9003569055541807,
          0.9067093768742305,
          0.8949119301369951,
          0.9005989192320523,
          0.8875914779576645,
          0.882146502540479,
          0.8949119301369951,
          0.8894669547198095,
          0.8787585326068935,
          0.8750075790826035,
          0.8834169820340478,
          0.8831750422083818,
          0.9074354179078453,
          0.907979930220005,
          0.9097949220257335,
          0.9164498919800714,
          0.9168733605271925,
          0.9312117662515655,
          0.9342973114030686,
          0.9306673277916115,
          0.9356887608094704,
          0.9176598865172237,
          0.9436747690659992,
          0.9450057335159846,
          0.9502086952552986,
          0.9549881884474914,
          0.9453687171066892,
          0.9384112485180631,
          0.9423437307638083,
          0.9537177089539226,
          0.9587997007804037,
          0.9506927226110418,
          0.9474257225902893,
          0.9522657007388987,
          0.9609171912204203,
          0.9601306652303889,
          0.9629741228518147,
          0.9545647199003704,
          0.9580131747903724,
          0.9429487280323845,
          0.9295783031672922,
          0.9404077690452468,
          0.929396774445837,
          0.9302437853922848,
          0.927400327770859,
          0.9183858536986329,
          0.916510376936488,
          0.9193538345579136,
          0.9019904424906597,
          0.8982999739227862,
          0.9145743413657208,
          0.9064674370485646,
          0.894488461589874,
          0.9007804479535074,
          0.8946699903113291,
          0.9007804479535074,
          0.9106418591199756,
          0.9067699356828526,
          0.9012039165006285,
          0.9007199629970909,
          0.8877125217227031,
          0.9073143741428067,
          0.9072538891863902,
          0.9212898701286808,
          0.9223788209007946,
          0.9197773769572404,
          0.9189908509672091,
          0.9170548892486476,
          0.9216528537193854,
          0.9290337908551325,
          0.932603289510173,
          0.9482122485803206,
          0.9646076597882938,
          0.972593594192617,
          0.9834835450269882,
          0.9893520628435004,
          0.9895940026691664,
          1.0004839535035375,
          0.9992739589663852,
          1.010405923478628,
          1.0320648552345373,
          1.0389012800581245,
          1.057232726836865,
          1.064190195425491,
          1.0702401681112528,
          1.0691511434869334,
          1.0770766667870457,
          1.1251739496388515,
          1.1153124646201777,
          1.1303769113781656,
          1.1539113198962199,
          1.1479218321668747,
          1.156089295292653,
          1.1767196873806594,
          1.192570586276473,
          1.1931150985886327,
          1.1582067857326697,
          1.1807731395392376,
          1.175388722930674,
          1.208240030303037,
          1.2220339975674561,
          1.2395788445039595,
          1.2550062748526518,
          1.296993173914485,
          1.313751568713163,
          1.3357129991033603,
          1.3386170155334083,
          1.3881662327480324,
          1.4331779704483354,
          1.4435840416313745,
          1.5294330949605692,
          1.39070719173517,
          1.3789097449979346,
          1.2641417926899168,
          1.1987416027272733,
          1.2006775644458347,
          1.2625083296056432,
          1.2640812338812946,
          1.2298989620589462,
          1.262205830971355,
          1.234315397808229,
          1,
          1.022517184166864,
          1.0487319501436951,
          1.0521925089624318,
          1.069732210313463,
          1.0754207621029865,
          1.0799241989363593,
          1.0894051185855653,
          1.0945721735008296,
          1.0913013025154066,
          1.0958047393487793,
          1.0380184646465396,
          1.073240104290116,
          1.0569329687870348,
          1.053756768117445,
          0.996871250222209,
          1.019009290190211,
          1.0217586643013747,
          1.0475468351875445,
          1.0367385636406732,
          1.0441337272606068,
          1.050959943114482,
          1.0457928881992178,
          1.0210950462194832,
          1.0129888136258591,
          1.04617203239808,
          1.054041242000474,
          1.0748518143369281,
          1.0720075384421663,
          1.080777389117682,
          1.0552738078484238,
          1.0759421432433633,
          1.0753733112111874,
          1.058497227942048,
          1.0707276374363002,
          1.0752785251614718,
          1.0654183455795212,
          1.0651813225882911,
          0.9813226345846172,
          1.0340838598453426,
          1.0364067545997275,
          1.0502488741407916,
          1.060488313655487,
          1.081915168915916,
          1.0605830997052026,
          1.0639014215824247,
          1.0705854004947855,
          1.085517848942285,
          1.0858971088750295,
          1.0913013025154066,
          1.1107845229541953,
          1.1050959711646717,
          1.1090780268576677,
          1.1371888610304575,
          1.139606541834558,
          1.1550130362645177,
          1.1580468842587106,
          1.1525005694107016,
          1.1471912775539228,
          1.143778169626985,
          1.1377103579047168,
          1.1594216870481748,
          1.1740696616126451,
          1.1743066846038752,
          1.1854467651916925,
          1.2216164968001897,
          1.2278738806218892,
          1.2196728619785495,
          1.2339891432359564,
          1.2622422143502607,
          1.2948091501985068,
          1.3035790008740222,
          1.3063284907190684,
          1.3140080124881488,
          1.3215927482075136,
          1.3297937668508533,
          1.335719341631607,
          1.3374732886199336,
          1.3569566247926048,
          1.3108793784442403,
          1.3187484723127518,
          1.281915122622363,
          1.3013510079032353,
          1.2831476884703128,
          1.2820099086720786,
          1.3008296267628585,
          1.2924863711780044,
          1.2961365020961721,
          1.3131548223068263,
          1.2968950219616615,
          1.2616733823180848,
          1.271391324958521,
          1.2545152416893814,
          1.2568854716016828,
          1.258592083432093,
          1.2475942397857904,
          1.2537093866659754,
          1.2479260488267363,
          1.2753732649176346,
          1.295378097964565,
          1.2844275894761792,
          1.3346764636169708,
          1.3451529261228965,
          1.3533538290323537,
          1.3750178230178953,
          1.3698506523687486,
          1.3947855173397132,
          1.3910879355297463,
          1.3303625988830292,
          1.3454372842720432,
          1.324863734926819,
          1.310120858578751,
          1.3068973227512444,
          1.3171367622659398,
          1.2891680493007822,
          1.3162361211928182,
          1.3203128472016472,
          1.34216641328662,
          1.3374732886199336,
          1.315145792286383,
          1.3192699691870111,
          1.3055700865874615,
          1.283337260569744,
          1.2342735013851032,
          1.2368807542886346,
          1.2589238924730386,
          1.2359326623237141,
          1.2177766780487083,
          1.2346053104260488,
          1.2386821521687603,
          1.241336855964091,
          1.2156909220194358,
          1.1978667467853756,
          1.2392509842009363,
          1.2653235132362526,
          1.2798293665930909,
          1.2716757988415501,
          1.2729082489556174,
          1.2910642332306235,
          1.2804929846749822,
          1.2827684285375682,
          1.2789760606778857,
          1.3086039345816545,
          1.3434937651842853,
          1.3427826962105949,
          1.3640198636377103,
          1.3849253377577626,
          1.4013747102023584,
          1.4276369270709883,
          1.420478786442285,
          1.4464090785360868,
          1.4704431867000474,
          1.4633799478549419,
          1.4538042421560204,
          1.4909220657294382,
          1.5308840494637355,
          1.5592320223616378,
          1.5544442273791184,
          1.573927447817907,
          1.6116615543153,
          1.5762976777302087,
          1.6210002370229912,
          1.6255984599060795,
          1.640578359245378,
          1.6375443955173026,
          1.6120408142480445,
          1.656411448765999,
          1.7393694956965513,
          1.7553922730504858,
          1.767385659553508,
          1.7853046208372838,
          1.8327092190833136,
          1.908082530294501,
          1.7767243422611994,
          1.785778666819744,
          1.7314055000444417,
          1.7387532127725764,
          1.631049988704373,
          1.689073286397843,
          1.6684996213187366,
          1.6977956861815595,
          1.6855652766873075,
          1.674567433041005,
          1.687556246666864,
          1.653946432803982,
          1.6309077517628585,
          1.6390614352482815,
          1.76349850564411,
          1.7964447014251008,
          1.8122777909457217,
          1.851765844431441,
          1.8560322582735838,
          1.8585920602853163,
          1.8535197914197676,
          1.8218061614867267,
          1.8410998098260845,
          1.873761531724046,
          1.99976297700877,
          1.9996208558011377,
          2.018866937514814,
          2.026214650242949,
          2.037876227705025,
          2.0621000237022993,
          2.0625740696847594,
          2.058260204950818,
          2.0308129888599193,
          1.9969187011140082,
          2.0528561270443233,
          2.093292156761081,
          2.0945247226090307,
          2.1056173523050488,
          2.1732638065892393,
          2.246029864896895,
          2.260156342587106,
          2.255747807537331,
          2.3152405783360988,
          2.292533822069803,
          2.347286133043968,
          2.4019435422345343,
          2.415738326617682,
          2.3314055926315476,
          2.3315951647309787,
          2.3443469553656078,
          2.457549274857786,
          2.496705287834795,
          2.490542690062811,
          2.4959469994370704,
          2.522493574454847,
          2.5481392769317375,
          2.542972222016473,
          2.5757762965898316,
          2.5189382295863947,
          2.5214031298145296,
          2.5439203139813937,
          2.4557952121355773,
          2.465418252992415,
          2.5388953802737615,
          2.6464091479764162,
          2.677790853134629,
          2.576345012888125,
          2.6407205961868927,
          2.646456598868215,
          2.7516948069744016,
          2.7730740956091493,
          2.7783835031998105,
          2.788907416597535,
          2.7898555085624555,
          2.785826117711543,
          2.7444417645621,
          2.8040768880362643,
          2.8181084639428775
         ]
        },
        {
         "name": "Normalize EUR/TRY",
         "type": "scatter",
         "x": [
          "2021-01-04T00:00:00",
          "2021-01-05T00:00:00",
          "2021-01-06T00:00:00",
          "2021-01-07T00:00:00",
          "2021-01-08T00:00:00",
          "2021-01-11T00:00:00",
          "2021-01-12T00:00:00",
          "2021-01-13T00:00:00",
          "2021-01-14T00:00:00",
          "2021-01-15T00:00:00",
          "2021-01-18T00:00:00",
          "2021-01-19T00:00:00",
          "2021-01-20T00:00:00",
          "2021-01-21T00:00:00",
          "2021-01-25T00:00:00",
          "2021-01-26T00:00:00",
          "2021-01-27T00:00:00",
          "2021-01-28T00:00:00",
          "2021-01-29T00:00:00",
          "2021-02-01T00:00:00",
          "2021-02-02T00:00:00",
          "2021-02-03T00:00:00",
          "2021-02-04T00:00:00",
          "2021-02-05T00:00:00",
          "2021-02-08T00:00:00",
          "2021-02-09T00:00:00",
          "2021-02-10T00:00:00",
          "2021-02-11T00:00:00",
          "2021-02-12T00:00:00",
          "2021-02-16T00:00:00",
          "2021-02-18T00:00:00",
          "2021-02-19T00:00:00",
          "2021-02-22T00:00:00",
          "2021-02-23T00:00:00",
          "2021-02-24T00:00:00",
          "2021-02-25T00:00:00",
          "2021-02-26T00:00:00",
          "2021-03-01T00:00:00",
          "2021-03-02T00:00:00",
          "2021-03-03T00:00:00",
          "2021-03-04T00:00:00",
          "2021-03-05T00:00:00",
          "2021-03-08T00:00:00",
          "2021-03-09T00:00:00",
          "2021-03-10T00:00:00",
          "2021-03-11T00:00:00",
          "2021-03-12T00:00:00",
          "2021-03-15T00:00:00",
          "2021-03-16T00:00:00",
          "2021-03-17T00:00:00",
          "2021-03-18T00:00:00",
          "2021-03-19T00:00:00",
          "2021-03-22T00:00:00",
          "2021-03-23T00:00:00",
          "2021-03-24T00:00:00",
          "2021-03-25T00:00:00",
          "2021-03-26T00:00:00",
          "2021-03-29T00:00:00",
          "2021-03-30T00:00:00",
          "2021-03-31T00:00:00",
          "2021-04-01T00:00:00",
          "2021-04-05T00:00:00",
          "2021-04-06T00:00:00",
          "2021-04-07T00:00:00",
          "2021-04-08T00:00:00",
          "2021-04-09T00:00:00",
          "2021-04-12T00:00:00",
          "2021-04-13T00:00:00",
          "2021-04-14T00:00:00",
          "2021-04-15T00:00:00",
          "2021-04-16T00:00:00",
          "2021-04-19T00:00:00",
          "2021-04-20T00:00:00",
          "2021-04-21T00:00:00",
          "2021-04-22T00:00:00",
          "2021-04-26T00:00:00",
          "2021-04-27T00:00:00",
          "2021-04-28T00:00:00",
          "2021-04-29T00:00:00",
          "2021-04-30T00:00:00",
          "2021-05-03T00:00:00",
          "2021-05-04T00:00:00",
          "2021-05-06T00:00:00",
          "2021-05-07T00:00:00",
          "2021-05-10T00:00:00",
          "2021-05-12T00:00:00",
          "2021-05-17T00:00:00",
          "2021-05-18T00:00:00",
          "2021-05-21T00:00:00",
          "2021-05-24T00:00:00",
          "2021-05-26T00:00:00",
          "2021-05-27T00:00:00",
          "2021-05-28T00:00:00",
          "2021-06-01T00:00:00",
          "2021-06-02T00:00:00",
          "2021-06-03T00:00:00",
          "2021-06-04T00:00:00",
          "2021-06-07T00:00:00",
          "2021-06-08T00:00:00",
          "2021-06-09T00:00:00",
          "2021-06-10T00:00:00",
          "2021-06-11T00:00:00",
          "2021-06-14T00:00:00",
          "2021-06-15T00:00:00",
          "2021-06-16T00:00:00",
          "2021-06-17T00:00:00",
          "2021-06-18T00:00:00",
          "2021-06-21T00:00:00",
          "2021-06-22T00:00:00",
          "2021-06-23T00:00:00",
          "2021-06-24T00:00:00",
          "2021-06-25T00:00:00",
          "2021-06-28T00:00:00",
          "2021-06-29T00:00:00",
          "2021-06-30T00:00:00",
          "2021-07-01T00:00:00",
          "2021-07-02T00:00:00",
          "2021-07-06T00:00:00",
          "2021-07-07T00:00:00",
          "2021-07-08T00:00:00",
          "2021-07-09T00:00:00",
          "2021-07-12T00:00:00",
          "2021-07-13T00:00:00",
          "2021-07-14T00:00:00",
          "2021-07-16T00:00:00",
          "2021-07-19T00:00:00",
          "2021-07-26T00:00:00",
          "2021-07-27T00:00:00",
          "2021-07-28T00:00:00",
          "2021-07-29T00:00:00",
          "2021-07-30T00:00:00",
          "2021-08-02T00:00:00",
          "2021-08-03T00:00:00",
          "2021-08-04T00:00:00",
          "2021-08-05T00:00:00",
          "2021-08-06T00:00:00",
          "2021-08-09T00:00:00",
          "2021-08-10T00:00:00",
          "2021-08-11T00:00:00",
          "2021-08-12T00:00:00",
          "2021-08-13T00:00:00",
          "2021-08-16T00:00:00",
          "2021-08-17T00:00:00",
          "2021-08-18T00:00:00",
          "2021-08-19T00:00:00",
          "2021-08-20T00:00:00",
          "2021-08-23T00:00:00",
          "2021-08-24T00:00:00",
          "2021-08-25T00:00:00",
          "2021-08-26T00:00:00",
          "2021-08-27T00:00:00",
          "2021-08-31T00:00:00",
          "2021-09-01T00:00:00",
          "2021-09-02T00:00:00",
          "2021-09-03T00:00:00",
          "2021-09-06T00:00:00",
          "2021-09-07T00:00:00",
          "2021-09-08T00:00:00",
          "2021-09-09T00:00:00",
          "2021-09-10T00:00:00",
          "2021-09-13T00:00:00",
          "2021-09-14T00:00:00",
          "2021-09-15T00:00:00",
          "2021-09-16T00:00:00",
          "2021-09-17T00:00:00",
          "2021-09-20T00:00:00",
          "2021-09-21T00:00:00",
          "2021-09-22T00:00:00",
          "2021-09-23T00:00:00",
          "2021-09-24T00:00:00",
          "2021-09-27T00:00:00",
          "2021-09-28T00:00:00",
          "2021-09-29T00:00:00",
          "2021-09-30T00:00:00",
          "2021-10-01T00:00:00",
          "2021-10-04T00:00:00",
          "2021-10-05T00:00:00",
          "2021-10-06T00:00:00",
          "2021-10-07T00:00:00",
          "2021-10-08T00:00:00",
          "2021-10-11T00:00:00",
          "2021-10-12T00:00:00",
          "2021-10-13T00:00:00",
          "2021-10-14T00:00:00",
          "2021-10-15T00:00:00",
          "2021-10-18T00:00:00",
          "2021-10-19T00:00:00",
          "2021-10-20T00:00:00",
          "2021-10-21T00:00:00",
          "2021-10-22T00:00:00",
          "2021-10-25T00:00:00",
          "2021-10-26T00:00:00",
          "2021-10-27T00:00:00",
          "2021-10-28T00:00:00",
          "2021-11-01T00:00:00",
          "2021-11-02T00:00:00",
          "2021-11-03T00:00:00",
          "2021-11-04T00:00:00",
          "2021-11-05T00:00:00",
          "2021-11-08T00:00:00",
          "2021-11-09T00:00:00",
          "2021-11-10T00:00:00",
          "2021-11-11T00:00:00",
          "2021-11-12T00:00:00",
          "2021-11-15T00:00:00",
          "2021-11-16T00:00:00",
          "2021-11-17T00:00:00",
          "2021-11-18T00:00:00",
          "2021-11-19T00:00:00",
          "2021-11-22T00:00:00",
          "2021-11-23T00:00:00",
          "2021-11-24T00:00:00",
          "2021-11-25T00:00:00",
          "2021-11-26T00:00:00",
          "2021-11-29T00:00:00",
          "2021-11-30T00:00:00",
          "2021-12-01T00:00:00",
          "2021-12-02T00:00:00",
          "2021-12-03T00:00:00",
          "2021-12-06T00:00:00",
          "2021-12-07T00:00:00",
          "2021-12-08T00:00:00",
          "2021-12-09T00:00:00",
          "2021-12-10T00:00:00",
          "2021-12-13T00:00:00",
          "2021-12-14T00:00:00",
          "2021-12-15T00:00:00",
          "2021-12-16T00:00:00",
          "2021-12-17T00:00:00",
          "2021-12-20T00:00:00",
          "2021-12-21T00:00:00",
          "2021-12-22T00:00:00",
          "2021-12-23T00:00:00",
          "2021-12-24T00:00:00",
          "2021-12-27T00:00:00",
          "2021-12-28T00:00:00",
          "2021-12-29T00:00:00",
          "2021-12-30T00:00:00",
          "2022-01-03T00:00:00",
          "2022-01-04T00:00:00",
          "2022-01-05T00:00:00",
          "2022-01-06T00:00:00",
          "2022-01-07T00:00:00",
          "2022-01-10T00:00:00",
          "2022-01-11T00:00:00",
          "2022-01-12T00:00:00",
          "2022-01-13T00:00:00",
          "2022-01-14T00:00:00",
          "2022-01-17T00:00:00",
          "2022-01-18T00:00:00",
          "2022-01-19T00:00:00",
          "2022-01-20T00:00:00",
          "2022-01-21T00:00:00",
          "2022-01-24T00:00:00",
          "2022-01-25T00:00:00",
          "2022-01-26T00:00:00",
          "2022-01-27T00:00:00",
          "2022-01-28T00:00:00",
          "2022-01-31T00:00:00",
          "2022-02-01T00:00:00",
          "2022-02-02T00:00:00",
          "2022-02-03T00:00:00",
          "2022-02-04T00:00:00",
          "2022-02-07T00:00:00",
          "2022-02-08T00:00:00",
          "2022-02-09T00:00:00",
          "2022-02-10T00:00:00",
          "2022-02-11T00:00:00",
          "2022-02-14T00:00:00",
          "2022-02-15T00:00:00",
          "2022-02-16T00:00:00",
          "2022-02-17T00:00:00",
          "2022-02-18T00:00:00",
          "2022-02-21T00:00:00",
          "2022-02-22T00:00:00",
          "2022-02-23T00:00:00",
          "2022-02-24T00:00:00",
          "2022-02-25T00:00:00",
          "2022-02-28T00:00:00",
          "2022-03-01T00:00:00",
          "2022-03-02T00:00:00",
          "2022-03-03T00:00:00",
          "2022-03-04T00:00:00",
          "2022-03-07T00:00:00",
          "2022-03-08T00:00:00",
          "2022-03-09T00:00:00",
          "2022-03-10T00:00:00",
          "2022-03-11T00:00:00",
          "2022-03-14T00:00:00",
          "2022-03-15T00:00:00",
          "2022-03-16T00:00:00",
          "2022-03-17T00:00:00",
          "2022-03-18T00:00:00",
          "2022-03-21T00:00:00",
          "2022-03-22T00:00:00",
          "2022-03-23T00:00:00",
          "2022-03-24T00:00:00",
          "2022-03-25T00:00:00",
          "2022-03-28T00:00:00",
          "2022-03-29T00:00:00",
          "2022-03-30T00:00:00",
          "2022-03-31T00:00:00",
          "2022-04-01T00:00:00",
          "2022-04-04T00:00:00",
          "2022-04-05T00:00:00",
          "2022-04-06T00:00:00",
          "2022-04-07T00:00:00",
          "2022-04-08T00:00:00",
          "2022-04-11T00:00:00",
          "2022-04-12T00:00:00",
          "2022-04-13T00:00:00",
          "2022-04-14T00:00:00",
          "2022-04-15T00:00:00",
          "2022-04-18T00:00:00",
          "2022-04-19T00:00:00",
          "2022-04-20T00:00:00",
          "2022-04-21T00:00:00",
          "2022-04-22T00:00:00",
          "2022-04-25T00:00:00",
          "2022-04-26T00:00:00",
          "2022-04-27T00:00:00",
          "2022-04-28T00:00:00",
          "2022-04-29T00:00:00",
          "2022-05-05T00:00:00",
          "2022-05-06T00:00:00",
          "2022-05-09T00:00:00",
          "2022-05-10T00:00:00",
          "2022-05-11T00:00:00",
          "2022-05-12T00:00:00",
          "2022-05-13T00:00:00",
          "2022-05-16T00:00:00",
          "2022-05-17T00:00:00",
          "2022-05-18T00:00:00",
          "2022-05-20T00:00:00",
          "2022-05-23T00:00:00",
          "2022-05-24T00:00:00",
          "2022-05-25T00:00:00",
          "2022-05-26T00:00:00",
          "2022-05-27T00:00:00",
          "2022-05-30T00:00:00",
          "2022-05-31T00:00:00",
          "2022-06-01T00:00:00",
          "2022-06-02T00:00:00",
          "2022-06-03T00:00:00",
          "2022-06-06T00:00:00",
          "2022-06-07T00:00:00",
          "2022-06-08T00:00:00",
          "2022-06-09T00:00:00",
          "2022-06-10T00:00:00",
          "2022-06-13T00:00:00",
          "2022-06-14T00:00:00",
          "2022-06-15T00:00:00",
          "2022-06-16T00:00:00",
          "2022-06-17T00:00:00",
          "2022-06-20T00:00:00",
          "2022-06-21T00:00:00",
          "2022-06-22T00:00:00",
          "2022-06-23T00:00:00",
          "2022-06-24T00:00:00",
          "2022-06-27T00:00:00",
          "2022-06-28T00:00:00",
          "2022-06-29T00:00:00",
          "2022-06-30T00:00:00",
          "2022-07-01T00:00:00",
          "2022-07-04T00:00:00",
          "2022-07-05T00:00:00",
          "2022-07-06T00:00:00",
          "2022-07-07T00:00:00",
          "2022-07-08T00:00:00",
          "2022-07-13T00:00:00",
          "2022-07-14T00:00:00",
          "2022-07-18T00:00:00",
          "2022-07-19T00:00:00",
          "2022-07-20T00:00:00",
          "2022-07-21T00:00:00",
          "2022-07-22T00:00:00",
          "2022-07-25T00:00:00",
          "2022-07-26T00:00:00",
          "2022-07-27T00:00:00",
          "2022-07-28T00:00:00",
          "2022-07-29T00:00:00",
          "2022-08-01T00:00:00",
          "2022-08-02T00:00:00",
          "2022-08-03T00:00:00",
          "2022-08-04T00:00:00",
          "2022-08-05T00:00:00",
          "2022-08-08T00:00:00",
          "2022-08-09T00:00:00",
          "2022-08-10T00:00:00",
          "2022-08-11T00:00:00",
          "2022-08-12T00:00:00",
          "2022-08-15T00:00:00",
          "2022-08-16T00:00:00",
          "2022-08-17T00:00:00",
          "2022-08-18T00:00:00",
          "2022-08-19T00:00:00",
          "2022-08-22T00:00:00",
          "2022-08-23T00:00:00",
          "2022-08-24T00:00:00",
          "2022-08-25T00:00:00",
          "2022-08-26T00:00:00",
          "2022-08-29T00:00:00",
          "2022-08-31T00:00:00",
          "2022-09-01T00:00:00",
          "2022-09-02T00:00:00",
          "2022-09-05T00:00:00",
          "2022-09-06T00:00:00",
          "2022-09-07T00:00:00",
          "2022-09-08T00:00:00",
          "2022-09-09T00:00:00",
          "2022-09-12T00:00:00",
          "2022-09-13T00:00:00",
          "2022-09-14T00:00:00",
          "2022-09-15T00:00:00",
          "2022-09-16T00:00:00",
          "2022-09-19T00:00:00",
          "2022-09-20T00:00:00",
          "2022-09-21T00:00:00",
          "2022-09-22T00:00:00",
          "2022-09-23T00:00:00",
          "2022-09-26T00:00:00",
          "2022-09-27T00:00:00",
          "2022-09-28T00:00:00",
          "2022-09-29T00:00:00",
          "2022-09-30T00:00:00",
          "2022-10-03T00:00:00",
          "2022-10-04T00:00:00",
          "2022-10-05T00:00:00",
          "2022-10-06T00:00:00",
          "2022-10-07T00:00:00",
          "2022-10-10T00:00:00",
          "2022-10-11T00:00:00",
          "2022-10-12T00:00:00",
          "2022-10-13T00:00:00",
          "2022-10-14T00:00:00",
          "2022-10-17T00:00:00",
          "2022-10-18T00:00:00",
          "2022-10-19T00:00:00",
          "2022-10-20T00:00:00",
          "2022-10-21T00:00:00",
          "2022-10-24T00:00:00",
          "2022-10-25T00:00:00",
          "2022-10-26T00:00:00",
          "2022-10-27T00:00:00",
          "2022-10-28T00:00:00",
          "2022-10-31T00:00:00",
          "2022-11-01T00:00:00",
          "2022-11-02T00:00:00",
          "2022-11-03T00:00:00",
          "2022-11-04T00:00:00",
          "2022-11-07T00:00:00",
          "2022-11-08T00:00:00",
          "2022-11-09T00:00:00",
          "2022-11-10T00:00:00",
          "2022-11-11T00:00:00",
          "2022-11-14T00:00:00",
          "2022-11-15T00:00:00",
          "2022-11-16T00:00:00",
          "2022-11-17T00:00:00",
          "2022-11-18T00:00:00",
          "2022-11-21T00:00:00",
          "2022-11-22T00:00:00",
          "2022-11-23T00:00:00",
          "2022-11-24T00:00:00",
          "2022-11-25T00:00:00",
          "2022-11-28T00:00:00",
          "2022-11-29T00:00:00",
          "2022-11-30T00:00:00",
          "2022-12-01T00:00:00",
          "2022-12-02T00:00:00",
          "2022-12-05T00:00:00",
          "2022-12-06T00:00:00",
          "2022-12-07T00:00:00",
          "2022-12-08T00:00:00",
          "2022-12-09T00:00:00",
          "2022-12-12T00:00:00",
          "2022-12-13T00:00:00",
          "2022-12-14T00:00:00",
          "2022-12-15T00:00:00",
          "2022-12-16T00:00:00",
          "2022-12-19T00:00:00",
          "2022-12-20T00:00:00",
          "2022-12-21T00:00:00",
          "2022-12-22T00:00:00",
          "2022-12-23T00:00:00",
          "2022-12-27T00:00:00",
          "2022-12-28T00:00:00",
          "2022-12-29T00:00:00",
          "2022-12-30T00:00:00"
         ],
         "y": [
          1.002309469307048,
          1.0004536007670797,
          0.999677514104034,
          0.9913525071073918,
          0.9905115453519936,
          0.9866137910169622,
          1.0007485829831164,
          1.000737560515969,
          0.9907427022344536,
          0.9850231965196717,
          0.9892512049656109,
          0.9937499461998628,
          0.9974825734794401,
          0.9886358363711603,
          0.9935364252648384,
          0.9900184736549388,
          0.9835361082376881,
          0.9857507843272695,
          0.9799520218249048,
          0.9714124441344624,
          0.9552357663732451,
          0.9531168282840287,
          0.9479036212268783,
          0.9397350282878497,
          0.9356501019630699,
          0.9389633506116629,
          0.9421335171390967,
          0.940481301801659,
          0.9384944233664546,
          0.9292514023202608,
          0.9232292511503781,
          0.9270201400420197,
          0.9314463429448547,
          0.9395731554846012,
          0.951143176809401,
          0.9599437245315399,
          0.9801831787073648,
          0.9864101378144317,
          0.9640297006150956,
          0.977297076904698,
          0.9887481605601849,
          0.9891246040572337,
          0.98549212376488,
          1.0117395573671126,
          0.9956619768343432,
          0.9830836622052619,
          0.9844497133003807,
          0.9938237442418106,
          0.9885258216514428,
          0.980173310974871,
          0.9875703312135904,
          0.9601627042121991,
          1.059963480991703,
          1.0262991867098858,
          1.0337304290847007,
          1.029390096449737,
          1.0267460690207997,
          1.052271478536947,
          1.0689698864098018,
          1.0730458897849864,
          1.066246602193282,
          1.0598743564716264,
          1.0552203559144144,
          1.0629321988100355,
          1.0641595767708538,
          1.0680441041453084,
          1.0685505077788175,
          1.0681630418146215,
          1.0665283574487419,
          1.0649070050193166,
          1.0578390841568517,
          1.0642795641989427,
          1.071334258100831,
          1.0732748421740168,
          1.0852543743973073,
          1.1188317486524773,
          1.1007595214695616,
          1.0919667419623644,
          1.0931456210677348,
          1.0923409809659839,
          1.095437454427347,
          1.095100586836151,
          1.099254797240142,
          1.0991909719065656,
          1.1025053752898122,
          1.1087851372633082,
          1.1294429203113416,
          1.110889798633172,
          1.1262827264922792,
          1.1293273418701117,
          1.1397295065566884,
          1.134379830858667,
          1.139009581988155,
          1.1422898682111837,
          1.1592303504577683,
          1.1531576009148858,
          1.161821575020276,
          1.1617984803272057,
          1.15362757791887,
          1.152336374624475,
          1.1502636259213994,
          1.1285160882880723,
          1.1168701694037728,
          1.128257427725683,
          1.1406507748584453,
          1.1370612297000273,
          1.1425881046794257,
          1.143614033931143,
          1.150454157139231,
          1.1350612292801237,
          1.1330193434850606,
          1.1420113672079293,
          1.1497463047966208,
          1.1407201639135343,
          1.1430240694990699,
          1.134858625836369,
          1.1302101890006695,
          1.1308552657684792,
          1.1301771215992278,
          1.1265413870546688,
          1.1316433196815703,
          1.1308629290075434,
          1.1284753576475661,
          1.1170264784855088,
          1.1130021232421001,
          1.1092827229230995,
          1.1076546520375083,
          1.111492990025822,
          1.113216798911778,
          1.114975774716728,
          1.1063172593569723,
          1.1017744282541315,
          1.0909386082172177,
          1.097166722058938,
          1.1038284912509955,
          1.1102039912248565,
          1.114554191592314,
          1.1173324831686926,
          1.1093597752172528,
          1.1147930117138383,
          1.1058956762325585,
          1.1045626925388814,
          1.0963367827706871,
          1.0860887226724172,
          1.0889540392513204,
          1.0953790878394054,
          1.0922827193539197,
          1.0893040288272158,
          1.0880183892543331,
          1.0849901501134054,
          1.083695692566805,
          1.0863463334760306,
          1.0795381229347307,
          1.0796702875646205,
          1.0819477392290027,
          1.0874118386336005,
          1.08171101862503,
          1.0880591198948393,
          1.1032219406302626,
          1.099089775160566,
          1.0997622506324272,
          1.095330693959835,
          1.0952436689573104,
          1.0963642864506165,
          1.1045075802031452,
          1.1153775174002767,
          1.1183738438744162,
          1.1125067420757384,
          1.1135569207551796,
          1.131539918442141,
          1.1436987494643607,
          1.1351194908921878,
          1.1404163637237799,
          1.1385946123440294,
          1.1317193222169477,
          1.1304743083086937,
          1.1317644618443128,
          1.1311105671027855,
          1.1278017274410512,
          1.1286966467975323,
          1.140115817786231,
          1.1438760537216153,
          1.1471815341552665,
          1.1674232978003984,
          1.1722016947725582,
          1.1790340497657044,
          1.1939943720332504,
          1.1913162274440956,
          1.181927919783313,
          1.2197530379494097,
          1.2420608318414512,
          1.224587492040204,
          1.2171960355229972,
          1.2111825973509547,
          1.2189000039680882,
          1.218030383798107,
          1.2235528497906467,
          1.2321728390033255,
          1.232612058075175,
          1.2339626777162875,
          1.2350942127008635,
          1.2411208778334826,
          1.243640508847472,
          1.2498861536607504,
          1.26309957234927,
          1.2577862183048958,
          1.2877189350659113,
          1.3368267555798352,
          1.3810527778821704,
          1.3789657524597423,
          1.406178544232321,
          1.581875095921708,
          1.4642552937760431,
          1.4739254616681632,
          1.5332625515982683,
          1.5792487044402066,
          1.6838575863652292,
          1.6751021782704552,
          1.7037183925505759,
          1.7012186019774516,
          1.7118672500246168,
          1.678272344797889,
          1.7053838348485901,
          1.7123395364979082,
          1.7246128962025815,
          1.7143539186130419,
          1.7796659205681127,
          1.8374950320165928,
          1.951888505540312,
          2.05346463436167,
          1.6876771336714536,
          1.5245225749575004,
          1.4946713194774972,
          1.4086893572725923,
          1.3462811980435017,
          1.4367607467480048,
          1.4697811189966659,
          1.5752364214227212,
          1,
          0.9719194189978676,
          0.9922307985803313,
          1.0168787365301895,
          1.0160972519203884,
          1.0264339821930504,
          1.02852095483142,
          1.029459087959053,
          0.990392705591134,
          1.0181532715650543,
          1.009031870093864,
          1.0088462149166182,
          1.0072372243088112,
          0.9991928363345703,
          0.9903834761995023,
          1.002814399382899,
          1.0030612699128048,
          1.0043694576953883,
          1.0028842162774196,
          0.9943974453546243,
          0.989812007338057,
          0.9817288182479764,
          0.9907462477971106,
          0.9994054890519638,
          1.0206629126691733,
          1.0221415616645477,
          1.0221066532172873,
          1.0207754861330902,
          1.0175350906806564,
          1.0136672849521926,
          1.0103906625679797,
          1.0118305104475143,
          1.0168234229653759,
          1.0173533909569668,
          1.0120662052514988,
          1.013783813869666,
          1.0166265292772312,
          1.0264089309871927,
          1.0273352605391333,
          1.0306869109709653,
          1.0328581410485858,
          1.0179136213075135,
          1.0146909940035953,
          1.0229539364830758,
          1.0270811069518855,
          1.0192915631996404,
          1.027963298664934,
          1.038888575312809,
          1.0662884415933647,
          1.0779820180058524,
          1.0615087468576905,
          1.0654930815036274,
          1.0615779359024402,
          1.05630588137645,
          1.0744195984059397,
          1.0770004376740754,
          1.074984537629768,
          1.0761484455350054,
          1.0743038229081914,
          1.0737672624940064,
          1.0718567156412508,
          1.072823102008573,
          1.0637972592725091,
          1.0766606453780807,
          1.069137121573753,
          1.0674576234366777,
          1.0607266971830955,
          1.0565468501185098,
          1.05496680338514,
          1.0537284324970773,
          1.0562360644819295,
          1.0500759164550446,
          1.0387075662238672,
          1.04649780061086,
          1.0414956587013668,
          1.0412237369656032,
          1.0393771052195224,
          1.040697724427569,
          1.04772826059181,
          1.0488171404494286,
          1.0488474655933617,
          1.0419315120123043,
          1.036959632461767,
          1.0287862213596124,
          1.022489829932449,
          1.0294130037858713,
          1.031389349294614,
          1.0358483383673283,
          1.0497493717892155,
          1.0624021770816374,
          1.0578562936006348,
          1.0528962804107669,
          1.0599597159030014,
          1.0710548259138966,
          1.1030795591766303,
          1.1074930919259336,
          1.1068334729566582,
          1.1200419252962996,
          1.1326288063627803,
          1.1479920391160452,
          1.1553721620327064,
          1.1517611468605282,
          1.1617752251359406,
          1.1573017955184963,
          1.1491638579283958,
          1.1660636902108865,
          1.1613295773685774,
          1.168359987962864,
          1.1858648162845646,
          1.2119256045738103,
          1.2061070696072556,
          1.1878003515582007,
          1.1833624582377877,
          1.185446166057349,
          1.185243998431129,
          1.2008659052899922,
          1.1972417052726259,
          1.1991061679521995,
          1.2026152203215885,
          1.205991168539553,
          1.2002550074629363,
          1.1477707848567908,
          1.1504483129896403,
          1.1479071538270238,
          1.1350554457271904,
          1.151569527110459,
          1.149373308611958,
          1.1524595669456434,
          1.1446634307708043,
          1.1525202172335094,
          1.1542976599348405,
          1.1371787080823164,
          1.1474989259060044,
          1.1430399368332902,
          1.164571165735576,
          1.1811273130534927,
          1.1798192508408636,
          1.1926411988615577,
          1.1916122786570569,
          1.1992997968215358,
          1.1917676086903701,
          1.199006842118448,
          1.203853591209651,
          1.2027719316243974,
          1.2069385938437949,
          1.1993234039729204,
          1.1986051438350458,
          1.2100611418942366,
          1.1981193136823471,
          1.203401288234717,
          1.2020944817216295,
          1.2104482740629545,
          1.2192121778746117,
          1.2104133656156943,
          1.2009324573657043,
          1.1987914896470397,
          1.201903489821331,
          1.199199717568059,
          1.1940777191373069,
          1.1832794564980786,
          1.187449509106239,
          1.1904870462977049,
          1.1917946062305174,
          1.1886391588520822,
          1.1978348977361433,
          1.2016316308705444,
          1.1922896029898709,
          1.188140771703966,
          1.1931034218628718,
          1.187745728628135,
          1.1989528470381532,
          1.2021371755060486,
          1.2070090385880865,
          1.214830791033577,
          1.1983570176055982,
          1.1981424185539151,
          1.2011450472981207,
          1.2043762133589229,
          1.2077910882626812,
          1.2018785014004503,
          1.1867253471805181,
          1.1872980717415051,
          1.1748072516899675,
          1.1674172087469268,
          1.1619161146245236,
          1.1832696620416532,
          1.194626083127184,
          1.1892368718339499,
          1.1967625303274985,
          1.2185932435704887,
          1.2101730247234055,
          1.1968638652805166,
          1.1849425049711575,
          1.18720916821395,
          1.1864533626597775,
          1.183099765893656,
          1.191812311594056,
          1.1914462751776391,
          1.202016126070225,
          1.2060715333102243,
          1.1956452088752592,
          1.1962410383078144,
          1.2042972298577475,
          1.2065244641349295,
          1.2205413358395423,
          1.2350105105190892,
          1.220847475387818,
          1.2166617265353863,
          1.2116095449991546,
          1.2072098249448104,
          1.2026836559466132,
          1.1944082192566925,
          1.2157281139261034,
          1.216455038390816,
          1.2305712359291803,
          1.2263038666065353,
          1.2401548604016845,
          1.258172516416231,
          1.2611482731902435,
          1.2683144249049922,
          1.2730617225924896,
          1.2677594057075436,
          1.2655875477801524,
          1.2528234875083324,
          1.2627644840704153,
          1.2754383851151385,
          1.2754996632527753,
          1.2694876249868388,
          1.26538801712297,
          1.266028549459211,
          1.2777537695001506,
          1.2908529759796608,
          1.2929892976100208,
          1.2869898163395015,
          1.283447864642119,
          1.2891643112359303,
          1.2953869303150167,
          1.2908286154085509,
          1.2920807989915728,
          1.299743328735171,
          1.3081062876831508,
          1.3042884587964485,
          1.297076348478472,
          1.30181975349739,
          1.3035163291482332,
          1.3025189270022302,
          1.30298102443359,
          1.3045347014765833,
          1.3038842491139626,
          1.3079745648012224,
          1.3125863725081663
         ]
        }
       ],
       "layout": {
        "template": {
         "data": {
          "bar": [
           {
            "error_x": {
             "color": "#2a3f5f"
            },
            "error_y": {
             "color": "#2a3f5f"
            },
            "marker": {
             "line": {
              "color": "#E5ECF6",
              "width": 0.5
             },
             "pattern": {
              "fillmode": "overlay",
              "size": 10,
              "solidity": 0.2
             }
            },
            "type": "bar"
           }
          ],
          "barpolar": [
           {
            "marker": {
             "line": {
              "color": "#E5ECF6",
              "width": 0.5
             },
             "pattern": {
              "fillmode": "overlay",
              "size": 10,
              "solidity": 0.2
             }
            },
            "type": "barpolar"
           }
          ],
          "carpet": [
           {
            "aaxis": {
             "endlinecolor": "#2a3f5f",
             "gridcolor": "white",
             "linecolor": "white",
             "minorgridcolor": "white",
             "startlinecolor": "#2a3f5f"
            },
            "baxis": {
             "endlinecolor": "#2a3f5f",
             "gridcolor": "white",
             "linecolor": "white",
             "minorgridcolor": "white",
             "startlinecolor": "#2a3f5f"
            },
            "type": "carpet"
           }
          ],
          "choropleth": [
           {
            "colorbar": {
             "outlinewidth": 0,
             "ticks": ""
            },
            "type": "choropleth"
           }
          ],
          "contour": [
           {
            "colorbar": {
             "outlinewidth": 0,
             "ticks": ""
            },
            "colorscale": [
             [
              0,
              "#0d0887"
             ],
             [
              0.1111111111111111,
              "#46039f"
             ],
             [
              0.2222222222222222,
              "#7201a8"
             ],
             [
              0.3333333333333333,
              "#9c179e"
             ],
             [
              0.4444444444444444,
              "#bd3786"
             ],
             [
              0.5555555555555556,
              "#d8576b"
             ],
             [
              0.6666666666666666,
              "#ed7953"
             ],
             [
              0.7777777777777778,
              "#fb9f3a"
             ],
             [
              0.8888888888888888,
              "#fdca26"
             ],
             [
              1,
              "#f0f921"
             ]
            ],
            "type": "contour"
           }
          ],
          "contourcarpet": [
           {
            "colorbar": {
             "outlinewidth": 0,
             "ticks": ""
            },
            "type": "contourcarpet"
           }
          ],
          "heatmap": [
           {
            "colorbar": {
             "outlinewidth": 0,
             "ticks": ""
            },
            "colorscale": [
             [
              0,
              "#0d0887"
             ],
             [
              0.1111111111111111,
              "#46039f"
             ],
             [
              0.2222222222222222,
              "#7201a8"
             ],
             [
              0.3333333333333333,
              "#9c179e"
             ],
             [
              0.4444444444444444,
              "#bd3786"
             ],
             [
              0.5555555555555556,
              "#d8576b"
             ],
             [
              0.6666666666666666,
              "#ed7953"
             ],
             [
              0.7777777777777778,
              "#fb9f3a"
             ],
             [
              0.8888888888888888,
              "#fdca26"
             ],
             [
              1,
              "#f0f921"
             ]
            ],
            "type": "heatmap"
           }
          ],
          "heatmapgl": [
           {
            "colorbar": {
             "outlinewidth": 0,
             "ticks": ""
            },
            "colorscale": [
             [
              0,
              "#0d0887"
             ],
             [
              0.1111111111111111,
              "#46039f"
             ],
             [
              0.2222222222222222,
              "#7201a8"
             ],
             [
              0.3333333333333333,
              "#9c179e"
             ],
             [
              0.4444444444444444,
              "#bd3786"
             ],
             [
              0.5555555555555556,
              "#d8576b"
             ],
             [
              0.6666666666666666,
              "#ed7953"
             ],
             [
              0.7777777777777778,
              "#fb9f3a"
             ],
             [
              0.8888888888888888,
              "#fdca26"
             ],
             [
              1,
              "#f0f921"
             ]
            ],
            "type": "heatmapgl"
           }
          ],
          "histogram": [
           {
            "marker": {
             "pattern": {
              "fillmode": "overlay",
              "size": 10,
              "solidity": 0.2
             }
            },
            "type": "histogram"
           }
          ],
          "histogram2d": [
           {
            "colorbar": {
             "outlinewidth": 0,
             "ticks": ""
            },
            "colorscale": [
             [
              0,
              "#0d0887"
             ],
             [
              0.1111111111111111,
              "#46039f"
             ],
             [
              0.2222222222222222,
              "#7201a8"
             ],
             [
              0.3333333333333333,
              "#9c179e"
             ],
             [
              0.4444444444444444,
              "#bd3786"
             ],
             [
              0.5555555555555556,
              "#d8576b"
             ],
             [
              0.6666666666666666,
              "#ed7953"
             ],
             [
              0.7777777777777778,
              "#fb9f3a"
             ],
             [
              0.8888888888888888,
              "#fdca26"
             ],
             [
              1,
              "#f0f921"
             ]
            ],
            "type": "histogram2d"
           }
          ],
          "histogram2dcontour": [
           {
            "colorbar": {
             "outlinewidth": 0,
             "ticks": ""
            },
            "colorscale": [
             [
              0,
              "#0d0887"
             ],
             [
              0.1111111111111111,
              "#46039f"
             ],
             [
              0.2222222222222222,
              "#7201a8"
             ],
             [
              0.3333333333333333,
              "#9c179e"
             ],
             [
              0.4444444444444444,
              "#bd3786"
             ],
             [
              0.5555555555555556,
              "#d8576b"
             ],
             [
              0.6666666666666666,
              "#ed7953"
             ],
             [
              0.7777777777777778,
              "#fb9f3a"
             ],
             [
              0.8888888888888888,
              "#fdca26"
             ],
             [
              1,
              "#f0f921"
             ]
            ],
            "type": "histogram2dcontour"
           }
          ],
          "mesh3d": [
           {
            "colorbar": {
             "outlinewidth": 0,
             "ticks": ""
            },
            "type": "mesh3d"
           }
          ],
          "parcoords": [
           {
            "line": {
             "colorbar": {
              "outlinewidth": 0,
              "ticks": ""
             }
            },
            "type": "parcoords"
           }
          ],
          "pie": [
           {
            "automargin": true,
            "type": "pie"
           }
          ],
          "scatter": [
           {
            "fillpattern": {
             "fillmode": "overlay",
             "size": 10,
             "solidity": 0.2
            },
            "type": "scatter"
           }
          ],
          "scatter3d": [
           {
            "line": {
             "colorbar": {
              "outlinewidth": 0,
              "ticks": ""
             }
            },
            "marker": {
             "colorbar": {
              "outlinewidth": 0,
              "ticks": ""
             }
            },
            "type": "scatter3d"
           }
          ],
          "scattercarpet": [
           {
            "marker": {
             "colorbar": {
              "outlinewidth": 0,
              "ticks": ""
             }
            },
            "type": "scattercarpet"
           }
          ],
          "scattergeo": [
           {
            "marker": {
             "colorbar": {
              "outlinewidth": 0,
              "ticks": ""
             }
            },
            "type": "scattergeo"
           }
          ],
          "scattergl": [
           {
            "marker": {
             "colorbar": {
              "outlinewidth": 0,
              "ticks": ""
             }
            },
            "type": "scattergl"
           }
          ],
          "scattermapbox": [
           {
            "marker": {
             "colorbar": {
              "outlinewidth": 0,
              "ticks": ""
             }
            },
            "type": "scattermapbox"
           }
          ],
          "scatterpolar": [
           {
            "marker": {
             "colorbar": {
              "outlinewidth": 0,
              "ticks": ""
             }
            },
            "type": "scatterpolar"
           }
          ],
          "scatterpolargl": [
           {
            "marker": {
             "colorbar": {
              "outlinewidth": 0,
              "ticks": ""
             }
            },
            "type": "scatterpolargl"
           }
          ],
          "scatterternary": [
           {
            "marker": {
             "colorbar": {
              "outlinewidth": 0,
              "ticks": ""
             }
            },
            "type": "scatterternary"
           }
          ],
          "surface": [
           {
            "colorbar": {
             "outlinewidth": 0,
             "ticks": ""
            },
            "colorscale": [
             [
              0,
              "#0d0887"
             ],
             [
              0.1111111111111111,
              "#46039f"
             ],
             [
              0.2222222222222222,
              "#7201a8"
             ],
             [
              0.3333333333333333,
              "#9c179e"
             ],
             [
              0.4444444444444444,
              "#bd3786"
             ],
             [
              0.5555555555555556,
              "#d8576b"
             ],
             [
              0.6666666666666666,
              "#ed7953"
             ],
             [
              0.7777777777777778,
              "#fb9f3a"
             ],
             [
              0.8888888888888888,
              "#fdca26"
             ],
             [
              1,
              "#f0f921"
             ]
            ],
            "type": "surface"
           }
          ],
          "table": [
           {
            "cells": {
             "fill": {
              "color": "#EBF0F8"
             },
             "line": {
              "color": "white"
             }
            },
            "header": {
             "fill": {
              "color": "#C8D4E3"
             },
             "line": {
              "color": "white"
             }
            },
            "type": "table"
           }
          ]
         },
         "layout": {
          "annotationdefaults": {
           "arrowcolor": "#2a3f5f",
           "arrowhead": 0,
           "arrowwidth": 1
          },
          "autotypenumbers": "strict",
          "coloraxis": {
           "colorbar": {
            "outlinewidth": 0,
            "ticks": ""
           }
          },
          "colorscale": {
           "diverging": [
            [
             0,
             "#8e0152"
            ],
            [
             0.1,
             "#c51b7d"
            ],
            [
             0.2,
             "#de77ae"
            ],
            [
             0.3,
             "#f1b6da"
            ],
            [
             0.4,
             "#fde0ef"
            ],
            [
             0.5,
             "#f7f7f7"
            ],
            [
             0.6,
             "#e6f5d0"
            ],
            [
             0.7,
             "#b8e186"
            ],
            [
             0.8,
             "#7fbc41"
            ],
            [
             0.9,
             "#4d9221"
            ],
            [
             1,
             "#276419"
            ]
           ],
           "sequential": [
            [
             0,
             "#0d0887"
            ],
            [
             0.1111111111111111,
             "#46039f"
            ],
            [
             0.2222222222222222,
             "#7201a8"
            ],
            [
             0.3333333333333333,
             "#9c179e"
            ],
            [
             0.4444444444444444,
             "#bd3786"
            ],
            [
             0.5555555555555556,
             "#d8576b"
            ],
            [
             0.6666666666666666,
             "#ed7953"
            ],
            [
             0.7777777777777778,
             "#fb9f3a"
            ],
            [
             0.8888888888888888,
             "#fdca26"
            ],
            [
             1,
             "#f0f921"
            ]
           ],
           "sequentialminus": [
            [
             0,
             "#0d0887"
            ],
            [
             0.1111111111111111,
             "#46039f"
            ],
            [
             0.2222222222222222,
             "#7201a8"
            ],
            [
             0.3333333333333333,
             "#9c179e"
            ],
            [
             0.4444444444444444,
             "#bd3786"
            ],
            [
             0.5555555555555556,
             "#d8576b"
            ],
            [
             0.6666666666666666,
             "#ed7953"
            ],
            [
             0.7777777777777778,
             "#fb9f3a"
            ],
            [
             0.8888888888888888,
             "#fdca26"
            ],
            [
             1,
             "#f0f921"
            ]
           ]
          },
          "colorway": [
           "#636efa",
           "#EF553B",
           "#00cc96",
           "#ab63fa",
           "#FFA15A",
           "#19d3f3",
           "#FF6692",
           "#B6E880",
           "#FF97FF",
           "#FECB52"
          ],
          "font": {
           "color": "#2a3f5f"
          },
          "geo": {
           "bgcolor": "white",
           "lakecolor": "white",
           "landcolor": "#E5ECF6",
           "showlakes": true,
           "showland": true,
           "subunitcolor": "white"
          },
          "hoverlabel": {
           "align": "left"
          },
          "hovermode": "closest",
          "mapbox": {
           "style": "light"
          },
          "paper_bgcolor": "white",
          "plot_bgcolor": "#E5ECF6",
          "polar": {
           "angularaxis": {
            "gridcolor": "white",
            "linecolor": "white",
            "ticks": ""
           },
           "bgcolor": "#E5ECF6",
           "radialaxis": {
            "gridcolor": "white",
            "linecolor": "white",
            "ticks": ""
           }
          },
          "scene": {
           "xaxis": {
            "backgroundcolor": "#E5ECF6",
            "gridcolor": "white",
            "gridwidth": 2,
            "linecolor": "white",
            "showbackground": true,
            "ticks": "",
            "zerolinecolor": "white"
           },
           "yaxis": {
            "backgroundcolor": "#E5ECF6",
            "gridcolor": "white",
            "gridwidth": 2,
            "linecolor": "white",
            "showbackground": true,
            "ticks": "",
            "zerolinecolor": "white"
           },
           "zaxis": {
            "backgroundcolor": "#E5ECF6",
            "gridcolor": "white",
            "gridwidth": 2,
            "linecolor": "white",
            "showbackground": true,
            "ticks": "",
            "zerolinecolor": "white"
           }
          },
          "shapedefaults": {
           "line": {
            "color": "#2a3f5f"
           }
          },
          "ternary": {
           "aaxis": {
            "gridcolor": "white",
            "linecolor": "white",
            "ticks": ""
           },
           "baxis": {
            "gridcolor": "white",
            "linecolor": "white",
            "ticks": ""
           },
           "bgcolor": "#E5ECF6",
           "caxis": {
            "gridcolor": "white",
            "linecolor": "white",
            "ticks": ""
           }
          },
          "title": {
           "x": 0.05
          },
          "xaxis": {
           "automargin": true,
           "gridcolor": "white",
           "linecolor": "white",
           "ticks": "",
           "title": {
            "standoff": 15
           },
           "zerolinecolor": "white",
           "zerolinewidth": 2
          },
          "yaxis": {
           "automargin": true,
           "gridcolor": "white",
           "linecolor": "white",
           "ticks": "",
           "title": {
            "standoff": 15
           },
           "zerolinecolor": "white",
           "zerolinewidth": 2
          }
         }
        }
       }
      },
      "text/html": [
       "<div>                            <div id=\"a47e6a42-003c-438d-9375-401cf8c1fef6\" class=\"plotly-graph-div\" style=\"height:525px; width:100%;\"></div>            <script type=\"text/javascript\">                require([\"plotly\"], function(Plotly) {                    window.PLOTLYENV=window.PLOTLYENV || {};                                    if (document.getElementById(\"a47e6a42-003c-438d-9375-401cf8c1fef6\")) {                    Plotly.newPlot(                        \"a47e6a42-003c-438d-9375-401cf8c1fef6\",                        [{\"name\":\"Normalize BIST30\",\"x\":[\"2021-01-04T00:00:00\",\"2021-01-05T00:00:00\",\"2021-01-06T00:00:00\",\"2021-01-07T00:00:00\",\"2021-01-08T00:00:00\",\"2021-01-11T00:00:00\",\"2021-01-12T00:00:00\",\"2021-01-13T00:00:00\",\"2021-01-14T00:00:00\",\"2021-01-15T00:00:00\",\"2021-01-18T00:00:00\",\"2021-01-19T00:00:00\",\"2021-01-20T00:00:00\",\"2021-01-21T00:00:00\",\"2021-01-25T00:00:00\",\"2021-01-26T00:00:00\",\"2021-01-27T00:00:00\",\"2021-01-28T00:00:00\",\"2021-01-29T00:00:00\",\"2021-02-01T00:00:00\",\"2021-02-02T00:00:00\",\"2021-02-03T00:00:00\",\"2021-02-04T00:00:00\",\"2021-02-05T00:00:00\",\"2021-02-08T00:00:00\",\"2021-02-09T00:00:00\",\"2021-02-10T00:00:00\",\"2021-02-11T00:00:00\",\"2021-02-12T00:00:00\",\"2021-02-16T00:00:00\",\"2021-02-18T00:00:00\",\"2021-02-19T00:00:00\",\"2021-02-22T00:00:00\",\"2021-02-23T00:00:00\",\"2021-02-24T00:00:00\",\"2021-02-25T00:00:00\",\"2021-02-26T00:00:00\",\"2021-03-01T00:00:00\",\"2021-03-02T00:00:00\",\"2021-03-03T00:00:00\",\"2021-03-04T00:00:00\",\"2021-03-05T00:00:00\",\"2021-03-08T00:00:00\",\"2021-03-09T00:00:00\",\"2021-03-10T00:00:00\",\"2021-03-11T00:00:00\",\"2021-03-12T00:00:00\",\"2021-03-15T00:00:00\",\"2021-03-16T00:00:00\",\"2021-03-17T00:00:00\",\"2021-03-18T00:00:00\",\"2021-03-19T00:00:00\",\"2021-03-22T00:00:00\",\"2021-03-23T00:00:00\",\"2021-03-24T00:00:00\",\"2021-03-25T00:00:00\",\"2021-03-26T00:00:00\",\"2021-03-29T00:00:00\",\"2021-03-30T00:00:00\",\"2021-03-31T00:00:00\",\"2021-04-01T00:00:00\",\"2021-04-05T00:00:00\",\"2021-04-06T00:00:00\",\"2021-04-07T00:00:00\",\"2021-04-08T00:00:00\",\"2021-04-09T00:00:00\",\"2021-04-12T00:00:00\",\"2021-04-13T00:00:00\",\"2021-04-14T00:00:00\",\"2021-04-15T00:00:00\",\"2021-04-16T00:00:00\",\"2021-04-19T00:00:00\",\"2021-04-20T00:00:00\",\"2021-04-21T00:00:00\",\"2021-04-22T00:00:00\",\"2021-04-26T00:00:00\",\"2021-04-27T00:00:00\",\"2021-04-28T00:00:00\",\"2021-04-29T00:00:00\",\"2021-04-30T00:00:00\",\"2021-05-03T00:00:00\",\"2021-05-04T00:00:00\",\"2021-05-06T00:00:00\",\"2021-05-07T00:00:00\",\"2021-05-10T00:00:00\",\"2021-05-12T00:00:00\",\"2021-05-17T00:00:00\",\"2021-05-18T00:00:00\",\"2021-05-21T00:00:00\",\"2021-05-24T00:00:00\",\"2021-05-26T00:00:00\",\"2021-05-27T00:00:00\",\"2021-05-28T00:00:00\",\"2021-06-01T00:00:00\",\"2021-06-02T00:00:00\",\"2021-06-03T00:00:00\",\"2021-06-04T00:00:00\",\"2021-06-07T00:00:00\",\"2021-06-08T00:00:00\",\"2021-06-09T00:00:00\",\"2021-06-10T00:00:00\",\"2021-06-11T00:00:00\",\"2021-06-14T00:00:00\",\"2021-06-15T00:00:00\",\"2021-06-16T00:00:00\",\"2021-06-17T00:00:00\",\"2021-06-18T00:00:00\",\"2021-06-21T00:00:00\",\"2021-06-22T00:00:00\",\"2021-06-23T00:00:00\",\"2021-06-24T00:00:00\",\"2021-06-25T00:00:00\",\"2021-06-28T00:00:00\",\"2021-06-29T00:00:00\",\"2021-06-30T00:00:00\",\"2021-07-01T00:00:00\",\"2021-07-02T00:00:00\",\"2021-07-06T00:00:00\",\"2021-07-07T00:00:00\",\"2021-07-08T00:00:00\",\"2021-07-09T00:00:00\",\"2021-07-12T00:00:00\",\"2021-07-13T00:00:00\",\"2021-07-14T00:00:00\",\"2021-07-16T00:00:00\",\"2021-07-19T00:00:00\",\"2021-07-26T00:00:00\",\"2021-07-27T00:00:00\",\"2021-07-28T00:00:00\",\"2021-07-29T00:00:00\",\"2021-07-30T00:00:00\",\"2021-08-02T00:00:00\",\"2021-08-03T00:00:00\",\"2021-08-04T00:00:00\",\"2021-08-05T00:00:00\",\"2021-08-06T00:00:00\",\"2021-08-09T00:00:00\",\"2021-08-10T00:00:00\",\"2021-08-11T00:00:00\",\"2021-08-12T00:00:00\",\"2021-08-13T00:00:00\",\"2021-08-16T00:00:00\",\"2021-08-17T00:00:00\",\"2021-08-18T00:00:00\",\"2021-08-19T00:00:00\",\"2021-08-20T00:00:00\",\"2021-08-23T00:00:00\",\"2021-08-24T00:00:00\",\"2021-08-25T00:00:00\",\"2021-08-26T00:00:00\",\"2021-08-27T00:00:00\",\"2021-08-31T00:00:00\",\"2021-09-01T00:00:00\",\"2021-09-02T00:00:00\",\"2021-09-03T00:00:00\",\"2021-09-06T00:00:00\",\"2021-09-07T00:00:00\",\"2021-09-08T00:00:00\",\"2021-09-09T00:00:00\",\"2021-09-10T00:00:00\",\"2021-09-13T00:00:00\",\"2021-09-14T00:00:00\",\"2021-09-15T00:00:00\",\"2021-09-16T00:00:00\",\"2021-09-17T00:00:00\",\"2021-09-20T00:00:00\",\"2021-09-21T00:00:00\",\"2021-09-22T00:00:00\",\"2021-09-23T00:00:00\",\"2021-09-24T00:00:00\",\"2021-09-27T00:00:00\",\"2021-09-28T00:00:00\",\"2021-09-29T00:00:00\",\"2021-09-30T00:00:00\",\"2021-10-01T00:00:00\",\"2021-10-04T00:00:00\",\"2021-10-05T00:00:00\",\"2021-10-06T00:00:00\",\"2021-10-07T00:00:00\",\"2021-10-08T00:00:00\",\"2021-10-11T00:00:00\",\"2021-10-12T00:00:00\",\"2021-10-13T00:00:00\",\"2021-10-14T00:00:00\",\"2021-10-15T00:00:00\",\"2021-10-18T00:00:00\",\"2021-10-19T00:00:00\",\"2021-10-20T00:00:00\",\"2021-10-21T00:00:00\",\"2021-10-22T00:00:00\",\"2021-10-25T00:00:00\",\"2021-10-26T00:00:00\",\"2021-10-27T00:00:00\",\"2021-10-28T00:00:00\",\"2021-11-01T00:00:00\",\"2021-11-02T00:00:00\",\"2021-11-03T00:00:00\",\"2021-11-04T00:00:00\",\"2021-11-05T00:00:00\",\"2021-11-08T00:00:00\",\"2021-11-09T00:00:00\",\"2021-11-10T00:00:00\",\"2021-11-11T00:00:00\",\"2021-11-12T00:00:00\",\"2021-11-15T00:00:00\",\"2021-11-16T00:00:00\",\"2021-11-17T00:00:00\",\"2021-11-18T00:00:00\",\"2021-11-19T00:00:00\",\"2021-11-22T00:00:00\",\"2021-11-23T00:00:00\",\"2021-11-24T00:00:00\",\"2021-11-25T00:00:00\",\"2021-11-26T00:00:00\",\"2021-11-29T00:00:00\",\"2021-11-30T00:00:00\",\"2021-12-01T00:00:00\",\"2021-12-02T00:00:00\",\"2021-12-03T00:00:00\",\"2021-12-06T00:00:00\",\"2021-12-07T00:00:00\",\"2021-12-08T00:00:00\",\"2021-12-09T00:00:00\",\"2021-12-10T00:00:00\",\"2021-12-13T00:00:00\",\"2021-12-14T00:00:00\",\"2021-12-15T00:00:00\",\"2021-12-16T00:00:00\",\"2021-12-17T00:00:00\",\"2021-12-20T00:00:00\",\"2021-12-21T00:00:00\",\"2021-12-22T00:00:00\",\"2021-12-23T00:00:00\",\"2021-12-24T00:00:00\",\"2021-12-27T00:00:00\",\"2021-12-28T00:00:00\",\"2021-12-29T00:00:00\",\"2021-12-30T00:00:00\",\"2022-01-03T00:00:00\",\"2022-01-04T00:00:00\",\"2022-01-05T00:00:00\",\"2022-01-06T00:00:00\",\"2022-01-07T00:00:00\",\"2022-01-10T00:00:00\",\"2022-01-11T00:00:00\",\"2022-01-12T00:00:00\",\"2022-01-13T00:00:00\",\"2022-01-14T00:00:00\",\"2022-01-17T00:00:00\",\"2022-01-18T00:00:00\",\"2022-01-19T00:00:00\",\"2022-01-20T00:00:00\",\"2022-01-21T00:00:00\",\"2022-01-24T00:00:00\",\"2022-01-25T00:00:00\",\"2022-01-26T00:00:00\",\"2022-01-27T00:00:00\",\"2022-01-28T00:00:00\",\"2022-01-31T00:00:00\",\"2022-02-01T00:00:00\",\"2022-02-02T00:00:00\",\"2022-02-03T00:00:00\",\"2022-02-04T00:00:00\",\"2022-02-07T00:00:00\",\"2022-02-08T00:00:00\",\"2022-02-09T00:00:00\",\"2022-02-10T00:00:00\",\"2022-02-11T00:00:00\",\"2022-02-14T00:00:00\",\"2022-02-15T00:00:00\",\"2022-02-16T00:00:00\",\"2022-02-17T00:00:00\",\"2022-02-18T00:00:00\",\"2022-02-21T00:00:00\",\"2022-02-22T00:00:00\",\"2022-02-23T00:00:00\",\"2022-02-24T00:00:00\",\"2022-02-25T00:00:00\",\"2022-02-28T00:00:00\",\"2022-03-01T00:00:00\",\"2022-03-02T00:00:00\",\"2022-03-03T00:00:00\",\"2022-03-04T00:00:00\",\"2022-03-07T00:00:00\",\"2022-03-08T00:00:00\",\"2022-03-09T00:00:00\",\"2022-03-10T00:00:00\",\"2022-03-11T00:00:00\",\"2022-03-14T00:00:00\",\"2022-03-15T00:00:00\",\"2022-03-16T00:00:00\",\"2022-03-17T00:00:00\",\"2022-03-18T00:00:00\",\"2022-03-21T00:00:00\",\"2022-03-22T00:00:00\",\"2022-03-23T00:00:00\",\"2022-03-24T00:00:00\",\"2022-03-25T00:00:00\",\"2022-03-28T00:00:00\",\"2022-03-29T00:00:00\",\"2022-03-30T00:00:00\",\"2022-03-31T00:00:00\",\"2022-04-01T00:00:00\",\"2022-04-04T00:00:00\",\"2022-04-05T00:00:00\",\"2022-04-06T00:00:00\",\"2022-04-07T00:00:00\",\"2022-04-08T00:00:00\",\"2022-04-11T00:00:00\",\"2022-04-12T00:00:00\",\"2022-04-13T00:00:00\",\"2022-04-14T00:00:00\",\"2022-04-15T00:00:00\",\"2022-04-18T00:00:00\",\"2022-04-19T00:00:00\",\"2022-04-20T00:00:00\",\"2022-04-21T00:00:00\",\"2022-04-22T00:00:00\",\"2022-04-25T00:00:00\",\"2022-04-26T00:00:00\",\"2022-04-27T00:00:00\",\"2022-04-28T00:00:00\",\"2022-04-29T00:00:00\",\"2022-05-05T00:00:00\",\"2022-05-06T00:00:00\",\"2022-05-09T00:00:00\",\"2022-05-10T00:00:00\",\"2022-05-11T00:00:00\",\"2022-05-12T00:00:00\",\"2022-05-13T00:00:00\",\"2022-05-16T00:00:00\",\"2022-05-17T00:00:00\",\"2022-05-18T00:00:00\",\"2022-05-20T00:00:00\",\"2022-05-23T00:00:00\",\"2022-05-24T00:00:00\",\"2022-05-25T00:00:00\",\"2022-05-26T00:00:00\",\"2022-05-27T00:00:00\",\"2022-05-30T00:00:00\",\"2022-05-31T00:00:00\",\"2022-06-01T00:00:00\",\"2022-06-02T00:00:00\",\"2022-06-03T00:00:00\",\"2022-06-06T00:00:00\",\"2022-06-07T00:00:00\",\"2022-06-08T00:00:00\",\"2022-06-09T00:00:00\",\"2022-06-10T00:00:00\",\"2022-06-13T00:00:00\",\"2022-06-14T00:00:00\",\"2022-06-15T00:00:00\",\"2022-06-16T00:00:00\",\"2022-06-17T00:00:00\",\"2022-06-20T00:00:00\",\"2022-06-21T00:00:00\",\"2022-06-22T00:00:00\",\"2022-06-23T00:00:00\",\"2022-06-24T00:00:00\",\"2022-06-27T00:00:00\",\"2022-06-28T00:00:00\",\"2022-06-29T00:00:00\",\"2022-06-30T00:00:00\",\"2022-07-01T00:00:00\",\"2022-07-04T00:00:00\",\"2022-07-05T00:00:00\",\"2022-07-06T00:00:00\",\"2022-07-07T00:00:00\",\"2022-07-08T00:00:00\",\"2022-07-13T00:00:00\",\"2022-07-14T00:00:00\",\"2022-07-18T00:00:00\",\"2022-07-19T00:00:00\",\"2022-07-20T00:00:00\",\"2022-07-21T00:00:00\",\"2022-07-22T00:00:00\",\"2022-07-25T00:00:00\",\"2022-07-26T00:00:00\",\"2022-07-27T00:00:00\",\"2022-07-28T00:00:00\",\"2022-07-29T00:00:00\",\"2022-08-01T00:00:00\",\"2022-08-02T00:00:00\",\"2022-08-03T00:00:00\",\"2022-08-04T00:00:00\",\"2022-08-05T00:00:00\",\"2022-08-08T00:00:00\",\"2022-08-09T00:00:00\",\"2022-08-10T00:00:00\",\"2022-08-11T00:00:00\",\"2022-08-12T00:00:00\",\"2022-08-15T00:00:00\",\"2022-08-16T00:00:00\",\"2022-08-17T00:00:00\",\"2022-08-18T00:00:00\",\"2022-08-19T00:00:00\",\"2022-08-22T00:00:00\",\"2022-08-23T00:00:00\",\"2022-08-24T00:00:00\",\"2022-08-25T00:00:00\",\"2022-08-26T00:00:00\",\"2022-08-29T00:00:00\",\"2022-08-31T00:00:00\",\"2022-09-01T00:00:00\",\"2022-09-02T00:00:00\",\"2022-09-05T00:00:00\",\"2022-09-06T00:00:00\",\"2022-09-07T00:00:00\",\"2022-09-08T00:00:00\",\"2022-09-09T00:00:00\",\"2022-09-12T00:00:00\",\"2022-09-13T00:00:00\",\"2022-09-14T00:00:00\",\"2022-09-15T00:00:00\",\"2022-09-16T00:00:00\",\"2022-09-19T00:00:00\",\"2022-09-20T00:00:00\",\"2022-09-21T00:00:00\",\"2022-09-22T00:00:00\",\"2022-09-23T00:00:00\",\"2022-09-26T00:00:00\",\"2022-09-27T00:00:00\",\"2022-09-28T00:00:00\",\"2022-09-29T00:00:00\",\"2022-09-30T00:00:00\",\"2022-10-03T00:00:00\",\"2022-10-04T00:00:00\",\"2022-10-05T00:00:00\",\"2022-10-06T00:00:00\",\"2022-10-07T00:00:00\",\"2022-10-10T00:00:00\",\"2022-10-11T00:00:00\",\"2022-10-12T00:00:00\",\"2022-10-13T00:00:00\",\"2022-10-14T00:00:00\",\"2022-10-17T00:00:00\",\"2022-10-18T00:00:00\",\"2022-10-19T00:00:00\",\"2022-10-20T00:00:00\",\"2022-10-21T00:00:00\",\"2022-10-24T00:00:00\",\"2022-10-25T00:00:00\",\"2022-10-26T00:00:00\",\"2022-10-27T00:00:00\",\"2022-10-28T00:00:00\",\"2022-10-31T00:00:00\",\"2022-11-01T00:00:00\",\"2022-11-02T00:00:00\",\"2022-11-03T00:00:00\",\"2022-11-04T00:00:00\",\"2022-11-07T00:00:00\",\"2022-11-08T00:00:00\",\"2022-11-09T00:00:00\",\"2022-11-10T00:00:00\",\"2022-11-11T00:00:00\",\"2022-11-14T00:00:00\",\"2022-11-15T00:00:00\",\"2022-11-16T00:00:00\",\"2022-11-17T00:00:00\",\"2022-11-18T00:00:00\",\"2022-11-21T00:00:00\",\"2022-11-22T00:00:00\",\"2022-11-23T00:00:00\",\"2022-11-24T00:00:00\",\"2022-11-25T00:00:00\",\"2022-11-28T00:00:00\",\"2022-11-29T00:00:00\",\"2022-11-30T00:00:00\",\"2022-12-01T00:00:00\",\"2022-12-02T00:00:00\",\"2022-12-05T00:00:00\",\"2022-12-06T00:00:00\",\"2022-12-07T00:00:00\",\"2022-12-08T00:00:00\",\"2022-12-09T00:00:00\",\"2022-12-12T00:00:00\",\"2022-12-13T00:00:00\",\"2022-12-14T00:00:00\",\"2022-12-15T00:00:00\",\"2022-12-16T00:00:00\",\"2022-12-19T00:00:00\",\"2022-12-20T00:00:00\",\"2022-12-21T00:00:00\",\"2022-12-22T00:00:00\",\"2022-12-23T00:00:00\",\"2022-12-27T00:00:00\",\"2022-12-28T00:00:00\",\"2022-12-29T00:00:00\",\"2022-12-30T00:00:00\"],\"y\":[1.0,0.9924375341427978,1.0029039425778423,1.0153063865836538,1.0251073866459113,1.015790413939397,1.0205094221751734,1.0270433483644728,1.0170004084765494,1.0005445123121597,1.0180288742922465,1.0225058688501514,1.0231713510751441,1.007683435770035,0.9904410136156142,0.9903200437027813,0.9529916679203079,0.9691451393026151,0.951297719879618,0.9586181720589485,0.9696896516147748,0.9854800655541718,0.984754024520557,0.9782200983312577,0.9833020901577387,0.9940709972270713,0.9960675177542548,0.9923770491863814,0.9851775669198837,0.9814870983520102,0.9715651283769198,0.9814870983520102,0.9710206160647601,0.9615221884889964,0.9426462293980964,0.9523261856953152,0.9413757499045275,0.9734406051390648,0.9769496188376888,0.9760421229348246,0.9831205614362836,0.9868110300041572,0.9776151010626816,0.989715046434205,0.997822024603567,0.991288024562062,0.9918325368742217,0.9867505450477406,0.9933450300456621,0.9851775669198837,0.9835440299834046,0.9625506543046937,0.8668401159568251,0.8595195899252889,0.8758545161768456,0.8652670639767626,0.8600641022374486,0.8662956036446654,0.8662956036446654,0.8655695626110507,0.8859580148733911,0.8909794478912499,0.8790610312411816,0.8797265134661743,0.8782140202947338,0.86665858723537,0.8557686364009989,0.8604270858281532,0.8809969929597431,0.8867444670112168,0.8832355271647984,0.8675660831382342,0.8607295844624412,0.8452416691573323,0.8546796117766795,0.8738580695018676,0.8828119847654716,0.8770645107139979,0.8866839820548003,0.8814205353590698,0.8974529629763384,0.894488461589874,0.9031399520713956,0.9132433769157354,0.9284287935865563,0.9140903878621832,0.9230443031257872,0.9266138017808278,0.920442859182233,0.9232258318472423,0.9129408782814473,0.9009619028227569,0.9116703987878785,0.9229233332129543,0.9215318099543468,0.9209268126857706,0.9244358263843947,0.9353257772187659,0.9362937580780466,0.9377457662930705,0.9434932403445442,0.9448847636031517,0.9444612212038249,0.9391977745080945,0.9330267580572941,0.9228023633001212,0.907979930220005,0.9160868345371612,0.9228023633001212,0.9149978837650474,0.9211688263636422,0.9088268673142471,0.8994494096513164,0.8972109492984668,0.8850505189705269,0.8949724889456172,0.8978764315234595,0.9003569055541807,0.9067093768742305,0.8949119301369951,0.9005989192320523,0.8875914779576645,0.882146502540479,0.8949119301369951,0.8894669547198095,0.8787585326068935,0.8750075790826035,0.8834169820340478,0.8831750422083818,0.9074354179078453,0.907979930220005,0.9097949220257335,0.9164498919800714,0.9168733605271925,0.9312117662515655,0.9342973114030686,0.9306673277916115,0.9356887608094704,0.9176598865172237,0.9436747690659992,0.9450057335159846,0.9502086952552986,0.9549881884474914,0.9453687171066892,0.9384112485180631,0.9423437307638083,0.9537177089539226,0.9587997007804037,0.9506927226110418,0.9474257225902893,0.9522657007388987,0.9609171912204203,0.9601306652303889,0.9629741228518147,0.9545647199003704,0.9580131747903724,0.9429487280323845,0.9295783031672922,0.9404077690452468,0.929396774445837,0.9302437853922848,0.927400327770859,0.9183858536986329,0.916510376936488,0.9193538345579136,0.9019904424906597,0.8982999739227862,0.9145743413657208,0.9064674370485646,0.894488461589874,0.9007804479535074,0.8946699903113291,0.9007804479535074,0.9106418591199756,0.9067699356828526,0.9012039165006285,0.9007199629970909,0.8877125217227031,0.9073143741428067,0.9072538891863902,0.9212898701286808,0.9223788209007946,0.9197773769572404,0.9189908509672091,0.9170548892486476,0.9216528537193854,0.9290337908551325,0.932603289510173,0.9482122485803206,0.9646076597882938,0.972593594192617,0.9834835450269882,0.9893520628435004,0.9895940026691664,1.0004839535035375,0.9992739589663852,1.010405923478628,1.0320648552345373,1.0389012800581245,1.057232726836865,1.064190195425491,1.0702401681112528,1.0691511434869334,1.0770766667870457,1.1251739496388515,1.1153124646201777,1.1303769113781656,1.1539113198962199,1.1479218321668747,1.156089295292653,1.1767196873806594,1.192570586276473,1.1931150985886327,1.1582067857326697,1.1807731395392376,1.175388722930674,1.208240030303037,1.2220339975674561,1.2395788445039595,1.2550062748526518,1.296993173914485,1.313751568713163,1.3357129991033603,1.3386170155334083,1.3881662327480324,1.4331779704483354,1.4435840416313745,1.5294330949605692,1.39070719173517,1.3789097449979346,1.2641417926899168,1.1987416027272733,1.2006775644458347,1.2625083296056432,1.2640812338812946,1.2298989620589462,1.262205830971355,1.234315397808229,1.0,1.022517184166864,1.0487319501436951,1.0521925089624318,1.069732210313463,1.0754207621029865,1.0799241989363593,1.0894051185855653,1.0945721735008296,1.0913013025154066,1.0958047393487793,1.0380184646465396,1.073240104290116,1.0569329687870348,1.053756768117445,0.996871250222209,1.019009290190211,1.0217586643013747,1.0475468351875445,1.0367385636406732,1.0441337272606068,1.050959943114482,1.0457928881992178,1.0210950462194832,1.0129888136258591,1.04617203239808,1.054041242000474,1.0748518143369281,1.0720075384421663,1.080777389117682,1.0552738078484238,1.0759421432433633,1.0753733112111874,1.058497227942048,1.0707276374363002,1.0752785251614718,1.0654183455795212,1.0651813225882911,0.9813226345846172,1.0340838598453426,1.0364067545997275,1.0502488741407916,1.060488313655487,1.081915168915916,1.0605830997052026,1.0639014215824247,1.0705854004947855,1.085517848942285,1.0858971088750295,1.0913013025154066,1.1107845229541953,1.1050959711646717,1.1090780268576677,1.1371888610304575,1.139606541834558,1.1550130362645177,1.1580468842587106,1.1525005694107016,1.1471912775539228,1.143778169626985,1.1377103579047168,1.1594216870481748,1.1740696616126451,1.1743066846038752,1.1854467651916925,1.2216164968001897,1.2278738806218892,1.2196728619785495,1.2339891432359564,1.2622422143502607,1.2948091501985068,1.3035790008740222,1.3063284907190684,1.3140080124881488,1.3215927482075136,1.3297937668508533,1.335719341631607,1.3374732886199336,1.3569566247926048,1.3108793784442403,1.3187484723127518,1.281915122622363,1.3013510079032353,1.2831476884703128,1.2820099086720786,1.3008296267628585,1.2924863711780044,1.2961365020961721,1.3131548223068263,1.2968950219616615,1.2616733823180848,1.271391324958521,1.2545152416893814,1.2568854716016828,1.258592083432093,1.2475942397857904,1.2537093866659754,1.2479260488267363,1.2753732649176346,1.295378097964565,1.2844275894761792,1.3346764636169708,1.3451529261228965,1.3533538290323537,1.3750178230178953,1.3698506523687486,1.3947855173397132,1.3910879355297463,1.3303625988830292,1.3454372842720432,1.324863734926819,1.310120858578751,1.3068973227512444,1.3171367622659398,1.2891680493007822,1.3162361211928182,1.3203128472016472,1.34216641328662,1.3374732886199336,1.315145792286383,1.3192699691870111,1.3055700865874615,1.283337260569744,1.2342735013851032,1.2368807542886346,1.2589238924730386,1.2359326623237141,1.2177766780487083,1.2346053104260488,1.2386821521687603,1.241336855964091,1.2156909220194358,1.1978667467853756,1.2392509842009363,1.2653235132362526,1.2798293665930909,1.2716757988415501,1.2729082489556174,1.2910642332306235,1.2804929846749822,1.2827684285375682,1.2789760606778857,1.3086039345816545,1.3434937651842853,1.3427826962105949,1.3640198636377103,1.3849253377577626,1.4013747102023584,1.4276369270709883,1.420478786442285,1.4464090785360868,1.4704431867000474,1.4633799478549419,1.4538042421560204,1.4909220657294382,1.5308840494637355,1.5592320223616378,1.5544442273791184,1.573927447817907,1.6116615543153,1.5762976777302087,1.6210002370229912,1.6255984599060795,1.640578359245378,1.6375443955173026,1.6120408142480445,1.656411448765999,1.7393694956965513,1.7553922730504858,1.767385659553508,1.7853046208372838,1.8327092190833136,1.908082530294501,1.7767243422611994,1.785778666819744,1.7314055000444417,1.7387532127725764,1.631049988704373,1.689073286397843,1.6684996213187366,1.6977956861815595,1.6855652766873075,1.674567433041005,1.687556246666864,1.653946432803982,1.6309077517628585,1.6390614352482815,1.76349850564411,1.7964447014251008,1.8122777909457217,1.851765844431441,1.8560322582735838,1.8585920602853163,1.8535197914197676,1.8218061614867267,1.8410998098260845,1.873761531724046,1.99976297700877,1.9996208558011377,2.018866937514814,2.026214650242949,2.037876227705025,2.0621000237022993,2.0625740696847594,2.058260204950818,2.0308129888599193,1.9969187011140082,2.0528561270443233,2.093292156761081,2.0945247226090307,2.1056173523050488,2.1732638065892393,2.246029864896895,2.260156342587106,2.255747807537331,2.3152405783360988,2.292533822069803,2.347286133043968,2.4019435422345343,2.415738326617682,2.3314055926315476,2.3315951647309787,2.3443469553656078,2.457549274857786,2.496705287834795,2.490542690062811,2.4959469994370704,2.522493574454847,2.5481392769317375,2.542972222016473,2.5757762965898316,2.5189382295863947,2.5214031298145296,2.5439203139813937,2.4557952121355773,2.465418252992415,2.5388953802737615,2.6464091479764162,2.677790853134629,2.576345012888125,2.6407205961868927,2.646456598868215,2.7516948069744016,2.7730740956091493,2.7783835031998105,2.788907416597535,2.7898555085624555,2.785826117711543,2.7444417645621,2.8040768880362643,2.8181084639428775],\"type\":\"bar\"},{\"name\":\"Normalize EUR/TRY\",\"x\":[\"2021-01-04T00:00:00\",\"2021-01-05T00:00:00\",\"2021-01-06T00:00:00\",\"2021-01-07T00:00:00\",\"2021-01-08T00:00:00\",\"2021-01-11T00:00:00\",\"2021-01-12T00:00:00\",\"2021-01-13T00:00:00\",\"2021-01-14T00:00:00\",\"2021-01-15T00:00:00\",\"2021-01-18T00:00:00\",\"2021-01-19T00:00:00\",\"2021-01-20T00:00:00\",\"2021-01-21T00:00:00\",\"2021-01-25T00:00:00\",\"2021-01-26T00:00:00\",\"2021-01-27T00:00:00\",\"2021-01-28T00:00:00\",\"2021-01-29T00:00:00\",\"2021-02-01T00:00:00\",\"2021-02-02T00:00:00\",\"2021-02-03T00:00:00\",\"2021-02-04T00:00:00\",\"2021-02-05T00:00:00\",\"2021-02-08T00:00:00\",\"2021-02-09T00:00:00\",\"2021-02-10T00:00:00\",\"2021-02-11T00:00:00\",\"2021-02-12T00:00:00\",\"2021-02-16T00:00:00\",\"2021-02-18T00:00:00\",\"2021-02-19T00:00:00\",\"2021-02-22T00:00:00\",\"2021-02-23T00:00:00\",\"2021-02-24T00:00:00\",\"2021-02-25T00:00:00\",\"2021-02-26T00:00:00\",\"2021-03-01T00:00:00\",\"2021-03-02T00:00:00\",\"2021-03-03T00:00:00\",\"2021-03-04T00:00:00\",\"2021-03-05T00:00:00\",\"2021-03-08T00:00:00\",\"2021-03-09T00:00:00\",\"2021-03-10T00:00:00\",\"2021-03-11T00:00:00\",\"2021-03-12T00:00:00\",\"2021-03-15T00:00:00\",\"2021-03-16T00:00:00\",\"2021-03-17T00:00:00\",\"2021-03-18T00:00:00\",\"2021-03-19T00:00:00\",\"2021-03-22T00:00:00\",\"2021-03-23T00:00:00\",\"2021-03-24T00:00:00\",\"2021-03-25T00:00:00\",\"2021-03-26T00:00:00\",\"2021-03-29T00:00:00\",\"2021-03-30T00:00:00\",\"2021-03-31T00:00:00\",\"2021-04-01T00:00:00\",\"2021-04-05T00:00:00\",\"2021-04-06T00:00:00\",\"2021-04-07T00:00:00\",\"2021-04-08T00:00:00\",\"2021-04-09T00:00:00\",\"2021-04-12T00:00:00\",\"2021-04-13T00:00:00\",\"2021-04-14T00:00:00\",\"2021-04-15T00:00:00\",\"2021-04-16T00:00:00\",\"2021-04-19T00:00:00\",\"2021-04-20T00:00:00\",\"2021-04-21T00:00:00\",\"2021-04-22T00:00:00\",\"2021-04-26T00:00:00\",\"2021-04-27T00:00:00\",\"2021-04-28T00:00:00\",\"2021-04-29T00:00:00\",\"2021-04-30T00:00:00\",\"2021-05-03T00:00:00\",\"2021-05-04T00:00:00\",\"2021-05-06T00:00:00\",\"2021-05-07T00:00:00\",\"2021-05-10T00:00:00\",\"2021-05-12T00:00:00\",\"2021-05-17T00:00:00\",\"2021-05-18T00:00:00\",\"2021-05-21T00:00:00\",\"2021-05-24T00:00:00\",\"2021-05-26T00:00:00\",\"2021-05-27T00:00:00\",\"2021-05-28T00:00:00\",\"2021-06-01T00:00:00\",\"2021-06-02T00:00:00\",\"2021-06-03T00:00:00\",\"2021-06-04T00:00:00\",\"2021-06-07T00:00:00\",\"2021-06-08T00:00:00\",\"2021-06-09T00:00:00\",\"2021-06-10T00:00:00\",\"2021-06-11T00:00:00\",\"2021-06-14T00:00:00\",\"2021-06-15T00:00:00\",\"2021-06-16T00:00:00\",\"2021-06-17T00:00:00\",\"2021-06-18T00:00:00\",\"2021-06-21T00:00:00\",\"2021-06-22T00:00:00\",\"2021-06-23T00:00:00\",\"2021-06-24T00:00:00\",\"2021-06-25T00:00:00\",\"2021-06-28T00:00:00\",\"2021-06-29T00:00:00\",\"2021-06-30T00:00:00\",\"2021-07-01T00:00:00\",\"2021-07-02T00:00:00\",\"2021-07-06T00:00:00\",\"2021-07-07T00:00:00\",\"2021-07-08T00:00:00\",\"2021-07-09T00:00:00\",\"2021-07-12T00:00:00\",\"2021-07-13T00:00:00\",\"2021-07-14T00:00:00\",\"2021-07-16T00:00:00\",\"2021-07-19T00:00:00\",\"2021-07-26T00:00:00\",\"2021-07-27T00:00:00\",\"2021-07-28T00:00:00\",\"2021-07-29T00:00:00\",\"2021-07-30T00:00:00\",\"2021-08-02T00:00:00\",\"2021-08-03T00:00:00\",\"2021-08-04T00:00:00\",\"2021-08-05T00:00:00\",\"2021-08-06T00:00:00\",\"2021-08-09T00:00:00\",\"2021-08-10T00:00:00\",\"2021-08-11T00:00:00\",\"2021-08-12T00:00:00\",\"2021-08-13T00:00:00\",\"2021-08-16T00:00:00\",\"2021-08-17T00:00:00\",\"2021-08-18T00:00:00\",\"2021-08-19T00:00:00\",\"2021-08-20T00:00:00\",\"2021-08-23T00:00:00\",\"2021-08-24T00:00:00\",\"2021-08-25T00:00:00\",\"2021-08-26T00:00:00\",\"2021-08-27T00:00:00\",\"2021-08-31T00:00:00\",\"2021-09-01T00:00:00\",\"2021-09-02T00:00:00\",\"2021-09-03T00:00:00\",\"2021-09-06T00:00:00\",\"2021-09-07T00:00:00\",\"2021-09-08T00:00:00\",\"2021-09-09T00:00:00\",\"2021-09-10T00:00:00\",\"2021-09-13T00:00:00\",\"2021-09-14T00:00:00\",\"2021-09-15T00:00:00\",\"2021-09-16T00:00:00\",\"2021-09-17T00:00:00\",\"2021-09-20T00:00:00\",\"2021-09-21T00:00:00\",\"2021-09-22T00:00:00\",\"2021-09-23T00:00:00\",\"2021-09-24T00:00:00\",\"2021-09-27T00:00:00\",\"2021-09-28T00:00:00\",\"2021-09-29T00:00:00\",\"2021-09-30T00:00:00\",\"2021-10-01T00:00:00\",\"2021-10-04T00:00:00\",\"2021-10-05T00:00:00\",\"2021-10-06T00:00:00\",\"2021-10-07T00:00:00\",\"2021-10-08T00:00:00\",\"2021-10-11T00:00:00\",\"2021-10-12T00:00:00\",\"2021-10-13T00:00:00\",\"2021-10-14T00:00:00\",\"2021-10-15T00:00:00\",\"2021-10-18T00:00:00\",\"2021-10-19T00:00:00\",\"2021-10-20T00:00:00\",\"2021-10-21T00:00:00\",\"2021-10-22T00:00:00\",\"2021-10-25T00:00:00\",\"2021-10-26T00:00:00\",\"2021-10-27T00:00:00\",\"2021-10-28T00:00:00\",\"2021-11-01T00:00:00\",\"2021-11-02T00:00:00\",\"2021-11-03T00:00:00\",\"2021-11-04T00:00:00\",\"2021-11-05T00:00:00\",\"2021-11-08T00:00:00\",\"2021-11-09T00:00:00\",\"2021-11-10T00:00:00\",\"2021-11-11T00:00:00\",\"2021-11-12T00:00:00\",\"2021-11-15T00:00:00\",\"2021-11-16T00:00:00\",\"2021-11-17T00:00:00\",\"2021-11-18T00:00:00\",\"2021-11-19T00:00:00\",\"2021-11-22T00:00:00\",\"2021-11-23T00:00:00\",\"2021-11-24T00:00:00\",\"2021-11-25T00:00:00\",\"2021-11-26T00:00:00\",\"2021-11-29T00:00:00\",\"2021-11-30T00:00:00\",\"2021-12-01T00:00:00\",\"2021-12-02T00:00:00\",\"2021-12-03T00:00:00\",\"2021-12-06T00:00:00\",\"2021-12-07T00:00:00\",\"2021-12-08T00:00:00\",\"2021-12-09T00:00:00\",\"2021-12-10T00:00:00\",\"2021-12-13T00:00:00\",\"2021-12-14T00:00:00\",\"2021-12-15T00:00:00\",\"2021-12-16T00:00:00\",\"2021-12-17T00:00:00\",\"2021-12-20T00:00:00\",\"2021-12-21T00:00:00\",\"2021-12-22T00:00:00\",\"2021-12-23T00:00:00\",\"2021-12-24T00:00:00\",\"2021-12-27T00:00:00\",\"2021-12-28T00:00:00\",\"2021-12-29T00:00:00\",\"2021-12-30T00:00:00\",\"2022-01-03T00:00:00\",\"2022-01-04T00:00:00\",\"2022-01-05T00:00:00\",\"2022-01-06T00:00:00\",\"2022-01-07T00:00:00\",\"2022-01-10T00:00:00\",\"2022-01-11T00:00:00\",\"2022-01-12T00:00:00\",\"2022-01-13T00:00:00\",\"2022-01-14T00:00:00\",\"2022-01-17T00:00:00\",\"2022-01-18T00:00:00\",\"2022-01-19T00:00:00\",\"2022-01-20T00:00:00\",\"2022-01-21T00:00:00\",\"2022-01-24T00:00:00\",\"2022-01-25T00:00:00\",\"2022-01-26T00:00:00\",\"2022-01-27T00:00:00\",\"2022-01-28T00:00:00\",\"2022-01-31T00:00:00\",\"2022-02-01T00:00:00\",\"2022-02-02T00:00:00\",\"2022-02-03T00:00:00\",\"2022-02-04T00:00:00\",\"2022-02-07T00:00:00\",\"2022-02-08T00:00:00\",\"2022-02-09T00:00:00\",\"2022-02-10T00:00:00\",\"2022-02-11T00:00:00\",\"2022-02-14T00:00:00\",\"2022-02-15T00:00:00\",\"2022-02-16T00:00:00\",\"2022-02-17T00:00:00\",\"2022-02-18T00:00:00\",\"2022-02-21T00:00:00\",\"2022-02-22T00:00:00\",\"2022-02-23T00:00:00\",\"2022-02-24T00:00:00\",\"2022-02-25T00:00:00\",\"2022-02-28T00:00:00\",\"2022-03-01T00:00:00\",\"2022-03-02T00:00:00\",\"2022-03-03T00:00:00\",\"2022-03-04T00:00:00\",\"2022-03-07T00:00:00\",\"2022-03-08T00:00:00\",\"2022-03-09T00:00:00\",\"2022-03-10T00:00:00\",\"2022-03-11T00:00:00\",\"2022-03-14T00:00:00\",\"2022-03-15T00:00:00\",\"2022-03-16T00:00:00\",\"2022-03-17T00:00:00\",\"2022-03-18T00:00:00\",\"2022-03-21T00:00:00\",\"2022-03-22T00:00:00\",\"2022-03-23T00:00:00\",\"2022-03-24T00:00:00\",\"2022-03-25T00:00:00\",\"2022-03-28T00:00:00\",\"2022-03-29T00:00:00\",\"2022-03-30T00:00:00\",\"2022-03-31T00:00:00\",\"2022-04-01T00:00:00\",\"2022-04-04T00:00:00\",\"2022-04-05T00:00:00\",\"2022-04-06T00:00:00\",\"2022-04-07T00:00:00\",\"2022-04-08T00:00:00\",\"2022-04-11T00:00:00\",\"2022-04-12T00:00:00\",\"2022-04-13T00:00:00\",\"2022-04-14T00:00:00\",\"2022-04-15T00:00:00\",\"2022-04-18T00:00:00\",\"2022-04-19T00:00:00\",\"2022-04-20T00:00:00\",\"2022-04-21T00:00:00\",\"2022-04-22T00:00:00\",\"2022-04-25T00:00:00\",\"2022-04-26T00:00:00\",\"2022-04-27T00:00:00\",\"2022-04-28T00:00:00\",\"2022-04-29T00:00:00\",\"2022-05-05T00:00:00\",\"2022-05-06T00:00:00\",\"2022-05-09T00:00:00\",\"2022-05-10T00:00:00\",\"2022-05-11T00:00:00\",\"2022-05-12T00:00:00\",\"2022-05-13T00:00:00\",\"2022-05-16T00:00:00\",\"2022-05-17T00:00:00\",\"2022-05-18T00:00:00\",\"2022-05-20T00:00:00\",\"2022-05-23T00:00:00\",\"2022-05-24T00:00:00\",\"2022-05-25T00:00:00\",\"2022-05-26T00:00:00\",\"2022-05-27T00:00:00\",\"2022-05-30T00:00:00\",\"2022-05-31T00:00:00\",\"2022-06-01T00:00:00\",\"2022-06-02T00:00:00\",\"2022-06-03T00:00:00\",\"2022-06-06T00:00:00\",\"2022-06-07T00:00:00\",\"2022-06-08T00:00:00\",\"2022-06-09T00:00:00\",\"2022-06-10T00:00:00\",\"2022-06-13T00:00:00\",\"2022-06-14T00:00:00\",\"2022-06-15T00:00:00\",\"2022-06-16T00:00:00\",\"2022-06-17T00:00:00\",\"2022-06-20T00:00:00\",\"2022-06-21T00:00:00\",\"2022-06-22T00:00:00\",\"2022-06-23T00:00:00\",\"2022-06-24T00:00:00\",\"2022-06-27T00:00:00\",\"2022-06-28T00:00:00\",\"2022-06-29T00:00:00\",\"2022-06-30T00:00:00\",\"2022-07-01T00:00:00\",\"2022-07-04T00:00:00\",\"2022-07-05T00:00:00\",\"2022-07-06T00:00:00\",\"2022-07-07T00:00:00\",\"2022-07-08T00:00:00\",\"2022-07-13T00:00:00\",\"2022-07-14T00:00:00\",\"2022-07-18T00:00:00\",\"2022-07-19T00:00:00\",\"2022-07-20T00:00:00\",\"2022-07-21T00:00:00\",\"2022-07-22T00:00:00\",\"2022-07-25T00:00:00\",\"2022-07-26T00:00:00\",\"2022-07-27T00:00:00\",\"2022-07-28T00:00:00\",\"2022-07-29T00:00:00\",\"2022-08-01T00:00:00\",\"2022-08-02T00:00:00\",\"2022-08-03T00:00:00\",\"2022-08-04T00:00:00\",\"2022-08-05T00:00:00\",\"2022-08-08T00:00:00\",\"2022-08-09T00:00:00\",\"2022-08-10T00:00:00\",\"2022-08-11T00:00:00\",\"2022-08-12T00:00:00\",\"2022-08-15T00:00:00\",\"2022-08-16T00:00:00\",\"2022-08-17T00:00:00\",\"2022-08-18T00:00:00\",\"2022-08-19T00:00:00\",\"2022-08-22T00:00:00\",\"2022-08-23T00:00:00\",\"2022-08-24T00:00:00\",\"2022-08-25T00:00:00\",\"2022-08-26T00:00:00\",\"2022-08-29T00:00:00\",\"2022-08-31T00:00:00\",\"2022-09-01T00:00:00\",\"2022-09-02T00:00:00\",\"2022-09-05T00:00:00\",\"2022-09-06T00:00:00\",\"2022-09-07T00:00:00\",\"2022-09-08T00:00:00\",\"2022-09-09T00:00:00\",\"2022-09-12T00:00:00\",\"2022-09-13T00:00:00\",\"2022-09-14T00:00:00\",\"2022-09-15T00:00:00\",\"2022-09-16T00:00:00\",\"2022-09-19T00:00:00\",\"2022-09-20T00:00:00\",\"2022-09-21T00:00:00\",\"2022-09-22T00:00:00\",\"2022-09-23T00:00:00\",\"2022-09-26T00:00:00\",\"2022-09-27T00:00:00\",\"2022-09-28T00:00:00\",\"2022-09-29T00:00:00\",\"2022-09-30T00:00:00\",\"2022-10-03T00:00:00\",\"2022-10-04T00:00:00\",\"2022-10-05T00:00:00\",\"2022-10-06T00:00:00\",\"2022-10-07T00:00:00\",\"2022-10-10T00:00:00\",\"2022-10-11T00:00:00\",\"2022-10-12T00:00:00\",\"2022-10-13T00:00:00\",\"2022-10-14T00:00:00\",\"2022-10-17T00:00:00\",\"2022-10-18T00:00:00\",\"2022-10-19T00:00:00\",\"2022-10-20T00:00:00\",\"2022-10-21T00:00:00\",\"2022-10-24T00:00:00\",\"2022-10-25T00:00:00\",\"2022-10-26T00:00:00\",\"2022-10-27T00:00:00\",\"2022-10-28T00:00:00\",\"2022-10-31T00:00:00\",\"2022-11-01T00:00:00\",\"2022-11-02T00:00:00\",\"2022-11-03T00:00:00\",\"2022-11-04T00:00:00\",\"2022-11-07T00:00:00\",\"2022-11-08T00:00:00\",\"2022-11-09T00:00:00\",\"2022-11-10T00:00:00\",\"2022-11-11T00:00:00\",\"2022-11-14T00:00:00\",\"2022-11-15T00:00:00\",\"2022-11-16T00:00:00\",\"2022-11-17T00:00:00\",\"2022-11-18T00:00:00\",\"2022-11-21T00:00:00\",\"2022-11-22T00:00:00\",\"2022-11-23T00:00:00\",\"2022-11-24T00:00:00\",\"2022-11-25T00:00:00\",\"2022-11-28T00:00:00\",\"2022-11-29T00:00:00\",\"2022-11-30T00:00:00\",\"2022-12-01T00:00:00\",\"2022-12-02T00:00:00\",\"2022-12-05T00:00:00\",\"2022-12-06T00:00:00\",\"2022-12-07T00:00:00\",\"2022-12-08T00:00:00\",\"2022-12-09T00:00:00\",\"2022-12-12T00:00:00\",\"2022-12-13T00:00:00\",\"2022-12-14T00:00:00\",\"2022-12-15T00:00:00\",\"2022-12-16T00:00:00\",\"2022-12-19T00:00:00\",\"2022-12-20T00:00:00\",\"2022-12-21T00:00:00\",\"2022-12-22T00:00:00\",\"2022-12-23T00:00:00\",\"2022-12-27T00:00:00\",\"2022-12-28T00:00:00\",\"2022-12-29T00:00:00\",\"2022-12-30T00:00:00\"],\"y\":[1.002309469307048,1.0004536007670797,0.999677514104034,0.9913525071073918,0.9905115453519936,0.9866137910169622,1.0007485829831164,1.000737560515969,0.9907427022344536,0.9850231965196717,0.9892512049656109,0.9937499461998628,0.9974825734794401,0.9886358363711603,0.9935364252648384,0.9900184736549388,0.9835361082376881,0.9857507843272695,0.9799520218249048,0.9714124441344624,0.9552357663732451,0.9531168282840287,0.9479036212268783,0.9397350282878497,0.9356501019630699,0.9389633506116629,0.9421335171390967,0.940481301801659,0.9384944233664546,0.9292514023202608,0.9232292511503781,0.9270201400420197,0.9314463429448547,0.9395731554846012,0.951143176809401,0.9599437245315399,0.9801831787073648,0.9864101378144317,0.9640297006150956,0.977297076904698,0.9887481605601849,0.9891246040572337,0.98549212376488,1.0117395573671126,0.9956619768343432,0.9830836622052619,0.9844497133003807,0.9938237442418106,0.9885258216514428,0.980173310974871,0.9875703312135904,0.9601627042121991,1.059963480991703,1.0262991867098858,1.0337304290847007,1.029390096449737,1.0267460690207997,1.052271478536947,1.0689698864098018,1.0730458897849864,1.066246602193282,1.0598743564716264,1.0552203559144144,1.0629321988100355,1.0641595767708538,1.0680441041453084,1.0685505077788175,1.0681630418146215,1.0665283574487419,1.0649070050193166,1.0578390841568517,1.0642795641989427,1.071334258100831,1.0732748421740168,1.0852543743973073,1.1188317486524773,1.1007595214695616,1.0919667419623644,1.0931456210677348,1.0923409809659839,1.095437454427347,1.095100586836151,1.099254797240142,1.0991909719065656,1.1025053752898122,1.1087851372633082,1.1294429203113416,1.110889798633172,1.1262827264922792,1.1293273418701117,1.1397295065566884,1.134379830858667,1.139009581988155,1.1422898682111837,1.1592303504577683,1.1531576009148858,1.161821575020276,1.1617984803272057,1.15362757791887,1.152336374624475,1.1502636259213994,1.1285160882880723,1.1168701694037728,1.128257427725683,1.1406507748584453,1.1370612297000273,1.1425881046794257,1.143614033931143,1.150454157139231,1.1350612292801237,1.1330193434850606,1.1420113672079293,1.1497463047966208,1.1407201639135343,1.1430240694990699,1.134858625836369,1.1302101890006695,1.1308552657684792,1.1301771215992278,1.1265413870546688,1.1316433196815703,1.1308629290075434,1.1284753576475661,1.1170264784855088,1.1130021232421001,1.1092827229230995,1.1076546520375083,1.111492990025822,1.113216798911778,1.114975774716728,1.1063172593569723,1.1017744282541315,1.0909386082172177,1.097166722058938,1.1038284912509955,1.1102039912248565,1.114554191592314,1.1173324831686926,1.1093597752172528,1.1147930117138383,1.1058956762325585,1.1045626925388814,1.0963367827706871,1.0860887226724172,1.0889540392513204,1.0953790878394054,1.0922827193539197,1.0893040288272158,1.0880183892543331,1.0849901501134054,1.083695692566805,1.0863463334760306,1.0795381229347307,1.0796702875646205,1.0819477392290027,1.0874118386336005,1.08171101862503,1.0880591198948393,1.1032219406302626,1.099089775160566,1.0997622506324272,1.095330693959835,1.0952436689573104,1.0963642864506165,1.1045075802031452,1.1153775174002767,1.1183738438744162,1.1125067420757384,1.1135569207551796,1.131539918442141,1.1436987494643607,1.1351194908921878,1.1404163637237799,1.1385946123440294,1.1317193222169477,1.1304743083086937,1.1317644618443128,1.1311105671027855,1.1278017274410512,1.1286966467975323,1.140115817786231,1.1438760537216153,1.1471815341552665,1.1674232978003984,1.1722016947725582,1.1790340497657044,1.1939943720332504,1.1913162274440956,1.181927919783313,1.2197530379494097,1.2420608318414512,1.224587492040204,1.2171960355229972,1.2111825973509547,1.2189000039680882,1.218030383798107,1.2235528497906467,1.2321728390033255,1.232612058075175,1.2339626777162875,1.2350942127008635,1.2411208778334826,1.243640508847472,1.2498861536607504,1.26309957234927,1.2577862183048958,1.2877189350659113,1.3368267555798352,1.3810527778821704,1.3789657524597423,1.406178544232321,1.581875095921708,1.4642552937760431,1.4739254616681632,1.5332625515982683,1.5792487044402066,1.6838575863652292,1.6751021782704552,1.7037183925505759,1.7012186019774516,1.7118672500246168,1.678272344797889,1.7053838348485901,1.7123395364979082,1.7246128962025815,1.7143539186130419,1.7796659205681127,1.8374950320165928,1.951888505540312,2.05346463436167,1.6876771336714536,1.5245225749575004,1.4946713194774972,1.4086893572725923,1.3462811980435017,1.4367607467480048,1.4697811189966659,1.5752364214227212,1.0,0.9719194189978676,0.9922307985803313,1.0168787365301895,1.0160972519203884,1.0264339821930504,1.02852095483142,1.029459087959053,0.990392705591134,1.0181532715650543,1.009031870093864,1.0088462149166182,1.0072372243088112,0.9991928363345703,0.9903834761995023,1.002814399382899,1.0030612699128048,1.0043694576953883,1.0028842162774196,0.9943974453546243,0.989812007338057,0.9817288182479764,0.9907462477971106,0.9994054890519638,1.0206629126691733,1.0221415616645477,1.0221066532172873,1.0207754861330902,1.0175350906806564,1.0136672849521926,1.0103906625679797,1.0118305104475143,1.0168234229653759,1.0173533909569668,1.0120662052514988,1.013783813869666,1.0166265292772312,1.0264089309871927,1.0273352605391333,1.0306869109709653,1.0328581410485858,1.0179136213075135,1.0146909940035953,1.0229539364830758,1.0270811069518855,1.0192915631996404,1.027963298664934,1.038888575312809,1.0662884415933647,1.0779820180058524,1.0615087468576905,1.0654930815036274,1.0615779359024402,1.05630588137645,1.0744195984059397,1.0770004376740754,1.074984537629768,1.0761484455350054,1.0743038229081914,1.0737672624940064,1.0718567156412508,1.072823102008573,1.0637972592725091,1.0766606453780807,1.069137121573753,1.0674576234366777,1.0607266971830955,1.0565468501185098,1.05496680338514,1.0537284324970773,1.0562360644819295,1.0500759164550446,1.0387075662238672,1.04649780061086,1.0414956587013668,1.0412237369656032,1.0393771052195224,1.040697724427569,1.04772826059181,1.0488171404494286,1.0488474655933617,1.0419315120123043,1.036959632461767,1.0287862213596124,1.022489829932449,1.0294130037858713,1.031389349294614,1.0358483383673283,1.0497493717892155,1.0624021770816374,1.0578562936006348,1.0528962804107669,1.0599597159030014,1.0710548259138966,1.1030795591766303,1.1074930919259336,1.1068334729566582,1.1200419252962996,1.1326288063627803,1.1479920391160452,1.1553721620327064,1.1517611468605282,1.1617752251359406,1.1573017955184963,1.1491638579283958,1.1660636902108865,1.1613295773685774,1.168359987962864,1.1858648162845646,1.2119256045738103,1.2061070696072556,1.1878003515582007,1.1833624582377877,1.185446166057349,1.185243998431129,1.2008659052899922,1.1972417052726259,1.1991061679521995,1.2026152203215885,1.205991168539553,1.2002550074629363,1.1477707848567908,1.1504483129896403,1.1479071538270238,1.1350554457271904,1.151569527110459,1.149373308611958,1.1524595669456434,1.1446634307708043,1.1525202172335094,1.1542976599348405,1.1371787080823164,1.1474989259060044,1.1430399368332902,1.164571165735576,1.1811273130534927,1.1798192508408636,1.1926411988615577,1.1916122786570569,1.1992997968215358,1.1917676086903701,1.199006842118448,1.203853591209651,1.2027719316243974,1.2069385938437949,1.1993234039729204,1.1986051438350458,1.2100611418942366,1.1981193136823471,1.203401288234717,1.2020944817216295,1.2104482740629545,1.2192121778746117,1.2104133656156943,1.2009324573657043,1.1987914896470397,1.201903489821331,1.199199717568059,1.1940777191373069,1.1832794564980786,1.187449509106239,1.1904870462977049,1.1917946062305174,1.1886391588520822,1.1978348977361433,1.2016316308705444,1.1922896029898709,1.188140771703966,1.1931034218628718,1.187745728628135,1.1989528470381532,1.2021371755060486,1.2070090385880865,1.214830791033577,1.1983570176055982,1.1981424185539151,1.2011450472981207,1.2043762133589229,1.2077910882626812,1.2018785014004503,1.1867253471805181,1.1872980717415051,1.1748072516899675,1.1674172087469268,1.1619161146245236,1.1832696620416532,1.194626083127184,1.1892368718339499,1.1967625303274985,1.2185932435704887,1.2101730247234055,1.1968638652805166,1.1849425049711575,1.18720916821395,1.1864533626597775,1.183099765893656,1.191812311594056,1.1914462751776391,1.202016126070225,1.2060715333102243,1.1956452088752592,1.1962410383078144,1.2042972298577475,1.2065244641349295,1.2205413358395423,1.2350105105190892,1.220847475387818,1.2166617265353863,1.2116095449991546,1.2072098249448104,1.2026836559466132,1.1944082192566925,1.2157281139261034,1.216455038390816,1.2305712359291803,1.2263038666065353,1.2401548604016845,1.258172516416231,1.2611482731902435,1.2683144249049922,1.2730617225924896,1.2677594057075436,1.2655875477801524,1.2528234875083324,1.2627644840704153,1.2754383851151385,1.2754996632527753,1.2694876249868388,1.26538801712297,1.266028549459211,1.2777537695001506,1.2908529759796608,1.2929892976100208,1.2869898163395015,1.283447864642119,1.2891643112359303,1.2953869303150167,1.2908286154085509,1.2920807989915728,1.299743328735171,1.3081062876831508,1.3042884587964485,1.297076348478472,1.30181975349739,1.3035163291482332,1.3025189270022302,1.30298102443359,1.3045347014765833,1.3038842491139626,1.3079745648012224,1.3125863725081663],\"type\":\"scatter\"}],                        {\"template\":{\"data\":{\"histogram2dcontour\":[{\"type\":\"histogram2dcontour\",\"colorbar\":{\"outlinewidth\":0,\"ticks\":\"\"},\"colorscale\":[[0.0,\"#0d0887\"],[0.1111111111111111,\"#46039f\"],[0.2222222222222222,\"#7201a8\"],[0.3333333333333333,\"#9c179e\"],[0.4444444444444444,\"#bd3786\"],[0.5555555555555556,\"#d8576b\"],[0.6666666666666666,\"#ed7953\"],[0.7777777777777778,\"#fb9f3a\"],[0.8888888888888888,\"#fdca26\"],[1.0,\"#f0f921\"]]}],\"choropleth\":[{\"type\":\"choropleth\",\"colorbar\":{\"outlinewidth\":0,\"ticks\":\"\"}}],\"histogram2d\":[{\"type\":\"histogram2d\",\"colorbar\":{\"outlinewidth\":0,\"ticks\":\"\"},\"colorscale\":[[0.0,\"#0d0887\"],[0.1111111111111111,\"#46039f\"],[0.2222222222222222,\"#7201a8\"],[0.3333333333333333,\"#9c179e\"],[0.4444444444444444,\"#bd3786\"],[0.5555555555555556,\"#d8576b\"],[0.6666666666666666,\"#ed7953\"],[0.7777777777777778,\"#fb9f3a\"],[0.8888888888888888,\"#fdca26\"],[1.0,\"#f0f921\"]]}],\"heatmap\":[{\"type\":\"heatmap\",\"colorbar\":{\"outlinewidth\":0,\"ticks\":\"\"},\"colorscale\":[[0.0,\"#0d0887\"],[0.1111111111111111,\"#46039f\"],[0.2222222222222222,\"#7201a8\"],[0.3333333333333333,\"#9c179e\"],[0.4444444444444444,\"#bd3786\"],[0.5555555555555556,\"#d8576b\"],[0.6666666666666666,\"#ed7953\"],[0.7777777777777778,\"#fb9f3a\"],[0.8888888888888888,\"#fdca26\"],[1.0,\"#f0f921\"]]}],\"heatmapgl\":[{\"type\":\"heatmapgl\",\"colorbar\":{\"outlinewidth\":0,\"ticks\":\"\"},\"colorscale\":[[0.0,\"#0d0887\"],[0.1111111111111111,\"#46039f\"],[0.2222222222222222,\"#7201a8\"],[0.3333333333333333,\"#9c179e\"],[0.4444444444444444,\"#bd3786\"],[0.5555555555555556,\"#d8576b\"],[0.6666666666666666,\"#ed7953\"],[0.7777777777777778,\"#fb9f3a\"],[0.8888888888888888,\"#fdca26\"],[1.0,\"#f0f921\"]]}],\"contourcarpet\":[{\"type\":\"contourcarpet\",\"colorbar\":{\"outlinewidth\":0,\"ticks\":\"\"}}],\"contour\":[{\"type\":\"contour\",\"colorbar\":{\"outlinewidth\":0,\"ticks\":\"\"},\"colorscale\":[[0.0,\"#0d0887\"],[0.1111111111111111,\"#46039f\"],[0.2222222222222222,\"#7201a8\"],[0.3333333333333333,\"#9c179e\"],[0.4444444444444444,\"#bd3786\"],[0.5555555555555556,\"#d8576b\"],[0.6666666666666666,\"#ed7953\"],[0.7777777777777778,\"#fb9f3a\"],[0.8888888888888888,\"#fdca26\"],[1.0,\"#f0f921\"]]}],\"surface\":[{\"type\":\"surface\",\"colorbar\":{\"outlinewidth\":0,\"ticks\":\"\"},\"colorscale\":[[0.0,\"#0d0887\"],[0.1111111111111111,\"#46039f\"],[0.2222222222222222,\"#7201a8\"],[0.3333333333333333,\"#9c179e\"],[0.4444444444444444,\"#bd3786\"],[0.5555555555555556,\"#d8576b\"],[0.6666666666666666,\"#ed7953\"],[0.7777777777777778,\"#fb9f3a\"],[0.8888888888888888,\"#fdca26\"],[1.0,\"#f0f921\"]]}],\"mesh3d\":[{\"type\":\"mesh3d\",\"colorbar\":{\"outlinewidth\":0,\"ticks\":\"\"}}],\"scatter\":[{\"fillpattern\":{\"fillmode\":\"overlay\",\"size\":10,\"solidity\":0.2},\"type\":\"scatter\"}],\"parcoords\":[{\"type\":\"parcoords\",\"line\":{\"colorbar\":{\"outlinewidth\":0,\"ticks\":\"\"}}}],\"scatterpolargl\":[{\"type\":\"scatterpolargl\",\"marker\":{\"colorbar\":{\"outlinewidth\":0,\"ticks\":\"\"}}}],\"bar\":[{\"error_x\":{\"color\":\"#2a3f5f\"},\"error_y\":{\"color\":\"#2a3f5f\"},\"marker\":{\"line\":{\"color\":\"#E5ECF6\",\"width\":0.5},\"pattern\":{\"fillmode\":\"overlay\",\"size\":10,\"solidity\":0.2}},\"type\":\"bar\"}],\"scattergeo\":[{\"type\":\"scattergeo\",\"marker\":{\"colorbar\":{\"outlinewidth\":0,\"ticks\":\"\"}}}],\"scatterpolar\":[{\"type\":\"scatterpolar\",\"marker\":{\"colorbar\":{\"outlinewidth\":0,\"ticks\":\"\"}}}],\"histogram\":[{\"marker\":{\"pattern\":{\"fillmode\":\"overlay\",\"size\":10,\"solidity\":0.2}},\"type\":\"histogram\"}],\"scattergl\":[{\"type\":\"scattergl\",\"marker\":{\"colorbar\":{\"outlinewidth\":0,\"ticks\":\"\"}}}],\"scatter3d\":[{\"type\":\"scatter3d\",\"line\":{\"colorbar\":{\"outlinewidth\":0,\"ticks\":\"\"}},\"marker\":{\"colorbar\":{\"outlinewidth\":0,\"ticks\":\"\"}}}],\"scattermapbox\":[{\"type\":\"scattermapbox\",\"marker\":{\"colorbar\":{\"outlinewidth\":0,\"ticks\":\"\"}}}],\"scatterternary\":[{\"type\":\"scatterternary\",\"marker\":{\"colorbar\":{\"outlinewidth\":0,\"ticks\":\"\"}}}],\"scattercarpet\":[{\"type\":\"scattercarpet\",\"marker\":{\"colorbar\":{\"outlinewidth\":0,\"ticks\":\"\"}}}],\"carpet\":[{\"aaxis\":{\"endlinecolor\":\"#2a3f5f\",\"gridcolor\":\"white\",\"linecolor\":\"white\",\"minorgridcolor\":\"white\",\"startlinecolor\":\"#2a3f5f\"},\"baxis\":{\"endlinecolor\":\"#2a3f5f\",\"gridcolor\":\"white\",\"linecolor\":\"white\",\"minorgridcolor\":\"white\",\"startlinecolor\":\"#2a3f5f\"},\"type\":\"carpet\"}],\"table\":[{\"cells\":{\"fill\":{\"color\":\"#EBF0F8\"},\"line\":{\"color\":\"white\"}},\"header\":{\"fill\":{\"color\":\"#C8D4E3\"},\"line\":{\"color\":\"white\"}},\"type\":\"table\"}],\"barpolar\":[{\"marker\":{\"line\":{\"color\":\"#E5ECF6\",\"width\":0.5},\"pattern\":{\"fillmode\":\"overlay\",\"size\":10,\"solidity\":0.2}},\"type\":\"barpolar\"}],\"pie\":[{\"automargin\":true,\"type\":\"pie\"}]},\"layout\":{\"autotypenumbers\":\"strict\",\"colorway\":[\"#636efa\",\"#EF553B\",\"#00cc96\",\"#ab63fa\",\"#FFA15A\",\"#19d3f3\",\"#FF6692\",\"#B6E880\",\"#FF97FF\",\"#FECB52\"],\"font\":{\"color\":\"#2a3f5f\"},\"hovermode\":\"closest\",\"hoverlabel\":{\"align\":\"left\"},\"paper_bgcolor\":\"white\",\"plot_bgcolor\":\"#E5ECF6\",\"polar\":{\"bgcolor\":\"#E5ECF6\",\"angularaxis\":{\"gridcolor\":\"white\",\"linecolor\":\"white\",\"ticks\":\"\"},\"radialaxis\":{\"gridcolor\":\"white\",\"linecolor\":\"white\",\"ticks\":\"\"}},\"ternary\":{\"bgcolor\":\"#E5ECF6\",\"aaxis\":{\"gridcolor\":\"white\",\"linecolor\":\"white\",\"ticks\":\"\"},\"baxis\":{\"gridcolor\":\"white\",\"linecolor\":\"white\",\"ticks\":\"\"},\"caxis\":{\"gridcolor\":\"white\",\"linecolor\":\"white\",\"ticks\":\"\"}},\"coloraxis\":{\"colorbar\":{\"outlinewidth\":0,\"ticks\":\"\"}},\"colorscale\":{\"sequential\":[[0.0,\"#0d0887\"],[0.1111111111111111,\"#46039f\"],[0.2222222222222222,\"#7201a8\"],[0.3333333333333333,\"#9c179e\"],[0.4444444444444444,\"#bd3786\"],[0.5555555555555556,\"#d8576b\"],[0.6666666666666666,\"#ed7953\"],[0.7777777777777778,\"#fb9f3a\"],[0.8888888888888888,\"#fdca26\"],[1.0,\"#f0f921\"]],\"sequentialminus\":[[0.0,\"#0d0887\"],[0.1111111111111111,\"#46039f\"],[0.2222222222222222,\"#7201a8\"],[0.3333333333333333,\"#9c179e\"],[0.4444444444444444,\"#bd3786\"],[0.5555555555555556,\"#d8576b\"],[0.6666666666666666,\"#ed7953\"],[0.7777777777777778,\"#fb9f3a\"],[0.8888888888888888,\"#fdca26\"],[1.0,\"#f0f921\"]],\"diverging\":[[0,\"#8e0152\"],[0.1,\"#c51b7d\"],[0.2,\"#de77ae\"],[0.3,\"#f1b6da\"],[0.4,\"#fde0ef\"],[0.5,\"#f7f7f7\"],[0.6,\"#e6f5d0\"],[0.7,\"#b8e186\"],[0.8,\"#7fbc41\"],[0.9,\"#4d9221\"],[1,\"#276419\"]]},\"xaxis\":{\"gridcolor\":\"white\",\"linecolor\":\"white\",\"ticks\":\"\",\"title\":{\"standoff\":15},\"zerolinecolor\":\"white\",\"automargin\":true,\"zerolinewidth\":2},\"yaxis\":{\"gridcolor\":\"white\",\"linecolor\":\"white\",\"ticks\":\"\",\"title\":{\"standoff\":15},\"zerolinecolor\":\"white\",\"automargin\":true,\"zerolinewidth\":2},\"scene\":{\"xaxis\":{\"backgroundcolor\":\"#E5ECF6\",\"gridcolor\":\"white\",\"linecolor\":\"white\",\"showbackground\":true,\"ticks\":\"\",\"zerolinecolor\":\"white\",\"gridwidth\":2},\"yaxis\":{\"backgroundcolor\":\"#E5ECF6\",\"gridcolor\":\"white\",\"linecolor\":\"white\",\"showbackground\":true,\"ticks\":\"\",\"zerolinecolor\":\"white\",\"gridwidth\":2},\"zaxis\":{\"backgroundcolor\":\"#E5ECF6\",\"gridcolor\":\"white\",\"linecolor\":\"white\",\"showbackground\":true,\"ticks\":\"\",\"zerolinecolor\":\"white\",\"gridwidth\":2}},\"shapedefaults\":{\"line\":{\"color\":\"#2a3f5f\"}},\"annotationdefaults\":{\"arrowcolor\":\"#2a3f5f\",\"arrowhead\":0,\"arrowwidth\":1},\"geo\":{\"bgcolor\":\"white\",\"landcolor\":\"#E5ECF6\",\"subunitcolor\":\"white\",\"showland\":true,\"showlakes\":true,\"lakecolor\":\"white\"},\"title\":{\"x\":0.05},\"mapbox\":{\"style\":\"light\"}}}},                        {\"responsive\": true}                    ).then(function(){\n",
       "                            \n",
       "var gd = document.getElementById('a47e6a42-003c-438d-9375-401cf8c1fef6');\n",
       "var x = new MutationObserver(function (mutations, observer) {{\n",
       "        var display = window.getComputedStyle(gd).display;\n",
       "        if (!display || display === 'none') {{\n",
       "            console.log([gd, 'removed!']);\n",
       "            Plotly.purge(gd);\n",
       "            observer.disconnect();\n",
       "        }}\n",
       "}});\n",
       "\n",
       "// Listen for the removal of the full notebook cells\n",
       "var notebookContainer = gd.closest('#notebook-container');\n",
       "if (notebookContainer) {{\n",
       "    x.observe(notebookContainer, {childList: true});\n",
       "}}\n",
       "\n",
       "// Listen for the clearing of the current output cell\n",
       "var outputEl = gd.closest('.output');\n",
       "if (outputEl) {{\n",
       "    x.observe(outputEl, {childList: true});\n",
       "}}\n",
       "\n",
       "                        })                };                });            </script>        </div>"
      ]
     },
     "metadata": {},
     "output_type": "display_data"
    }
   ],
   "source": [
    "fig = go.Figure()\n",
    "fig.add_trace(go.Bar(x=B30K.index, y=B30K[\"Normalize (TRY)\"], name=\"Normalize BIST30\"))\n",
    "fig.add_trace(go.Scatter(x=B30K.index, y=B30K[\"Normalize(EUR/TRY)\"], name=\"Normalize EUR/TRY\"))"
   ]
  },
  {
   "cell_type": "code",
   "execution_count": 74,
   "id": "a471315e",
   "metadata": {},
   "outputs": [
    {
     "data": {
      "application/vnd.plotly.v1+json": {
       "config": {
        "plotlyServerURL": "https://plot.ly"
       },
       "data": [
        {
         "name": "Normalize BIST30",
         "type": "scatter",
         "x": [
          "2021-01-04T00:00:00",
          "2021-01-05T00:00:00",
          "2021-01-06T00:00:00",
          "2021-01-07T00:00:00",
          "2021-01-08T00:00:00",
          "2021-01-11T00:00:00",
          "2021-01-12T00:00:00",
          "2021-01-13T00:00:00",
          "2021-01-14T00:00:00",
          "2021-01-15T00:00:00",
          "2021-01-18T00:00:00",
          "2021-01-19T00:00:00",
          "2021-01-20T00:00:00",
          "2021-01-21T00:00:00",
          "2021-01-25T00:00:00",
          "2021-01-26T00:00:00",
          "2021-01-27T00:00:00",
          "2021-01-28T00:00:00",
          "2021-01-29T00:00:00",
          "2021-02-01T00:00:00",
          "2021-02-02T00:00:00",
          "2021-02-03T00:00:00",
          "2021-02-04T00:00:00",
          "2021-02-05T00:00:00",
          "2021-02-08T00:00:00",
          "2021-02-09T00:00:00",
          "2021-02-10T00:00:00",
          "2021-02-11T00:00:00",
          "2021-02-12T00:00:00",
          "2021-02-16T00:00:00",
          "2021-02-18T00:00:00",
          "2021-02-19T00:00:00",
          "2021-02-22T00:00:00",
          "2021-02-23T00:00:00",
          "2021-02-24T00:00:00",
          "2021-02-25T00:00:00",
          "2021-02-26T00:00:00",
          "2021-03-01T00:00:00",
          "2021-03-02T00:00:00",
          "2021-03-03T00:00:00",
          "2021-03-04T00:00:00",
          "2021-03-05T00:00:00",
          "2021-03-08T00:00:00",
          "2021-03-09T00:00:00",
          "2021-03-10T00:00:00",
          "2021-03-11T00:00:00",
          "2021-03-12T00:00:00",
          "2021-03-15T00:00:00",
          "2021-03-16T00:00:00",
          "2021-03-17T00:00:00",
          "2021-03-18T00:00:00",
          "2021-03-19T00:00:00",
          "2021-03-22T00:00:00",
          "2021-03-23T00:00:00",
          "2021-03-24T00:00:00",
          "2021-03-25T00:00:00",
          "2021-03-26T00:00:00",
          "2021-03-29T00:00:00",
          "2021-03-30T00:00:00",
          "2021-03-31T00:00:00",
          "2021-04-01T00:00:00",
          "2021-04-05T00:00:00",
          "2021-04-06T00:00:00",
          "2021-04-07T00:00:00",
          "2021-04-08T00:00:00",
          "2021-04-09T00:00:00",
          "2021-04-12T00:00:00",
          "2021-04-13T00:00:00",
          "2021-04-14T00:00:00",
          "2021-04-15T00:00:00",
          "2021-04-16T00:00:00",
          "2021-04-19T00:00:00",
          "2021-04-20T00:00:00",
          "2021-04-21T00:00:00",
          "2021-04-22T00:00:00",
          "2021-04-26T00:00:00",
          "2021-04-27T00:00:00",
          "2021-04-28T00:00:00",
          "2021-04-29T00:00:00",
          "2021-04-30T00:00:00",
          "2021-05-03T00:00:00",
          "2021-05-04T00:00:00",
          "2021-05-06T00:00:00",
          "2021-05-07T00:00:00",
          "2021-05-10T00:00:00",
          "2021-05-12T00:00:00",
          "2021-05-17T00:00:00",
          "2021-05-18T00:00:00",
          "2021-05-21T00:00:00",
          "2021-05-24T00:00:00",
          "2021-05-26T00:00:00",
          "2021-05-27T00:00:00",
          "2021-05-28T00:00:00",
          "2021-06-01T00:00:00",
          "2021-06-02T00:00:00",
          "2021-06-03T00:00:00",
          "2021-06-04T00:00:00",
          "2021-06-07T00:00:00",
          "2021-06-08T00:00:00",
          "2021-06-09T00:00:00",
          "2021-06-10T00:00:00",
          "2021-06-11T00:00:00",
          "2021-06-14T00:00:00",
          "2021-06-15T00:00:00",
          "2021-06-16T00:00:00",
          "2021-06-17T00:00:00",
          "2021-06-18T00:00:00",
          "2021-06-21T00:00:00",
          "2021-06-22T00:00:00",
          "2021-06-23T00:00:00",
          "2021-06-24T00:00:00",
          "2021-06-25T00:00:00",
          "2021-06-28T00:00:00",
          "2021-06-29T00:00:00",
          "2021-06-30T00:00:00",
          "2021-07-01T00:00:00",
          "2021-07-02T00:00:00",
          "2021-07-06T00:00:00",
          "2021-07-07T00:00:00",
          "2021-07-08T00:00:00",
          "2021-07-09T00:00:00",
          "2021-07-12T00:00:00",
          "2021-07-13T00:00:00",
          "2021-07-14T00:00:00",
          "2021-07-16T00:00:00",
          "2021-07-19T00:00:00",
          "2021-07-26T00:00:00",
          "2021-07-27T00:00:00",
          "2021-07-28T00:00:00",
          "2021-07-29T00:00:00",
          "2021-07-30T00:00:00",
          "2021-08-02T00:00:00",
          "2021-08-03T00:00:00",
          "2021-08-04T00:00:00",
          "2021-08-05T00:00:00",
          "2021-08-06T00:00:00",
          "2021-08-09T00:00:00",
          "2021-08-10T00:00:00",
          "2021-08-11T00:00:00",
          "2021-08-12T00:00:00",
          "2021-08-13T00:00:00",
          "2021-08-16T00:00:00",
          "2021-08-17T00:00:00",
          "2021-08-18T00:00:00",
          "2021-08-19T00:00:00",
          "2021-08-20T00:00:00",
          "2021-08-23T00:00:00",
          "2021-08-24T00:00:00",
          "2021-08-25T00:00:00",
          "2021-08-26T00:00:00",
          "2021-08-27T00:00:00",
          "2021-08-31T00:00:00",
          "2021-09-01T00:00:00",
          "2021-09-02T00:00:00",
          "2021-09-03T00:00:00",
          "2021-09-06T00:00:00",
          "2021-09-07T00:00:00",
          "2021-09-08T00:00:00",
          "2021-09-09T00:00:00",
          "2021-09-10T00:00:00",
          "2021-09-13T00:00:00",
          "2021-09-14T00:00:00",
          "2021-09-15T00:00:00",
          "2021-09-16T00:00:00",
          "2021-09-17T00:00:00",
          "2021-09-20T00:00:00",
          "2021-09-21T00:00:00",
          "2021-09-22T00:00:00",
          "2021-09-23T00:00:00",
          "2021-09-24T00:00:00",
          "2021-09-27T00:00:00",
          "2021-09-28T00:00:00",
          "2021-09-29T00:00:00",
          "2021-09-30T00:00:00",
          "2021-10-01T00:00:00",
          "2021-10-04T00:00:00",
          "2021-10-05T00:00:00",
          "2021-10-06T00:00:00",
          "2021-10-07T00:00:00",
          "2021-10-08T00:00:00",
          "2021-10-11T00:00:00",
          "2021-10-12T00:00:00",
          "2021-10-13T00:00:00",
          "2021-10-14T00:00:00",
          "2021-10-15T00:00:00",
          "2021-10-18T00:00:00",
          "2021-10-19T00:00:00",
          "2021-10-20T00:00:00",
          "2021-10-21T00:00:00",
          "2021-10-22T00:00:00",
          "2021-10-25T00:00:00",
          "2021-10-26T00:00:00",
          "2021-10-27T00:00:00",
          "2021-10-28T00:00:00",
          "2021-11-01T00:00:00",
          "2021-11-02T00:00:00",
          "2021-11-03T00:00:00",
          "2021-11-04T00:00:00",
          "2021-11-05T00:00:00",
          "2021-11-08T00:00:00",
          "2021-11-09T00:00:00",
          "2021-11-10T00:00:00",
          "2021-11-11T00:00:00",
          "2021-11-12T00:00:00",
          "2021-11-15T00:00:00",
          "2021-11-16T00:00:00",
          "2021-11-17T00:00:00",
          "2021-11-18T00:00:00",
          "2021-11-19T00:00:00",
          "2021-11-22T00:00:00",
          "2021-11-23T00:00:00",
          "2021-11-24T00:00:00",
          "2021-11-25T00:00:00",
          "2021-11-26T00:00:00",
          "2021-11-29T00:00:00",
          "2021-11-30T00:00:00",
          "2021-12-01T00:00:00",
          "2021-12-02T00:00:00",
          "2021-12-03T00:00:00",
          "2021-12-06T00:00:00",
          "2021-12-07T00:00:00",
          "2021-12-08T00:00:00",
          "2021-12-09T00:00:00",
          "2021-12-10T00:00:00",
          "2021-12-13T00:00:00",
          "2021-12-14T00:00:00",
          "2021-12-15T00:00:00",
          "2021-12-16T00:00:00",
          "2021-12-17T00:00:00",
          "2021-12-20T00:00:00",
          "2021-12-21T00:00:00",
          "2021-12-22T00:00:00",
          "2021-12-23T00:00:00",
          "2021-12-24T00:00:00",
          "2021-12-27T00:00:00",
          "2021-12-28T00:00:00",
          "2021-12-29T00:00:00",
          "2021-12-30T00:00:00",
          "2022-01-03T00:00:00",
          "2022-01-04T00:00:00",
          "2022-01-05T00:00:00",
          "2022-01-06T00:00:00",
          "2022-01-07T00:00:00",
          "2022-01-10T00:00:00",
          "2022-01-11T00:00:00",
          "2022-01-12T00:00:00",
          "2022-01-13T00:00:00",
          "2022-01-14T00:00:00",
          "2022-01-17T00:00:00",
          "2022-01-18T00:00:00",
          "2022-01-19T00:00:00",
          "2022-01-20T00:00:00",
          "2022-01-21T00:00:00",
          "2022-01-24T00:00:00",
          "2022-01-25T00:00:00",
          "2022-01-26T00:00:00",
          "2022-01-27T00:00:00",
          "2022-01-28T00:00:00",
          "2022-01-31T00:00:00",
          "2022-02-01T00:00:00",
          "2022-02-02T00:00:00",
          "2022-02-03T00:00:00",
          "2022-02-04T00:00:00",
          "2022-02-07T00:00:00",
          "2022-02-08T00:00:00",
          "2022-02-09T00:00:00",
          "2022-02-10T00:00:00",
          "2022-02-11T00:00:00",
          "2022-02-14T00:00:00",
          "2022-02-15T00:00:00",
          "2022-02-16T00:00:00",
          "2022-02-17T00:00:00",
          "2022-02-18T00:00:00",
          "2022-02-21T00:00:00",
          "2022-02-22T00:00:00",
          "2022-02-23T00:00:00",
          "2022-02-24T00:00:00",
          "2022-02-25T00:00:00",
          "2022-02-28T00:00:00",
          "2022-03-01T00:00:00",
          "2022-03-02T00:00:00",
          "2022-03-03T00:00:00",
          "2022-03-04T00:00:00",
          "2022-03-07T00:00:00",
          "2022-03-08T00:00:00",
          "2022-03-09T00:00:00",
          "2022-03-10T00:00:00",
          "2022-03-11T00:00:00",
          "2022-03-14T00:00:00",
          "2022-03-15T00:00:00",
          "2022-03-16T00:00:00",
          "2022-03-17T00:00:00",
          "2022-03-18T00:00:00",
          "2022-03-21T00:00:00",
          "2022-03-22T00:00:00",
          "2022-03-23T00:00:00",
          "2022-03-24T00:00:00",
          "2022-03-25T00:00:00",
          "2022-03-28T00:00:00",
          "2022-03-29T00:00:00",
          "2022-03-30T00:00:00",
          "2022-03-31T00:00:00",
          "2022-04-01T00:00:00",
          "2022-04-04T00:00:00",
          "2022-04-05T00:00:00",
          "2022-04-06T00:00:00",
          "2022-04-07T00:00:00",
          "2022-04-08T00:00:00",
          "2022-04-11T00:00:00",
          "2022-04-12T00:00:00",
          "2022-04-13T00:00:00",
          "2022-04-14T00:00:00",
          "2022-04-15T00:00:00",
          "2022-04-18T00:00:00",
          "2022-04-19T00:00:00",
          "2022-04-20T00:00:00",
          "2022-04-21T00:00:00",
          "2022-04-22T00:00:00",
          "2022-04-25T00:00:00",
          "2022-04-26T00:00:00",
          "2022-04-27T00:00:00",
          "2022-04-28T00:00:00",
          "2022-04-29T00:00:00",
          "2022-05-05T00:00:00",
          "2022-05-06T00:00:00",
          "2022-05-09T00:00:00",
          "2022-05-10T00:00:00",
          "2022-05-11T00:00:00",
          "2022-05-12T00:00:00",
          "2022-05-13T00:00:00",
          "2022-05-16T00:00:00",
          "2022-05-17T00:00:00",
          "2022-05-18T00:00:00",
          "2022-05-20T00:00:00",
          "2022-05-23T00:00:00",
          "2022-05-24T00:00:00",
          "2022-05-25T00:00:00",
          "2022-05-26T00:00:00",
          "2022-05-27T00:00:00",
          "2022-05-30T00:00:00",
          "2022-05-31T00:00:00",
          "2022-06-01T00:00:00",
          "2022-06-02T00:00:00",
          "2022-06-03T00:00:00",
          "2022-06-06T00:00:00",
          "2022-06-07T00:00:00",
          "2022-06-08T00:00:00",
          "2022-06-09T00:00:00",
          "2022-06-10T00:00:00",
          "2022-06-13T00:00:00",
          "2022-06-14T00:00:00",
          "2022-06-15T00:00:00",
          "2022-06-16T00:00:00",
          "2022-06-17T00:00:00",
          "2022-06-20T00:00:00",
          "2022-06-21T00:00:00",
          "2022-06-22T00:00:00",
          "2022-06-23T00:00:00",
          "2022-06-24T00:00:00",
          "2022-06-27T00:00:00",
          "2022-06-28T00:00:00",
          "2022-06-29T00:00:00",
          "2022-06-30T00:00:00",
          "2022-07-01T00:00:00",
          "2022-07-04T00:00:00",
          "2022-07-05T00:00:00",
          "2022-07-06T00:00:00",
          "2022-07-07T00:00:00",
          "2022-07-08T00:00:00",
          "2022-07-13T00:00:00",
          "2022-07-14T00:00:00",
          "2022-07-18T00:00:00",
          "2022-07-19T00:00:00",
          "2022-07-20T00:00:00",
          "2022-07-21T00:00:00",
          "2022-07-22T00:00:00",
          "2022-07-25T00:00:00",
          "2022-07-26T00:00:00",
          "2022-07-27T00:00:00",
          "2022-07-28T00:00:00",
          "2022-07-29T00:00:00",
          "2022-08-01T00:00:00",
          "2022-08-02T00:00:00",
          "2022-08-03T00:00:00",
          "2022-08-04T00:00:00",
          "2022-08-05T00:00:00",
          "2022-08-08T00:00:00",
          "2022-08-09T00:00:00",
          "2022-08-10T00:00:00",
          "2022-08-11T00:00:00",
          "2022-08-12T00:00:00",
          "2022-08-15T00:00:00",
          "2022-08-16T00:00:00",
          "2022-08-17T00:00:00",
          "2022-08-18T00:00:00",
          "2022-08-19T00:00:00",
          "2022-08-22T00:00:00",
          "2022-08-23T00:00:00",
          "2022-08-24T00:00:00",
          "2022-08-25T00:00:00",
          "2022-08-26T00:00:00",
          "2022-08-29T00:00:00",
          "2022-08-31T00:00:00",
          "2022-09-01T00:00:00",
          "2022-09-02T00:00:00",
          "2022-09-05T00:00:00",
          "2022-09-06T00:00:00",
          "2022-09-07T00:00:00",
          "2022-09-08T00:00:00",
          "2022-09-09T00:00:00",
          "2022-09-12T00:00:00",
          "2022-09-13T00:00:00",
          "2022-09-14T00:00:00",
          "2022-09-15T00:00:00",
          "2022-09-16T00:00:00",
          "2022-09-19T00:00:00",
          "2022-09-20T00:00:00",
          "2022-09-21T00:00:00",
          "2022-09-22T00:00:00",
          "2022-09-23T00:00:00",
          "2022-09-26T00:00:00",
          "2022-09-27T00:00:00",
          "2022-09-28T00:00:00",
          "2022-09-29T00:00:00",
          "2022-09-30T00:00:00",
          "2022-10-03T00:00:00",
          "2022-10-04T00:00:00",
          "2022-10-05T00:00:00",
          "2022-10-06T00:00:00",
          "2022-10-07T00:00:00",
          "2022-10-10T00:00:00",
          "2022-10-11T00:00:00",
          "2022-10-12T00:00:00",
          "2022-10-13T00:00:00",
          "2022-10-14T00:00:00",
          "2022-10-17T00:00:00",
          "2022-10-18T00:00:00",
          "2022-10-19T00:00:00",
          "2022-10-20T00:00:00",
          "2022-10-21T00:00:00",
          "2022-10-24T00:00:00",
          "2022-10-25T00:00:00",
          "2022-10-26T00:00:00",
          "2022-10-27T00:00:00",
          "2022-10-28T00:00:00",
          "2022-10-31T00:00:00",
          "2022-11-01T00:00:00",
          "2022-11-02T00:00:00",
          "2022-11-03T00:00:00",
          "2022-11-04T00:00:00",
          "2022-11-07T00:00:00",
          "2022-11-08T00:00:00",
          "2022-11-09T00:00:00",
          "2022-11-10T00:00:00",
          "2022-11-11T00:00:00",
          "2022-11-14T00:00:00",
          "2022-11-15T00:00:00",
          "2022-11-16T00:00:00",
          "2022-11-17T00:00:00",
          "2022-11-18T00:00:00",
          "2022-11-21T00:00:00",
          "2022-11-22T00:00:00",
          "2022-11-23T00:00:00",
          "2022-11-24T00:00:00",
          "2022-11-25T00:00:00",
          "2022-11-28T00:00:00",
          "2022-11-29T00:00:00",
          "2022-11-30T00:00:00",
          "2022-12-01T00:00:00",
          "2022-12-02T00:00:00",
          "2022-12-05T00:00:00",
          "2022-12-06T00:00:00",
          "2022-12-07T00:00:00",
          "2022-12-08T00:00:00",
          "2022-12-09T00:00:00",
          "2022-12-12T00:00:00",
          "2022-12-13T00:00:00",
          "2022-12-14T00:00:00",
          "2022-12-15T00:00:00",
          "2022-12-16T00:00:00",
          "2022-12-19T00:00:00",
          "2022-12-20T00:00:00",
          "2022-12-21T00:00:00",
          "2022-12-22T00:00:00",
          "2022-12-23T00:00:00",
          "2022-12-27T00:00:00",
          "2022-12-28T00:00:00",
          "2022-12-29T00:00:00",
          "2022-12-30T00:00:00"
         ],
         "xaxis": "x",
         "y": [
          1,
          0.9924375341427978,
          1.0029039425778423,
          1.0153063865836538,
          1.0251073866459113,
          1.015790413939397,
          1.0205094221751734,
          1.0270433483644728,
          1.0170004084765494,
          1.0005445123121597,
          1.0180288742922465,
          1.0225058688501514,
          1.0231713510751441,
          1.007683435770035,
          0.9904410136156142,
          0.9903200437027813,
          0.9529916679203079,
          0.9691451393026151,
          0.951297719879618,
          0.9586181720589485,
          0.9696896516147748,
          0.9854800655541718,
          0.984754024520557,
          0.9782200983312577,
          0.9833020901577387,
          0.9940709972270713,
          0.9960675177542548,
          0.9923770491863814,
          0.9851775669198837,
          0.9814870983520102,
          0.9715651283769198,
          0.9814870983520102,
          0.9710206160647601,
          0.9615221884889964,
          0.9426462293980964,
          0.9523261856953152,
          0.9413757499045275,
          0.9734406051390648,
          0.9769496188376888,
          0.9760421229348246,
          0.9831205614362836,
          0.9868110300041572,
          0.9776151010626816,
          0.989715046434205,
          0.997822024603567,
          0.991288024562062,
          0.9918325368742217,
          0.9867505450477406,
          0.9933450300456621,
          0.9851775669198837,
          0.9835440299834046,
          0.9625506543046937,
          0.8668401159568251,
          0.8595195899252889,
          0.8758545161768456,
          0.8652670639767626,
          0.8600641022374486,
          0.8662956036446654,
          0.8662956036446654,
          0.8655695626110507,
          0.8859580148733911,
          0.8909794478912499,
          0.8790610312411816,
          0.8797265134661743,
          0.8782140202947338,
          0.86665858723537,
          0.8557686364009989,
          0.8604270858281532,
          0.8809969929597431,
          0.8867444670112168,
          0.8832355271647984,
          0.8675660831382342,
          0.8607295844624412,
          0.8452416691573323,
          0.8546796117766795,
          0.8738580695018676,
          0.8828119847654716,
          0.8770645107139979,
          0.8866839820548003,
          0.8814205353590698,
          0.8974529629763384,
          0.894488461589874,
          0.9031399520713956,
          0.9132433769157354,
          0.9284287935865563,
          0.9140903878621832,
          0.9230443031257872,
          0.9266138017808278,
          0.920442859182233,
          0.9232258318472423,
          0.9129408782814473,
          0.9009619028227569,
          0.9116703987878785,
          0.9229233332129543,
          0.9215318099543468,
          0.9209268126857706,
          0.9244358263843947,
          0.9353257772187659,
          0.9362937580780466,
          0.9377457662930705,
          0.9434932403445442,
          0.9448847636031517,
          0.9444612212038249,
          0.9391977745080945,
          0.9330267580572941,
          0.9228023633001212,
          0.907979930220005,
          0.9160868345371612,
          0.9228023633001212,
          0.9149978837650474,
          0.9211688263636422,
          0.9088268673142471,
          0.8994494096513164,
          0.8972109492984668,
          0.8850505189705269,
          0.8949724889456172,
          0.8978764315234595,
          0.9003569055541807,
          0.9067093768742305,
          0.8949119301369951,
          0.9005989192320523,
          0.8875914779576645,
          0.882146502540479,
          0.8949119301369951,
          0.8894669547198095,
          0.8787585326068935,
          0.8750075790826035,
          0.8834169820340478,
          0.8831750422083818,
          0.9074354179078453,
          0.907979930220005,
          0.9097949220257335,
          0.9164498919800714,
          0.9168733605271925,
          0.9312117662515655,
          0.9342973114030686,
          0.9306673277916115,
          0.9356887608094704,
          0.9176598865172237,
          0.9436747690659992,
          0.9450057335159846,
          0.9502086952552986,
          0.9549881884474914,
          0.9453687171066892,
          0.9384112485180631,
          0.9423437307638083,
          0.9537177089539226,
          0.9587997007804037,
          0.9506927226110418,
          0.9474257225902893,
          0.9522657007388987,
          0.9609171912204203,
          0.9601306652303889,
          0.9629741228518147,
          0.9545647199003704,
          0.9580131747903724,
          0.9429487280323845,
          0.9295783031672922,
          0.9404077690452468,
          0.929396774445837,
          0.9302437853922848,
          0.927400327770859,
          0.9183858536986329,
          0.916510376936488,
          0.9193538345579136,
          0.9019904424906597,
          0.8982999739227862,
          0.9145743413657208,
          0.9064674370485646,
          0.894488461589874,
          0.9007804479535074,
          0.8946699903113291,
          0.9007804479535074,
          0.9106418591199756,
          0.9067699356828526,
          0.9012039165006285,
          0.9007199629970909,
          0.8877125217227031,
          0.9073143741428067,
          0.9072538891863902,
          0.9212898701286808,
          0.9223788209007946,
          0.9197773769572404,
          0.9189908509672091,
          0.9170548892486476,
          0.9216528537193854,
          0.9290337908551325,
          0.932603289510173,
          0.9482122485803206,
          0.9646076597882938,
          0.972593594192617,
          0.9834835450269882,
          0.9893520628435004,
          0.9895940026691664,
          1.0004839535035375,
          0.9992739589663852,
          1.010405923478628,
          1.0320648552345373,
          1.0389012800581245,
          1.057232726836865,
          1.064190195425491,
          1.0702401681112528,
          1.0691511434869334,
          1.0770766667870457,
          1.1251739496388515,
          1.1153124646201777,
          1.1303769113781656,
          1.1539113198962199,
          1.1479218321668747,
          1.156089295292653,
          1.1767196873806594,
          1.192570586276473,
          1.1931150985886327,
          1.1582067857326697,
          1.1807731395392376,
          1.175388722930674,
          1.208240030303037,
          1.2220339975674561,
          1.2395788445039595,
          1.2550062748526518,
          1.296993173914485,
          1.313751568713163,
          1.3357129991033603,
          1.3386170155334083,
          1.3881662327480324,
          1.4331779704483354,
          1.4435840416313745,
          1.5294330949605692,
          1.39070719173517,
          1.3789097449979346,
          1.2641417926899168,
          1.1987416027272733,
          1.2006775644458347,
          1.2625083296056432,
          1.2640812338812946,
          1.2298989620589462,
          1.262205830971355,
          1.234315397808229,
          1,
          1.022517184166864,
          1.0487319501436951,
          1.0521925089624318,
          1.069732210313463,
          1.0754207621029865,
          1.0799241989363593,
          1.0894051185855653,
          1.0945721735008296,
          1.0913013025154066,
          1.0958047393487793,
          1.0380184646465396,
          1.073240104290116,
          1.0569329687870348,
          1.053756768117445,
          0.996871250222209,
          1.019009290190211,
          1.0217586643013747,
          1.0475468351875445,
          1.0367385636406732,
          1.0441337272606068,
          1.050959943114482,
          1.0457928881992178,
          1.0210950462194832,
          1.0129888136258591,
          1.04617203239808,
          1.054041242000474,
          1.0748518143369281,
          1.0720075384421663,
          1.080777389117682,
          1.0552738078484238,
          1.0759421432433633,
          1.0753733112111874,
          1.058497227942048,
          1.0707276374363002,
          1.0752785251614718,
          1.0654183455795212,
          1.0651813225882911,
          0.9813226345846172,
          1.0340838598453426,
          1.0364067545997275,
          1.0502488741407916,
          1.060488313655487,
          1.081915168915916,
          1.0605830997052026,
          1.0639014215824247,
          1.0705854004947855,
          1.085517848942285,
          1.0858971088750295,
          1.0913013025154066,
          1.1107845229541953,
          1.1050959711646717,
          1.1090780268576677,
          1.1371888610304575,
          1.139606541834558,
          1.1550130362645177,
          1.1580468842587106,
          1.1525005694107016,
          1.1471912775539228,
          1.143778169626985,
          1.1377103579047168,
          1.1594216870481748,
          1.1740696616126451,
          1.1743066846038752,
          1.1854467651916925,
          1.2216164968001897,
          1.2278738806218892,
          1.2196728619785495,
          1.2339891432359564,
          1.2622422143502607,
          1.2948091501985068,
          1.3035790008740222,
          1.3063284907190684,
          1.3140080124881488,
          1.3215927482075136,
          1.3297937668508533,
          1.335719341631607,
          1.3374732886199336,
          1.3569566247926048,
          1.3108793784442403,
          1.3187484723127518,
          1.281915122622363,
          1.3013510079032353,
          1.2831476884703128,
          1.2820099086720786,
          1.3008296267628585,
          1.2924863711780044,
          1.2961365020961721,
          1.3131548223068263,
          1.2968950219616615,
          1.2616733823180848,
          1.271391324958521,
          1.2545152416893814,
          1.2568854716016828,
          1.258592083432093,
          1.2475942397857904,
          1.2537093866659754,
          1.2479260488267363,
          1.2753732649176346,
          1.295378097964565,
          1.2844275894761792,
          1.3346764636169708,
          1.3451529261228965,
          1.3533538290323537,
          1.3750178230178953,
          1.3698506523687486,
          1.3947855173397132,
          1.3910879355297463,
          1.3303625988830292,
          1.3454372842720432,
          1.324863734926819,
          1.310120858578751,
          1.3068973227512444,
          1.3171367622659398,
          1.2891680493007822,
          1.3162361211928182,
          1.3203128472016472,
          1.34216641328662,
          1.3374732886199336,
          1.315145792286383,
          1.3192699691870111,
          1.3055700865874615,
          1.283337260569744,
          1.2342735013851032,
          1.2368807542886346,
          1.2589238924730386,
          1.2359326623237141,
          1.2177766780487083,
          1.2346053104260488,
          1.2386821521687603,
          1.241336855964091,
          1.2156909220194358,
          1.1978667467853756,
          1.2392509842009363,
          1.2653235132362526,
          1.2798293665930909,
          1.2716757988415501,
          1.2729082489556174,
          1.2910642332306235,
          1.2804929846749822,
          1.2827684285375682,
          1.2789760606778857,
          1.3086039345816545,
          1.3434937651842853,
          1.3427826962105949,
          1.3640198636377103,
          1.3849253377577626,
          1.4013747102023584,
          1.4276369270709883,
          1.420478786442285,
          1.4464090785360868,
          1.4704431867000474,
          1.4633799478549419,
          1.4538042421560204,
          1.4909220657294382,
          1.5308840494637355,
          1.5592320223616378,
          1.5544442273791184,
          1.573927447817907,
          1.6116615543153,
          1.5762976777302087,
          1.6210002370229912,
          1.6255984599060795,
          1.640578359245378,
          1.6375443955173026,
          1.6120408142480445,
          1.656411448765999,
          1.7393694956965513,
          1.7553922730504858,
          1.767385659553508,
          1.7853046208372838,
          1.8327092190833136,
          1.908082530294501,
          1.7767243422611994,
          1.785778666819744,
          1.7314055000444417,
          1.7387532127725764,
          1.631049988704373,
          1.689073286397843,
          1.6684996213187366,
          1.6977956861815595,
          1.6855652766873075,
          1.674567433041005,
          1.687556246666864,
          1.653946432803982,
          1.6309077517628585,
          1.6390614352482815,
          1.76349850564411,
          1.7964447014251008,
          1.8122777909457217,
          1.851765844431441,
          1.8560322582735838,
          1.8585920602853163,
          1.8535197914197676,
          1.8218061614867267,
          1.8410998098260845,
          1.873761531724046,
          1.99976297700877,
          1.9996208558011377,
          2.018866937514814,
          2.026214650242949,
          2.037876227705025,
          2.0621000237022993,
          2.0625740696847594,
          2.058260204950818,
          2.0308129888599193,
          1.9969187011140082,
          2.0528561270443233,
          2.093292156761081,
          2.0945247226090307,
          2.1056173523050488,
          2.1732638065892393,
          2.246029864896895,
          2.260156342587106,
          2.255747807537331,
          2.3152405783360988,
          2.292533822069803,
          2.347286133043968,
          2.4019435422345343,
          2.415738326617682,
          2.3314055926315476,
          2.3315951647309787,
          2.3443469553656078,
          2.457549274857786,
          2.496705287834795,
          2.490542690062811,
          2.4959469994370704,
          2.522493574454847,
          2.5481392769317375,
          2.542972222016473,
          2.5757762965898316,
          2.5189382295863947,
          2.5214031298145296,
          2.5439203139813937,
          2.4557952121355773,
          2.465418252992415,
          2.5388953802737615,
          2.6464091479764162,
          2.677790853134629,
          2.576345012888125,
          2.6407205961868927,
          2.646456598868215,
          2.7516948069744016,
          2.7730740956091493,
          2.7783835031998105,
          2.788907416597535,
          2.7898555085624555,
          2.785826117711543,
          2.7444417645621,
          2.8040768880362643,
          2.8181084639428775
         ],
         "yaxis": "y"
        },
        {
         "name": "Normalize EUR/TRY",
         "type": "scatter",
         "x": [
          "2021-01-04T00:00:00",
          "2021-01-05T00:00:00",
          "2021-01-06T00:00:00",
          "2021-01-07T00:00:00",
          "2021-01-08T00:00:00",
          "2021-01-11T00:00:00",
          "2021-01-12T00:00:00",
          "2021-01-13T00:00:00",
          "2021-01-14T00:00:00",
          "2021-01-15T00:00:00",
          "2021-01-18T00:00:00",
          "2021-01-19T00:00:00",
          "2021-01-20T00:00:00",
          "2021-01-21T00:00:00",
          "2021-01-25T00:00:00",
          "2021-01-26T00:00:00",
          "2021-01-27T00:00:00",
          "2021-01-28T00:00:00",
          "2021-01-29T00:00:00",
          "2021-02-01T00:00:00",
          "2021-02-02T00:00:00",
          "2021-02-03T00:00:00",
          "2021-02-04T00:00:00",
          "2021-02-05T00:00:00",
          "2021-02-08T00:00:00",
          "2021-02-09T00:00:00",
          "2021-02-10T00:00:00",
          "2021-02-11T00:00:00",
          "2021-02-12T00:00:00",
          "2021-02-16T00:00:00",
          "2021-02-18T00:00:00",
          "2021-02-19T00:00:00",
          "2021-02-22T00:00:00",
          "2021-02-23T00:00:00",
          "2021-02-24T00:00:00",
          "2021-02-25T00:00:00",
          "2021-02-26T00:00:00",
          "2021-03-01T00:00:00",
          "2021-03-02T00:00:00",
          "2021-03-03T00:00:00",
          "2021-03-04T00:00:00",
          "2021-03-05T00:00:00",
          "2021-03-08T00:00:00",
          "2021-03-09T00:00:00",
          "2021-03-10T00:00:00",
          "2021-03-11T00:00:00",
          "2021-03-12T00:00:00",
          "2021-03-15T00:00:00",
          "2021-03-16T00:00:00",
          "2021-03-17T00:00:00",
          "2021-03-18T00:00:00",
          "2021-03-19T00:00:00",
          "2021-03-22T00:00:00",
          "2021-03-23T00:00:00",
          "2021-03-24T00:00:00",
          "2021-03-25T00:00:00",
          "2021-03-26T00:00:00",
          "2021-03-29T00:00:00",
          "2021-03-30T00:00:00",
          "2021-03-31T00:00:00",
          "2021-04-01T00:00:00",
          "2021-04-05T00:00:00",
          "2021-04-06T00:00:00",
          "2021-04-07T00:00:00",
          "2021-04-08T00:00:00",
          "2021-04-09T00:00:00",
          "2021-04-12T00:00:00",
          "2021-04-13T00:00:00",
          "2021-04-14T00:00:00",
          "2021-04-15T00:00:00",
          "2021-04-16T00:00:00",
          "2021-04-19T00:00:00",
          "2021-04-20T00:00:00",
          "2021-04-21T00:00:00",
          "2021-04-22T00:00:00",
          "2021-04-26T00:00:00",
          "2021-04-27T00:00:00",
          "2021-04-28T00:00:00",
          "2021-04-29T00:00:00",
          "2021-04-30T00:00:00",
          "2021-05-03T00:00:00",
          "2021-05-04T00:00:00",
          "2021-05-06T00:00:00",
          "2021-05-07T00:00:00",
          "2021-05-10T00:00:00",
          "2021-05-12T00:00:00",
          "2021-05-17T00:00:00",
          "2021-05-18T00:00:00",
          "2021-05-21T00:00:00",
          "2021-05-24T00:00:00",
          "2021-05-26T00:00:00",
          "2021-05-27T00:00:00",
          "2021-05-28T00:00:00",
          "2021-06-01T00:00:00",
          "2021-06-02T00:00:00",
          "2021-06-03T00:00:00",
          "2021-06-04T00:00:00",
          "2021-06-07T00:00:00",
          "2021-06-08T00:00:00",
          "2021-06-09T00:00:00",
          "2021-06-10T00:00:00",
          "2021-06-11T00:00:00",
          "2021-06-14T00:00:00",
          "2021-06-15T00:00:00",
          "2021-06-16T00:00:00",
          "2021-06-17T00:00:00",
          "2021-06-18T00:00:00",
          "2021-06-21T00:00:00",
          "2021-06-22T00:00:00",
          "2021-06-23T00:00:00",
          "2021-06-24T00:00:00",
          "2021-06-25T00:00:00",
          "2021-06-28T00:00:00",
          "2021-06-29T00:00:00",
          "2021-06-30T00:00:00",
          "2021-07-01T00:00:00",
          "2021-07-02T00:00:00",
          "2021-07-06T00:00:00",
          "2021-07-07T00:00:00",
          "2021-07-08T00:00:00",
          "2021-07-09T00:00:00",
          "2021-07-12T00:00:00",
          "2021-07-13T00:00:00",
          "2021-07-14T00:00:00",
          "2021-07-16T00:00:00",
          "2021-07-19T00:00:00",
          "2021-07-26T00:00:00",
          "2021-07-27T00:00:00",
          "2021-07-28T00:00:00",
          "2021-07-29T00:00:00",
          "2021-07-30T00:00:00",
          "2021-08-02T00:00:00",
          "2021-08-03T00:00:00",
          "2021-08-04T00:00:00",
          "2021-08-05T00:00:00",
          "2021-08-06T00:00:00",
          "2021-08-09T00:00:00",
          "2021-08-10T00:00:00",
          "2021-08-11T00:00:00",
          "2021-08-12T00:00:00",
          "2021-08-13T00:00:00",
          "2021-08-16T00:00:00",
          "2021-08-17T00:00:00",
          "2021-08-18T00:00:00",
          "2021-08-19T00:00:00",
          "2021-08-20T00:00:00",
          "2021-08-23T00:00:00",
          "2021-08-24T00:00:00",
          "2021-08-25T00:00:00",
          "2021-08-26T00:00:00",
          "2021-08-27T00:00:00",
          "2021-08-31T00:00:00",
          "2021-09-01T00:00:00",
          "2021-09-02T00:00:00",
          "2021-09-03T00:00:00",
          "2021-09-06T00:00:00",
          "2021-09-07T00:00:00",
          "2021-09-08T00:00:00",
          "2021-09-09T00:00:00",
          "2021-09-10T00:00:00",
          "2021-09-13T00:00:00",
          "2021-09-14T00:00:00",
          "2021-09-15T00:00:00",
          "2021-09-16T00:00:00",
          "2021-09-17T00:00:00",
          "2021-09-20T00:00:00",
          "2021-09-21T00:00:00",
          "2021-09-22T00:00:00",
          "2021-09-23T00:00:00",
          "2021-09-24T00:00:00",
          "2021-09-27T00:00:00",
          "2021-09-28T00:00:00",
          "2021-09-29T00:00:00",
          "2021-09-30T00:00:00",
          "2021-10-01T00:00:00",
          "2021-10-04T00:00:00",
          "2021-10-05T00:00:00",
          "2021-10-06T00:00:00",
          "2021-10-07T00:00:00",
          "2021-10-08T00:00:00",
          "2021-10-11T00:00:00",
          "2021-10-12T00:00:00",
          "2021-10-13T00:00:00",
          "2021-10-14T00:00:00",
          "2021-10-15T00:00:00",
          "2021-10-18T00:00:00",
          "2021-10-19T00:00:00",
          "2021-10-20T00:00:00",
          "2021-10-21T00:00:00",
          "2021-10-22T00:00:00",
          "2021-10-25T00:00:00",
          "2021-10-26T00:00:00",
          "2021-10-27T00:00:00",
          "2021-10-28T00:00:00",
          "2021-11-01T00:00:00",
          "2021-11-02T00:00:00",
          "2021-11-03T00:00:00",
          "2021-11-04T00:00:00",
          "2021-11-05T00:00:00",
          "2021-11-08T00:00:00",
          "2021-11-09T00:00:00",
          "2021-11-10T00:00:00",
          "2021-11-11T00:00:00",
          "2021-11-12T00:00:00",
          "2021-11-15T00:00:00",
          "2021-11-16T00:00:00",
          "2021-11-17T00:00:00",
          "2021-11-18T00:00:00",
          "2021-11-19T00:00:00",
          "2021-11-22T00:00:00",
          "2021-11-23T00:00:00",
          "2021-11-24T00:00:00",
          "2021-11-25T00:00:00",
          "2021-11-26T00:00:00",
          "2021-11-29T00:00:00",
          "2021-11-30T00:00:00",
          "2021-12-01T00:00:00",
          "2021-12-02T00:00:00",
          "2021-12-03T00:00:00",
          "2021-12-06T00:00:00",
          "2021-12-07T00:00:00",
          "2021-12-08T00:00:00",
          "2021-12-09T00:00:00",
          "2021-12-10T00:00:00",
          "2021-12-13T00:00:00",
          "2021-12-14T00:00:00",
          "2021-12-15T00:00:00",
          "2021-12-16T00:00:00",
          "2021-12-17T00:00:00",
          "2021-12-20T00:00:00",
          "2021-12-21T00:00:00",
          "2021-12-22T00:00:00",
          "2021-12-23T00:00:00",
          "2021-12-24T00:00:00",
          "2021-12-27T00:00:00",
          "2021-12-28T00:00:00",
          "2021-12-29T00:00:00",
          "2021-12-30T00:00:00",
          "2022-01-03T00:00:00",
          "2022-01-04T00:00:00",
          "2022-01-05T00:00:00",
          "2022-01-06T00:00:00",
          "2022-01-07T00:00:00",
          "2022-01-10T00:00:00",
          "2022-01-11T00:00:00",
          "2022-01-12T00:00:00",
          "2022-01-13T00:00:00",
          "2022-01-14T00:00:00",
          "2022-01-17T00:00:00",
          "2022-01-18T00:00:00",
          "2022-01-19T00:00:00",
          "2022-01-20T00:00:00",
          "2022-01-21T00:00:00",
          "2022-01-24T00:00:00",
          "2022-01-25T00:00:00",
          "2022-01-26T00:00:00",
          "2022-01-27T00:00:00",
          "2022-01-28T00:00:00",
          "2022-01-31T00:00:00",
          "2022-02-01T00:00:00",
          "2022-02-02T00:00:00",
          "2022-02-03T00:00:00",
          "2022-02-04T00:00:00",
          "2022-02-07T00:00:00",
          "2022-02-08T00:00:00",
          "2022-02-09T00:00:00",
          "2022-02-10T00:00:00",
          "2022-02-11T00:00:00",
          "2022-02-14T00:00:00",
          "2022-02-15T00:00:00",
          "2022-02-16T00:00:00",
          "2022-02-17T00:00:00",
          "2022-02-18T00:00:00",
          "2022-02-21T00:00:00",
          "2022-02-22T00:00:00",
          "2022-02-23T00:00:00",
          "2022-02-24T00:00:00",
          "2022-02-25T00:00:00",
          "2022-02-28T00:00:00",
          "2022-03-01T00:00:00",
          "2022-03-02T00:00:00",
          "2022-03-03T00:00:00",
          "2022-03-04T00:00:00",
          "2022-03-07T00:00:00",
          "2022-03-08T00:00:00",
          "2022-03-09T00:00:00",
          "2022-03-10T00:00:00",
          "2022-03-11T00:00:00",
          "2022-03-14T00:00:00",
          "2022-03-15T00:00:00",
          "2022-03-16T00:00:00",
          "2022-03-17T00:00:00",
          "2022-03-18T00:00:00",
          "2022-03-21T00:00:00",
          "2022-03-22T00:00:00",
          "2022-03-23T00:00:00",
          "2022-03-24T00:00:00",
          "2022-03-25T00:00:00",
          "2022-03-28T00:00:00",
          "2022-03-29T00:00:00",
          "2022-03-30T00:00:00",
          "2022-03-31T00:00:00",
          "2022-04-01T00:00:00",
          "2022-04-04T00:00:00",
          "2022-04-05T00:00:00",
          "2022-04-06T00:00:00",
          "2022-04-07T00:00:00",
          "2022-04-08T00:00:00",
          "2022-04-11T00:00:00",
          "2022-04-12T00:00:00",
          "2022-04-13T00:00:00",
          "2022-04-14T00:00:00",
          "2022-04-15T00:00:00",
          "2022-04-18T00:00:00",
          "2022-04-19T00:00:00",
          "2022-04-20T00:00:00",
          "2022-04-21T00:00:00",
          "2022-04-22T00:00:00",
          "2022-04-25T00:00:00",
          "2022-04-26T00:00:00",
          "2022-04-27T00:00:00",
          "2022-04-28T00:00:00",
          "2022-04-29T00:00:00",
          "2022-05-05T00:00:00",
          "2022-05-06T00:00:00",
          "2022-05-09T00:00:00",
          "2022-05-10T00:00:00",
          "2022-05-11T00:00:00",
          "2022-05-12T00:00:00",
          "2022-05-13T00:00:00",
          "2022-05-16T00:00:00",
          "2022-05-17T00:00:00",
          "2022-05-18T00:00:00",
          "2022-05-20T00:00:00",
          "2022-05-23T00:00:00",
          "2022-05-24T00:00:00",
          "2022-05-25T00:00:00",
          "2022-05-26T00:00:00",
          "2022-05-27T00:00:00",
          "2022-05-30T00:00:00",
          "2022-05-31T00:00:00",
          "2022-06-01T00:00:00",
          "2022-06-02T00:00:00",
          "2022-06-03T00:00:00",
          "2022-06-06T00:00:00",
          "2022-06-07T00:00:00",
          "2022-06-08T00:00:00",
          "2022-06-09T00:00:00",
          "2022-06-10T00:00:00",
          "2022-06-13T00:00:00",
          "2022-06-14T00:00:00",
          "2022-06-15T00:00:00",
          "2022-06-16T00:00:00",
          "2022-06-17T00:00:00",
          "2022-06-20T00:00:00",
          "2022-06-21T00:00:00",
          "2022-06-22T00:00:00",
          "2022-06-23T00:00:00",
          "2022-06-24T00:00:00",
          "2022-06-27T00:00:00",
          "2022-06-28T00:00:00",
          "2022-06-29T00:00:00",
          "2022-06-30T00:00:00",
          "2022-07-01T00:00:00",
          "2022-07-04T00:00:00",
          "2022-07-05T00:00:00",
          "2022-07-06T00:00:00",
          "2022-07-07T00:00:00",
          "2022-07-08T00:00:00",
          "2022-07-13T00:00:00",
          "2022-07-14T00:00:00",
          "2022-07-18T00:00:00",
          "2022-07-19T00:00:00",
          "2022-07-20T00:00:00",
          "2022-07-21T00:00:00",
          "2022-07-22T00:00:00",
          "2022-07-25T00:00:00",
          "2022-07-26T00:00:00",
          "2022-07-27T00:00:00",
          "2022-07-28T00:00:00",
          "2022-07-29T00:00:00",
          "2022-08-01T00:00:00",
          "2022-08-02T00:00:00",
          "2022-08-03T00:00:00",
          "2022-08-04T00:00:00",
          "2022-08-05T00:00:00",
          "2022-08-08T00:00:00",
          "2022-08-09T00:00:00",
          "2022-08-10T00:00:00",
          "2022-08-11T00:00:00",
          "2022-08-12T00:00:00",
          "2022-08-15T00:00:00",
          "2022-08-16T00:00:00",
          "2022-08-17T00:00:00",
          "2022-08-18T00:00:00",
          "2022-08-19T00:00:00",
          "2022-08-22T00:00:00",
          "2022-08-23T00:00:00",
          "2022-08-24T00:00:00",
          "2022-08-25T00:00:00",
          "2022-08-26T00:00:00",
          "2022-08-29T00:00:00",
          "2022-08-31T00:00:00",
          "2022-09-01T00:00:00",
          "2022-09-02T00:00:00",
          "2022-09-05T00:00:00",
          "2022-09-06T00:00:00",
          "2022-09-07T00:00:00",
          "2022-09-08T00:00:00",
          "2022-09-09T00:00:00",
          "2022-09-12T00:00:00",
          "2022-09-13T00:00:00",
          "2022-09-14T00:00:00",
          "2022-09-15T00:00:00",
          "2022-09-16T00:00:00",
          "2022-09-19T00:00:00",
          "2022-09-20T00:00:00",
          "2022-09-21T00:00:00",
          "2022-09-22T00:00:00",
          "2022-09-23T00:00:00",
          "2022-09-26T00:00:00",
          "2022-09-27T00:00:00",
          "2022-09-28T00:00:00",
          "2022-09-29T00:00:00",
          "2022-09-30T00:00:00",
          "2022-10-03T00:00:00",
          "2022-10-04T00:00:00",
          "2022-10-05T00:00:00",
          "2022-10-06T00:00:00",
          "2022-10-07T00:00:00",
          "2022-10-10T00:00:00",
          "2022-10-11T00:00:00",
          "2022-10-12T00:00:00",
          "2022-10-13T00:00:00",
          "2022-10-14T00:00:00",
          "2022-10-17T00:00:00",
          "2022-10-18T00:00:00",
          "2022-10-19T00:00:00",
          "2022-10-20T00:00:00",
          "2022-10-21T00:00:00",
          "2022-10-24T00:00:00",
          "2022-10-25T00:00:00",
          "2022-10-26T00:00:00",
          "2022-10-27T00:00:00",
          "2022-10-28T00:00:00",
          "2022-10-31T00:00:00",
          "2022-11-01T00:00:00",
          "2022-11-02T00:00:00",
          "2022-11-03T00:00:00",
          "2022-11-04T00:00:00",
          "2022-11-07T00:00:00",
          "2022-11-08T00:00:00",
          "2022-11-09T00:00:00",
          "2022-11-10T00:00:00",
          "2022-11-11T00:00:00",
          "2022-11-14T00:00:00",
          "2022-11-15T00:00:00",
          "2022-11-16T00:00:00",
          "2022-11-17T00:00:00",
          "2022-11-18T00:00:00",
          "2022-11-21T00:00:00",
          "2022-11-22T00:00:00",
          "2022-11-23T00:00:00",
          "2022-11-24T00:00:00",
          "2022-11-25T00:00:00",
          "2022-11-28T00:00:00",
          "2022-11-29T00:00:00",
          "2022-11-30T00:00:00",
          "2022-12-01T00:00:00",
          "2022-12-02T00:00:00",
          "2022-12-05T00:00:00",
          "2022-12-06T00:00:00",
          "2022-12-07T00:00:00",
          "2022-12-08T00:00:00",
          "2022-12-09T00:00:00",
          "2022-12-12T00:00:00",
          "2022-12-13T00:00:00",
          "2022-12-14T00:00:00",
          "2022-12-15T00:00:00",
          "2022-12-16T00:00:00",
          "2022-12-19T00:00:00",
          "2022-12-20T00:00:00",
          "2022-12-21T00:00:00",
          "2022-12-22T00:00:00",
          "2022-12-23T00:00:00",
          "2022-12-27T00:00:00",
          "2022-12-28T00:00:00",
          "2022-12-29T00:00:00",
          "2022-12-30T00:00:00"
         ],
         "xaxis": "x2",
         "y": [
          1.002309469307048,
          1.0004536007670797,
          0.999677514104034,
          0.9913525071073918,
          0.9905115453519936,
          0.9866137910169622,
          1.0007485829831164,
          1.000737560515969,
          0.9907427022344536,
          0.9850231965196717,
          0.9892512049656109,
          0.9937499461998628,
          0.9974825734794401,
          0.9886358363711603,
          0.9935364252648384,
          0.9900184736549388,
          0.9835361082376881,
          0.9857507843272695,
          0.9799520218249048,
          0.9714124441344624,
          0.9552357663732451,
          0.9531168282840287,
          0.9479036212268783,
          0.9397350282878497,
          0.9356501019630699,
          0.9389633506116629,
          0.9421335171390967,
          0.940481301801659,
          0.9384944233664546,
          0.9292514023202608,
          0.9232292511503781,
          0.9270201400420197,
          0.9314463429448547,
          0.9395731554846012,
          0.951143176809401,
          0.9599437245315399,
          0.9801831787073648,
          0.9864101378144317,
          0.9640297006150956,
          0.977297076904698,
          0.9887481605601849,
          0.9891246040572337,
          0.98549212376488,
          1.0117395573671126,
          0.9956619768343432,
          0.9830836622052619,
          0.9844497133003807,
          0.9938237442418106,
          0.9885258216514428,
          0.980173310974871,
          0.9875703312135904,
          0.9601627042121991,
          1.059963480991703,
          1.0262991867098858,
          1.0337304290847007,
          1.029390096449737,
          1.0267460690207997,
          1.052271478536947,
          1.0689698864098018,
          1.0730458897849864,
          1.066246602193282,
          1.0598743564716264,
          1.0552203559144144,
          1.0629321988100355,
          1.0641595767708538,
          1.0680441041453084,
          1.0685505077788175,
          1.0681630418146215,
          1.0665283574487419,
          1.0649070050193166,
          1.0578390841568517,
          1.0642795641989427,
          1.071334258100831,
          1.0732748421740168,
          1.0852543743973073,
          1.1188317486524773,
          1.1007595214695616,
          1.0919667419623644,
          1.0931456210677348,
          1.0923409809659839,
          1.095437454427347,
          1.095100586836151,
          1.099254797240142,
          1.0991909719065656,
          1.1025053752898122,
          1.1087851372633082,
          1.1294429203113416,
          1.110889798633172,
          1.1262827264922792,
          1.1293273418701117,
          1.1397295065566884,
          1.134379830858667,
          1.139009581988155,
          1.1422898682111837,
          1.1592303504577683,
          1.1531576009148858,
          1.161821575020276,
          1.1617984803272057,
          1.15362757791887,
          1.152336374624475,
          1.1502636259213994,
          1.1285160882880723,
          1.1168701694037728,
          1.128257427725683,
          1.1406507748584453,
          1.1370612297000273,
          1.1425881046794257,
          1.143614033931143,
          1.150454157139231,
          1.1350612292801237,
          1.1330193434850606,
          1.1420113672079293,
          1.1497463047966208,
          1.1407201639135343,
          1.1430240694990699,
          1.134858625836369,
          1.1302101890006695,
          1.1308552657684792,
          1.1301771215992278,
          1.1265413870546688,
          1.1316433196815703,
          1.1308629290075434,
          1.1284753576475661,
          1.1170264784855088,
          1.1130021232421001,
          1.1092827229230995,
          1.1076546520375083,
          1.111492990025822,
          1.113216798911778,
          1.114975774716728,
          1.1063172593569723,
          1.1017744282541315,
          1.0909386082172177,
          1.097166722058938,
          1.1038284912509955,
          1.1102039912248565,
          1.114554191592314,
          1.1173324831686926,
          1.1093597752172528,
          1.1147930117138383,
          1.1058956762325585,
          1.1045626925388814,
          1.0963367827706871,
          1.0860887226724172,
          1.0889540392513204,
          1.0953790878394054,
          1.0922827193539197,
          1.0893040288272158,
          1.0880183892543331,
          1.0849901501134054,
          1.083695692566805,
          1.0863463334760306,
          1.0795381229347307,
          1.0796702875646205,
          1.0819477392290027,
          1.0874118386336005,
          1.08171101862503,
          1.0880591198948393,
          1.1032219406302626,
          1.099089775160566,
          1.0997622506324272,
          1.095330693959835,
          1.0952436689573104,
          1.0963642864506165,
          1.1045075802031452,
          1.1153775174002767,
          1.1183738438744162,
          1.1125067420757384,
          1.1135569207551796,
          1.131539918442141,
          1.1436987494643607,
          1.1351194908921878,
          1.1404163637237799,
          1.1385946123440294,
          1.1317193222169477,
          1.1304743083086937,
          1.1317644618443128,
          1.1311105671027855,
          1.1278017274410512,
          1.1286966467975323,
          1.140115817786231,
          1.1438760537216153,
          1.1471815341552665,
          1.1674232978003984,
          1.1722016947725582,
          1.1790340497657044,
          1.1939943720332504,
          1.1913162274440956,
          1.181927919783313,
          1.2197530379494097,
          1.2420608318414512,
          1.224587492040204,
          1.2171960355229972,
          1.2111825973509547,
          1.2189000039680882,
          1.218030383798107,
          1.2235528497906467,
          1.2321728390033255,
          1.232612058075175,
          1.2339626777162875,
          1.2350942127008635,
          1.2411208778334826,
          1.243640508847472,
          1.2498861536607504,
          1.26309957234927,
          1.2577862183048958,
          1.2877189350659113,
          1.3368267555798352,
          1.3810527778821704,
          1.3789657524597423,
          1.406178544232321,
          1.581875095921708,
          1.4642552937760431,
          1.4739254616681632,
          1.5332625515982683,
          1.5792487044402066,
          1.6838575863652292,
          1.6751021782704552,
          1.7037183925505759,
          1.7012186019774516,
          1.7118672500246168,
          1.678272344797889,
          1.7053838348485901,
          1.7123395364979082,
          1.7246128962025815,
          1.7143539186130419,
          1.7796659205681127,
          1.8374950320165928,
          1.951888505540312,
          2.05346463436167,
          1.6876771336714536,
          1.5245225749575004,
          1.4946713194774972,
          1.4086893572725923,
          1.3462811980435017,
          1.4367607467480048,
          1.4697811189966659,
          1.5752364214227212,
          1,
          0.9719194189978676,
          0.9922307985803313,
          1.0168787365301895,
          1.0160972519203884,
          1.0264339821930504,
          1.02852095483142,
          1.029459087959053,
          0.990392705591134,
          1.0181532715650543,
          1.009031870093864,
          1.0088462149166182,
          1.0072372243088112,
          0.9991928363345703,
          0.9903834761995023,
          1.002814399382899,
          1.0030612699128048,
          1.0043694576953883,
          1.0028842162774196,
          0.9943974453546243,
          0.989812007338057,
          0.9817288182479764,
          0.9907462477971106,
          0.9994054890519638,
          1.0206629126691733,
          1.0221415616645477,
          1.0221066532172873,
          1.0207754861330902,
          1.0175350906806564,
          1.0136672849521926,
          1.0103906625679797,
          1.0118305104475143,
          1.0168234229653759,
          1.0173533909569668,
          1.0120662052514988,
          1.013783813869666,
          1.0166265292772312,
          1.0264089309871927,
          1.0273352605391333,
          1.0306869109709653,
          1.0328581410485858,
          1.0179136213075135,
          1.0146909940035953,
          1.0229539364830758,
          1.0270811069518855,
          1.0192915631996404,
          1.027963298664934,
          1.038888575312809,
          1.0662884415933647,
          1.0779820180058524,
          1.0615087468576905,
          1.0654930815036274,
          1.0615779359024402,
          1.05630588137645,
          1.0744195984059397,
          1.0770004376740754,
          1.074984537629768,
          1.0761484455350054,
          1.0743038229081914,
          1.0737672624940064,
          1.0718567156412508,
          1.072823102008573,
          1.0637972592725091,
          1.0766606453780807,
          1.069137121573753,
          1.0674576234366777,
          1.0607266971830955,
          1.0565468501185098,
          1.05496680338514,
          1.0537284324970773,
          1.0562360644819295,
          1.0500759164550446,
          1.0387075662238672,
          1.04649780061086,
          1.0414956587013668,
          1.0412237369656032,
          1.0393771052195224,
          1.040697724427569,
          1.04772826059181,
          1.0488171404494286,
          1.0488474655933617,
          1.0419315120123043,
          1.036959632461767,
          1.0287862213596124,
          1.022489829932449,
          1.0294130037858713,
          1.031389349294614,
          1.0358483383673283,
          1.0497493717892155,
          1.0624021770816374,
          1.0578562936006348,
          1.0528962804107669,
          1.0599597159030014,
          1.0710548259138966,
          1.1030795591766303,
          1.1074930919259336,
          1.1068334729566582,
          1.1200419252962996,
          1.1326288063627803,
          1.1479920391160452,
          1.1553721620327064,
          1.1517611468605282,
          1.1617752251359406,
          1.1573017955184963,
          1.1491638579283958,
          1.1660636902108865,
          1.1613295773685774,
          1.168359987962864,
          1.1858648162845646,
          1.2119256045738103,
          1.2061070696072556,
          1.1878003515582007,
          1.1833624582377877,
          1.185446166057349,
          1.185243998431129,
          1.2008659052899922,
          1.1972417052726259,
          1.1991061679521995,
          1.2026152203215885,
          1.205991168539553,
          1.2002550074629363,
          1.1477707848567908,
          1.1504483129896403,
          1.1479071538270238,
          1.1350554457271904,
          1.151569527110459,
          1.149373308611958,
          1.1524595669456434,
          1.1446634307708043,
          1.1525202172335094,
          1.1542976599348405,
          1.1371787080823164,
          1.1474989259060044,
          1.1430399368332902,
          1.164571165735576,
          1.1811273130534927,
          1.1798192508408636,
          1.1926411988615577,
          1.1916122786570569,
          1.1992997968215358,
          1.1917676086903701,
          1.199006842118448,
          1.203853591209651,
          1.2027719316243974,
          1.2069385938437949,
          1.1993234039729204,
          1.1986051438350458,
          1.2100611418942366,
          1.1981193136823471,
          1.203401288234717,
          1.2020944817216295,
          1.2104482740629545,
          1.2192121778746117,
          1.2104133656156943,
          1.2009324573657043,
          1.1987914896470397,
          1.201903489821331,
          1.199199717568059,
          1.1940777191373069,
          1.1832794564980786,
          1.187449509106239,
          1.1904870462977049,
          1.1917946062305174,
          1.1886391588520822,
          1.1978348977361433,
          1.2016316308705444,
          1.1922896029898709,
          1.188140771703966,
          1.1931034218628718,
          1.187745728628135,
          1.1989528470381532,
          1.2021371755060486,
          1.2070090385880865,
          1.214830791033577,
          1.1983570176055982,
          1.1981424185539151,
          1.2011450472981207,
          1.2043762133589229,
          1.2077910882626812,
          1.2018785014004503,
          1.1867253471805181,
          1.1872980717415051,
          1.1748072516899675,
          1.1674172087469268,
          1.1619161146245236,
          1.1832696620416532,
          1.194626083127184,
          1.1892368718339499,
          1.1967625303274985,
          1.2185932435704887,
          1.2101730247234055,
          1.1968638652805166,
          1.1849425049711575,
          1.18720916821395,
          1.1864533626597775,
          1.183099765893656,
          1.191812311594056,
          1.1914462751776391,
          1.202016126070225,
          1.2060715333102243,
          1.1956452088752592,
          1.1962410383078144,
          1.2042972298577475,
          1.2065244641349295,
          1.2205413358395423,
          1.2350105105190892,
          1.220847475387818,
          1.2166617265353863,
          1.2116095449991546,
          1.2072098249448104,
          1.2026836559466132,
          1.1944082192566925,
          1.2157281139261034,
          1.216455038390816,
          1.2305712359291803,
          1.2263038666065353,
          1.2401548604016845,
          1.258172516416231,
          1.2611482731902435,
          1.2683144249049922,
          1.2730617225924896,
          1.2677594057075436,
          1.2655875477801524,
          1.2528234875083324,
          1.2627644840704153,
          1.2754383851151385,
          1.2754996632527753,
          1.2694876249868388,
          1.26538801712297,
          1.266028549459211,
          1.2777537695001506,
          1.2908529759796608,
          1.2929892976100208,
          1.2869898163395015,
          1.283447864642119,
          1.2891643112359303,
          1.2953869303150167,
          1.2908286154085509,
          1.2920807989915728,
          1.299743328735171,
          1.3081062876831508,
          1.3042884587964485,
          1.297076348478472,
          1.30181975349739,
          1.3035163291482332,
          1.3025189270022302,
          1.30298102443359,
          1.3045347014765833,
          1.3038842491139626,
          1.3079745648012224,
          1.3125863725081663
         ],
         "yaxis": "y2"
        }
       ],
       "layout": {
        "template": {
         "data": {
          "bar": [
           {
            "error_x": {
             "color": "#2a3f5f"
            },
            "error_y": {
             "color": "#2a3f5f"
            },
            "marker": {
             "line": {
              "color": "#E5ECF6",
              "width": 0.5
             },
             "pattern": {
              "fillmode": "overlay",
              "size": 10,
              "solidity": 0.2
             }
            },
            "type": "bar"
           }
          ],
          "barpolar": [
           {
            "marker": {
             "line": {
              "color": "#E5ECF6",
              "width": 0.5
             },
             "pattern": {
              "fillmode": "overlay",
              "size": 10,
              "solidity": 0.2
             }
            },
            "type": "barpolar"
           }
          ],
          "carpet": [
           {
            "aaxis": {
             "endlinecolor": "#2a3f5f",
             "gridcolor": "white",
             "linecolor": "white",
             "minorgridcolor": "white",
             "startlinecolor": "#2a3f5f"
            },
            "baxis": {
             "endlinecolor": "#2a3f5f",
             "gridcolor": "white",
             "linecolor": "white",
             "minorgridcolor": "white",
             "startlinecolor": "#2a3f5f"
            },
            "type": "carpet"
           }
          ],
          "choropleth": [
           {
            "colorbar": {
             "outlinewidth": 0,
             "ticks": ""
            },
            "type": "choropleth"
           }
          ],
          "contour": [
           {
            "colorbar": {
             "outlinewidth": 0,
             "ticks": ""
            },
            "colorscale": [
             [
              0,
              "#0d0887"
             ],
             [
              0.1111111111111111,
              "#46039f"
             ],
             [
              0.2222222222222222,
              "#7201a8"
             ],
             [
              0.3333333333333333,
              "#9c179e"
             ],
             [
              0.4444444444444444,
              "#bd3786"
             ],
             [
              0.5555555555555556,
              "#d8576b"
             ],
             [
              0.6666666666666666,
              "#ed7953"
             ],
             [
              0.7777777777777778,
              "#fb9f3a"
             ],
             [
              0.8888888888888888,
              "#fdca26"
             ],
             [
              1,
              "#f0f921"
             ]
            ],
            "type": "contour"
           }
          ],
          "contourcarpet": [
           {
            "colorbar": {
             "outlinewidth": 0,
             "ticks": ""
            },
            "type": "contourcarpet"
           }
          ],
          "heatmap": [
           {
            "colorbar": {
             "outlinewidth": 0,
             "ticks": ""
            },
            "colorscale": [
             [
              0,
              "#0d0887"
             ],
             [
              0.1111111111111111,
              "#46039f"
             ],
             [
              0.2222222222222222,
              "#7201a8"
             ],
             [
              0.3333333333333333,
              "#9c179e"
             ],
             [
              0.4444444444444444,
              "#bd3786"
             ],
             [
              0.5555555555555556,
              "#d8576b"
             ],
             [
              0.6666666666666666,
              "#ed7953"
             ],
             [
              0.7777777777777778,
              "#fb9f3a"
             ],
             [
              0.8888888888888888,
              "#fdca26"
             ],
             [
              1,
              "#f0f921"
             ]
            ],
            "type": "heatmap"
           }
          ],
          "heatmapgl": [
           {
            "colorbar": {
             "outlinewidth": 0,
             "ticks": ""
            },
            "colorscale": [
             [
              0,
              "#0d0887"
             ],
             [
              0.1111111111111111,
              "#46039f"
             ],
             [
              0.2222222222222222,
              "#7201a8"
             ],
             [
              0.3333333333333333,
              "#9c179e"
             ],
             [
              0.4444444444444444,
              "#bd3786"
             ],
             [
              0.5555555555555556,
              "#d8576b"
             ],
             [
              0.6666666666666666,
              "#ed7953"
             ],
             [
              0.7777777777777778,
              "#fb9f3a"
             ],
             [
              0.8888888888888888,
              "#fdca26"
             ],
             [
              1,
              "#f0f921"
             ]
            ],
            "type": "heatmapgl"
           }
          ],
          "histogram": [
           {
            "marker": {
             "pattern": {
              "fillmode": "overlay",
              "size": 10,
              "solidity": 0.2
             }
            },
            "type": "histogram"
           }
          ],
          "histogram2d": [
           {
            "colorbar": {
             "outlinewidth": 0,
             "ticks": ""
            },
            "colorscale": [
             [
              0,
              "#0d0887"
             ],
             [
              0.1111111111111111,
              "#46039f"
             ],
             [
              0.2222222222222222,
              "#7201a8"
             ],
             [
              0.3333333333333333,
              "#9c179e"
             ],
             [
              0.4444444444444444,
              "#bd3786"
             ],
             [
              0.5555555555555556,
              "#d8576b"
             ],
             [
              0.6666666666666666,
              "#ed7953"
             ],
             [
              0.7777777777777778,
              "#fb9f3a"
             ],
             [
              0.8888888888888888,
              "#fdca26"
             ],
             [
              1,
              "#f0f921"
             ]
            ],
            "type": "histogram2d"
           }
          ],
          "histogram2dcontour": [
           {
            "colorbar": {
             "outlinewidth": 0,
             "ticks": ""
            },
            "colorscale": [
             [
              0,
              "#0d0887"
             ],
             [
              0.1111111111111111,
              "#46039f"
             ],
             [
              0.2222222222222222,
              "#7201a8"
             ],
             [
              0.3333333333333333,
              "#9c179e"
             ],
             [
              0.4444444444444444,
              "#bd3786"
             ],
             [
              0.5555555555555556,
              "#d8576b"
             ],
             [
              0.6666666666666666,
              "#ed7953"
             ],
             [
              0.7777777777777778,
              "#fb9f3a"
             ],
             [
              0.8888888888888888,
              "#fdca26"
             ],
             [
              1,
              "#f0f921"
             ]
            ],
            "type": "histogram2dcontour"
           }
          ],
          "mesh3d": [
           {
            "colorbar": {
             "outlinewidth": 0,
             "ticks": ""
            },
            "type": "mesh3d"
           }
          ],
          "parcoords": [
           {
            "line": {
             "colorbar": {
              "outlinewidth": 0,
              "ticks": ""
             }
            },
            "type": "parcoords"
           }
          ],
          "pie": [
           {
            "automargin": true,
            "type": "pie"
           }
          ],
          "scatter": [
           {
            "fillpattern": {
             "fillmode": "overlay",
             "size": 10,
             "solidity": 0.2
            },
            "type": "scatter"
           }
          ],
          "scatter3d": [
           {
            "line": {
             "colorbar": {
              "outlinewidth": 0,
              "ticks": ""
             }
            },
            "marker": {
             "colorbar": {
              "outlinewidth": 0,
              "ticks": ""
             }
            },
            "type": "scatter3d"
           }
          ],
          "scattercarpet": [
           {
            "marker": {
             "colorbar": {
              "outlinewidth": 0,
              "ticks": ""
             }
            },
            "type": "scattercarpet"
           }
          ],
          "scattergeo": [
           {
            "marker": {
             "colorbar": {
              "outlinewidth": 0,
              "ticks": ""
             }
            },
            "type": "scattergeo"
           }
          ],
          "scattergl": [
           {
            "marker": {
             "colorbar": {
              "outlinewidth": 0,
              "ticks": ""
             }
            },
            "type": "scattergl"
           }
          ],
          "scattermapbox": [
           {
            "marker": {
             "colorbar": {
              "outlinewidth": 0,
              "ticks": ""
             }
            },
            "type": "scattermapbox"
           }
          ],
          "scatterpolar": [
           {
            "marker": {
             "colorbar": {
              "outlinewidth": 0,
              "ticks": ""
             }
            },
            "type": "scatterpolar"
           }
          ],
          "scatterpolargl": [
           {
            "marker": {
             "colorbar": {
              "outlinewidth": 0,
              "ticks": ""
             }
            },
            "type": "scatterpolargl"
           }
          ],
          "scatterternary": [
           {
            "marker": {
             "colorbar": {
              "outlinewidth": 0,
              "ticks": ""
             }
            },
            "type": "scatterternary"
           }
          ],
          "surface": [
           {
            "colorbar": {
             "outlinewidth": 0,
             "ticks": ""
            },
            "colorscale": [
             [
              0,
              "#0d0887"
             ],
             [
              0.1111111111111111,
              "#46039f"
             ],
             [
              0.2222222222222222,
              "#7201a8"
             ],
             [
              0.3333333333333333,
              "#9c179e"
             ],
             [
              0.4444444444444444,
              "#bd3786"
             ],
             [
              0.5555555555555556,
              "#d8576b"
             ],
             [
              0.6666666666666666,
              "#ed7953"
             ],
             [
              0.7777777777777778,
              "#fb9f3a"
             ],
             [
              0.8888888888888888,
              "#fdca26"
             ],
             [
              1,
              "#f0f921"
             ]
            ],
            "type": "surface"
           }
          ],
          "table": [
           {
            "cells": {
             "fill": {
              "color": "#EBF0F8"
             },
             "line": {
              "color": "white"
             }
            },
            "header": {
             "fill": {
              "color": "#C8D4E3"
             },
             "line": {
              "color": "white"
             }
            },
            "type": "table"
           }
          ]
         },
         "layout": {
          "annotationdefaults": {
           "arrowcolor": "#2a3f5f",
           "arrowhead": 0,
           "arrowwidth": 1
          },
          "autotypenumbers": "strict",
          "coloraxis": {
           "colorbar": {
            "outlinewidth": 0,
            "ticks": ""
           }
          },
          "colorscale": {
           "diverging": [
            [
             0,
             "#8e0152"
            ],
            [
             0.1,
             "#c51b7d"
            ],
            [
             0.2,
             "#de77ae"
            ],
            [
             0.3,
             "#f1b6da"
            ],
            [
             0.4,
             "#fde0ef"
            ],
            [
             0.5,
             "#f7f7f7"
            ],
            [
             0.6,
             "#e6f5d0"
            ],
            [
             0.7,
             "#b8e186"
            ],
            [
             0.8,
             "#7fbc41"
            ],
            [
             0.9,
             "#4d9221"
            ],
            [
             1,
             "#276419"
            ]
           ],
           "sequential": [
            [
             0,
             "#0d0887"
            ],
            [
             0.1111111111111111,
             "#46039f"
            ],
            [
             0.2222222222222222,
             "#7201a8"
            ],
            [
             0.3333333333333333,
             "#9c179e"
            ],
            [
             0.4444444444444444,
             "#bd3786"
            ],
            [
             0.5555555555555556,
             "#d8576b"
            ],
            [
             0.6666666666666666,
             "#ed7953"
            ],
            [
             0.7777777777777778,
             "#fb9f3a"
            ],
            [
             0.8888888888888888,
             "#fdca26"
            ],
            [
             1,
             "#f0f921"
            ]
           ],
           "sequentialminus": [
            [
             0,
             "#0d0887"
            ],
            [
             0.1111111111111111,
             "#46039f"
            ],
            [
             0.2222222222222222,
             "#7201a8"
            ],
            [
             0.3333333333333333,
             "#9c179e"
            ],
            [
             0.4444444444444444,
             "#bd3786"
            ],
            [
             0.5555555555555556,
             "#d8576b"
            ],
            [
             0.6666666666666666,
             "#ed7953"
            ],
            [
             0.7777777777777778,
             "#fb9f3a"
            ],
            [
             0.8888888888888888,
             "#fdca26"
            ],
            [
             1,
             "#f0f921"
            ]
           ]
          },
          "colorway": [
           "#636efa",
           "#EF553B",
           "#00cc96",
           "#ab63fa",
           "#FFA15A",
           "#19d3f3",
           "#FF6692",
           "#B6E880",
           "#FF97FF",
           "#FECB52"
          ],
          "font": {
           "color": "#2a3f5f"
          },
          "geo": {
           "bgcolor": "white",
           "lakecolor": "white",
           "landcolor": "#E5ECF6",
           "showlakes": true,
           "showland": true,
           "subunitcolor": "white"
          },
          "hoverlabel": {
           "align": "left"
          },
          "hovermode": "closest",
          "mapbox": {
           "style": "light"
          },
          "paper_bgcolor": "white",
          "plot_bgcolor": "#E5ECF6",
          "polar": {
           "angularaxis": {
            "gridcolor": "white",
            "linecolor": "white",
            "ticks": ""
           },
           "bgcolor": "#E5ECF6",
           "radialaxis": {
            "gridcolor": "white",
            "linecolor": "white",
            "ticks": ""
           }
          },
          "scene": {
           "xaxis": {
            "backgroundcolor": "#E5ECF6",
            "gridcolor": "white",
            "gridwidth": 2,
            "linecolor": "white",
            "showbackground": true,
            "ticks": "",
            "zerolinecolor": "white"
           },
           "yaxis": {
            "backgroundcolor": "#E5ECF6",
            "gridcolor": "white",
            "gridwidth": 2,
            "linecolor": "white",
            "showbackground": true,
            "ticks": "",
            "zerolinecolor": "white"
           },
           "zaxis": {
            "backgroundcolor": "#E5ECF6",
            "gridcolor": "white",
            "gridwidth": 2,
            "linecolor": "white",
            "showbackground": true,
            "ticks": "",
            "zerolinecolor": "white"
           }
          },
          "shapedefaults": {
           "line": {
            "color": "#2a3f5f"
           }
          },
          "ternary": {
           "aaxis": {
            "gridcolor": "white",
            "linecolor": "white",
            "ticks": ""
           },
           "baxis": {
            "gridcolor": "white",
            "linecolor": "white",
            "ticks": ""
           },
           "bgcolor": "#E5ECF6",
           "caxis": {
            "gridcolor": "white",
            "linecolor": "white",
            "ticks": ""
           }
          },
          "title": {
           "x": 0.05
          },
          "xaxis": {
           "automargin": true,
           "gridcolor": "white",
           "linecolor": "white",
           "ticks": "",
           "title": {
            "standoff": 15
           },
           "zerolinecolor": "white",
           "zerolinewidth": 2
          },
          "yaxis": {
           "automargin": true,
           "gridcolor": "white",
           "linecolor": "white",
           "ticks": "",
           "title": {
            "standoff": 15
           },
           "zerolinecolor": "white",
           "zerolinewidth": 2
          }
         }
        },
        "xaxis": {
         "anchor": "y",
         "domain": [
          0,
          0.45
         ]
        },
        "xaxis2": {
         "anchor": "y2",
         "domain": [
          0.55,
          1
         ]
        },
        "yaxis": {
         "anchor": "x",
         "domain": [
          0,
          1
         ]
        },
        "yaxis2": {
         "anchor": "x2",
         "domain": [
          0,
          1
         ]
        }
       }
      },
      "text/html": [
       "<div>                            <div id=\"eb575c6f-2dd0-45b4-b4ac-4634fe02af4d\" class=\"plotly-graph-div\" style=\"height:525px; width:100%;\"></div>            <script type=\"text/javascript\">                require([\"plotly\"], function(Plotly) {                    window.PLOTLYENV=window.PLOTLYENV || {};                                    if (document.getElementById(\"eb575c6f-2dd0-45b4-b4ac-4634fe02af4d\")) {                    Plotly.newPlot(                        \"eb575c6f-2dd0-45b4-b4ac-4634fe02af4d\",                        [{\"name\":\"Normalize BIST30\",\"x\":[\"2021-01-04T00:00:00\",\"2021-01-05T00:00:00\",\"2021-01-06T00:00:00\",\"2021-01-07T00:00:00\",\"2021-01-08T00:00:00\",\"2021-01-11T00:00:00\",\"2021-01-12T00:00:00\",\"2021-01-13T00:00:00\",\"2021-01-14T00:00:00\",\"2021-01-15T00:00:00\",\"2021-01-18T00:00:00\",\"2021-01-19T00:00:00\",\"2021-01-20T00:00:00\",\"2021-01-21T00:00:00\",\"2021-01-25T00:00:00\",\"2021-01-26T00:00:00\",\"2021-01-27T00:00:00\",\"2021-01-28T00:00:00\",\"2021-01-29T00:00:00\",\"2021-02-01T00:00:00\",\"2021-02-02T00:00:00\",\"2021-02-03T00:00:00\",\"2021-02-04T00:00:00\",\"2021-02-05T00:00:00\",\"2021-02-08T00:00:00\",\"2021-02-09T00:00:00\",\"2021-02-10T00:00:00\",\"2021-02-11T00:00:00\",\"2021-02-12T00:00:00\",\"2021-02-16T00:00:00\",\"2021-02-18T00:00:00\",\"2021-02-19T00:00:00\",\"2021-02-22T00:00:00\",\"2021-02-23T00:00:00\",\"2021-02-24T00:00:00\",\"2021-02-25T00:00:00\",\"2021-02-26T00:00:00\",\"2021-03-01T00:00:00\",\"2021-03-02T00:00:00\",\"2021-03-03T00:00:00\",\"2021-03-04T00:00:00\",\"2021-03-05T00:00:00\",\"2021-03-08T00:00:00\",\"2021-03-09T00:00:00\",\"2021-03-10T00:00:00\",\"2021-03-11T00:00:00\",\"2021-03-12T00:00:00\",\"2021-03-15T00:00:00\",\"2021-03-16T00:00:00\",\"2021-03-17T00:00:00\",\"2021-03-18T00:00:00\",\"2021-03-19T00:00:00\",\"2021-03-22T00:00:00\",\"2021-03-23T00:00:00\",\"2021-03-24T00:00:00\",\"2021-03-25T00:00:00\",\"2021-03-26T00:00:00\",\"2021-03-29T00:00:00\",\"2021-03-30T00:00:00\",\"2021-03-31T00:00:00\",\"2021-04-01T00:00:00\",\"2021-04-05T00:00:00\",\"2021-04-06T00:00:00\",\"2021-04-07T00:00:00\",\"2021-04-08T00:00:00\",\"2021-04-09T00:00:00\",\"2021-04-12T00:00:00\",\"2021-04-13T00:00:00\",\"2021-04-14T00:00:00\",\"2021-04-15T00:00:00\",\"2021-04-16T00:00:00\",\"2021-04-19T00:00:00\",\"2021-04-20T00:00:00\",\"2021-04-21T00:00:00\",\"2021-04-22T00:00:00\",\"2021-04-26T00:00:00\",\"2021-04-27T00:00:00\",\"2021-04-28T00:00:00\",\"2021-04-29T00:00:00\",\"2021-04-30T00:00:00\",\"2021-05-03T00:00:00\",\"2021-05-04T00:00:00\",\"2021-05-06T00:00:00\",\"2021-05-07T00:00:00\",\"2021-05-10T00:00:00\",\"2021-05-12T00:00:00\",\"2021-05-17T00:00:00\",\"2021-05-18T00:00:00\",\"2021-05-21T00:00:00\",\"2021-05-24T00:00:00\",\"2021-05-26T00:00:00\",\"2021-05-27T00:00:00\",\"2021-05-28T00:00:00\",\"2021-06-01T00:00:00\",\"2021-06-02T00:00:00\",\"2021-06-03T00:00:00\",\"2021-06-04T00:00:00\",\"2021-06-07T00:00:00\",\"2021-06-08T00:00:00\",\"2021-06-09T00:00:00\",\"2021-06-10T00:00:00\",\"2021-06-11T00:00:00\",\"2021-06-14T00:00:00\",\"2021-06-15T00:00:00\",\"2021-06-16T00:00:00\",\"2021-06-17T00:00:00\",\"2021-06-18T00:00:00\",\"2021-06-21T00:00:00\",\"2021-06-22T00:00:00\",\"2021-06-23T00:00:00\",\"2021-06-24T00:00:00\",\"2021-06-25T00:00:00\",\"2021-06-28T00:00:00\",\"2021-06-29T00:00:00\",\"2021-06-30T00:00:00\",\"2021-07-01T00:00:00\",\"2021-07-02T00:00:00\",\"2021-07-06T00:00:00\",\"2021-07-07T00:00:00\",\"2021-07-08T00:00:00\",\"2021-07-09T00:00:00\",\"2021-07-12T00:00:00\",\"2021-07-13T00:00:00\",\"2021-07-14T00:00:00\",\"2021-07-16T00:00:00\",\"2021-07-19T00:00:00\",\"2021-07-26T00:00:00\",\"2021-07-27T00:00:00\",\"2021-07-28T00:00:00\",\"2021-07-29T00:00:00\",\"2021-07-30T00:00:00\",\"2021-08-02T00:00:00\",\"2021-08-03T00:00:00\",\"2021-08-04T00:00:00\",\"2021-08-05T00:00:00\",\"2021-08-06T00:00:00\",\"2021-08-09T00:00:00\",\"2021-08-10T00:00:00\",\"2021-08-11T00:00:00\",\"2021-08-12T00:00:00\",\"2021-08-13T00:00:00\",\"2021-08-16T00:00:00\",\"2021-08-17T00:00:00\",\"2021-08-18T00:00:00\",\"2021-08-19T00:00:00\",\"2021-08-20T00:00:00\",\"2021-08-23T00:00:00\",\"2021-08-24T00:00:00\",\"2021-08-25T00:00:00\",\"2021-08-26T00:00:00\",\"2021-08-27T00:00:00\",\"2021-08-31T00:00:00\",\"2021-09-01T00:00:00\",\"2021-09-02T00:00:00\",\"2021-09-03T00:00:00\",\"2021-09-06T00:00:00\",\"2021-09-07T00:00:00\",\"2021-09-08T00:00:00\",\"2021-09-09T00:00:00\",\"2021-09-10T00:00:00\",\"2021-09-13T00:00:00\",\"2021-09-14T00:00:00\",\"2021-09-15T00:00:00\",\"2021-09-16T00:00:00\",\"2021-09-17T00:00:00\",\"2021-09-20T00:00:00\",\"2021-09-21T00:00:00\",\"2021-09-22T00:00:00\",\"2021-09-23T00:00:00\",\"2021-09-24T00:00:00\",\"2021-09-27T00:00:00\",\"2021-09-28T00:00:00\",\"2021-09-29T00:00:00\",\"2021-09-30T00:00:00\",\"2021-10-01T00:00:00\",\"2021-10-04T00:00:00\",\"2021-10-05T00:00:00\",\"2021-10-06T00:00:00\",\"2021-10-07T00:00:00\",\"2021-10-08T00:00:00\",\"2021-10-11T00:00:00\",\"2021-10-12T00:00:00\",\"2021-10-13T00:00:00\",\"2021-10-14T00:00:00\",\"2021-10-15T00:00:00\",\"2021-10-18T00:00:00\",\"2021-10-19T00:00:00\",\"2021-10-20T00:00:00\",\"2021-10-21T00:00:00\",\"2021-10-22T00:00:00\",\"2021-10-25T00:00:00\",\"2021-10-26T00:00:00\",\"2021-10-27T00:00:00\",\"2021-10-28T00:00:00\",\"2021-11-01T00:00:00\",\"2021-11-02T00:00:00\",\"2021-11-03T00:00:00\",\"2021-11-04T00:00:00\",\"2021-11-05T00:00:00\",\"2021-11-08T00:00:00\",\"2021-11-09T00:00:00\",\"2021-11-10T00:00:00\",\"2021-11-11T00:00:00\",\"2021-11-12T00:00:00\",\"2021-11-15T00:00:00\",\"2021-11-16T00:00:00\",\"2021-11-17T00:00:00\",\"2021-11-18T00:00:00\",\"2021-11-19T00:00:00\",\"2021-11-22T00:00:00\",\"2021-11-23T00:00:00\",\"2021-11-24T00:00:00\",\"2021-11-25T00:00:00\",\"2021-11-26T00:00:00\",\"2021-11-29T00:00:00\",\"2021-11-30T00:00:00\",\"2021-12-01T00:00:00\",\"2021-12-02T00:00:00\",\"2021-12-03T00:00:00\",\"2021-12-06T00:00:00\",\"2021-12-07T00:00:00\",\"2021-12-08T00:00:00\",\"2021-12-09T00:00:00\",\"2021-12-10T00:00:00\",\"2021-12-13T00:00:00\",\"2021-12-14T00:00:00\",\"2021-12-15T00:00:00\",\"2021-12-16T00:00:00\",\"2021-12-17T00:00:00\",\"2021-12-20T00:00:00\",\"2021-12-21T00:00:00\",\"2021-12-22T00:00:00\",\"2021-12-23T00:00:00\",\"2021-12-24T00:00:00\",\"2021-12-27T00:00:00\",\"2021-12-28T00:00:00\",\"2021-12-29T00:00:00\",\"2021-12-30T00:00:00\",\"2022-01-03T00:00:00\",\"2022-01-04T00:00:00\",\"2022-01-05T00:00:00\",\"2022-01-06T00:00:00\",\"2022-01-07T00:00:00\",\"2022-01-10T00:00:00\",\"2022-01-11T00:00:00\",\"2022-01-12T00:00:00\",\"2022-01-13T00:00:00\",\"2022-01-14T00:00:00\",\"2022-01-17T00:00:00\",\"2022-01-18T00:00:00\",\"2022-01-19T00:00:00\",\"2022-01-20T00:00:00\",\"2022-01-21T00:00:00\",\"2022-01-24T00:00:00\",\"2022-01-25T00:00:00\",\"2022-01-26T00:00:00\",\"2022-01-27T00:00:00\",\"2022-01-28T00:00:00\",\"2022-01-31T00:00:00\",\"2022-02-01T00:00:00\",\"2022-02-02T00:00:00\",\"2022-02-03T00:00:00\",\"2022-02-04T00:00:00\",\"2022-02-07T00:00:00\",\"2022-02-08T00:00:00\",\"2022-02-09T00:00:00\",\"2022-02-10T00:00:00\",\"2022-02-11T00:00:00\",\"2022-02-14T00:00:00\",\"2022-02-15T00:00:00\",\"2022-02-16T00:00:00\",\"2022-02-17T00:00:00\",\"2022-02-18T00:00:00\",\"2022-02-21T00:00:00\",\"2022-02-22T00:00:00\",\"2022-02-23T00:00:00\",\"2022-02-24T00:00:00\",\"2022-02-25T00:00:00\",\"2022-02-28T00:00:00\",\"2022-03-01T00:00:00\",\"2022-03-02T00:00:00\",\"2022-03-03T00:00:00\",\"2022-03-04T00:00:00\",\"2022-03-07T00:00:00\",\"2022-03-08T00:00:00\",\"2022-03-09T00:00:00\",\"2022-03-10T00:00:00\",\"2022-03-11T00:00:00\",\"2022-03-14T00:00:00\",\"2022-03-15T00:00:00\",\"2022-03-16T00:00:00\",\"2022-03-17T00:00:00\",\"2022-03-18T00:00:00\",\"2022-03-21T00:00:00\",\"2022-03-22T00:00:00\",\"2022-03-23T00:00:00\",\"2022-03-24T00:00:00\",\"2022-03-25T00:00:00\",\"2022-03-28T00:00:00\",\"2022-03-29T00:00:00\",\"2022-03-30T00:00:00\",\"2022-03-31T00:00:00\",\"2022-04-01T00:00:00\",\"2022-04-04T00:00:00\",\"2022-04-05T00:00:00\",\"2022-04-06T00:00:00\",\"2022-04-07T00:00:00\",\"2022-04-08T00:00:00\",\"2022-04-11T00:00:00\",\"2022-04-12T00:00:00\",\"2022-04-13T00:00:00\",\"2022-04-14T00:00:00\",\"2022-04-15T00:00:00\",\"2022-04-18T00:00:00\",\"2022-04-19T00:00:00\",\"2022-04-20T00:00:00\",\"2022-04-21T00:00:00\",\"2022-04-22T00:00:00\",\"2022-04-25T00:00:00\",\"2022-04-26T00:00:00\",\"2022-04-27T00:00:00\",\"2022-04-28T00:00:00\",\"2022-04-29T00:00:00\",\"2022-05-05T00:00:00\",\"2022-05-06T00:00:00\",\"2022-05-09T00:00:00\",\"2022-05-10T00:00:00\",\"2022-05-11T00:00:00\",\"2022-05-12T00:00:00\",\"2022-05-13T00:00:00\",\"2022-05-16T00:00:00\",\"2022-05-17T00:00:00\",\"2022-05-18T00:00:00\",\"2022-05-20T00:00:00\",\"2022-05-23T00:00:00\",\"2022-05-24T00:00:00\",\"2022-05-25T00:00:00\",\"2022-05-26T00:00:00\",\"2022-05-27T00:00:00\",\"2022-05-30T00:00:00\",\"2022-05-31T00:00:00\",\"2022-06-01T00:00:00\",\"2022-06-02T00:00:00\",\"2022-06-03T00:00:00\",\"2022-06-06T00:00:00\",\"2022-06-07T00:00:00\",\"2022-06-08T00:00:00\",\"2022-06-09T00:00:00\",\"2022-06-10T00:00:00\",\"2022-06-13T00:00:00\",\"2022-06-14T00:00:00\",\"2022-06-15T00:00:00\",\"2022-06-16T00:00:00\",\"2022-06-17T00:00:00\",\"2022-06-20T00:00:00\",\"2022-06-21T00:00:00\",\"2022-06-22T00:00:00\",\"2022-06-23T00:00:00\",\"2022-06-24T00:00:00\",\"2022-06-27T00:00:00\",\"2022-06-28T00:00:00\",\"2022-06-29T00:00:00\",\"2022-06-30T00:00:00\",\"2022-07-01T00:00:00\",\"2022-07-04T00:00:00\",\"2022-07-05T00:00:00\",\"2022-07-06T00:00:00\",\"2022-07-07T00:00:00\",\"2022-07-08T00:00:00\",\"2022-07-13T00:00:00\",\"2022-07-14T00:00:00\",\"2022-07-18T00:00:00\",\"2022-07-19T00:00:00\",\"2022-07-20T00:00:00\",\"2022-07-21T00:00:00\",\"2022-07-22T00:00:00\",\"2022-07-25T00:00:00\",\"2022-07-26T00:00:00\",\"2022-07-27T00:00:00\",\"2022-07-28T00:00:00\",\"2022-07-29T00:00:00\",\"2022-08-01T00:00:00\",\"2022-08-02T00:00:00\",\"2022-08-03T00:00:00\",\"2022-08-04T00:00:00\",\"2022-08-05T00:00:00\",\"2022-08-08T00:00:00\",\"2022-08-09T00:00:00\",\"2022-08-10T00:00:00\",\"2022-08-11T00:00:00\",\"2022-08-12T00:00:00\",\"2022-08-15T00:00:00\",\"2022-08-16T00:00:00\",\"2022-08-17T00:00:00\",\"2022-08-18T00:00:00\",\"2022-08-19T00:00:00\",\"2022-08-22T00:00:00\",\"2022-08-23T00:00:00\",\"2022-08-24T00:00:00\",\"2022-08-25T00:00:00\",\"2022-08-26T00:00:00\",\"2022-08-29T00:00:00\",\"2022-08-31T00:00:00\",\"2022-09-01T00:00:00\",\"2022-09-02T00:00:00\",\"2022-09-05T00:00:00\",\"2022-09-06T00:00:00\",\"2022-09-07T00:00:00\",\"2022-09-08T00:00:00\",\"2022-09-09T00:00:00\",\"2022-09-12T00:00:00\",\"2022-09-13T00:00:00\",\"2022-09-14T00:00:00\",\"2022-09-15T00:00:00\",\"2022-09-16T00:00:00\",\"2022-09-19T00:00:00\",\"2022-09-20T00:00:00\",\"2022-09-21T00:00:00\",\"2022-09-22T00:00:00\",\"2022-09-23T00:00:00\",\"2022-09-26T00:00:00\",\"2022-09-27T00:00:00\",\"2022-09-28T00:00:00\",\"2022-09-29T00:00:00\",\"2022-09-30T00:00:00\",\"2022-10-03T00:00:00\",\"2022-10-04T00:00:00\",\"2022-10-05T00:00:00\",\"2022-10-06T00:00:00\",\"2022-10-07T00:00:00\",\"2022-10-10T00:00:00\",\"2022-10-11T00:00:00\",\"2022-10-12T00:00:00\",\"2022-10-13T00:00:00\",\"2022-10-14T00:00:00\",\"2022-10-17T00:00:00\",\"2022-10-18T00:00:00\",\"2022-10-19T00:00:00\",\"2022-10-20T00:00:00\",\"2022-10-21T00:00:00\",\"2022-10-24T00:00:00\",\"2022-10-25T00:00:00\",\"2022-10-26T00:00:00\",\"2022-10-27T00:00:00\",\"2022-10-28T00:00:00\",\"2022-10-31T00:00:00\",\"2022-11-01T00:00:00\",\"2022-11-02T00:00:00\",\"2022-11-03T00:00:00\",\"2022-11-04T00:00:00\",\"2022-11-07T00:00:00\",\"2022-11-08T00:00:00\",\"2022-11-09T00:00:00\",\"2022-11-10T00:00:00\",\"2022-11-11T00:00:00\",\"2022-11-14T00:00:00\",\"2022-11-15T00:00:00\",\"2022-11-16T00:00:00\",\"2022-11-17T00:00:00\",\"2022-11-18T00:00:00\",\"2022-11-21T00:00:00\",\"2022-11-22T00:00:00\",\"2022-11-23T00:00:00\",\"2022-11-24T00:00:00\",\"2022-11-25T00:00:00\",\"2022-11-28T00:00:00\",\"2022-11-29T00:00:00\",\"2022-11-30T00:00:00\",\"2022-12-01T00:00:00\",\"2022-12-02T00:00:00\",\"2022-12-05T00:00:00\",\"2022-12-06T00:00:00\",\"2022-12-07T00:00:00\",\"2022-12-08T00:00:00\",\"2022-12-09T00:00:00\",\"2022-12-12T00:00:00\",\"2022-12-13T00:00:00\",\"2022-12-14T00:00:00\",\"2022-12-15T00:00:00\",\"2022-12-16T00:00:00\",\"2022-12-19T00:00:00\",\"2022-12-20T00:00:00\",\"2022-12-21T00:00:00\",\"2022-12-22T00:00:00\",\"2022-12-23T00:00:00\",\"2022-12-27T00:00:00\",\"2022-12-28T00:00:00\",\"2022-12-29T00:00:00\",\"2022-12-30T00:00:00\"],\"y\":[1.0,0.9924375341427978,1.0029039425778423,1.0153063865836538,1.0251073866459113,1.015790413939397,1.0205094221751734,1.0270433483644728,1.0170004084765494,1.0005445123121597,1.0180288742922465,1.0225058688501514,1.0231713510751441,1.007683435770035,0.9904410136156142,0.9903200437027813,0.9529916679203079,0.9691451393026151,0.951297719879618,0.9586181720589485,0.9696896516147748,0.9854800655541718,0.984754024520557,0.9782200983312577,0.9833020901577387,0.9940709972270713,0.9960675177542548,0.9923770491863814,0.9851775669198837,0.9814870983520102,0.9715651283769198,0.9814870983520102,0.9710206160647601,0.9615221884889964,0.9426462293980964,0.9523261856953152,0.9413757499045275,0.9734406051390648,0.9769496188376888,0.9760421229348246,0.9831205614362836,0.9868110300041572,0.9776151010626816,0.989715046434205,0.997822024603567,0.991288024562062,0.9918325368742217,0.9867505450477406,0.9933450300456621,0.9851775669198837,0.9835440299834046,0.9625506543046937,0.8668401159568251,0.8595195899252889,0.8758545161768456,0.8652670639767626,0.8600641022374486,0.8662956036446654,0.8662956036446654,0.8655695626110507,0.8859580148733911,0.8909794478912499,0.8790610312411816,0.8797265134661743,0.8782140202947338,0.86665858723537,0.8557686364009989,0.8604270858281532,0.8809969929597431,0.8867444670112168,0.8832355271647984,0.8675660831382342,0.8607295844624412,0.8452416691573323,0.8546796117766795,0.8738580695018676,0.8828119847654716,0.8770645107139979,0.8866839820548003,0.8814205353590698,0.8974529629763384,0.894488461589874,0.9031399520713956,0.9132433769157354,0.9284287935865563,0.9140903878621832,0.9230443031257872,0.9266138017808278,0.920442859182233,0.9232258318472423,0.9129408782814473,0.9009619028227569,0.9116703987878785,0.9229233332129543,0.9215318099543468,0.9209268126857706,0.9244358263843947,0.9353257772187659,0.9362937580780466,0.9377457662930705,0.9434932403445442,0.9448847636031517,0.9444612212038249,0.9391977745080945,0.9330267580572941,0.9228023633001212,0.907979930220005,0.9160868345371612,0.9228023633001212,0.9149978837650474,0.9211688263636422,0.9088268673142471,0.8994494096513164,0.8972109492984668,0.8850505189705269,0.8949724889456172,0.8978764315234595,0.9003569055541807,0.9067093768742305,0.8949119301369951,0.9005989192320523,0.8875914779576645,0.882146502540479,0.8949119301369951,0.8894669547198095,0.8787585326068935,0.8750075790826035,0.8834169820340478,0.8831750422083818,0.9074354179078453,0.907979930220005,0.9097949220257335,0.9164498919800714,0.9168733605271925,0.9312117662515655,0.9342973114030686,0.9306673277916115,0.9356887608094704,0.9176598865172237,0.9436747690659992,0.9450057335159846,0.9502086952552986,0.9549881884474914,0.9453687171066892,0.9384112485180631,0.9423437307638083,0.9537177089539226,0.9587997007804037,0.9506927226110418,0.9474257225902893,0.9522657007388987,0.9609171912204203,0.9601306652303889,0.9629741228518147,0.9545647199003704,0.9580131747903724,0.9429487280323845,0.9295783031672922,0.9404077690452468,0.929396774445837,0.9302437853922848,0.927400327770859,0.9183858536986329,0.916510376936488,0.9193538345579136,0.9019904424906597,0.8982999739227862,0.9145743413657208,0.9064674370485646,0.894488461589874,0.9007804479535074,0.8946699903113291,0.9007804479535074,0.9106418591199756,0.9067699356828526,0.9012039165006285,0.9007199629970909,0.8877125217227031,0.9073143741428067,0.9072538891863902,0.9212898701286808,0.9223788209007946,0.9197773769572404,0.9189908509672091,0.9170548892486476,0.9216528537193854,0.9290337908551325,0.932603289510173,0.9482122485803206,0.9646076597882938,0.972593594192617,0.9834835450269882,0.9893520628435004,0.9895940026691664,1.0004839535035375,0.9992739589663852,1.010405923478628,1.0320648552345373,1.0389012800581245,1.057232726836865,1.064190195425491,1.0702401681112528,1.0691511434869334,1.0770766667870457,1.1251739496388515,1.1153124646201777,1.1303769113781656,1.1539113198962199,1.1479218321668747,1.156089295292653,1.1767196873806594,1.192570586276473,1.1931150985886327,1.1582067857326697,1.1807731395392376,1.175388722930674,1.208240030303037,1.2220339975674561,1.2395788445039595,1.2550062748526518,1.296993173914485,1.313751568713163,1.3357129991033603,1.3386170155334083,1.3881662327480324,1.4331779704483354,1.4435840416313745,1.5294330949605692,1.39070719173517,1.3789097449979346,1.2641417926899168,1.1987416027272733,1.2006775644458347,1.2625083296056432,1.2640812338812946,1.2298989620589462,1.262205830971355,1.234315397808229,1.0,1.022517184166864,1.0487319501436951,1.0521925089624318,1.069732210313463,1.0754207621029865,1.0799241989363593,1.0894051185855653,1.0945721735008296,1.0913013025154066,1.0958047393487793,1.0380184646465396,1.073240104290116,1.0569329687870348,1.053756768117445,0.996871250222209,1.019009290190211,1.0217586643013747,1.0475468351875445,1.0367385636406732,1.0441337272606068,1.050959943114482,1.0457928881992178,1.0210950462194832,1.0129888136258591,1.04617203239808,1.054041242000474,1.0748518143369281,1.0720075384421663,1.080777389117682,1.0552738078484238,1.0759421432433633,1.0753733112111874,1.058497227942048,1.0707276374363002,1.0752785251614718,1.0654183455795212,1.0651813225882911,0.9813226345846172,1.0340838598453426,1.0364067545997275,1.0502488741407916,1.060488313655487,1.081915168915916,1.0605830997052026,1.0639014215824247,1.0705854004947855,1.085517848942285,1.0858971088750295,1.0913013025154066,1.1107845229541953,1.1050959711646717,1.1090780268576677,1.1371888610304575,1.139606541834558,1.1550130362645177,1.1580468842587106,1.1525005694107016,1.1471912775539228,1.143778169626985,1.1377103579047168,1.1594216870481748,1.1740696616126451,1.1743066846038752,1.1854467651916925,1.2216164968001897,1.2278738806218892,1.2196728619785495,1.2339891432359564,1.2622422143502607,1.2948091501985068,1.3035790008740222,1.3063284907190684,1.3140080124881488,1.3215927482075136,1.3297937668508533,1.335719341631607,1.3374732886199336,1.3569566247926048,1.3108793784442403,1.3187484723127518,1.281915122622363,1.3013510079032353,1.2831476884703128,1.2820099086720786,1.3008296267628585,1.2924863711780044,1.2961365020961721,1.3131548223068263,1.2968950219616615,1.2616733823180848,1.271391324958521,1.2545152416893814,1.2568854716016828,1.258592083432093,1.2475942397857904,1.2537093866659754,1.2479260488267363,1.2753732649176346,1.295378097964565,1.2844275894761792,1.3346764636169708,1.3451529261228965,1.3533538290323537,1.3750178230178953,1.3698506523687486,1.3947855173397132,1.3910879355297463,1.3303625988830292,1.3454372842720432,1.324863734926819,1.310120858578751,1.3068973227512444,1.3171367622659398,1.2891680493007822,1.3162361211928182,1.3203128472016472,1.34216641328662,1.3374732886199336,1.315145792286383,1.3192699691870111,1.3055700865874615,1.283337260569744,1.2342735013851032,1.2368807542886346,1.2589238924730386,1.2359326623237141,1.2177766780487083,1.2346053104260488,1.2386821521687603,1.241336855964091,1.2156909220194358,1.1978667467853756,1.2392509842009363,1.2653235132362526,1.2798293665930909,1.2716757988415501,1.2729082489556174,1.2910642332306235,1.2804929846749822,1.2827684285375682,1.2789760606778857,1.3086039345816545,1.3434937651842853,1.3427826962105949,1.3640198636377103,1.3849253377577626,1.4013747102023584,1.4276369270709883,1.420478786442285,1.4464090785360868,1.4704431867000474,1.4633799478549419,1.4538042421560204,1.4909220657294382,1.5308840494637355,1.5592320223616378,1.5544442273791184,1.573927447817907,1.6116615543153,1.5762976777302087,1.6210002370229912,1.6255984599060795,1.640578359245378,1.6375443955173026,1.6120408142480445,1.656411448765999,1.7393694956965513,1.7553922730504858,1.767385659553508,1.7853046208372838,1.8327092190833136,1.908082530294501,1.7767243422611994,1.785778666819744,1.7314055000444417,1.7387532127725764,1.631049988704373,1.689073286397843,1.6684996213187366,1.6977956861815595,1.6855652766873075,1.674567433041005,1.687556246666864,1.653946432803982,1.6309077517628585,1.6390614352482815,1.76349850564411,1.7964447014251008,1.8122777909457217,1.851765844431441,1.8560322582735838,1.8585920602853163,1.8535197914197676,1.8218061614867267,1.8410998098260845,1.873761531724046,1.99976297700877,1.9996208558011377,2.018866937514814,2.026214650242949,2.037876227705025,2.0621000237022993,2.0625740696847594,2.058260204950818,2.0308129888599193,1.9969187011140082,2.0528561270443233,2.093292156761081,2.0945247226090307,2.1056173523050488,2.1732638065892393,2.246029864896895,2.260156342587106,2.255747807537331,2.3152405783360988,2.292533822069803,2.347286133043968,2.4019435422345343,2.415738326617682,2.3314055926315476,2.3315951647309787,2.3443469553656078,2.457549274857786,2.496705287834795,2.490542690062811,2.4959469994370704,2.522493574454847,2.5481392769317375,2.542972222016473,2.5757762965898316,2.5189382295863947,2.5214031298145296,2.5439203139813937,2.4557952121355773,2.465418252992415,2.5388953802737615,2.6464091479764162,2.677790853134629,2.576345012888125,2.6407205961868927,2.646456598868215,2.7516948069744016,2.7730740956091493,2.7783835031998105,2.788907416597535,2.7898555085624555,2.785826117711543,2.7444417645621,2.8040768880362643,2.8181084639428775],\"type\":\"scatter\",\"xaxis\":\"x\",\"yaxis\":\"y\"},{\"name\":\"Normalize EUR/TRY\",\"x\":[\"2021-01-04T00:00:00\",\"2021-01-05T00:00:00\",\"2021-01-06T00:00:00\",\"2021-01-07T00:00:00\",\"2021-01-08T00:00:00\",\"2021-01-11T00:00:00\",\"2021-01-12T00:00:00\",\"2021-01-13T00:00:00\",\"2021-01-14T00:00:00\",\"2021-01-15T00:00:00\",\"2021-01-18T00:00:00\",\"2021-01-19T00:00:00\",\"2021-01-20T00:00:00\",\"2021-01-21T00:00:00\",\"2021-01-25T00:00:00\",\"2021-01-26T00:00:00\",\"2021-01-27T00:00:00\",\"2021-01-28T00:00:00\",\"2021-01-29T00:00:00\",\"2021-02-01T00:00:00\",\"2021-02-02T00:00:00\",\"2021-02-03T00:00:00\",\"2021-02-04T00:00:00\",\"2021-02-05T00:00:00\",\"2021-02-08T00:00:00\",\"2021-02-09T00:00:00\",\"2021-02-10T00:00:00\",\"2021-02-11T00:00:00\",\"2021-02-12T00:00:00\",\"2021-02-16T00:00:00\",\"2021-02-18T00:00:00\",\"2021-02-19T00:00:00\",\"2021-02-22T00:00:00\",\"2021-02-23T00:00:00\",\"2021-02-24T00:00:00\",\"2021-02-25T00:00:00\",\"2021-02-26T00:00:00\",\"2021-03-01T00:00:00\",\"2021-03-02T00:00:00\",\"2021-03-03T00:00:00\",\"2021-03-04T00:00:00\",\"2021-03-05T00:00:00\",\"2021-03-08T00:00:00\",\"2021-03-09T00:00:00\",\"2021-03-10T00:00:00\",\"2021-03-11T00:00:00\",\"2021-03-12T00:00:00\",\"2021-03-15T00:00:00\",\"2021-03-16T00:00:00\",\"2021-03-17T00:00:00\",\"2021-03-18T00:00:00\",\"2021-03-19T00:00:00\",\"2021-03-22T00:00:00\",\"2021-03-23T00:00:00\",\"2021-03-24T00:00:00\",\"2021-03-25T00:00:00\",\"2021-03-26T00:00:00\",\"2021-03-29T00:00:00\",\"2021-03-30T00:00:00\",\"2021-03-31T00:00:00\",\"2021-04-01T00:00:00\",\"2021-04-05T00:00:00\",\"2021-04-06T00:00:00\",\"2021-04-07T00:00:00\",\"2021-04-08T00:00:00\",\"2021-04-09T00:00:00\",\"2021-04-12T00:00:00\",\"2021-04-13T00:00:00\",\"2021-04-14T00:00:00\",\"2021-04-15T00:00:00\",\"2021-04-16T00:00:00\",\"2021-04-19T00:00:00\",\"2021-04-20T00:00:00\",\"2021-04-21T00:00:00\",\"2021-04-22T00:00:00\",\"2021-04-26T00:00:00\",\"2021-04-27T00:00:00\",\"2021-04-28T00:00:00\",\"2021-04-29T00:00:00\",\"2021-04-30T00:00:00\",\"2021-05-03T00:00:00\",\"2021-05-04T00:00:00\",\"2021-05-06T00:00:00\",\"2021-05-07T00:00:00\",\"2021-05-10T00:00:00\",\"2021-05-12T00:00:00\",\"2021-05-17T00:00:00\",\"2021-05-18T00:00:00\",\"2021-05-21T00:00:00\",\"2021-05-24T00:00:00\",\"2021-05-26T00:00:00\",\"2021-05-27T00:00:00\",\"2021-05-28T00:00:00\",\"2021-06-01T00:00:00\",\"2021-06-02T00:00:00\",\"2021-06-03T00:00:00\",\"2021-06-04T00:00:00\",\"2021-06-07T00:00:00\",\"2021-06-08T00:00:00\",\"2021-06-09T00:00:00\",\"2021-06-10T00:00:00\",\"2021-06-11T00:00:00\",\"2021-06-14T00:00:00\",\"2021-06-15T00:00:00\",\"2021-06-16T00:00:00\",\"2021-06-17T00:00:00\",\"2021-06-18T00:00:00\",\"2021-06-21T00:00:00\",\"2021-06-22T00:00:00\",\"2021-06-23T00:00:00\",\"2021-06-24T00:00:00\",\"2021-06-25T00:00:00\",\"2021-06-28T00:00:00\",\"2021-06-29T00:00:00\",\"2021-06-30T00:00:00\",\"2021-07-01T00:00:00\",\"2021-07-02T00:00:00\",\"2021-07-06T00:00:00\",\"2021-07-07T00:00:00\",\"2021-07-08T00:00:00\",\"2021-07-09T00:00:00\",\"2021-07-12T00:00:00\",\"2021-07-13T00:00:00\",\"2021-07-14T00:00:00\",\"2021-07-16T00:00:00\",\"2021-07-19T00:00:00\",\"2021-07-26T00:00:00\",\"2021-07-27T00:00:00\",\"2021-07-28T00:00:00\",\"2021-07-29T00:00:00\",\"2021-07-30T00:00:00\",\"2021-08-02T00:00:00\",\"2021-08-03T00:00:00\",\"2021-08-04T00:00:00\",\"2021-08-05T00:00:00\",\"2021-08-06T00:00:00\",\"2021-08-09T00:00:00\",\"2021-08-10T00:00:00\",\"2021-08-11T00:00:00\",\"2021-08-12T00:00:00\",\"2021-08-13T00:00:00\",\"2021-08-16T00:00:00\",\"2021-08-17T00:00:00\",\"2021-08-18T00:00:00\",\"2021-08-19T00:00:00\",\"2021-08-20T00:00:00\",\"2021-08-23T00:00:00\",\"2021-08-24T00:00:00\",\"2021-08-25T00:00:00\",\"2021-08-26T00:00:00\",\"2021-08-27T00:00:00\",\"2021-08-31T00:00:00\",\"2021-09-01T00:00:00\",\"2021-09-02T00:00:00\",\"2021-09-03T00:00:00\",\"2021-09-06T00:00:00\",\"2021-09-07T00:00:00\",\"2021-09-08T00:00:00\",\"2021-09-09T00:00:00\",\"2021-09-10T00:00:00\",\"2021-09-13T00:00:00\",\"2021-09-14T00:00:00\",\"2021-09-15T00:00:00\",\"2021-09-16T00:00:00\",\"2021-09-17T00:00:00\",\"2021-09-20T00:00:00\",\"2021-09-21T00:00:00\",\"2021-09-22T00:00:00\",\"2021-09-23T00:00:00\",\"2021-09-24T00:00:00\",\"2021-09-27T00:00:00\",\"2021-09-28T00:00:00\",\"2021-09-29T00:00:00\",\"2021-09-30T00:00:00\",\"2021-10-01T00:00:00\",\"2021-10-04T00:00:00\",\"2021-10-05T00:00:00\",\"2021-10-06T00:00:00\",\"2021-10-07T00:00:00\",\"2021-10-08T00:00:00\",\"2021-10-11T00:00:00\",\"2021-10-12T00:00:00\",\"2021-10-13T00:00:00\",\"2021-10-14T00:00:00\",\"2021-10-15T00:00:00\",\"2021-10-18T00:00:00\",\"2021-10-19T00:00:00\",\"2021-10-20T00:00:00\",\"2021-10-21T00:00:00\",\"2021-10-22T00:00:00\",\"2021-10-25T00:00:00\",\"2021-10-26T00:00:00\",\"2021-10-27T00:00:00\",\"2021-10-28T00:00:00\",\"2021-11-01T00:00:00\",\"2021-11-02T00:00:00\",\"2021-11-03T00:00:00\",\"2021-11-04T00:00:00\",\"2021-11-05T00:00:00\",\"2021-11-08T00:00:00\",\"2021-11-09T00:00:00\",\"2021-11-10T00:00:00\",\"2021-11-11T00:00:00\",\"2021-11-12T00:00:00\",\"2021-11-15T00:00:00\",\"2021-11-16T00:00:00\",\"2021-11-17T00:00:00\",\"2021-11-18T00:00:00\",\"2021-11-19T00:00:00\",\"2021-11-22T00:00:00\",\"2021-11-23T00:00:00\",\"2021-11-24T00:00:00\",\"2021-11-25T00:00:00\",\"2021-11-26T00:00:00\",\"2021-11-29T00:00:00\",\"2021-11-30T00:00:00\",\"2021-12-01T00:00:00\",\"2021-12-02T00:00:00\",\"2021-12-03T00:00:00\",\"2021-12-06T00:00:00\",\"2021-12-07T00:00:00\",\"2021-12-08T00:00:00\",\"2021-12-09T00:00:00\",\"2021-12-10T00:00:00\",\"2021-12-13T00:00:00\",\"2021-12-14T00:00:00\",\"2021-12-15T00:00:00\",\"2021-12-16T00:00:00\",\"2021-12-17T00:00:00\",\"2021-12-20T00:00:00\",\"2021-12-21T00:00:00\",\"2021-12-22T00:00:00\",\"2021-12-23T00:00:00\",\"2021-12-24T00:00:00\",\"2021-12-27T00:00:00\",\"2021-12-28T00:00:00\",\"2021-12-29T00:00:00\",\"2021-12-30T00:00:00\",\"2022-01-03T00:00:00\",\"2022-01-04T00:00:00\",\"2022-01-05T00:00:00\",\"2022-01-06T00:00:00\",\"2022-01-07T00:00:00\",\"2022-01-10T00:00:00\",\"2022-01-11T00:00:00\",\"2022-01-12T00:00:00\",\"2022-01-13T00:00:00\",\"2022-01-14T00:00:00\",\"2022-01-17T00:00:00\",\"2022-01-18T00:00:00\",\"2022-01-19T00:00:00\",\"2022-01-20T00:00:00\",\"2022-01-21T00:00:00\",\"2022-01-24T00:00:00\",\"2022-01-25T00:00:00\",\"2022-01-26T00:00:00\",\"2022-01-27T00:00:00\",\"2022-01-28T00:00:00\",\"2022-01-31T00:00:00\",\"2022-02-01T00:00:00\",\"2022-02-02T00:00:00\",\"2022-02-03T00:00:00\",\"2022-02-04T00:00:00\",\"2022-02-07T00:00:00\",\"2022-02-08T00:00:00\",\"2022-02-09T00:00:00\",\"2022-02-10T00:00:00\",\"2022-02-11T00:00:00\",\"2022-02-14T00:00:00\",\"2022-02-15T00:00:00\",\"2022-02-16T00:00:00\",\"2022-02-17T00:00:00\",\"2022-02-18T00:00:00\",\"2022-02-21T00:00:00\",\"2022-02-22T00:00:00\",\"2022-02-23T00:00:00\",\"2022-02-24T00:00:00\",\"2022-02-25T00:00:00\",\"2022-02-28T00:00:00\",\"2022-03-01T00:00:00\",\"2022-03-02T00:00:00\",\"2022-03-03T00:00:00\",\"2022-03-04T00:00:00\",\"2022-03-07T00:00:00\",\"2022-03-08T00:00:00\",\"2022-03-09T00:00:00\",\"2022-03-10T00:00:00\",\"2022-03-11T00:00:00\",\"2022-03-14T00:00:00\",\"2022-03-15T00:00:00\",\"2022-03-16T00:00:00\",\"2022-03-17T00:00:00\",\"2022-03-18T00:00:00\",\"2022-03-21T00:00:00\",\"2022-03-22T00:00:00\",\"2022-03-23T00:00:00\",\"2022-03-24T00:00:00\",\"2022-03-25T00:00:00\",\"2022-03-28T00:00:00\",\"2022-03-29T00:00:00\",\"2022-03-30T00:00:00\",\"2022-03-31T00:00:00\",\"2022-04-01T00:00:00\",\"2022-04-04T00:00:00\",\"2022-04-05T00:00:00\",\"2022-04-06T00:00:00\",\"2022-04-07T00:00:00\",\"2022-04-08T00:00:00\",\"2022-04-11T00:00:00\",\"2022-04-12T00:00:00\",\"2022-04-13T00:00:00\",\"2022-04-14T00:00:00\",\"2022-04-15T00:00:00\",\"2022-04-18T00:00:00\",\"2022-04-19T00:00:00\",\"2022-04-20T00:00:00\",\"2022-04-21T00:00:00\",\"2022-04-22T00:00:00\",\"2022-04-25T00:00:00\",\"2022-04-26T00:00:00\",\"2022-04-27T00:00:00\",\"2022-04-28T00:00:00\",\"2022-04-29T00:00:00\",\"2022-05-05T00:00:00\",\"2022-05-06T00:00:00\",\"2022-05-09T00:00:00\",\"2022-05-10T00:00:00\",\"2022-05-11T00:00:00\",\"2022-05-12T00:00:00\",\"2022-05-13T00:00:00\",\"2022-05-16T00:00:00\",\"2022-05-17T00:00:00\",\"2022-05-18T00:00:00\",\"2022-05-20T00:00:00\",\"2022-05-23T00:00:00\",\"2022-05-24T00:00:00\",\"2022-05-25T00:00:00\",\"2022-05-26T00:00:00\",\"2022-05-27T00:00:00\",\"2022-05-30T00:00:00\",\"2022-05-31T00:00:00\",\"2022-06-01T00:00:00\",\"2022-06-02T00:00:00\",\"2022-06-03T00:00:00\",\"2022-06-06T00:00:00\",\"2022-06-07T00:00:00\",\"2022-06-08T00:00:00\",\"2022-06-09T00:00:00\",\"2022-06-10T00:00:00\",\"2022-06-13T00:00:00\",\"2022-06-14T00:00:00\",\"2022-06-15T00:00:00\",\"2022-06-16T00:00:00\",\"2022-06-17T00:00:00\",\"2022-06-20T00:00:00\",\"2022-06-21T00:00:00\",\"2022-06-22T00:00:00\",\"2022-06-23T00:00:00\",\"2022-06-24T00:00:00\",\"2022-06-27T00:00:00\",\"2022-06-28T00:00:00\",\"2022-06-29T00:00:00\",\"2022-06-30T00:00:00\",\"2022-07-01T00:00:00\",\"2022-07-04T00:00:00\",\"2022-07-05T00:00:00\",\"2022-07-06T00:00:00\",\"2022-07-07T00:00:00\",\"2022-07-08T00:00:00\",\"2022-07-13T00:00:00\",\"2022-07-14T00:00:00\",\"2022-07-18T00:00:00\",\"2022-07-19T00:00:00\",\"2022-07-20T00:00:00\",\"2022-07-21T00:00:00\",\"2022-07-22T00:00:00\",\"2022-07-25T00:00:00\",\"2022-07-26T00:00:00\",\"2022-07-27T00:00:00\",\"2022-07-28T00:00:00\",\"2022-07-29T00:00:00\",\"2022-08-01T00:00:00\",\"2022-08-02T00:00:00\",\"2022-08-03T00:00:00\",\"2022-08-04T00:00:00\",\"2022-08-05T00:00:00\",\"2022-08-08T00:00:00\",\"2022-08-09T00:00:00\",\"2022-08-10T00:00:00\",\"2022-08-11T00:00:00\",\"2022-08-12T00:00:00\",\"2022-08-15T00:00:00\",\"2022-08-16T00:00:00\",\"2022-08-17T00:00:00\",\"2022-08-18T00:00:00\",\"2022-08-19T00:00:00\",\"2022-08-22T00:00:00\",\"2022-08-23T00:00:00\",\"2022-08-24T00:00:00\",\"2022-08-25T00:00:00\",\"2022-08-26T00:00:00\",\"2022-08-29T00:00:00\",\"2022-08-31T00:00:00\",\"2022-09-01T00:00:00\",\"2022-09-02T00:00:00\",\"2022-09-05T00:00:00\",\"2022-09-06T00:00:00\",\"2022-09-07T00:00:00\",\"2022-09-08T00:00:00\",\"2022-09-09T00:00:00\",\"2022-09-12T00:00:00\",\"2022-09-13T00:00:00\",\"2022-09-14T00:00:00\",\"2022-09-15T00:00:00\",\"2022-09-16T00:00:00\",\"2022-09-19T00:00:00\",\"2022-09-20T00:00:00\",\"2022-09-21T00:00:00\",\"2022-09-22T00:00:00\",\"2022-09-23T00:00:00\",\"2022-09-26T00:00:00\",\"2022-09-27T00:00:00\",\"2022-09-28T00:00:00\",\"2022-09-29T00:00:00\",\"2022-09-30T00:00:00\",\"2022-10-03T00:00:00\",\"2022-10-04T00:00:00\",\"2022-10-05T00:00:00\",\"2022-10-06T00:00:00\",\"2022-10-07T00:00:00\",\"2022-10-10T00:00:00\",\"2022-10-11T00:00:00\",\"2022-10-12T00:00:00\",\"2022-10-13T00:00:00\",\"2022-10-14T00:00:00\",\"2022-10-17T00:00:00\",\"2022-10-18T00:00:00\",\"2022-10-19T00:00:00\",\"2022-10-20T00:00:00\",\"2022-10-21T00:00:00\",\"2022-10-24T00:00:00\",\"2022-10-25T00:00:00\",\"2022-10-26T00:00:00\",\"2022-10-27T00:00:00\",\"2022-10-28T00:00:00\",\"2022-10-31T00:00:00\",\"2022-11-01T00:00:00\",\"2022-11-02T00:00:00\",\"2022-11-03T00:00:00\",\"2022-11-04T00:00:00\",\"2022-11-07T00:00:00\",\"2022-11-08T00:00:00\",\"2022-11-09T00:00:00\",\"2022-11-10T00:00:00\",\"2022-11-11T00:00:00\",\"2022-11-14T00:00:00\",\"2022-11-15T00:00:00\",\"2022-11-16T00:00:00\",\"2022-11-17T00:00:00\",\"2022-11-18T00:00:00\",\"2022-11-21T00:00:00\",\"2022-11-22T00:00:00\",\"2022-11-23T00:00:00\",\"2022-11-24T00:00:00\",\"2022-11-25T00:00:00\",\"2022-11-28T00:00:00\",\"2022-11-29T00:00:00\",\"2022-11-30T00:00:00\",\"2022-12-01T00:00:00\",\"2022-12-02T00:00:00\",\"2022-12-05T00:00:00\",\"2022-12-06T00:00:00\",\"2022-12-07T00:00:00\",\"2022-12-08T00:00:00\",\"2022-12-09T00:00:00\",\"2022-12-12T00:00:00\",\"2022-12-13T00:00:00\",\"2022-12-14T00:00:00\",\"2022-12-15T00:00:00\",\"2022-12-16T00:00:00\",\"2022-12-19T00:00:00\",\"2022-12-20T00:00:00\",\"2022-12-21T00:00:00\",\"2022-12-22T00:00:00\",\"2022-12-23T00:00:00\",\"2022-12-27T00:00:00\",\"2022-12-28T00:00:00\",\"2022-12-29T00:00:00\",\"2022-12-30T00:00:00\"],\"y\":[1.002309469307048,1.0004536007670797,0.999677514104034,0.9913525071073918,0.9905115453519936,0.9866137910169622,1.0007485829831164,1.000737560515969,0.9907427022344536,0.9850231965196717,0.9892512049656109,0.9937499461998628,0.9974825734794401,0.9886358363711603,0.9935364252648384,0.9900184736549388,0.9835361082376881,0.9857507843272695,0.9799520218249048,0.9714124441344624,0.9552357663732451,0.9531168282840287,0.9479036212268783,0.9397350282878497,0.9356501019630699,0.9389633506116629,0.9421335171390967,0.940481301801659,0.9384944233664546,0.9292514023202608,0.9232292511503781,0.9270201400420197,0.9314463429448547,0.9395731554846012,0.951143176809401,0.9599437245315399,0.9801831787073648,0.9864101378144317,0.9640297006150956,0.977297076904698,0.9887481605601849,0.9891246040572337,0.98549212376488,1.0117395573671126,0.9956619768343432,0.9830836622052619,0.9844497133003807,0.9938237442418106,0.9885258216514428,0.980173310974871,0.9875703312135904,0.9601627042121991,1.059963480991703,1.0262991867098858,1.0337304290847007,1.029390096449737,1.0267460690207997,1.052271478536947,1.0689698864098018,1.0730458897849864,1.066246602193282,1.0598743564716264,1.0552203559144144,1.0629321988100355,1.0641595767708538,1.0680441041453084,1.0685505077788175,1.0681630418146215,1.0665283574487419,1.0649070050193166,1.0578390841568517,1.0642795641989427,1.071334258100831,1.0732748421740168,1.0852543743973073,1.1188317486524773,1.1007595214695616,1.0919667419623644,1.0931456210677348,1.0923409809659839,1.095437454427347,1.095100586836151,1.099254797240142,1.0991909719065656,1.1025053752898122,1.1087851372633082,1.1294429203113416,1.110889798633172,1.1262827264922792,1.1293273418701117,1.1397295065566884,1.134379830858667,1.139009581988155,1.1422898682111837,1.1592303504577683,1.1531576009148858,1.161821575020276,1.1617984803272057,1.15362757791887,1.152336374624475,1.1502636259213994,1.1285160882880723,1.1168701694037728,1.128257427725683,1.1406507748584453,1.1370612297000273,1.1425881046794257,1.143614033931143,1.150454157139231,1.1350612292801237,1.1330193434850606,1.1420113672079293,1.1497463047966208,1.1407201639135343,1.1430240694990699,1.134858625836369,1.1302101890006695,1.1308552657684792,1.1301771215992278,1.1265413870546688,1.1316433196815703,1.1308629290075434,1.1284753576475661,1.1170264784855088,1.1130021232421001,1.1092827229230995,1.1076546520375083,1.111492990025822,1.113216798911778,1.114975774716728,1.1063172593569723,1.1017744282541315,1.0909386082172177,1.097166722058938,1.1038284912509955,1.1102039912248565,1.114554191592314,1.1173324831686926,1.1093597752172528,1.1147930117138383,1.1058956762325585,1.1045626925388814,1.0963367827706871,1.0860887226724172,1.0889540392513204,1.0953790878394054,1.0922827193539197,1.0893040288272158,1.0880183892543331,1.0849901501134054,1.083695692566805,1.0863463334760306,1.0795381229347307,1.0796702875646205,1.0819477392290027,1.0874118386336005,1.08171101862503,1.0880591198948393,1.1032219406302626,1.099089775160566,1.0997622506324272,1.095330693959835,1.0952436689573104,1.0963642864506165,1.1045075802031452,1.1153775174002767,1.1183738438744162,1.1125067420757384,1.1135569207551796,1.131539918442141,1.1436987494643607,1.1351194908921878,1.1404163637237799,1.1385946123440294,1.1317193222169477,1.1304743083086937,1.1317644618443128,1.1311105671027855,1.1278017274410512,1.1286966467975323,1.140115817786231,1.1438760537216153,1.1471815341552665,1.1674232978003984,1.1722016947725582,1.1790340497657044,1.1939943720332504,1.1913162274440956,1.181927919783313,1.2197530379494097,1.2420608318414512,1.224587492040204,1.2171960355229972,1.2111825973509547,1.2189000039680882,1.218030383798107,1.2235528497906467,1.2321728390033255,1.232612058075175,1.2339626777162875,1.2350942127008635,1.2411208778334826,1.243640508847472,1.2498861536607504,1.26309957234927,1.2577862183048958,1.2877189350659113,1.3368267555798352,1.3810527778821704,1.3789657524597423,1.406178544232321,1.581875095921708,1.4642552937760431,1.4739254616681632,1.5332625515982683,1.5792487044402066,1.6838575863652292,1.6751021782704552,1.7037183925505759,1.7012186019774516,1.7118672500246168,1.678272344797889,1.7053838348485901,1.7123395364979082,1.7246128962025815,1.7143539186130419,1.7796659205681127,1.8374950320165928,1.951888505540312,2.05346463436167,1.6876771336714536,1.5245225749575004,1.4946713194774972,1.4086893572725923,1.3462811980435017,1.4367607467480048,1.4697811189966659,1.5752364214227212,1.0,0.9719194189978676,0.9922307985803313,1.0168787365301895,1.0160972519203884,1.0264339821930504,1.02852095483142,1.029459087959053,0.990392705591134,1.0181532715650543,1.009031870093864,1.0088462149166182,1.0072372243088112,0.9991928363345703,0.9903834761995023,1.002814399382899,1.0030612699128048,1.0043694576953883,1.0028842162774196,0.9943974453546243,0.989812007338057,0.9817288182479764,0.9907462477971106,0.9994054890519638,1.0206629126691733,1.0221415616645477,1.0221066532172873,1.0207754861330902,1.0175350906806564,1.0136672849521926,1.0103906625679797,1.0118305104475143,1.0168234229653759,1.0173533909569668,1.0120662052514988,1.013783813869666,1.0166265292772312,1.0264089309871927,1.0273352605391333,1.0306869109709653,1.0328581410485858,1.0179136213075135,1.0146909940035953,1.0229539364830758,1.0270811069518855,1.0192915631996404,1.027963298664934,1.038888575312809,1.0662884415933647,1.0779820180058524,1.0615087468576905,1.0654930815036274,1.0615779359024402,1.05630588137645,1.0744195984059397,1.0770004376740754,1.074984537629768,1.0761484455350054,1.0743038229081914,1.0737672624940064,1.0718567156412508,1.072823102008573,1.0637972592725091,1.0766606453780807,1.069137121573753,1.0674576234366777,1.0607266971830955,1.0565468501185098,1.05496680338514,1.0537284324970773,1.0562360644819295,1.0500759164550446,1.0387075662238672,1.04649780061086,1.0414956587013668,1.0412237369656032,1.0393771052195224,1.040697724427569,1.04772826059181,1.0488171404494286,1.0488474655933617,1.0419315120123043,1.036959632461767,1.0287862213596124,1.022489829932449,1.0294130037858713,1.031389349294614,1.0358483383673283,1.0497493717892155,1.0624021770816374,1.0578562936006348,1.0528962804107669,1.0599597159030014,1.0710548259138966,1.1030795591766303,1.1074930919259336,1.1068334729566582,1.1200419252962996,1.1326288063627803,1.1479920391160452,1.1553721620327064,1.1517611468605282,1.1617752251359406,1.1573017955184963,1.1491638579283958,1.1660636902108865,1.1613295773685774,1.168359987962864,1.1858648162845646,1.2119256045738103,1.2061070696072556,1.1878003515582007,1.1833624582377877,1.185446166057349,1.185243998431129,1.2008659052899922,1.1972417052726259,1.1991061679521995,1.2026152203215885,1.205991168539553,1.2002550074629363,1.1477707848567908,1.1504483129896403,1.1479071538270238,1.1350554457271904,1.151569527110459,1.149373308611958,1.1524595669456434,1.1446634307708043,1.1525202172335094,1.1542976599348405,1.1371787080823164,1.1474989259060044,1.1430399368332902,1.164571165735576,1.1811273130534927,1.1798192508408636,1.1926411988615577,1.1916122786570569,1.1992997968215358,1.1917676086903701,1.199006842118448,1.203853591209651,1.2027719316243974,1.2069385938437949,1.1993234039729204,1.1986051438350458,1.2100611418942366,1.1981193136823471,1.203401288234717,1.2020944817216295,1.2104482740629545,1.2192121778746117,1.2104133656156943,1.2009324573657043,1.1987914896470397,1.201903489821331,1.199199717568059,1.1940777191373069,1.1832794564980786,1.187449509106239,1.1904870462977049,1.1917946062305174,1.1886391588520822,1.1978348977361433,1.2016316308705444,1.1922896029898709,1.188140771703966,1.1931034218628718,1.187745728628135,1.1989528470381532,1.2021371755060486,1.2070090385880865,1.214830791033577,1.1983570176055982,1.1981424185539151,1.2011450472981207,1.2043762133589229,1.2077910882626812,1.2018785014004503,1.1867253471805181,1.1872980717415051,1.1748072516899675,1.1674172087469268,1.1619161146245236,1.1832696620416532,1.194626083127184,1.1892368718339499,1.1967625303274985,1.2185932435704887,1.2101730247234055,1.1968638652805166,1.1849425049711575,1.18720916821395,1.1864533626597775,1.183099765893656,1.191812311594056,1.1914462751776391,1.202016126070225,1.2060715333102243,1.1956452088752592,1.1962410383078144,1.2042972298577475,1.2065244641349295,1.2205413358395423,1.2350105105190892,1.220847475387818,1.2166617265353863,1.2116095449991546,1.2072098249448104,1.2026836559466132,1.1944082192566925,1.2157281139261034,1.216455038390816,1.2305712359291803,1.2263038666065353,1.2401548604016845,1.258172516416231,1.2611482731902435,1.2683144249049922,1.2730617225924896,1.2677594057075436,1.2655875477801524,1.2528234875083324,1.2627644840704153,1.2754383851151385,1.2754996632527753,1.2694876249868388,1.26538801712297,1.266028549459211,1.2777537695001506,1.2908529759796608,1.2929892976100208,1.2869898163395015,1.283447864642119,1.2891643112359303,1.2953869303150167,1.2908286154085509,1.2920807989915728,1.299743328735171,1.3081062876831508,1.3042884587964485,1.297076348478472,1.30181975349739,1.3035163291482332,1.3025189270022302,1.30298102443359,1.3045347014765833,1.3038842491139626,1.3079745648012224,1.3125863725081663],\"type\":\"scatter\",\"xaxis\":\"x2\",\"yaxis\":\"y2\"}],                        {\"template\":{\"data\":{\"histogram2dcontour\":[{\"type\":\"histogram2dcontour\",\"colorbar\":{\"outlinewidth\":0,\"ticks\":\"\"},\"colorscale\":[[0.0,\"#0d0887\"],[0.1111111111111111,\"#46039f\"],[0.2222222222222222,\"#7201a8\"],[0.3333333333333333,\"#9c179e\"],[0.4444444444444444,\"#bd3786\"],[0.5555555555555556,\"#d8576b\"],[0.6666666666666666,\"#ed7953\"],[0.7777777777777778,\"#fb9f3a\"],[0.8888888888888888,\"#fdca26\"],[1.0,\"#f0f921\"]]}],\"choropleth\":[{\"type\":\"choropleth\",\"colorbar\":{\"outlinewidth\":0,\"ticks\":\"\"}}],\"histogram2d\":[{\"type\":\"histogram2d\",\"colorbar\":{\"outlinewidth\":0,\"ticks\":\"\"},\"colorscale\":[[0.0,\"#0d0887\"],[0.1111111111111111,\"#46039f\"],[0.2222222222222222,\"#7201a8\"],[0.3333333333333333,\"#9c179e\"],[0.4444444444444444,\"#bd3786\"],[0.5555555555555556,\"#d8576b\"],[0.6666666666666666,\"#ed7953\"],[0.7777777777777778,\"#fb9f3a\"],[0.8888888888888888,\"#fdca26\"],[1.0,\"#f0f921\"]]}],\"heatmap\":[{\"type\":\"heatmap\",\"colorbar\":{\"outlinewidth\":0,\"ticks\":\"\"},\"colorscale\":[[0.0,\"#0d0887\"],[0.1111111111111111,\"#46039f\"],[0.2222222222222222,\"#7201a8\"],[0.3333333333333333,\"#9c179e\"],[0.4444444444444444,\"#bd3786\"],[0.5555555555555556,\"#d8576b\"],[0.6666666666666666,\"#ed7953\"],[0.7777777777777778,\"#fb9f3a\"],[0.8888888888888888,\"#fdca26\"],[1.0,\"#f0f921\"]]}],\"heatmapgl\":[{\"type\":\"heatmapgl\",\"colorbar\":{\"outlinewidth\":0,\"ticks\":\"\"},\"colorscale\":[[0.0,\"#0d0887\"],[0.1111111111111111,\"#46039f\"],[0.2222222222222222,\"#7201a8\"],[0.3333333333333333,\"#9c179e\"],[0.4444444444444444,\"#bd3786\"],[0.5555555555555556,\"#d8576b\"],[0.6666666666666666,\"#ed7953\"],[0.7777777777777778,\"#fb9f3a\"],[0.8888888888888888,\"#fdca26\"],[1.0,\"#f0f921\"]]}],\"contourcarpet\":[{\"type\":\"contourcarpet\",\"colorbar\":{\"outlinewidth\":0,\"ticks\":\"\"}}],\"contour\":[{\"type\":\"contour\",\"colorbar\":{\"outlinewidth\":0,\"ticks\":\"\"},\"colorscale\":[[0.0,\"#0d0887\"],[0.1111111111111111,\"#46039f\"],[0.2222222222222222,\"#7201a8\"],[0.3333333333333333,\"#9c179e\"],[0.4444444444444444,\"#bd3786\"],[0.5555555555555556,\"#d8576b\"],[0.6666666666666666,\"#ed7953\"],[0.7777777777777778,\"#fb9f3a\"],[0.8888888888888888,\"#fdca26\"],[1.0,\"#f0f921\"]]}],\"surface\":[{\"type\":\"surface\",\"colorbar\":{\"outlinewidth\":0,\"ticks\":\"\"},\"colorscale\":[[0.0,\"#0d0887\"],[0.1111111111111111,\"#46039f\"],[0.2222222222222222,\"#7201a8\"],[0.3333333333333333,\"#9c179e\"],[0.4444444444444444,\"#bd3786\"],[0.5555555555555556,\"#d8576b\"],[0.6666666666666666,\"#ed7953\"],[0.7777777777777778,\"#fb9f3a\"],[0.8888888888888888,\"#fdca26\"],[1.0,\"#f0f921\"]]}],\"mesh3d\":[{\"type\":\"mesh3d\",\"colorbar\":{\"outlinewidth\":0,\"ticks\":\"\"}}],\"scatter\":[{\"fillpattern\":{\"fillmode\":\"overlay\",\"size\":10,\"solidity\":0.2},\"type\":\"scatter\"}],\"parcoords\":[{\"type\":\"parcoords\",\"line\":{\"colorbar\":{\"outlinewidth\":0,\"ticks\":\"\"}}}],\"scatterpolargl\":[{\"type\":\"scatterpolargl\",\"marker\":{\"colorbar\":{\"outlinewidth\":0,\"ticks\":\"\"}}}],\"bar\":[{\"error_x\":{\"color\":\"#2a3f5f\"},\"error_y\":{\"color\":\"#2a3f5f\"},\"marker\":{\"line\":{\"color\":\"#E5ECF6\",\"width\":0.5},\"pattern\":{\"fillmode\":\"overlay\",\"size\":10,\"solidity\":0.2}},\"type\":\"bar\"}],\"scattergeo\":[{\"type\":\"scattergeo\",\"marker\":{\"colorbar\":{\"outlinewidth\":0,\"ticks\":\"\"}}}],\"scatterpolar\":[{\"type\":\"scatterpolar\",\"marker\":{\"colorbar\":{\"outlinewidth\":0,\"ticks\":\"\"}}}],\"histogram\":[{\"marker\":{\"pattern\":{\"fillmode\":\"overlay\",\"size\":10,\"solidity\":0.2}},\"type\":\"histogram\"}],\"scattergl\":[{\"type\":\"scattergl\",\"marker\":{\"colorbar\":{\"outlinewidth\":0,\"ticks\":\"\"}}}],\"scatter3d\":[{\"type\":\"scatter3d\",\"line\":{\"colorbar\":{\"outlinewidth\":0,\"ticks\":\"\"}},\"marker\":{\"colorbar\":{\"outlinewidth\":0,\"ticks\":\"\"}}}],\"scattermapbox\":[{\"type\":\"scattermapbox\",\"marker\":{\"colorbar\":{\"outlinewidth\":0,\"ticks\":\"\"}}}],\"scatterternary\":[{\"type\":\"scatterternary\",\"marker\":{\"colorbar\":{\"outlinewidth\":0,\"ticks\":\"\"}}}],\"scattercarpet\":[{\"type\":\"scattercarpet\",\"marker\":{\"colorbar\":{\"outlinewidth\":0,\"ticks\":\"\"}}}],\"carpet\":[{\"aaxis\":{\"endlinecolor\":\"#2a3f5f\",\"gridcolor\":\"white\",\"linecolor\":\"white\",\"minorgridcolor\":\"white\",\"startlinecolor\":\"#2a3f5f\"},\"baxis\":{\"endlinecolor\":\"#2a3f5f\",\"gridcolor\":\"white\",\"linecolor\":\"white\",\"minorgridcolor\":\"white\",\"startlinecolor\":\"#2a3f5f\"},\"type\":\"carpet\"}],\"table\":[{\"cells\":{\"fill\":{\"color\":\"#EBF0F8\"},\"line\":{\"color\":\"white\"}},\"header\":{\"fill\":{\"color\":\"#C8D4E3\"},\"line\":{\"color\":\"white\"}},\"type\":\"table\"}],\"barpolar\":[{\"marker\":{\"line\":{\"color\":\"#E5ECF6\",\"width\":0.5},\"pattern\":{\"fillmode\":\"overlay\",\"size\":10,\"solidity\":0.2}},\"type\":\"barpolar\"}],\"pie\":[{\"automargin\":true,\"type\":\"pie\"}]},\"layout\":{\"autotypenumbers\":\"strict\",\"colorway\":[\"#636efa\",\"#EF553B\",\"#00cc96\",\"#ab63fa\",\"#FFA15A\",\"#19d3f3\",\"#FF6692\",\"#B6E880\",\"#FF97FF\",\"#FECB52\"],\"font\":{\"color\":\"#2a3f5f\"},\"hovermode\":\"closest\",\"hoverlabel\":{\"align\":\"left\"},\"paper_bgcolor\":\"white\",\"plot_bgcolor\":\"#E5ECF6\",\"polar\":{\"bgcolor\":\"#E5ECF6\",\"angularaxis\":{\"gridcolor\":\"white\",\"linecolor\":\"white\",\"ticks\":\"\"},\"radialaxis\":{\"gridcolor\":\"white\",\"linecolor\":\"white\",\"ticks\":\"\"}},\"ternary\":{\"bgcolor\":\"#E5ECF6\",\"aaxis\":{\"gridcolor\":\"white\",\"linecolor\":\"white\",\"ticks\":\"\"},\"baxis\":{\"gridcolor\":\"white\",\"linecolor\":\"white\",\"ticks\":\"\"},\"caxis\":{\"gridcolor\":\"white\",\"linecolor\":\"white\",\"ticks\":\"\"}},\"coloraxis\":{\"colorbar\":{\"outlinewidth\":0,\"ticks\":\"\"}},\"colorscale\":{\"sequential\":[[0.0,\"#0d0887\"],[0.1111111111111111,\"#46039f\"],[0.2222222222222222,\"#7201a8\"],[0.3333333333333333,\"#9c179e\"],[0.4444444444444444,\"#bd3786\"],[0.5555555555555556,\"#d8576b\"],[0.6666666666666666,\"#ed7953\"],[0.7777777777777778,\"#fb9f3a\"],[0.8888888888888888,\"#fdca26\"],[1.0,\"#f0f921\"]],\"sequentialminus\":[[0.0,\"#0d0887\"],[0.1111111111111111,\"#46039f\"],[0.2222222222222222,\"#7201a8\"],[0.3333333333333333,\"#9c179e\"],[0.4444444444444444,\"#bd3786\"],[0.5555555555555556,\"#d8576b\"],[0.6666666666666666,\"#ed7953\"],[0.7777777777777778,\"#fb9f3a\"],[0.8888888888888888,\"#fdca26\"],[1.0,\"#f0f921\"]],\"diverging\":[[0,\"#8e0152\"],[0.1,\"#c51b7d\"],[0.2,\"#de77ae\"],[0.3,\"#f1b6da\"],[0.4,\"#fde0ef\"],[0.5,\"#f7f7f7\"],[0.6,\"#e6f5d0\"],[0.7,\"#b8e186\"],[0.8,\"#7fbc41\"],[0.9,\"#4d9221\"],[1,\"#276419\"]]},\"xaxis\":{\"gridcolor\":\"white\",\"linecolor\":\"white\",\"ticks\":\"\",\"title\":{\"standoff\":15},\"zerolinecolor\":\"white\",\"automargin\":true,\"zerolinewidth\":2},\"yaxis\":{\"gridcolor\":\"white\",\"linecolor\":\"white\",\"ticks\":\"\",\"title\":{\"standoff\":15},\"zerolinecolor\":\"white\",\"automargin\":true,\"zerolinewidth\":2},\"scene\":{\"xaxis\":{\"backgroundcolor\":\"#E5ECF6\",\"gridcolor\":\"white\",\"linecolor\":\"white\",\"showbackground\":true,\"ticks\":\"\",\"zerolinecolor\":\"white\",\"gridwidth\":2},\"yaxis\":{\"backgroundcolor\":\"#E5ECF6\",\"gridcolor\":\"white\",\"linecolor\":\"white\",\"showbackground\":true,\"ticks\":\"\",\"zerolinecolor\":\"white\",\"gridwidth\":2},\"zaxis\":{\"backgroundcolor\":\"#E5ECF6\",\"gridcolor\":\"white\",\"linecolor\":\"white\",\"showbackground\":true,\"ticks\":\"\",\"zerolinecolor\":\"white\",\"gridwidth\":2}},\"shapedefaults\":{\"line\":{\"color\":\"#2a3f5f\"}},\"annotationdefaults\":{\"arrowcolor\":\"#2a3f5f\",\"arrowhead\":0,\"arrowwidth\":1},\"geo\":{\"bgcolor\":\"white\",\"landcolor\":\"#E5ECF6\",\"subunitcolor\":\"white\",\"showland\":true,\"showlakes\":true,\"lakecolor\":\"white\"},\"title\":{\"x\":0.05},\"mapbox\":{\"style\":\"light\"}}},\"xaxis\":{\"anchor\":\"y\",\"domain\":[0.0,0.45]},\"yaxis\":{\"anchor\":\"x\",\"domain\":[0.0,1.0]},\"xaxis2\":{\"anchor\":\"y2\",\"domain\":[0.55,1.0]},\"yaxis2\":{\"anchor\":\"x2\",\"domain\":[0.0,1.0]}},                        {\"responsive\": true}                    ).then(function(){\n",
       "                            \n",
       "var gd = document.getElementById('eb575c6f-2dd0-45b4-b4ac-4634fe02af4d');\n",
       "var x = new MutationObserver(function (mutations, observer) {{\n",
       "        var display = window.getComputedStyle(gd).display;\n",
       "        if (!display || display === 'none') {{\n",
       "            console.log([gd, 'removed!']);\n",
       "            Plotly.purge(gd);\n",
       "            observer.disconnect();\n",
       "        }}\n",
       "}});\n",
       "\n",
       "// Listen for the removal of the full notebook cells\n",
       "var notebookContainer = gd.closest('#notebook-container');\n",
       "if (notebookContainer) {{\n",
       "    x.observe(notebookContainer, {childList: true});\n",
       "}}\n",
       "\n",
       "// Listen for the clearing of the current output cell\n",
       "var outputEl = gd.closest('.output');\n",
       "if (outputEl) {{\n",
       "    x.observe(outputEl, {childList: true});\n",
       "}}\n",
       "\n",
       "                        })                };                });            </script>        </div>"
      ]
     },
     "metadata": {},
     "output_type": "display_data"
    }
   ],
   "source": [
    "from plotly.subplots import make_subplots\n",
    "fig = make_subplots(rows=1, cols=2)\n",
    "fig.add_trace(go.Scatter(x=B30K.index, y=B30K[\"Normalize (TRY)\"], name=\"Normalize BIST30\"), row=1, col=1)\n",
    "fig.add_trace(go.Scatter(x=B30K.index, y=B30K[\"Normalize(EUR/TRY)\"], name=\"Normalize EUR/TRY\"), row=1, col=2)"
   ]
  },
  {
   "cell_type": "code",
   "execution_count": null,
   "id": "fe2ae24b",
   "metadata": {},
   "outputs": [],
   "source": []
  }
 ],
 "metadata": {
  "colab": {
   "provenance": []
  },
  "kernelspec": {
   "display_name": "Python 3",
   "language": "python",
   "name": "python3"
  },
  "language_info": {
   "codemirror_mode": {
    "name": "ipython",
    "version": 3
   },
   "file_extension": ".py",
   "mimetype": "text/x-python",
   "name": "python",
   "nbconvert_exporter": "python",
   "pygments_lexer": "ipython3",
   "version": "3.8.8"
  }
 },
 "nbformat": 4,
 "nbformat_minor": 5
}
